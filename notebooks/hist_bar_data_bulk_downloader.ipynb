{
 "cells": [
  {
   "cell_type": "code",
   "execution_count": 1,
   "metadata": {},
   "outputs": [],
   "source": [
    "import sys\n",
    "sys.path.append('../')\n",
    "\n",
    "import time\n",
    "\n",
    "import numpy as np\n",
    "import pandas as pd\n",
    "import matplotlib.pyplot as plt\n",
    "\n",
    "from ib_historical_data import *\n",
    "\n",
    "from yahoo_fin import stock_info as si"
   ]
  },
  {
   "cell_type": "code",
   "execution_count": 2,
   "metadata": {},
   "outputs": [],
   "source": [
    "sp500   = si.tickers_sp500()\n",
    "dow     = si.tickers_dow()\n",
    "nasdaq  = si.tickers_nasdaq()\n",
    "other   = si.tickers_other()"
   ]
  },
  {
   "cell_type": "code",
   "execution_count": null,
   "metadata": {},
   "outputs": [],
   "source": [
    "for stock in sp500:\n",
    "    if \"-\" in stock or \".\" in stock:\n",
    "        print(stock)"
   ]
  },
  {
   "cell_type": "code",
   "execution_count": null,
   "metadata": {},
   "outputs": [],
   "source": [
    "sp500[89]"
   ]
  },
  {
   "cell_type": "code",
   "execution_count": 5,
   "metadata": {},
   "outputs": [
    {
     "data": {
      "text/plain": [
       "'PNR'"
      ]
     },
     "execution_count": 5,
     "metadata": {},
     "output_type": "execute_result"
    }
   ],
   "source": [
    "sp500[376]"
   ]
  },
  {
   "attachments": {},
   "cell_type": "markdown",
   "metadata": {},
   "source": [
    "## Download Dow data since Jan 2022"
   ]
  },
  {
   "cell_type": "code",
   "execution_count": null,
   "metadata": {},
   "outputs": [],
   "source": [
    "durationStr = \"30 D\"\n",
    "barSizeSetting = \"1 min\"\n",
    "whatToShow = \"TRADES\"\n",
    "\n",
    "dataDir = \"../data/dow/trade_1_min_bars\"\n",
    "\n",
    "bdays = pd.bdate_range(start=\"2022-01-01\", end=\"2023-04-12\", freq=durationStr)\n",
    "\n",
    "for stock in dow:\n",
    "    print(f\"Processing {stock}\")\n",
    "    stock_df = pd.DataFrame()\n",
    "    for bday in bdays:\n",
    "        start_time = time.time()\n",
    "\n",
    "        endDateTime = (str(bday.replace(hour=23, minute=59, second=59)) + \" US/Eastern\").replace(\"-\",\"\")\n",
    "\n",
    "        print(f\"processing {endDateTime}\")\n",
    "\n",
    "        dloader = HistoricalBarsDataLoader()\n",
    "\n",
    "        dloader.fetch(\n",
    "            stock, endDateTime, \"30 D\", barSizeSetting, whatToShow, useRTH=0\n",
    "        )\n",
    "\n",
    "        df = dloader.bars_to_df()\n",
    "\n",
    "        if stock_df.empty:\n",
    "            stock_df = df\n",
    "        else:\n",
    "            stock_df = pd.concat([stock_df, df])\n",
    "\n",
    "        stock_df.to_csv(f\"{dataDir}/{stock}.csv\", index=False)\n",
    "\n",
    "        end_time = time.time()\n",
    "        print(f\"processing {stock} for {endDateTime} took {end_time - start_time : 6.2f} sec\")"
   ]
  },
  {
   "attachments": {},
   "cell_type": "markdown",
   "metadata": {},
   "source": [
    "## Download SP500 data since Jan 2022"
   ]
  },
  {
   "attachments": {},
   "cell_type": "markdown",
   "metadata": {},
   "source": [
    "### skipped 89th stock (CEG), because service wasn't working. Need to download it later"
   ]
  },
  {
   "attachments": {},
   "cell_type": "markdown",
   "metadata": {},
   "source": [
    "### FAST (179) wont download complitely"
   ]
  },
  {
   "attachments": {},
   "cell_type": "markdown",
   "metadata": {},
   "source": [
    "### stock 200 (GEHC) didn't want to download"
   ]
  },
  {
   "attachments": {},
   "cell_type": "markdown",
   "metadata": {},
   "source": [
    "### skipping 277 (LIN) because it says no data"
   ]
  },
  {
   "cell_type": "code",
   "execution_count": 7,
   "metadata": {},
   "outputs": [],
   "source": [
    "durationStr = \"30 D\"\n",
    "barSizeSetting = \"1 min\"\n",
    "whatToShow = \"TRADES\"\n",
    "\n",
    "dataDir = \"../data/sp500/trade_1_min_bars\"\n",
    "\n",
    "bdays = pd.bdate_range(start=\"2022-01-01\", end=\"2023-04-17\", freq=durationStr)\n",
    "\n",
    "for stock in sp500[377:]:\n",
    "    stock = stock.replace(\"-\",\" \")\n",
    "    print(f\"Processing {stock}\")\n",
    "    stock_df = pd.DataFrame()\n",
    "    for bday in bdays:\n",
    "        start_time = time.time()\n",
    "\n",
    "        endDateTime = (str(bday.replace(hour=23, minute=59, second=59)) + \" US/Eastern\").replace(\"-\",\"\")\n",
    "\n",
    "        print(f\"processing {endDateTime}\")\n",
    "\n",
    "        dloader = HistoricalBarsDataLoader()\n",
    "\n",
    "        dloader.fetch(\n",
    "            stock, endDateTime, \"30 D\", barSizeSetting, whatToShow, useRTH=0\n",
    "        )\n",
    "\n",
    "        df = dloader.bars_to_df()\n",
    "\n",
    "        if stock_df.empty:\n",
    "            stock_df = df\n",
    "        else:\n",
    "            stock_df = pd.concat([stock_df, df])\n",
    "\n",
    "        stock_df.to_csv(f\"{dataDir}/{stock}.csv\", index=False)\n",
    "\n",
    "        end_time = time.time()\n",
    "        print(f\"processing {stock} for {endDateTime} took {end_time - start_time : 6.2f} sec\")"
   ]
  },
  {
   "cell_type": "code",
   "execution_count": null,
   "metadata": {},
   "outputs": [],
   "source": []
  }
 ],
 "metadata": {
  "kernelspec": {
   "display_name": "ib",
   "language": "python",
   "name": "python3"
  },
  "language_info": {
   "codemirror_mode": {
    "name": "ipython",
    "version": 3
   },
   "file_extension": ".py",
   "mimetype": "text/x-python",
   "name": "python",
   "nbconvert_exporter": "python",
   "pygments_lexer": "ipython3",
   "version": "3.9.13"
  },
  "orig_nbformat": 4
 },
 "nbformat": 4,
 "nbformat_minor": 2
}
