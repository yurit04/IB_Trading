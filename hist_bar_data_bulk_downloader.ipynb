{
 "cells": [
  {
   "cell_type": "code",
   "execution_count": null,
   "metadata": {},
   "outputs": [],
   "source": [
    "import numpy as np\n",
    "import pandas as pd\n",
    "import matplotlib.pyplot as plt\n",
    "\n",
    "import time\n",
    "\n",
    "from ib_historical_data import *\n",
    "\n",
    "from yahoo_fin import stock_info as si"
   ]
  },
  {
   "cell_type": "code",
   "execution_count": null,
   "metadata": {},
   "outputs": [],
   "source": [
    "sp500   = si.tickers_sp500()\n",
    "dow     = si.tickers_dow()\n",
    "nasdaq  = si.tickers_nasdaq()\n",
    "other   = si.tickers_other()"
   ]
  },
  {
   "attachments": {},
   "cell_type": "markdown",
   "metadata": {},
   "source": [
    "## Download Dow data since Jan 2022"
   ]
  },
  {
   "cell_type": "code",
   "execution_count": null,
   "metadata": {},
   "outputs": [],
   "source": [
    "durationStr = \"30 D\"\n",
    "barSizeSetting = \"1 min\"\n",
    "whatToShow = \"TRADES\"\n",
    "\n",
    "bdays = pd.bdate_range(start=\"2022-01-01\", end=\"2023-04-12\", freq=durationStr)\n",
    "\n",
    "for stock in dow:\n",
    "    print(f\"Processing {stock}\")\n",
    "    stock_df = pd.DataFrame()\n",
    "    for bday in bdays:\n",
    "        start_time = time.time()\n",
    "\n",
    "        endDateTime = (str(bday.replace(hour=23, minute=59, second=59)) + \" US/Eastern\").replace(\"-\",\"\")\n",
    "\n",
    "        print(f\"processing {endDateTime}\")\n",
    "\n",
    "        dloader = HistoricalBarsDataLoader()\n",
    "\n",
    "        dloader.fetch(\n",
    "            stock, endDateTime, \"30 D\", barSizeSetting, whatToShow, useRTH=0\n",
    "        )\n",
    "\n",
    "        df = dloader.bars_to_df()\n",
    "\n",
    "        if stock_df.empty:\n",
    "            stock_df = df\n",
    "        else:\n",
    "            stock_df = pd.concat([stock_df, df])\n",
    "\n",
    "        stock_df.to_csv(f\"data/dow/trade_1_min_bars/{stock}.csv\", index=False)\n",
    "\n",
    "        end_time = time.time()\n",
    "        print(f\"processing {stock} for {endDateTime} took {end_time - start_time : 6.2f} sec\")\n",
    "\n",
    "    stock_df.to_csv(f\"data/dow/trade_1_min_bars/{stock}.csv\", index=False)"
   ]
  },
  {
   "attachments": {},
   "cell_type": "markdown",
   "metadata": {},
   "source": [
    "## Download SP500 data since Jan 2010"
   ]
  },
  {
   "cell_type": "code",
   "execution_count": null,
   "metadata": {},
   "outputs": [],
   "source": [
    "durationStr = \"30 D\"\n",
    "barSizeSetting = \"1 min\"\n",
    "whatToShow = \"TRADES\"\n",
    "\n",
    "bdays = pd.bdate_range(start=\"2010-01-01\", end=\"2023-04-10\", freq=durationStr)\n",
    "\n",
    "for stock in sp500:\n",
    "    print(f\"Processing {stock}\")\n",
    "    stock_df = pd.DataFrame()\n",
    "    for bday in bdays:\n",
    "        start_time = time.time()\n",
    "\n",
    "        endDateTime = (str(bday.replace(hour=23, minute=59, second=59)) + \" US/Eastern\").replace(\"-\",\"\")\n",
    "\n",
    "        print(f\"processing {endDateTime}\")\n",
    "\n",
    "        dloader = HistoricalBarsDataLoader()\n",
    "\n",
    "        dloader.fetch(\n",
    "            stock, endDateTime, \"30 D\", barSizeSetting, whatToShow, useRTH=0\n",
    "        )\n",
    "\n",
    "        df = dloader.bars_to_df()\n",
    "\n",
    "        if stock_df.empty:\n",
    "            stock_df = df\n",
    "        else:\n",
    "            stock_df = pd.concat([stock_df, df])\n",
    "\n",
    "        stock_df.to_csv(f\"data/sp500/trade_1_min_bars/{stock}.csv\", index=False)\n",
    "\n",
    "        end_time = time.time()\n",
    "        print(f\"processing {stock} for {endDateTime} took {end_time - start_time : 6.2f} sec\")\n",
    "\n",
    "    stock_df.to_csv(f\"data/sp500/trade_1_min_bars/{stock}.csv\", index=False)"
   ]
  }
 ],
 "metadata": {
  "kernelspec": {
   "display_name": "ib",
   "language": "python",
   "name": "python3"
  },
  "language_info": {
   "codemirror_mode": {
    "name": "ipython",
    "version": 3
   },
   "file_extension": ".py",
   "mimetype": "text/x-python",
   "name": "python",
   "nbconvert_exporter": "python",
   "pygments_lexer": "ipython3",
   "version": "3.9.13"
  },
  "orig_nbformat": 4
 },
 "nbformat": 4,
 "nbformat_minor": 2
}
