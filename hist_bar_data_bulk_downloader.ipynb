{
 "cells": [
  {
   "cell_type": "code",
   "execution_count": 1,
   "metadata": {},
   "outputs": [],
   "source": [
    "import numpy as np\n",
    "import pandas as pd\n",
    "import matplotlib.pyplot as plt\n",
    "\n",
    "import time\n",
    "\n",
    "from ib_historical_data import *\n",
    "\n",
    "from yahoo_fin import stock_info as si"
   ]
  },
  {
   "cell_type": "code",
   "execution_count": 2,
   "metadata": {},
   "outputs": [],
   "source": [
    "sp500   = si.tickers_sp500()\n",
    "dow     = si.tickers_dow()\n",
    "nasdaq  = si.tickers_nasdaq()\n",
    "other   = si.tickers_other()"
   ]
  },
  {
   "attachments": {},
   "cell_type": "markdown",
   "metadata": {},
   "source": [
    "## Download Dow data since Jan 2020"
   ]
  },
  {
   "cell_type": "code",
   "execution_count": 5,
   "metadata": {},
   "outputs": [
    {
     "name": "stderr",
     "output_type": "stream",
     "text": [
      "ERROR -1 2104 Market data farm connection is OK:usfarm.nj\n",
      "ERROR -1 2104 Market data farm connection is OK:cashfarm\n",
      "ERROR -1 2104 Market data farm connection is OK:usfarm\n",
      "ERROR -1 2106 HMDS data farm connection is OK:ushmds\n",
      "ERROR -1 2158 Sec-def data farm connection is OK:secdefnj\n"
     ]
    },
    {
     "name": "stdout",
     "output_type": "stream",
     "text": [
      "Processing AAPL\n",
      "processing 20200101 23:59:59 US/Eastern\n"
     ]
    },
    {
     "name": "stderr",
     "output_type": "stream",
     "text": [
      "ERROR 8 2176 Warning: Your API version does not support fractional share size rules. Please upgrade to a minimum version 163. Trimmed value 23.16 to 23\n",
      "ERROR -1 2104 Market data farm connection is OK:usfarm.nj\n",
      "ERROR -1 2104 Market data farm connection is OK:cashfarm\n",
      "ERROR -1 2104 Market data farm connection is OK:usfarm\n",
      "ERROR -1 2106 HMDS data farm connection is OK:ushmds\n",
      "ERROR -1 2158 Sec-def data farm connection is OK:secdefnj\n"
     ]
    },
    {
     "name": "stdout",
     "output_type": "stream",
     "text": [
      "processing AAPL for 20200101 23:59:59 US/Eastern took  72.72 sec\n",
      "processing 20200131 23:59:59 US/Eastern\n"
     ]
    },
    {
     "name": "stderr",
     "output_type": "stream",
     "text": [
      "ERROR 8 2176 Warning: Your API version does not support fractional share size rules. Please upgrade to a minimum version 163. Trimmed value 6.72 to 6\n",
      "ERROR -1 2104 Market data farm connection is OK:usfarm.nj\n",
      "ERROR -1 2104 Market data farm connection is OK:cashfarm\n",
      "ERROR -1 2104 Market data farm connection is OK:usfarm\n",
      "ERROR -1 2106 HMDS data farm connection is OK:ushmds\n",
      "ERROR -1 2158 Sec-def data farm connection is OK:secdefnj\n"
     ]
    },
    {
     "name": "stdout",
     "output_type": "stream",
     "text": [
      "processing AAPL for 20200131 23:59:59 US/Eastern took  108.08 sec\n",
      "processing 20200301 23:59:59 US/Eastern\n"
     ]
    },
    {
     "name": "stderr",
     "output_type": "stream",
     "text": [
      "ERROR 8 2176 Warning: Your API version does not support fractional share size rules. Please upgrade to a minimum version 163. Trimmed value 8.52 to 8\n",
      "ERROR -1 2104 Market data farm connection is OK:usfarm.nj\n",
      "ERROR -1 2104 Market data farm connection is OK:cashfarm\n",
      "ERROR -1 2104 Market data farm connection is OK:usfarm\n",
      "ERROR -1 2106 HMDS data farm connection is OK:ushmds\n",
      "ERROR -1 2158 Sec-def data farm connection is OK:secdefnj\n"
     ]
    },
    {
     "name": "stdout",
     "output_type": "stream",
     "text": [
      "processing AAPL for 20200301 23:59:59 US/Eastern took  84.11 sec\n",
      "processing 20200331 23:59:59 US/Eastern\n"
     ]
    },
    {
     "name": "stderr",
     "output_type": "stream",
     "text": [
      "ERROR 8 2176 Warning: Your API version does not support fractional share size rules. Please upgrade to a minimum version 163. Trimmed value 26.44 to 26\n",
      "ERROR -1 2104 Market data farm connection is OK:usfarm.nj\n",
      "ERROR -1 2104 Market data farm connection is OK:cashfarm\n",
      "ERROR -1 2104 Market data farm connection is OK:usfarm\n",
      "ERROR -1 2106 HMDS data farm connection is OK:ushmds\n",
      "ERROR -1 2158 Sec-def data farm connection is OK:secdefnj\n"
     ]
    },
    {
     "name": "stdout",
     "output_type": "stream",
     "text": [
      "processing AAPL for 20200331 23:59:59 US/Eastern took  102.09 sec\n",
      "processing 20200430 23:59:59 US/Eastern\n"
     ]
    },
    {
     "name": "stderr",
     "output_type": "stream",
     "text": [
      "ERROR 8 2176 Warning: Your API version does not support fractional share size rules. Please upgrade to a minimum version 163. Trimmed value 85.96 to 85\n",
      "ERROR -1 2104 Market data farm connection is OK:usfarm.nj\n",
      "ERROR -1 2104 Market data farm connection is OK:cashfarm\n",
      "ERROR -1 2104 Market data farm connection is OK:usfarm\n",
      "ERROR -1 2106 HMDS data farm connection is OK:ushmds\n",
      "ERROR -1 2158 Sec-def data farm connection is OK:secdefnj\n"
     ]
    },
    {
     "name": "stdout",
     "output_type": "stream",
     "text": [
      "processing AAPL for 20200430 23:59:59 US/Eastern took  102.06 sec\n",
      "processing 20200530 23:59:59 US/Eastern\n"
     ]
    },
    {
     "name": "stderr",
     "output_type": "stream",
     "text": [
      "ERROR 8 2176 Warning: Your API version does not support fractional share size rules. Please upgrade to a minimum version 163. Trimmed value 296.44 to 296\n",
      "ERROR -1 2104 Market data farm connection is OK:usfarm.nj\n",
      "ERROR -1 2104 Market data farm connection is OK:cashfarm\n",
      "ERROR -1 2104 Market data farm connection is OK:usfarm\n",
      "ERROR -1 2106 HMDS data farm connection is OK:ushmds\n",
      "ERROR -1 2158 Sec-def data farm connection is OK:secdefnj\n"
     ]
    },
    {
     "name": "stdout",
     "output_type": "stream",
     "text": [
      "processing AAPL for 20200530 23:59:59 US/Eastern took  84.08 sec\n",
      "processing 20200629 23:59:59 US/Eastern\n"
     ]
    },
    {
     "name": "stderr",
     "output_type": "stream",
     "text": [
      "ERROR 8 2176 Warning: Your API version does not support fractional share size rules. Please upgrade to a minimum version 163. Trimmed value 59.88 to 59\n",
      "ERROR -1 2104 Market data farm connection is OK:usfarm.nj\n",
      "ERROR -1 2104 Market data farm connection is OK:cashfarm\n",
      "ERROR -1 2104 Market data farm connection is OK:usfarm\n",
      "ERROR -1 2106 HMDS data farm connection is OK:ushmds\n",
      "ERROR -1 2158 Sec-def data farm connection is OK:secdefnj\n"
     ]
    },
    {
     "name": "stdout",
     "output_type": "stream",
     "text": [
      "processing AAPL for 20200629 23:59:59 US/Eastern took  108.30 sec\n",
      "processing 20200729 23:59:59 US/Eastern\n"
     ]
    },
    {
     "name": "stderr",
     "output_type": "stream",
     "text": [
      "ERROR 8 2176 Warning: Your API version does not support fractional share size rules. Please upgrade to a minimum version 163. Trimmed value 25.8 to 25\n",
      "ERROR -1 2104 Market data farm connection is OK:usfarm.nj\n",
      "ERROR -1 2104 Market data farm connection is OK:cashfarm\n",
      "ERROR -1 2104 Market data farm connection is OK:usfarm\n",
      "ERROR -1 2106 HMDS data farm connection is OK:ushmds\n",
      "ERROR -1 2158 Sec-def data farm connection is OK:secdefnj\n"
     ]
    },
    {
     "name": "stdout",
     "output_type": "stream",
     "text": [
      "processing AAPL for 20200729 23:59:59 US/Eastern took  83.86 sec\n",
      "processing 20200828 23:59:59 US/Eastern\n"
     ]
    },
    {
     "name": "stderr",
     "output_type": "stream",
     "text": [
      "ERROR 8 2176 Warning: Your API version does not support fractional share size rules. Please upgrade to a minimum version 163. Trimmed value 15.56 to 15\n",
      "ERROR -1 2104 Market data farm connection is OK:usfarm.nj\n",
      "ERROR -1 2104 Market data farm connection is OK:cashfarm\n",
      "ERROR -1 2104 Market data farm connection is OK:usfarm\n",
      "ERROR -1 2106 HMDS data farm connection is OK:ushmds\n",
      "ERROR -1 2158 Sec-def data farm connection is OK:secdefnj\n"
     ]
    },
    {
     "name": "stdout",
     "output_type": "stream",
     "text": [
      "processing AAPL for 20200828 23:59:59 US/Eastern took  102.16 sec\n",
      "processing 20200927 23:59:59 US/Eastern\n"
     ]
    },
    {
     "name": "stderr",
     "output_type": "stream",
     "text": [
      "ERROR 8 2176 Warning: Your API version does not support fractional share size rules. Please upgrade to a minimum version 163. Trimmed value 21.72 to 21\n",
      "ERROR -1 2104 Market data farm connection is OK:usfarm.nj\n",
      "ERROR -1 2104 Market data farm connection is OK:cashfarm\n",
      "ERROR -1 2104 Market data farm connection is OK:usfarm\n",
      "ERROR -1 2106 HMDS data farm connection is OK:ushmds\n",
      "ERROR -1 2158 Sec-def data farm connection is OK:secdefnj\n"
     ]
    },
    {
     "name": "stdout",
     "output_type": "stream",
     "text": [
      "processing AAPL for 20200927 23:59:59 US/Eastern took  102.07 sec\n",
      "processing 20201027 23:59:59 US/Eastern\n"
     ]
    },
    {
     "name": "stderr",
     "output_type": "stream",
     "text": [
      "ERROR 8 2176 Warning: Your API version does not support fractional share size rules. Please upgrade to a minimum version 163. Trimmed value 22.24 to 22\n",
      "ERROR -1 2104 Market data farm connection is OK:usfarm.nj\n",
      "ERROR -1 2104 Market data farm connection is OK:cashfarm\n",
      "ERROR -1 2104 Market data farm connection is OK:usfarm\n",
      "ERROR -1 2106 HMDS data farm connection is OK:ushmds\n",
      "ERROR -1 2158 Sec-def data farm connection is OK:secdefnj\n"
     ]
    },
    {
     "name": "stdout",
     "output_type": "stream",
     "text": [
      "processing AAPL for 20201027 23:59:59 US/Eastern took  84.08 sec\n",
      "processing 20201126 23:59:59 US/Eastern\n"
     ]
    },
    {
     "name": "stderr",
     "output_type": "stream",
     "text": [
      "ERROR 8 2176 Warning: Your API version does not support fractional share size rules. Please upgrade to a minimum version 163. Trimmed value 72.92 to 72\n",
      "ERROR -1 2104 Market data farm connection is OK:usfarm.nj\n",
      "ERROR -1 2104 Market data farm connection is OK:cashfarm\n",
      "ERROR -1 2104 Market data farm connection is OK:usfarm\n",
      "ERROR -1 2106 HMDS data farm connection is OK:ushmds\n",
      "ERROR -1 2158 Sec-def data farm connection is OK:secdefnj\n"
     ]
    },
    {
     "name": "stdout",
     "output_type": "stream",
     "text": [
      "processing AAPL for 20201126 23:59:59 US/Eastern took  108.17 sec\n",
      "processing 20201226 23:59:59 US/Eastern\n"
     ]
    },
    {
     "name": "stderr",
     "output_type": "stream",
     "text": [
      "ERROR 8 2176 Warning: Your API version does not support fractional share size rules. Please upgrade to a minimum version 163. Trimmed value 11.41 to 11\n",
      "ERROR -1 2104 Market data farm connection is OK:usfarm.nj\n",
      "ERROR -1 2104 Market data farm connection is OK:cashfarm\n",
      "ERROR -1 2104 Market data farm connection is OK:usfarm\n",
      "ERROR -1 2106 HMDS data farm connection is OK:ushmds\n",
      "ERROR -1 2158 Sec-def data farm connection is OK:secdefnj\n"
     ]
    },
    {
     "name": "stdout",
     "output_type": "stream",
     "text": [
      "processing AAPL for 20201226 23:59:59 US/Eastern took  83.98 sec\n",
      "processing 20210125 23:59:59 US/Eastern\n"
     ]
    },
    {
     "name": "stderr",
     "output_type": "stream",
     "text": [
      "ERROR 8 2176 Warning: Your API version does not support fractional share size rules. Please upgrade to a minimum version 163. Trimmed value 131.82 to 131\n",
      "ERROR -1 2104 Market data farm connection is OK:usfarm.nj\n",
      "ERROR -1 2104 Market data farm connection is OK:cashfarm\n",
      "ERROR -1 2104 Market data farm connection is OK:usfarm\n",
      "ERROR -1 2106 HMDS data farm connection is OK:ushmds\n",
      "ERROR -1 2158 Sec-def data farm connection is OK:secdefnj\n"
     ]
    },
    {
     "name": "stdout",
     "output_type": "stream",
     "text": [
      "processing AAPL for 20210125 23:59:59 US/Eastern took  102.14 sec\n",
      "processing 20210224 23:59:59 US/Eastern\n"
     ]
    },
    {
     "name": "stderr",
     "output_type": "stream",
     "text": [
      "ERROR 8 2176 Warning: Your API version does not support fractional share size rules. Please upgrade to a minimum version 163. Trimmed value 10.5 to 10\n",
      "ERROR -1 2104 Market data farm connection is OK:usfarm.nj\n",
      "ERROR -1 2104 Market data farm connection is OK:cashfarm\n",
      "ERROR -1 2104 Market data farm connection is OK:usfarm\n",
      "ERROR -1 2106 HMDS data farm connection is OK:ushmds\n",
      "ERROR -1 2158 Sec-def data farm connection is OK:secdefnj\n"
     ]
    },
    {
     "name": "stdout",
     "output_type": "stream",
     "text": [
      "processing AAPL for 20210224 23:59:59 US/Eastern took  102.33 sec\n",
      "processing 20210326 23:59:59 US/Eastern\n"
     ]
    },
    {
     "name": "stderr",
     "output_type": "stream",
     "text": [
      "ERROR 8 2176 Warning: Your API version does not support fractional share size rules. Please upgrade to a minimum version 163. Trimmed value 27.57 to 27\n",
      "ERROR -1 2104 Market data farm connection is OK:usfarm.nj\n",
      "ERROR -1 2104 Market data farm connection is OK:cashfarm\n",
      "ERROR -1 2104 Market data farm connection is OK:usfarm\n",
      "ERROR -1 2106 HMDS data farm connection is OK:ushmds\n",
      "ERROR -1 2158 Sec-def data farm connection is OK:secdefnj\n"
     ]
    },
    {
     "name": "stdout",
     "output_type": "stream",
     "text": [
      "processing AAPL for 20210326 23:59:59 US/Eastern took  83.85 sec\n",
      "processing 20210425 23:59:59 US/Eastern\n"
     ]
    },
    {
     "name": "stderr",
     "output_type": "stream",
     "text": [
      "ERROR 8 2176 Warning: Your API version does not support fractional share size rules. Please upgrade to a minimum version 163. Trimmed value 82.16 to 82\n",
      "ERROR -1 2104 Market data farm connection is OK:usfarm.nj\n",
      "ERROR -1 2104 Market data farm connection is OK:cashfarm\n",
      "ERROR -1 2104 Market data farm connection is OK:usfarm\n",
      "ERROR -1 2106 HMDS data farm connection is OK:ushmds\n",
      "ERROR -1 2158 Sec-def data farm connection is OK:secdefnj\n"
     ]
    },
    {
     "name": "stdout",
     "output_type": "stream",
     "text": [
      "processing AAPL for 20210425 23:59:59 US/Eastern took  108.15 sec\n",
      "processing 20210525 23:59:59 US/Eastern\n",
      "processing AAPL for 20210525 23:59:59 US/Eastern took  73.21 sec\n",
      "processing 20210624 23:59:59 US/Eastern\n"
     ]
    },
    {
     "name": "stderr",
     "output_type": "stream",
     "text": [
      "ERROR -1 502 Couldn't connect to TWS. Confirm that \"Enable ActiveX and Socket EClients\" \n",
      "is enabled and connection port is the same as \"Socket Port\" on the \n",
      "TWS \"Edit->Global Configuration...->API->Settings\" menu. Live Trading ports: \n",
      "TWS: 7496; IB Gateway: 4001. Simulated Trading ports for new installations \n",
      "of version 954.1 or newer:  TWS: 7497; IB Gateway: 4002\n"
     ]
    },
    {
     "name": "stdout",
     "output_type": "stream",
     "text": [
      "processing AAPL for 20210624 23:59:59 US/Eastern took   4.77 sec\n",
      "processing 20210724 23:59:59 US/Eastern\n"
     ]
    },
    {
     "name": "stderr",
     "output_type": "stream",
     "text": [
      "ERROR -1 502 Couldn't connect to TWS. Confirm that \"Enable ActiveX and Socket EClients\" \n",
      "is enabled and connection port is the same as \"Socket Port\" on the \n",
      "TWS \"Edit->Global Configuration...->API->Settings\" menu. Live Trading ports: \n",
      "TWS: 7496; IB Gateway: 4001. Simulated Trading ports for new installations \n",
      "of version 954.1 or newer:  TWS: 7497; IB Gateway: 4002\n"
     ]
    },
    {
     "name": "stdout",
     "output_type": "stream",
     "text": [
      "processing AAPL for 20210724 23:59:59 US/Eastern took   4.75 sec\n",
      "processing 20210823 23:59:59 US/Eastern\n"
     ]
    },
    {
     "name": "stderr",
     "output_type": "stream",
     "text": [
      "ERROR -1 502 Couldn't connect to TWS. Confirm that \"Enable ActiveX and Socket EClients\" \n",
      "is enabled and connection port is the same as \"Socket Port\" on the \n",
      "TWS \"Edit->Global Configuration...->API->Settings\" menu. Live Trading ports: \n",
      "TWS: 7496; IB Gateway: 4001. Simulated Trading ports for new installations \n",
      "of version 954.1 or newer:  TWS: 7497; IB Gateway: 4002\n"
     ]
    },
    {
     "name": "stdout",
     "output_type": "stream",
     "text": [
      "processing AAPL for 20210823 23:59:59 US/Eastern took   4.75 sec\n",
      "processing 20210922 23:59:59 US/Eastern\n"
     ]
    },
    {
     "name": "stderr",
     "output_type": "stream",
     "text": [
      "ERROR -1 502 Couldn't connect to TWS. Confirm that \"Enable ActiveX and Socket EClients\" \n",
      "is enabled and connection port is the same as \"Socket Port\" on the \n",
      "TWS \"Edit->Global Configuration...->API->Settings\" menu. Live Trading ports: \n",
      "TWS: 7496; IB Gateway: 4001. Simulated Trading ports for new installations \n",
      "of version 954.1 or newer:  TWS: 7497; IB Gateway: 4002\n"
     ]
    },
    {
     "name": "stdout",
     "output_type": "stream",
     "text": [
      "processing AAPL for 20210922 23:59:59 US/Eastern took   4.75 sec\n",
      "processing 20211022 23:59:59 US/Eastern\n"
     ]
    },
    {
     "name": "stderr",
     "output_type": "stream",
     "text": [
      "ERROR -1 502 Couldn't connect to TWS. Confirm that \"Enable ActiveX and Socket EClients\" \n",
      "is enabled and connection port is the same as \"Socket Port\" on the \n",
      "TWS \"Edit->Global Configuration...->API->Settings\" menu. Live Trading ports: \n",
      "TWS: 7496; IB Gateway: 4001. Simulated Trading ports for new installations \n",
      "of version 954.1 or newer:  TWS: 7497; IB Gateway: 4002\n"
     ]
    },
    {
     "name": "stdout",
     "output_type": "stream",
     "text": [
      "processing AAPL for 20211022 23:59:59 US/Eastern took   4.73 sec\n",
      "processing 20211121 23:59:59 US/Eastern\n"
     ]
    },
    {
     "name": "stderr",
     "output_type": "stream",
     "text": [
      "ERROR -1 502 Couldn't connect to TWS. Confirm that \"Enable ActiveX and Socket EClients\" \n",
      "is enabled and connection port is the same as \"Socket Port\" on the \n",
      "TWS \"Edit->Global Configuration...->API->Settings\" menu. Live Trading ports: \n",
      "TWS: 7496; IB Gateway: 4001. Simulated Trading ports for new installations \n",
      "of version 954.1 or newer:  TWS: 7497; IB Gateway: 4002\n"
     ]
    },
    {
     "name": "stdout",
     "output_type": "stream",
     "text": [
      "processing AAPL for 20211121 23:59:59 US/Eastern took   4.76 sec\n",
      "processing 20211221 23:59:59 US/Eastern\n"
     ]
    },
    {
     "name": "stderr",
     "output_type": "stream",
     "text": [
      "ERROR -1 502 Couldn't connect to TWS. Confirm that \"Enable ActiveX and Socket EClients\" \n",
      "is enabled and connection port is the same as \"Socket Port\" on the \n",
      "TWS \"Edit->Global Configuration...->API->Settings\" menu. Live Trading ports: \n",
      "TWS: 7496; IB Gateway: 4001. Simulated Trading ports for new installations \n",
      "of version 954.1 or newer:  TWS: 7497; IB Gateway: 4002\n"
     ]
    },
    {
     "name": "stdout",
     "output_type": "stream",
     "text": [
      "processing AAPL for 20211221 23:59:59 US/Eastern took   4.74 sec\n",
      "processing 20220120 23:59:59 US/Eastern\n"
     ]
    },
    {
     "name": "stderr",
     "output_type": "stream",
     "text": [
      "ERROR -1 502 Couldn't connect to TWS. Confirm that \"Enable ActiveX and Socket EClients\" \n",
      "is enabled and connection port is the same as \"Socket Port\" on the \n",
      "TWS \"Edit->Global Configuration...->API->Settings\" menu. Live Trading ports: \n",
      "TWS: 7496; IB Gateway: 4001. Simulated Trading ports for new installations \n",
      "of version 954.1 or newer:  TWS: 7497; IB Gateway: 4002\n"
     ]
    },
    {
     "name": "stdout",
     "output_type": "stream",
     "text": [
      "processing AAPL for 20220120 23:59:59 US/Eastern took   4.76 sec\n",
      "processing 20220219 23:59:59 US/Eastern\n"
     ]
    },
    {
     "name": "stderr",
     "output_type": "stream",
     "text": [
      "ERROR -1 502 Couldn't connect to TWS. Confirm that \"Enable ActiveX and Socket EClients\" \n",
      "is enabled and connection port is the same as \"Socket Port\" on the \n",
      "TWS \"Edit->Global Configuration...->API->Settings\" menu. Live Trading ports: \n",
      "TWS: 7496; IB Gateway: 4001. Simulated Trading ports for new installations \n",
      "of version 954.1 or newer:  TWS: 7497; IB Gateway: 4002\n"
     ]
    },
    {
     "name": "stdout",
     "output_type": "stream",
     "text": [
      "processing AAPL for 20220219 23:59:59 US/Eastern took   4.77 sec\n",
      "processing 20220321 23:59:59 US/Eastern\n"
     ]
    },
    {
     "name": "stderr",
     "output_type": "stream",
     "text": [
      "ERROR -1 502 Couldn't connect to TWS. Confirm that \"Enable ActiveX and Socket EClients\" \n",
      "is enabled and connection port is the same as \"Socket Port\" on the \n",
      "TWS \"Edit->Global Configuration...->API->Settings\" menu. Live Trading ports: \n",
      "TWS: 7496; IB Gateway: 4001. Simulated Trading ports for new installations \n",
      "of version 954.1 or newer:  TWS: 7497; IB Gateway: 4002\n"
     ]
    },
    {
     "name": "stdout",
     "output_type": "stream",
     "text": [
      "processing AAPL for 20220321 23:59:59 US/Eastern took   4.78 sec\n",
      "processing 20220420 23:59:59 US/Eastern\n"
     ]
    },
    {
     "name": "stderr",
     "output_type": "stream",
     "text": [
      "ERROR -1 502 Couldn't connect to TWS. Confirm that \"Enable ActiveX and Socket EClients\" \n",
      "is enabled and connection port is the same as \"Socket Port\" on the \n",
      "TWS \"Edit->Global Configuration...->API->Settings\" menu. Live Trading ports: \n",
      "TWS: 7496; IB Gateway: 4001. Simulated Trading ports for new installations \n",
      "of version 954.1 or newer:  TWS: 7497; IB Gateway: 4002\n"
     ]
    },
    {
     "name": "stdout",
     "output_type": "stream",
     "text": [
      "processing AAPL for 20220420 23:59:59 US/Eastern took   4.78 sec\n",
      "processing 20220520 23:59:59 US/Eastern\n"
     ]
    },
    {
     "name": "stderr",
     "output_type": "stream",
     "text": [
      "ERROR -1 502 Couldn't connect to TWS. Confirm that \"Enable ActiveX and Socket EClients\" \n",
      "is enabled and connection port is the same as \"Socket Port\" on the \n",
      "TWS \"Edit->Global Configuration...->API->Settings\" menu. Live Trading ports: \n",
      "TWS: 7496; IB Gateway: 4001. Simulated Trading ports for new installations \n",
      "of version 954.1 or newer:  TWS: 7497; IB Gateway: 4002\n"
     ]
    },
    {
     "name": "stdout",
     "output_type": "stream",
     "text": [
      "processing AAPL for 20220520 23:59:59 US/Eastern took   4.79 sec\n",
      "processing 20220619 23:59:59 US/Eastern\n"
     ]
    },
    {
     "name": "stderr",
     "output_type": "stream",
     "text": [
      "ERROR -1 502 Couldn't connect to TWS. Confirm that \"Enable ActiveX and Socket EClients\" \n",
      "is enabled and connection port is the same as \"Socket Port\" on the \n",
      "TWS \"Edit->Global Configuration...->API->Settings\" menu. Live Trading ports: \n",
      "TWS: 7496; IB Gateway: 4001. Simulated Trading ports for new installations \n",
      "of version 954.1 or newer:  TWS: 7497; IB Gateway: 4002\n"
     ]
    },
    {
     "name": "stdout",
     "output_type": "stream",
     "text": [
      "processing AAPL for 20220619 23:59:59 US/Eastern took   4.74 sec\n",
      "processing 20220719 23:59:59 US/Eastern\n"
     ]
    },
    {
     "name": "stderr",
     "output_type": "stream",
     "text": [
      "ERROR -1 502 Couldn't connect to TWS. Confirm that \"Enable ActiveX and Socket EClients\" \n",
      "is enabled and connection port is the same as \"Socket Port\" on the \n",
      "TWS \"Edit->Global Configuration...->API->Settings\" menu. Live Trading ports: \n",
      "TWS: 7496; IB Gateway: 4001. Simulated Trading ports for new installations \n",
      "of version 954.1 or newer:  TWS: 7497; IB Gateway: 4002\n"
     ]
    },
    {
     "name": "stdout",
     "output_type": "stream",
     "text": [
      "processing AAPL for 20220719 23:59:59 US/Eastern took   4.73 sec\n",
      "processing 20220818 23:59:59 US/Eastern\n"
     ]
    },
    {
     "name": "stderr",
     "output_type": "stream",
     "text": [
      "ERROR -1 502 Couldn't connect to TWS. Confirm that \"Enable ActiveX and Socket EClients\" \n",
      "is enabled and connection port is the same as \"Socket Port\" on the \n",
      "TWS \"Edit->Global Configuration...->API->Settings\" menu. Live Trading ports: \n",
      "TWS: 7496; IB Gateway: 4001. Simulated Trading ports for new installations \n",
      "of version 954.1 or newer:  TWS: 7497; IB Gateway: 4002\n"
     ]
    },
    {
     "name": "stdout",
     "output_type": "stream",
     "text": [
      "processing AAPL for 20220818 23:59:59 US/Eastern took   4.75 sec\n",
      "processing 20220917 23:59:59 US/Eastern\n"
     ]
    },
    {
     "name": "stderr",
     "output_type": "stream",
     "text": [
      "ERROR -1 502 Couldn't connect to TWS. Confirm that \"Enable ActiveX and Socket EClients\" \n",
      "is enabled and connection port is the same as \"Socket Port\" on the \n",
      "TWS \"Edit->Global Configuration...->API->Settings\" menu. Live Trading ports: \n",
      "TWS: 7496; IB Gateway: 4001. Simulated Trading ports for new installations \n",
      "of version 954.1 or newer:  TWS: 7497; IB Gateway: 4002\n"
     ]
    },
    {
     "name": "stdout",
     "output_type": "stream",
     "text": [
      "processing AAPL for 20220917 23:59:59 US/Eastern took   4.76 sec\n",
      "processing 20221017 23:59:59 US/Eastern\n"
     ]
    },
    {
     "name": "stderr",
     "output_type": "stream",
     "text": [
      "ERROR -1 502 Couldn't connect to TWS. Confirm that \"Enable ActiveX and Socket EClients\" \n",
      "is enabled and connection port is the same as \"Socket Port\" on the \n",
      "TWS \"Edit->Global Configuration...->API->Settings\" menu. Live Trading ports: \n",
      "TWS: 7496; IB Gateway: 4001. Simulated Trading ports for new installations \n",
      "of version 954.1 or newer:  TWS: 7497; IB Gateway: 4002\n"
     ]
    },
    {
     "name": "stdout",
     "output_type": "stream",
     "text": [
      "processing AAPL for 20221017 23:59:59 US/Eastern took   4.75 sec\n",
      "processing 20221116 23:59:59 US/Eastern\n"
     ]
    },
    {
     "name": "stderr",
     "output_type": "stream",
     "text": [
      "ERROR -1 502 Couldn't connect to TWS. Confirm that \"Enable ActiveX and Socket EClients\" \n",
      "is enabled and connection port is the same as \"Socket Port\" on the \n",
      "TWS \"Edit->Global Configuration...->API->Settings\" menu. Live Trading ports: \n",
      "TWS: 7496; IB Gateway: 4001. Simulated Trading ports for new installations \n",
      "of version 954.1 or newer:  TWS: 7497; IB Gateway: 4002\n"
     ]
    },
    {
     "name": "stdout",
     "output_type": "stream",
     "text": [
      "processing AAPL for 20221116 23:59:59 US/Eastern took   4.76 sec\n",
      "processing 20221216 23:59:59 US/Eastern\n"
     ]
    },
    {
     "name": "stderr",
     "output_type": "stream",
     "text": [
      "ERROR -1 502 Couldn't connect to TWS. Confirm that \"Enable ActiveX and Socket EClients\" \n",
      "is enabled and connection port is the same as \"Socket Port\" on the \n",
      "TWS \"Edit->Global Configuration...->API->Settings\" menu. Live Trading ports: \n",
      "TWS: 7496; IB Gateway: 4001. Simulated Trading ports for new installations \n",
      "of version 954.1 or newer:  TWS: 7497; IB Gateway: 4002\n"
     ]
    },
    {
     "name": "stdout",
     "output_type": "stream",
     "text": [
      "processing AAPL for 20221216 23:59:59 US/Eastern took   4.75 sec\n",
      "processing 20230115 23:59:59 US/Eastern\n"
     ]
    },
    {
     "name": "stderr",
     "output_type": "stream",
     "text": [
      "ERROR -1 502 Couldn't connect to TWS. Confirm that \"Enable ActiveX and Socket EClients\" \n",
      "is enabled and connection port is the same as \"Socket Port\" on the \n",
      "TWS \"Edit->Global Configuration...->API->Settings\" menu. Live Trading ports: \n",
      "TWS: 7496; IB Gateway: 4001. Simulated Trading ports for new installations \n",
      "of version 954.1 or newer:  TWS: 7497; IB Gateway: 4002\n"
     ]
    },
    {
     "name": "stdout",
     "output_type": "stream",
     "text": [
      "processing AAPL for 20230115 23:59:59 US/Eastern took   4.83 sec\n",
      "processing 20230214 23:59:59 US/Eastern\n"
     ]
    },
    {
     "name": "stderr",
     "output_type": "stream",
     "text": [
      "ERROR -1 502 Couldn't connect to TWS. Confirm that \"Enable ActiveX and Socket EClients\" \n",
      "is enabled and connection port is the same as \"Socket Port\" on the \n",
      "TWS \"Edit->Global Configuration...->API->Settings\" menu. Live Trading ports: \n",
      "TWS: 7496; IB Gateway: 4001. Simulated Trading ports for new installations \n",
      "of version 954.1 or newer:  TWS: 7497; IB Gateway: 4002\n"
     ]
    },
    {
     "name": "stdout",
     "output_type": "stream",
     "text": [
      "processing AAPL for 20230214 23:59:59 US/Eastern took   4.76 sec\n",
      "processing 20230316 23:59:59 US/Eastern\n"
     ]
    },
    {
     "name": "stderr",
     "output_type": "stream",
     "text": [
      "ERROR -1 502 Couldn't connect to TWS. Confirm that \"Enable ActiveX and Socket EClients\" \n",
      "is enabled and connection port is the same as \"Socket Port\" on the \n",
      "TWS \"Edit->Global Configuration...->API->Settings\" menu. Live Trading ports: \n",
      "TWS: 7496; IB Gateway: 4001. Simulated Trading ports for new installations \n",
      "of version 954.1 or newer:  TWS: 7497; IB Gateway: 4002\n"
     ]
    },
    {
     "name": "stdout",
     "output_type": "stream",
     "text": [
      "processing AAPL for 20230316 23:59:59 US/Eastern took   4.79 sec\n",
      "Processing AMGN\n",
      "processing 20200101 23:59:59 US/Eastern\n"
     ]
    },
    {
     "name": "stderr",
     "output_type": "stream",
     "text": [
      "ERROR -1 502 Couldn't connect to TWS. Confirm that \"Enable ActiveX and Socket EClients\" \n",
      "is enabled and connection port is the same as \"Socket Port\" on the \n",
      "TWS \"Edit->Global Configuration...->API->Settings\" menu. Live Trading ports: \n",
      "TWS: 7496; IB Gateway: 4001. Simulated Trading ports for new installations \n",
      "of version 954.1 or newer:  TWS: 7497; IB Gateway: 4002\n"
     ]
    },
    {
     "name": "stdout",
     "output_type": "stream",
     "text": [
      "processing AMGN for 20200101 23:59:59 US/Eastern took   3.04 sec\n",
      "processing 20200131 23:59:59 US/Eastern\n"
     ]
    },
    {
     "name": "stderr",
     "output_type": "stream",
     "text": [
      "ERROR -1 502 Couldn't connect to TWS. Confirm that \"Enable ActiveX and Socket EClients\" \n",
      "is enabled and connection port is the same as \"Socket Port\" on the \n",
      "TWS \"Edit->Global Configuration...->API->Settings\" menu. Live Trading ports: \n",
      "TWS: 7496; IB Gateway: 4001. Simulated Trading ports for new installations \n",
      "of version 954.1 or newer:  TWS: 7497; IB Gateway: 4002\n"
     ]
    },
    {
     "name": "stdout",
     "output_type": "stream",
     "text": [
      "processing AMGN for 20200131 23:59:59 US/Eastern took   3.04 sec\n",
      "processing 20200301 23:59:59 US/Eastern\n"
     ]
    },
    {
     "name": "stderr",
     "output_type": "stream",
     "text": [
      "ERROR -1 502 Couldn't connect to TWS. Confirm that \"Enable ActiveX and Socket EClients\" \n",
      "is enabled and connection port is the same as \"Socket Port\" on the \n",
      "TWS \"Edit->Global Configuration...->API->Settings\" menu. Live Trading ports: \n",
      "TWS: 7496; IB Gateway: 4001. Simulated Trading ports for new installations \n",
      "of version 954.1 or newer:  TWS: 7497; IB Gateway: 4002\n"
     ]
    },
    {
     "name": "stdout",
     "output_type": "stream",
     "text": [
      "processing AMGN for 20200301 23:59:59 US/Eastern took   3.05 sec\n",
      "processing 20200331 23:59:59 US/Eastern\n"
     ]
    },
    {
     "name": "stderr",
     "output_type": "stream",
     "text": [
      "ERROR -1 502 Couldn't connect to TWS. Confirm that \"Enable ActiveX and Socket EClients\" \n",
      "is enabled and connection port is the same as \"Socket Port\" on the \n",
      "TWS \"Edit->Global Configuration...->API->Settings\" menu. Live Trading ports: \n",
      "TWS: 7496; IB Gateway: 4001. Simulated Trading ports for new installations \n",
      "of version 954.1 or newer:  TWS: 7497; IB Gateway: 4002\n"
     ]
    },
    {
     "name": "stdout",
     "output_type": "stream",
     "text": [
      "processing AMGN for 20200331 23:59:59 US/Eastern took   3.06 sec\n",
      "processing 20200430 23:59:59 US/Eastern\n"
     ]
    },
    {
     "name": "stderr",
     "output_type": "stream",
     "text": [
      "ERROR -1 502 Couldn't connect to TWS. Confirm that \"Enable ActiveX and Socket EClients\" \n",
      "is enabled and connection port is the same as \"Socket Port\" on the \n",
      "TWS \"Edit->Global Configuration...->API->Settings\" menu. Live Trading ports: \n",
      "TWS: 7496; IB Gateway: 4001. Simulated Trading ports for new installations \n",
      "of version 954.1 or newer:  TWS: 7497; IB Gateway: 4002\n"
     ]
    },
    {
     "name": "stdout",
     "output_type": "stream",
     "text": [
      "processing AMGN for 20200430 23:59:59 US/Eastern took   3.04 sec\n",
      "processing 20200530 23:59:59 US/Eastern\n"
     ]
    },
    {
     "name": "stderr",
     "output_type": "stream",
     "text": [
      "ERROR -1 502 Couldn't connect to TWS. Confirm that \"Enable ActiveX and Socket EClients\" \n",
      "is enabled and connection port is the same as \"Socket Port\" on the \n",
      "TWS \"Edit->Global Configuration...->API->Settings\" menu. Live Trading ports: \n",
      "TWS: 7496; IB Gateway: 4001. Simulated Trading ports for new installations \n",
      "of version 954.1 or newer:  TWS: 7497; IB Gateway: 4002\n"
     ]
    },
    {
     "name": "stdout",
     "output_type": "stream",
     "text": [
      "processing AMGN for 20200530 23:59:59 US/Eastern took   3.05 sec\n",
      "processing 20200629 23:59:59 US/Eastern\n"
     ]
    },
    {
     "name": "stderr",
     "output_type": "stream",
     "text": [
      "ERROR -1 502 Couldn't connect to TWS. Confirm that \"Enable ActiveX and Socket EClients\" \n",
      "is enabled and connection port is the same as \"Socket Port\" on the \n",
      "TWS \"Edit->Global Configuration...->API->Settings\" menu. Live Trading ports: \n",
      "TWS: 7496; IB Gateway: 4001. Simulated Trading ports for new installations \n",
      "of version 954.1 or newer:  TWS: 7497; IB Gateway: 4002\n"
     ]
    },
    {
     "name": "stdout",
     "output_type": "stream",
     "text": [
      "processing AMGN for 20200629 23:59:59 US/Eastern took   3.06 sec\n",
      "processing 20200729 23:59:59 US/Eastern\n"
     ]
    },
    {
     "name": "stderr",
     "output_type": "stream",
     "text": [
      "ERROR -1 502 Couldn't connect to TWS. Confirm that \"Enable ActiveX and Socket EClients\" \n",
      "is enabled and connection port is the same as \"Socket Port\" on the \n",
      "TWS \"Edit->Global Configuration...->API->Settings\" menu. Live Trading ports: \n",
      "TWS: 7496; IB Gateway: 4001. Simulated Trading ports for new installations \n",
      "of version 954.1 or newer:  TWS: 7497; IB Gateway: 4002\n"
     ]
    },
    {
     "name": "stdout",
     "output_type": "stream",
     "text": [
      "processing AMGN for 20200729 23:59:59 US/Eastern took   3.04 sec\n",
      "processing 20200828 23:59:59 US/Eastern\n"
     ]
    },
    {
     "name": "stderr",
     "output_type": "stream",
     "text": [
      "ERROR -1 502 Couldn't connect to TWS. Confirm that \"Enable ActiveX and Socket EClients\" \n",
      "is enabled and connection port is the same as \"Socket Port\" on the \n",
      "TWS \"Edit->Global Configuration...->API->Settings\" menu. Live Trading ports: \n",
      "TWS: 7496; IB Gateway: 4001. Simulated Trading ports for new installations \n",
      "of version 954.1 or newer:  TWS: 7497; IB Gateway: 4002\n"
     ]
    },
    {
     "name": "stdout",
     "output_type": "stream",
     "text": [
      "processing AMGN for 20200828 23:59:59 US/Eastern took   3.05 sec\n",
      "processing 20200927 23:59:59 US/Eastern\n"
     ]
    },
    {
     "name": "stderr",
     "output_type": "stream",
     "text": [
      "ERROR -1 502 Couldn't connect to TWS. Confirm that \"Enable ActiveX and Socket EClients\" \n",
      "is enabled and connection port is the same as \"Socket Port\" on the \n",
      "TWS \"Edit->Global Configuration...->API->Settings\" menu. Live Trading ports: \n",
      "TWS: 7496; IB Gateway: 4001. Simulated Trading ports for new installations \n",
      "of version 954.1 or newer:  TWS: 7497; IB Gateway: 4002\n"
     ]
    },
    {
     "name": "stdout",
     "output_type": "stream",
     "text": [
      "processing AMGN for 20200927 23:59:59 US/Eastern took   3.03 sec\n",
      "processing 20201027 23:59:59 US/Eastern\n"
     ]
    },
    {
     "name": "stderr",
     "output_type": "stream",
     "text": [
      "ERROR -1 502 Couldn't connect to TWS. Confirm that \"Enable ActiveX and Socket EClients\" \n",
      "is enabled and connection port is the same as \"Socket Port\" on the \n",
      "TWS \"Edit->Global Configuration...->API->Settings\" menu. Live Trading ports: \n",
      "TWS: 7496; IB Gateway: 4001. Simulated Trading ports for new installations \n",
      "of version 954.1 or newer:  TWS: 7497; IB Gateway: 4002\n"
     ]
    },
    {
     "name": "stdout",
     "output_type": "stream",
     "text": [
      "processing AMGN for 20201027 23:59:59 US/Eastern took   3.03 sec\n",
      "processing 20201126 23:59:59 US/Eastern\n"
     ]
    },
    {
     "name": "stderr",
     "output_type": "stream",
     "text": [
      "ERROR -1 502 Couldn't connect to TWS. Confirm that \"Enable ActiveX and Socket EClients\" \n",
      "is enabled and connection port is the same as \"Socket Port\" on the \n",
      "TWS \"Edit->Global Configuration...->API->Settings\" menu. Live Trading ports: \n",
      "TWS: 7496; IB Gateway: 4001. Simulated Trading ports for new installations \n",
      "of version 954.1 or newer:  TWS: 7497; IB Gateway: 4002\n"
     ]
    },
    {
     "name": "stdout",
     "output_type": "stream",
     "text": [
      "processing AMGN for 20201126 23:59:59 US/Eastern took   3.03 sec\n",
      "processing 20201226 23:59:59 US/Eastern\n"
     ]
    },
    {
     "name": "stderr",
     "output_type": "stream",
     "text": [
      "ERROR -1 502 Couldn't connect to TWS. Confirm that \"Enable ActiveX and Socket EClients\" \n",
      "is enabled and connection port is the same as \"Socket Port\" on the \n",
      "TWS \"Edit->Global Configuration...->API->Settings\" menu. Live Trading ports: \n",
      "TWS: 7496; IB Gateway: 4001. Simulated Trading ports for new installations \n",
      "of version 954.1 or newer:  TWS: 7497; IB Gateway: 4002\n"
     ]
    },
    {
     "name": "stdout",
     "output_type": "stream",
     "text": [
      "processing AMGN for 20201226 23:59:59 US/Eastern took   3.05 sec\n",
      "processing 20210125 23:59:59 US/Eastern\n"
     ]
    },
    {
     "name": "stderr",
     "output_type": "stream",
     "text": [
      "ERROR -1 502 Couldn't connect to TWS. Confirm that \"Enable ActiveX and Socket EClients\" \n",
      "is enabled and connection port is the same as \"Socket Port\" on the \n",
      "TWS \"Edit->Global Configuration...->API->Settings\" menu. Live Trading ports: \n",
      "TWS: 7496; IB Gateway: 4001. Simulated Trading ports for new installations \n",
      "of version 954.1 or newer:  TWS: 7497; IB Gateway: 4002\n"
     ]
    },
    {
     "name": "stdout",
     "output_type": "stream",
     "text": [
      "processing AMGN for 20210125 23:59:59 US/Eastern took   3.05 sec\n",
      "processing 20210224 23:59:59 US/Eastern\n"
     ]
    },
    {
     "name": "stderr",
     "output_type": "stream",
     "text": [
      "ERROR -1 502 Couldn't connect to TWS. Confirm that \"Enable ActiveX and Socket EClients\" \n",
      "is enabled and connection port is the same as \"Socket Port\" on the \n",
      "TWS \"Edit->Global Configuration...->API->Settings\" menu. Live Trading ports: \n",
      "TWS: 7496; IB Gateway: 4001. Simulated Trading ports for new installations \n",
      "of version 954.1 or newer:  TWS: 7497; IB Gateway: 4002\n"
     ]
    },
    {
     "name": "stdout",
     "output_type": "stream",
     "text": [
      "processing AMGN for 20210224 23:59:59 US/Eastern took   3.04 sec\n",
      "processing 20210326 23:59:59 US/Eastern\n"
     ]
    },
    {
     "name": "stderr",
     "output_type": "stream",
     "text": [
      "ERROR -1 502 Couldn't connect to TWS. Confirm that \"Enable ActiveX and Socket EClients\" \n",
      "is enabled and connection port is the same as \"Socket Port\" on the \n",
      "TWS \"Edit->Global Configuration...->API->Settings\" menu. Live Trading ports: \n",
      "TWS: 7496; IB Gateway: 4001. Simulated Trading ports for new installations \n",
      "of version 954.1 or newer:  TWS: 7497; IB Gateway: 4002\n"
     ]
    },
    {
     "name": "stdout",
     "output_type": "stream",
     "text": [
      "processing AMGN for 20210326 23:59:59 US/Eastern took   3.03 sec\n",
      "processing 20210425 23:59:59 US/Eastern\n"
     ]
    },
    {
     "name": "stderr",
     "output_type": "stream",
     "text": [
      "ERROR -1 502 Couldn't connect to TWS. Confirm that \"Enable ActiveX and Socket EClients\" \n",
      "is enabled and connection port is the same as \"Socket Port\" on the \n",
      "TWS \"Edit->Global Configuration...->API->Settings\" menu. Live Trading ports: \n",
      "TWS: 7496; IB Gateway: 4001. Simulated Trading ports for new installations \n",
      "of version 954.1 or newer:  TWS: 7497; IB Gateway: 4002\n"
     ]
    },
    {
     "name": "stdout",
     "output_type": "stream",
     "text": [
      "processing AMGN for 20210425 23:59:59 US/Eastern took   3.06 sec\n",
      "processing 20210525 23:59:59 US/Eastern\n"
     ]
    },
    {
     "name": "stderr",
     "output_type": "stream",
     "text": [
      "ERROR -1 502 Couldn't connect to TWS. Confirm that \"Enable ActiveX and Socket EClients\" \n",
      "is enabled and connection port is the same as \"Socket Port\" on the \n",
      "TWS \"Edit->Global Configuration...->API->Settings\" menu. Live Trading ports: \n",
      "TWS: 7496; IB Gateway: 4001. Simulated Trading ports for new installations \n",
      "of version 954.1 or newer:  TWS: 7497; IB Gateway: 4002\n"
     ]
    },
    {
     "name": "stdout",
     "output_type": "stream",
     "text": [
      "processing AMGN for 20210525 23:59:59 US/Eastern took   3.06 sec\n",
      "processing 20210624 23:59:59 US/Eastern\n"
     ]
    },
    {
     "name": "stderr",
     "output_type": "stream",
     "text": [
      "ERROR -1 502 Couldn't connect to TWS. Confirm that \"Enable ActiveX and Socket EClients\" \n",
      "is enabled and connection port is the same as \"Socket Port\" on the \n",
      "TWS \"Edit->Global Configuration...->API->Settings\" menu. Live Trading ports: \n",
      "TWS: 7496; IB Gateway: 4001. Simulated Trading ports for new installations \n",
      "of version 954.1 or newer:  TWS: 7497; IB Gateway: 4002\n"
     ]
    },
    {
     "name": "stdout",
     "output_type": "stream",
     "text": [
      "processing AMGN for 20210624 23:59:59 US/Eastern took   3.04 sec\n",
      "processing 20210724 23:59:59 US/Eastern\n"
     ]
    },
    {
     "name": "stderr",
     "output_type": "stream",
     "text": [
      "ERROR -1 502 Couldn't connect to TWS. Confirm that \"Enable ActiveX and Socket EClients\" \n",
      "is enabled and connection port is the same as \"Socket Port\" on the \n",
      "TWS \"Edit->Global Configuration...->API->Settings\" menu. Live Trading ports: \n",
      "TWS: 7496; IB Gateway: 4001. Simulated Trading ports for new installations \n",
      "of version 954.1 or newer:  TWS: 7497; IB Gateway: 4002\n"
     ]
    },
    {
     "name": "stdout",
     "output_type": "stream",
     "text": [
      "processing AMGN for 20210724 23:59:59 US/Eastern took   3.06 sec\n",
      "processing 20210823 23:59:59 US/Eastern\n"
     ]
    },
    {
     "name": "stderr",
     "output_type": "stream",
     "text": [
      "ERROR -1 502 Couldn't connect to TWS. Confirm that \"Enable ActiveX and Socket EClients\" \n",
      "is enabled and connection port is the same as \"Socket Port\" on the \n",
      "TWS \"Edit->Global Configuration...->API->Settings\" menu. Live Trading ports: \n",
      "TWS: 7496; IB Gateway: 4001. Simulated Trading ports for new installations \n",
      "of version 954.1 or newer:  TWS: 7497; IB Gateway: 4002\n"
     ]
    },
    {
     "name": "stdout",
     "output_type": "stream",
     "text": [
      "processing AMGN for 20210823 23:59:59 US/Eastern took   3.05 sec\n",
      "processing 20210922 23:59:59 US/Eastern\n"
     ]
    },
    {
     "name": "stderr",
     "output_type": "stream",
     "text": [
      "ERROR -1 502 Couldn't connect to TWS. Confirm that \"Enable ActiveX and Socket EClients\" \n",
      "is enabled and connection port is the same as \"Socket Port\" on the \n",
      "TWS \"Edit->Global Configuration...->API->Settings\" menu. Live Trading ports: \n",
      "TWS: 7496; IB Gateway: 4001. Simulated Trading ports for new installations \n",
      "of version 954.1 or newer:  TWS: 7497; IB Gateway: 4002\n"
     ]
    },
    {
     "name": "stdout",
     "output_type": "stream",
     "text": [
      "processing AMGN for 20210922 23:59:59 US/Eastern took   3.04 sec\n",
      "processing 20211022 23:59:59 US/Eastern\n"
     ]
    },
    {
     "name": "stderr",
     "output_type": "stream",
     "text": [
      "ERROR -1 502 Couldn't connect to TWS. Confirm that \"Enable ActiveX and Socket EClients\" \n",
      "is enabled and connection port is the same as \"Socket Port\" on the \n",
      "TWS \"Edit->Global Configuration...->API->Settings\" menu. Live Trading ports: \n",
      "TWS: 7496; IB Gateway: 4001. Simulated Trading ports for new installations \n",
      "of version 954.1 or newer:  TWS: 7497; IB Gateway: 4002\n"
     ]
    },
    {
     "name": "stdout",
     "output_type": "stream",
     "text": [
      "processing AMGN for 20211022 23:59:59 US/Eastern took   3.05 sec\n",
      "processing 20211121 23:59:59 US/Eastern\n"
     ]
    },
    {
     "name": "stderr",
     "output_type": "stream",
     "text": [
      "ERROR -1 502 Couldn't connect to TWS. Confirm that \"Enable ActiveX and Socket EClients\" \n",
      "is enabled and connection port is the same as \"Socket Port\" on the \n",
      "TWS \"Edit->Global Configuration...->API->Settings\" menu. Live Trading ports: \n",
      "TWS: 7496; IB Gateway: 4001. Simulated Trading ports for new installations \n",
      "of version 954.1 or newer:  TWS: 7497; IB Gateway: 4002\n"
     ]
    },
    {
     "name": "stdout",
     "output_type": "stream",
     "text": [
      "processing AMGN for 20211121 23:59:59 US/Eastern took   3.05 sec\n",
      "processing 20211221 23:59:59 US/Eastern\n"
     ]
    },
    {
     "name": "stderr",
     "output_type": "stream",
     "text": [
      "ERROR -1 502 Couldn't connect to TWS. Confirm that \"Enable ActiveX and Socket EClients\" \n",
      "is enabled and connection port is the same as \"Socket Port\" on the \n",
      "TWS \"Edit->Global Configuration...->API->Settings\" menu. Live Trading ports: \n",
      "TWS: 7496; IB Gateway: 4001. Simulated Trading ports for new installations \n",
      "of version 954.1 or newer:  TWS: 7497; IB Gateway: 4002\n"
     ]
    },
    {
     "name": "stdout",
     "output_type": "stream",
     "text": [
      "processing AMGN for 20211221 23:59:59 US/Eastern took   3.04 sec\n",
      "processing 20220120 23:59:59 US/Eastern\n"
     ]
    },
    {
     "name": "stderr",
     "output_type": "stream",
     "text": [
      "ERROR -1 502 Couldn't connect to TWS. Confirm that \"Enable ActiveX and Socket EClients\" \n",
      "is enabled and connection port is the same as \"Socket Port\" on the \n",
      "TWS \"Edit->Global Configuration...->API->Settings\" menu. Live Trading ports: \n",
      "TWS: 7496; IB Gateway: 4001. Simulated Trading ports for new installations \n",
      "of version 954.1 or newer:  TWS: 7497; IB Gateway: 4002\n"
     ]
    },
    {
     "name": "stdout",
     "output_type": "stream",
     "text": [
      "processing AMGN for 20220120 23:59:59 US/Eastern took   3.05 sec\n",
      "processing 20220219 23:59:59 US/Eastern\n"
     ]
    },
    {
     "name": "stderr",
     "output_type": "stream",
     "text": [
      "ERROR -1 502 Couldn't connect to TWS. Confirm that \"Enable ActiveX and Socket EClients\" \n",
      "is enabled and connection port is the same as \"Socket Port\" on the \n",
      "TWS \"Edit->Global Configuration...->API->Settings\" menu. Live Trading ports: \n",
      "TWS: 7496; IB Gateway: 4001. Simulated Trading ports for new installations \n",
      "of version 954.1 or newer:  TWS: 7497; IB Gateway: 4002\n"
     ]
    },
    {
     "name": "stdout",
     "output_type": "stream",
     "text": [
      "processing AMGN for 20220219 23:59:59 US/Eastern took   3.06 sec\n",
      "processing 20220321 23:59:59 US/Eastern\n"
     ]
    },
    {
     "name": "stderr",
     "output_type": "stream",
     "text": [
      "ERROR -1 502 Couldn't connect to TWS. Confirm that \"Enable ActiveX and Socket EClients\" \n",
      "is enabled and connection port is the same as \"Socket Port\" on the \n",
      "TWS \"Edit->Global Configuration...->API->Settings\" menu. Live Trading ports: \n",
      "TWS: 7496; IB Gateway: 4001. Simulated Trading ports for new installations \n",
      "of version 954.1 or newer:  TWS: 7497; IB Gateway: 4002\n"
     ]
    },
    {
     "name": "stdout",
     "output_type": "stream",
     "text": [
      "processing AMGN for 20220321 23:59:59 US/Eastern took   3.05 sec\n",
      "processing 20220420 23:59:59 US/Eastern\n"
     ]
    },
    {
     "name": "stderr",
     "output_type": "stream",
     "text": [
      "ERROR -1 502 Couldn't connect to TWS. Confirm that \"Enable ActiveX and Socket EClients\" \n",
      "is enabled and connection port is the same as \"Socket Port\" on the \n",
      "TWS \"Edit->Global Configuration...->API->Settings\" menu. Live Trading ports: \n",
      "TWS: 7496; IB Gateway: 4001. Simulated Trading ports for new installations \n",
      "of version 954.1 or newer:  TWS: 7497; IB Gateway: 4002\n"
     ]
    },
    {
     "name": "stdout",
     "output_type": "stream",
     "text": [
      "processing AMGN for 20220420 23:59:59 US/Eastern took   3.04 sec\n",
      "processing 20220520 23:59:59 US/Eastern\n"
     ]
    },
    {
     "name": "stderr",
     "output_type": "stream",
     "text": [
      "ERROR -1 502 Couldn't connect to TWS. Confirm that \"Enable ActiveX and Socket EClients\" \n",
      "is enabled and connection port is the same as \"Socket Port\" on the \n",
      "TWS \"Edit->Global Configuration...->API->Settings\" menu. Live Trading ports: \n",
      "TWS: 7496; IB Gateway: 4001. Simulated Trading ports for new installations \n",
      "of version 954.1 or newer:  TWS: 7497; IB Gateway: 4002\n"
     ]
    },
    {
     "name": "stdout",
     "output_type": "stream",
     "text": [
      "processing AMGN for 20220520 23:59:59 US/Eastern took   3.03 sec\n",
      "processing 20220619 23:59:59 US/Eastern\n"
     ]
    },
    {
     "name": "stderr",
     "output_type": "stream",
     "text": [
      "ERROR -1 502 Couldn't connect to TWS. Confirm that \"Enable ActiveX and Socket EClients\" \n",
      "is enabled and connection port is the same as \"Socket Port\" on the \n",
      "TWS \"Edit->Global Configuration...->API->Settings\" menu. Live Trading ports: \n",
      "TWS: 7496; IB Gateway: 4001. Simulated Trading ports for new installations \n",
      "of version 954.1 or newer:  TWS: 7497; IB Gateway: 4002\n"
     ]
    },
    {
     "name": "stdout",
     "output_type": "stream",
     "text": [
      "processing AMGN for 20220619 23:59:59 US/Eastern took   3.03 sec\n",
      "processing 20220719 23:59:59 US/Eastern\n"
     ]
    },
    {
     "name": "stderr",
     "output_type": "stream",
     "text": [
      "ERROR -1 502 Couldn't connect to TWS. Confirm that \"Enable ActiveX and Socket EClients\" \n",
      "is enabled and connection port is the same as \"Socket Port\" on the \n",
      "TWS \"Edit->Global Configuration...->API->Settings\" menu. Live Trading ports: \n",
      "TWS: 7496; IB Gateway: 4001. Simulated Trading ports for new installations \n",
      "of version 954.1 or newer:  TWS: 7497; IB Gateway: 4002\n"
     ]
    },
    {
     "name": "stdout",
     "output_type": "stream",
     "text": [
      "processing AMGN for 20220719 23:59:59 US/Eastern took   3.04 sec\n",
      "processing 20220818 23:59:59 US/Eastern\n"
     ]
    },
    {
     "name": "stderr",
     "output_type": "stream",
     "text": [
      "ERROR -1 502 Couldn't connect to TWS. Confirm that \"Enable ActiveX and Socket EClients\" \n",
      "is enabled and connection port is the same as \"Socket Port\" on the \n",
      "TWS \"Edit->Global Configuration...->API->Settings\" menu. Live Trading ports: \n",
      "TWS: 7496; IB Gateway: 4001. Simulated Trading ports for new installations \n",
      "of version 954.1 or newer:  TWS: 7497; IB Gateway: 4002\n"
     ]
    },
    {
     "name": "stdout",
     "output_type": "stream",
     "text": [
      "processing AMGN for 20220818 23:59:59 US/Eastern took   3.05 sec\n",
      "processing 20220917 23:59:59 US/Eastern\n"
     ]
    },
    {
     "name": "stderr",
     "output_type": "stream",
     "text": [
      "ERROR -1 502 Couldn't connect to TWS. Confirm that \"Enable ActiveX and Socket EClients\" \n",
      "is enabled and connection port is the same as \"Socket Port\" on the \n",
      "TWS \"Edit->Global Configuration...->API->Settings\" menu. Live Trading ports: \n",
      "TWS: 7496; IB Gateway: 4001. Simulated Trading ports for new installations \n",
      "of version 954.1 or newer:  TWS: 7497; IB Gateway: 4002\n"
     ]
    },
    {
     "name": "stdout",
     "output_type": "stream",
     "text": [
      "processing AMGN for 20220917 23:59:59 US/Eastern took   3.06 sec\n",
      "processing 20221017 23:59:59 US/Eastern\n"
     ]
    },
    {
     "name": "stderr",
     "output_type": "stream",
     "text": [
      "ERROR -1 502 Couldn't connect to TWS. Confirm that \"Enable ActiveX and Socket EClients\" \n",
      "is enabled and connection port is the same as \"Socket Port\" on the \n",
      "TWS \"Edit->Global Configuration...->API->Settings\" menu. Live Trading ports: \n",
      "TWS: 7496; IB Gateway: 4001. Simulated Trading ports for new installations \n",
      "of version 954.1 or newer:  TWS: 7497; IB Gateway: 4002\n"
     ]
    },
    {
     "name": "stdout",
     "output_type": "stream",
     "text": [
      "processing AMGN for 20221017 23:59:59 US/Eastern took   3.05 sec\n",
      "processing 20221116 23:59:59 US/Eastern\n"
     ]
    },
    {
     "name": "stderr",
     "output_type": "stream",
     "text": [
      "ERROR -1 502 Couldn't connect to TWS. Confirm that \"Enable ActiveX and Socket EClients\" \n",
      "is enabled and connection port is the same as \"Socket Port\" on the \n",
      "TWS \"Edit->Global Configuration...->API->Settings\" menu. Live Trading ports: \n",
      "TWS: 7496; IB Gateway: 4001. Simulated Trading ports for new installations \n",
      "of version 954.1 or newer:  TWS: 7497; IB Gateway: 4002\n"
     ]
    },
    {
     "name": "stdout",
     "output_type": "stream",
     "text": [
      "processing AMGN for 20221116 23:59:59 US/Eastern took   3.03 sec\n",
      "processing 20221216 23:59:59 US/Eastern\n"
     ]
    },
    {
     "name": "stderr",
     "output_type": "stream",
     "text": [
      "ERROR -1 502 Couldn't connect to TWS. Confirm that \"Enable ActiveX and Socket EClients\" \n",
      "is enabled and connection port is the same as \"Socket Port\" on the \n",
      "TWS \"Edit->Global Configuration...->API->Settings\" menu. Live Trading ports: \n",
      "TWS: 7496; IB Gateway: 4001. Simulated Trading ports for new installations \n",
      "of version 954.1 or newer:  TWS: 7497; IB Gateway: 4002\n"
     ]
    },
    {
     "name": "stdout",
     "output_type": "stream",
     "text": [
      "processing AMGN for 20221216 23:59:59 US/Eastern took   3.04 sec\n",
      "processing 20230115 23:59:59 US/Eastern\n"
     ]
    },
    {
     "name": "stderr",
     "output_type": "stream",
     "text": [
      "ERROR -1 502 Couldn't connect to TWS. Confirm that \"Enable ActiveX and Socket EClients\" \n",
      "is enabled and connection port is the same as \"Socket Port\" on the \n",
      "TWS \"Edit->Global Configuration...->API->Settings\" menu. Live Trading ports: \n",
      "TWS: 7496; IB Gateway: 4001. Simulated Trading ports for new installations \n",
      "of version 954.1 or newer:  TWS: 7497; IB Gateway: 4002\n"
     ]
    },
    {
     "name": "stdout",
     "output_type": "stream",
     "text": [
      "processing AMGN for 20230115 23:59:59 US/Eastern took   3.05 sec\n",
      "processing 20230214 23:59:59 US/Eastern\n"
     ]
    },
    {
     "name": "stderr",
     "output_type": "stream",
     "text": [
      "ERROR -1 502 Couldn't connect to TWS. Confirm that \"Enable ActiveX and Socket EClients\" \n",
      "is enabled and connection port is the same as \"Socket Port\" on the \n",
      "TWS \"Edit->Global Configuration...->API->Settings\" menu. Live Trading ports: \n",
      "TWS: 7496; IB Gateway: 4001. Simulated Trading ports for new installations \n",
      "of version 954.1 or newer:  TWS: 7497; IB Gateway: 4002\n"
     ]
    },
    {
     "name": "stdout",
     "output_type": "stream",
     "text": [
      "processing AMGN for 20230214 23:59:59 US/Eastern took   3.03 sec\n",
      "processing 20230316 23:59:59 US/Eastern\n"
     ]
    },
    {
     "name": "stderr",
     "output_type": "stream",
     "text": [
      "ERROR -1 502 Couldn't connect to TWS. Confirm that \"Enable ActiveX and Socket EClients\" \n",
      "is enabled and connection port is the same as \"Socket Port\" on the \n",
      "TWS \"Edit->Global Configuration...->API->Settings\" menu. Live Trading ports: \n",
      "TWS: 7496; IB Gateway: 4001. Simulated Trading ports for new installations \n",
      "of version 954.1 or newer:  TWS: 7497; IB Gateway: 4002\n"
     ]
    },
    {
     "name": "stdout",
     "output_type": "stream",
     "text": [
      "processing AMGN for 20230316 23:59:59 US/Eastern took   3.05 sec\n",
      "Processing AXP\n",
      "processing 20200101 23:59:59 US/Eastern\n"
     ]
    },
    {
     "name": "stderr",
     "output_type": "stream",
     "text": [
      "ERROR -1 502 Couldn't connect to TWS. Confirm that \"Enable ActiveX and Socket EClients\" \n",
      "is enabled and connection port is the same as \"Socket Port\" on the \n",
      "TWS \"Edit->Global Configuration...->API->Settings\" menu. Live Trading ports: \n",
      "TWS: 7496; IB Gateway: 4001. Simulated Trading ports for new installations \n",
      "of version 954.1 or newer:  TWS: 7497; IB Gateway: 4002\n"
     ]
    },
    {
     "name": "stdout",
     "output_type": "stream",
     "text": [
      "processing AXP for 20200101 23:59:59 US/Eastern took   3.07 sec\n",
      "processing 20200131 23:59:59 US/Eastern\n"
     ]
    },
    {
     "name": "stderr",
     "output_type": "stream",
     "text": [
      "ERROR -1 502 Couldn't connect to TWS. Confirm that \"Enable ActiveX and Socket EClients\" \n",
      "is enabled and connection port is the same as \"Socket Port\" on the \n",
      "TWS \"Edit->Global Configuration...->API->Settings\" menu. Live Trading ports: \n",
      "TWS: 7496; IB Gateway: 4001. Simulated Trading ports for new installations \n",
      "of version 954.1 or newer:  TWS: 7497; IB Gateway: 4002\n"
     ]
    },
    {
     "name": "stdout",
     "output_type": "stream",
     "text": [
      "processing AXP for 20200131 23:59:59 US/Eastern took   3.06 sec\n",
      "processing 20200301 23:59:59 US/Eastern\n"
     ]
    },
    {
     "name": "stderr",
     "output_type": "stream",
     "text": [
      "ERROR -1 502 Couldn't connect to TWS. Confirm that \"Enable ActiveX and Socket EClients\" \n",
      "is enabled and connection port is the same as \"Socket Port\" on the \n",
      "TWS \"Edit->Global Configuration...->API->Settings\" menu. Live Trading ports: \n",
      "TWS: 7496; IB Gateway: 4001. Simulated Trading ports for new installations \n",
      "of version 954.1 or newer:  TWS: 7497; IB Gateway: 4002\n"
     ]
    },
    {
     "name": "stdout",
     "output_type": "stream",
     "text": [
      "processing AXP for 20200301 23:59:59 US/Eastern took   3.05 sec\n",
      "processing 20200331 23:59:59 US/Eastern\n"
     ]
    },
    {
     "name": "stderr",
     "output_type": "stream",
     "text": [
      "ERROR -1 502 Couldn't connect to TWS. Confirm that \"Enable ActiveX and Socket EClients\" \n",
      "is enabled and connection port is the same as \"Socket Port\" on the \n",
      "TWS \"Edit->Global Configuration...->API->Settings\" menu. Live Trading ports: \n",
      "TWS: 7496; IB Gateway: 4001. Simulated Trading ports for new installations \n",
      "of version 954.1 or newer:  TWS: 7497; IB Gateway: 4002\n"
     ]
    },
    {
     "name": "stdout",
     "output_type": "stream",
     "text": [
      "processing AXP for 20200331 23:59:59 US/Eastern took   3.03 sec\n",
      "processing 20200430 23:59:59 US/Eastern\n"
     ]
    },
    {
     "name": "stderr",
     "output_type": "stream",
     "text": [
      "ERROR -1 502 Couldn't connect to TWS. Confirm that \"Enable ActiveX and Socket EClients\" \n",
      "is enabled and connection port is the same as \"Socket Port\" on the \n",
      "TWS \"Edit->Global Configuration...->API->Settings\" menu. Live Trading ports: \n",
      "TWS: 7496; IB Gateway: 4001. Simulated Trading ports for new installations \n",
      "of version 954.1 or newer:  TWS: 7497; IB Gateway: 4002\n"
     ]
    },
    {
     "name": "stdout",
     "output_type": "stream",
     "text": [
      "processing AXP for 20200430 23:59:59 US/Eastern took   3.05 sec\n",
      "processing 20200530 23:59:59 US/Eastern\n"
     ]
    },
    {
     "name": "stderr",
     "output_type": "stream",
     "text": [
      "ERROR -1 502 Couldn't connect to TWS. Confirm that \"Enable ActiveX and Socket EClients\" \n",
      "is enabled and connection port is the same as \"Socket Port\" on the \n",
      "TWS \"Edit->Global Configuration...->API->Settings\" menu. Live Trading ports: \n",
      "TWS: 7496; IB Gateway: 4001. Simulated Trading ports for new installations \n",
      "of version 954.1 or newer:  TWS: 7497; IB Gateway: 4002\n"
     ]
    },
    {
     "name": "stdout",
     "output_type": "stream",
     "text": [
      "processing AXP for 20200530 23:59:59 US/Eastern took   3.05 sec\n",
      "processing 20200629 23:59:59 US/Eastern\n"
     ]
    },
    {
     "name": "stderr",
     "output_type": "stream",
     "text": [
      "ERROR -1 502 Couldn't connect to TWS. Confirm that \"Enable ActiveX and Socket EClients\" \n",
      "is enabled and connection port is the same as \"Socket Port\" on the \n",
      "TWS \"Edit->Global Configuration...->API->Settings\" menu. Live Trading ports: \n",
      "TWS: 7496; IB Gateway: 4001. Simulated Trading ports for new installations \n",
      "of version 954.1 or newer:  TWS: 7497; IB Gateway: 4002\n"
     ]
    },
    {
     "name": "stdout",
     "output_type": "stream",
     "text": [
      "processing AXP for 20200629 23:59:59 US/Eastern took   3.05 sec\n",
      "processing 20200729 23:59:59 US/Eastern\n"
     ]
    },
    {
     "name": "stderr",
     "output_type": "stream",
     "text": [
      "ERROR -1 502 Couldn't connect to TWS. Confirm that \"Enable ActiveX and Socket EClients\" \n",
      "is enabled and connection port is the same as \"Socket Port\" on the \n",
      "TWS \"Edit->Global Configuration...->API->Settings\" menu. Live Trading ports: \n",
      "TWS: 7496; IB Gateway: 4001. Simulated Trading ports for new installations \n",
      "of version 954.1 or newer:  TWS: 7497; IB Gateway: 4002\n"
     ]
    },
    {
     "name": "stdout",
     "output_type": "stream",
     "text": [
      "processing AXP for 20200729 23:59:59 US/Eastern took   3.04 sec\n",
      "processing 20200828 23:59:59 US/Eastern\n"
     ]
    },
    {
     "name": "stderr",
     "output_type": "stream",
     "text": [
      "ERROR -1 502 Couldn't connect to TWS. Confirm that \"Enable ActiveX and Socket EClients\" \n",
      "is enabled and connection port is the same as \"Socket Port\" on the \n",
      "TWS \"Edit->Global Configuration...->API->Settings\" menu. Live Trading ports: \n",
      "TWS: 7496; IB Gateway: 4001. Simulated Trading ports for new installations \n",
      "of version 954.1 or newer:  TWS: 7497; IB Gateway: 4002\n"
     ]
    },
    {
     "name": "stdout",
     "output_type": "stream",
     "text": [
      "processing AXP for 20200828 23:59:59 US/Eastern took   3.03 sec\n",
      "processing 20200927 23:59:59 US/Eastern\n"
     ]
    },
    {
     "name": "stderr",
     "output_type": "stream",
     "text": [
      "ERROR -1 502 Couldn't connect to TWS. Confirm that \"Enable ActiveX and Socket EClients\" \n",
      "is enabled and connection port is the same as \"Socket Port\" on the \n",
      "TWS \"Edit->Global Configuration...->API->Settings\" menu. Live Trading ports: \n",
      "TWS: 7496; IB Gateway: 4001. Simulated Trading ports for new installations \n",
      "of version 954.1 or newer:  TWS: 7497; IB Gateway: 4002\n"
     ]
    },
    {
     "name": "stdout",
     "output_type": "stream",
     "text": [
      "processing AXP for 20200927 23:59:59 US/Eastern took   3.03 sec\n",
      "processing 20201027 23:59:59 US/Eastern\n"
     ]
    },
    {
     "name": "stderr",
     "output_type": "stream",
     "text": [
      "ERROR -1 502 Couldn't connect to TWS. Confirm that \"Enable ActiveX and Socket EClients\" \n",
      "is enabled and connection port is the same as \"Socket Port\" on the \n",
      "TWS \"Edit->Global Configuration...->API->Settings\" menu. Live Trading ports: \n",
      "TWS: 7496; IB Gateway: 4001. Simulated Trading ports for new installations \n",
      "of version 954.1 or newer:  TWS: 7497; IB Gateway: 4002\n"
     ]
    },
    {
     "name": "stdout",
     "output_type": "stream",
     "text": [
      "processing AXP for 20201027 23:59:59 US/Eastern took   3.03 sec\n",
      "processing 20201126 23:59:59 US/Eastern\n"
     ]
    },
    {
     "name": "stderr",
     "output_type": "stream",
     "text": [
      "ERROR -1 502 Couldn't connect to TWS. Confirm that \"Enable ActiveX and Socket EClients\" \n",
      "is enabled and connection port is the same as \"Socket Port\" on the \n",
      "TWS \"Edit->Global Configuration...->API->Settings\" menu. Live Trading ports: \n",
      "TWS: 7496; IB Gateway: 4001. Simulated Trading ports for new installations \n",
      "of version 954.1 or newer:  TWS: 7497; IB Gateway: 4002\n"
     ]
    },
    {
     "name": "stdout",
     "output_type": "stream",
     "text": [
      "processing AXP for 20201126 23:59:59 US/Eastern took   3.05 sec\n",
      "processing 20201226 23:59:59 US/Eastern\n"
     ]
    },
    {
     "name": "stderr",
     "output_type": "stream",
     "text": [
      "ERROR -1 502 Couldn't connect to TWS. Confirm that \"Enable ActiveX and Socket EClients\" \n",
      "is enabled and connection port is the same as \"Socket Port\" on the \n",
      "TWS \"Edit->Global Configuration...->API->Settings\" menu. Live Trading ports: \n",
      "TWS: 7496; IB Gateway: 4001. Simulated Trading ports for new installations \n",
      "of version 954.1 or newer:  TWS: 7497; IB Gateway: 4002\n"
     ]
    },
    {
     "name": "stdout",
     "output_type": "stream",
     "text": [
      "processing AXP for 20201226 23:59:59 US/Eastern took   3.07 sec\n",
      "processing 20210125 23:59:59 US/Eastern\n"
     ]
    },
    {
     "name": "stderr",
     "output_type": "stream",
     "text": [
      "ERROR -1 502 Couldn't connect to TWS. Confirm that \"Enable ActiveX and Socket EClients\" \n",
      "is enabled and connection port is the same as \"Socket Port\" on the \n",
      "TWS \"Edit->Global Configuration...->API->Settings\" menu. Live Trading ports: \n",
      "TWS: 7496; IB Gateway: 4001. Simulated Trading ports for new installations \n",
      "of version 954.1 or newer:  TWS: 7497; IB Gateway: 4002\n"
     ]
    },
    {
     "name": "stdout",
     "output_type": "stream",
     "text": [
      "processing AXP for 20210125 23:59:59 US/Eastern took   3.04 sec\n",
      "processing 20210224 23:59:59 US/Eastern\n"
     ]
    },
    {
     "name": "stderr",
     "output_type": "stream",
     "text": [
      "ERROR -1 502 Couldn't connect to TWS. Confirm that \"Enable ActiveX and Socket EClients\" \n",
      "is enabled and connection port is the same as \"Socket Port\" on the \n",
      "TWS \"Edit->Global Configuration...->API->Settings\" menu. Live Trading ports: \n",
      "TWS: 7496; IB Gateway: 4001. Simulated Trading ports for new installations \n",
      "of version 954.1 or newer:  TWS: 7497; IB Gateway: 4002\n"
     ]
    },
    {
     "name": "stdout",
     "output_type": "stream",
     "text": [
      "processing AXP for 20210224 23:59:59 US/Eastern took   3.04 sec\n",
      "processing 20210326 23:59:59 US/Eastern\n"
     ]
    },
    {
     "name": "stderr",
     "output_type": "stream",
     "text": [
      "ERROR -1 502 Couldn't connect to TWS. Confirm that \"Enable ActiveX and Socket EClients\" \n",
      "is enabled and connection port is the same as \"Socket Port\" on the \n",
      "TWS \"Edit->Global Configuration...->API->Settings\" menu. Live Trading ports: \n",
      "TWS: 7496; IB Gateway: 4001. Simulated Trading ports for new installations \n",
      "of version 954.1 or newer:  TWS: 7497; IB Gateway: 4002\n"
     ]
    },
    {
     "name": "stdout",
     "output_type": "stream",
     "text": [
      "processing AXP for 20210326 23:59:59 US/Eastern took   3.03 sec\n",
      "processing 20210425 23:59:59 US/Eastern\n"
     ]
    },
    {
     "name": "stderr",
     "output_type": "stream",
     "text": [
      "ERROR -1 502 Couldn't connect to TWS. Confirm that \"Enable ActiveX and Socket EClients\" \n",
      "is enabled and connection port is the same as \"Socket Port\" on the \n",
      "TWS \"Edit->Global Configuration...->API->Settings\" menu. Live Trading ports: \n",
      "TWS: 7496; IB Gateway: 4001. Simulated Trading ports for new installations \n",
      "of version 954.1 or newer:  TWS: 7497; IB Gateway: 4002\n"
     ]
    },
    {
     "name": "stdout",
     "output_type": "stream",
     "text": [
      "processing AXP for 20210425 23:59:59 US/Eastern took   3.04 sec\n",
      "processing 20210525 23:59:59 US/Eastern\n"
     ]
    },
    {
     "name": "stderr",
     "output_type": "stream",
     "text": [
      "ERROR -1 502 Couldn't connect to TWS. Confirm that \"Enable ActiveX and Socket EClients\" \n",
      "is enabled and connection port is the same as \"Socket Port\" on the \n",
      "TWS \"Edit->Global Configuration...->API->Settings\" menu. Live Trading ports: \n",
      "TWS: 7496; IB Gateway: 4001. Simulated Trading ports for new installations \n",
      "of version 954.1 or newer:  TWS: 7497; IB Gateway: 4002\n"
     ]
    },
    {
     "name": "stdout",
     "output_type": "stream",
     "text": [
      "processing AXP for 20210525 23:59:59 US/Eastern took   3.03 sec\n",
      "processing 20210624 23:59:59 US/Eastern\n"
     ]
    },
    {
     "name": "stderr",
     "output_type": "stream",
     "text": [
      "ERROR -1 502 Couldn't connect to TWS. Confirm that \"Enable ActiveX and Socket EClients\" \n",
      "is enabled and connection port is the same as \"Socket Port\" on the \n",
      "TWS \"Edit->Global Configuration...->API->Settings\" menu. Live Trading ports: \n",
      "TWS: 7496; IB Gateway: 4001. Simulated Trading ports for new installations \n",
      "of version 954.1 or newer:  TWS: 7497; IB Gateway: 4002\n"
     ]
    },
    {
     "name": "stdout",
     "output_type": "stream",
     "text": [
      "processing AXP for 20210624 23:59:59 US/Eastern took   3.05 sec\n",
      "processing 20210724 23:59:59 US/Eastern\n"
     ]
    },
    {
     "name": "stderr",
     "output_type": "stream",
     "text": [
      "ERROR -1 502 Couldn't connect to TWS. Confirm that \"Enable ActiveX and Socket EClients\" \n",
      "is enabled and connection port is the same as \"Socket Port\" on the \n",
      "TWS \"Edit->Global Configuration...->API->Settings\" menu. Live Trading ports: \n",
      "TWS: 7496; IB Gateway: 4001. Simulated Trading ports for new installations \n",
      "of version 954.1 or newer:  TWS: 7497; IB Gateway: 4002\n"
     ]
    },
    {
     "name": "stdout",
     "output_type": "stream",
     "text": [
      "processing AXP for 20210724 23:59:59 US/Eastern took   3.06 sec\n",
      "processing 20210823 23:59:59 US/Eastern\n"
     ]
    },
    {
     "name": "stderr",
     "output_type": "stream",
     "text": [
      "ERROR -1 502 Couldn't connect to TWS. Confirm that \"Enable ActiveX and Socket EClients\" \n",
      "is enabled and connection port is the same as \"Socket Port\" on the \n",
      "TWS \"Edit->Global Configuration...->API->Settings\" menu. Live Trading ports: \n",
      "TWS: 7496; IB Gateway: 4001. Simulated Trading ports for new installations \n",
      "of version 954.1 or newer:  TWS: 7497; IB Gateway: 4002\n"
     ]
    },
    {
     "name": "stdout",
     "output_type": "stream",
     "text": [
      "processing AXP for 20210823 23:59:59 US/Eastern took   3.05 sec\n",
      "processing 20210922 23:59:59 US/Eastern\n"
     ]
    },
    {
     "name": "stderr",
     "output_type": "stream",
     "text": [
      "ERROR -1 502 Couldn't connect to TWS. Confirm that \"Enable ActiveX and Socket EClients\" \n",
      "is enabled and connection port is the same as \"Socket Port\" on the \n",
      "TWS \"Edit->Global Configuration...->API->Settings\" menu. Live Trading ports: \n",
      "TWS: 7496; IB Gateway: 4001. Simulated Trading ports for new installations \n",
      "of version 954.1 or newer:  TWS: 7497; IB Gateway: 4002\n"
     ]
    },
    {
     "name": "stdout",
     "output_type": "stream",
     "text": [
      "processing AXP for 20210922 23:59:59 US/Eastern took   3.05 sec\n",
      "processing 20211022 23:59:59 US/Eastern\n"
     ]
    },
    {
     "name": "stderr",
     "output_type": "stream",
     "text": [
      "ERROR -1 502 Couldn't connect to TWS. Confirm that \"Enable ActiveX and Socket EClients\" \n",
      "is enabled and connection port is the same as \"Socket Port\" on the \n",
      "TWS \"Edit->Global Configuration...->API->Settings\" menu. Live Trading ports: \n",
      "TWS: 7496; IB Gateway: 4001. Simulated Trading ports for new installations \n",
      "of version 954.1 or newer:  TWS: 7497; IB Gateway: 4002\n"
     ]
    },
    {
     "name": "stdout",
     "output_type": "stream",
     "text": [
      "processing AXP for 20211022 23:59:59 US/Eastern took   3.05 sec\n",
      "processing 20211121 23:59:59 US/Eastern\n"
     ]
    },
    {
     "name": "stderr",
     "output_type": "stream",
     "text": [
      "ERROR -1 502 Couldn't connect to TWS. Confirm that \"Enable ActiveX and Socket EClients\" \n",
      "is enabled and connection port is the same as \"Socket Port\" on the \n",
      "TWS \"Edit->Global Configuration...->API->Settings\" menu. Live Trading ports: \n",
      "TWS: 7496; IB Gateway: 4001. Simulated Trading ports for new installations \n",
      "of version 954.1 or newer:  TWS: 7497; IB Gateway: 4002\n"
     ]
    },
    {
     "name": "stdout",
     "output_type": "stream",
     "text": [
      "processing AXP for 20211121 23:59:59 US/Eastern took   3.04 sec\n",
      "processing 20211221 23:59:59 US/Eastern\n"
     ]
    },
    {
     "name": "stderr",
     "output_type": "stream",
     "text": [
      "ERROR -1 502 Couldn't connect to TWS. Confirm that \"Enable ActiveX and Socket EClients\" \n",
      "is enabled and connection port is the same as \"Socket Port\" on the \n",
      "TWS \"Edit->Global Configuration...->API->Settings\" menu. Live Trading ports: \n",
      "TWS: 7496; IB Gateway: 4001. Simulated Trading ports for new installations \n",
      "of version 954.1 or newer:  TWS: 7497; IB Gateway: 4002\n"
     ]
    },
    {
     "name": "stdout",
     "output_type": "stream",
     "text": [
      "processing AXP for 20211221 23:59:59 US/Eastern took   3.04 sec\n",
      "processing 20220120 23:59:59 US/Eastern\n"
     ]
    },
    {
     "name": "stderr",
     "output_type": "stream",
     "text": [
      "ERROR -1 502 Couldn't connect to TWS. Confirm that \"Enable ActiveX and Socket EClients\" \n",
      "is enabled and connection port is the same as \"Socket Port\" on the \n",
      "TWS \"Edit->Global Configuration...->API->Settings\" menu. Live Trading ports: \n",
      "TWS: 7496; IB Gateway: 4001. Simulated Trading ports for new installations \n",
      "of version 954.1 or newer:  TWS: 7497; IB Gateway: 4002\n"
     ]
    },
    {
     "name": "stdout",
     "output_type": "stream",
     "text": [
      "processing AXP for 20220120 23:59:59 US/Eastern took   3.04 sec\n",
      "processing 20220219 23:59:59 US/Eastern\n"
     ]
    },
    {
     "name": "stderr",
     "output_type": "stream",
     "text": [
      "ERROR -1 502 Couldn't connect to TWS. Confirm that \"Enable ActiveX and Socket EClients\" \n",
      "is enabled and connection port is the same as \"Socket Port\" on the \n",
      "TWS \"Edit->Global Configuration...->API->Settings\" menu. Live Trading ports: \n",
      "TWS: 7496; IB Gateway: 4001. Simulated Trading ports for new installations \n",
      "of version 954.1 or newer:  TWS: 7497; IB Gateway: 4002\n"
     ]
    },
    {
     "name": "stdout",
     "output_type": "stream",
     "text": [
      "processing AXP for 20220219 23:59:59 US/Eastern took   3.06 sec\n",
      "processing 20220321 23:59:59 US/Eastern\n"
     ]
    },
    {
     "name": "stderr",
     "output_type": "stream",
     "text": [
      "ERROR -1 502 Couldn't connect to TWS. Confirm that \"Enable ActiveX and Socket EClients\" \n",
      "is enabled and connection port is the same as \"Socket Port\" on the \n",
      "TWS \"Edit->Global Configuration...->API->Settings\" menu. Live Trading ports: \n",
      "TWS: 7496; IB Gateway: 4001. Simulated Trading ports for new installations \n",
      "of version 954.1 or newer:  TWS: 7497; IB Gateway: 4002\n"
     ]
    },
    {
     "name": "stdout",
     "output_type": "stream",
     "text": [
      "processing AXP for 20220321 23:59:59 US/Eastern took   3.06 sec\n",
      "processing 20220420 23:59:59 US/Eastern\n"
     ]
    },
    {
     "name": "stderr",
     "output_type": "stream",
     "text": [
      "ERROR -1 502 Couldn't connect to TWS. Confirm that \"Enable ActiveX and Socket EClients\" \n",
      "is enabled and connection port is the same as \"Socket Port\" on the \n",
      "TWS \"Edit->Global Configuration...->API->Settings\" menu. Live Trading ports: \n",
      "TWS: 7496; IB Gateway: 4001. Simulated Trading ports for new installations \n",
      "of version 954.1 or newer:  TWS: 7497; IB Gateway: 4002\n"
     ]
    },
    {
     "name": "stdout",
     "output_type": "stream",
     "text": [
      "processing AXP for 20220420 23:59:59 US/Eastern took   3.02 sec\n",
      "processing 20220520 23:59:59 US/Eastern\n"
     ]
    },
    {
     "name": "stderr",
     "output_type": "stream",
     "text": [
      "ERROR -1 502 Couldn't connect to TWS. Confirm that \"Enable ActiveX and Socket EClients\" \n",
      "is enabled and connection port is the same as \"Socket Port\" on the \n",
      "TWS \"Edit->Global Configuration...->API->Settings\" menu. Live Trading ports: \n",
      "TWS: 7496; IB Gateway: 4001. Simulated Trading ports for new installations \n",
      "of version 954.1 or newer:  TWS: 7497; IB Gateway: 4002\n"
     ]
    },
    {
     "name": "stdout",
     "output_type": "stream",
     "text": [
      "processing AXP for 20220520 23:59:59 US/Eastern took   3.04 sec\n",
      "processing 20220619 23:59:59 US/Eastern\n"
     ]
    },
    {
     "name": "stderr",
     "output_type": "stream",
     "text": [
      "ERROR -1 502 Couldn't connect to TWS. Confirm that \"Enable ActiveX and Socket EClients\" \n",
      "is enabled and connection port is the same as \"Socket Port\" on the \n",
      "TWS \"Edit->Global Configuration...->API->Settings\" menu. Live Trading ports: \n",
      "TWS: 7496; IB Gateway: 4001. Simulated Trading ports for new installations \n",
      "of version 954.1 or newer:  TWS: 7497; IB Gateway: 4002\n"
     ]
    },
    {
     "name": "stdout",
     "output_type": "stream",
     "text": [
      "processing AXP for 20220619 23:59:59 US/Eastern took   3.04 sec\n",
      "processing 20220719 23:59:59 US/Eastern\n"
     ]
    },
    {
     "name": "stderr",
     "output_type": "stream",
     "text": [
      "ERROR -1 502 Couldn't connect to TWS. Confirm that \"Enable ActiveX and Socket EClients\" \n",
      "is enabled and connection port is the same as \"Socket Port\" on the \n",
      "TWS \"Edit->Global Configuration...->API->Settings\" menu. Live Trading ports: \n",
      "TWS: 7496; IB Gateway: 4001. Simulated Trading ports for new installations \n",
      "of version 954.1 or newer:  TWS: 7497; IB Gateway: 4002\n"
     ]
    },
    {
     "name": "stdout",
     "output_type": "stream",
     "text": [
      "processing AXP for 20220719 23:59:59 US/Eastern took   3.05 sec\n",
      "processing 20220818 23:59:59 US/Eastern\n"
     ]
    },
    {
     "name": "stderr",
     "output_type": "stream",
     "text": [
      "ERROR -1 502 Couldn't connect to TWS. Confirm that \"Enable ActiveX and Socket EClients\" \n",
      "is enabled and connection port is the same as \"Socket Port\" on the \n",
      "TWS \"Edit->Global Configuration...->API->Settings\" menu. Live Trading ports: \n",
      "TWS: 7496; IB Gateway: 4001. Simulated Trading ports for new installations \n",
      "of version 954.1 or newer:  TWS: 7497; IB Gateway: 4002\n"
     ]
    },
    {
     "name": "stdout",
     "output_type": "stream",
     "text": [
      "processing AXP for 20220818 23:59:59 US/Eastern took   3.04 sec\n",
      "processing 20220917 23:59:59 US/Eastern\n"
     ]
    },
    {
     "name": "stderr",
     "output_type": "stream",
     "text": [
      "ERROR -1 502 Couldn't connect to TWS. Confirm that \"Enable ActiveX and Socket EClients\" \n",
      "is enabled and connection port is the same as \"Socket Port\" on the \n",
      "TWS \"Edit->Global Configuration...->API->Settings\" menu. Live Trading ports: \n",
      "TWS: 7496; IB Gateway: 4001. Simulated Trading ports for new installations \n",
      "of version 954.1 or newer:  TWS: 7497; IB Gateway: 4002\n"
     ]
    },
    {
     "name": "stdout",
     "output_type": "stream",
     "text": [
      "processing AXP for 20220917 23:59:59 US/Eastern took   3.05 sec\n",
      "processing 20221017 23:59:59 US/Eastern\n"
     ]
    },
    {
     "name": "stderr",
     "output_type": "stream",
     "text": [
      "ERROR -1 502 Couldn't connect to TWS. Confirm that \"Enable ActiveX and Socket EClients\" \n",
      "is enabled and connection port is the same as \"Socket Port\" on the \n",
      "TWS \"Edit->Global Configuration...->API->Settings\" menu. Live Trading ports: \n",
      "TWS: 7496; IB Gateway: 4001. Simulated Trading ports for new installations \n",
      "of version 954.1 or newer:  TWS: 7497; IB Gateway: 4002\n"
     ]
    },
    {
     "name": "stdout",
     "output_type": "stream",
     "text": [
      "processing AXP for 20221017 23:59:59 US/Eastern took   3.05 sec\n",
      "processing 20221116 23:59:59 US/Eastern\n"
     ]
    },
    {
     "name": "stderr",
     "output_type": "stream",
     "text": [
      "ERROR -1 502 Couldn't connect to TWS. Confirm that \"Enable ActiveX and Socket EClients\" \n",
      "is enabled and connection port is the same as \"Socket Port\" on the \n",
      "TWS \"Edit->Global Configuration...->API->Settings\" menu. Live Trading ports: \n",
      "TWS: 7496; IB Gateway: 4001. Simulated Trading ports for new installations \n",
      "of version 954.1 or newer:  TWS: 7497; IB Gateway: 4002\n"
     ]
    },
    {
     "name": "stdout",
     "output_type": "stream",
     "text": [
      "processing AXP for 20221116 23:59:59 US/Eastern took   3.04 sec\n",
      "processing 20221216 23:59:59 US/Eastern\n"
     ]
    },
    {
     "name": "stderr",
     "output_type": "stream",
     "text": [
      "ERROR -1 502 Couldn't connect to TWS. Confirm that \"Enable ActiveX and Socket EClients\" \n",
      "is enabled and connection port is the same as \"Socket Port\" on the \n",
      "TWS \"Edit->Global Configuration...->API->Settings\" menu. Live Trading ports: \n",
      "TWS: 7496; IB Gateway: 4001. Simulated Trading ports for new installations \n",
      "of version 954.1 or newer:  TWS: 7497; IB Gateway: 4002\n"
     ]
    },
    {
     "name": "stdout",
     "output_type": "stream",
     "text": [
      "processing AXP for 20221216 23:59:59 US/Eastern took   3.05 sec\n",
      "processing 20230115 23:59:59 US/Eastern\n"
     ]
    },
    {
     "name": "stderr",
     "output_type": "stream",
     "text": [
      "ERROR -1 502 Couldn't connect to TWS. Confirm that \"Enable ActiveX and Socket EClients\" \n",
      "is enabled and connection port is the same as \"Socket Port\" on the \n",
      "TWS \"Edit->Global Configuration...->API->Settings\" menu. Live Trading ports: \n",
      "TWS: 7496; IB Gateway: 4001. Simulated Trading ports for new installations \n",
      "of version 954.1 or newer:  TWS: 7497; IB Gateway: 4002\n"
     ]
    },
    {
     "name": "stdout",
     "output_type": "stream",
     "text": [
      "processing AXP for 20230115 23:59:59 US/Eastern took   3.05 sec\n",
      "processing 20230214 23:59:59 US/Eastern\n"
     ]
    },
    {
     "name": "stderr",
     "output_type": "stream",
     "text": [
      "ERROR -1 502 Couldn't connect to TWS. Confirm that \"Enable ActiveX and Socket EClients\" \n",
      "is enabled and connection port is the same as \"Socket Port\" on the \n",
      "TWS \"Edit->Global Configuration...->API->Settings\" menu. Live Trading ports: \n",
      "TWS: 7496; IB Gateway: 4001. Simulated Trading ports for new installations \n",
      "of version 954.1 or newer:  TWS: 7497; IB Gateway: 4002\n"
     ]
    },
    {
     "name": "stdout",
     "output_type": "stream",
     "text": [
      "processing AXP for 20230214 23:59:59 US/Eastern took   3.06 sec\n",
      "processing 20230316 23:59:59 US/Eastern\n"
     ]
    },
    {
     "name": "stderr",
     "output_type": "stream",
     "text": [
      "ERROR -1 502 Couldn't connect to TWS. Confirm that \"Enable ActiveX and Socket EClients\" \n",
      "is enabled and connection port is the same as \"Socket Port\" on the \n",
      "TWS \"Edit->Global Configuration...->API->Settings\" menu. Live Trading ports: \n",
      "TWS: 7496; IB Gateway: 4001. Simulated Trading ports for new installations \n",
      "of version 954.1 or newer:  TWS: 7497; IB Gateway: 4002\n"
     ]
    },
    {
     "name": "stdout",
     "output_type": "stream",
     "text": [
      "processing AXP for 20230316 23:59:59 US/Eastern took   3.04 sec\n",
      "Processing BA\n",
      "processing 20200101 23:59:59 US/Eastern\n"
     ]
    },
    {
     "name": "stderr",
     "output_type": "stream",
     "text": [
      "ERROR -1 502 Couldn't connect to TWS. Confirm that \"Enable ActiveX and Socket EClients\" \n",
      "is enabled and connection port is the same as \"Socket Port\" on the \n",
      "TWS \"Edit->Global Configuration...->API->Settings\" menu. Live Trading ports: \n",
      "TWS: 7496; IB Gateway: 4001. Simulated Trading ports for new installations \n",
      "of version 954.1 or newer:  TWS: 7497; IB Gateway: 4002\n"
     ]
    },
    {
     "name": "stdout",
     "output_type": "stream",
     "text": [
      "processing BA for 20200101 23:59:59 US/Eastern took   3.03 sec\n",
      "processing 20200131 23:59:59 US/Eastern\n"
     ]
    },
    {
     "name": "stderr",
     "output_type": "stream",
     "text": [
      "ERROR -1 502 Couldn't connect to TWS. Confirm that \"Enable ActiveX and Socket EClients\" \n",
      "is enabled and connection port is the same as \"Socket Port\" on the \n",
      "TWS \"Edit->Global Configuration...->API->Settings\" menu. Live Trading ports: \n",
      "TWS: 7496; IB Gateway: 4001. Simulated Trading ports for new installations \n",
      "of version 954.1 or newer:  TWS: 7497; IB Gateway: 4002\n"
     ]
    },
    {
     "name": "stdout",
     "output_type": "stream",
     "text": [
      "processing BA for 20200131 23:59:59 US/Eastern took   3.05 sec\n",
      "processing 20200301 23:59:59 US/Eastern\n"
     ]
    },
    {
     "name": "stderr",
     "output_type": "stream",
     "text": [
      "ERROR -1 502 Couldn't connect to TWS. Confirm that \"Enable ActiveX and Socket EClients\" \n",
      "is enabled and connection port is the same as \"Socket Port\" on the \n",
      "TWS \"Edit->Global Configuration...->API->Settings\" menu. Live Trading ports: \n",
      "TWS: 7496; IB Gateway: 4001. Simulated Trading ports for new installations \n",
      "of version 954.1 or newer:  TWS: 7497; IB Gateway: 4002\n"
     ]
    },
    {
     "name": "stdout",
     "output_type": "stream",
     "text": [
      "processing BA for 20200301 23:59:59 US/Eastern took   3.05 sec\n",
      "processing 20200331 23:59:59 US/Eastern\n"
     ]
    },
    {
     "name": "stderr",
     "output_type": "stream",
     "text": [
      "ERROR -1 502 Couldn't connect to TWS. Confirm that \"Enable ActiveX and Socket EClients\" \n",
      "is enabled and connection port is the same as \"Socket Port\" on the \n",
      "TWS \"Edit->Global Configuration...->API->Settings\" menu. Live Trading ports: \n",
      "TWS: 7496; IB Gateway: 4001. Simulated Trading ports for new installations \n",
      "of version 954.1 or newer:  TWS: 7497; IB Gateway: 4002\n"
     ]
    },
    {
     "name": "stdout",
     "output_type": "stream",
     "text": [
      "processing BA for 20200331 23:59:59 US/Eastern took   3.06 sec\n",
      "processing 20200430 23:59:59 US/Eastern\n"
     ]
    },
    {
     "name": "stderr",
     "output_type": "stream",
     "text": [
      "ERROR -1 502 Couldn't connect to TWS. Confirm that \"Enable ActiveX and Socket EClients\" \n",
      "is enabled and connection port is the same as \"Socket Port\" on the \n",
      "TWS \"Edit->Global Configuration...->API->Settings\" menu. Live Trading ports: \n",
      "TWS: 7496; IB Gateway: 4001. Simulated Trading ports for new installations \n",
      "of version 954.1 or newer:  TWS: 7497; IB Gateway: 4002\n"
     ]
    },
    {
     "name": "stdout",
     "output_type": "stream",
     "text": [
      "processing BA for 20200430 23:59:59 US/Eastern took   3.05 sec\n",
      "processing 20200530 23:59:59 US/Eastern\n"
     ]
    },
    {
     "name": "stderr",
     "output_type": "stream",
     "text": [
      "ERROR -1 502 Couldn't connect to TWS. Confirm that \"Enable ActiveX and Socket EClients\" \n",
      "is enabled and connection port is the same as \"Socket Port\" on the \n",
      "TWS \"Edit->Global Configuration...->API->Settings\" menu. Live Trading ports: \n",
      "TWS: 7496; IB Gateway: 4001. Simulated Trading ports for new installations \n",
      "of version 954.1 or newer:  TWS: 7497; IB Gateway: 4002\n"
     ]
    },
    {
     "name": "stdout",
     "output_type": "stream",
     "text": [
      "processing BA for 20200530 23:59:59 US/Eastern took   3.03 sec\n",
      "processing 20200629 23:59:59 US/Eastern\n"
     ]
    },
    {
     "name": "stderr",
     "output_type": "stream",
     "text": [
      "ERROR -1 502 Couldn't connect to TWS. Confirm that \"Enable ActiveX and Socket EClients\" \n",
      "is enabled and connection port is the same as \"Socket Port\" on the \n",
      "TWS \"Edit->Global Configuration...->API->Settings\" menu. Live Trading ports: \n",
      "TWS: 7496; IB Gateway: 4001. Simulated Trading ports for new installations \n",
      "of version 954.1 or newer:  TWS: 7497; IB Gateway: 4002\n"
     ]
    },
    {
     "name": "stdout",
     "output_type": "stream",
     "text": [
      "processing BA for 20200629 23:59:59 US/Eastern took   3.04 sec\n",
      "processing 20200729 23:59:59 US/Eastern\n"
     ]
    },
    {
     "name": "stderr",
     "output_type": "stream",
     "text": [
      "ERROR -1 502 Couldn't connect to TWS. Confirm that \"Enable ActiveX and Socket EClients\" \n",
      "is enabled and connection port is the same as \"Socket Port\" on the \n",
      "TWS \"Edit->Global Configuration...->API->Settings\" menu. Live Trading ports: \n",
      "TWS: 7496; IB Gateway: 4001. Simulated Trading ports for new installations \n",
      "of version 954.1 or newer:  TWS: 7497; IB Gateway: 4002\n"
     ]
    },
    {
     "name": "stdout",
     "output_type": "stream",
     "text": [
      "processing BA for 20200729 23:59:59 US/Eastern took   3.02 sec\n",
      "processing 20200828 23:59:59 US/Eastern\n"
     ]
    },
    {
     "name": "stderr",
     "output_type": "stream",
     "text": [
      "ERROR -1 502 Couldn't connect to TWS. Confirm that \"Enable ActiveX and Socket EClients\" \n",
      "is enabled and connection port is the same as \"Socket Port\" on the \n",
      "TWS \"Edit->Global Configuration...->API->Settings\" menu. Live Trading ports: \n",
      "TWS: 7496; IB Gateway: 4001. Simulated Trading ports for new installations \n",
      "of version 954.1 or newer:  TWS: 7497; IB Gateway: 4002\n"
     ]
    },
    {
     "name": "stdout",
     "output_type": "stream",
     "text": [
      "processing BA for 20200828 23:59:59 US/Eastern took   3.04 sec\n",
      "processing 20200927 23:59:59 US/Eastern\n"
     ]
    },
    {
     "name": "stderr",
     "output_type": "stream",
     "text": [
      "ERROR -1 502 Couldn't connect to TWS. Confirm that \"Enable ActiveX and Socket EClients\" \n",
      "is enabled and connection port is the same as \"Socket Port\" on the \n",
      "TWS \"Edit->Global Configuration...->API->Settings\" menu. Live Trading ports: \n",
      "TWS: 7496; IB Gateway: 4001. Simulated Trading ports for new installations \n",
      "of version 954.1 or newer:  TWS: 7497; IB Gateway: 4002\n"
     ]
    },
    {
     "name": "stdout",
     "output_type": "stream",
     "text": [
      "processing BA for 20200927 23:59:59 US/Eastern took   3.04 sec\n",
      "processing 20201027 23:59:59 US/Eastern\n"
     ]
    },
    {
     "name": "stderr",
     "output_type": "stream",
     "text": [
      "ERROR -1 502 Couldn't connect to TWS. Confirm that \"Enable ActiveX and Socket EClients\" \n",
      "is enabled and connection port is the same as \"Socket Port\" on the \n",
      "TWS \"Edit->Global Configuration...->API->Settings\" menu. Live Trading ports: \n",
      "TWS: 7496; IB Gateway: 4001. Simulated Trading ports for new installations \n",
      "of version 954.1 or newer:  TWS: 7497; IB Gateway: 4002\n"
     ]
    },
    {
     "name": "stdout",
     "output_type": "stream",
     "text": [
      "processing BA for 20201027 23:59:59 US/Eastern took   3.04 sec\n",
      "processing 20201126 23:59:59 US/Eastern\n"
     ]
    },
    {
     "name": "stderr",
     "output_type": "stream",
     "text": [
      "ERROR -1 502 Couldn't connect to TWS. Confirm that \"Enable ActiveX and Socket EClients\" \n",
      "is enabled and connection port is the same as \"Socket Port\" on the \n",
      "TWS \"Edit->Global Configuration...->API->Settings\" menu. Live Trading ports: \n",
      "TWS: 7496; IB Gateway: 4001. Simulated Trading ports for new installations \n",
      "of version 954.1 or newer:  TWS: 7497; IB Gateway: 4002\n"
     ]
    },
    {
     "name": "stdout",
     "output_type": "stream",
     "text": [
      "processing BA for 20201126 23:59:59 US/Eastern took   3.03 sec\n",
      "processing 20201226 23:59:59 US/Eastern\n"
     ]
    },
    {
     "name": "stderr",
     "output_type": "stream",
     "text": [
      "ERROR -1 502 Couldn't connect to TWS. Confirm that \"Enable ActiveX and Socket EClients\" \n",
      "is enabled and connection port is the same as \"Socket Port\" on the \n",
      "TWS \"Edit->Global Configuration...->API->Settings\" menu. Live Trading ports: \n",
      "TWS: 7496; IB Gateway: 4001. Simulated Trading ports for new installations \n",
      "of version 954.1 or newer:  TWS: 7497; IB Gateway: 4002\n"
     ]
    },
    {
     "name": "stdout",
     "output_type": "stream",
     "text": [
      "processing BA for 20201226 23:59:59 US/Eastern took   3.04 sec\n",
      "processing 20210125 23:59:59 US/Eastern\n"
     ]
    },
    {
     "name": "stderr",
     "output_type": "stream",
     "text": [
      "ERROR -1 502 Couldn't connect to TWS. Confirm that \"Enable ActiveX and Socket EClients\" \n",
      "is enabled and connection port is the same as \"Socket Port\" on the \n",
      "TWS \"Edit->Global Configuration...->API->Settings\" menu. Live Trading ports: \n",
      "TWS: 7496; IB Gateway: 4001. Simulated Trading ports for new installations \n",
      "of version 954.1 or newer:  TWS: 7497; IB Gateway: 4002\n"
     ]
    },
    {
     "name": "stdout",
     "output_type": "stream",
     "text": [
      "processing BA for 20210125 23:59:59 US/Eastern took   3.05 sec\n",
      "processing 20210224 23:59:59 US/Eastern\n"
     ]
    },
    {
     "name": "stderr",
     "output_type": "stream",
     "text": [
      "ERROR -1 502 Couldn't connect to TWS. Confirm that \"Enable ActiveX and Socket EClients\" \n",
      "is enabled and connection port is the same as \"Socket Port\" on the \n",
      "TWS \"Edit->Global Configuration...->API->Settings\" menu. Live Trading ports: \n",
      "TWS: 7496; IB Gateway: 4001. Simulated Trading ports for new installations \n",
      "of version 954.1 or newer:  TWS: 7497; IB Gateway: 4002\n"
     ]
    },
    {
     "name": "stdout",
     "output_type": "stream",
     "text": [
      "processing BA for 20210224 23:59:59 US/Eastern took   3.03 sec\n",
      "processing 20210326 23:59:59 US/Eastern\n"
     ]
    },
    {
     "name": "stderr",
     "output_type": "stream",
     "text": [
      "ERROR -1 502 Couldn't connect to TWS. Confirm that \"Enable ActiveX and Socket EClients\" \n",
      "is enabled and connection port is the same as \"Socket Port\" on the \n",
      "TWS \"Edit->Global Configuration...->API->Settings\" menu. Live Trading ports: \n",
      "TWS: 7496; IB Gateway: 4001. Simulated Trading ports for new installations \n",
      "of version 954.1 or newer:  TWS: 7497; IB Gateway: 4002\n"
     ]
    },
    {
     "name": "stdout",
     "output_type": "stream",
     "text": [
      "processing BA for 20210326 23:59:59 US/Eastern took   3.04 sec\n",
      "processing 20210425 23:59:59 US/Eastern\n"
     ]
    },
    {
     "name": "stderr",
     "output_type": "stream",
     "text": [
      "ERROR -1 502 Couldn't connect to TWS. Confirm that \"Enable ActiveX and Socket EClients\" \n",
      "is enabled and connection port is the same as \"Socket Port\" on the \n",
      "TWS \"Edit->Global Configuration...->API->Settings\" menu. Live Trading ports: \n",
      "TWS: 7496; IB Gateway: 4001. Simulated Trading ports for new installations \n",
      "of version 954.1 or newer:  TWS: 7497; IB Gateway: 4002\n"
     ]
    },
    {
     "name": "stdout",
     "output_type": "stream",
     "text": [
      "processing BA for 20210425 23:59:59 US/Eastern took   3.05 sec\n",
      "processing 20210525 23:59:59 US/Eastern\n"
     ]
    },
    {
     "name": "stderr",
     "output_type": "stream",
     "text": [
      "ERROR -1 502 Couldn't connect to TWS. Confirm that \"Enable ActiveX and Socket EClients\" \n",
      "is enabled and connection port is the same as \"Socket Port\" on the \n",
      "TWS \"Edit->Global Configuration...->API->Settings\" menu. Live Trading ports: \n",
      "TWS: 7496; IB Gateway: 4001. Simulated Trading ports for new installations \n",
      "of version 954.1 or newer:  TWS: 7497; IB Gateway: 4002\n"
     ]
    },
    {
     "name": "stdout",
     "output_type": "stream",
     "text": [
      "processing BA for 20210525 23:59:59 US/Eastern took   3.03 sec\n",
      "processing 20210624 23:59:59 US/Eastern\n"
     ]
    },
    {
     "name": "stderr",
     "output_type": "stream",
     "text": [
      "ERROR -1 502 Couldn't connect to TWS. Confirm that \"Enable ActiveX and Socket EClients\" \n",
      "is enabled and connection port is the same as \"Socket Port\" on the \n",
      "TWS \"Edit->Global Configuration...->API->Settings\" menu. Live Trading ports: \n",
      "TWS: 7496; IB Gateway: 4001. Simulated Trading ports for new installations \n",
      "of version 954.1 or newer:  TWS: 7497; IB Gateway: 4002\n"
     ]
    },
    {
     "name": "stdout",
     "output_type": "stream",
     "text": [
      "processing BA for 20210624 23:59:59 US/Eastern took   3.04 sec\n",
      "processing 20210724 23:59:59 US/Eastern\n"
     ]
    },
    {
     "name": "stderr",
     "output_type": "stream",
     "text": [
      "ERROR -1 502 Couldn't connect to TWS. Confirm that \"Enable ActiveX and Socket EClients\" \n",
      "is enabled and connection port is the same as \"Socket Port\" on the \n",
      "TWS \"Edit->Global Configuration...->API->Settings\" menu. Live Trading ports: \n",
      "TWS: 7496; IB Gateway: 4001. Simulated Trading ports for new installations \n",
      "of version 954.1 or newer:  TWS: 7497; IB Gateway: 4002\n"
     ]
    },
    {
     "name": "stdout",
     "output_type": "stream",
     "text": [
      "processing BA for 20210724 23:59:59 US/Eastern took   3.04 sec\n",
      "processing 20210823 23:59:59 US/Eastern\n"
     ]
    },
    {
     "name": "stderr",
     "output_type": "stream",
     "text": [
      "ERROR -1 502 Couldn't connect to TWS. Confirm that \"Enable ActiveX and Socket EClients\" \n",
      "is enabled and connection port is the same as \"Socket Port\" on the \n",
      "TWS \"Edit->Global Configuration...->API->Settings\" menu. Live Trading ports: \n",
      "TWS: 7496; IB Gateway: 4001. Simulated Trading ports for new installations \n",
      "of version 954.1 or newer:  TWS: 7497; IB Gateway: 4002\n"
     ]
    },
    {
     "name": "stdout",
     "output_type": "stream",
     "text": [
      "processing BA for 20210823 23:59:59 US/Eastern took   3.04 sec\n",
      "processing 20210922 23:59:59 US/Eastern\n"
     ]
    },
    {
     "name": "stderr",
     "output_type": "stream",
     "text": [
      "ERROR -1 502 Couldn't connect to TWS. Confirm that \"Enable ActiveX and Socket EClients\" \n",
      "is enabled and connection port is the same as \"Socket Port\" on the \n",
      "TWS \"Edit->Global Configuration...->API->Settings\" menu. Live Trading ports: \n",
      "TWS: 7496; IB Gateway: 4001. Simulated Trading ports for new installations \n",
      "of version 954.1 or newer:  TWS: 7497; IB Gateway: 4002\n"
     ]
    },
    {
     "name": "stdout",
     "output_type": "stream",
     "text": [
      "processing BA for 20210922 23:59:59 US/Eastern took   3.06 sec\n",
      "processing 20211022 23:59:59 US/Eastern\n"
     ]
    },
    {
     "name": "stderr",
     "output_type": "stream",
     "text": [
      "ERROR -1 502 Couldn't connect to TWS. Confirm that \"Enable ActiveX and Socket EClients\" \n",
      "is enabled and connection port is the same as \"Socket Port\" on the \n",
      "TWS \"Edit->Global Configuration...->API->Settings\" menu. Live Trading ports: \n",
      "TWS: 7496; IB Gateway: 4001. Simulated Trading ports for new installations \n",
      "of version 954.1 or newer:  TWS: 7497; IB Gateway: 4002\n"
     ]
    },
    {
     "name": "stdout",
     "output_type": "stream",
     "text": [
      "processing BA for 20211022 23:59:59 US/Eastern took   3.05 sec\n",
      "processing 20211121 23:59:59 US/Eastern\n"
     ]
    },
    {
     "name": "stderr",
     "output_type": "stream",
     "text": [
      "ERROR -1 502 Couldn't connect to TWS. Confirm that \"Enable ActiveX and Socket EClients\" \n",
      "is enabled and connection port is the same as \"Socket Port\" on the \n",
      "TWS \"Edit->Global Configuration...->API->Settings\" menu. Live Trading ports: \n",
      "TWS: 7496; IB Gateway: 4001. Simulated Trading ports for new installations \n",
      "of version 954.1 or newer:  TWS: 7497; IB Gateway: 4002\n"
     ]
    },
    {
     "name": "stdout",
     "output_type": "stream",
     "text": [
      "processing BA for 20211121 23:59:59 US/Eastern took   3.04 sec\n",
      "processing 20211221 23:59:59 US/Eastern\n"
     ]
    },
    {
     "name": "stderr",
     "output_type": "stream",
     "text": [
      "ERROR -1 502 Couldn't connect to TWS. Confirm that \"Enable ActiveX and Socket EClients\" \n",
      "is enabled and connection port is the same as \"Socket Port\" on the \n",
      "TWS \"Edit->Global Configuration...->API->Settings\" menu. Live Trading ports: \n",
      "TWS: 7496; IB Gateway: 4001. Simulated Trading ports for new installations \n",
      "of version 954.1 or newer:  TWS: 7497; IB Gateway: 4002\n"
     ]
    },
    {
     "name": "stdout",
     "output_type": "stream",
     "text": [
      "processing BA for 20211221 23:59:59 US/Eastern took   3.05 sec\n",
      "processing 20220120 23:59:59 US/Eastern\n"
     ]
    },
    {
     "name": "stderr",
     "output_type": "stream",
     "text": [
      "ERROR -1 502 Couldn't connect to TWS. Confirm that \"Enable ActiveX and Socket EClients\" \n",
      "is enabled and connection port is the same as \"Socket Port\" on the \n",
      "TWS \"Edit->Global Configuration...->API->Settings\" menu. Live Trading ports: \n",
      "TWS: 7496; IB Gateway: 4001. Simulated Trading ports for new installations \n",
      "of version 954.1 or newer:  TWS: 7497; IB Gateway: 4002\n"
     ]
    },
    {
     "name": "stdout",
     "output_type": "stream",
     "text": [
      "processing BA for 20220120 23:59:59 US/Eastern took   3.05 sec\n",
      "processing 20220219 23:59:59 US/Eastern\n"
     ]
    },
    {
     "name": "stderr",
     "output_type": "stream",
     "text": [
      "ERROR -1 502 Couldn't connect to TWS. Confirm that \"Enable ActiveX and Socket EClients\" \n",
      "is enabled and connection port is the same as \"Socket Port\" on the \n",
      "TWS \"Edit->Global Configuration...->API->Settings\" menu. Live Trading ports: \n",
      "TWS: 7496; IB Gateway: 4001. Simulated Trading ports for new installations \n",
      "of version 954.1 or newer:  TWS: 7497; IB Gateway: 4002\n"
     ]
    },
    {
     "name": "stdout",
     "output_type": "stream",
     "text": [
      "processing BA for 20220219 23:59:59 US/Eastern took   3.04 sec\n",
      "processing 20220321 23:59:59 US/Eastern\n"
     ]
    },
    {
     "name": "stderr",
     "output_type": "stream",
     "text": [
      "ERROR -1 502 Couldn't connect to TWS. Confirm that \"Enable ActiveX and Socket EClients\" \n",
      "is enabled and connection port is the same as \"Socket Port\" on the \n",
      "TWS \"Edit->Global Configuration...->API->Settings\" menu. Live Trading ports: \n",
      "TWS: 7496; IB Gateway: 4001. Simulated Trading ports for new installations \n",
      "of version 954.1 or newer:  TWS: 7497; IB Gateway: 4002\n"
     ]
    },
    {
     "name": "stdout",
     "output_type": "stream",
     "text": [
      "processing BA for 20220321 23:59:59 US/Eastern took   3.05 sec\n",
      "processing 20220420 23:59:59 US/Eastern\n"
     ]
    },
    {
     "name": "stderr",
     "output_type": "stream",
     "text": [
      "ERROR -1 502 Couldn't connect to TWS. Confirm that \"Enable ActiveX and Socket EClients\" \n",
      "is enabled and connection port is the same as \"Socket Port\" on the \n",
      "TWS \"Edit->Global Configuration...->API->Settings\" menu. Live Trading ports: \n",
      "TWS: 7496; IB Gateway: 4001. Simulated Trading ports for new installations \n",
      "of version 954.1 or newer:  TWS: 7497; IB Gateway: 4002\n"
     ]
    },
    {
     "name": "stdout",
     "output_type": "stream",
     "text": [
      "processing BA for 20220420 23:59:59 US/Eastern took   3.05 sec\n",
      "processing 20220520 23:59:59 US/Eastern\n"
     ]
    },
    {
     "name": "stderr",
     "output_type": "stream",
     "text": [
      "ERROR -1 502 Couldn't connect to TWS. Confirm that \"Enable ActiveX and Socket EClients\" \n",
      "is enabled and connection port is the same as \"Socket Port\" on the \n",
      "TWS \"Edit->Global Configuration...->API->Settings\" menu. Live Trading ports: \n",
      "TWS: 7496; IB Gateway: 4001. Simulated Trading ports for new installations \n",
      "of version 954.1 or newer:  TWS: 7497; IB Gateway: 4002\n"
     ]
    },
    {
     "name": "stdout",
     "output_type": "stream",
     "text": [
      "processing BA for 20220520 23:59:59 US/Eastern took   3.04 sec\n",
      "processing 20220619 23:59:59 US/Eastern\n"
     ]
    },
    {
     "name": "stderr",
     "output_type": "stream",
     "text": [
      "ERROR -1 502 Couldn't connect to TWS. Confirm that \"Enable ActiveX and Socket EClients\" \n",
      "is enabled and connection port is the same as \"Socket Port\" on the \n",
      "TWS \"Edit->Global Configuration...->API->Settings\" menu. Live Trading ports: \n",
      "TWS: 7496; IB Gateway: 4001. Simulated Trading ports for new installations \n",
      "of version 954.1 or newer:  TWS: 7497; IB Gateway: 4002\n"
     ]
    },
    {
     "name": "stdout",
     "output_type": "stream",
     "text": [
      "processing BA for 20220619 23:59:59 US/Eastern took   3.04 sec\n",
      "processing 20220719 23:59:59 US/Eastern\n"
     ]
    },
    {
     "name": "stderr",
     "output_type": "stream",
     "text": [
      "ERROR -1 502 Couldn't connect to TWS. Confirm that \"Enable ActiveX and Socket EClients\" \n",
      "is enabled and connection port is the same as \"Socket Port\" on the \n",
      "TWS \"Edit->Global Configuration...->API->Settings\" menu. Live Trading ports: \n",
      "TWS: 7496; IB Gateway: 4001. Simulated Trading ports for new installations \n",
      "of version 954.1 or newer:  TWS: 7497; IB Gateway: 4002\n"
     ]
    },
    {
     "name": "stdout",
     "output_type": "stream",
     "text": [
      "processing BA for 20220719 23:59:59 US/Eastern took   3.04 sec\n",
      "processing 20220818 23:59:59 US/Eastern\n"
     ]
    },
    {
     "name": "stderr",
     "output_type": "stream",
     "text": [
      "ERROR -1 502 Couldn't connect to TWS. Confirm that \"Enable ActiveX and Socket EClients\" \n",
      "is enabled and connection port is the same as \"Socket Port\" on the \n",
      "TWS \"Edit->Global Configuration...->API->Settings\" menu. Live Trading ports: \n",
      "TWS: 7496; IB Gateway: 4001. Simulated Trading ports for new installations \n",
      "of version 954.1 or newer:  TWS: 7497; IB Gateway: 4002\n"
     ]
    },
    {
     "name": "stdout",
     "output_type": "stream",
     "text": [
      "processing BA for 20220818 23:59:59 US/Eastern took   3.05 sec\n",
      "processing 20220917 23:59:59 US/Eastern\n"
     ]
    },
    {
     "name": "stderr",
     "output_type": "stream",
     "text": [
      "ERROR -1 502 Couldn't connect to TWS. Confirm that \"Enable ActiveX and Socket EClients\" \n",
      "is enabled and connection port is the same as \"Socket Port\" on the \n",
      "TWS \"Edit->Global Configuration...->API->Settings\" menu. Live Trading ports: \n",
      "TWS: 7496; IB Gateway: 4001. Simulated Trading ports for new installations \n",
      "of version 954.1 or newer:  TWS: 7497; IB Gateway: 4002\n"
     ]
    },
    {
     "name": "stdout",
     "output_type": "stream",
     "text": [
      "processing BA for 20220917 23:59:59 US/Eastern took   3.05 sec\n",
      "processing 20221017 23:59:59 US/Eastern\n"
     ]
    },
    {
     "name": "stderr",
     "output_type": "stream",
     "text": [
      "ERROR -1 502 Couldn't connect to TWS. Confirm that \"Enable ActiveX and Socket EClients\" \n",
      "is enabled and connection port is the same as \"Socket Port\" on the \n",
      "TWS \"Edit->Global Configuration...->API->Settings\" menu. Live Trading ports: \n",
      "TWS: 7496; IB Gateway: 4001. Simulated Trading ports for new installations \n",
      "of version 954.1 or newer:  TWS: 7497; IB Gateway: 4002\n"
     ]
    },
    {
     "name": "stdout",
     "output_type": "stream",
     "text": [
      "processing BA for 20221017 23:59:59 US/Eastern took   3.04 sec\n",
      "processing 20221116 23:59:59 US/Eastern\n"
     ]
    },
    {
     "name": "stderr",
     "output_type": "stream",
     "text": [
      "ERROR -1 502 Couldn't connect to TWS. Confirm that \"Enable ActiveX and Socket EClients\" \n",
      "is enabled and connection port is the same as \"Socket Port\" on the \n",
      "TWS \"Edit->Global Configuration...->API->Settings\" menu. Live Trading ports: \n",
      "TWS: 7496; IB Gateway: 4001. Simulated Trading ports for new installations \n",
      "of version 954.1 or newer:  TWS: 7497; IB Gateway: 4002\n"
     ]
    },
    {
     "name": "stdout",
     "output_type": "stream",
     "text": [
      "processing BA for 20221116 23:59:59 US/Eastern took   3.05 sec\n",
      "processing 20221216 23:59:59 US/Eastern\n"
     ]
    },
    {
     "name": "stderr",
     "output_type": "stream",
     "text": [
      "ERROR -1 502 Couldn't connect to TWS. Confirm that \"Enable ActiveX and Socket EClients\" \n",
      "is enabled and connection port is the same as \"Socket Port\" on the \n",
      "TWS \"Edit->Global Configuration...->API->Settings\" menu. Live Trading ports: \n",
      "TWS: 7496; IB Gateway: 4001. Simulated Trading ports for new installations \n",
      "of version 954.1 or newer:  TWS: 7497; IB Gateway: 4002\n"
     ]
    },
    {
     "name": "stdout",
     "output_type": "stream",
     "text": [
      "processing BA for 20221216 23:59:59 US/Eastern took   3.05 sec\n",
      "processing 20230115 23:59:59 US/Eastern\n"
     ]
    },
    {
     "name": "stderr",
     "output_type": "stream",
     "text": [
      "ERROR -1 502 Couldn't connect to TWS. Confirm that \"Enable ActiveX and Socket EClients\" \n",
      "is enabled and connection port is the same as \"Socket Port\" on the \n",
      "TWS \"Edit->Global Configuration...->API->Settings\" menu. Live Trading ports: \n",
      "TWS: 7496; IB Gateway: 4001. Simulated Trading ports for new installations \n",
      "of version 954.1 or newer:  TWS: 7497; IB Gateway: 4002\n"
     ]
    },
    {
     "name": "stdout",
     "output_type": "stream",
     "text": [
      "processing BA for 20230115 23:59:59 US/Eastern took   3.06 sec\n",
      "processing 20230214 23:59:59 US/Eastern\n"
     ]
    },
    {
     "name": "stderr",
     "output_type": "stream",
     "text": [
      "ERROR -1 502 Couldn't connect to TWS. Confirm that \"Enable ActiveX and Socket EClients\" \n",
      "is enabled and connection port is the same as \"Socket Port\" on the \n",
      "TWS \"Edit->Global Configuration...->API->Settings\" menu. Live Trading ports: \n",
      "TWS: 7496; IB Gateway: 4001. Simulated Trading ports for new installations \n",
      "of version 954.1 or newer:  TWS: 7497; IB Gateway: 4002\n"
     ]
    },
    {
     "name": "stdout",
     "output_type": "stream",
     "text": [
      "processing BA for 20230214 23:59:59 US/Eastern took   3.03 sec\n",
      "processing 20230316 23:59:59 US/Eastern\n"
     ]
    },
    {
     "name": "stderr",
     "output_type": "stream",
     "text": [
      "ERROR -1 502 Couldn't connect to TWS. Confirm that \"Enable ActiveX and Socket EClients\" \n",
      "is enabled and connection port is the same as \"Socket Port\" on the \n",
      "TWS \"Edit->Global Configuration...->API->Settings\" menu. Live Trading ports: \n",
      "TWS: 7496; IB Gateway: 4001. Simulated Trading ports for new installations \n",
      "of version 954.1 or newer:  TWS: 7497; IB Gateway: 4002\n"
     ]
    },
    {
     "name": "stdout",
     "output_type": "stream",
     "text": [
      "processing BA for 20230316 23:59:59 US/Eastern took   3.05 sec\n",
      "Processing CAT\n",
      "processing 20200101 23:59:59 US/Eastern\n"
     ]
    },
    {
     "name": "stderr",
     "output_type": "stream",
     "text": [
      "ERROR -1 502 Couldn't connect to TWS. Confirm that \"Enable ActiveX and Socket EClients\" \n",
      "is enabled and connection port is the same as \"Socket Port\" on the \n",
      "TWS \"Edit->Global Configuration...->API->Settings\" menu. Live Trading ports: \n",
      "TWS: 7496; IB Gateway: 4001. Simulated Trading ports for new installations \n",
      "of version 954.1 or newer:  TWS: 7497; IB Gateway: 4002\n"
     ]
    },
    {
     "name": "stdout",
     "output_type": "stream",
     "text": [
      "processing CAT for 20200101 23:59:59 US/Eastern took   3.04 sec\n",
      "processing 20200131 23:59:59 US/Eastern\n"
     ]
    },
    {
     "name": "stderr",
     "output_type": "stream",
     "text": [
      "ERROR -1 502 Couldn't connect to TWS. Confirm that \"Enable ActiveX and Socket EClients\" \n",
      "is enabled and connection port is the same as \"Socket Port\" on the \n",
      "TWS \"Edit->Global Configuration...->API->Settings\" menu. Live Trading ports: \n",
      "TWS: 7496; IB Gateway: 4001. Simulated Trading ports for new installations \n",
      "of version 954.1 or newer:  TWS: 7497; IB Gateway: 4002\n"
     ]
    },
    {
     "name": "stdout",
     "output_type": "stream",
     "text": [
      "processing CAT for 20200131 23:59:59 US/Eastern took   3.05 sec\n",
      "processing 20200301 23:59:59 US/Eastern\n"
     ]
    },
    {
     "name": "stderr",
     "output_type": "stream",
     "text": [
      "ERROR -1 502 Couldn't connect to TWS. Confirm that \"Enable ActiveX and Socket EClients\" \n",
      "is enabled and connection port is the same as \"Socket Port\" on the \n",
      "TWS \"Edit->Global Configuration...->API->Settings\" menu. Live Trading ports: \n",
      "TWS: 7496; IB Gateway: 4001. Simulated Trading ports for new installations \n",
      "of version 954.1 or newer:  TWS: 7497; IB Gateway: 4002\n"
     ]
    },
    {
     "name": "stdout",
     "output_type": "stream",
     "text": [
      "processing CAT for 20200301 23:59:59 US/Eastern took   3.05 sec\n",
      "processing 20200331 23:59:59 US/Eastern\n"
     ]
    },
    {
     "name": "stderr",
     "output_type": "stream",
     "text": [
      "ERROR -1 502 Couldn't connect to TWS. Confirm that \"Enable ActiveX and Socket EClients\" \n",
      "is enabled and connection port is the same as \"Socket Port\" on the \n",
      "TWS \"Edit->Global Configuration...->API->Settings\" menu. Live Trading ports: \n",
      "TWS: 7496; IB Gateway: 4001. Simulated Trading ports for new installations \n",
      "of version 954.1 or newer:  TWS: 7497; IB Gateway: 4002\n"
     ]
    },
    {
     "name": "stdout",
     "output_type": "stream",
     "text": [
      "processing CAT for 20200331 23:59:59 US/Eastern took   3.04 sec\n",
      "processing 20200430 23:59:59 US/Eastern\n"
     ]
    },
    {
     "name": "stderr",
     "output_type": "stream",
     "text": [
      "ERROR -1 502 Couldn't connect to TWS. Confirm that \"Enable ActiveX and Socket EClients\" \n",
      "is enabled and connection port is the same as \"Socket Port\" on the \n",
      "TWS \"Edit->Global Configuration...->API->Settings\" menu. Live Trading ports: \n",
      "TWS: 7496; IB Gateway: 4001. Simulated Trading ports for new installations \n",
      "of version 954.1 or newer:  TWS: 7497; IB Gateway: 4002\n"
     ]
    },
    {
     "name": "stdout",
     "output_type": "stream",
     "text": [
      "processing CAT for 20200430 23:59:59 US/Eastern took   3.04 sec\n",
      "processing 20200530 23:59:59 US/Eastern\n"
     ]
    },
    {
     "name": "stderr",
     "output_type": "stream",
     "text": [
      "ERROR -1 502 Couldn't connect to TWS. Confirm that \"Enable ActiveX and Socket EClients\" \n",
      "is enabled and connection port is the same as \"Socket Port\" on the \n",
      "TWS \"Edit->Global Configuration...->API->Settings\" menu. Live Trading ports: \n",
      "TWS: 7496; IB Gateway: 4001. Simulated Trading ports for new installations \n",
      "of version 954.1 or newer:  TWS: 7497; IB Gateway: 4002\n"
     ]
    },
    {
     "name": "stdout",
     "output_type": "stream",
     "text": [
      "processing CAT for 20200530 23:59:59 US/Eastern took   3.05 sec\n",
      "processing 20200629 23:59:59 US/Eastern\n"
     ]
    },
    {
     "name": "stderr",
     "output_type": "stream",
     "text": [
      "ERROR -1 502 Couldn't connect to TWS. Confirm that \"Enable ActiveX and Socket EClients\" \n",
      "is enabled and connection port is the same as \"Socket Port\" on the \n",
      "TWS \"Edit->Global Configuration...->API->Settings\" menu. Live Trading ports: \n",
      "TWS: 7496; IB Gateway: 4001. Simulated Trading ports for new installations \n",
      "of version 954.1 or newer:  TWS: 7497; IB Gateway: 4002\n"
     ]
    },
    {
     "name": "stdout",
     "output_type": "stream",
     "text": [
      "processing CAT for 20200629 23:59:59 US/Eastern took   3.05 sec\n",
      "processing 20200729 23:59:59 US/Eastern\n"
     ]
    },
    {
     "name": "stderr",
     "output_type": "stream",
     "text": [
      "ERROR -1 502 Couldn't connect to TWS. Confirm that \"Enable ActiveX and Socket EClients\" \n",
      "is enabled and connection port is the same as \"Socket Port\" on the \n",
      "TWS \"Edit->Global Configuration...->API->Settings\" menu. Live Trading ports: \n",
      "TWS: 7496; IB Gateway: 4001. Simulated Trading ports for new installations \n",
      "of version 954.1 or newer:  TWS: 7497; IB Gateway: 4002\n"
     ]
    },
    {
     "name": "stdout",
     "output_type": "stream",
     "text": [
      "processing CAT for 20200729 23:59:59 US/Eastern took   3.05 sec\n",
      "processing 20200828 23:59:59 US/Eastern\n"
     ]
    },
    {
     "name": "stderr",
     "output_type": "stream",
     "text": [
      "ERROR -1 502 Couldn't connect to TWS. Confirm that \"Enable ActiveX and Socket EClients\" \n",
      "is enabled and connection port is the same as \"Socket Port\" on the \n",
      "TWS \"Edit->Global Configuration...->API->Settings\" menu. Live Trading ports: \n",
      "TWS: 7496; IB Gateway: 4001. Simulated Trading ports for new installations \n",
      "of version 954.1 or newer:  TWS: 7497; IB Gateway: 4002\n"
     ]
    },
    {
     "name": "stdout",
     "output_type": "stream",
     "text": [
      "processing CAT for 20200828 23:59:59 US/Eastern took   3.04 sec\n",
      "processing 20200927 23:59:59 US/Eastern\n"
     ]
    },
    {
     "name": "stderr",
     "output_type": "stream",
     "text": [
      "ERROR -1 502 Couldn't connect to TWS. Confirm that \"Enable ActiveX and Socket EClients\" \n",
      "is enabled and connection port is the same as \"Socket Port\" on the \n",
      "TWS \"Edit->Global Configuration...->API->Settings\" menu. Live Trading ports: \n",
      "TWS: 7496; IB Gateway: 4001. Simulated Trading ports for new installations \n",
      "of version 954.1 or newer:  TWS: 7497; IB Gateway: 4002\n"
     ]
    },
    {
     "name": "stdout",
     "output_type": "stream",
     "text": [
      "processing CAT for 20200927 23:59:59 US/Eastern took   3.05 sec\n",
      "processing 20201027 23:59:59 US/Eastern\n"
     ]
    },
    {
     "name": "stderr",
     "output_type": "stream",
     "text": [
      "ERROR -1 502 Couldn't connect to TWS. Confirm that \"Enable ActiveX and Socket EClients\" \n",
      "is enabled and connection port is the same as \"Socket Port\" on the \n",
      "TWS \"Edit->Global Configuration...->API->Settings\" menu. Live Trading ports: \n",
      "TWS: 7496; IB Gateway: 4001. Simulated Trading ports for new installations \n",
      "of version 954.1 or newer:  TWS: 7497; IB Gateway: 4002\n"
     ]
    },
    {
     "name": "stdout",
     "output_type": "stream",
     "text": [
      "processing CAT for 20201027 23:59:59 US/Eastern took   3.07 sec\n",
      "processing 20201126 23:59:59 US/Eastern\n"
     ]
    },
    {
     "name": "stderr",
     "output_type": "stream",
     "text": [
      "ERROR -1 502 Couldn't connect to TWS. Confirm that \"Enable ActiveX and Socket EClients\" \n",
      "is enabled and connection port is the same as \"Socket Port\" on the \n",
      "TWS \"Edit->Global Configuration...->API->Settings\" menu. Live Trading ports: \n",
      "TWS: 7496; IB Gateway: 4001. Simulated Trading ports for new installations \n",
      "of version 954.1 or newer:  TWS: 7497; IB Gateway: 4002\n"
     ]
    },
    {
     "name": "stdout",
     "output_type": "stream",
     "text": [
      "processing CAT for 20201126 23:59:59 US/Eastern took   3.04 sec\n",
      "processing 20201226 23:59:59 US/Eastern\n"
     ]
    },
    {
     "name": "stderr",
     "output_type": "stream",
     "text": [
      "ERROR -1 502 Couldn't connect to TWS. Confirm that \"Enable ActiveX and Socket EClients\" \n",
      "is enabled and connection port is the same as \"Socket Port\" on the \n",
      "TWS \"Edit->Global Configuration...->API->Settings\" menu. Live Trading ports: \n",
      "TWS: 7496; IB Gateway: 4001. Simulated Trading ports for new installations \n",
      "of version 954.1 or newer:  TWS: 7497; IB Gateway: 4002\n"
     ]
    },
    {
     "name": "stdout",
     "output_type": "stream",
     "text": [
      "processing CAT for 20201226 23:59:59 US/Eastern took   3.04 sec\n",
      "processing 20210125 23:59:59 US/Eastern\n"
     ]
    },
    {
     "name": "stderr",
     "output_type": "stream",
     "text": [
      "ERROR -1 502 Couldn't connect to TWS. Confirm that \"Enable ActiveX and Socket EClients\" \n",
      "is enabled and connection port is the same as \"Socket Port\" on the \n",
      "TWS \"Edit->Global Configuration...->API->Settings\" menu. Live Trading ports: \n",
      "TWS: 7496; IB Gateway: 4001. Simulated Trading ports for new installations \n",
      "of version 954.1 or newer:  TWS: 7497; IB Gateway: 4002\n"
     ]
    },
    {
     "name": "stdout",
     "output_type": "stream",
     "text": [
      "processing CAT for 20210125 23:59:59 US/Eastern took   3.04 sec\n",
      "processing 20210224 23:59:59 US/Eastern\n"
     ]
    },
    {
     "name": "stderr",
     "output_type": "stream",
     "text": [
      "ERROR -1 502 Couldn't connect to TWS. Confirm that \"Enable ActiveX and Socket EClients\" \n",
      "is enabled and connection port is the same as \"Socket Port\" on the \n",
      "TWS \"Edit->Global Configuration...->API->Settings\" menu. Live Trading ports: \n",
      "TWS: 7496; IB Gateway: 4001. Simulated Trading ports for new installations \n",
      "of version 954.1 or newer:  TWS: 7497; IB Gateway: 4002\n"
     ]
    },
    {
     "name": "stdout",
     "output_type": "stream",
     "text": [
      "processing CAT for 20210224 23:59:59 US/Eastern took   3.07 sec\n",
      "processing 20210326 23:59:59 US/Eastern\n"
     ]
    },
    {
     "name": "stderr",
     "output_type": "stream",
     "text": [
      "ERROR -1 502 Couldn't connect to TWS. Confirm that \"Enable ActiveX and Socket EClients\" \n",
      "is enabled and connection port is the same as \"Socket Port\" on the \n",
      "TWS \"Edit->Global Configuration...->API->Settings\" menu. Live Trading ports: \n",
      "TWS: 7496; IB Gateway: 4001. Simulated Trading ports for new installations \n",
      "of version 954.1 or newer:  TWS: 7497; IB Gateway: 4002\n"
     ]
    },
    {
     "name": "stdout",
     "output_type": "stream",
     "text": [
      "processing CAT for 20210326 23:59:59 US/Eastern took   3.05 sec\n",
      "processing 20210425 23:59:59 US/Eastern\n"
     ]
    },
    {
     "name": "stderr",
     "output_type": "stream",
     "text": [
      "ERROR -1 502 Couldn't connect to TWS. Confirm that \"Enable ActiveX and Socket EClients\" \n",
      "is enabled and connection port is the same as \"Socket Port\" on the \n",
      "TWS \"Edit->Global Configuration...->API->Settings\" menu. Live Trading ports: \n",
      "TWS: 7496; IB Gateway: 4001. Simulated Trading ports for new installations \n",
      "of version 954.1 or newer:  TWS: 7497; IB Gateway: 4002\n"
     ]
    },
    {
     "name": "stdout",
     "output_type": "stream",
     "text": [
      "processing CAT for 20210425 23:59:59 US/Eastern took   3.03 sec\n",
      "processing 20210525 23:59:59 US/Eastern\n"
     ]
    },
    {
     "name": "stderr",
     "output_type": "stream",
     "text": [
      "ERROR -1 502 Couldn't connect to TWS. Confirm that \"Enable ActiveX and Socket EClients\" \n",
      "is enabled and connection port is the same as \"Socket Port\" on the \n",
      "TWS \"Edit->Global Configuration...->API->Settings\" menu. Live Trading ports: \n",
      "TWS: 7496; IB Gateway: 4001. Simulated Trading ports for new installations \n",
      "of version 954.1 or newer:  TWS: 7497; IB Gateway: 4002\n"
     ]
    },
    {
     "name": "stdout",
     "output_type": "stream",
     "text": [
      "processing CAT for 20210525 23:59:59 US/Eastern took   3.05 sec\n",
      "processing 20210624 23:59:59 US/Eastern\n"
     ]
    },
    {
     "name": "stderr",
     "output_type": "stream",
     "text": [
      "ERROR -1 502 Couldn't connect to TWS. Confirm that \"Enable ActiveX and Socket EClients\" \n",
      "is enabled and connection port is the same as \"Socket Port\" on the \n",
      "TWS \"Edit->Global Configuration...->API->Settings\" menu. Live Trading ports: \n",
      "TWS: 7496; IB Gateway: 4001. Simulated Trading ports for new installations \n",
      "of version 954.1 or newer:  TWS: 7497; IB Gateway: 4002\n"
     ]
    },
    {
     "name": "stdout",
     "output_type": "stream",
     "text": [
      "processing CAT for 20210624 23:59:59 US/Eastern took   3.05 sec\n",
      "processing 20210724 23:59:59 US/Eastern\n"
     ]
    },
    {
     "name": "stderr",
     "output_type": "stream",
     "text": [
      "ERROR -1 502 Couldn't connect to TWS. Confirm that \"Enable ActiveX and Socket EClients\" \n",
      "is enabled and connection port is the same as \"Socket Port\" on the \n",
      "TWS \"Edit->Global Configuration...->API->Settings\" menu. Live Trading ports: \n",
      "TWS: 7496; IB Gateway: 4001. Simulated Trading ports for new installations \n",
      "of version 954.1 or newer:  TWS: 7497; IB Gateway: 4002\n"
     ]
    },
    {
     "name": "stdout",
     "output_type": "stream",
     "text": [
      "processing CAT for 20210724 23:59:59 US/Eastern took   3.05 sec\n",
      "processing 20210823 23:59:59 US/Eastern\n"
     ]
    },
    {
     "name": "stderr",
     "output_type": "stream",
     "text": [
      "ERROR -1 502 Couldn't connect to TWS. Confirm that \"Enable ActiveX and Socket EClients\" \n",
      "is enabled and connection port is the same as \"Socket Port\" on the \n",
      "TWS \"Edit->Global Configuration...->API->Settings\" menu. Live Trading ports: \n",
      "TWS: 7496; IB Gateway: 4001. Simulated Trading ports for new installations \n",
      "of version 954.1 or newer:  TWS: 7497; IB Gateway: 4002\n"
     ]
    },
    {
     "name": "stdout",
     "output_type": "stream",
     "text": [
      "processing CAT for 20210823 23:59:59 US/Eastern took   3.04 sec\n",
      "processing 20210922 23:59:59 US/Eastern\n"
     ]
    },
    {
     "name": "stderr",
     "output_type": "stream",
     "text": [
      "ERROR -1 502 Couldn't connect to TWS. Confirm that \"Enable ActiveX and Socket EClients\" \n",
      "is enabled and connection port is the same as \"Socket Port\" on the \n",
      "TWS \"Edit->Global Configuration...->API->Settings\" menu. Live Trading ports: \n",
      "TWS: 7496; IB Gateway: 4001. Simulated Trading ports for new installations \n",
      "of version 954.1 or newer:  TWS: 7497; IB Gateway: 4002\n"
     ]
    },
    {
     "name": "stdout",
     "output_type": "stream",
     "text": [
      "processing CAT for 20210922 23:59:59 US/Eastern took   3.04 sec\n",
      "processing 20211022 23:59:59 US/Eastern\n"
     ]
    },
    {
     "name": "stderr",
     "output_type": "stream",
     "text": [
      "ERROR -1 502 Couldn't connect to TWS. Confirm that \"Enable ActiveX and Socket EClients\" \n",
      "is enabled and connection port is the same as \"Socket Port\" on the \n",
      "TWS \"Edit->Global Configuration...->API->Settings\" menu. Live Trading ports: \n",
      "TWS: 7496; IB Gateway: 4001. Simulated Trading ports for new installations \n",
      "of version 954.1 or newer:  TWS: 7497; IB Gateway: 4002\n"
     ]
    },
    {
     "name": "stdout",
     "output_type": "stream",
     "text": [
      "processing CAT for 20211022 23:59:59 US/Eastern took   3.06 sec\n",
      "processing 20211121 23:59:59 US/Eastern\n"
     ]
    },
    {
     "name": "stderr",
     "output_type": "stream",
     "text": [
      "ERROR -1 502 Couldn't connect to TWS. Confirm that \"Enable ActiveX and Socket EClients\" \n",
      "is enabled and connection port is the same as \"Socket Port\" on the \n",
      "TWS \"Edit->Global Configuration...->API->Settings\" menu. Live Trading ports: \n",
      "TWS: 7496; IB Gateway: 4001. Simulated Trading ports for new installations \n",
      "of version 954.1 or newer:  TWS: 7497; IB Gateway: 4002\n"
     ]
    },
    {
     "name": "stdout",
     "output_type": "stream",
     "text": [
      "processing CAT for 20211121 23:59:59 US/Eastern took   3.03 sec\n",
      "processing 20211221 23:59:59 US/Eastern\n"
     ]
    },
    {
     "name": "stderr",
     "output_type": "stream",
     "text": [
      "ERROR -1 502 Couldn't connect to TWS. Confirm that \"Enable ActiveX and Socket EClients\" \n",
      "is enabled and connection port is the same as \"Socket Port\" on the \n",
      "TWS \"Edit->Global Configuration...->API->Settings\" menu. Live Trading ports: \n",
      "TWS: 7496; IB Gateway: 4001. Simulated Trading ports for new installations \n",
      "of version 954.1 or newer:  TWS: 7497; IB Gateway: 4002\n"
     ]
    },
    {
     "name": "stdout",
     "output_type": "stream",
     "text": [
      "processing CAT for 20211221 23:59:59 US/Eastern took   3.06 sec\n",
      "processing 20220120 23:59:59 US/Eastern\n"
     ]
    },
    {
     "name": "stderr",
     "output_type": "stream",
     "text": [
      "ERROR -1 502 Couldn't connect to TWS. Confirm that \"Enable ActiveX and Socket EClients\" \n",
      "is enabled and connection port is the same as \"Socket Port\" on the \n",
      "TWS \"Edit->Global Configuration...->API->Settings\" menu. Live Trading ports: \n",
      "TWS: 7496; IB Gateway: 4001. Simulated Trading ports for new installations \n",
      "of version 954.1 or newer:  TWS: 7497; IB Gateway: 4002\n"
     ]
    },
    {
     "name": "stdout",
     "output_type": "stream",
     "text": [
      "processing CAT for 20220120 23:59:59 US/Eastern took   3.06 sec\n",
      "processing 20220219 23:59:59 US/Eastern\n"
     ]
    },
    {
     "name": "stderr",
     "output_type": "stream",
     "text": [
      "ERROR -1 502 Couldn't connect to TWS. Confirm that \"Enable ActiveX and Socket EClients\" \n",
      "is enabled and connection port is the same as \"Socket Port\" on the \n",
      "TWS \"Edit->Global Configuration...->API->Settings\" menu. Live Trading ports: \n",
      "TWS: 7496; IB Gateway: 4001. Simulated Trading ports for new installations \n",
      "of version 954.1 or newer:  TWS: 7497; IB Gateway: 4002\n"
     ]
    },
    {
     "name": "stdout",
     "output_type": "stream",
     "text": [
      "processing CAT for 20220219 23:59:59 US/Eastern took   3.05 sec\n",
      "processing 20220321 23:59:59 US/Eastern\n"
     ]
    },
    {
     "name": "stderr",
     "output_type": "stream",
     "text": [
      "ERROR -1 502 Couldn't connect to TWS. Confirm that \"Enable ActiveX and Socket EClients\" \n",
      "is enabled and connection port is the same as \"Socket Port\" on the \n",
      "TWS \"Edit->Global Configuration...->API->Settings\" menu. Live Trading ports: \n",
      "TWS: 7496; IB Gateway: 4001. Simulated Trading ports for new installations \n",
      "of version 954.1 or newer:  TWS: 7497; IB Gateway: 4002\n"
     ]
    },
    {
     "name": "stdout",
     "output_type": "stream",
     "text": [
      "processing CAT for 20220321 23:59:59 US/Eastern took   3.04 sec\n",
      "processing 20220420 23:59:59 US/Eastern\n"
     ]
    },
    {
     "name": "stderr",
     "output_type": "stream",
     "text": [
      "ERROR -1 502 Couldn't connect to TWS. Confirm that \"Enable ActiveX and Socket EClients\" \n",
      "is enabled and connection port is the same as \"Socket Port\" on the \n",
      "TWS \"Edit->Global Configuration...->API->Settings\" menu. Live Trading ports: \n",
      "TWS: 7496; IB Gateway: 4001. Simulated Trading ports for new installations \n",
      "of version 954.1 or newer:  TWS: 7497; IB Gateway: 4002\n"
     ]
    },
    {
     "name": "stdout",
     "output_type": "stream",
     "text": [
      "processing CAT for 20220420 23:59:59 US/Eastern took   3.04 sec\n",
      "processing 20220520 23:59:59 US/Eastern\n"
     ]
    },
    {
     "name": "stderr",
     "output_type": "stream",
     "text": [
      "ERROR -1 502 Couldn't connect to TWS. Confirm that \"Enable ActiveX and Socket EClients\" \n",
      "is enabled and connection port is the same as \"Socket Port\" on the \n",
      "TWS \"Edit->Global Configuration...->API->Settings\" menu. Live Trading ports: \n",
      "TWS: 7496; IB Gateway: 4001. Simulated Trading ports for new installations \n",
      "of version 954.1 or newer:  TWS: 7497; IB Gateway: 4002\n"
     ]
    },
    {
     "name": "stdout",
     "output_type": "stream",
     "text": [
      "processing CAT for 20220520 23:59:59 US/Eastern took   3.05 sec\n",
      "processing 20220619 23:59:59 US/Eastern\n"
     ]
    },
    {
     "name": "stderr",
     "output_type": "stream",
     "text": [
      "ERROR -1 502 Couldn't connect to TWS. Confirm that \"Enable ActiveX and Socket EClients\" \n",
      "is enabled and connection port is the same as \"Socket Port\" on the \n",
      "TWS \"Edit->Global Configuration...->API->Settings\" menu. Live Trading ports: \n",
      "TWS: 7496; IB Gateway: 4001. Simulated Trading ports for new installations \n",
      "of version 954.1 or newer:  TWS: 7497; IB Gateway: 4002\n"
     ]
    },
    {
     "name": "stdout",
     "output_type": "stream",
     "text": [
      "processing CAT for 20220619 23:59:59 US/Eastern took   3.05 sec\n",
      "processing 20220719 23:59:59 US/Eastern\n"
     ]
    },
    {
     "name": "stderr",
     "output_type": "stream",
     "text": [
      "ERROR -1 502 Couldn't connect to TWS. Confirm that \"Enable ActiveX and Socket EClients\" \n",
      "is enabled and connection port is the same as \"Socket Port\" on the \n",
      "TWS \"Edit->Global Configuration...->API->Settings\" menu. Live Trading ports: \n",
      "TWS: 7496; IB Gateway: 4001. Simulated Trading ports for new installations \n",
      "of version 954.1 or newer:  TWS: 7497; IB Gateway: 4002\n"
     ]
    },
    {
     "name": "stdout",
     "output_type": "stream",
     "text": [
      "processing CAT for 20220719 23:59:59 US/Eastern took   3.03 sec\n",
      "processing 20220818 23:59:59 US/Eastern\n"
     ]
    },
    {
     "name": "stderr",
     "output_type": "stream",
     "text": [
      "ERROR -1 502 Couldn't connect to TWS. Confirm that \"Enable ActiveX and Socket EClients\" \n",
      "is enabled and connection port is the same as \"Socket Port\" on the \n",
      "TWS \"Edit->Global Configuration...->API->Settings\" menu. Live Trading ports: \n",
      "TWS: 7496; IB Gateway: 4001. Simulated Trading ports for new installations \n",
      "of version 954.1 or newer:  TWS: 7497; IB Gateway: 4002\n"
     ]
    },
    {
     "name": "stdout",
     "output_type": "stream",
     "text": [
      "processing CAT for 20220818 23:59:59 US/Eastern took   3.05 sec\n",
      "processing 20220917 23:59:59 US/Eastern\n"
     ]
    },
    {
     "name": "stderr",
     "output_type": "stream",
     "text": [
      "ERROR -1 502 Couldn't connect to TWS. Confirm that \"Enable ActiveX and Socket EClients\" \n",
      "is enabled and connection port is the same as \"Socket Port\" on the \n",
      "TWS \"Edit->Global Configuration...->API->Settings\" menu. Live Trading ports: \n",
      "TWS: 7496; IB Gateway: 4001. Simulated Trading ports for new installations \n",
      "of version 954.1 or newer:  TWS: 7497; IB Gateway: 4002\n"
     ]
    },
    {
     "name": "stdout",
     "output_type": "stream",
     "text": [
      "processing CAT for 20220917 23:59:59 US/Eastern took   3.04 sec\n",
      "processing 20221017 23:59:59 US/Eastern\n"
     ]
    },
    {
     "name": "stderr",
     "output_type": "stream",
     "text": [
      "ERROR -1 502 Couldn't connect to TWS. Confirm that \"Enable ActiveX and Socket EClients\" \n",
      "is enabled and connection port is the same as \"Socket Port\" on the \n",
      "TWS \"Edit->Global Configuration...->API->Settings\" menu. Live Trading ports: \n",
      "TWS: 7496; IB Gateway: 4001. Simulated Trading ports for new installations \n",
      "of version 954.1 or newer:  TWS: 7497; IB Gateway: 4002\n"
     ]
    },
    {
     "name": "stdout",
     "output_type": "stream",
     "text": [
      "processing CAT for 20221017 23:59:59 US/Eastern took   3.05 sec\n",
      "processing 20221116 23:59:59 US/Eastern\n"
     ]
    },
    {
     "name": "stderr",
     "output_type": "stream",
     "text": [
      "ERROR -1 502 Couldn't connect to TWS. Confirm that \"Enable ActiveX and Socket EClients\" \n",
      "is enabled and connection port is the same as \"Socket Port\" on the \n",
      "TWS \"Edit->Global Configuration...->API->Settings\" menu. Live Trading ports: \n",
      "TWS: 7496; IB Gateway: 4001. Simulated Trading ports for new installations \n",
      "of version 954.1 or newer:  TWS: 7497; IB Gateway: 4002\n"
     ]
    },
    {
     "name": "stdout",
     "output_type": "stream",
     "text": [
      "processing CAT for 20221116 23:59:59 US/Eastern took   3.04 sec\n",
      "processing 20221216 23:59:59 US/Eastern\n"
     ]
    },
    {
     "name": "stderr",
     "output_type": "stream",
     "text": [
      "ERROR -1 502 Couldn't connect to TWS. Confirm that \"Enable ActiveX and Socket EClients\" \n",
      "is enabled and connection port is the same as \"Socket Port\" on the \n",
      "TWS \"Edit->Global Configuration...->API->Settings\" menu. Live Trading ports: \n",
      "TWS: 7496; IB Gateway: 4001. Simulated Trading ports for new installations \n",
      "of version 954.1 or newer:  TWS: 7497; IB Gateway: 4002\n"
     ]
    },
    {
     "name": "stdout",
     "output_type": "stream",
     "text": [
      "processing CAT for 20221216 23:59:59 US/Eastern took   3.06 sec\n",
      "processing 20230115 23:59:59 US/Eastern\n"
     ]
    },
    {
     "name": "stderr",
     "output_type": "stream",
     "text": [
      "ERROR -1 502 Couldn't connect to TWS. Confirm that \"Enable ActiveX and Socket EClients\" \n",
      "is enabled and connection port is the same as \"Socket Port\" on the \n",
      "TWS \"Edit->Global Configuration...->API->Settings\" menu. Live Trading ports: \n",
      "TWS: 7496; IB Gateway: 4001. Simulated Trading ports for new installations \n",
      "of version 954.1 or newer:  TWS: 7497; IB Gateway: 4002\n"
     ]
    },
    {
     "name": "stdout",
     "output_type": "stream",
     "text": [
      "processing CAT for 20230115 23:59:59 US/Eastern took   3.06 sec\n",
      "processing 20230214 23:59:59 US/Eastern\n"
     ]
    },
    {
     "name": "stderr",
     "output_type": "stream",
     "text": [
      "ERROR -1 502 Couldn't connect to TWS. Confirm that \"Enable ActiveX and Socket EClients\" \n",
      "is enabled and connection port is the same as \"Socket Port\" on the \n",
      "TWS \"Edit->Global Configuration...->API->Settings\" menu. Live Trading ports: \n",
      "TWS: 7496; IB Gateway: 4001. Simulated Trading ports for new installations \n",
      "of version 954.1 or newer:  TWS: 7497; IB Gateway: 4002\n"
     ]
    },
    {
     "name": "stdout",
     "output_type": "stream",
     "text": [
      "processing CAT for 20230214 23:59:59 US/Eastern took   3.04 sec\n",
      "processing 20230316 23:59:59 US/Eastern\n"
     ]
    },
    {
     "name": "stderr",
     "output_type": "stream",
     "text": [
      "ERROR -1 502 Couldn't connect to TWS. Confirm that \"Enable ActiveX and Socket EClients\" \n",
      "is enabled and connection port is the same as \"Socket Port\" on the \n",
      "TWS \"Edit->Global Configuration...->API->Settings\" menu. Live Trading ports: \n",
      "TWS: 7496; IB Gateway: 4001. Simulated Trading ports for new installations \n",
      "of version 954.1 or newer:  TWS: 7497; IB Gateway: 4002\n"
     ]
    },
    {
     "name": "stdout",
     "output_type": "stream",
     "text": [
      "processing CAT for 20230316 23:59:59 US/Eastern took   3.03 sec\n",
      "Processing CRM\n",
      "processing 20200101 23:59:59 US/Eastern\n"
     ]
    },
    {
     "name": "stderr",
     "output_type": "stream",
     "text": [
      "ERROR -1 502 Couldn't connect to TWS. Confirm that \"Enable ActiveX and Socket EClients\" \n",
      "is enabled and connection port is the same as \"Socket Port\" on the \n",
      "TWS \"Edit->Global Configuration...->API->Settings\" menu. Live Trading ports: \n",
      "TWS: 7496; IB Gateway: 4001. Simulated Trading ports for new installations \n",
      "of version 954.1 or newer:  TWS: 7497; IB Gateway: 4002\n"
     ]
    },
    {
     "name": "stdout",
     "output_type": "stream",
     "text": [
      "processing CRM for 20200101 23:59:59 US/Eastern took   3.07 sec\n",
      "processing 20200131 23:59:59 US/Eastern\n"
     ]
    },
    {
     "name": "stderr",
     "output_type": "stream",
     "text": [
      "ERROR -1 502 Couldn't connect to TWS. Confirm that \"Enable ActiveX and Socket EClients\" \n",
      "is enabled and connection port is the same as \"Socket Port\" on the \n",
      "TWS \"Edit->Global Configuration...->API->Settings\" menu. Live Trading ports: \n",
      "TWS: 7496; IB Gateway: 4001. Simulated Trading ports for new installations \n",
      "of version 954.1 or newer:  TWS: 7497; IB Gateway: 4002\n"
     ]
    },
    {
     "name": "stdout",
     "output_type": "stream",
     "text": [
      "processing CRM for 20200131 23:59:59 US/Eastern took   3.04 sec\n",
      "processing 20200301 23:59:59 US/Eastern\n"
     ]
    },
    {
     "name": "stderr",
     "output_type": "stream",
     "text": [
      "ERROR -1 502 Couldn't connect to TWS. Confirm that \"Enable ActiveX and Socket EClients\" \n",
      "is enabled and connection port is the same as \"Socket Port\" on the \n",
      "TWS \"Edit->Global Configuration...->API->Settings\" menu. Live Trading ports: \n",
      "TWS: 7496; IB Gateway: 4001. Simulated Trading ports for new installations \n",
      "of version 954.1 or newer:  TWS: 7497; IB Gateway: 4002\n"
     ]
    },
    {
     "name": "stdout",
     "output_type": "stream",
     "text": [
      "processing CRM for 20200301 23:59:59 US/Eastern took   3.06 sec\n",
      "processing 20200331 23:59:59 US/Eastern\n"
     ]
    },
    {
     "name": "stderr",
     "output_type": "stream",
     "text": [
      "ERROR -1 502 Couldn't connect to TWS. Confirm that \"Enable ActiveX and Socket EClients\" \n",
      "is enabled and connection port is the same as \"Socket Port\" on the \n",
      "TWS \"Edit->Global Configuration...->API->Settings\" menu. Live Trading ports: \n",
      "TWS: 7496; IB Gateway: 4001. Simulated Trading ports for new installations \n",
      "of version 954.1 or newer:  TWS: 7497; IB Gateway: 4002\n"
     ]
    },
    {
     "name": "stdout",
     "output_type": "stream",
     "text": [
      "processing CRM for 20200331 23:59:59 US/Eastern took   3.06 sec\n",
      "processing 20200430 23:59:59 US/Eastern\n"
     ]
    },
    {
     "name": "stderr",
     "output_type": "stream",
     "text": [
      "ERROR -1 502 Couldn't connect to TWS. Confirm that \"Enable ActiveX and Socket EClients\" \n",
      "is enabled and connection port is the same as \"Socket Port\" on the \n",
      "TWS \"Edit->Global Configuration...->API->Settings\" menu. Live Trading ports: \n",
      "TWS: 7496; IB Gateway: 4001. Simulated Trading ports for new installations \n",
      "of version 954.1 or newer:  TWS: 7497; IB Gateway: 4002\n"
     ]
    },
    {
     "name": "stdout",
     "output_type": "stream",
     "text": [
      "processing CRM for 20200430 23:59:59 US/Eastern took   3.06 sec\n",
      "processing 20200530 23:59:59 US/Eastern\n"
     ]
    },
    {
     "name": "stderr",
     "output_type": "stream",
     "text": [
      "ERROR -1 502 Couldn't connect to TWS. Confirm that \"Enable ActiveX and Socket EClients\" \n",
      "is enabled and connection port is the same as \"Socket Port\" on the \n",
      "TWS \"Edit->Global Configuration...->API->Settings\" menu. Live Trading ports: \n",
      "TWS: 7496; IB Gateway: 4001. Simulated Trading ports for new installations \n",
      "of version 954.1 or newer:  TWS: 7497; IB Gateway: 4002\n"
     ]
    },
    {
     "name": "stdout",
     "output_type": "stream",
     "text": [
      "processing CRM for 20200530 23:59:59 US/Eastern took   3.05 sec\n",
      "processing 20200629 23:59:59 US/Eastern\n"
     ]
    },
    {
     "name": "stderr",
     "output_type": "stream",
     "text": [
      "ERROR -1 502 Couldn't connect to TWS. Confirm that \"Enable ActiveX and Socket EClients\" \n",
      "is enabled and connection port is the same as \"Socket Port\" on the \n",
      "TWS \"Edit->Global Configuration...->API->Settings\" menu. Live Trading ports: \n",
      "TWS: 7496; IB Gateway: 4001. Simulated Trading ports for new installations \n",
      "of version 954.1 or newer:  TWS: 7497; IB Gateway: 4002\n"
     ]
    },
    {
     "name": "stdout",
     "output_type": "stream",
     "text": [
      "processing CRM for 20200629 23:59:59 US/Eastern took   3.04 sec\n",
      "processing 20200729 23:59:59 US/Eastern\n"
     ]
    },
    {
     "name": "stderr",
     "output_type": "stream",
     "text": [
      "ERROR -1 502 Couldn't connect to TWS. Confirm that \"Enable ActiveX and Socket EClients\" \n",
      "is enabled and connection port is the same as \"Socket Port\" on the \n",
      "TWS \"Edit->Global Configuration...->API->Settings\" menu. Live Trading ports: \n",
      "TWS: 7496; IB Gateway: 4001. Simulated Trading ports for new installations \n",
      "of version 954.1 or newer:  TWS: 7497; IB Gateway: 4002\n"
     ]
    },
    {
     "name": "stdout",
     "output_type": "stream",
     "text": [
      "processing CRM for 20200729 23:59:59 US/Eastern took   3.04 sec\n",
      "processing 20200828 23:59:59 US/Eastern\n"
     ]
    },
    {
     "name": "stderr",
     "output_type": "stream",
     "text": [
      "ERROR -1 502 Couldn't connect to TWS. Confirm that \"Enable ActiveX and Socket EClients\" \n",
      "is enabled and connection port is the same as \"Socket Port\" on the \n",
      "TWS \"Edit->Global Configuration...->API->Settings\" menu. Live Trading ports: \n",
      "TWS: 7496; IB Gateway: 4001. Simulated Trading ports for new installations \n",
      "of version 954.1 or newer:  TWS: 7497; IB Gateway: 4002\n"
     ]
    },
    {
     "name": "stdout",
     "output_type": "stream",
     "text": [
      "processing CRM for 20200828 23:59:59 US/Eastern took   3.05 sec\n",
      "processing 20200927 23:59:59 US/Eastern\n"
     ]
    },
    {
     "name": "stderr",
     "output_type": "stream",
     "text": [
      "ERROR -1 502 Couldn't connect to TWS. Confirm that \"Enable ActiveX and Socket EClients\" \n",
      "is enabled and connection port is the same as \"Socket Port\" on the \n",
      "TWS \"Edit->Global Configuration...->API->Settings\" menu. Live Trading ports: \n",
      "TWS: 7496; IB Gateway: 4001. Simulated Trading ports for new installations \n",
      "of version 954.1 or newer:  TWS: 7497; IB Gateway: 4002\n"
     ]
    },
    {
     "name": "stdout",
     "output_type": "stream",
     "text": [
      "processing CRM for 20200927 23:59:59 US/Eastern took   3.06 sec\n",
      "processing 20201027 23:59:59 US/Eastern\n"
     ]
    },
    {
     "name": "stderr",
     "output_type": "stream",
     "text": [
      "ERROR -1 502 Couldn't connect to TWS. Confirm that \"Enable ActiveX and Socket EClients\" \n",
      "is enabled and connection port is the same as \"Socket Port\" on the \n",
      "TWS \"Edit->Global Configuration...->API->Settings\" menu. Live Trading ports: \n",
      "TWS: 7496; IB Gateway: 4001. Simulated Trading ports for new installations \n",
      "of version 954.1 or newer:  TWS: 7497; IB Gateway: 4002\n"
     ]
    },
    {
     "name": "stdout",
     "output_type": "stream",
     "text": [
      "processing CRM for 20201027 23:59:59 US/Eastern took   3.03 sec\n",
      "processing 20201126 23:59:59 US/Eastern\n"
     ]
    },
    {
     "name": "stderr",
     "output_type": "stream",
     "text": [
      "ERROR -1 502 Couldn't connect to TWS. Confirm that \"Enable ActiveX and Socket EClients\" \n",
      "is enabled and connection port is the same as \"Socket Port\" on the \n",
      "TWS \"Edit->Global Configuration...->API->Settings\" menu. Live Trading ports: \n",
      "TWS: 7496; IB Gateway: 4001. Simulated Trading ports for new installations \n",
      "of version 954.1 or newer:  TWS: 7497; IB Gateway: 4002\n"
     ]
    },
    {
     "name": "stdout",
     "output_type": "stream",
     "text": [
      "processing CRM for 20201126 23:59:59 US/Eastern took   3.05 sec\n",
      "processing 20201226 23:59:59 US/Eastern\n"
     ]
    },
    {
     "name": "stderr",
     "output_type": "stream",
     "text": [
      "ERROR -1 502 Couldn't connect to TWS. Confirm that \"Enable ActiveX and Socket EClients\" \n",
      "is enabled and connection port is the same as \"Socket Port\" on the \n",
      "TWS \"Edit->Global Configuration...->API->Settings\" menu. Live Trading ports: \n",
      "TWS: 7496; IB Gateway: 4001. Simulated Trading ports for new installations \n",
      "of version 954.1 or newer:  TWS: 7497; IB Gateway: 4002\n"
     ]
    },
    {
     "name": "stdout",
     "output_type": "stream",
     "text": [
      "processing CRM for 20201226 23:59:59 US/Eastern took   3.05 sec\n",
      "processing 20210125 23:59:59 US/Eastern\n"
     ]
    },
    {
     "name": "stderr",
     "output_type": "stream",
     "text": [
      "ERROR -1 502 Couldn't connect to TWS. Confirm that \"Enable ActiveX and Socket EClients\" \n",
      "is enabled and connection port is the same as \"Socket Port\" on the \n",
      "TWS \"Edit->Global Configuration...->API->Settings\" menu. Live Trading ports: \n",
      "TWS: 7496; IB Gateway: 4001. Simulated Trading ports for new installations \n",
      "of version 954.1 or newer:  TWS: 7497; IB Gateway: 4002\n"
     ]
    },
    {
     "name": "stdout",
     "output_type": "stream",
     "text": [
      "processing CRM for 20210125 23:59:59 US/Eastern took   3.04 sec\n",
      "processing 20210224 23:59:59 US/Eastern\n"
     ]
    },
    {
     "name": "stderr",
     "output_type": "stream",
     "text": [
      "ERROR -1 502 Couldn't connect to TWS. Confirm that \"Enable ActiveX and Socket EClients\" \n",
      "is enabled and connection port is the same as \"Socket Port\" on the \n",
      "TWS \"Edit->Global Configuration...->API->Settings\" menu. Live Trading ports: \n",
      "TWS: 7496; IB Gateway: 4001. Simulated Trading ports for new installations \n",
      "of version 954.1 or newer:  TWS: 7497; IB Gateway: 4002\n"
     ]
    },
    {
     "name": "stdout",
     "output_type": "stream",
     "text": [
      "processing CRM for 20210224 23:59:59 US/Eastern took   3.04 sec\n",
      "processing 20210326 23:59:59 US/Eastern\n"
     ]
    },
    {
     "name": "stderr",
     "output_type": "stream",
     "text": [
      "ERROR -1 502 Couldn't connect to TWS. Confirm that \"Enable ActiveX and Socket EClients\" \n",
      "is enabled and connection port is the same as \"Socket Port\" on the \n",
      "TWS \"Edit->Global Configuration...->API->Settings\" menu. Live Trading ports: \n",
      "TWS: 7496; IB Gateway: 4001. Simulated Trading ports for new installations \n",
      "of version 954.1 or newer:  TWS: 7497; IB Gateway: 4002\n"
     ]
    },
    {
     "name": "stdout",
     "output_type": "stream",
     "text": [
      "processing CRM for 20210326 23:59:59 US/Eastern took   3.04 sec\n",
      "processing 20210425 23:59:59 US/Eastern\n"
     ]
    },
    {
     "name": "stderr",
     "output_type": "stream",
     "text": [
      "ERROR -1 502 Couldn't connect to TWS. Confirm that \"Enable ActiveX and Socket EClients\" \n",
      "is enabled and connection port is the same as \"Socket Port\" on the \n",
      "TWS \"Edit->Global Configuration...->API->Settings\" menu. Live Trading ports: \n",
      "TWS: 7496; IB Gateway: 4001. Simulated Trading ports for new installations \n",
      "of version 954.1 or newer:  TWS: 7497; IB Gateway: 4002\n"
     ]
    },
    {
     "name": "stdout",
     "output_type": "stream",
     "text": [
      "processing CRM for 20210425 23:59:59 US/Eastern took   3.04 sec\n",
      "processing 20210525 23:59:59 US/Eastern\n"
     ]
    },
    {
     "name": "stderr",
     "output_type": "stream",
     "text": [
      "ERROR -1 502 Couldn't connect to TWS. Confirm that \"Enable ActiveX and Socket EClients\" \n",
      "is enabled and connection port is the same as \"Socket Port\" on the \n",
      "TWS \"Edit->Global Configuration...->API->Settings\" menu. Live Trading ports: \n",
      "TWS: 7496; IB Gateway: 4001. Simulated Trading ports for new installations \n",
      "of version 954.1 or newer:  TWS: 7497; IB Gateway: 4002\n"
     ]
    },
    {
     "name": "stdout",
     "output_type": "stream",
     "text": [
      "processing CRM for 20210525 23:59:59 US/Eastern took   3.05 sec\n",
      "processing 20210624 23:59:59 US/Eastern\n"
     ]
    },
    {
     "name": "stderr",
     "output_type": "stream",
     "text": [
      "ERROR -1 502 Couldn't connect to TWS. Confirm that \"Enable ActiveX and Socket EClients\" \n",
      "is enabled and connection port is the same as \"Socket Port\" on the \n",
      "TWS \"Edit->Global Configuration...->API->Settings\" menu. Live Trading ports: \n",
      "TWS: 7496; IB Gateway: 4001. Simulated Trading ports for new installations \n",
      "of version 954.1 or newer:  TWS: 7497; IB Gateway: 4002\n"
     ]
    },
    {
     "name": "stdout",
     "output_type": "stream",
     "text": [
      "processing CRM for 20210624 23:59:59 US/Eastern took   3.06 sec\n",
      "processing 20210724 23:59:59 US/Eastern\n"
     ]
    },
    {
     "name": "stderr",
     "output_type": "stream",
     "text": [
      "ERROR -1 502 Couldn't connect to TWS. Confirm that \"Enable ActiveX and Socket EClients\" \n",
      "is enabled and connection port is the same as \"Socket Port\" on the \n",
      "TWS \"Edit->Global Configuration...->API->Settings\" menu. Live Trading ports: \n",
      "TWS: 7496; IB Gateway: 4001. Simulated Trading ports for new installations \n",
      "of version 954.1 or newer:  TWS: 7497; IB Gateway: 4002\n"
     ]
    },
    {
     "name": "stdout",
     "output_type": "stream",
     "text": [
      "processing CRM for 20210724 23:59:59 US/Eastern took   3.04 sec\n",
      "processing 20210823 23:59:59 US/Eastern\n"
     ]
    },
    {
     "name": "stderr",
     "output_type": "stream",
     "text": [
      "ERROR -1 502 Couldn't connect to TWS. Confirm that \"Enable ActiveX and Socket EClients\" \n",
      "is enabled and connection port is the same as \"Socket Port\" on the \n",
      "TWS \"Edit->Global Configuration...->API->Settings\" menu. Live Trading ports: \n",
      "TWS: 7496; IB Gateway: 4001. Simulated Trading ports for new installations \n",
      "of version 954.1 or newer:  TWS: 7497; IB Gateway: 4002\n"
     ]
    },
    {
     "name": "stdout",
     "output_type": "stream",
     "text": [
      "processing CRM for 20210823 23:59:59 US/Eastern took   3.05 sec\n",
      "processing 20210922 23:59:59 US/Eastern\n"
     ]
    },
    {
     "name": "stderr",
     "output_type": "stream",
     "text": [
      "ERROR -1 502 Couldn't connect to TWS. Confirm that \"Enable ActiveX and Socket EClients\" \n",
      "is enabled and connection port is the same as \"Socket Port\" on the \n",
      "TWS \"Edit->Global Configuration...->API->Settings\" menu. Live Trading ports: \n",
      "TWS: 7496; IB Gateway: 4001. Simulated Trading ports for new installations \n",
      "of version 954.1 or newer:  TWS: 7497; IB Gateway: 4002\n"
     ]
    },
    {
     "name": "stdout",
     "output_type": "stream",
     "text": [
      "processing CRM for 20210922 23:59:59 US/Eastern took   3.04 sec\n",
      "processing 20211022 23:59:59 US/Eastern\n"
     ]
    },
    {
     "name": "stderr",
     "output_type": "stream",
     "text": [
      "ERROR -1 502 Couldn't connect to TWS. Confirm that \"Enable ActiveX and Socket EClients\" \n",
      "is enabled and connection port is the same as \"Socket Port\" on the \n",
      "TWS \"Edit->Global Configuration...->API->Settings\" menu. Live Trading ports: \n",
      "TWS: 7496; IB Gateway: 4001. Simulated Trading ports for new installations \n",
      "of version 954.1 or newer:  TWS: 7497; IB Gateway: 4002\n"
     ]
    },
    {
     "name": "stdout",
     "output_type": "stream",
     "text": [
      "processing CRM for 20211022 23:59:59 US/Eastern took   3.05 sec\n",
      "processing 20211121 23:59:59 US/Eastern\n"
     ]
    },
    {
     "name": "stderr",
     "output_type": "stream",
     "text": [
      "ERROR -1 502 Couldn't connect to TWS. Confirm that \"Enable ActiveX and Socket EClients\" \n",
      "is enabled and connection port is the same as \"Socket Port\" on the \n",
      "TWS \"Edit->Global Configuration...->API->Settings\" menu. Live Trading ports: \n",
      "TWS: 7496; IB Gateway: 4001. Simulated Trading ports for new installations \n",
      "of version 954.1 or newer:  TWS: 7497; IB Gateway: 4002\n"
     ]
    },
    {
     "name": "stdout",
     "output_type": "stream",
     "text": [
      "processing CRM for 20211121 23:59:59 US/Eastern took   3.04 sec\n",
      "processing 20211221 23:59:59 US/Eastern\n"
     ]
    },
    {
     "name": "stderr",
     "output_type": "stream",
     "text": [
      "ERROR -1 502 Couldn't connect to TWS. Confirm that \"Enable ActiveX and Socket EClients\" \n",
      "is enabled and connection port is the same as \"Socket Port\" on the \n",
      "TWS \"Edit->Global Configuration...->API->Settings\" menu. Live Trading ports: \n",
      "TWS: 7496; IB Gateway: 4001. Simulated Trading ports for new installations \n",
      "of version 954.1 or newer:  TWS: 7497; IB Gateway: 4002\n"
     ]
    },
    {
     "name": "stdout",
     "output_type": "stream",
     "text": [
      "processing CRM for 20211221 23:59:59 US/Eastern took   3.03 sec\n",
      "processing 20220120 23:59:59 US/Eastern\n"
     ]
    },
    {
     "name": "stderr",
     "output_type": "stream",
     "text": [
      "ERROR -1 502 Couldn't connect to TWS. Confirm that \"Enable ActiveX and Socket EClients\" \n",
      "is enabled and connection port is the same as \"Socket Port\" on the \n",
      "TWS \"Edit->Global Configuration...->API->Settings\" menu. Live Trading ports: \n",
      "TWS: 7496; IB Gateway: 4001. Simulated Trading ports for new installations \n",
      "of version 954.1 or newer:  TWS: 7497; IB Gateway: 4002\n"
     ]
    },
    {
     "name": "stdout",
     "output_type": "stream",
     "text": [
      "processing CRM for 20220120 23:59:59 US/Eastern took   3.04 sec\n",
      "processing 20220219 23:59:59 US/Eastern\n"
     ]
    },
    {
     "name": "stderr",
     "output_type": "stream",
     "text": [
      "ERROR -1 502 Couldn't connect to TWS. Confirm that \"Enable ActiveX and Socket EClients\" \n",
      "is enabled and connection port is the same as \"Socket Port\" on the \n",
      "TWS \"Edit->Global Configuration...->API->Settings\" menu. Live Trading ports: \n",
      "TWS: 7496; IB Gateway: 4001. Simulated Trading ports for new installations \n",
      "of version 954.1 or newer:  TWS: 7497; IB Gateway: 4002\n"
     ]
    },
    {
     "name": "stdout",
     "output_type": "stream",
     "text": [
      "processing CRM for 20220219 23:59:59 US/Eastern took   3.03 sec\n",
      "processing 20220321 23:59:59 US/Eastern\n"
     ]
    },
    {
     "name": "stderr",
     "output_type": "stream",
     "text": [
      "ERROR -1 502 Couldn't connect to TWS. Confirm that \"Enable ActiveX and Socket EClients\" \n",
      "is enabled and connection port is the same as \"Socket Port\" on the \n",
      "TWS \"Edit->Global Configuration...->API->Settings\" menu. Live Trading ports: \n",
      "TWS: 7496; IB Gateway: 4001. Simulated Trading ports for new installations \n",
      "of version 954.1 or newer:  TWS: 7497; IB Gateway: 4002\n"
     ]
    },
    {
     "name": "stdout",
     "output_type": "stream",
     "text": [
      "processing CRM for 20220321 23:59:59 US/Eastern took   3.06 sec\n",
      "processing 20220420 23:59:59 US/Eastern\n"
     ]
    },
    {
     "name": "stderr",
     "output_type": "stream",
     "text": [
      "ERROR -1 502 Couldn't connect to TWS. Confirm that \"Enable ActiveX and Socket EClients\" \n",
      "is enabled and connection port is the same as \"Socket Port\" on the \n",
      "TWS \"Edit->Global Configuration...->API->Settings\" menu. Live Trading ports: \n",
      "TWS: 7496; IB Gateway: 4001. Simulated Trading ports for new installations \n",
      "of version 954.1 or newer:  TWS: 7497; IB Gateway: 4002\n"
     ]
    },
    {
     "name": "stdout",
     "output_type": "stream",
     "text": [
      "processing CRM for 20220420 23:59:59 US/Eastern took   3.04 sec\n",
      "processing 20220520 23:59:59 US/Eastern\n"
     ]
    },
    {
     "name": "stderr",
     "output_type": "stream",
     "text": [
      "ERROR -1 502 Couldn't connect to TWS. Confirm that \"Enable ActiveX and Socket EClients\" \n",
      "is enabled and connection port is the same as \"Socket Port\" on the \n",
      "TWS \"Edit->Global Configuration...->API->Settings\" menu. Live Trading ports: \n",
      "TWS: 7496; IB Gateway: 4001. Simulated Trading ports for new installations \n",
      "of version 954.1 or newer:  TWS: 7497; IB Gateway: 4002\n"
     ]
    },
    {
     "name": "stdout",
     "output_type": "stream",
     "text": [
      "processing CRM for 20220520 23:59:59 US/Eastern took   3.07 sec\n",
      "processing 20220619 23:59:59 US/Eastern\n"
     ]
    },
    {
     "name": "stderr",
     "output_type": "stream",
     "text": [
      "ERROR -1 502 Couldn't connect to TWS. Confirm that \"Enable ActiveX and Socket EClients\" \n",
      "is enabled and connection port is the same as \"Socket Port\" on the \n",
      "TWS \"Edit->Global Configuration...->API->Settings\" menu. Live Trading ports: \n",
      "TWS: 7496; IB Gateway: 4001. Simulated Trading ports for new installations \n",
      "of version 954.1 or newer:  TWS: 7497; IB Gateway: 4002\n"
     ]
    },
    {
     "name": "stdout",
     "output_type": "stream",
     "text": [
      "processing CRM for 20220619 23:59:59 US/Eastern took   3.04 sec\n",
      "processing 20220719 23:59:59 US/Eastern\n"
     ]
    },
    {
     "name": "stderr",
     "output_type": "stream",
     "text": [
      "ERROR -1 502 Couldn't connect to TWS. Confirm that \"Enable ActiveX and Socket EClients\" \n",
      "is enabled and connection port is the same as \"Socket Port\" on the \n",
      "TWS \"Edit->Global Configuration...->API->Settings\" menu. Live Trading ports: \n",
      "TWS: 7496; IB Gateway: 4001. Simulated Trading ports for new installations \n",
      "of version 954.1 or newer:  TWS: 7497; IB Gateway: 4002\n"
     ]
    },
    {
     "name": "stdout",
     "output_type": "stream",
     "text": [
      "processing CRM for 20220719 23:59:59 US/Eastern took   3.06 sec\n",
      "processing 20220818 23:59:59 US/Eastern\n"
     ]
    },
    {
     "name": "stderr",
     "output_type": "stream",
     "text": [
      "ERROR -1 502 Couldn't connect to TWS. Confirm that \"Enable ActiveX and Socket EClients\" \n",
      "is enabled and connection port is the same as \"Socket Port\" on the \n",
      "TWS \"Edit->Global Configuration...->API->Settings\" menu. Live Trading ports: \n",
      "TWS: 7496; IB Gateway: 4001. Simulated Trading ports for new installations \n",
      "of version 954.1 or newer:  TWS: 7497; IB Gateway: 4002\n"
     ]
    },
    {
     "name": "stdout",
     "output_type": "stream",
     "text": [
      "processing CRM for 20220818 23:59:59 US/Eastern took   3.07 sec\n",
      "processing 20220917 23:59:59 US/Eastern\n"
     ]
    },
    {
     "name": "stderr",
     "output_type": "stream",
     "text": [
      "ERROR -1 502 Couldn't connect to TWS. Confirm that \"Enable ActiveX and Socket EClients\" \n",
      "is enabled and connection port is the same as \"Socket Port\" on the \n",
      "TWS \"Edit->Global Configuration...->API->Settings\" menu. Live Trading ports: \n",
      "TWS: 7496; IB Gateway: 4001. Simulated Trading ports for new installations \n",
      "of version 954.1 or newer:  TWS: 7497; IB Gateway: 4002\n"
     ]
    },
    {
     "name": "stdout",
     "output_type": "stream",
     "text": [
      "processing CRM for 20220917 23:59:59 US/Eastern took   3.05 sec\n",
      "processing 20221017 23:59:59 US/Eastern\n"
     ]
    },
    {
     "name": "stderr",
     "output_type": "stream",
     "text": [
      "ERROR -1 502 Couldn't connect to TWS. Confirm that \"Enable ActiveX and Socket EClients\" \n",
      "is enabled and connection port is the same as \"Socket Port\" on the \n",
      "TWS \"Edit->Global Configuration...->API->Settings\" menu. Live Trading ports: \n",
      "TWS: 7496; IB Gateway: 4001. Simulated Trading ports for new installations \n",
      "of version 954.1 or newer:  TWS: 7497; IB Gateway: 4002\n"
     ]
    },
    {
     "name": "stdout",
     "output_type": "stream",
     "text": [
      "processing CRM for 20221017 23:59:59 US/Eastern took   3.05 sec\n",
      "processing 20221116 23:59:59 US/Eastern\n"
     ]
    },
    {
     "name": "stderr",
     "output_type": "stream",
     "text": [
      "ERROR -1 502 Couldn't connect to TWS. Confirm that \"Enable ActiveX and Socket EClients\" \n",
      "is enabled and connection port is the same as \"Socket Port\" on the \n",
      "TWS \"Edit->Global Configuration...->API->Settings\" menu. Live Trading ports: \n",
      "TWS: 7496; IB Gateway: 4001. Simulated Trading ports for new installations \n",
      "of version 954.1 or newer:  TWS: 7497; IB Gateway: 4002\n"
     ]
    },
    {
     "name": "stdout",
     "output_type": "stream",
     "text": [
      "processing CRM for 20221116 23:59:59 US/Eastern took   3.05 sec\n",
      "processing 20221216 23:59:59 US/Eastern\n"
     ]
    },
    {
     "name": "stderr",
     "output_type": "stream",
     "text": [
      "ERROR -1 502 Couldn't connect to TWS. Confirm that \"Enable ActiveX and Socket EClients\" \n",
      "is enabled and connection port is the same as \"Socket Port\" on the \n",
      "TWS \"Edit->Global Configuration...->API->Settings\" menu. Live Trading ports: \n",
      "TWS: 7496; IB Gateway: 4001. Simulated Trading ports for new installations \n",
      "of version 954.1 or newer:  TWS: 7497; IB Gateway: 4002\n"
     ]
    },
    {
     "name": "stdout",
     "output_type": "stream",
     "text": [
      "processing CRM for 20221216 23:59:59 US/Eastern took   3.04 sec\n",
      "processing 20230115 23:59:59 US/Eastern\n"
     ]
    },
    {
     "name": "stderr",
     "output_type": "stream",
     "text": [
      "ERROR -1 502 Couldn't connect to TWS. Confirm that \"Enable ActiveX and Socket EClients\" \n",
      "is enabled and connection port is the same as \"Socket Port\" on the \n",
      "TWS \"Edit->Global Configuration...->API->Settings\" menu. Live Trading ports: \n",
      "TWS: 7496; IB Gateway: 4001. Simulated Trading ports for new installations \n",
      "of version 954.1 or newer:  TWS: 7497; IB Gateway: 4002\n"
     ]
    },
    {
     "name": "stdout",
     "output_type": "stream",
     "text": [
      "processing CRM for 20230115 23:59:59 US/Eastern took   3.05 sec\n",
      "processing 20230214 23:59:59 US/Eastern\n"
     ]
    },
    {
     "name": "stderr",
     "output_type": "stream",
     "text": [
      "ERROR -1 502 Couldn't connect to TWS. Confirm that \"Enable ActiveX and Socket EClients\" \n",
      "is enabled and connection port is the same as \"Socket Port\" on the \n",
      "TWS \"Edit->Global Configuration...->API->Settings\" menu. Live Trading ports: \n",
      "TWS: 7496; IB Gateway: 4001. Simulated Trading ports for new installations \n",
      "of version 954.1 or newer:  TWS: 7497; IB Gateway: 4002\n"
     ]
    },
    {
     "name": "stdout",
     "output_type": "stream",
     "text": [
      "processing CRM for 20230214 23:59:59 US/Eastern took   3.03 sec\n",
      "processing 20230316 23:59:59 US/Eastern\n"
     ]
    },
    {
     "name": "stderr",
     "output_type": "stream",
     "text": [
      "ERROR -1 502 Couldn't connect to TWS. Confirm that \"Enable ActiveX and Socket EClients\" \n",
      "is enabled and connection port is the same as \"Socket Port\" on the \n",
      "TWS \"Edit->Global Configuration...->API->Settings\" menu. Live Trading ports: \n",
      "TWS: 7496; IB Gateway: 4001. Simulated Trading ports for new installations \n",
      "of version 954.1 or newer:  TWS: 7497; IB Gateway: 4002\n"
     ]
    },
    {
     "name": "stdout",
     "output_type": "stream",
     "text": [
      "processing CRM for 20230316 23:59:59 US/Eastern took   3.04 sec\n",
      "Processing CSCO\n",
      "processing 20200101 23:59:59 US/Eastern\n"
     ]
    },
    {
     "name": "stderr",
     "output_type": "stream",
     "text": [
      "ERROR -1 502 Couldn't connect to TWS. Confirm that \"Enable ActiveX and Socket EClients\" \n",
      "is enabled and connection port is the same as \"Socket Port\" on the \n",
      "TWS \"Edit->Global Configuration...->API->Settings\" menu. Live Trading ports: \n",
      "TWS: 7496; IB Gateway: 4001. Simulated Trading ports for new installations \n",
      "of version 954.1 or newer:  TWS: 7497; IB Gateway: 4002\n"
     ]
    },
    {
     "name": "stdout",
     "output_type": "stream",
     "text": [
      "processing CSCO for 20200101 23:59:59 US/Eastern took   3.04 sec\n",
      "processing 20200131 23:59:59 US/Eastern\n"
     ]
    },
    {
     "name": "stderr",
     "output_type": "stream",
     "text": [
      "ERROR -1 502 Couldn't connect to TWS. Confirm that \"Enable ActiveX and Socket EClients\" \n",
      "is enabled and connection port is the same as \"Socket Port\" on the \n",
      "TWS \"Edit->Global Configuration...->API->Settings\" menu. Live Trading ports: \n",
      "TWS: 7496; IB Gateway: 4001. Simulated Trading ports for new installations \n",
      "of version 954.1 or newer:  TWS: 7497; IB Gateway: 4002\n"
     ]
    },
    {
     "name": "stdout",
     "output_type": "stream",
     "text": [
      "processing CSCO for 20200131 23:59:59 US/Eastern took   3.07 sec\n",
      "processing 20200301 23:59:59 US/Eastern\n"
     ]
    },
    {
     "name": "stderr",
     "output_type": "stream",
     "text": [
      "ERROR -1 502 Couldn't connect to TWS. Confirm that \"Enable ActiveX and Socket EClients\" \n",
      "is enabled and connection port is the same as \"Socket Port\" on the \n",
      "TWS \"Edit->Global Configuration...->API->Settings\" menu. Live Trading ports: \n",
      "TWS: 7496; IB Gateway: 4001. Simulated Trading ports for new installations \n",
      "of version 954.1 or newer:  TWS: 7497; IB Gateway: 4002\n"
     ]
    },
    {
     "name": "stdout",
     "output_type": "stream",
     "text": [
      "processing CSCO for 20200301 23:59:59 US/Eastern took   3.05 sec\n",
      "processing 20200331 23:59:59 US/Eastern\n"
     ]
    },
    {
     "name": "stderr",
     "output_type": "stream",
     "text": [
      "ERROR -1 502 Couldn't connect to TWS. Confirm that \"Enable ActiveX and Socket EClients\" \n",
      "is enabled and connection port is the same as \"Socket Port\" on the \n",
      "TWS \"Edit->Global Configuration...->API->Settings\" menu. Live Trading ports: \n",
      "TWS: 7496; IB Gateway: 4001. Simulated Trading ports for new installations \n",
      "of version 954.1 or newer:  TWS: 7497; IB Gateway: 4002\n"
     ]
    },
    {
     "name": "stdout",
     "output_type": "stream",
     "text": [
      "processing CSCO for 20200331 23:59:59 US/Eastern took   3.05 sec\n",
      "processing 20200430 23:59:59 US/Eastern\n"
     ]
    },
    {
     "name": "stderr",
     "output_type": "stream",
     "text": [
      "ERROR -1 502 Couldn't connect to TWS. Confirm that \"Enable ActiveX and Socket EClients\" \n",
      "is enabled and connection port is the same as \"Socket Port\" on the \n",
      "TWS \"Edit->Global Configuration...->API->Settings\" menu. Live Trading ports: \n",
      "TWS: 7496; IB Gateway: 4001. Simulated Trading ports for new installations \n",
      "of version 954.1 or newer:  TWS: 7497; IB Gateway: 4002\n"
     ]
    },
    {
     "name": "stdout",
     "output_type": "stream",
     "text": [
      "processing CSCO for 20200430 23:59:59 US/Eastern took   3.05 sec\n",
      "processing 20200530 23:59:59 US/Eastern\n"
     ]
    },
    {
     "name": "stderr",
     "output_type": "stream",
     "text": [
      "ERROR -1 502 Couldn't connect to TWS. Confirm that \"Enable ActiveX and Socket EClients\" \n",
      "is enabled and connection port is the same as \"Socket Port\" on the \n",
      "TWS \"Edit->Global Configuration...->API->Settings\" menu. Live Trading ports: \n",
      "TWS: 7496; IB Gateway: 4001. Simulated Trading ports for new installations \n",
      "of version 954.1 or newer:  TWS: 7497; IB Gateway: 4002\n"
     ]
    },
    {
     "name": "stdout",
     "output_type": "stream",
     "text": [
      "processing CSCO for 20200530 23:59:59 US/Eastern took   3.06 sec\n",
      "processing 20200629 23:59:59 US/Eastern\n"
     ]
    },
    {
     "name": "stderr",
     "output_type": "stream",
     "text": [
      "ERROR -1 502 Couldn't connect to TWS. Confirm that \"Enable ActiveX and Socket EClients\" \n",
      "is enabled and connection port is the same as \"Socket Port\" on the \n",
      "TWS \"Edit->Global Configuration...->API->Settings\" menu. Live Trading ports: \n",
      "TWS: 7496; IB Gateway: 4001. Simulated Trading ports for new installations \n",
      "of version 954.1 or newer:  TWS: 7497; IB Gateway: 4002\n"
     ]
    },
    {
     "name": "stdout",
     "output_type": "stream",
     "text": [
      "processing CSCO for 20200629 23:59:59 US/Eastern took   3.04 sec\n",
      "processing 20200729 23:59:59 US/Eastern\n"
     ]
    },
    {
     "name": "stderr",
     "output_type": "stream",
     "text": [
      "ERROR -1 502 Couldn't connect to TWS. Confirm that \"Enable ActiveX and Socket EClients\" \n",
      "is enabled and connection port is the same as \"Socket Port\" on the \n",
      "TWS \"Edit->Global Configuration...->API->Settings\" menu. Live Trading ports: \n",
      "TWS: 7496; IB Gateway: 4001. Simulated Trading ports for new installations \n",
      "of version 954.1 or newer:  TWS: 7497; IB Gateway: 4002\n"
     ]
    },
    {
     "name": "stdout",
     "output_type": "stream",
     "text": [
      "processing CSCO for 20200729 23:59:59 US/Eastern took   3.03 sec\n",
      "processing 20200828 23:59:59 US/Eastern\n"
     ]
    },
    {
     "name": "stderr",
     "output_type": "stream",
     "text": [
      "ERROR -1 502 Couldn't connect to TWS. Confirm that \"Enable ActiveX and Socket EClients\" \n",
      "is enabled and connection port is the same as \"Socket Port\" on the \n",
      "TWS \"Edit->Global Configuration...->API->Settings\" menu. Live Trading ports: \n",
      "TWS: 7496; IB Gateway: 4001. Simulated Trading ports for new installations \n",
      "of version 954.1 or newer:  TWS: 7497; IB Gateway: 4002\n"
     ]
    },
    {
     "name": "stdout",
     "output_type": "stream",
     "text": [
      "processing CSCO for 20200828 23:59:59 US/Eastern took   3.06 sec\n",
      "processing 20200927 23:59:59 US/Eastern\n"
     ]
    },
    {
     "name": "stderr",
     "output_type": "stream",
     "text": [
      "ERROR -1 502 Couldn't connect to TWS. Confirm that \"Enable ActiveX and Socket EClients\" \n",
      "is enabled and connection port is the same as \"Socket Port\" on the \n",
      "TWS \"Edit->Global Configuration...->API->Settings\" menu. Live Trading ports: \n",
      "TWS: 7496; IB Gateway: 4001. Simulated Trading ports for new installations \n",
      "of version 954.1 or newer:  TWS: 7497; IB Gateway: 4002\n"
     ]
    },
    {
     "name": "stdout",
     "output_type": "stream",
     "text": [
      "processing CSCO for 20200927 23:59:59 US/Eastern took   3.06 sec\n",
      "processing 20201027 23:59:59 US/Eastern\n"
     ]
    },
    {
     "name": "stderr",
     "output_type": "stream",
     "text": [
      "ERROR -1 502 Couldn't connect to TWS. Confirm that \"Enable ActiveX and Socket EClients\" \n",
      "is enabled and connection port is the same as \"Socket Port\" on the \n",
      "TWS \"Edit->Global Configuration...->API->Settings\" menu. Live Trading ports: \n",
      "TWS: 7496; IB Gateway: 4001. Simulated Trading ports for new installations \n",
      "of version 954.1 or newer:  TWS: 7497; IB Gateway: 4002\n"
     ]
    },
    {
     "name": "stdout",
     "output_type": "stream",
     "text": [
      "processing CSCO for 20201027 23:59:59 US/Eastern took   3.05 sec\n",
      "processing 20201126 23:59:59 US/Eastern\n"
     ]
    },
    {
     "name": "stderr",
     "output_type": "stream",
     "text": [
      "ERROR -1 502 Couldn't connect to TWS. Confirm that \"Enable ActiveX and Socket EClients\" \n",
      "is enabled and connection port is the same as \"Socket Port\" on the \n",
      "TWS \"Edit->Global Configuration...->API->Settings\" menu. Live Trading ports: \n",
      "TWS: 7496; IB Gateway: 4001. Simulated Trading ports for new installations \n",
      "of version 954.1 or newer:  TWS: 7497; IB Gateway: 4002\n"
     ]
    },
    {
     "name": "stdout",
     "output_type": "stream",
     "text": [
      "processing CSCO for 20201126 23:59:59 US/Eastern took   3.03 sec\n",
      "processing 20201226 23:59:59 US/Eastern\n"
     ]
    },
    {
     "name": "stderr",
     "output_type": "stream",
     "text": [
      "ERROR -1 502 Couldn't connect to TWS. Confirm that \"Enable ActiveX and Socket EClients\" \n",
      "is enabled and connection port is the same as \"Socket Port\" on the \n",
      "TWS \"Edit->Global Configuration...->API->Settings\" menu. Live Trading ports: \n",
      "TWS: 7496; IB Gateway: 4001. Simulated Trading ports for new installations \n",
      "of version 954.1 or newer:  TWS: 7497; IB Gateway: 4002\n"
     ]
    },
    {
     "name": "stdout",
     "output_type": "stream",
     "text": [
      "processing CSCO for 20201226 23:59:59 US/Eastern took   3.03 sec\n",
      "processing 20210125 23:59:59 US/Eastern\n"
     ]
    },
    {
     "name": "stderr",
     "output_type": "stream",
     "text": [
      "ERROR -1 502 Couldn't connect to TWS. Confirm that \"Enable ActiveX and Socket EClients\" \n",
      "is enabled and connection port is the same as \"Socket Port\" on the \n",
      "TWS \"Edit->Global Configuration...->API->Settings\" menu. Live Trading ports: \n",
      "TWS: 7496; IB Gateway: 4001. Simulated Trading ports for new installations \n",
      "of version 954.1 or newer:  TWS: 7497; IB Gateway: 4002\n"
     ]
    },
    {
     "name": "stdout",
     "output_type": "stream",
     "text": [
      "processing CSCO for 20210125 23:59:59 US/Eastern took   3.05 sec\n",
      "processing 20210224 23:59:59 US/Eastern\n"
     ]
    },
    {
     "name": "stderr",
     "output_type": "stream",
     "text": [
      "ERROR -1 502 Couldn't connect to TWS. Confirm that \"Enable ActiveX and Socket EClients\" \n",
      "is enabled and connection port is the same as \"Socket Port\" on the \n",
      "TWS \"Edit->Global Configuration...->API->Settings\" menu. Live Trading ports: \n",
      "TWS: 7496; IB Gateway: 4001. Simulated Trading ports for new installations \n",
      "of version 954.1 or newer:  TWS: 7497; IB Gateway: 4002\n"
     ]
    },
    {
     "name": "stdout",
     "output_type": "stream",
     "text": [
      "processing CSCO for 20210224 23:59:59 US/Eastern took   3.04 sec\n",
      "processing 20210326 23:59:59 US/Eastern\n"
     ]
    },
    {
     "name": "stderr",
     "output_type": "stream",
     "text": [
      "ERROR -1 502 Couldn't connect to TWS. Confirm that \"Enable ActiveX and Socket EClients\" \n",
      "is enabled and connection port is the same as \"Socket Port\" on the \n",
      "TWS \"Edit->Global Configuration...->API->Settings\" menu. Live Trading ports: \n",
      "TWS: 7496; IB Gateway: 4001. Simulated Trading ports for new installations \n",
      "of version 954.1 or newer:  TWS: 7497; IB Gateway: 4002\n"
     ]
    },
    {
     "name": "stdout",
     "output_type": "stream",
     "text": [
      "processing CSCO for 20210326 23:59:59 US/Eastern took   3.03 sec\n",
      "processing 20210425 23:59:59 US/Eastern\n"
     ]
    },
    {
     "name": "stderr",
     "output_type": "stream",
     "text": [
      "ERROR -1 502 Couldn't connect to TWS. Confirm that \"Enable ActiveX and Socket EClients\" \n",
      "is enabled and connection port is the same as \"Socket Port\" on the \n",
      "TWS \"Edit->Global Configuration...->API->Settings\" menu. Live Trading ports: \n",
      "TWS: 7496; IB Gateway: 4001. Simulated Trading ports for new installations \n",
      "of version 954.1 or newer:  TWS: 7497; IB Gateway: 4002\n"
     ]
    },
    {
     "name": "stdout",
     "output_type": "stream",
     "text": [
      "processing CSCO for 20210425 23:59:59 US/Eastern took   3.07 sec\n",
      "processing 20210525 23:59:59 US/Eastern\n"
     ]
    },
    {
     "name": "stderr",
     "output_type": "stream",
     "text": [
      "ERROR -1 502 Couldn't connect to TWS. Confirm that \"Enable ActiveX and Socket EClients\" \n",
      "is enabled and connection port is the same as \"Socket Port\" on the \n",
      "TWS \"Edit->Global Configuration...->API->Settings\" menu. Live Trading ports: \n",
      "TWS: 7496; IB Gateway: 4001. Simulated Trading ports for new installations \n",
      "of version 954.1 or newer:  TWS: 7497; IB Gateway: 4002\n"
     ]
    },
    {
     "name": "stdout",
     "output_type": "stream",
     "text": [
      "processing CSCO for 20210525 23:59:59 US/Eastern took   3.06 sec\n",
      "processing 20210624 23:59:59 US/Eastern\n"
     ]
    },
    {
     "name": "stderr",
     "output_type": "stream",
     "text": [
      "ERROR -1 502 Couldn't connect to TWS. Confirm that \"Enable ActiveX and Socket EClients\" \n",
      "is enabled and connection port is the same as \"Socket Port\" on the \n",
      "TWS \"Edit->Global Configuration...->API->Settings\" menu. Live Trading ports: \n",
      "TWS: 7496; IB Gateway: 4001. Simulated Trading ports for new installations \n",
      "of version 954.1 or newer:  TWS: 7497; IB Gateway: 4002\n"
     ]
    },
    {
     "name": "stdout",
     "output_type": "stream",
     "text": [
      "processing CSCO for 20210624 23:59:59 US/Eastern took   3.05 sec\n",
      "processing 20210724 23:59:59 US/Eastern\n"
     ]
    },
    {
     "name": "stderr",
     "output_type": "stream",
     "text": [
      "ERROR -1 502 Couldn't connect to TWS. Confirm that \"Enable ActiveX and Socket EClients\" \n",
      "is enabled and connection port is the same as \"Socket Port\" on the \n",
      "TWS \"Edit->Global Configuration...->API->Settings\" menu. Live Trading ports: \n",
      "TWS: 7496; IB Gateway: 4001. Simulated Trading ports for new installations \n",
      "of version 954.1 or newer:  TWS: 7497; IB Gateway: 4002\n"
     ]
    },
    {
     "name": "stdout",
     "output_type": "stream",
     "text": [
      "processing CSCO for 20210724 23:59:59 US/Eastern took   3.05 sec\n",
      "processing 20210823 23:59:59 US/Eastern\n"
     ]
    },
    {
     "name": "stderr",
     "output_type": "stream",
     "text": [
      "ERROR -1 502 Couldn't connect to TWS. Confirm that \"Enable ActiveX and Socket EClients\" \n",
      "is enabled and connection port is the same as \"Socket Port\" on the \n",
      "TWS \"Edit->Global Configuration...->API->Settings\" menu. Live Trading ports: \n",
      "TWS: 7496; IB Gateway: 4001. Simulated Trading ports for new installations \n",
      "of version 954.1 or newer:  TWS: 7497; IB Gateway: 4002\n"
     ]
    },
    {
     "name": "stdout",
     "output_type": "stream",
     "text": [
      "processing CSCO for 20210823 23:59:59 US/Eastern took   3.06 sec\n",
      "processing 20210922 23:59:59 US/Eastern\n"
     ]
    },
    {
     "name": "stderr",
     "output_type": "stream",
     "text": [
      "ERROR -1 502 Couldn't connect to TWS. Confirm that \"Enable ActiveX and Socket EClients\" \n",
      "is enabled and connection port is the same as \"Socket Port\" on the \n",
      "TWS \"Edit->Global Configuration...->API->Settings\" menu. Live Trading ports: \n",
      "TWS: 7496; IB Gateway: 4001. Simulated Trading ports for new installations \n",
      "of version 954.1 or newer:  TWS: 7497; IB Gateway: 4002\n"
     ]
    },
    {
     "name": "stdout",
     "output_type": "stream",
     "text": [
      "processing CSCO for 20210922 23:59:59 US/Eastern took   3.05 sec\n",
      "processing 20211022 23:59:59 US/Eastern\n"
     ]
    },
    {
     "name": "stderr",
     "output_type": "stream",
     "text": [
      "ERROR -1 502 Couldn't connect to TWS. Confirm that \"Enable ActiveX and Socket EClients\" \n",
      "is enabled and connection port is the same as \"Socket Port\" on the \n",
      "TWS \"Edit->Global Configuration...->API->Settings\" menu. Live Trading ports: \n",
      "TWS: 7496; IB Gateway: 4001. Simulated Trading ports for new installations \n",
      "of version 954.1 or newer:  TWS: 7497; IB Gateway: 4002\n"
     ]
    },
    {
     "name": "stdout",
     "output_type": "stream",
     "text": [
      "processing CSCO for 20211022 23:59:59 US/Eastern took   3.05 sec\n",
      "processing 20211121 23:59:59 US/Eastern\n"
     ]
    },
    {
     "name": "stderr",
     "output_type": "stream",
     "text": [
      "ERROR -1 502 Couldn't connect to TWS. Confirm that \"Enable ActiveX and Socket EClients\" \n",
      "is enabled and connection port is the same as \"Socket Port\" on the \n",
      "TWS \"Edit->Global Configuration...->API->Settings\" menu. Live Trading ports: \n",
      "TWS: 7496; IB Gateway: 4001. Simulated Trading ports for new installations \n",
      "of version 954.1 or newer:  TWS: 7497; IB Gateway: 4002\n"
     ]
    },
    {
     "name": "stdout",
     "output_type": "stream",
     "text": [
      "processing CSCO for 20211121 23:59:59 US/Eastern took   3.04 sec\n",
      "processing 20211221 23:59:59 US/Eastern\n"
     ]
    },
    {
     "name": "stderr",
     "output_type": "stream",
     "text": [
      "ERROR -1 502 Couldn't connect to TWS. Confirm that \"Enable ActiveX and Socket EClients\" \n",
      "is enabled and connection port is the same as \"Socket Port\" on the \n",
      "TWS \"Edit->Global Configuration...->API->Settings\" menu. Live Trading ports: \n",
      "TWS: 7496; IB Gateway: 4001. Simulated Trading ports for new installations \n",
      "of version 954.1 or newer:  TWS: 7497; IB Gateway: 4002\n"
     ]
    },
    {
     "name": "stdout",
     "output_type": "stream",
     "text": [
      "processing CSCO for 20211221 23:59:59 US/Eastern took   3.06 sec\n",
      "processing 20220120 23:59:59 US/Eastern\n"
     ]
    },
    {
     "name": "stderr",
     "output_type": "stream",
     "text": [
      "ERROR -1 502 Couldn't connect to TWS. Confirm that \"Enable ActiveX and Socket EClients\" \n",
      "is enabled and connection port is the same as \"Socket Port\" on the \n",
      "TWS \"Edit->Global Configuration...->API->Settings\" menu. Live Trading ports: \n",
      "TWS: 7496; IB Gateway: 4001. Simulated Trading ports for new installations \n",
      "of version 954.1 or newer:  TWS: 7497; IB Gateway: 4002\n"
     ]
    },
    {
     "name": "stdout",
     "output_type": "stream",
     "text": [
      "processing CSCO for 20220120 23:59:59 US/Eastern took   3.05 sec\n",
      "processing 20220219 23:59:59 US/Eastern\n"
     ]
    },
    {
     "name": "stderr",
     "output_type": "stream",
     "text": [
      "ERROR -1 502 Couldn't connect to TWS. Confirm that \"Enable ActiveX and Socket EClients\" \n",
      "is enabled and connection port is the same as \"Socket Port\" on the \n",
      "TWS \"Edit->Global Configuration...->API->Settings\" menu. Live Trading ports: \n",
      "TWS: 7496; IB Gateway: 4001. Simulated Trading ports for new installations \n",
      "of version 954.1 or newer:  TWS: 7497; IB Gateway: 4002\n"
     ]
    },
    {
     "name": "stdout",
     "output_type": "stream",
     "text": [
      "processing CSCO for 20220219 23:59:59 US/Eastern took   3.03 sec\n",
      "processing 20220321 23:59:59 US/Eastern\n"
     ]
    },
    {
     "name": "stderr",
     "output_type": "stream",
     "text": [
      "ERROR -1 502 Couldn't connect to TWS. Confirm that \"Enable ActiveX and Socket EClients\" \n",
      "is enabled and connection port is the same as \"Socket Port\" on the \n",
      "TWS \"Edit->Global Configuration...->API->Settings\" menu. Live Trading ports: \n",
      "TWS: 7496; IB Gateway: 4001. Simulated Trading ports for new installations \n",
      "of version 954.1 or newer:  TWS: 7497; IB Gateway: 4002\n"
     ]
    },
    {
     "name": "stdout",
     "output_type": "stream",
     "text": [
      "processing CSCO for 20220321 23:59:59 US/Eastern took   3.05 sec\n",
      "processing 20220420 23:59:59 US/Eastern\n"
     ]
    },
    {
     "name": "stderr",
     "output_type": "stream",
     "text": [
      "ERROR -1 502 Couldn't connect to TWS. Confirm that \"Enable ActiveX and Socket EClients\" \n",
      "is enabled and connection port is the same as \"Socket Port\" on the \n",
      "TWS \"Edit->Global Configuration...->API->Settings\" menu. Live Trading ports: \n",
      "TWS: 7496; IB Gateway: 4001. Simulated Trading ports for new installations \n",
      "of version 954.1 or newer:  TWS: 7497; IB Gateway: 4002\n"
     ]
    },
    {
     "name": "stdout",
     "output_type": "stream",
     "text": [
      "processing CSCO for 20220420 23:59:59 US/Eastern took   3.05 sec\n",
      "processing 20220520 23:59:59 US/Eastern\n"
     ]
    },
    {
     "name": "stderr",
     "output_type": "stream",
     "text": [
      "ERROR -1 502 Couldn't connect to TWS. Confirm that \"Enable ActiveX and Socket EClients\" \n",
      "is enabled and connection port is the same as \"Socket Port\" on the \n",
      "TWS \"Edit->Global Configuration...->API->Settings\" menu. Live Trading ports: \n",
      "TWS: 7496; IB Gateway: 4001. Simulated Trading ports for new installations \n",
      "of version 954.1 or newer:  TWS: 7497; IB Gateway: 4002\n"
     ]
    },
    {
     "name": "stdout",
     "output_type": "stream",
     "text": [
      "processing CSCO for 20220520 23:59:59 US/Eastern took   3.05 sec\n",
      "processing 20220619 23:59:59 US/Eastern\n"
     ]
    },
    {
     "name": "stderr",
     "output_type": "stream",
     "text": [
      "ERROR -1 502 Couldn't connect to TWS. Confirm that \"Enable ActiveX and Socket EClients\" \n",
      "is enabled and connection port is the same as \"Socket Port\" on the \n",
      "TWS \"Edit->Global Configuration...->API->Settings\" menu. Live Trading ports: \n",
      "TWS: 7496; IB Gateway: 4001. Simulated Trading ports for new installations \n",
      "of version 954.1 or newer:  TWS: 7497; IB Gateway: 4002\n"
     ]
    },
    {
     "name": "stdout",
     "output_type": "stream",
     "text": [
      "processing CSCO for 20220619 23:59:59 US/Eastern took   3.06 sec\n",
      "processing 20220719 23:59:59 US/Eastern\n"
     ]
    },
    {
     "name": "stderr",
     "output_type": "stream",
     "text": [
      "ERROR -1 502 Couldn't connect to TWS. Confirm that \"Enable ActiveX and Socket EClients\" \n",
      "is enabled and connection port is the same as \"Socket Port\" on the \n",
      "TWS \"Edit->Global Configuration...->API->Settings\" menu. Live Trading ports: \n",
      "TWS: 7496; IB Gateway: 4001. Simulated Trading ports for new installations \n",
      "of version 954.1 or newer:  TWS: 7497; IB Gateway: 4002\n"
     ]
    },
    {
     "name": "stdout",
     "output_type": "stream",
     "text": [
      "processing CSCO for 20220719 23:59:59 US/Eastern took   3.04 sec\n",
      "processing 20220818 23:59:59 US/Eastern\n"
     ]
    },
    {
     "name": "stderr",
     "output_type": "stream",
     "text": [
      "ERROR -1 502 Couldn't connect to TWS. Confirm that \"Enable ActiveX and Socket EClients\" \n",
      "is enabled and connection port is the same as \"Socket Port\" on the \n",
      "TWS \"Edit->Global Configuration...->API->Settings\" menu. Live Trading ports: \n",
      "TWS: 7496; IB Gateway: 4001. Simulated Trading ports for new installations \n",
      "of version 954.1 or newer:  TWS: 7497; IB Gateway: 4002\n"
     ]
    },
    {
     "name": "stdout",
     "output_type": "stream",
     "text": [
      "processing CSCO for 20220818 23:59:59 US/Eastern took   3.03 sec\n",
      "processing 20220917 23:59:59 US/Eastern\n"
     ]
    },
    {
     "name": "stderr",
     "output_type": "stream",
     "text": [
      "ERROR -1 502 Couldn't connect to TWS. Confirm that \"Enable ActiveX and Socket EClients\" \n",
      "is enabled and connection port is the same as \"Socket Port\" on the \n",
      "TWS \"Edit->Global Configuration...->API->Settings\" menu. Live Trading ports: \n",
      "TWS: 7496; IB Gateway: 4001. Simulated Trading ports for new installations \n",
      "of version 954.1 or newer:  TWS: 7497; IB Gateway: 4002\n"
     ]
    },
    {
     "name": "stdout",
     "output_type": "stream",
     "text": [
      "processing CSCO for 20220917 23:59:59 US/Eastern took   3.07 sec\n",
      "processing 20221017 23:59:59 US/Eastern\n"
     ]
    },
    {
     "name": "stderr",
     "output_type": "stream",
     "text": [
      "ERROR -1 502 Couldn't connect to TWS. Confirm that \"Enable ActiveX and Socket EClients\" \n",
      "is enabled and connection port is the same as \"Socket Port\" on the \n",
      "TWS \"Edit->Global Configuration...->API->Settings\" menu. Live Trading ports: \n",
      "TWS: 7496; IB Gateway: 4001. Simulated Trading ports for new installations \n",
      "of version 954.1 or newer:  TWS: 7497; IB Gateway: 4002\n"
     ]
    },
    {
     "name": "stdout",
     "output_type": "stream",
     "text": [
      "processing CSCO for 20221017 23:59:59 US/Eastern took   3.04 sec\n",
      "processing 20221116 23:59:59 US/Eastern\n"
     ]
    },
    {
     "name": "stderr",
     "output_type": "stream",
     "text": [
      "ERROR -1 502 Couldn't connect to TWS. Confirm that \"Enable ActiveX and Socket EClients\" \n",
      "is enabled and connection port is the same as \"Socket Port\" on the \n",
      "TWS \"Edit->Global Configuration...->API->Settings\" menu. Live Trading ports: \n",
      "TWS: 7496; IB Gateway: 4001. Simulated Trading ports for new installations \n",
      "of version 954.1 or newer:  TWS: 7497; IB Gateway: 4002\n"
     ]
    },
    {
     "name": "stdout",
     "output_type": "stream",
     "text": [
      "processing CSCO for 20221116 23:59:59 US/Eastern took   3.05 sec\n",
      "processing 20221216 23:59:59 US/Eastern\n"
     ]
    },
    {
     "name": "stderr",
     "output_type": "stream",
     "text": [
      "ERROR -1 502 Couldn't connect to TWS. Confirm that \"Enable ActiveX and Socket EClients\" \n",
      "is enabled and connection port is the same as \"Socket Port\" on the \n",
      "TWS \"Edit->Global Configuration...->API->Settings\" menu. Live Trading ports: \n",
      "TWS: 7496; IB Gateway: 4001. Simulated Trading ports for new installations \n",
      "of version 954.1 or newer:  TWS: 7497; IB Gateway: 4002\n"
     ]
    },
    {
     "name": "stdout",
     "output_type": "stream",
     "text": [
      "processing CSCO for 20221216 23:59:59 US/Eastern took   3.03 sec\n",
      "processing 20230115 23:59:59 US/Eastern\n"
     ]
    },
    {
     "name": "stderr",
     "output_type": "stream",
     "text": [
      "ERROR -1 502 Couldn't connect to TWS. Confirm that \"Enable ActiveX and Socket EClients\" \n",
      "is enabled and connection port is the same as \"Socket Port\" on the \n",
      "TWS \"Edit->Global Configuration...->API->Settings\" menu. Live Trading ports: \n",
      "TWS: 7496; IB Gateway: 4001. Simulated Trading ports for new installations \n",
      "of version 954.1 or newer:  TWS: 7497; IB Gateway: 4002\n"
     ]
    },
    {
     "name": "stdout",
     "output_type": "stream",
     "text": [
      "processing CSCO for 20230115 23:59:59 US/Eastern took   3.03 sec\n",
      "processing 20230214 23:59:59 US/Eastern\n"
     ]
    },
    {
     "name": "stderr",
     "output_type": "stream",
     "text": [
      "ERROR -1 502 Couldn't connect to TWS. Confirm that \"Enable ActiveX and Socket EClients\" \n",
      "is enabled and connection port is the same as \"Socket Port\" on the \n",
      "TWS \"Edit->Global Configuration...->API->Settings\" menu. Live Trading ports: \n",
      "TWS: 7496; IB Gateway: 4001. Simulated Trading ports for new installations \n",
      "of version 954.1 or newer:  TWS: 7497; IB Gateway: 4002\n"
     ]
    },
    {
     "name": "stdout",
     "output_type": "stream",
     "text": [
      "processing CSCO for 20230214 23:59:59 US/Eastern took   3.05 sec\n",
      "processing 20230316 23:59:59 US/Eastern\n"
     ]
    },
    {
     "name": "stderr",
     "output_type": "stream",
     "text": [
      "ERROR -1 502 Couldn't connect to TWS. Confirm that \"Enable ActiveX and Socket EClients\" \n",
      "is enabled and connection port is the same as \"Socket Port\" on the \n",
      "TWS \"Edit->Global Configuration...->API->Settings\" menu. Live Trading ports: \n",
      "TWS: 7496; IB Gateway: 4001. Simulated Trading ports for new installations \n",
      "of version 954.1 or newer:  TWS: 7497; IB Gateway: 4002\n"
     ]
    },
    {
     "name": "stdout",
     "output_type": "stream",
     "text": [
      "processing CSCO for 20230316 23:59:59 US/Eastern took   3.06 sec\n",
      "Processing CVX\n",
      "processing 20200101 23:59:59 US/Eastern\n"
     ]
    },
    {
     "name": "stderr",
     "output_type": "stream",
     "text": [
      "ERROR -1 502 Couldn't connect to TWS. Confirm that \"Enable ActiveX and Socket EClients\" \n",
      "is enabled and connection port is the same as \"Socket Port\" on the \n",
      "TWS \"Edit->Global Configuration...->API->Settings\" menu. Live Trading ports: \n",
      "TWS: 7496; IB Gateway: 4001. Simulated Trading ports for new installations \n",
      "of version 954.1 or newer:  TWS: 7497; IB Gateway: 4002\n"
     ]
    },
    {
     "name": "stdout",
     "output_type": "stream",
     "text": [
      "processing CVX for 20200101 23:59:59 US/Eastern took   3.04 sec\n",
      "processing 20200131 23:59:59 US/Eastern\n"
     ]
    },
    {
     "name": "stderr",
     "output_type": "stream",
     "text": [
      "ERROR -1 502 Couldn't connect to TWS. Confirm that \"Enable ActiveX and Socket EClients\" \n",
      "is enabled and connection port is the same as \"Socket Port\" on the \n",
      "TWS \"Edit->Global Configuration...->API->Settings\" menu. Live Trading ports: \n",
      "TWS: 7496; IB Gateway: 4001. Simulated Trading ports for new installations \n",
      "of version 954.1 or newer:  TWS: 7497; IB Gateway: 4002\n"
     ]
    },
    {
     "name": "stdout",
     "output_type": "stream",
     "text": [
      "processing CVX for 20200131 23:59:59 US/Eastern took   3.05 sec\n",
      "processing 20200301 23:59:59 US/Eastern\n"
     ]
    },
    {
     "name": "stderr",
     "output_type": "stream",
     "text": [
      "ERROR -1 502 Couldn't connect to TWS. Confirm that \"Enable ActiveX and Socket EClients\" \n",
      "is enabled and connection port is the same as \"Socket Port\" on the \n",
      "TWS \"Edit->Global Configuration...->API->Settings\" menu. Live Trading ports: \n",
      "TWS: 7496; IB Gateway: 4001. Simulated Trading ports for new installations \n",
      "of version 954.1 or newer:  TWS: 7497; IB Gateway: 4002\n"
     ]
    },
    {
     "name": "stdout",
     "output_type": "stream",
     "text": [
      "processing CVX for 20200301 23:59:59 US/Eastern took   3.04 sec\n",
      "processing 20200331 23:59:59 US/Eastern\n"
     ]
    },
    {
     "name": "stderr",
     "output_type": "stream",
     "text": [
      "ERROR -1 502 Couldn't connect to TWS. Confirm that \"Enable ActiveX and Socket EClients\" \n",
      "is enabled and connection port is the same as \"Socket Port\" on the \n",
      "TWS \"Edit->Global Configuration...->API->Settings\" menu. Live Trading ports: \n",
      "TWS: 7496; IB Gateway: 4001. Simulated Trading ports for new installations \n",
      "of version 954.1 or newer:  TWS: 7497; IB Gateway: 4002\n"
     ]
    },
    {
     "name": "stdout",
     "output_type": "stream",
     "text": [
      "processing CVX for 20200331 23:59:59 US/Eastern took   3.05 sec\n",
      "processing 20200430 23:59:59 US/Eastern\n"
     ]
    },
    {
     "name": "stderr",
     "output_type": "stream",
     "text": [
      "ERROR -1 502 Couldn't connect to TWS. Confirm that \"Enable ActiveX and Socket EClients\" \n",
      "is enabled and connection port is the same as \"Socket Port\" on the \n",
      "TWS \"Edit->Global Configuration...->API->Settings\" menu. Live Trading ports: \n",
      "TWS: 7496; IB Gateway: 4001. Simulated Trading ports for new installations \n",
      "of version 954.1 or newer:  TWS: 7497; IB Gateway: 4002\n"
     ]
    },
    {
     "name": "stdout",
     "output_type": "stream",
     "text": [
      "processing CVX for 20200430 23:59:59 US/Eastern took   3.03 sec\n",
      "processing 20200530 23:59:59 US/Eastern\n"
     ]
    },
    {
     "name": "stderr",
     "output_type": "stream",
     "text": [
      "ERROR -1 502 Couldn't connect to TWS. Confirm that \"Enable ActiveX and Socket EClients\" \n",
      "is enabled and connection port is the same as \"Socket Port\" on the \n",
      "TWS \"Edit->Global Configuration...->API->Settings\" menu. Live Trading ports: \n",
      "TWS: 7496; IB Gateway: 4001. Simulated Trading ports for new installations \n",
      "of version 954.1 or newer:  TWS: 7497; IB Gateway: 4002\n"
     ]
    },
    {
     "name": "stdout",
     "output_type": "stream",
     "text": [
      "processing CVX for 20200530 23:59:59 US/Eastern took   3.04 sec\n",
      "processing 20200629 23:59:59 US/Eastern\n"
     ]
    },
    {
     "name": "stderr",
     "output_type": "stream",
     "text": [
      "ERROR -1 502 Couldn't connect to TWS. Confirm that \"Enable ActiveX and Socket EClients\" \n",
      "is enabled and connection port is the same as \"Socket Port\" on the \n",
      "TWS \"Edit->Global Configuration...->API->Settings\" menu. Live Trading ports: \n",
      "TWS: 7496; IB Gateway: 4001. Simulated Trading ports for new installations \n",
      "of version 954.1 or newer:  TWS: 7497; IB Gateway: 4002\n"
     ]
    },
    {
     "name": "stdout",
     "output_type": "stream",
     "text": [
      "processing CVX for 20200629 23:59:59 US/Eastern took   3.06 sec\n",
      "processing 20200729 23:59:59 US/Eastern\n"
     ]
    },
    {
     "name": "stderr",
     "output_type": "stream",
     "text": [
      "ERROR -1 502 Couldn't connect to TWS. Confirm that \"Enable ActiveX and Socket EClients\" \n",
      "is enabled and connection port is the same as \"Socket Port\" on the \n",
      "TWS \"Edit->Global Configuration...->API->Settings\" menu. Live Trading ports: \n",
      "TWS: 7496; IB Gateway: 4001. Simulated Trading ports for new installations \n",
      "of version 954.1 or newer:  TWS: 7497; IB Gateway: 4002\n"
     ]
    },
    {
     "name": "stdout",
     "output_type": "stream",
     "text": [
      "processing CVX for 20200729 23:59:59 US/Eastern took   3.04 sec\n",
      "processing 20200828 23:59:59 US/Eastern\n"
     ]
    },
    {
     "name": "stderr",
     "output_type": "stream",
     "text": [
      "ERROR -1 502 Couldn't connect to TWS. Confirm that \"Enable ActiveX and Socket EClients\" \n",
      "is enabled and connection port is the same as \"Socket Port\" on the \n",
      "TWS \"Edit->Global Configuration...->API->Settings\" menu. Live Trading ports: \n",
      "TWS: 7496; IB Gateway: 4001. Simulated Trading ports for new installations \n",
      "of version 954.1 or newer:  TWS: 7497; IB Gateway: 4002\n"
     ]
    },
    {
     "name": "stdout",
     "output_type": "stream",
     "text": [
      "processing CVX for 20200828 23:59:59 US/Eastern took   3.04 sec\n",
      "processing 20200927 23:59:59 US/Eastern\n"
     ]
    },
    {
     "name": "stderr",
     "output_type": "stream",
     "text": [
      "ERROR -1 502 Couldn't connect to TWS. Confirm that \"Enable ActiveX and Socket EClients\" \n",
      "is enabled and connection port is the same as \"Socket Port\" on the \n",
      "TWS \"Edit->Global Configuration...->API->Settings\" menu. Live Trading ports: \n",
      "TWS: 7496; IB Gateway: 4001. Simulated Trading ports for new installations \n",
      "of version 954.1 or newer:  TWS: 7497; IB Gateway: 4002\n"
     ]
    },
    {
     "name": "stdout",
     "output_type": "stream",
     "text": [
      "processing CVX for 20200927 23:59:59 US/Eastern took   3.04 sec\n",
      "processing 20201027 23:59:59 US/Eastern\n"
     ]
    },
    {
     "name": "stderr",
     "output_type": "stream",
     "text": [
      "ERROR -1 502 Couldn't connect to TWS. Confirm that \"Enable ActiveX and Socket EClients\" \n",
      "is enabled and connection port is the same as \"Socket Port\" on the \n",
      "TWS \"Edit->Global Configuration...->API->Settings\" menu. Live Trading ports: \n",
      "TWS: 7496; IB Gateway: 4001. Simulated Trading ports for new installations \n",
      "of version 954.1 or newer:  TWS: 7497; IB Gateway: 4002\n"
     ]
    },
    {
     "name": "stdout",
     "output_type": "stream",
     "text": [
      "processing CVX for 20201027 23:59:59 US/Eastern took   3.06 sec\n",
      "processing 20201126 23:59:59 US/Eastern\n"
     ]
    },
    {
     "name": "stderr",
     "output_type": "stream",
     "text": [
      "ERROR -1 502 Couldn't connect to TWS. Confirm that \"Enable ActiveX and Socket EClients\" \n",
      "is enabled and connection port is the same as \"Socket Port\" on the \n",
      "TWS \"Edit->Global Configuration...->API->Settings\" menu. Live Trading ports: \n",
      "TWS: 7496; IB Gateway: 4001. Simulated Trading ports for new installations \n",
      "of version 954.1 or newer:  TWS: 7497; IB Gateway: 4002\n"
     ]
    },
    {
     "name": "stdout",
     "output_type": "stream",
     "text": [
      "processing CVX for 20201126 23:59:59 US/Eastern took   3.03 sec\n",
      "processing 20201226 23:59:59 US/Eastern\n"
     ]
    },
    {
     "name": "stderr",
     "output_type": "stream",
     "text": [
      "ERROR -1 502 Couldn't connect to TWS. Confirm that \"Enable ActiveX and Socket EClients\" \n",
      "is enabled and connection port is the same as \"Socket Port\" on the \n",
      "TWS \"Edit->Global Configuration...->API->Settings\" menu. Live Trading ports: \n",
      "TWS: 7496; IB Gateway: 4001. Simulated Trading ports for new installations \n",
      "of version 954.1 or newer:  TWS: 7497; IB Gateway: 4002\n"
     ]
    },
    {
     "name": "stdout",
     "output_type": "stream",
     "text": [
      "processing CVX for 20201226 23:59:59 US/Eastern took   3.05 sec\n",
      "processing 20210125 23:59:59 US/Eastern\n"
     ]
    },
    {
     "name": "stderr",
     "output_type": "stream",
     "text": [
      "ERROR -1 502 Couldn't connect to TWS. Confirm that \"Enable ActiveX and Socket EClients\" \n",
      "is enabled and connection port is the same as \"Socket Port\" on the \n",
      "TWS \"Edit->Global Configuration...->API->Settings\" menu. Live Trading ports: \n",
      "TWS: 7496; IB Gateway: 4001. Simulated Trading ports for new installations \n",
      "of version 954.1 or newer:  TWS: 7497; IB Gateway: 4002\n"
     ]
    },
    {
     "name": "stdout",
     "output_type": "stream",
     "text": [
      "processing CVX for 20210125 23:59:59 US/Eastern took   3.04 sec\n",
      "processing 20210224 23:59:59 US/Eastern\n"
     ]
    },
    {
     "name": "stderr",
     "output_type": "stream",
     "text": [
      "ERROR -1 502 Couldn't connect to TWS. Confirm that \"Enable ActiveX and Socket EClients\" \n",
      "is enabled and connection port is the same as \"Socket Port\" on the \n",
      "TWS \"Edit->Global Configuration...->API->Settings\" menu. Live Trading ports: \n",
      "TWS: 7496; IB Gateway: 4001. Simulated Trading ports for new installations \n",
      "of version 954.1 or newer:  TWS: 7497; IB Gateway: 4002\n"
     ]
    },
    {
     "name": "stdout",
     "output_type": "stream",
     "text": [
      "processing CVX for 20210224 23:59:59 US/Eastern took   3.06 sec\n",
      "processing 20210326 23:59:59 US/Eastern\n"
     ]
    },
    {
     "name": "stderr",
     "output_type": "stream",
     "text": [
      "ERROR -1 502 Couldn't connect to TWS. Confirm that \"Enable ActiveX and Socket EClients\" \n",
      "is enabled and connection port is the same as \"Socket Port\" on the \n",
      "TWS \"Edit->Global Configuration...->API->Settings\" menu. Live Trading ports: \n",
      "TWS: 7496; IB Gateway: 4001. Simulated Trading ports for new installations \n",
      "of version 954.1 or newer:  TWS: 7497; IB Gateway: 4002\n"
     ]
    },
    {
     "name": "stdout",
     "output_type": "stream",
     "text": [
      "processing CVX for 20210326 23:59:59 US/Eastern took   3.04 sec\n",
      "processing 20210425 23:59:59 US/Eastern\n"
     ]
    },
    {
     "name": "stderr",
     "output_type": "stream",
     "text": [
      "ERROR -1 502 Couldn't connect to TWS. Confirm that \"Enable ActiveX and Socket EClients\" \n",
      "is enabled and connection port is the same as \"Socket Port\" on the \n",
      "TWS \"Edit->Global Configuration...->API->Settings\" menu. Live Trading ports: \n",
      "TWS: 7496; IB Gateway: 4001. Simulated Trading ports for new installations \n",
      "of version 954.1 or newer:  TWS: 7497; IB Gateway: 4002\n"
     ]
    },
    {
     "name": "stdout",
     "output_type": "stream",
     "text": [
      "processing CVX for 20210425 23:59:59 US/Eastern took   3.04 sec\n",
      "processing 20210525 23:59:59 US/Eastern\n"
     ]
    },
    {
     "name": "stderr",
     "output_type": "stream",
     "text": [
      "ERROR -1 502 Couldn't connect to TWS. Confirm that \"Enable ActiveX and Socket EClients\" \n",
      "is enabled and connection port is the same as \"Socket Port\" on the \n",
      "TWS \"Edit->Global Configuration...->API->Settings\" menu. Live Trading ports: \n",
      "TWS: 7496; IB Gateway: 4001. Simulated Trading ports for new installations \n",
      "of version 954.1 or newer:  TWS: 7497; IB Gateway: 4002\n"
     ]
    },
    {
     "name": "stdout",
     "output_type": "stream",
     "text": [
      "processing CVX for 20210525 23:59:59 US/Eastern took   3.04 sec\n",
      "processing 20210624 23:59:59 US/Eastern\n"
     ]
    },
    {
     "name": "stderr",
     "output_type": "stream",
     "text": [
      "ERROR -1 502 Couldn't connect to TWS. Confirm that \"Enable ActiveX and Socket EClients\" \n",
      "is enabled and connection port is the same as \"Socket Port\" on the \n",
      "TWS \"Edit->Global Configuration...->API->Settings\" menu. Live Trading ports: \n",
      "TWS: 7496; IB Gateway: 4001. Simulated Trading ports for new installations \n",
      "of version 954.1 or newer:  TWS: 7497; IB Gateway: 4002\n"
     ]
    },
    {
     "name": "stdout",
     "output_type": "stream",
     "text": [
      "processing CVX for 20210624 23:59:59 US/Eastern took   3.06 sec\n",
      "processing 20210724 23:59:59 US/Eastern\n"
     ]
    },
    {
     "name": "stderr",
     "output_type": "stream",
     "text": [
      "ERROR -1 502 Couldn't connect to TWS. Confirm that \"Enable ActiveX and Socket EClients\" \n",
      "is enabled and connection port is the same as \"Socket Port\" on the \n",
      "TWS \"Edit->Global Configuration...->API->Settings\" menu. Live Trading ports: \n",
      "TWS: 7496; IB Gateway: 4001. Simulated Trading ports for new installations \n",
      "of version 954.1 or newer:  TWS: 7497; IB Gateway: 4002\n"
     ]
    },
    {
     "name": "stdout",
     "output_type": "stream",
     "text": [
      "processing CVX for 20210724 23:59:59 US/Eastern took   3.04 sec\n",
      "processing 20210823 23:59:59 US/Eastern\n"
     ]
    },
    {
     "name": "stderr",
     "output_type": "stream",
     "text": [
      "ERROR -1 502 Couldn't connect to TWS. Confirm that \"Enable ActiveX and Socket EClients\" \n",
      "is enabled and connection port is the same as \"Socket Port\" on the \n",
      "TWS \"Edit->Global Configuration...->API->Settings\" menu. Live Trading ports: \n",
      "TWS: 7496; IB Gateway: 4001. Simulated Trading ports for new installations \n",
      "of version 954.1 or newer:  TWS: 7497; IB Gateway: 4002\n"
     ]
    },
    {
     "name": "stdout",
     "output_type": "stream",
     "text": [
      "processing CVX for 20210823 23:59:59 US/Eastern took   3.04 sec\n",
      "processing 20210922 23:59:59 US/Eastern\n"
     ]
    },
    {
     "name": "stderr",
     "output_type": "stream",
     "text": [
      "ERROR -1 502 Couldn't connect to TWS. Confirm that \"Enable ActiveX and Socket EClients\" \n",
      "is enabled and connection port is the same as \"Socket Port\" on the \n",
      "TWS \"Edit->Global Configuration...->API->Settings\" menu. Live Trading ports: \n",
      "TWS: 7496; IB Gateway: 4001. Simulated Trading ports for new installations \n",
      "of version 954.1 or newer:  TWS: 7497; IB Gateway: 4002\n"
     ]
    },
    {
     "name": "stdout",
     "output_type": "stream",
     "text": [
      "processing CVX for 20210922 23:59:59 US/Eastern took   3.04 sec\n",
      "processing 20211022 23:59:59 US/Eastern\n"
     ]
    },
    {
     "name": "stderr",
     "output_type": "stream",
     "text": [
      "ERROR -1 502 Couldn't connect to TWS. Confirm that \"Enable ActiveX and Socket EClients\" \n",
      "is enabled and connection port is the same as \"Socket Port\" on the \n",
      "TWS \"Edit->Global Configuration...->API->Settings\" menu. Live Trading ports: \n",
      "TWS: 7496; IB Gateway: 4001. Simulated Trading ports for new installations \n",
      "of version 954.1 or newer:  TWS: 7497; IB Gateway: 4002\n"
     ]
    },
    {
     "name": "stdout",
     "output_type": "stream",
     "text": [
      "processing CVX for 20211022 23:59:59 US/Eastern took   3.06 sec\n",
      "processing 20211121 23:59:59 US/Eastern\n"
     ]
    },
    {
     "name": "stderr",
     "output_type": "stream",
     "text": [
      "ERROR -1 502 Couldn't connect to TWS. Confirm that \"Enable ActiveX and Socket EClients\" \n",
      "is enabled and connection port is the same as \"Socket Port\" on the \n",
      "TWS \"Edit->Global Configuration...->API->Settings\" menu. Live Trading ports: \n",
      "TWS: 7496; IB Gateway: 4001. Simulated Trading ports for new installations \n",
      "of version 954.1 or newer:  TWS: 7497; IB Gateway: 4002\n"
     ]
    },
    {
     "name": "stdout",
     "output_type": "stream",
     "text": [
      "processing CVX for 20211121 23:59:59 US/Eastern took   3.05 sec\n",
      "processing 20211221 23:59:59 US/Eastern\n"
     ]
    },
    {
     "name": "stderr",
     "output_type": "stream",
     "text": [
      "ERROR -1 502 Couldn't connect to TWS. Confirm that \"Enable ActiveX and Socket EClients\" \n",
      "is enabled and connection port is the same as \"Socket Port\" on the \n",
      "TWS \"Edit->Global Configuration...->API->Settings\" menu. Live Trading ports: \n",
      "TWS: 7496; IB Gateway: 4001. Simulated Trading ports for new installations \n",
      "of version 954.1 or newer:  TWS: 7497; IB Gateway: 4002\n"
     ]
    },
    {
     "name": "stdout",
     "output_type": "stream",
     "text": [
      "processing CVX for 20211221 23:59:59 US/Eastern took   3.04 sec\n",
      "processing 20220120 23:59:59 US/Eastern\n"
     ]
    },
    {
     "name": "stderr",
     "output_type": "stream",
     "text": [
      "ERROR -1 502 Couldn't connect to TWS. Confirm that \"Enable ActiveX and Socket EClients\" \n",
      "is enabled and connection port is the same as \"Socket Port\" on the \n",
      "TWS \"Edit->Global Configuration...->API->Settings\" menu. Live Trading ports: \n",
      "TWS: 7496; IB Gateway: 4001. Simulated Trading ports for new installations \n",
      "of version 954.1 or newer:  TWS: 7497; IB Gateway: 4002\n"
     ]
    },
    {
     "name": "stdout",
     "output_type": "stream",
     "text": [
      "processing CVX for 20220120 23:59:59 US/Eastern took   3.05 sec\n",
      "processing 20220219 23:59:59 US/Eastern\n"
     ]
    },
    {
     "name": "stderr",
     "output_type": "stream",
     "text": [
      "ERROR -1 502 Couldn't connect to TWS. Confirm that \"Enable ActiveX and Socket EClients\" \n",
      "is enabled and connection port is the same as \"Socket Port\" on the \n",
      "TWS \"Edit->Global Configuration...->API->Settings\" menu. Live Trading ports: \n",
      "TWS: 7496; IB Gateway: 4001. Simulated Trading ports for new installations \n",
      "of version 954.1 or newer:  TWS: 7497; IB Gateway: 4002\n"
     ]
    },
    {
     "name": "stdout",
     "output_type": "stream",
     "text": [
      "processing CVX for 20220219 23:59:59 US/Eastern took   3.05 sec\n",
      "processing 20220321 23:59:59 US/Eastern\n"
     ]
    },
    {
     "name": "stderr",
     "output_type": "stream",
     "text": [
      "ERROR -1 502 Couldn't connect to TWS. Confirm that \"Enable ActiveX and Socket EClients\" \n",
      "is enabled and connection port is the same as \"Socket Port\" on the \n",
      "TWS \"Edit->Global Configuration...->API->Settings\" menu. Live Trading ports: \n",
      "TWS: 7496; IB Gateway: 4001. Simulated Trading ports for new installations \n",
      "of version 954.1 or newer:  TWS: 7497; IB Gateway: 4002\n"
     ]
    },
    {
     "name": "stdout",
     "output_type": "stream",
     "text": [
      "processing CVX for 20220321 23:59:59 US/Eastern took   3.06 sec\n",
      "processing 20220420 23:59:59 US/Eastern\n"
     ]
    },
    {
     "name": "stderr",
     "output_type": "stream",
     "text": [
      "ERROR -1 502 Couldn't connect to TWS. Confirm that \"Enable ActiveX and Socket EClients\" \n",
      "is enabled and connection port is the same as \"Socket Port\" on the \n",
      "TWS \"Edit->Global Configuration...->API->Settings\" menu. Live Trading ports: \n",
      "TWS: 7496; IB Gateway: 4001. Simulated Trading ports for new installations \n",
      "of version 954.1 or newer:  TWS: 7497; IB Gateway: 4002\n"
     ]
    },
    {
     "name": "stdout",
     "output_type": "stream",
     "text": [
      "processing CVX for 20220420 23:59:59 US/Eastern took   3.06 sec\n",
      "processing 20220520 23:59:59 US/Eastern\n"
     ]
    },
    {
     "name": "stderr",
     "output_type": "stream",
     "text": [
      "ERROR -1 502 Couldn't connect to TWS. Confirm that \"Enable ActiveX and Socket EClients\" \n",
      "is enabled and connection port is the same as \"Socket Port\" on the \n",
      "TWS \"Edit->Global Configuration...->API->Settings\" menu. Live Trading ports: \n",
      "TWS: 7496; IB Gateway: 4001. Simulated Trading ports for new installations \n",
      "of version 954.1 or newer:  TWS: 7497; IB Gateway: 4002\n"
     ]
    },
    {
     "name": "stdout",
     "output_type": "stream",
     "text": [
      "processing CVX for 20220520 23:59:59 US/Eastern took   3.05 sec\n",
      "processing 20220619 23:59:59 US/Eastern\n"
     ]
    },
    {
     "name": "stderr",
     "output_type": "stream",
     "text": [
      "ERROR -1 502 Couldn't connect to TWS. Confirm that \"Enable ActiveX and Socket EClients\" \n",
      "is enabled and connection port is the same as \"Socket Port\" on the \n",
      "TWS \"Edit->Global Configuration...->API->Settings\" menu. Live Trading ports: \n",
      "TWS: 7496; IB Gateway: 4001. Simulated Trading ports for new installations \n",
      "of version 954.1 or newer:  TWS: 7497; IB Gateway: 4002\n"
     ]
    },
    {
     "name": "stdout",
     "output_type": "stream",
     "text": [
      "processing CVX for 20220619 23:59:59 US/Eastern took   3.05 sec\n",
      "processing 20220719 23:59:59 US/Eastern\n"
     ]
    },
    {
     "name": "stderr",
     "output_type": "stream",
     "text": [
      "ERROR -1 502 Couldn't connect to TWS. Confirm that \"Enable ActiveX and Socket EClients\" \n",
      "is enabled and connection port is the same as \"Socket Port\" on the \n",
      "TWS \"Edit->Global Configuration...->API->Settings\" menu. Live Trading ports: \n",
      "TWS: 7496; IB Gateway: 4001. Simulated Trading ports for new installations \n",
      "of version 954.1 or newer:  TWS: 7497; IB Gateway: 4002\n"
     ]
    },
    {
     "name": "stdout",
     "output_type": "stream",
     "text": [
      "processing CVX for 20220719 23:59:59 US/Eastern took   3.05 sec\n",
      "processing 20220818 23:59:59 US/Eastern\n"
     ]
    },
    {
     "name": "stderr",
     "output_type": "stream",
     "text": [
      "ERROR -1 502 Couldn't connect to TWS. Confirm that \"Enable ActiveX and Socket EClients\" \n",
      "is enabled and connection port is the same as \"Socket Port\" on the \n",
      "TWS \"Edit->Global Configuration...->API->Settings\" menu. Live Trading ports: \n",
      "TWS: 7496; IB Gateway: 4001. Simulated Trading ports for new installations \n",
      "of version 954.1 or newer:  TWS: 7497; IB Gateway: 4002\n"
     ]
    },
    {
     "name": "stdout",
     "output_type": "stream",
     "text": [
      "processing CVX for 20220818 23:59:59 US/Eastern took   3.03 sec\n",
      "processing 20220917 23:59:59 US/Eastern\n"
     ]
    },
    {
     "name": "stderr",
     "output_type": "stream",
     "text": [
      "ERROR -1 502 Couldn't connect to TWS. Confirm that \"Enable ActiveX and Socket EClients\" \n",
      "is enabled and connection port is the same as \"Socket Port\" on the \n",
      "TWS \"Edit->Global Configuration...->API->Settings\" menu. Live Trading ports: \n",
      "TWS: 7496; IB Gateway: 4001. Simulated Trading ports for new installations \n",
      "of version 954.1 or newer:  TWS: 7497; IB Gateway: 4002\n"
     ]
    },
    {
     "name": "stdout",
     "output_type": "stream",
     "text": [
      "processing CVX for 20220917 23:59:59 US/Eastern took   3.06 sec\n",
      "processing 20221017 23:59:59 US/Eastern\n"
     ]
    },
    {
     "name": "stderr",
     "output_type": "stream",
     "text": [
      "ERROR -1 502 Couldn't connect to TWS. Confirm that \"Enable ActiveX and Socket EClients\" \n",
      "is enabled and connection port is the same as \"Socket Port\" on the \n",
      "TWS \"Edit->Global Configuration...->API->Settings\" menu. Live Trading ports: \n",
      "TWS: 7496; IB Gateway: 4001. Simulated Trading ports for new installations \n",
      "of version 954.1 or newer:  TWS: 7497; IB Gateway: 4002\n"
     ]
    },
    {
     "name": "stdout",
     "output_type": "stream",
     "text": [
      "processing CVX for 20221017 23:59:59 US/Eastern took   3.04 sec\n",
      "processing 20221116 23:59:59 US/Eastern\n"
     ]
    },
    {
     "name": "stderr",
     "output_type": "stream",
     "text": [
      "ERROR -1 502 Couldn't connect to TWS. Confirm that \"Enable ActiveX and Socket EClients\" \n",
      "is enabled and connection port is the same as \"Socket Port\" on the \n",
      "TWS \"Edit->Global Configuration...->API->Settings\" menu. Live Trading ports: \n",
      "TWS: 7496; IB Gateway: 4001. Simulated Trading ports for new installations \n",
      "of version 954.1 or newer:  TWS: 7497; IB Gateway: 4002\n"
     ]
    },
    {
     "name": "stdout",
     "output_type": "stream",
     "text": [
      "processing CVX for 20221116 23:59:59 US/Eastern took   3.05 sec\n",
      "processing 20221216 23:59:59 US/Eastern\n"
     ]
    },
    {
     "name": "stderr",
     "output_type": "stream",
     "text": [
      "ERROR -1 502 Couldn't connect to TWS. Confirm that \"Enable ActiveX and Socket EClients\" \n",
      "is enabled and connection port is the same as \"Socket Port\" on the \n",
      "TWS \"Edit->Global Configuration...->API->Settings\" menu. Live Trading ports: \n",
      "TWS: 7496; IB Gateway: 4001. Simulated Trading ports for new installations \n",
      "of version 954.1 or newer:  TWS: 7497; IB Gateway: 4002\n"
     ]
    },
    {
     "name": "stdout",
     "output_type": "stream",
     "text": [
      "processing CVX for 20221216 23:59:59 US/Eastern took   3.04 sec\n",
      "processing 20230115 23:59:59 US/Eastern\n"
     ]
    },
    {
     "name": "stderr",
     "output_type": "stream",
     "text": [
      "ERROR -1 502 Couldn't connect to TWS. Confirm that \"Enable ActiveX and Socket EClients\" \n",
      "is enabled and connection port is the same as \"Socket Port\" on the \n",
      "TWS \"Edit->Global Configuration...->API->Settings\" menu. Live Trading ports: \n",
      "TWS: 7496; IB Gateway: 4001. Simulated Trading ports for new installations \n",
      "of version 954.1 or newer:  TWS: 7497; IB Gateway: 4002\n"
     ]
    },
    {
     "name": "stdout",
     "output_type": "stream",
     "text": [
      "processing CVX for 20230115 23:59:59 US/Eastern took   3.05 sec\n",
      "processing 20230214 23:59:59 US/Eastern\n"
     ]
    },
    {
     "name": "stderr",
     "output_type": "stream",
     "text": [
      "ERROR -1 502 Couldn't connect to TWS. Confirm that \"Enable ActiveX and Socket EClients\" \n",
      "is enabled and connection port is the same as \"Socket Port\" on the \n",
      "TWS \"Edit->Global Configuration...->API->Settings\" menu. Live Trading ports: \n",
      "TWS: 7496; IB Gateway: 4001. Simulated Trading ports for new installations \n",
      "of version 954.1 or newer:  TWS: 7497; IB Gateway: 4002\n"
     ]
    },
    {
     "name": "stdout",
     "output_type": "stream",
     "text": [
      "processing CVX for 20230214 23:59:59 US/Eastern took   3.05 sec\n",
      "processing 20230316 23:59:59 US/Eastern\n"
     ]
    },
    {
     "name": "stderr",
     "output_type": "stream",
     "text": [
      "ERROR -1 502 Couldn't connect to TWS. Confirm that \"Enable ActiveX and Socket EClients\" \n",
      "is enabled and connection port is the same as \"Socket Port\" on the \n",
      "TWS \"Edit->Global Configuration...->API->Settings\" menu. Live Trading ports: \n",
      "TWS: 7496; IB Gateway: 4001. Simulated Trading ports for new installations \n",
      "of version 954.1 or newer:  TWS: 7497; IB Gateway: 4002\n"
     ]
    },
    {
     "name": "stdout",
     "output_type": "stream",
     "text": [
      "processing CVX for 20230316 23:59:59 US/Eastern took   3.04 sec\n",
      "Processing DIS\n",
      "processing 20200101 23:59:59 US/Eastern\n"
     ]
    },
    {
     "name": "stderr",
     "output_type": "stream",
     "text": [
      "ERROR -1 502 Couldn't connect to TWS. Confirm that \"Enable ActiveX and Socket EClients\" \n",
      "is enabled and connection port is the same as \"Socket Port\" on the \n",
      "TWS \"Edit->Global Configuration...->API->Settings\" menu. Live Trading ports: \n",
      "TWS: 7496; IB Gateway: 4001. Simulated Trading ports for new installations \n",
      "of version 954.1 or newer:  TWS: 7497; IB Gateway: 4002\n"
     ]
    },
    {
     "name": "stdout",
     "output_type": "stream",
     "text": [
      "processing DIS for 20200101 23:59:59 US/Eastern took   3.06 sec\n",
      "processing 20200131 23:59:59 US/Eastern\n"
     ]
    },
    {
     "name": "stderr",
     "output_type": "stream",
     "text": [
      "ERROR -1 502 Couldn't connect to TWS. Confirm that \"Enable ActiveX and Socket EClients\" \n",
      "is enabled and connection port is the same as \"Socket Port\" on the \n",
      "TWS \"Edit->Global Configuration...->API->Settings\" menu. Live Trading ports: \n",
      "TWS: 7496; IB Gateway: 4001. Simulated Trading ports for new installations \n",
      "of version 954.1 or newer:  TWS: 7497; IB Gateway: 4002\n"
     ]
    },
    {
     "name": "stdout",
     "output_type": "stream",
     "text": [
      "processing DIS for 20200131 23:59:59 US/Eastern took   3.05 sec\n",
      "processing 20200301 23:59:59 US/Eastern\n"
     ]
    },
    {
     "name": "stderr",
     "output_type": "stream",
     "text": [
      "ERROR -1 502 Couldn't connect to TWS. Confirm that \"Enable ActiveX and Socket EClients\" \n",
      "is enabled and connection port is the same as \"Socket Port\" on the \n",
      "TWS \"Edit->Global Configuration...->API->Settings\" menu. Live Trading ports: \n",
      "TWS: 7496; IB Gateway: 4001. Simulated Trading ports for new installations \n",
      "of version 954.1 or newer:  TWS: 7497; IB Gateway: 4002\n"
     ]
    },
    {
     "name": "stdout",
     "output_type": "stream",
     "text": [
      "processing DIS for 20200301 23:59:59 US/Eastern took   3.04 sec\n",
      "processing 20200331 23:59:59 US/Eastern\n"
     ]
    },
    {
     "name": "stderr",
     "output_type": "stream",
     "text": [
      "ERROR -1 502 Couldn't connect to TWS. Confirm that \"Enable ActiveX and Socket EClients\" \n",
      "is enabled and connection port is the same as \"Socket Port\" on the \n",
      "TWS \"Edit->Global Configuration...->API->Settings\" menu. Live Trading ports: \n",
      "TWS: 7496; IB Gateway: 4001. Simulated Trading ports for new installations \n",
      "of version 954.1 or newer:  TWS: 7497; IB Gateway: 4002\n"
     ]
    },
    {
     "name": "stdout",
     "output_type": "stream",
     "text": [
      "processing DIS for 20200331 23:59:59 US/Eastern took   3.06 sec\n",
      "processing 20200430 23:59:59 US/Eastern\n"
     ]
    },
    {
     "name": "stderr",
     "output_type": "stream",
     "text": [
      "ERROR -1 502 Couldn't connect to TWS. Confirm that \"Enable ActiveX and Socket EClients\" \n",
      "is enabled and connection port is the same as \"Socket Port\" on the \n",
      "TWS \"Edit->Global Configuration...->API->Settings\" menu. Live Trading ports: \n",
      "TWS: 7496; IB Gateway: 4001. Simulated Trading ports for new installations \n",
      "of version 954.1 or newer:  TWS: 7497; IB Gateway: 4002\n"
     ]
    },
    {
     "name": "stdout",
     "output_type": "stream",
     "text": [
      "processing DIS for 20200430 23:59:59 US/Eastern took   3.05 sec\n",
      "processing 20200530 23:59:59 US/Eastern\n"
     ]
    },
    {
     "name": "stderr",
     "output_type": "stream",
     "text": [
      "ERROR -1 502 Couldn't connect to TWS. Confirm that \"Enable ActiveX and Socket EClients\" \n",
      "is enabled and connection port is the same as \"Socket Port\" on the \n",
      "TWS \"Edit->Global Configuration...->API->Settings\" menu. Live Trading ports: \n",
      "TWS: 7496; IB Gateway: 4001. Simulated Trading ports for new installations \n",
      "of version 954.1 or newer:  TWS: 7497; IB Gateway: 4002\n"
     ]
    },
    {
     "name": "stdout",
     "output_type": "stream",
     "text": [
      "processing DIS for 20200530 23:59:59 US/Eastern took   3.05 sec\n",
      "processing 20200629 23:59:59 US/Eastern\n"
     ]
    },
    {
     "name": "stderr",
     "output_type": "stream",
     "text": [
      "ERROR -1 502 Couldn't connect to TWS. Confirm that \"Enable ActiveX and Socket EClients\" \n",
      "is enabled and connection port is the same as \"Socket Port\" on the \n",
      "TWS \"Edit->Global Configuration...->API->Settings\" menu. Live Trading ports: \n",
      "TWS: 7496; IB Gateway: 4001. Simulated Trading ports for new installations \n",
      "of version 954.1 or newer:  TWS: 7497; IB Gateway: 4002\n"
     ]
    },
    {
     "name": "stdout",
     "output_type": "stream",
     "text": [
      "processing DIS for 20200629 23:59:59 US/Eastern took   3.06 sec\n",
      "processing 20200729 23:59:59 US/Eastern\n"
     ]
    },
    {
     "name": "stderr",
     "output_type": "stream",
     "text": [
      "ERROR -1 502 Couldn't connect to TWS. Confirm that \"Enable ActiveX and Socket EClients\" \n",
      "is enabled and connection port is the same as \"Socket Port\" on the \n",
      "TWS \"Edit->Global Configuration...->API->Settings\" menu. Live Trading ports: \n",
      "TWS: 7496; IB Gateway: 4001. Simulated Trading ports for new installations \n",
      "of version 954.1 or newer:  TWS: 7497; IB Gateway: 4002\n"
     ]
    },
    {
     "name": "stdout",
     "output_type": "stream",
     "text": [
      "processing DIS for 20200729 23:59:59 US/Eastern took   3.05 sec\n",
      "processing 20200828 23:59:59 US/Eastern\n"
     ]
    },
    {
     "name": "stderr",
     "output_type": "stream",
     "text": [
      "ERROR -1 502 Couldn't connect to TWS. Confirm that \"Enable ActiveX and Socket EClients\" \n",
      "is enabled and connection port is the same as \"Socket Port\" on the \n",
      "TWS \"Edit->Global Configuration...->API->Settings\" menu. Live Trading ports: \n",
      "TWS: 7496; IB Gateway: 4001. Simulated Trading ports for new installations \n",
      "of version 954.1 or newer:  TWS: 7497; IB Gateway: 4002\n"
     ]
    },
    {
     "name": "stdout",
     "output_type": "stream",
     "text": [
      "processing DIS for 20200828 23:59:59 US/Eastern took   3.04 sec\n",
      "processing 20200927 23:59:59 US/Eastern\n"
     ]
    },
    {
     "name": "stderr",
     "output_type": "stream",
     "text": [
      "ERROR -1 502 Couldn't connect to TWS. Confirm that \"Enable ActiveX and Socket EClients\" \n",
      "is enabled and connection port is the same as \"Socket Port\" on the \n",
      "TWS \"Edit->Global Configuration...->API->Settings\" menu. Live Trading ports: \n",
      "TWS: 7496; IB Gateway: 4001. Simulated Trading ports for new installations \n",
      "of version 954.1 or newer:  TWS: 7497; IB Gateway: 4002\n"
     ]
    },
    {
     "name": "stdout",
     "output_type": "stream",
     "text": [
      "processing DIS for 20200927 23:59:59 US/Eastern took   3.06 sec\n",
      "processing 20201027 23:59:59 US/Eastern\n"
     ]
    },
    {
     "name": "stderr",
     "output_type": "stream",
     "text": [
      "ERROR -1 502 Couldn't connect to TWS. Confirm that \"Enable ActiveX and Socket EClients\" \n",
      "is enabled and connection port is the same as \"Socket Port\" on the \n",
      "TWS \"Edit->Global Configuration...->API->Settings\" menu. Live Trading ports: \n",
      "TWS: 7496; IB Gateway: 4001. Simulated Trading ports for new installations \n",
      "of version 954.1 or newer:  TWS: 7497; IB Gateway: 4002\n"
     ]
    },
    {
     "name": "stdout",
     "output_type": "stream",
     "text": [
      "processing DIS for 20201027 23:59:59 US/Eastern took   3.05 sec\n",
      "processing 20201126 23:59:59 US/Eastern\n"
     ]
    },
    {
     "name": "stderr",
     "output_type": "stream",
     "text": [
      "ERROR -1 502 Couldn't connect to TWS. Confirm that \"Enable ActiveX and Socket EClients\" \n",
      "is enabled and connection port is the same as \"Socket Port\" on the \n",
      "TWS \"Edit->Global Configuration...->API->Settings\" menu. Live Trading ports: \n",
      "TWS: 7496; IB Gateway: 4001. Simulated Trading ports for new installations \n",
      "of version 954.1 or newer:  TWS: 7497; IB Gateway: 4002\n"
     ]
    },
    {
     "name": "stdout",
     "output_type": "stream",
     "text": [
      "processing DIS for 20201126 23:59:59 US/Eastern took   3.04 sec\n",
      "processing 20201226 23:59:59 US/Eastern\n"
     ]
    },
    {
     "name": "stderr",
     "output_type": "stream",
     "text": [
      "ERROR -1 502 Couldn't connect to TWS. Confirm that \"Enable ActiveX and Socket EClients\" \n",
      "is enabled and connection port is the same as \"Socket Port\" on the \n",
      "TWS \"Edit->Global Configuration...->API->Settings\" menu. Live Trading ports: \n",
      "TWS: 7496; IB Gateway: 4001. Simulated Trading ports for new installations \n",
      "of version 954.1 or newer:  TWS: 7497; IB Gateway: 4002\n"
     ]
    },
    {
     "name": "stdout",
     "output_type": "stream",
     "text": [
      "processing DIS for 20201226 23:59:59 US/Eastern took   3.05 sec\n",
      "processing 20210125 23:59:59 US/Eastern\n"
     ]
    },
    {
     "name": "stderr",
     "output_type": "stream",
     "text": [
      "ERROR -1 502 Couldn't connect to TWS. Confirm that \"Enable ActiveX and Socket EClients\" \n",
      "is enabled and connection port is the same as \"Socket Port\" on the \n",
      "TWS \"Edit->Global Configuration...->API->Settings\" menu. Live Trading ports: \n",
      "TWS: 7496; IB Gateway: 4001. Simulated Trading ports for new installations \n",
      "of version 954.1 or newer:  TWS: 7497; IB Gateway: 4002\n"
     ]
    },
    {
     "name": "stdout",
     "output_type": "stream",
     "text": [
      "processing DIS for 20210125 23:59:59 US/Eastern took   3.07 sec\n",
      "processing 20210224 23:59:59 US/Eastern\n"
     ]
    },
    {
     "name": "stderr",
     "output_type": "stream",
     "text": [
      "ERROR -1 502 Couldn't connect to TWS. Confirm that \"Enable ActiveX and Socket EClients\" \n",
      "is enabled and connection port is the same as \"Socket Port\" on the \n",
      "TWS \"Edit->Global Configuration...->API->Settings\" menu. Live Trading ports: \n",
      "TWS: 7496; IB Gateway: 4001. Simulated Trading ports for new installations \n",
      "of version 954.1 or newer:  TWS: 7497; IB Gateway: 4002\n"
     ]
    },
    {
     "name": "stdout",
     "output_type": "stream",
     "text": [
      "processing DIS for 20210224 23:59:59 US/Eastern took   3.05 sec\n",
      "processing 20210326 23:59:59 US/Eastern\n"
     ]
    },
    {
     "name": "stderr",
     "output_type": "stream",
     "text": [
      "ERROR -1 502 Couldn't connect to TWS. Confirm that \"Enable ActiveX and Socket EClients\" \n",
      "is enabled and connection port is the same as \"Socket Port\" on the \n",
      "TWS \"Edit->Global Configuration...->API->Settings\" menu. Live Trading ports: \n",
      "TWS: 7496; IB Gateway: 4001. Simulated Trading ports for new installations \n",
      "of version 954.1 or newer:  TWS: 7497; IB Gateway: 4002\n"
     ]
    },
    {
     "name": "stdout",
     "output_type": "stream",
     "text": [
      "processing DIS for 20210326 23:59:59 US/Eastern took   3.07 sec\n",
      "processing 20210425 23:59:59 US/Eastern\n"
     ]
    },
    {
     "name": "stderr",
     "output_type": "stream",
     "text": [
      "ERROR -1 502 Couldn't connect to TWS. Confirm that \"Enable ActiveX and Socket EClients\" \n",
      "is enabled and connection port is the same as \"Socket Port\" on the \n",
      "TWS \"Edit->Global Configuration...->API->Settings\" menu. Live Trading ports: \n",
      "TWS: 7496; IB Gateway: 4001. Simulated Trading ports for new installations \n",
      "of version 954.1 or newer:  TWS: 7497; IB Gateway: 4002\n"
     ]
    },
    {
     "name": "stdout",
     "output_type": "stream",
     "text": [
      "processing DIS for 20210425 23:59:59 US/Eastern took   3.06 sec\n",
      "processing 20210525 23:59:59 US/Eastern\n"
     ]
    },
    {
     "name": "stderr",
     "output_type": "stream",
     "text": [
      "ERROR -1 502 Couldn't connect to TWS. Confirm that \"Enable ActiveX and Socket EClients\" \n",
      "is enabled and connection port is the same as \"Socket Port\" on the \n",
      "TWS \"Edit->Global Configuration...->API->Settings\" menu. Live Trading ports: \n",
      "TWS: 7496; IB Gateway: 4001. Simulated Trading ports for new installations \n",
      "of version 954.1 or newer:  TWS: 7497; IB Gateway: 4002\n"
     ]
    },
    {
     "name": "stdout",
     "output_type": "stream",
     "text": [
      "processing DIS for 20210525 23:59:59 US/Eastern took   3.04 sec\n",
      "processing 20210624 23:59:59 US/Eastern\n"
     ]
    },
    {
     "name": "stderr",
     "output_type": "stream",
     "text": [
      "ERROR -1 502 Couldn't connect to TWS. Confirm that \"Enable ActiveX and Socket EClients\" \n",
      "is enabled and connection port is the same as \"Socket Port\" on the \n",
      "TWS \"Edit->Global Configuration...->API->Settings\" menu. Live Trading ports: \n",
      "TWS: 7496; IB Gateway: 4001. Simulated Trading ports for new installations \n",
      "of version 954.1 or newer:  TWS: 7497; IB Gateway: 4002\n"
     ]
    },
    {
     "name": "stdout",
     "output_type": "stream",
     "text": [
      "processing DIS for 20210624 23:59:59 US/Eastern took   3.05 sec\n",
      "processing 20210724 23:59:59 US/Eastern\n"
     ]
    },
    {
     "name": "stderr",
     "output_type": "stream",
     "text": [
      "ERROR -1 502 Couldn't connect to TWS. Confirm that \"Enable ActiveX and Socket EClients\" \n",
      "is enabled and connection port is the same as \"Socket Port\" on the \n",
      "TWS \"Edit->Global Configuration...->API->Settings\" menu. Live Trading ports: \n",
      "TWS: 7496; IB Gateway: 4001. Simulated Trading ports for new installations \n",
      "of version 954.1 or newer:  TWS: 7497; IB Gateway: 4002\n"
     ]
    },
    {
     "name": "stdout",
     "output_type": "stream",
     "text": [
      "processing DIS for 20210724 23:59:59 US/Eastern took   3.06 sec\n",
      "processing 20210823 23:59:59 US/Eastern\n"
     ]
    },
    {
     "name": "stderr",
     "output_type": "stream",
     "text": [
      "ERROR -1 502 Couldn't connect to TWS. Confirm that \"Enable ActiveX and Socket EClients\" \n",
      "is enabled and connection port is the same as \"Socket Port\" on the \n",
      "TWS \"Edit->Global Configuration...->API->Settings\" menu. Live Trading ports: \n",
      "TWS: 7496; IB Gateway: 4001. Simulated Trading ports for new installations \n",
      "of version 954.1 or newer:  TWS: 7497; IB Gateway: 4002\n"
     ]
    },
    {
     "name": "stdout",
     "output_type": "stream",
     "text": [
      "processing DIS for 20210823 23:59:59 US/Eastern took   3.06 sec\n",
      "processing 20210922 23:59:59 US/Eastern\n"
     ]
    },
    {
     "name": "stderr",
     "output_type": "stream",
     "text": [
      "ERROR -1 502 Couldn't connect to TWS. Confirm that \"Enable ActiveX and Socket EClients\" \n",
      "is enabled and connection port is the same as \"Socket Port\" on the \n",
      "TWS \"Edit->Global Configuration...->API->Settings\" menu. Live Trading ports: \n",
      "TWS: 7496; IB Gateway: 4001. Simulated Trading ports for new installations \n",
      "of version 954.1 or newer:  TWS: 7497; IB Gateway: 4002\n"
     ]
    },
    {
     "name": "stdout",
     "output_type": "stream",
     "text": [
      "processing DIS for 20210922 23:59:59 US/Eastern took   3.06 sec\n",
      "processing 20211022 23:59:59 US/Eastern\n"
     ]
    },
    {
     "name": "stderr",
     "output_type": "stream",
     "text": [
      "ERROR -1 502 Couldn't connect to TWS. Confirm that \"Enable ActiveX and Socket EClients\" \n",
      "is enabled and connection port is the same as \"Socket Port\" on the \n",
      "TWS \"Edit->Global Configuration...->API->Settings\" menu. Live Trading ports: \n",
      "TWS: 7496; IB Gateway: 4001. Simulated Trading ports for new installations \n",
      "of version 954.1 or newer:  TWS: 7497; IB Gateway: 4002\n"
     ]
    },
    {
     "name": "stdout",
     "output_type": "stream",
     "text": [
      "processing DIS for 20211022 23:59:59 US/Eastern took   3.04 sec\n",
      "processing 20211121 23:59:59 US/Eastern\n"
     ]
    },
    {
     "name": "stderr",
     "output_type": "stream",
     "text": [
      "ERROR -1 502 Couldn't connect to TWS. Confirm that \"Enable ActiveX and Socket EClients\" \n",
      "is enabled and connection port is the same as \"Socket Port\" on the \n",
      "TWS \"Edit->Global Configuration...->API->Settings\" menu. Live Trading ports: \n",
      "TWS: 7496; IB Gateway: 4001. Simulated Trading ports for new installations \n",
      "of version 954.1 or newer:  TWS: 7497; IB Gateway: 4002\n"
     ]
    },
    {
     "name": "stdout",
     "output_type": "stream",
     "text": [
      "processing DIS for 20211121 23:59:59 US/Eastern took   3.05 sec\n",
      "processing 20211221 23:59:59 US/Eastern\n"
     ]
    },
    {
     "name": "stderr",
     "output_type": "stream",
     "text": [
      "ERROR -1 502 Couldn't connect to TWS. Confirm that \"Enable ActiveX and Socket EClients\" \n",
      "is enabled and connection port is the same as \"Socket Port\" on the \n",
      "TWS \"Edit->Global Configuration...->API->Settings\" menu. Live Trading ports: \n",
      "TWS: 7496; IB Gateway: 4001. Simulated Trading ports for new installations \n",
      "of version 954.1 or newer:  TWS: 7497; IB Gateway: 4002\n"
     ]
    },
    {
     "name": "stdout",
     "output_type": "stream",
     "text": [
      "processing DIS for 20211221 23:59:59 US/Eastern took   3.05 sec\n",
      "processing 20220120 23:59:59 US/Eastern\n"
     ]
    },
    {
     "name": "stderr",
     "output_type": "stream",
     "text": [
      "ERROR -1 502 Couldn't connect to TWS. Confirm that \"Enable ActiveX and Socket EClients\" \n",
      "is enabled and connection port is the same as \"Socket Port\" on the \n",
      "TWS \"Edit->Global Configuration...->API->Settings\" menu. Live Trading ports: \n",
      "TWS: 7496; IB Gateway: 4001. Simulated Trading ports for new installations \n",
      "of version 954.1 or newer:  TWS: 7497; IB Gateway: 4002\n"
     ]
    },
    {
     "name": "stdout",
     "output_type": "stream",
     "text": [
      "processing DIS for 20220120 23:59:59 US/Eastern took   3.03 sec\n",
      "processing 20220219 23:59:59 US/Eastern\n"
     ]
    },
    {
     "name": "stderr",
     "output_type": "stream",
     "text": [
      "ERROR -1 502 Couldn't connect to TWS. Confirm that \"Enable ActiveX and Socket EClients\" \n",
      "is enabled and connection port is the same as \"Socket Port\" on the \n",
      "TWS \"Edit->Global Configuration...->API->Settings\" menu. Live Trading ports: \n",
      "TWS: 7496; IB Gateway: 4001. Simulated Trading ports for new installations \n",
      "of version 954.1 or newer:  TWS: 7497; IB Gateway: 4002\n"
     ]
    },
    {
     "name": "stdout",
     "output_type": "stream",
     "text": [
      "processing DIS for 20220219 23:59:59 US/Eastern took   3.05 sec\n",
      "processing 20220321 23:59:59 US/Eastern\n"
     ]
    },
    {
     "name": "stderr",
     "output_type": "stream",
     "text": [
      "ERROR -1 502 Couldn't connect to TWS. Confirm that \"Enable ActiveX and Socket EClients\" \n",
      "is enabled and connection port is the same as \"Socket Port\" on the \n",
      "TWS \"Edit->Global Configuration...->API->Settings\" menu. Live Trading ports: \n",
      "TWS: 7496; IB Gateway: 4001. Simulated Trading ports for new installations \n",
      "of version 954.1 or newer:  TWS: 7497; IB Gateway: 4002\n"
     ]
    },
    {
     "name": "stdout",
     "output_type": "stream",
     "text": [
      "processing DIS for 20220321 23:59:59 US/Eastern took   3.04 sec\n",
      "processing 20220420 23:59:59 US/Eastern\n"
     ]
    },
    {
     "name": "stderr",
     "output_type": "stream",
     "text": [
      "ERROR -1 502 Couldn't connect to TWS. Confirm that \"Enable ActiveX and Socket EClients\" \n",
      "is enabled and connection port is the same as \"Socket Port\" on the \n",
      "TWS \"Edit->Global Configuration...->API->Settings\" menu. Live Trading ports: \n",
      "TWS: 7496; IB Gateway: 4001. Simulated Trading ports for new installations \n",
      "of version 954.1 or newer:  TWS: 7497; IB Gateway: 4002\n"
     ]
    },
    {
     "name": "stdout",
     "output_type": "stream",
     "text": [
      "processing DIS for 20220420 23:59:59 US/Eastern took   3.06 sec\n",
      "processing 20220520 23:59:59 US/Eastern\n"
     ]
    },
    {
     "name": "stderr",
     "output_type": "stream",
     "text": [
      "ERROR -1 502 Couldn't connect to TWS. Confirm that \"Enable ActiveX and Socket EClients\" \n",
      "is enabled and connection port is the same as \"Socket Port\" on the \n",
      "TWS \"Edit->Global Configuration...->API->Settings\" menu. Live Trading ports: \n",
      "TWS: 7496; IB Gateway: 4001. Simulated Trading ports for new installations \n",
      "of version 954.1 or newer:  TWS: 7497; IB Gateway: 4002\n"
     ]
    },
    {
     "name": "stdout",
     "output_type": "stream",
     "text": [
      "processing DIS for 20220520 23:59:59 US/Eastern took   3.05 sec\n",
      "processing 20220619 23:59:59 US/Eastern\n"
     ]
    },
    {
     "name": "stderr",
     "output_type": "stream",
     "text": [
      "ERROR -1 502 Couldn't connect to TWS. Confirm that \"Enable ActiveX and Socket EClients\" \n",
      "is enabled and connection port is the same as \"Socket Port\" on the \n",
      "TWS \"Edit->Global Configuration...->API->Settings\" menu. Live Trading ports: \n",
      "TWS: 7496; IB Gateway: 4001. Simulated Trading ports for new installations \n",
      "of version 954.1 or newer:  TWS: 7497; IB Gateway: 4002\n"
     ]
    },
    {
     "name": "stdout",
     "output_type": "stream",
     "text": [
      "processing DIS for 20220619 23:59:59 US/Eastern took   3.06 sec\n",
      "processing 20220719 23:59:59 US/Eastern\n"
     ]
    },
    {
     "name": "stderr",
     "output_type": "stream",
     "text": [
      "ERROR -1 502 Couldn't connect to TWS. Confirm that \"Enable ActiveX and Socket EClients\" \n",
      "is enabled and connection port is the same as \"Socket Port\" on the \n",
      "TWS \"Edit->Global Configuration...->API->Settings\" menu. Live Trading ports: \n",
      "TWS: 7496; IB Gateway: 4001. Simulated Trading ports for new installations \n",
      "of version 954.1 or newer:  TWS: 7497; IB Gateway: 4002\n"
     ]
    },
    {
     "name": "stdout",
     "output_type": "stream",
     "text": [
      "processing DIS for 20220719 23:59:59 US/Eastern took   3.06 sec\n",
      "processing 20220818 23:59:59 US/Eastern\n"
     ]
    },
    {
     "name": "stderr",
     "output_type": "stream",
     "text": [
      "ERROR -1 502 Couldn't connect to TWS. Confirm that \"Enable ActiveX and Socket EClients\" \n",
      "is enabled and connection port is the same as \"Socket Port\" on the \n",
      "TWS \"Edit->Global Configuration...->API->Settings\" menu. Live Trading ports: \n",
      "TWS: 7496; IB Gateway: 4001. Simulated Trading ports for new installations \n",
      "of version 954.1 or newer:  TWS: 7497; IB Gateway: 4002\n"
     ]
    },
    {
     "name": "stdout",
     "output_type": "stream",
     "text": [
      "processing DIS for 20220818 23:59:59 US/Eastern took   3.03 sec\n",
      "processing 20220917 23:59:59 US/Eastern\n"
     ]
    },
    {
     "name": "stderr",
     "output_type": "stream",
     "text": [
      "ERROR -1 502 Couldn't connect to TWS. Confirm that \"Enable ActiveX and Socket EClients\" \n",
      "is enabled and connection port is the same as \"Socket Port\" on the \n",
      "TWS \"Edit->Global Configuration...->API->Settings\" menu. Live Trading ports: \n",
      "TWS: 7496; IB Gateway: 4001. Simulated Trading ports for new installations \n",
      "of version 954.1 or newer:  TWS: 7497; IB Gateway: 4002\n"
     ]
    },
    {
     "name": "stdout",
     "output_type": "stream",
     "text": [
      "processing DIS for 20220917 23:59:59 US/Eastern took   3.06 sec\n",
      "processing 20221017 23:59:59 US/Eastern\n"
     ]
    },
    {
     "name": "stderr",
     "output_type": "stream",
     "text": [
      "ERROR -1 502 Couldn't connect to TWS. Confirm that \"Enable ActiveX and Socket EClients\" \n",
      "is enabled and connection port is the same as \"Socket Port\" on the \n",
      "TWS \"Edit->Global Configuration...->API->Settings\" menu. Live Trading ports: \n",
      "TWS: 7496; IB Gateway: 4001. Simulated Trading ports for new installations \n",
      "of version 954.1 or newer:  TWS: 7497; IB Gateway: 4002\n"
     ]
    },
    {
     "name": "stdout",
     "output_type": "stream",
     "text": [
      "processing DIS for 20221017 23:59:59 US/Eastern took   3.05 sec\n",
      "processing 20221116 23:59:59 US/Eastern\n"
     ]
    },
    {
     "name": "stderr",
     "output_type": "stream",
     "text": [
      "ERROR -1 502 Couldn't connect to TWS. Confirm that \"Enable ActiveX and Socket EClients\" \n",
      "is enabled and connection port is the same as \"Socket Port\" on the \n",
      "TWS \"Edit->Global Configuration...->API->Settings\" menu. Live Trading ports: \n",
      "TWS: 7496; IB Gateway: 4001. Simulated Trading ports for new installations \n",
      "of version 954.1 or newer:  TWS: 7497; IB Gateway: 4002\n"
     ]
    },
    {
     "name": "stdout",
     "output_type": "stream",
     "text": [
      "processing DIS for 20221116 23:59:59 US/Eastern took   3.03 sec\n",
      "processing 20221216 23:59:59 US/Eastern\n"
     ]
    },
    {
     "name": "stderr",
     "output_type": "stream",
     "text": [
      "ERROR -1 502 Couldn't connect to TWS. Confirm that \"Enable ActiveX and Socket EClients\" \n",
      "is enabled and connection port is the same as \"Socket Port\" on the \n",
      "TWS \"Edit->Global Configuration...->API->Settings\" menu. Live Trading ports: \n",
      "TWS: 7496; IB Gateway: 4001. Simulated Trading ports for new installations \n",
      "of version 954.1 or newer:  TWS: 7497; IB Gateway: 4002\n"
     ]
    },
    {
     "name": "stdout",
     "output_type": "stream",
     "text": [
      "processing DIS for 20221216 23:59:59 US/Eastern took   3.03 sec\n",
      "processing 20230115 23:59:59 US/Eastern\n"
     ]
    },
    {
     "name": "stderr",
     "output_type": "stream",
     "text": [
      "ERROR -1 502 Couldn't connect to TWS. Confirm that \"Enable ActiveX and Socket EClients\" \n",
      "is enabled and connection port is the same as \"Socket Port\" on the \n",
      "TWS \"Edit->Global Configuration...->API->Settings\" menu. Live Trading ports: \n",
      "TWS: 7496; IB Gateway: 4001. Simulated Trading ports for new installations \n",
      "of version 954.1 or newer:  TWS: 7497; IB Gateway: 4002\n"
     ]
    },
    {
     "name": "stdout",
     "output_type": "stream",
     "text": [
      "processing DIS for 20230115 23:59:59 US/Eastern took   3.03 sec\n",
      "processing 20230214 23:59:59 US/Eastern\n"
     ]
    },
    {
     "name": "stderr",
     "output_type": "stream",
     "text": [
      "ERROR -1 502 Couldn't connect to TWS. Confirm that \"Enable ActiveX and Socket EClients\" \n",
      "is enabled and connection port is the same as \"Socket Port\" on the \n",
      "TWS \"Edit->Global Configuration...->API->Settings\" menu. Live Trading ports: \n",
      "TWS: 7496; IB Gateway: 4001. Simulated Trading ports for new installations \n",
      "of version 954.1 or newer:  TWS: 7497; IB Gateway: 4002\n"
     ]
    },
    {
     "name": "stdout",
     "output_type": "stream",
     "text": [
      "processing DIS for 20230214 23:59:59 US/Eastern took   3.06 sec\n",
      "processing 20230316 23:59:59 US/Eastern\n"
     ]
    },
    {
     "name": "stderr",
     "output_type": "stream",
     "text": [
      "ERROR -1 502 Couldn't connect to TWS. Confirm that \"Enable ActiveX and Socket EClients\" \n",
      "is enabled and connection port is the same as \"Socket Port\" on the \n",
      "TWS \"Edit->Global Configuration...->API->Settings\" menu. Live Trading ports: \n",
      "TWS: 7496; IB Gateway: 4001. Simulated Trading ports for new installations \n",
      "of version 954.1 or newer:  TWS: 7497; IB Gateway: 4002\n"
     ]
    },
    {
     "name": "stdout",
     "output_type": "stream",
     "text": [
      "processing DIS for 20230316 23:59:59 US/Eastern took   3.05 sec\n",
      "Processing DOW\n",
      "processing 20200101 23:59:59 US/Eastern\n"
     ]
    },
    {
     "name": "stderr",
     "output_type": "stream",
     "text": [
      "ERROR -1 502 Couldn't connect to TWS. Confirm that \"Enable ActiveX and Socket EClients\" \n",
      "is enabled and connection port is the same as \"Socket Port\" on the \n",
      "TWS \"Edit->Global Configuration...->API->Settings\" menu. Live Trading ports: \n",
      "TWS: 7496; IB Gateway: 4001. Simulated Trading ports for new installations \n",
      "of version 954.1 or newer:  TWS: 7497; IB Gateway: 4002\n"
     ]
    },
    {
     "name": "stdout",
     "output_type": "stream",
     "text": [
      "processing DOW for 20200101 23:59:59 US/Eastern took   3.04 sec\n",
      "processing 20200131 23:59:59 US/Eastern\n"
     ]
    },
    {
     "name": "stderr",
     "output_type": "stream",
     "text": [
      "ERROR -1 502 Couldn't connect to TWS. Confirm that \"Enable ActiveX and Socket EClients\" \n",
      "is enabled and connection port is the same as \"Socket Port\" on the \n",
      "TWS \"Edit->Global Configuration...->API->Settings\" menu. Live Trading ports: \n",
      "TWS: 7496; IB Gateway: 4001. Simulated Trading ports for new installations \n",
      "of version 954.1 or newer:  TWS: 7497; IB Gateway: 4002\n"
     ]
    },
    {
     "name": "stdout",
     "output_type": "stream",
     "text": [
      "processing DOW for 20200131 23:59:59 US/Eastern took   3.05 sec\n",
      "processing 20200301 23:59:59 US/Eastern\n"
     ]
    },
    {
     "name": "stderr",
     "output_type": "stream",
     "text": [
      "ERROR -1 502 Couldn't connect to TWS. Confirm that \"Enable ActiveX and Socket EClients\" \n",
      "is enabled and connection port is the same as \"Socket Port\" on the \n",
      "TWS \"Edit->Global Configuration...->API->Settings\" menu. Live Trading ports: \n",
      "TWS: 7496; IB Gateway: 4001. Simulated Trading ports for new installations \n",
      "of version 954.1 or newer:  TWS: 7497; IB Gateway: 4002\n"
     ]
    },
    {
     "name": "stdout",
     "output_type": "stream",
     "text": [
      "processing DOW for 20200301 23:59:59 US/Eastern took   3.05 sec\n",
      "processing 20200331 23:59:59 US/Eastern\n"
     ]
    },
    {
     "name": "stderr",
     "output_type": "stream",
     "text": [
      "ERROR -1 502 Couldn't connect to TWS. Confirm that \"Enable ActiveX and Socket EClients\" \n",
      "is enabled and connection port is the same as \"Socket Port\" on the \n",
      "TWS \"Edit->Global Configuration...->API->Settings\" menu. Live Trading ports: \n",
      "TWS: 7496; IB Gateway: 4001. Simulated Trading ports for new installations \n",
      "of version 954.1 or newer:  TWS: 7497; IB Gateway: 4002\n"
     ]
    },
    {
     "name": "stdout",
     "output_type": "stream",
     "text": [
      "processing DOW for 20200331 23:59:59 US/Eastern took   3.05 sec\n",
      "processing 20200430 23:59:59 US/Eastern\n"
     ]
    },
    {
     "name": "stderr",
     "output_type": "stream",
     "text": [
      "ERROR -1 502 Couldn't connect to TWS. Confirm that \"Enable ActiveX and Socket EClients\" \n",
      "is enabled and connection port is the same as \"Socket Port\" on the \n",
      "TWS \"Edit->Global Configuration...->API->Settings\" menu. Live Trading ports: \n",
      "TWS: 7496; IB Gateway: 4001. Simulated Trading ports for new installations \n",
      "of version 954.1 or newer:  TWS: 7497; IB Gateway: 4002\n"
     ]
    },
    {
     "name": "stdout",
     "output_type": "stream",
     "text": [
      "processing DOW for 20200430 23:59:59 US/Eastern took   3.05 sec\n",
      "processing 20200530 23:59:59 US/Eastern\n"
     ]
    },
    {
     "name": "stderr",
     "output_type": "stream",
     "text": [
      "ERROR -1 502 Couldn't connect to TWS. Confirm that \"Enable ActiveX and Socket EClients\" \n",
      "is enabled and connection port is the same as \"Socket Port\" on the \n",
      "TWS \"Edit->Global Configuration...->API->Settings\" menu. Live Trading ports: \n",
      "TWS: 7496; IB Gateway: 4001. Simulated Trading ports for new installations \n",
      "of version 954.1 or newer:  TWS: 7497; IB Gateway: 4002\n"
     ]
    },
    {
     "name": "stdout",
     "output_type": "stream",
     "text": [
      "processing DOW for 20200530 23:59:59 US/Eastern took   3.06 sec\n",
      "processing 20200629 23:59:59 US/Eastern\n"
     ]
    },
    {
     "name": "stderr",
     "output_type": "stream",
     "text": [
      "ERROR -1 502 Couldn't connect to TWS. Confirm that \"Enable ActiveX and Socket EClients\" \n",
      "is enabled and connection port is the same as \"Socket Port\" on the \n",
      "TWS \"Edit->Global Configuration...->API->Settings\" menu. Live Trading ports: \n",
      "TWS: 7496; IB Gateway: 4001. Simulated Trading ports for new installations \n",
      "of version 954.1 or newer:  TWS: 7497; IB Gateway: 4002\n"
     ]
    },
    {
     "name": "stdout",
     "output_type": "stream",
     "text": [
      "processing DOW for 20200629 23:59:59 US/Eastern took   3.04 sec\n",
      "processing 20200729 23:59:59 US/Eastern\n"
     ]
    },
    {
     "name": "stderr",
     "output_type": "stream",
     "text": [
      "ERROR -1 502 Couldn't connect to TWS. Confirm that \"Enable ActiveX and Socket EClients\" \n",
      "is enabled and connection port is the same as \"Socket Port\" on the \n",
      "TWS \"Edit->Global Configuration...->API->Settings\" menu. Live Trading ports: \n",
      "TWS: 7496; IB Gateway: 4001. Simulated Trading ports for new installations \n",
      "of version 954.1 or newer:  TWS: 7497; IB Gateway: 4002\n"
     ]
    },
    {
     "name": "stdout",
     "output_type": "stream",
     "text": [
      "processing DOW for 20200729 23:59:59 US/Eastern took   3.05 sec\n",
      "processing 20200828 23:59:59 US/Eastern\n"
     ]
    },
    {
     "name": "stderr",
     "output_type": "stream",
     "text": [
      "ERROR -1 502 Couldn't connect to TWS. Confirm that \"Enable ActiveX and Socket EClients\" \n",
      "is enabled and connection port is the same as \"Socket Port\" on the \n",
      "TWS \"Edit->Global Configuration...->API->Settings\" menu. Live Trading ports: \n",
      "TWS: 7496; IB Gateway: 4001. Simulated Trading ports for new installations \n",
      "of version 954.1 or newer:  TWS: 7497; IB Gateway: 4002\n"
     ]
    },
    {
     "name": "stdout",
     "output_type": "stream",
     "text": [
      "processing DOW for 20200828 23:59:59 US/Eastern took   3.05 sec\n",
      "processing 20200927 23:59:59 US/Eastern\n"
     ]
    },
    {
     "name": "stderr",
     "output_type": "stream",
     "text": [
      "ERROR -1 502 Couldn't connect to TWS. Confirm that \"Enable ActiveX and Socket EClients\" \n",
      "is enabled and connection port is the same as \"Socket Port\" on the \n",
      "TWS \"Edit->Global Configuration...->API->Settings\" menu. Live Trading ports: \n",
      "TWS: 7496; IB Gateway: 4001. Simulated Trading ports for new installations \n",
      "of version 954.1 or newer:  TWS: 7497; IB Gateway: 4002\n"
     ]
    },
    {
     "name": "stdout",
     "output_type": "stream",
     "text": [
      "processing DOW for 20200927 23:59:59 US/Eastern took   3.04 sec\n",
      "processing 20201027 23:59:59 US/Eastern\n"
     ]
    },
    {
     "name": "stderr",
     "output_type": "stream",
     "text": [
      "ERROR -1 502 Couldn't connect to TWS. Confirm that \"Enable ActiveX and Socket EClients\" \n",
      "is enabled and connection port is the same as \"Socket Port\" on the \n",
      "TWS \"Edit->Global Configuration...->API->Settings\" menu. Live Trading ports: \n",
      "TWS: 7496; IB Gateway: 4001. Simulated Trading ports for new installations \n",
      "of version 954.1 or newer:  TWS: 7497; IB Gateway: 4002\n"
     ]
    },
    {
     "name": "stdout",
     "output_type": "stream",
     "text": [
      "processing DOW for 20201027 23:59:59 US/Eastern took   3.05 sec\n",
      "processing 20201126 23:59:59 US/Eastern\n"
     ]
    },
    {
     "name": "stderr",
     "output_type": "stream",
     "text": [
      "ERROR -1 502 Couldn't connect to TWS. Confirm that \"Enable ActiveX and Socket EClients\" \n",
      "is enabled and connection port is the same as \"Socket Port\" on the \n",
      "TWS \"Edit->Global Configuration...->API->Settings\" menu. Live Trading ports: \n",
      "TWS: 7496; IB Gateway: 4001. Simulated Trading ports for new installations \n",
      "of version 954.1 or newer:  TWS: 7497; IB Gateway: 4002\n"
     ]
    },
    {
     "name": "stdout",
     "output_type": "stream",
     "text": [
      "processing DOW for 20201126 23:59:59 US/Eastern took   3.04 sec\n",
      "processing 20201226 23:59:59 US/Eastern\n"
     ]
    },
    {
     "name": "stderr",
     "output_type": "stream",
     "text": [
      "ERROR -1 502 Couldn't connect to TWS. Confirm that \"Enable ActiveX and Socket EClients\" \n",
      "is enabled and connection port is the same as \"Socket Port\" on the \n",
      "TWS \"Edit->Global Configuration...->API->Settings\" menu. Live Trading ports: \n",
      "TWS: 7496; IB Gateway: 4001. Simulated Trading ports for new installations \n",
      "of version 954.1 or newer:  TWS: 7497; IB Gateway: 4002\n"
     ]
    },
    {
     "name": "stdout",
     "output_type": "stream",
     "text": [
      "processing DOW for 20201226 23:59:59 US/Eastern took   3.04 sec\n",
      "processing 20210125 23:59:59 US/Eastern\n"
     ]
    },
    {
     "name": "stderr",
     "output_type": "stream",
     "text": [
      "ERROR -1 502 Couldn't connect to TWS. Confirm that \"Enable ActiveX and Socket EClients\" \n",
      "is enabled and connection port is the same as \"Socket Port\" on the \n",
      "TWS \"Edit->Global Configuration...->API->Settings\" menu. Live Trading ports: \n",
      "TWS: 7496; IB Gateway: 4001. Simulated Trading ports for new installations \n",
      "of version 954.1 or newer:  TWS: 7497; IB Gateway: 4002\n"
     ]
    },
    {
     "name": "stdout",
     "output_type": "stream",
     "text": [
      "processing DOW for 20210125 23:59:59 US/Eastern took   3.05 sec\n",
      "processing 20210224 23:59:59 US/Eastern\n"
     ]
    },
    {
     "name": "stderr",
     "output_type": "stream",
     "text": [
      "ERROR -1 502 Couldn't connect to TWS. Confirm that \"Enable ActiveX and Socket EClients\" \n",
      "is enabled and connection port is the same as \"Socket Port\" on the \n",
      "TWS \"Edit->Global Configuration...->API->Settings\" menu. Live Trading ports: \n",
      "TWS: 7496; IB Gateway: 4001. Simulated Trading ports for new installations \n",
      "of version 954.1 or newer:  TWS: 7497; IB Gateway: 4002\n"
     ]
    },
    {
     "name": "stdout",
     "output_type": "stream",
     "text": [
      "processing DOW for 20210224 23:59:59 US/Eastern took   3.04 sec\n",
      "processing 20210326 23:59:59 US/Eastern\n"
     ]
    },
    {
     "name": "stderr",
     "output_type": "stream",
     "text": [
      "ERROR -1 502 Couldn't connect to TWS. Confirm that \"Enable ActiveX and Socket EClients\" \n",
      "is enabled and connection port is the same as \"Socket Port\" on the \n",
      "TWS \"Edit->Global Configuration...->API->Settings\" menu. Live Trading ports: \n",
      "TWS: 7496; IB Gateway: 4001. Simulated Trading ports for new installations \n",
      "of version 954.1 or newer:  TWS: 7497; IB Gateway: 4002\n"
     ]
    },
    {
     "name": "stdout",
     "output_type": "stream",
     "text": [
      "processing DOW for 20210326 23:59:59 US/Eastern took   3.05 sec\n",
      "processing 20210425 23:59:59 US/Eastern\n"
     ]
    },
    {
     "name": "stderr",
     "output_type": "stream",
     "text": [
      "ERROR -1 502 Couldn't connect to TWS. Confirm that \"Enable ActiveX and Socket EClients\" \n",
      "is enabled and connection port is the same as \"Socket Port\" on the \n",
      "TWS \"Edit->Global Configuration...->API->Settings\" menu. Live Trading ports: \n",
      "TWS: 7496; IB Gateway: 4001. Simulated Trading ports for new installations \n",
      "of version 954.1 or newer:  TWS: 7497; IB Gateway: 4002\n"
     ]
    },
    {
     "name": "stdout",
     "output_type": "stream",
     "text": [
      "processing DOW for 20210425 23:59:59 US/Eastern took   3.04 sec\n",
      "processing 20210525 23:59:59 US/Eastern\n"
     ]
    },
    {
     "name": "stderr",
     "output_type": "stream",
     "text": [
      "ERROR -1 502 Couldn't connect to TWS. Confirm that \"Enable ActiveX and Socket EClients\" \n",
      "is enabled and connection port is the same as \"Socket Port\" on the \n",
      "TWS \"Edit->Global Configuration...->API->Settings\" menu. Live Trading ports: \n",
      "TWS: 7496; IB Gateway: 4001. Simulated Trading ports for new installations \n",
      "of version 954.1 or newer:  TWS: 7497; IB Gateway: 4002\n"
     ]
    },
    {
     "name": "stdout",
     "output_type": "stream",
     "text": [
      "processing DOW for 20210525 23:59:59 US/Eastern took   3.06 sec\n",
      "processing 20210624 23:59:59 US/Eastern\n"
     ]
    },
    {
     "name": "stderr",
     "output_type": "stream",
     "text": [
      "ERROR -1 502 Couldn't connect to TWS. Confirm that \"Enable ActiveX and Socket EClients\" \n",
      "is enabled and connection port is the same as \"Socket Port\" on the \n",
      "TWS \"Edit->Global Configuration...->API->Settings\" menu. Live Trading ports: \n",
      "TWS: 7496; IB Gateway: 4001. Simulated Trading ports for new installations \n",
      "of version 954.1 or newer:  TWS: 7497; IB Gateway: 4002\n"
     ]
    },
    {
     "name": "stdout",
     "output_type": "stream",
     "text": [
      "processing DOW for 20210624 23:59:59 US/Eastern took   3.05 sec\n",
      "processing 20210724 23:59:59 US/Eastern\n"
     ]
    },
    {
     "name": "stderr",
     "output_type": "stream",
     "text": [
      "ERROR -1 502 Couldn't connect to TWS. Confirm that \"Enable ActiveX and Socket EClients\" \n",
      "is enabled and connection port is the same as \"Socket Port\" on the \n",
      "TWS \"Edit->Global Configuration...->API->Settings\" menu. Live Trading ports: \n",
      "TWS: 7496; IB Gateway: 4001. Simulated Trading ports for new installations \n",
      "of version 954.1 or newer:  TWS: 7497; IB Gateway: 4002\n"
     ]
    },
    {
     "name": "stdout",
     "output_type": "stream",
     "text": [
      "processing DOW for 20210724 23:59:59 US/Eastern took   3.06 sec\n",
      "processing 20210823 23:59:59 US/Eastern\n"
     ]
    },
    {
     "name": "stderr",
     "output_type": "stream",
     "text": [
      "ERROR -1 502 Couldn't connect to TWS. Confirm that \"Enable ActiveX and Socket EClients\" \n",
      "is enabled and connection port is the same as \"Socket Port\" on the \n",
      "TWS \"Edit->Global Configuration...->API->Settings\" menu. Live Trading ports: \n",
      "TWS: 7496; IB Gateway: 4001. Simulated Trading ports for new installations \n",
      "of version 954.1 or newer:  TWS: 7497; IB Gateway: 4002\n"
     ]
    },
    {
     "name": "stdout",
     "output_type": "stream",
     "text": [
      "processing DOW for 20210823 23:59:59 US/Eastern took   3.05 sec\n",
      "processing 20210922 23:59:59 US/Eastern\n"
     ]
    },
    {
     "name": "stderr",
     "output_type": "stream",
     "text": [
      "ERROR -1 502 Couldn't connect to TWS. Confirm that \"Enable ActiveX and Socket EClients\" \n",
      "is enabled and connection port is the same as \"Socket Port\" on the \n",
      "TWS \"Edit->Global Configuration...->API->Settings\" menu. Live Trading ports: \n",
      "TWS: 7496; IB Gateway: 4001. Simulated Trading ports for new installations \n",
      "of version 954.1 or newer:  TWS: 7497; IB Gateway: 4002\n"
     ]
    },
    {
     "name": "stdout",
     "output_type": "stream",
     "text": [
      "processing DOW for 20210922 23:59:59 US/Eastern took   3.03 sec\n",
      "processing 20211022 23:59:59 US/Eastern\n"
     ]
    },
    {
     "name": "stderr",
     "output_type": "stream",
     "text": [
      "ERROR -1 502 Couldn't connect to TWS. Confirm that \"Enable ActiveX and Socket EClients\" \n",
      "is enabled and connection port is the same as \"Socket Port\" on the \n",
      "TWS \"Edit->Global Configuration...->API->Settings\" menu. Live Trading ports: \n",
      "TWS: 7496; IB Gateway: 4001. Simulated Trading ports for new installations \n",
      "of version 954.1 or newer:  TWS: 7497; IB Gateway: 4002\n"
     ]
    },
    {
     "name": "stdout",
     "output_type": "stream",
     "text": [
      "processing DOW for 20211022 23:59:59 US/Eastern took   3.05 sec\n",
      "processing 20211121 23:59:59 US/Eastern\n"
     ]
    },
    {
     "name": "stderr",
     "output_type": "stream",
     "text": [
      "ERROR -1 502 Couldn't connect to TWS. Confirm that \"Enable ActiveX and Socket EClients\" \n",
      "is enabled and connection port is the same as \"Socket Port\" on the \n",
      "TWS \"Edit->Global Configuration...->API->Settings\" menu. Live Trading ports: \n",
      "TWS: 7496; IB Gateway: 4001. Simulated Trading ports for new installations \n",
      "of version 954.1 or newer:  TWS: 7497; IB Gateway: 4002\n"
     ]
    },
    {
     "name": "stdout",
     "output_type": "stream",
     "text": [
      "processing DOW for 20211121 23:59:59 US/Eastern took   3.05 sec\n",
      "processing 20211221 23:59:59 US/Eastern\n"
     ]
    },
    {
     "name": "stderr",
     "output_type": "stream",
     "text": [
      "ERROR -1 502 Couldn't connect to TWS. Confirm that \"Enable ActiveX and Socket EClients\" \n",
      "is enabled and connection port is the same as \"Socket Port\" on the \n",
      "TWS \"Edit->Global Configuration...->API->Settings\" menu. Live Trading ports: \n",
      "TWS: 7496; IB Gateway: 4001. Simulated Trading ports for new installations \n",
      "of version 954.1 or newer:  TWS: 7497; IB Gateway: 4002\n"
     ]
    },
    {
     "name": "stdout",
     "output_type": "stream",
     "text": [
      "processing DOW for 20211221 23:59:59 US/Eastern took   3.05 sec\n",
      "processing 20220120 23:59:59 US/Eastern\n"
     ]
    },
    {
     "name": "stderr",
     "output_type": "stream",
     "text": [
      "ERROR -1 502 Couldn't connect to TWS. Confirm that \"Enable ActiveX and Socket EClients\" \n",
      "is enabled and connection port is the same as \"Socket Port\" on the \n",
      "TWS \"Edit->Global Configuration...->API->Settings\" menu. Live Trading ports: \n",
      "TWS: 7496; IB Gateway: 4001. Simulated Trading ports for new installations \n",
      "of version 954.1 or newer:  TWS: 7497; IB Gateway: 4002\n"
     ]
    },
    {
     "name": "stdout",
     "output_type": "stream",
     "text": [
      "processing DOW for 20220120 23:59:59 US/Eastern took   3.04 sec\n",
      "processing 20220219 23:59:59 US/Eastern\n"
     ]
    },
    {
     "name": "stderr",
     "output_type": "stream",
     "text": [
      "ERROR -1 502 Couldn't connect to TWS. Confirm that \"Enable ActiveX and Socket EClients\" \n",
      "is enabled and connection port is the same as \"Socket Port\" on the \n",
      "TWS \"Edit->Global Configuration...->API->Settings\" menu. Live Trading ports: \n",
      "TWS: 7496; IB Gateway: 4001. Simulated Trading ports for new installations \n",
      "of version 954.1 or newer:  TWS: 7497; IB Gateway: 4002\n"
     ]
    },
    {
     "name": "stdout",
     "output_type": "stream",
     "text": [
      "processing DOW for 20220219 23:59:59 US/Eastern took   3.04 sec\n",
      "processing 20220321 23:59:59 US/Eastern\n"
     ]
    },
    {
     "name": "stderr",
     "output_type": "stream",
     "text": [
      "ERROR -1 502 Couldn't connect to TWS. Confirm that \"Enable ActiveX and Socket EClients\" \n",
      "is enabled and connection port is the same as \"Socket Port\" on the \n",
      "TWS \"Edit->Global Configuration...->API->Settings\" menu. Live Trading ports: \n",
      "TWS: 7496; IB Gateway: 4001. Simulated Trading ports for new installations \n",
      "of version 954.1 or newer:  TWS: 7497; IB Gateway: 4002\n"
     ]
    },
    {
     "name": "stdout",
     "output_type": "stream",
     "text": [
      "processing DOW for 20220321 23:59:59 US/Eastern took   3.04 sec\n",
      "processing 20220420 23:59:59 US/Eastern\n"
     ]
    },
    {
     "name": "stderr",
     "output_type": "stream",
     "text": [
      "ERROR -1 502 Couldn't connect to TWS. Confirm that \"Enable ActiveX and Socket EClients\" \n",
      "is enabled and connection port is the same as \"Socket Port\" on the \n",
      "TWS \"Edit->Global Configuration...->API->Settings\" menu. Live Trading ports: \n",
      "TWS: 7496; IB Gateway: 4001. Simulated Trading ports for new installations \n",
      "of version 954.1 or newer:  TWS: 7497; IB Gateway: 4002\n"
     ]
    },
    {
     "name": "stdout",
     "output_type": "stream",
     "text": [
      "processing DOW for 20220420 23:59:59 US/Eastern took   3.03 sec\n",
      "processing 20220520 23:59:59 US/Eastern\n"
     ]
    },
    {
     "name": "stderr",
     "output_type": "stream",
     "text": [
      "ERROR -1 502 Couldn't connect to TWS. Confirm that \"Enable ActiveX and Socket EClients\" \n",
      "is enabled and connection port is the same as \"Socket Port\" on the \n",
      "TWS \"Edit->Global Configuration...->API->Settings\" menu. Live Trading ports: \n",
      "TWS: 7496; IB Gateway: 4001. Simulated Trading ports for new installations \n",
      "of version 954.1 or newer:  TWS: 7497; IB Gateway: 4002\n"
     ]
    },
    {
     "name": "stdout",
     "output_type": "stream",
     "text": [
      "processing DOW for 20220520 23:59:59 US/Eastern took   3.05 sec\n",
      "processing 20220619 23:59:59 US/Eastern\n"
     ]
    },
    {
     "name": "stderr",
     "output_type": "stream",
     "text": [
      "ERROR -1 502 Couldn't connect to TWS. Confirm that \"Enable ActiveX and Socket EClients\" \n",
      "is enabled and connection port is the same as \"Socket Port\" on the \n",
      "TWS \"Edit->Global Configuration...->API->Settings\" menu. Live Trading ports: \n",
      "TWS: 7496; IB Gateway: 4001. Simulated Trading ports for new installations \n",
      "of version 954.1 or newer:  TWS: 7497; IB Gateway: 4002\n"
     ]
    },
    {
     "name": "stdout",
     "output_type": "stream",
     "text": [
      "processing DOW for 20220619 23:59:59 US/Eastern took   3.03 sec\n",
      "processing 20220719 23:59:59 US/Eastern\n"
     ]
    },
    {
     "name": "stderr",
     "output_type": "stream",
     "text": [
      "ERROR -1 502 Couldn't connect to TWS. Confirm that \"Enable ActiveX and Socket EClients\" \n",
      "is enabled and connection port is the same as \"Socket Port\" on the \n",
      "TWS \"Edit->Global Configuration...->API->Settings\" menu. Live Trading ports: \n",
      "TWS: 7496; IB Gateway: 4001. Simulated Trading ports for new installations \n",
      "of version 954.1 or newer:  TWS: 7497; IB Gateway: 4002\n"
     ]
    },
    {
     "name": "stdout",
     "output_type": "stream",
     "text": [
      "processing DOW for 20220719 23:59:59 US/Eastern took   3.05 sec\n",
      "processing 20220818 23:59:59 US/Eastern\n"
     ]
    },
    {
     "name": "stderr",
     "output_type": "stream",
     "text": [
      "ERROR -1 502 Couldn't connect to TWS. Confirm that \"Enable ActiveX and Socket EClients\" \n",
      "is enabled and connection port is the same as \"Socket Port\" on the \n",
      "TWS \"Edit->Global Configuration...->API->Settings\" menu. Live Trading ports: \n",
      "TWS: 7496; IB Gateway: 4001. Simulated Trading ports for new installations \n",
      "of version 954.1 or newer:  TWS: 7497; IB Gateway: 4002\n"
     ]
    },
    {
     "name": "stdout",
     "output_type": "stream",
     "text": [
      "processing DOW for 20220818 23:59:59 US/Eastern took   3.06 sec\n",
      "processing 20220917 23:59:59 US/Eastern\n"
     ]
    },
    {
     "name": "stderr",
     "output_type": "stream",
     "text": [
      "ERROR -1 502 Couldn't connect to TWS. Confirm that \"Enable ActiveX and Socket EClients\" \n",
      "is enabled and connection port is the same as \"Socket Port\" on the \n",
      "TWS \"Edit->Global Configuration...->API->Settings\" menu. Live Trading ports: \n",
      "TWS: 7496; IB Gateway: 4001. Simulated Trading ports for new installations \n",
      "of version 954.1 or newer:  TWS: 7497; IB Gateway: 4002\n"
     ]
    },
    {
     "name": "stdout",
     "output_type": "stream",
     "text": [
      "processing DOW for 20220917 23:59:59 US/Eastern took   3.04 sec\n",
      "processing 20221017 23:59:59 US/Eastern\n"
     ]
    },
    {
     "name": "stderr",
     "output_type": "stream",
     "text": [
      "ERROR -1 502 Couldn't connect to TWS. Confirm that \"Enable ActiveX and Socket EClients\" \n",
      "is enabled and connection port is the same as \"Socket Port\" on the \n",
      "TWS \"Edit->Global Configuration...->API->Settings\" menu. Live Trading ports: \n",
      "TWS: 7496; IB Gateway: 4001. Simulated Trading ports for new installations \n",
      "of version 954.1 or newer:  TWS: 7497; IB Gateway: 4002\n"
     ]
    },
    {
     "name": "stdout",
     "output_type": "stream",
     "text": [
      "processing DOW for 20221017 23:59:59 US/Eastern took   3.05 sec\n",
      "processing 20221116 23:59:59 US/Eastern\n"
     ]
    },
    {
     "name": "stderr",
     "output_type": "stream",
     "text": [
      "ERROR -1 502 Couldn't connect to TWS. Confirm that \"Enable ActiveX and Socket EClients\" \n",
      "is enabled and connection port is the same as \"Socket Port\" on the \n",
      "TWS \"Edit->Global Configuration...->API->Settings\" menu. Live Trading ports: \n",
      "TWS: 7496; IB Gateway: 4001. Simulated Trading ports for new installations \n",
      "of version 954.1 or newer:  TWS: 7497; IB Gateway: 4002\n"
     ]
    },
    {
     "name": "stdout",
     "output_type": "stream",
     "text": [
      "processing DOW for 20221116 23:59:59 US/Eastern took   3.05 sec\n",
      "processing 20221216 23:59:59 US/Eastern\n"
     ]
    },
    {
     "name": "stderr",
     "output_type": "stream",
     "text": [
      "ERROR -1 502 Couldn't connect to TWS. Confirm that \"Enable ActiveX and Socket EClients\" \n",
      "is enabled and connection port is the same as \"Socket Port\" on the \n",
      "TWS \"Edit->Global Configuration...->API->Settings\" menu. Live Trading ports: \n",
      "TWS: 7496; IB Gateway: 4001. Simulated Trading ports for new installations \n",
      "of version 954.1 or newer:  TWS: 7497; IB Gateway: 4002\n"
     ]
    },
    {
     "name": "stdout",
     "output_type": "stream",
     "text": [
      "processing DOW for 20221216 23:59:59 US/Eastern took   3.05 sec\n",
      "processing 20230115 23:59:59 US/Eastern\n"
     ]
    },
    {
     "name": "stderr",
     "output_type": "stream",
     "text": [
      "ERROR -1 502 Couldn't connect to TWS. Confirm that \"Enable ActiveX and Socket EClients\" \n",
      "is enabled and connection port is the same as \"Socket Port\" on the \n",
      "TWS \"Edit->Global Configuration...->API->Settings\" menu. Live Trading ports: \n",
      "TWS: 7496; IB Gateway: 4001. Simulated Trading ports for new installations \n",
      "of version 954.1 or newer:  TWS: 7497; IB Gateway: 4002\n"
     ]
    },
    {
     "name": "stdout",
     "output_type": "stream",
     "text": [
      "processing DOW for 20230115 23:59:59 US/Eastern took   3.04 sec\n",
      "processing 20230214 23:59:59 US/Eastern\n"
     ]
    },
    {
     "name": "stderr",
     "output_type": "stream",
     "text": [
      "ERROR -1 502 Couldn't connect to TWS. Confirm that \"Enable ActiveX and Socket EClients\" \n",
      "is enabled and connection port is the same as \"Socket Port\" on the \n",
      "TWS \"Edit->Global Configuration...->API->Settings\" menu. Live Trading ports: \n",
      "TWS: 7496; IB Gateway: 4001. Simulated Trading ports for new installations \n",
      "of version 954.1 or newer:  TWS: 7497; IB Gateway: 4002\n"
     ]
    },
    {
     "name": "stdout",
     "output_type": "stream",
     "text": [
      "processing DOW for 20230214 23:59:59 US/Eastern took   3.04 sec\n",
      "processing 20230316 23:59:59 US/Eastern\n"
     ]
    },
    {
     "name": "stderr",
     "output_type": "stream",
     "text": [
      "ERROR -1 502 Couldn't connect to TWS. Confirm that \"Enable ActiveX and Socket EClients\" \n",
      "is enabled and connection port is the same as \"Socket Port\" on the \n",
      "TWS \"Edit->Global Configuration...->API->Settings\" menu. Live Trading ports: \n",
      "TWS: 7496; IB Gateway: 4001. Simulated Trading ports for new installations \n",
      "of version 954.1 or newer:  TWS: 7497; IB Gateway: 4002\n"
     ]
    },
    {
     "name": "stdout",
     "output_type": "stream",
     "text": [
      "processing DOW for 20230316 23:59:59 US/Eastern took   3.04 sec\n",
      "Processing GS\n",
      "processing 20200101 23:59:59 US/Eastern\n"
     ]
    },
    {
     "name": "stderr",
     "output_type": "stream",
     "text": [
      "ERROR -1 502 Couldn't connect to TWS. Confirm that \"Enable ActiveX and Socket EClients\" \n",
      "is enabled and connection port is the same as \"Socket Port\" on the \n",
      "TWS \"Edit->Global Configuration...->API->Settings\" menu. Live Trading ports: \n",
      "TWS: 7496; IB Gateway: 4001. Simulated Trading ports for new installations \n",
      "of version 954.1 or newer:  TWS: 7497; IB Gateway: 4002\n"
     ]
    },
    {
     "name": "stdout",
     "output_type": "stream",
     "text": [
      "processing GS for 20200101 23:59:59 US/Eastern took   3.04 sec\n",
      "processing 20200131 23:59:59 US/Eastern\n"
     ]
    },
    {
     "name": "stderr",
     "output_type": "stream",
     "text": [
      "ERROR -1 502 Couldn't connect to TWS. Confirm that \"Enable ActiveX and Socket EClients\" \n",
      "is enabled and connection port is the same as \"Socket Port\" on the \n",
      "TWS \"Edit->Global Configuration...->API->Settings\" menu. Live Trading ports: \n",
      "TWS: 7496; IB Gateway: 4001. Simulated Trading ports for new installations \n",
      "of version 954.1 or newer:  TWS: 7497; IB Gateway: 4002\n"
     ]
    },
    {
     "name": "stdout",
     "output_type": "stream",
     "text": [
      "processing GS for 20200131 23:59:59 US/Eastern took   3.05 sec\n",
      "processing 20200301 23:59:59 US/Eastern\n"
     ]
    },
    {
     "name": "stderr",
     "output_type": "stream",
     "text": [
      "ERROR -1 502 Couldn't connect to TWS. Confirm that \"Enable ActiveX and Socket EClients\" \n",
      "is enabled and connection port is the same as \"Socket Port\" on the \n",
      "TWS \"Edit->Global Configuration...->API->Settings\" menu. Live Trading ports: \n",
      "TWS: 7496; IB Gateway: 4001. Simulated Trading ports for new installations \n",
      "of version 954.1 or newer:  TWS: 7497; IB Gateway: 4002\n"
     ]
    },
    {
     "name": "stdout",
     "output_type": "stream",
     "text": [
      "processing GS for 20200301 23:59:59 US/Eastern took   3.05 sec\n",
      "processing 20200331 23:59:59 US/Eastern\n"
     ]
    },
    {
     "name": "stderr",
     "output_type": "stream",
     "text": [
      "ERROR -1 502 Couldn't connect to TWS. Confirm that \"Enable ActiveX and Socket EClients\" \n",
      "is enabled and connection port is the same as \"Socket Port\" on the \n",
      "TWS \"Edit->Global Configuration...->API->Settings\" menu. Live Trading ports: \n",
      "TWS: 7496; IB Gateway: 4001. Simulated Trading ports for new installations \n",
      "of version 954.1 or newer:  TWS: 7497; IB Gateway: 4002\n"
     ]
    },
    {
     "name": "stdout",
     "output_type": "stream",
     "text": [
      "processing GS for 20200331 23:59:59 US/Eastern took   3.04 sec\n",
      "processing 20200430 23:59:59 US/Eastern\n"
     ]
    },
    {
     "name": "stderr",
     "output_type": "stream",
     "text": [
      "ERROR -1 502 Couldn't connect to TWS. Confirm that \"Enable ActiveX and Socket EClients\" \n",
      "is enabled and connection port is the same as \"Socket Port\" on the \n",
      "TWS \"Edit->Global Configuration...->API->Settings\" menu. Live Trading ports: \n",
      "TWS: 7496; IB Gateway: 4001. Simulated Trading ports for new installations \n",
      "of version 954.1 or newer:  TWS: 7497; IB Gateway: 4002\n"
     ]
    },
    {
     "name": "stdout",
     "output_type": "stream",
     "text": [
      "processing GS for 20200430 23:59:59 US/Eastern took   3.04 sec\n",
      "processing 20200530 23:59:59 US/Eastern\n"
     ]
    },
    {
     "name": "stderr",
     "output_type": "stream",
     "text": [
      "ERROR -1 502 Couldn't connect to TWS. Confirm that \"Enable ActiveX and Socket EClients\" \n",
      "is enabled and connection port is the same as \"Socket Port\" on the \n",
      "TWS \"Edit->Global Configuration...->API->Settings\" menu. Live Trading ports: \n",
      "TWS: 7496; IB Gateway: 4001. Simulated Trading ports for new installations \n",
      "of version 954.1 or newer:  TWS: 7497; IB Gateway: 4002\n"
     ]
    },
    {
     "name": "stdout",
     "output_type": "stream",
     "text": [
      "processing GS for 20200530 23:59:59 US/Eastern took   3.06 sec\n",
      "processing 20200629 23:59:59 US/Eastern\n"
     ]
    },
    {
     "name": "stderr",
     "output_type": "stream",
     "text": [
      "ERROR -1 502 Couldn't connect to TWS. Confirm that \"Enable ActiveX and Socket EClients\" \n",
      "is enabled and connection port is the same as \"Socket Port\" on the \n",
      "TWS \"Edit->Global Configuration...->API->Settings\" menu. Live Trading ports: \n",
      "TWS: 7496; IB Gateway: 4001. Simulated Trading ports for new installations \n",
      "of version 954.1 or newer:  TWS: 7497; IB Gateway: 4002\n"
     ]
    },
    {
     "name": "stdout",
     "output_type": "stream",
     "text": [
      "processing GS for 20200629 23:59:59 US/Eastern took   3.06 sec\n",
      "processing 20200729 23:59:59 US/Eastern\n"
     ]
    },
    {
     "name": "stderr",
     "output_type": "stream",
     "text": [
      "ERROR -1 502 Couldn't connect to TWS. Confirm that \"Enable ActiveX and Socket EClients\" \n",
      "is enabled and connection port is the same as \"Socket Port\" on the \n",
      "TWS \"Edit->Global Configuration...->API->Settings\" menu. Live Trading ports: \n",
      "TWS: 7496; IB Gateway: 4001. Simulated Trading ports for new installations \n",
      "of version 954.1 or newer:  TWS: 7497; IB Gateway: 4002\n"
     ]
    },
    {
     "name": "stdout",
     "output_type": "stream",
     "text": [
      "processing GS for 20200729 23:59:59 US/Eastern took   3.04 sec\n",
      "processing 20200828 23:59:59 US/Eastern\n"
     ]
    },
    {
     "name": "stderr",
     "output_type": "stream",
     "text": [
      "ERROR -1 502 Couldn't connect to TWS. Confirm that \"Enable ActiveX and Socket EClients\" \n",
      "is enabled and connection port is the same as \"Socket Port\" on the \n",
      "TWS \"Edit->Global Configuration...->API->Settings\" menu. Live Trading ports: \n",
      "TWS: 7496; IB Gateway: 4001. Simulated Trading ports for new installations \n",
      "of version 954.1 or newer:  TWS: 7497; IB Gateway: 4002\n"
     ]
    },
    {
     "name": "stdout",
     "output_type": "stream",
     "text": [
      "processing GS for 20200828 23:59:59 US/Eastern took   3.04 sec\n",
      "processing 20200927 23:59:59 US/Eastern\n"
     ]
    },
    {
     "name": "stderr",
     "output_type": "stream",
     "text": [
      "ERROR -1 502 Couldn't connect to TWS. Confirm that \"Enable ActiveX and Socket EClients\" \n",
      "is enabled and connection port is the same as \"Socket Port\" on the \n",
      "TWS \"Edit->Global Configuration...->API->Settings\" menu. Live Trading ports: \n",
      "TWS: 7496; IB Gateway: 4001. Simulated Trading ports for new installations \n",
      "of version 954.1 or newer:  TWS: 7497; IB Gateway: 4002\n"
     ]
    },
    {
     "name": "stdout",
     "output_type": "stream",
     "text": [
      "processing GS for 20200927 23:59:59 US/Eastern took   3.04 sec\n",
      "processing 20201027 23:59:59 US/Eastern\n"
     ]
    },
    {
     "name": "stderr",
     "output_type": "stream",
     "text": [
      "ERROR -1 502 Couldn't connect to TWS. Confirm that \"Enable ActiveX and Socket EClients\" \n",
      "is enabled and connection port is the same as \"Socket Port\" on the \n",
      "TWS \"Edit->Global Configuration...->API->Settings\" menu. Live Trading ports: \n",
      "TWS: 7496; IB Gateway: 4001. Simulated Trading ports for new installations \n",
      "of version 954.1 or newer:  TWS: 7497; IB Gateway: 4002\n"
     ]
    },
    {
     "name": "stdout",
     "output_type": "stream",
     "text": [
      "processing GS for 20201027 23:59:59 US/Eastern took   3.04 sec\n",
      "processing 20201126 23:59:59 US/Eastern\n"
     ]
    },
    {
     "name": "stderr",
     "output_type": "stream",
     "text": [
      "ERROR -1 502 Couldn't connect to TWS. Confirm that \"Enable ActiveX and Socket EClients\" \n",
      "is enabled and connection port is the same as \"Socket Port\" on the \n",
      "TWS \"Edit->Global Configuration...->API->Settings\" menu. Live Trading ports: \n",
      "TWS: 7496; IB Gateway: 4001. Simulated Trading ports for new installations \n",
      "of version 954.1 or newer:  TWS: 7497; IB Gateway: 4002\n"
     ]
    },
    {
     "name": "stdout",
     "output_type": "stream",
     "text": [
      "processing GS for 20201126 23:59:59 US/Eastern took   3.04 sec\n",
      "processing 20201226 23:59:59 US/Eastern\n"
     ]
    },
    {
     "name": "stderr",
     "output_type": "stream",
     "text": [
      "ERROR -1 502 Couldn't connect to TWS. Confirm that \"Enable ActiveX and Socket EClients\" \n",
      "is enabled and connection port is the same as \"Socket Port\" on the \n",
      "TWS \"Edit->Global Configuration...->API->Settings\" menu. Live Trading ports: \n",
      "TWS: 7496; IB Gateway: 4001. Simulated Trading ports for new installations \n",
      "of version 954.1 or newer:  TWS: 7497; IB Gateway: 4002\n"
     ]
    },
    {
     "name": "stdout",
     "output_type": "stream",
     "text": [
      "processing GS for 20201226 23:59:59 US/Eastern took   3.05 sec\n",
      "processing 20210125 23:59:59 US/Eastern\n"
     ]
    },
    {
     "name": "stderr",
     "output_type": "stream",
     "text": [
      "ERROR -1 502 Couldn't connect to TWS. Confirm that \"Enable ActiveX and Socket EClients\" \n",
      "is enabled and connection port is the same as \"Socket Port\" on the \n",
      "TWS \"Edit->Global Configuration...->API->Settings\" menu. Live Trading ports: \n",
      "TWS: 7496; IB Gateway: 4001. Simulated Trading ports for new installations \n",
      "of version 954.1 or newer:  TWS: 7497; IB Gateway: 4002\n"
     ]
    },
    {
     "name": "stdout",
     "output_type": "stream",
     "text": [
      "processing GS for 20210125 23:59:59 US/Eastern took   3.03 sec\n",
      "processing 20210224 23:59:59 US/Eastern\n"
     ]
    },
    {
     "name": "stderr",
     "output_type": "stream",
     "text": [
      "ERROR -1 502 Couldn't connect to TWS. Confirm that \"Enable ActiveX and Socket EClients\" \n",
      "is enabled and connection port is the same as \"Socket Port\" on the \n",
      "TWS \"Edit->Global Configuration...->API->Settings\" menu. Live Trading ports: \n",
      "TWS: 7496; IB Gateway: 4001. Simulated Trading ports for new installations \n",
      "of version 954.1 or newer:  TWS: 7497; IB Gateway: 4002\n"
     ]
    },
    {
     "name": "stdout",
     "output_type": "stream",
     "text": [
      "processing GS for 20210224 23:59:59 US/Eastern took   3.04 sec\n",
      "processing 20210326 23:59:59 US/Eastern\n"
     ]
    },
    {
     "name": "stderr",
     "output_type": "stream",
     "text": [
      "ERROR -1 502 Couldn't connect to TWS. Confirm that \"Enable ActiveX and Socket EClients\" \n",
      "is enabled and connection port is the same as \"Socket Port\" on the \n",
      "TWS \"Edit->Global Configuration...->API->Settings\" menu. Live Trading ports: \n",
      "TWS: 7496; IB Gateway: 4001. Simulated Trading ports for new installations \n",
      "of version 954.1 or newer:  TWS: 7497; IB Gateway: 4002\n"
     ]
    },
    {
     "name": "stdout",
     "output_type": "stream",
     "text": [
      "processing GS for 20210326 23:59:59 US/Eastern took   3.05 sec\n",
      "processing 20210425 23:59:59 US/Eastern\n"
     ]
    },
    {
     "name": "stderr",
     "output_type": "stream",
     "text": [
      "ERROR -1 502 Couldn't connect to TWS. Confirm that \"Enable ActiveX and Socket EClients\" \n",
      "is enabled and connection port is the same as \"Socket Port\" on the \n",
      "TWS \"Edit->Global Configuration...->API->Settings\" menu. Live Trading ports: \n",
      "TWS: 7496; IB Gateway: 4001. Simulated Trading ports for new installations \n",
      "of version 954.1 or newer:  TWS: 7497; IB Gateway: 4002\n"
     ]
    },
    {
     "name": "stdout",
     "output_type": "stream",
     "text": [
      "processing GS for 20210425 23:59:59 US/Eastern took   3.04 sec\n",
      "processing 20210525 23:59:59 US/Eastern\n"
     ]
    },
    {
     "name": "stderr",
     "output_type": "stream",
     "text": [
      "ERROR -1 502 Couldn't connect to TWS. Confirm that \"Enable ActiveX and Socket EClients\" \n",
      "is enabled and connection port is the same as \"Socket Port\" on the \n",
      "TWS \"Edit->Global Configuration...->API->Settings\" menu. Live Trading ports: \n",
      "TWS: 7496; IB Gateway: 4001. Simulated Trading ports for new installations \n",
      "of version 954.1 or newer:  TWS: 7497; IB Gateway: 4002\n"
     ]
    },
    {
     "name": "stdout",
     "output_type": "stream",
     "text": [
      "processing GS for 20210525 23:59:59 US/Eastern took   3.04 sec\n",
      "processing 20210624 23:59:59 US/Eastern\n"
     ]
    },
    {
     "name": "stderr",
     "output_type": "stream",
     "text": [
      "ERROR -1 502 Couldn't connect to TWS. Confirm that \"Enable ActiveX and Socket EClients\" \n",
      "is enabled and connection port is the same as \"Socket Port\" on the \n",
      "TWS \"Edit->Global Configuration...->API->Settings\" menu. Live Trading ports: \n",
      "TWS: 7496; IB Gateway: 4001. Simulated Trading ports for new installations \n",
      "of version 954.1 or newer:  TWS: 7497; IB Gateway: 4002\n"
     ]
    },
    {
     "name": "stdout",
     "output_type": "stream",
     "text": [
      "processing GS for 20210624 23:59:59 US/Eastern took   3.03 sec\n",
      "processing 20210724 23:59:59 US/Eastern\n"
     ]
    },
    {
     "name": "stderr",
     "output_type": "stream",
     "text": [
      "ERROR -1 502 Couldn't connect to TWS. Confirm that \"Enable ActiveX and Socket EClients\" \n",
      "is enabled and connection port is the same as \"Socket Port\" on the \n",
      "TWS \"Edit->Global Configuration...->API->Settings\" menu. Live Trading ports: \n",
      "TWS: 7496; IB Gateway: 4001. Simulated Trading ports for new installations \n",
      "of version 954.1 or newer:  TWS: 7497; IB Gateway: 4002\n"
     ]
    },
    {
     "name": "stdout",
     "output_type": "stream",
     "text": [
      "processing GS for 20210724 23:59:59 US/Eastern took   3.05 sec\n",
      "processing 20210823 23:59:59 US/Eastern\n"
     ]
    },
    {
     "name": "stderr",
     "output_type": "stream",
     "text": [
      "ERROR -1 502 Couldn't connect to TWS. Confirm that \"Enable ActiveX and Socket EClients\" \n",
      "is enabled and connection port is the same as \"Socket Port\" on the \n",
      "TWS \"Edit->Global Configuration...->API->Settings\" menu. Live Trading ports: \n",
      "TWS: 7496; IB Gateway: 4001. Simulated Trading ports for new installations \n",
      "of version 954.1 or newer:  TWS: 7497; IB Gateway: 4002\n"
     ]
    },
    {
     "name": "stdout",
     "output_type": "stream",
     "text": [
      "processing GS for 20210823 23:59:59 US/Eastern took   3.04 sec\n",
      "processing 20210922 23:59:59 US/Eastern\n"
     ]
    },
    {
     "name": "stderr",
     "output_type": "stream",
     "text": [
      "ERROR -1 502 Couldn't connect to TWS. Confirm that \"Enable ActiveX and Socket EClients\" \n",
      "is enabled and connection port is the same as \"Socket Port\" on the \n",
      "TWS \"Edit->Global Configuration...->API->Settings\" menu. Live Trading ports: \n",
      "TWS: 7496; IB Gateway: 4001. Simulated Trading ports for new installations \n",
      "of version 954.1 or newer:  TWS: 7497; IB Gateway: 4002\n"
     ]
    },
    {
     "name": "stdout",
     "output_type": "stream",
     "text": [
      "processing GS for 20210922 23:59:59 US/Eastern took   3.05 sec\n",
      "processing 20211022 23:59:59 US/Eastern\n"
     ]
    },
    {
     "name": "stderr",
     "output_type": "stream",
     "text": [
      "ERROR -1 502 Couldn't connect to TWS. Confirm that \"Enable ActiveX and Socket EClients\" \n",
      "is enabled and connection port is the same as \"Socket Port\" on the \n",
      "TWS \"Edit->Global Configuration...->API->Settings\" menu. Live Trading ports: \n",
      "TWS: 7496; IB Gateway: 4001. Simulated Trading ports for new installations \n",
      "of version 954.1 or newer:  TWS: 7497; IB Gateway: 4002\n"
     ]
    },
    {
     "name": "stdout",
     "output_type": "stream",
     "text": [
      "processing GS for 20211022 23:59:59 US/Eastern took   3.04 sec\n",
      "processing 20211121 23:59:59 US/Eastern\n"
     ]
    },
    {
     "name": "stderr",
     "output_type": "stream",
     "text": [
      "ERROR -1 502 Couldn't connect to TWS. Confirm that \"Enable ActiveX and Socket EClients\" \n",
      "is enabled and connection port is the same as \"Socket Port\" on the \n",
      "TWS \"Edit->Global Configuration...->API->Settings\" menu. Live Trading ports: \n",
      "TWS: 7496; IB Gateway: 4001. Simulated Trading ports for new installations \n",
      "of version 954.1 or newer:  TWS: 7497; IB Gateway: 4002\n"
     ]
    },
    {
     "name": "stdout",
     "output_type": "stream",
     "text": [
      "processing GS for 20211121 23:59:59 US/Eastern took   3.06 sec\n",
      "processing 20211221 23:59:59 US/Eastern\n"
     ]
    },
    {
     "name": "stderr",
     "output_type": "stream",
     "text": [
      "ERROR -1 502 Couldn't connect to TWS. Confirm that \"Enable ActiveX and Socket EClients\" \n",
      "is enabled and connection port is the same as \"Socket Port\" on the \n",
      "TWS \"Edit->Global Configuration...->API->Settings\" menu. Live Trading ports: \n",
      "TWS: 7496; IB Gateway: 4001. Simulated Trading ports for new installations \n",
      "of version 954.1 or newer:  TWS: 7497; IB Gateway: 4002\n"
     ]
    },
    {
     "name": "stdout",
     "output_type": "stream",
     "text": [
      "processing GS for 20211221 23:59:59 US/Eastern took   3.06 sec\n",
      "processing 20220120 23:59:59 US/Eastern\n"
     ]
    },
    {
     "name": "stderr",
     "output_type": "stream",
     "text": [
      "ERROR -1 502 Couldn't connect to TWS. Confirm that \"Enable ActiveX and Socket EClients\" \n",
      "is enabled and connection port is the same as \"Socket Port\" on the \n",
      "TWS \"Edit->Global Configuration...->API->Settings\" menu. Live Trading ports: \n",
      "TWS: 7496; IB Gateway: 4001. Simulated Trading ports for new installations \n",
      "of version 954.1 or newer:  TWS: 7497; IB Gateway: 4002\n"
     ]
    },
    {
     "name": "stdout",
     "output_type": "stream",
     "text": [
      "processing GS for 20220120 23:59:59 US/Eastern took   3.05 sec\n",
      "processing 20220219 23:59:59 US/Eastern\n"
     ]
    },
    {
     "name": "stderr",
     "output_type": "stream",
     "text": [
      "ERROR -1 502 Couldn't connect to TWS. Confirm that \"Enable ActiveX and Socket EClients\" \n",
      "is enabled and connection port is the same as \"Socket Port\" on the \n",
      "TWS \"Edit->Global Configuration...->API->Settings\" menu. Live Trading ports: \n",
      "TWS: 7496; IB Gateway: 4001. Simulated Trading ports for new installations \n",
      "of version 954.1 or newer:  TWS: 7497; IB Gateway: 4002\n"
     ]
    },
    {
     "name": "stdout",
     "output_type": "stream",
     "text": [
      "processing GS for 20220219 23:59:59 US/Eastern took   3.06 sec\n",
      "processing 20220321 23:59:59 US/Eastern\n"
     ]
    },
    {
     "name": "stderr",
     "output_type": "stream",
     "text": [
      "ERROR -1 502 Couldn't connect to TWS. Confirm that \"Enable ActiveX and Socket EClients\" \n",
      "is enabled and connection port is the same as \"Socket Port\" on the \n",
      "TWS \"Edit->Global Configuration...->API->Settings\" menu. Live Trading ports: \n",
      "TWS: 7496; IB Gateway: 4001. Simulated Trading ports for new installations \n",
      "of version 954.1 or newer:  TWS: 7497; IB Gateway: 4002\n"
     ]
    },
    {
     "name": "stdout",
     "output_type": "stream",
     "text": [
      "processing GS for 20220321 23:59:59 US/Eastern took   3.05 sec\n",
      "processing 20220420 23:59:59 US/Eastern\n"
     ]
    },
    {
     "name": "stderr",
     "output_type": "stream",
     "text": [
      "ERROR -1 502 Couldn't connect to TWS. Confirm that \"Enable ActiveX and Socket EClients\" \n",
      "is enabled and connection port is the same as \"Socket Port\" on the \n",
      "TWS \"Edit->Global Configuration...->API->Settings\" menu. Live Trading ports: \n",
      "TWS: 7496; IB Gateway: 4001. Simulated Trading ports for new installations \n",
      "of version 954.1 or newer:  TWS: 7497; IB Gateway: 4002\n"
     ]
    },
    {
     "name": "stdout",
     "output_type": "stream",
     "text": [
      "processing GS for 20220420 23:59:59 US/Eastern took   3.05 sec\n",
      "processing 20220520 23:59:59 US/Eastern\n"
     ]
    },
    {
     "name": "stderr",
     "output_type": "stream",
     "text": [
      "ERROR -1 502 Couldn't connect to TWS. Confirm that \"Enable ActiveX and Socket EClients\" \n",
      "is enabled and connection port is the same as \"Socket Port\" on the \n",
      "TWS \"Edit->Global Configuration...->API->Settings\" menu. Live Trading ports: \n",
      "TWS: 7496; IB Gateway: 4001. Simulated Trading ports for new installations \n",
      "of version 954.1 or newer:  TWS: 7497; IB Gateway: 4002\n"
     ]
    },
    {
     "name": "stdout",
     "output_type": "stream",
     "text": [
      "processing GS for 20220520 23:59:59 US/Eastern took   3.07 sec\n",
      "processing 20220619 23:59:59 US/Eastern\n"
     ]
    },
    {
     "name": "stderr",
     "output_type": "stream",
     "text": [
      "ERROR -1 502 Couldn't connect to TWS. Confirm that \"Enable ActiveX and Socket EClients\" \n",
      "is enabled and connection port is the same as \"Socket Port\" on the \n",
      "TWS \"Edit->Global Configuration...->API->Settings\" menu. Live Trading ports: \n",
      "TWS: 7496; IB Gateway: 4001. Simulated Trading ports for new installations \n",
      "of version 954.1 or newer:  TWS: 7497; IB Gateway: 4002\n"
     ]
    },
    {
     "name": "stdout",
     "output_type": "stream",
     "text": [
      "processing GS for 20220619 23:59:59 US/Eastern took   3.06 sec\n",
      "processing 20220719 23:59:59 US/Eastern\n"
     ]
    },
    {
     "name": "stderr",
     "output_type": "stream",
     "text": [
      "ERROR -1 502 Couldn't connect to TWS. Confirm that \"Enable ActiveX and Socket EClients\" \n",
      "is enabled and connection port is the same as \"Socket Port\" on the \n",
      "TWS \"Edit->Global Configuration...->API->Settings\" menu. Live Trading ports: \n",
      "TWS: 7496; IB Gateway: 4001. Simulated Trading ports for new installations \n",
      "of version 954.1 or newer:  TWS: 7497; IB Gateway: 4002\n"
     ]
    },
    {
     "name": "stdout",
     "output_type": "stream",
     "text": [
      "processing GS for 20220719 23:59:59 US/Eastern took   3.05 sec\n",
      "processing 20220818 23:59:59 US/Eastern\n"
     ]
    },
    {
     "name": "stderr",
     "output_type": "stream",
     "text": [
      "ERROR -1 502 Couldn't connect to TWS. Confirm that \"Enable ActiveX and Socket EClients\" \n",
      "is enabled and connection port is the same as \"Socket Port\" on the \n",
      "TWS \"Edit->Global Configuration...->API->Settings\" menu. Live Trading ports: \n",
      "TWS: 7496; IB Gateway: 4001. Simulated Trading ports for new installations \n",
      "of version 954.1 or newer:  TWS: 7497; IB Gateway: 4002\n"
     ]
    },
    {
     "name": "stdout",
     "output_type": "stream",
     "text": [
      "processing GS for 20220818 23:59:59 US/Eastern took   3.06 sec\n",
      "processing 20220917 23:59:59 US/Eastern\n"
     ]
    },
    {
     "name": "stderr",
     "output_type": "stream",
     "text": [
      "ERROR -1 502 Couldn't connect to TWS. Confirm that \"Enable ActiveX and Socket EClients\" \n",
      "is enabled and connection port is the same as \"Socket Port\" on the \n",
      "TWS \"Edit->Global Configuration...->API->Settings\" menu. Live Trading ports: \n",
      "TWS: 7496; IB Gateway: 4001. Simulated Trading ports for new installations \n",
      "of version 954.1 or newer:  TWS: 7497; IB Gateway: 4002\n"
     ]
    },
    {
     "name": "stdout",
     "output_type": "stream",
     "text": [
      "processing GS for 20220917 23:59:59 US/Eastern took   3.05 sec\n",
      "processing 20221017 23:59:59 US/Eastern\n"
     ]
    },
    {
     "name": "stderr",
     "output_type": "stream",
     "text": [
      "ERROR -1 502 Couldn't connect to TWS. Confirm that \"Enable ActiveX and Socket EClients\" \n",
      "is enabled and connection port is the same as \"Socket Port\" on the \n",
      "TWS \"Edit->Global Configuration...->API->Settings\" menu. Live Trading ports: \n",
      "TWS: 7496; IB Gateway: 4001. Simulated Trading ports for new installations \n",
      "of version 954.1 or newer:  TWS: 7497; IB Gateway: 4002\n"
     ]
    },
    {
     "name": "stdout",
     "output_type": "stream",
     "text": [
      "processing GS for 20221017 23:59:59 US/Eastern took   3.06 sec\n",
      "processing 20221116 23:59:59 US/Eastern\n"
     ]
    },
    {
     "name": "stderr",
     "output_type": "stream",
     "text": [
      "ERROR -1 502 Couldn't connect to TWS. Confirm that \"Enable ActiveX and Socket EClients\" \n",
      "is enabled and connection port is the same as \"Socket Port\" on the \n",
      "TWS \"Edit->Global Configuration...->API->Settings\" menu. Live Trading ports: \n",
      "TWS: 7496; IB Gateway: 4001. Simulated Trading ports for new installations \n",
      "of version 954.1 or newer:  TWS: 7497; IB Gateway: 4002\n"
     ]
    },
    {
     "name": "stdout",
     "output_type": "stream",
     "text": [
      "processing GS for 20221116 23:59:59 US/Eastern took   3.06 sec\n",
      "processing 20221216 23:59:59 US/Eastern\n"
     ]
    },
    {
     "name": "stderr",
     "output_type": "stream",
     "text": [
      "ERROR -1 502 Couldn't connect to TWS. Confirm that \"Enable ActiveX and Socket EClients\" \n",
      "is enabled and connection port is the same as \"Socket Port\" on the \n",
      "TWS \"Edit->Global Configuration...->API->Settings\" menu. Live Trading ports: \n",
      "TWS: 7496; IB Gateway: 4001. Simulated Trading ports for new installations \n",
      "of version 954.1 or newer:  TWS: 7497; IB Gateway: 4002\n"
     ]
    },
    {
     "name": "stdout",
     "output_type": "stream",
     "text": [
      "processing GS for 20221216 23:59:59 US/Eastern took   3.04 sec\n",
      "processing 20230115 23:59:59 US/Eastern\n"
     ]
    },
    {
     "name": "stderr",
     "output_type": "stream",
     "text": [
      "ERROR -1 502 Couldn't connect to TWS. Confirm that \"Enable ActiveX and Socket EClients\" \n",
      "is enabled and connection port is the same as \"Socket Port\" on the \n",
      "TWS \"Edit->Global Configuration...->API->Settings\" menu. Live Trading ports: \n",
      "TWS: 7496; IB Gateway: 4001. Simulated Trading ports for new installations \n",
      "of version 954.1 or newer:  TWS: 7497; IB Gateway: 4002\n"
     ]
    },
    {
     "name": "stdout",
     "output_type": "stream",
     "text": [
      "processing GS for 20230115 23:59:59 US/Eastern took   3.05 sec\n",
      "processing 20230214 23:59:59 US/Eastern\n"
     ]
    },
    {
     "name": "stderr",
     "output_type": "stream",
     "text": [
      "ERROR -1 502 Couldn't connect to TWS. Confirm that \"Enable ActiveX and Socket EClients\" \n",
      "is enabled and connection port is the same as \"Socket Port\" on the \n",
      "TWS \"Edit->Global Configuration...->API->Settings\" menu. Live Trading ports: \n",
      "TWS: 7496; IB Gateway: 4001. Simulated Trading ports for new installations \n",
      "of version 954.1 or newer:  TWS: 7497; IB Gateway: 4002\n"
     ]
    },
    {
     "name": "stdout",
     "output_type": "stream",
     "text": [
      "processing GS for 20230214 23:59:59 US/Eastern took   3.04 sec\n",
      "processing 20230316 23:59:59 US/Eastern\n"
     ]
    },
    {
     "name": "stderr",
     "output_type": "stream",
     "text": [
      "ERROR -1 502 Couldn't connect to TWS. Confirm that \"Enable ActiveX and Socket EClients\" \n",
      "is enabled and connection port is the same as \"Socket Port\" on the \n",
      "TWS \"Edit->Global Configuration...->API->Settings\" menu. Live Trading ports: \n",
      "TWS: 7496; IB Gateway: 4001. Simulated Trading ports for new installations \n",
      "of version 954.1 or newer:  TWS: 7497; IB Gateway: 4002\n"
     ]
    },
    {
     "name": "stdout",
     "output_type": "stream",
     "text": [
      "processing GS for 20230316 23:59:59 US/Eastern took   3.04 sec\n",
      "Processing HD\n",
      "processing 20200101 23:59:59 US/Eastern\n"
     ]
    },
    {
     "name": "stderr",
     "output_type": "stream",
     "text": [
      "ERROR -1 502 Couldn't connect to TWS. Confirm that \"Enable ActiveX and Socket EClients\" \n",
      "is enabled and connection port is the same as \"Socket Port\" on the \n",
      "TWS \"Edit->Global Configuration...->API->Settings\" menu. Live Trading ports: \n",
      "TWS: 7496; IB Gateway: 4001. Simulated Trading ports for new installations \n",
      "of version 954.1 or newer:  TWS: 7497; IB Gateway: 4002\n"
     ]
    },
    {
     "name": "stdout",
     "output_type": "stream",
     "text": [
      "processing HD for 20200101 23:59:59 US/Eastern took   3.06 sec\n",
      "processing 20200131 23:59:59 US/Eastern\n"
     ]
    },
    {
     "name": "stderr",
     "output_type": "stream",
     "text": [
      "ERROR -1 502 Couldn't connect to TWS. Confirm that \"Enable ActiveX and Socket EClients\" \n",
      "is enabled and connection port is the same as \"Socket Port\" on the \n",
      "TWS \"Edit->Global Configuration...->API->Settings\" menu. Live Trading ports: \n",
      "TWS: 7496; IB Gateway: 4001. Simulated Trading ports for new installations \n",
      "of version 954.1 or newer:  TWS: 7497; IB Gateway: 4002\n"
     ]
    },
    {
     "name": "stdout",
     "output_type": "stream",
     "text": [
      "processing HD for 20200131 23:59:59 US/Eastern took   3.06 sec\n",
      "processing 20200301 23:59:59 US/Eastern\n"
     ]
    },
    {
     "name": "stderr",
     "output_type": "stream",
     "text": [
      "ERROR -1 502 Couldn't connect to TWS. Confirm that \"Enable ActiveX and Socket EClients\" \n",
      "is enabled and connection port is the same as \"Socket Port\" on the \n",
      "TWS \"Edit->Global Configuration...->API->Settings\" menu. Live Trading ports: \n",
      "TWS: 7496; IB Gateway: 4001. Simulated Trading ports for new installations \n",
      "of version 954.1 or newer:  TWS: 7497; IB Gateway: 4002\n"
     ]
    },
    {
     "name": "stdout",
     "output_type": "stream",
     "text": [
      "processing HD for 20200301 23:59:59 US/Eastern took   3.06 sec\n",
      "processing 20200331 23:59:59 US/Eastern\n"
     ]
    },
    {
     "name": "stderr",
     "output_type": "stream",
     "text": [
      "ERROR -1 502 Couldn't connect to TWS. Confirm that \"Enable ActiveX and Socket EClients\" \n",
      "is enabled and connection port is the same as \"Socket Port\" on the \n",
      "TWS \"Edit->Global Configuration...->API->Settings\" menu. Live Trading ports: \n",
      "TWS: 7496; IB Gateway: 4001. Simulated Trading ports for new installations \n",
      "of version 954.1 or newer:  TWS: 7497; IB Gateway: 4002\n"
     ]
    },
    {
     "name": "stdout",
     "output_type": "stream",
     "text": [
      "processing HD for 20200331 23:59:59 US/Eastern took   3.05 sec\n",
      "processing 20200430 23:59:59 US/Eastern\n"
     ]
    },
    {
     "name": "stderr",
     "output_type": "stream",
     "text": [
      "ERROR -1 502 Couldn't connect to TWS. Confirm that \"Enable ActiveX and Socket EClients\" \n",
      "is enabled and connection port is the same as \"Socket Port\" on the \n",
      "TWS \"Edit->Global Configuration...->API->Settings\" menu. Live Trading ports: \n",
      "TWS: 7496; IB Gateway: 4001. Simulated Trading ports for new installations \n",
      "of version 954.1 or newer:  TWS: 7497; IB Gateway: 4002\n"
     ]
    },
    {
     "name": "stdout",
     "output_type": "stream",
     "text": [
      "processing HD for 20200430 23:59:59 US/Eastern took   3.05 sec\n",
      "processing 20200530 23:59:59 US/Eastern\n"
     ]
    },
    {
     "name": "stderr",
     "output_type": "stream",
     "text": [
      "ERROR -1 502 Couldn't connect to TWS. Confirm that \"Enable ActiveX and Socket EClients\" \n",
      "is enabled and connection port is the same as \"Socket Port\" on the \n",
      "TWS \"Edit->Global Configuration...->API->Settings\" menu. Live Trading ports: \n",
      "TWS: 7496; IB Gateway: 4001. Simulated Trading ports for new installations \n",
      "of version 954.1 or newer:  TWS: 7497; IB Gateway: 4002\n"
     ]
    },
    {
     "name": "stdout",
     "output_type": "stream",
     "text": [
      "processing HD for 20200530 23:59:59 US/Eastern took   3.04 sec\n",
      "processing 20200629 23:59:59 US/Eastern\n"
     ]
    },
    {
     "name": "stderr",
     "output_type": "stream",
     "text": [
      "ERROR -1 502 Couldn't connect to TWS. Confirm that \"Enable ActiveX and Socket EClients\" \n",
      "is enabled and connection port is the same as \"Socket Port\" on the \n",
      "TWS \"Edit->Global Configuration...->API->Settings\" menu. Live Trading ports: \n",
      "TWS: 7496; IB Gateway: 4001. Simulated Trading ports for new installations \n",
      "of version 954.1 or newer:  TWS: 7497; IB Gateway: 4002\n"
     ]
    },
    {
     "name": "stdout",
     "output_type": "stream",
     "text": [
      "processing HD for 20200629 23:59:59 US/Eastern took   3.04 sec\n",
      "processing 20200729 23:59:59 US/Eastern\n"
     ]
    },
    {
     "name": "stderr",
     "output_type": "stream",
     "text": [
      "ERROR -1 502 Couldn't connect to TWS. Confirm that \"Enable ActiveX and Socket EClients\" \n",
      "is enabled and connection port is the same as \"Socket Port\" on the \n",
      "TWS \"Edit->Global Configuration...->API->Settings\" menu. Live Trading ports: \n",
      "TWS: 7496; IB Gateway: 4001. Simulated Trading ports for new installations \n",
      "of version 954.1 or newer:  TWS: 7497; IB Gateway: 4002\n"
     ]
    },
    {
     "name": "stdout",
     "output_type": "stream",
     "text": [
      "processing HD for 20200729 23:59:59 US/Eastern took   3.05 sec\n",
      "processing 20200828 23:59:59 US/Eastern\n"
     ]
    },
    {
     "name": "stderr",
     "output_type": "stream",
     "text": [
      "ERROR -1 502 Couldn't connect to TWS. Confirm that \"Enable ActiveX and Socket EClients\" \n",
      "is enabled and connection port is the same as \"Socket Port\" on the \n",
      "TWS \"Edit->Global Configuration...->API->Settings\" menu. Live Trading ports: \n",
      "TWS: 7496; IB Gateway: 4001. Simulated Trading ports for new installations \n",
      "of version 954.1 or newer:  TWS: 7497; IB Gateway: 4002\n"
     ]
    },
    {
     "name": "stdout",
     "output_type": "stream",
     "text": [
      "processing HD for 20200828 23:59:59 US/Eastern took   3.04 sec\n",
      "processing 20200927 23:59:59 US/Eastern\n"
     ]
    },
    {
     "name": "stderr",
     "output_type": "stream",
     "text": [
      "ERROR -1 502 Couldn't connect to TWS. Confirm that \"Enable ActiveX and Socket EClients\" \n",
      "is enabled and connection port is the same as \"Socket Port\" on the \n",
      "TWS \"Edit->Global Configuration...->API->Settings\" menu. Live Trading ports: \n",
      "TWS: 7496; IB Gateway: 4001. Simulated Trading ports for new installations \n",
      "of version 954.1 or newer:  TWS: 7497; IB Gateway: 4002\n"
     ]
    },
    {
     "name": "stdout",
     "output_type": "stream",
     "text": [
      "processing HD for 20200927 23:59:59 US/Eastern took   3.06 sec\n",
      "processing 20201027 23:59:59 US/Eastern\n"
     ]
    },
    {
     "name": "stderr",
     "output_type": "stream",
     "text": [
      "ERROR -1 502 Couldn't connect to TWS. Confirm that \"Enable ActiveX and Socket EClients\" \n",
      "is enabled and connection port is the same as \"Socket Port\" on the \n",
      "TWS \"Edit->Global Configuration...->API->Settings\" menu. Live Trading ports: \n",
      "TWS: 7496; IB Gateway: 4001. Simulated Trading ports for new installations \n",
      "of version 954.1 or newer:  TWS: 7497; IB Gateway: 4002\n"
     ]
    },
    {
     "name": "stdout",
     "output_type": "stream",
     "text": [
      "processing HD for 20201027 23:59:59 US/Eastern took   3.06 sec\n",
      "processing 20201126 23:59:59 US/Eastern\n"
     ]
    },
    {
     "name": "stderr",
     "output_type": "stream",
     "text": [
      "ERROR -1 502 Couldn't connect to TWS. Confirm that \"Enable ActiveX and Socket EClients\" \n",
      "is enabled and connection port is the same as \"Socket Port\" on the \n",
      "TWS \"Edit->Global Configuration...->API->Settings\" menu. Live Trading ports: \n",
      "TWS: 7496; IB Gateway: 4001. Simulated Trading ports for new installations \n",
      "of version 954.1 or newer:  TWS: 7497; IB Gateway: 4002\n"
     ]
    },
    {
     "name": "stdout",
     "output_type": "stream",
     "text": [
      "processing HD for 20201126 23:59:59 US/Eastern took   3.04 sec\n",
      "processing 20201226 23:59:59 US/Eastern\n"
     ]
    },
    {
     "name": "stderr",
     "output_type": "stream",
     "text": [
      "ERROR -1 502 Couldn't connect to TWS. Confirm that \"Enable ActiveX and Socket EClients\" \n",
      "is enabled and connection port is the same as \"Socket Port\" on the \n",
      "TWS \"Edit->Global Configuration...->API->Settings\" menu. Live Trading ports: \n",
      "TWS: 7496; IB Gateway: 4001. Simulated Trading ports for new installations \n",
      "of version 954.1 or newer:  TWS: 7497; IB Gateway: 4002\n"
     ]
    },
    {
     "name": "stdout",
     "output_type": "stream",
     "text": [
      "processing HD for 20201226 23:59:59 US/Eastern took   3.04 sec\n",
      "processing 20210125 23:59:59 US/Eastern\n"
     ]
    },
    {
     "name": "stderr",
     "output_type": "stream",
     "text": [
      "ERROR -1 502 Couldn't connect to TWS. Confirm that \"Enable ActiveX and Socket EClients\" \n",
      "is enabled and connection port is the same as \"Socket Port\" on the \n",
      "TWS \"Edit->Global Configuration...->API->Settings\" menu. Live Trading ports: \n",
      "TWS: 7496; IB Gateway: 4001. Simulated Trading ports for new installations \n",
      "of version 954.1 or newer:  TWS: 7497; IB Gateway: 4002\n"
     ]
    },
    {
     "name": "stdout",
     "output_type": "stream",
     "text": [
      "processing HD for 20210125 23:59:59 US/Eastern took   3.06 sec\n",
      "processing 20210224 23:59:59 US/Eastern\n"
     ]
    },
    {
     "name": "stderr",
     "output_type": "stream",
     "text": [
      "ERROR -1 502 Couldn't connect to TWS. Confirm that \"Enable ActiveX and Socket EClients\" \n",
      "is enabled and connection port is the same as \"Socket Port\" on the \n",
      "TWS \"Edit->Global Configuration...->API->Settings\" menu. Live Trading ports: \n",
      "TWS: 7496; IB Gateway: 4001. Simulated Trading ports for new installations \n",
      "of version 954.1 or newer:  TWS: 7497; IB Gateway: 4002\n"
     ]
    },
    {
     "name": "stdout",
     "output_type": "stream",
     "text": [
      "processing HD for 20210224 23:59:59 US/Eastern took   3.04 sec\n",
      "processing 20210326 23:59:59 US/Eastern\n"
     ]
    },
    {
     "name": "stderr",
     "output_type": "stream",
     "text": [
      "ERROR -1 502 Couldn't connect to TWS. Confirm that \"Enable ActiveX and Socket EClients\" \n",
      "is enabled and connection port is the same as \"Socket Port\" on the \n",
      "TWS \"Edit->Global Configuration...->API->Settings\" menu. Live Trading ports: \n",
      "TWS: 7496; IB Gateway: 4001. Simulated Trading ports for new installations \n",
      "of version 954.1 or newer:  TWS: 7497; IB Gateway: 4002\n"
     ]
    },
    {
     "name": "stdout",
     "output_type": "stream",
     "text": [
      "processing HD for 20210326 23:59:59 US/Eastern took   3.03 sec\n",
      "processing 20210425 23:59:59 US/Eastern\n"
     ]
    },
    {
     "name": "stderr",
     "output_type": "stream",
     "text": [
      "ERROR -1 502 Couldn't connect to TWS. Confirm that \"Enable ActiveX and Socket EClients\" \n",
      "is enabled and connection port is the same as \"Socket Port\" on the \n",
      "TWS \"Edit->Global Configuration...->API->Settings\" menu. Live Trading ports: \n",
      "TWS: 7496; IB Gateway: 4001. Simulated Trading ports for new installations \n",
      "of version 954.1 or newer:  TWS: 7497; IB Gateway: 4002\n"
     ]
    },
    {
     "name": "stdout",
     "output_type": "stream",
     "text": [
      "processing HD for 20210425 23:59:59 US/Eastern took   3.03 sec\n",
      "processing 20210525 23:59:59 US/Eastern\n"
     ]
    },
    {
     "name": "stderr",
     "output_type": "stream",
     "text": [
      "ERROR -1 502 Couldn't connect to TWS. Confirm that \"Enable ActiveX and Socket EClients\" \n",
      "is enabled and connection port is the same as \"Socket Port\" on the \n",
      "TWS \"Edit->Global Configuration...->API->Settings\" menu. Live Trading ports: \n",
      "TWS: 7496; IB Gateway: 4001. Simulated Trading ports for new installations \n",
      "of version 954.1 or newer:  TWS: 7497; IB Gateway: 4002\n"
     ]
    },
    {
     "name": "stdout",
     "output_type": "stream",
     "text": [
      "processing HD for 20210525 23:59:59 US/Eastern took   3.04 sec\n",
      "processing 20210624 23:59:59 US/Eastern\n"
     ]
    },
    {
     "name": "stderr",
     "output_type": "stream",
     "text": [
      "ERROR -1 502 Couldn't connect to TWS. Confirm that \"Enable ActiveX and Socket EClients\" \n",
      "is enabled and connection port is the same as \"Socket Port\" on the \n",
      "TWS \"Edit->Global Configuration...->API->Settings\" menu. Live Trading ports: \n",
      "TWS: 7496; IB Gateway: 4001. Simulated Trading ports for new installations \n",
      "of version 954.1 or newer:  TWS: 7497; IB Gateway: 4002\n"
     ]
    },
    {
     "name": "stdout",
     "output_type": "stream",
     "text": [
      "processing HD for 20210624 23:59:59 US/Eastern took   3.07 sec\n",
      "processing 20210724 23:59:59 US/Eastern\n"
     ]
    },
    {
     "name": "stderr",
     "output_type": "stream",
     "text": [
      "ERROR -1 502 Couldn't connect to TWS. Confirm that \"Enable ActiveX and Socket EClients\" \n",
      "is enabled and connection port is the same as \"Socket Port\" on the \n",
      "TWS \"Edit->Global Configuration...->API->Settings\" menu. Live Trading ports: \n",
      "TWS: 7496; IB Gateway: 4001. Simulated Trading ports for new installations \n",
      "of version 954.1 or newer:  TWS: 7497; IB Gateway: 4002\n"
     ]
    },
    {
     "name": "stdout",
     "output_type": "stream",
     "text": [
      "processing HD for 20210724 23:59:59 US/Eastern took   3.05 sec\n",
      "processing 20210823 23:59:59 US/Eastern\n"
     ]
    },
    {
     "name": "stderr",
     "output_type": "stream",
     "text": [
      "ERROR -1 502 Couldn't connect to TWS. Confirm that \"Enable ActiveX and Socket EClients\" \n",
      "is enabled and connection port is the same as \"Socket Port\" on the \n",
      "TWS \"Edit->Global Configuration...->API->Settings\" menu. Live Trading ports: \n",
      "TWS: 7496; IB Gateway: 4001. Simulated Trading ports for new installations \n",
      "of version 954.1 or newer:  TWS: 7497; IB Gateway: 4002\n"
     ]
    },
    {
     "name": "stdout",
     "output_type": "stream",
     "text": [
      "processing HD for 20210823 23:59:59 US/Eastern took   3.05 sec\n",
      "processing 20210922 23:59:59 US/Eastern\n"
     ]
    },
    {
     "name": "stderr",
     "output_type": "stream",
     "text": [
      "ERROR -1 502 Couldn't connect to TWS. Confirm that \"Enable ActiveX and Socket EClients\" \n",
      "is enabled and connection port is the same as \"Socket Port\" on the \n",
      "TWS \"Edit->Global Configuration...->API->Settings\" menu. Live Trading ports: \n",
      "TWS: 7496; IB Gateway: 4001. Simulated Trading ports for new installations \n",
      "of version 954.1 or newer:  TWS: 7497; IB Gateway: 4002\n"
     ]
    },
    {
     "name": "stdout",
     "output_type": "stream",
     "text": [
      "processing HD for 20210922 23:59:59 US/Eastern took   3.04 sec\n",
      "processing 20211022 23:59:59 US/Eastern\n"
     ]
    },
    {
     "name": "stderr",
     "output_type": "stream",
     "text": [
      "ERROR -1 502 Couldn't connect to TWS. Confirm that \"Enable ActiveX and Socket EClients\" \n",
      "is enabled and connection port is the same as \"Socket Port\" on the \n",
      "TWS \"Edit->Global Configuration...->API->Settings\" menu. Live Trading ports: \n",
      "TWS: 7496; IB Gateway: 4001. Simulated Trading ports for new installations \n",
      "of version 954.1 or newer:  TWS: 7497; IB Gateway: 4002\n"
     ]
    },
    {
     "name": "stdout",
     "output_type": "stream",
     "text": [
      "processing HD for 20211022 23:59:59 US/Eastern took   3.03 sec\n",
      "processing 20211121 23:59:59 US/Eastern\n"
     ]
    },
    {
     "name": "stderr",
     "output_type": "stream",
     "text": [
      "ERROR -1 502 Couldn't connect to TWS. Confirm that \"Enable ActiveX and Socket EClients\" \n",
      "is enabled and connection port is the same as \"Socket Port\" on the \n",
      "TWS \"Edit->Global Configuration...->API->Settings\" menu. Live Trading ports: \n",
      "TWS: 7496; IB Gateway: 4001. Simulated Trading ports for new installations \n",
      "of version 954.1 or newer:  TWS: 7497; IB Gateway: 4002\n"
     ]
    },
    {
     "name": "stdout",
     "output_type": "stream",
     "text": [
      "processing HD for 20211121 23:59:59 US/Eastern took   3.05 sec\n",
      "processing 20211221 23:59:59 US/Eastern\n"
     ]
    },
    {
     "name": "stderr",
     "output_type": "stream",
     "text": [
      "ERROR -1 502 Couldn't connect to TWS. Confirm that \"Enable ActiveX and Socket EClients\" \n",
      "is enabled and connection port is the same as \"Socket Port\" on the \n",
      "TWS \"Edit->Global Configuration...->API->Settings\" menu. Live Trading ports: \n",
      "TWS: 7496; IB Gateway: 4001. Simulated Trading ports for new installations \n",
      "of version 954.1 or newer:  TWS: 7497; IB Gateway: 4002\n"
     ]
    },
    {
     "name": "stdout",
     "output_type": "stream",
     "text": [
      "processing HD for 20211221 23:59:59 US/Eastern took   3.04 sec\n",
      "processing 20220120 23:59:59 US/Eastern\n"
     ]
    },
    {
     "name": "stderr",
     "output_type": "stream",
     "text": [
      "ERROR -1 502 Couldn't connect to TWS. Confirm that \"Enable ActiveX and Socket EClients\" \n",
      "is enabled and connection port is the same as \"Socket Port\" on the \n",
      "TWS \"Edit->Global Configuration...->API->Settings\" menu. Live Trading ports: \n",
      "TWS: 7496; IB Gateway: 4001. Simulated Trading ports for new installations \n",
      "of version 954.1 or newer:  TWS: 7497; IB Gateway: 4002\n"
     ]
    },
    {
     "name": "stdout",
     "output_type": "stream",
     "text": [
      "processing HD for 20220120 23:59:59 US/Eastern took   3.05 sec\n",
      "processing 20220219 23:59:59 US/Eastern\n"
     ]
    },
    {
     "name": "stderr",
     "output_type": "stream",
     "text": [
      "ERROR -1 502 Couldn't connect to TWS. Confirm that \"Enable ActiveX and Socket EClients\" \n",
      "is enabled and connection port is the same as \"Socket Port\" on the \n",
      "TWS \"Edit->Global Configuration...->API->Settings\" menu. Live Trading ports: \n",
      "TWS: 7496; IB Gateway: 4001. Simulated Trading ports for new installations \n",
      "of version 954.1 or newer:  TWS: 7497; IB Gateway: 4002\n"
     ]
    },
    {
     "name": "stdout",
     "output_type": "stream",
     "text": [
      "processing HD for 20220219 23:59:59 US/Eastern took   3.05 sec\n",
      "processing 20220321 23:59:59 US/Eastern\n"
     ]
    },
    {
     "name": "stderr",
     "output_type": "stream",
     "text": [
      "ERROR -1 502 Couldn't connect to TWS. Confirm that \"Enable ActiveX and Socket EClients\" \n",
      "is enabled and connection port is the same as \"Socket Port\" on the \n",
      "TWS \"Edit->Global Configuration...->API->Settings\" menu. Live Trading ports: \n",
      "TWS: 7496; IB Gateway: 4001. Simulated Trading ports for new installations \n",
      "of version 954.1 or newer:  TWS: 7497; IB Gateway: 4002\n"
     ]
    },
    {
     "name": "stdout",
     "output_type": "stream",
     "text": [
      "processing HD for 20220321 23:59:59 US/Eastern took   3.04 sec\n",
      "processing 20220420 23:59:59 US/Eastern\n"
     ]
    },
    {
     "name": "stderr",
     "output_type": "stream",
     "text": [
      "ERROR -1 502 Couldn't connect to TWS. Confirm that \"Enable ActiveX and Socket EClients\" \n",
      "is enabled and connection port is the same as \"Socket Port\" on the \n",
      "TWS \"Edit->Global Configuration...->API->Settings\" menu. Live Trading ports: \n",
      "TWS: 7496; IB Gateway: 4001. Simulated Trading ports for new installations \n",
      "of version 954.1 or newer:  TWS: 7497; IB Gateway: 4002\n"
     ]
    },
    {
     "name": "stdout",
     "output_type": "stream",
     "text": [
      "processing HD for 20220420 23:59:59 US/Eastern took   3.06 sec\n",
      "processing 20220520 23:59:59 US/Eastern\n"
     ]
    },
    {
     "name": "stderr",
     "output_type": "stream",
     "text": [
      "ERROR -1 502 Couldn't connect to TWS. Confirm that \"Enable ActiveX and Socket EClients\" \n",
      "is enabled and connection port is the same as \"Socket Port\" on the \n",
      "TWS \"Edit->Global Configuration...->API->Settings\" menu. Live Trading ports: \n",
      "TWS: 7496; IB Gateway: 4001. Simulated Trading ports for new installations \n",
      "of version 954.1 or newer:  TWS: 7497; IB Gateway: 4002\n"
     ]
    },
    {
     "name": "stdout",
     "output_type": "stream",
     "text": [
      "processing HD for 20220520 23:59:59 US/Eastern took   3.05 sec\n",
      "processing 20220619 23:59:59 US/Eastern\n"
     ]
    },
    {
     "name": "stderr",
     "output_type": "stream",
     "text": [
      "ERROR -1 502 Couldn't connect to TWS. Confirm that \"Enable ActiveX and Socket EClients\" \n",
      "is enabled and connection port is the same as \"Socket Port\" on the \n",
      "TWS \"Edit->Global Configuration...->API->Settings\" menu. Live Trading ports: \n",
      "TWS: 7496; IB Gateway: 4001. Simulated Trading ports for new installations \n",
      "of version 954.1 or newer:  TWS: 7497; IB Gateway: 4002\n"
     ]
    },
    {
     "name": "stdout",
     "output_type": "stream",
     "text": [
      "processing HD for 20220619 23:59:59 US/Eastern took   3.02 sec\n",
      "processing 20220719 23:59:59 US/Eastern\n"
     ]
    },
    {
     "name": "stderr",
     "output_type": "stream",
     "text": [
      "ERROR -1 502 Couldn't connect to TWS. Confirm that \"Enable ActiveX and Socket EClients\" \n",
      "is enabled and connection port is the same as \"Socket Port\" on the \n",
      "TWS \"Edit->Global Configuration...->API->Settings\" menu. Live Trading ports: \n",
      "TWS: 7496; IB Gateway: 4001. Simulated Trading ports for new installations \n",
      "of version 954.1 or newer:  TWS: 7497; IB Gateway: 4002\n"
     ]
    },
    {
     "name": "stdout",
     "output_type": "stream",
     "text": [
      "processing HD for 20220719 23:59:59 US/Eastern took   3.06 sec\n",
      "processing 20220818 23:59:59 US/Eastern\n"
     ]
    },
    {
     "name": "stderr",
     "output_type": "stream",
     "text": [
      "ERROR -1 502 Couldn't connect to TWS. Confirm that \"Enable ActiveX and Socket EClients\" \n",
      "is enabled and connection port is the same as \"Socket Port\" on the \n",
      "TWS \"Edit->Global Configuration...->API->Settings\" menu. Live Trading ports: \n",
      "TWS: 7496; IB Gateway: 4001. Simulated Trading ports for new installations \n",
      "of version 954.1 or newer:  TWS: 7497; IB Gateway: 4002\n"
     ]
    },
    {
     "name": "stdout",
     "output_type": "stream",
     "text": [
      "processing HD for 20220818 23:59:59 US/Eastern took   3.06 sec\n",
      "processing 20220917 23:59:59 US/Eastern\n"
     ]
    },
    {
     "name": "stderr",
     "output_type": "stream",
     "text": [
      "ERROR -1 502 Couldn't connect to TWS. Confirm that \"Enable ActiveX and Socket EClients\" \n",
      "is enabled and connection port is the same as \"Socket Port\" on the \n",
      "TWS \"Edit->Global Configuration...->API->Settings\" menu. Live Trading ports: \n",
      "TWS: 7496; IB Gateway: 4001. Simulated Trading ports for new installations \n",
      "of version 954.1 or newer:  TWS: 7497; IB Gateway: 4002\n"
     ]
    },
    {
     "name": "stdout",
     "output_type": "stream",
     "text": [
      "processing HD for 20220917 23:59:59 US/Eastern took   3.04 sec\n",
      "processing 20221017 23:59:59 US/Eastern\n"
     ]
    },
    {
     "name": "stderr",
     "output_type": "stream",
     "text": [
      "ERROR -1 502 Couldn't connect to TWS. Confirm that \"Enable ActiveX and Socket EClients\" \n",
      "is enabled and connection port is the same as \"Socket Port\" on the \n",
      "TWS \"Edit->Global Configuration...->API->Settings\" menu. Live Trading ports: \n",
      "TWS: 7496; IB Gateway: 4001. Simulated Trading ports for new installations \n",
      "of version 954.1 or newer:  TWS: 7497; IB Gateway: 4002\n"
     ]
    },
    {
     "name": "stdout",
     "output_type": "stream",
     "text": [
      "processing HD for 20221017 23:59:59 US/Eastern took   3.04 sec\n",
      "processing 20221116 23:59:59 US/Eastern\n"
     ]
    },
    {
     "name": "stderr",
     "output_type": "stream",
     "text": [
      "ERROR -1 502 Couldn't connect to TWS. Confirm that \"Enable ActiveX and Socket EClients\" \n",
      "is enabled and connection port is the same as \"Socket Port\" on the \n",
      "TWS \"Edit->Global Configuration...->API->Settings\" menu. Live Trading ports: \n",
      "TWS: 7496; IB Gateway: 4001. Simulated Trading ports for new installations \n",
      "of version 954.1 or newer:  TWS: 7497; IB Gateway: 4002\n"
     ]
    },
    {
     "name": "stdout",
     "output_type": "stream",
     "text": [
      "processing HD for 20221116 23:59:59 US/Eastern took   3.05 sec\n",
      "processing 20221216 23:59:59 US/Eastern\n"
     ]
    },
    {
     "name": "stderr",
     "output_type": "stream",
     "text": [
      "ERROR -1 502 Couldn't connect to TWS. Confirm that \"Enable ActiveX and Socket EClients\" \n",
      "is enabled and connection port is the same as \"Socket Port\" on the \n",
      "TWS \"Edit->Global Configuration...->API->Settings\" menu. Live Trading ports: \n",
      "TWS: 7496; IB Gateway: 4001. Simulated Trading ports for new installations \n",
      "of version 954.1 or newer:  TWS: 7497; IB Gateway: 4002\n"
     ]
    },
    {
     "name": "stdout",
     "output_type": "stream",
     "text": [
      "processing HD for 20221216 23:59:59 US/Eastern took   3.05 sec\n",
      "processing 20230115 23:59:59 US/Eastern\n"
     ]
    },
    {
     "name": "stderr",
     "output_type": "stream",
     "text": [
      "ERROR -1 502 Couldn't connect to TWS. Confirm that \"Enable ActiveX and Socket EClients\" \n",
      "is enabled and connection port is the same as \"Socket Port\" on the \n",
      "TWS \"Edit->Global Configuration...->API->Settings\" menu. Live Trading ports: \n",
      "TWS: 7496; IB Gateway: 4001. Simulated Trading ports for new installations \n",
      "of version 954.1 or newer:  TWS: 7497; IB Gateway: 4002\n"
     ]
    },
    {
     "name": "stdout",
     "output_type": "stream",
     "text": [
      "processing HD for 20230115 23:59:59 US/Eastern took   3.04 sec\n",
      "processing 20230214 23:59:59 US/Eastern\n"
     ]
    },
    {
     "name": "stderr",
     "output_type": "stream",
     "text": [
      "ERROR -1 502 Couldn't connect to TWS. Confirm that \"Enable ActiveX and Socket EClients\" \n",
      "is enabled and connection port is the same as \"Socket Port\" on the \n",
      "TWS \"Edit->Global Configuration...->API->Settings\" menu. Live Trading ports: \n",
      "TWS: 7496; IB Gateway: 4001. Simulated Trading ports for new installations \n",
      "of version 954.1 or newer:  TWS: 7497; IB Gateway: 4002\n"
     ]
    },
    {
     "name": "stdout",
     "output_type": "stream",
     "text": [
      "processing HD for 20230214 23:59:59 US/Eastern took   3.06 sec\n",
      "processing 20230316 23:59:59 US/Eastern\n"
     ]
    },
    {
     "name": "stderr",
     "output_type": "stream",
     "text": [
      "ERROR -1 502 Couldn't connect to TWS. Confirm that \"Enable ActiveX and Socket EClients\" \n",
      "is enabled and connection port is the same as \"Socket Port\" on the \n",
      "TWS \"Edit->Global Configuration...->API->Settings\" menu. Live Trading ports: \n",
      "TWS: 7496; IB Gateway: 4001. Simulated Trading ports for new installations \n",
      "of version 954.1 or newer:  TWS: 7497; IB Gateway: 4002\n"
     ]
    },
    {
     "name": "stdout",
     "output_type": "stream",
     "text": [
      "processing HD for 20230316 23:59:59 US/Eastern took   3.06 sec\n",
      "Processing HON\n",
      "processing 20200101 23:59:59 US/Eastern\n"
     ]
    },
    {
     "name": "stderr",
     "output_type": "stream",
     "text": [
      "ERROR -1 502 Couldn't connect to TWS. Confirm that \"Enable ActiveX and Socket EClients\" \n",
      "is enabled and connection port is the same as \"Socket Port\" on the \n",
      "TWS \"Edit->Global Configuration...->API->Settings\" menu. Live Trading ports: \n",
      "TWS: 7496; IB Gateway: 4001. Simulated Trading ports for new installations \n",
      "of version 954.1 or newer:  TWS: 7497; IB Gateway: 4002\n"
     ]
    },
    {
     "name": "stdout",
     "output_type": "stream",
     "text": [
      "processing HON for 20200101 23:59:59 US/Eastern took   3.04 sec\n",
      "processing 20200131 23:59:59 US/Eastern\n"
     ]
    },
    {
     "name": "stderr",
     "output_type": "stream",
     "text": [
      "ERROR -1 502 Couldn't connect to TWS. Confirm that \"Enable ActiveX and Socket EClients\" \n",
      "is enabled and connection port is the same as \"Socket Port\" on the \n",
      "TWS \"Edit->Global Configuration...->API->Settings\" menu. Live Trading ports: \n",
      "TWS: 7496; IB Gateway: 4001. Simulated Trading ports for new installations \n",
      "of version 954.1 or newer:  TWS: 7497; IB Gateway: 4002\n"
     ]
    },
    {
     "name": "stdout",
     "output_type": "stream",
     "text": [
      "processing HON for 20200131 23:59:59 US/Eastern took   3.06 sec\n",
      "processing 20200301 23:59:59 US/Eastern\n"
     ]
    },
    {
     "name": "stderr",
     "output_type": "stream",
     "text": [
      "ERROR -1 502 Couldn't connect to TWS. Confirm that \"Enable ActiveX and Socket EClients\" \n",
      "is enabled and connection port is the same as \"Socket Port\" on the \n",
      "TWS \"Edit->Global Configuration...->API->Settings\" menu. Live Trading ports: \n",
      "TWS: 7496; IB Gateway: 4001. Simulated Trading ports for new installations \n",
      "of version 954.1 or newer:  TWS: 7497; IB Gateway: 4002\n"
     ]
    },
    {
     "name": "stdout",
     "output_type": "stream",
     "text": [
      "processing HON for 20200301 23:59:59 US/Eastern took   3.05 sec\n",
      "processing 20200331 23:59:59 US/Eastern\n"
     ]
    },
    {
     "name": "stderr",
     "output_type": "stream",
     "text": [
      "ERROR -1 502 Couldn't connect to TWS. Confirm that \"Enable ActiveX and Socket EClients\" \n",
      "is enabled and connection port is the same as \"Socket Port\" on the \n",
      "TWS \"Edit->Global Configuration...->API->Settings\" menu. Live Trading ports: \n",
      "TWS: 7496; IB Gateway: 4001. Simulated Trading ports for new installations \n",
      "of version 954.1 or newer:  TWS: 7497; IB Gateway: 4002\n"
     ]
    },
    {
     "name": "stdout",
     "output_type": "stream",
     "text": [
      "processing HON for 20200331 23:59:59 US/Eastern took   3.05 sec\n",
      "processing 20200430 23:59:59 US/Eastern\n"
     ]
    },
    {
     "name": "stderr",
     "output_type": "stream",
     "text": [
      "ERROR -1 502 Couldn't connect to TWS. Confirm that \"Enable ActiveX and Socket EClients\" \n",
      "is enabled and connection port is the same as \"Socket Port\" on the \n",
      "TWS \"Edit->Global Configuration...->API->Settings\" menu. Live Trading ports: \n",
      "TWS: 7496; IB Gateway: 4001. Simulated Trading ports for new installations \n",
      "of version 954.1 or newer:  TWS: 7497; IB Gateway: 4002\n"
     ]
    },
    {
     "name": "stdout",
     "output_type": "stream",
     "text": [
      "processing HON for 20200430 23:59:59 US/Eastern took   3.04 sec\n",
      "processing 20200530 23:59:59 US/Eastern\n"
     ]
    },
    {
     "name": "stderr",
     "output_type": "stream",
     "text": [
      "ERROR -1 502 Couldn't connect to TWS. Confirm that \"Enable ActiveX and Socket EClients\" \n",
      "is enabled and connection port is the same as \"Socket Port\" on the \n",
      "TWS \"Edit->Global Configuration...->API->Settings\" menu. Live Trading ports: \n",
      "TWS: 7496; IB Gateway: 4001. Simulated Trading ports for new installations \n",
      "of version 954.1 or newer:  TWS: 7497; IB Gateway: 4002\n"
     ]
    },
    {
     "name": "stdout",
     "output_type": "stream",
     "text": [
      "processing HON for 20200530 23:59:59 US/Eastern took   3.04 sec\n",
      "processing 20200629 23:59:59 US/Eastern\n"
     ]
    },
    {
     "name": "stderr",
     "output_type": "stream",
     "text": [
      "ERROR -1 502 Couldn't connect to TWS. Confirm that \"Enable ActiveX and Socket EClients\" \n",
      "is enabled and connection port is the same as \"Socket Port\" on the \n",
      "TWS \"Edit->Global Configuration...->API->Settings\" menu. Live Trading ports: \n",
      "TWS: 7496; IB Gateway: 4001. Simulated Trading ports for new installations \n",
      "of version 954.1 or newer:  TWS: 7497; IB Gateway: 4002\n"
     ]
    },
    {
     "name": "stdout",
     "output_type": "stream",
     "text": [
      "processing HON for 20200629 23:59:59 US/Eastern took   3.04 sec\n",
      "processing 20200729 23:59:59 US/Eastern\n"
     ]
    },
    {
     "name": "stderr",
     "output_type": "stream",
     "text": [
      "ERROR -1 502 Couldn't connect to TWS. Confirm that \"Enable ActiveX and Socket EClients\" \n",
      "is enabled and connection port is the same as \"Socket Port\" on the \n",
      "TWS \"Edit->Global Configuration...->API->Settings\" menu. Live Trading ports: \n",
      "TWS: 7496; IB Gateway: 4001. Simulated Trading ports for new installations \n",
      "of version 954.1 or newer:  TWS: 7497; IB Gateway: 4002\n"
     ]
    },
    {
     "name": "stdout",
     "output_type": "stream",
     "text": [
      "processing HON for 20200729 23:59:59 US/Eastern took   3.05 sec\n",
      "processing 20200828 23:59:59 US/Eastern\n"
     ]
    },
    {
     "name": "stderr",
     "output_type": "stream",
     "text": [
      "ERROR -1 502 Couldn't connect to TWS. Confirm that \"Enable ActiveX and Socket EClients\" \n",
      "is enabled and connection port is the same as \"Socket Port\" on the \n",
      "TWS \"Edit->Global Configuration...->API->Settings\" menu. Live Trading ports: \n",
      "TWS: 7496; IB Gateway: 4001. Simulated Trading ports for new installations \n",
      "of version 954.1 or newer:  TWS: 7497; IB Gateway: 4002\n"
     ]
    },
    {
     "name": "stdout",
     "output_type": "stream",
     "text": [
      "processing HON for 20200828 23:59:59 US/Eastern took   3.03 sec\n",
      "processing 20200927 23:59:59 US/Eastern\n"
     ]
    },
    {
     "name": "stderr",
     "output_type": "stream",
     "text": [
      "ERROR -1 502 Couldn't connect to TWS. Confirm that \"Enable ActiveX and Socket EClients\" \n",
      "is enabled and connection port is the same as \"Socket Port\" on the \n",
      "TWS \"Edit->Global Configuration...->API->Settings\" menu. Live Trading ports: \n",
      "TWS: 7496; IB Gateway: 4001. Simulated Trading ports for new installations \n",
      "of version 954.1 or newer:  TWS: 7497; IB Gateway: 4002\n"
     ]
    },
    {
     "name": "stdout",
     "output_type": "stream",
     "text": [
      "processing HON for 20200927 23:59:59 US/Eastern took   3.04 sec\n",
      "processing 20201027 23:59:59 US/Eastern\n"
     ]
    },
    {
     "name": "stderr",
     "output_type": "stream",
     "text": [
      "ERROR -1 502 Couldn't connect to TWS. Confirm that \"Enable ActiveX and Socket EClients\" \n",
      "is enabled and connection port is the same as \"Socket Port\" on the \n",
      "TWS \"Edit->Global Configuration...->API->Settings\" menu. Live Trading ports: \n",
      "TWS: 7496; IB Gateway: 4001. Simulated Trading ports for new installations \n",
      "of version 954.1 or newer:  TWS: 7497; IB Gateway: 4002\n"
     ]
    },
    {
     "name": "stdout",
     "output_type": "stream",
     "text": [
      "processing HON for 20201027 23:59:59 US/Eastern took   3.05 sec\n",
      "processing 20201126 23:59:59 US/Eastern\n"
     ]
    },
    {
     "name": "stderr",
     "output_type": "stream",
     "text": [
      "ERROR -1 502 Couldn't connect to TWS. Confirm that \"Enable ActiveX and Socket EClients\" \n",
      "is enabled and connection port is the same as \"Socket Port\" on the \n",
      "TWS \"Edit->Global Configuration...->API->Settings\" menu. Live Trading ports: \n",
      "TWS: 7496; IB Gateway: 4001. Simulated Trading ports for new installations \n",
      "of version 954.1 or newer:  TWS: 7497; IB Gateway: 4002\n"
     ]
    },
    {
     "name": "stdout",
     "output_type": "stream",
     "text": [
      "processing HON for 20201126 23:59:59 US/Eastern took   3.06 sec\n",
      "processing 20201226 23:59:59 US/Eastern\n"
     ]
    },
    {
     "name": "stderr",
     "output_type": "stream",
     "text": [
      "ERROR -1 502 Couldn't connect to TWS. Confirm that \"Enable ActiveX and Socket EClients\" \n",
      "is enabled and connection port is the same as \"Socket Port\" on the \n",
      "TWS \"Edit->Global Configuration...->API->Settings\" menu. Live Trading ports: \n",
      "TWS: 7496; IB Gateway: 4001. Simulated Trading ports for new installations \n",
      "of version 954.1 or newer:  TWS: 7497; IB Gateway: 4002\n"
     ]
    },
    {
     "name": "stdout",
     "output_type": "stream",
     "text": [
      "processing HON for 20201226 23:59:59 US/Eastern took   3.03 sec\n",
      "processing 20210125 23:59:59 US/Eastern\n"
     ]
    },
    {
     "name": "stderr",
     "output_type": "stream",
     "text": [
      "ERROR -1 502 Couldn't connect to TWS. Confirm that \"Enable ActiveX and Socket EClients\" \n",
      "is enabled and connection port is the same as \"Socket Port\" on the \n",
      "TWS \"Edit->Global Configuration...->API->Settings\" menu. Live Trading ports: \n",
      "TWS: 7496; IB Gateway: 4001. Simulated Trading ports for new installations \n",
      "of version 954.1 or newer:  TWS: 7497; IB Gateway: 4002\n"
     ]
    },
    {
     "name": "stdout",
     "output_type": "stream",
     "text": [
      "processing HON for 20210125 23:59:59 US/Eastern took   3.05 sec\n",
      "processing 20210224 23:59:59 US/Eastern\n"
     ]
    },
    {
     "name": "stderr",
     "output_type": "stream",
     "text": [
      "ERROR -1 502 Couldn't connect to TWS. Confirm that \"Enable ActiveX and Socket EClients\" \n",
      "is enabled and connection port is the same as \"Socket Port\" on the \n",
      "TWS \"Edit->Global Configuration...->API->Settings\" menu. Live Trading ports: \n",
      "TWS: 7496; IB Gateway: 4001. Simulated Trading ports for new installations \n",
      "of version 954.1 or newer:  TWS: 7497; IB Gateway: 4002\n"
     ]
    },
    {
     "name": "stdout",
     "output_type": "stream",
     "text": [
      "processing HON for 20210224 23:59:59 US/Eastern took   3.05 sec\n",
      "processing 20210326 23:59:59 US/Eastern\n"
     ]
    },
    {
     "name": "stderr",
     "output_type": "stream",
     "text": [
      "ERROR -1 502 Couldn't connect to TWS. Confirm that \"Enable ActiveX and Socket EClients\" \n",
      "is enabled and connection port is the same as \"Socket Port\" on the \n",
      "TWS \"Edit->Global Configuration...->API->Settings\" menu. Live Trading ports: \n",
      "TWS: 7496; IB Gateway: 4001. Simulated Trading ports for new installations \n",
      "of version 954.1 or newer:  TWS: 7497; IB Gateway: 4002\n"
     ]
    },
    {
     "name": "stdout",
     "output_type": "stream",
     "text": [
      "processing HON for 20210326 23:59:59 US/Eastern took   3.04 sec\n",
      "processing 20210425 23:59:59 US/Eastern\n"
     ]
    },
    {
     "name": "stderr",
     "output_type": "stream",
     "text": [
      "ERROR -1 502 Couldn't connect to TWS. Confirm that \"Enable ActiveX and Socket EClients\" \n",
      "is enabled and connection port is the same as \"Socket Port\" on the \n",
      "TWS \"Edit->Global Configuration...->API->Settings\" menu. Live Trading ports: \n",
      "TWS: 7496; IB Gateway: 4001. Simulated Trading ports for new installations \n",
      "of version 954.1 or newer:  TWS: 7497; IB Gateway: 4002\n"
     ]
    },
    {
     "name": "stdout",
     "output_type": "stream",
     "text": [
      "processing HON for 20210425 23:59:59 US/Eastern took   3.06 sec\n",
      "processing 20210525 23:59:59 US/Eastern\n"
     ]
    },
    {
     "name": "stderr",
     "output_type": "stream",
     "text": [
      "ERROR -1 502 Couldn't connect to TWS. Confirm that \"Enable ActiveX and Socket EClients\" \n",
      "is enabled and connection port is the same as \"Socket Port\" on the \n",
      "TWS \"Edit->Global Configuration...->API->Settings\" menu. Live Trading ports: \n",
      "TWS: 7496; IB Gateway: 4001. Simulated Trading ports for new installations \n",
      "of version 954.1 or newer:  TWS: 7497; IB Gateway: 4002\n"
     ]
    },
    {
     "name": "stdout",
     "output_type": "stream",
     "text": [
      "processing HON for 20210525 23:59:59 US/Eastern took   3.03 sec\n",
      "processing 20210624 23:59:59 US/Eastern\n"
     ]
    },
    {
     "name": "stderr",
     "output_type": "stream",
     "text": [
      "ERROR -1 502 Couldn't connect to TWS. Confirm that \"Enable ActiveX and Socket EClients\" \n",
      "is enabled and connection port is the same as \"Socket Port\" on the \n",
      "TWS \"Edit->Global Configuration...->API->Settings\" menu. Live Trading ports: \n",
      "TWS: 7496; IB Gateway: 4001. Simulated Trading ports for new installations \n",
      "of version 954.1 or newer:  TWS: 7497; IB Gateway: 4002\n"
     ]
    },
    {
     "name": "stdout",
     "output_type": "stream",
     "text": [
      "processing HON for 20210624 23:59:59 US/Eastern took   3.04 sec\n",
      "processing 20210724 23:59:59 US/Eastern\n"
     ]
    },
    {
     "name": "stderr",
     "output_type": "stream",
     "text": [
      "ERROR -1 502 Couldn't connect to TWS. Confirm that \"Enable ActiveX and Socket EClients\" \n",
      "is enabled and connection port is the same as \"Socket Port\" on the \n",
      "TWS \"Edit->Global Configuration...->API->Settings\" menu. Live Trading ports: \n",
      "TWS: 7496; IB Gateway: 4001. Simulated Trading ports for new installations \n",
      "of version 954.1 or newer:  TWS: 7497; IB Gateway: 4002\n"
     ]
    },
    {
     "name": "stdout",
     "output_type": "stream",
     "text": [
      "processing HON for 20210724 23:59:59 US/Eastern took   3.03 sec\n",
      "processing 20210823 23:59:59 US/Eastern\n"
     ]
    },
    {
     "name": "stderr",
     "output_type": "stream",
     "text": [
      "ERROR -1 502 Couldn't connect to TWS. Confirm that \"Enable ActiveX and Socket EClients\" \n",
      "is enabled and connection port is the same as \"Socket Port\" on the \n",
      "TWS \"Edit->Global Configuration...->API->Settings\" menu. Live Trading ports: \n",
      "TWS: 7496; IB Gateway: 4001. Simulated Trading ports for new installations \n",
      "of version 954.1 or newer:  TWS: 7497; IB Gateway: 4002\n"
     ]
    },
    {
     "name": "stdout",
     "output_type": "stream",
     "text": [
      "processing HON for 20210823 23:59:59 US/Eastern took   3.03 sec\n",
      "processing 20210922 23:59:59 US/Eastern\n"
     ]
    },
    {
     "name": "stderr",
     "output_type": "stream",
     "text": [
      "ERROR -1 502 Couldn't connect to TWS. Confirm that \"Enable ActiveX and Socket EClients\" \n",
      "is enabled and connection port is the same as \"Socket Port\" on the \n",
      "TWS \"Edit->Global Configuration...->API->Settings\" menu. Live Trading ports: \n",
      "TWS: 7496; IB Gateway: 4001. Simulated Trading ports for new installations \n",
      "of version 954.1 or newer:  TWS: 7497; IB Gateway: 4002\n"
     ]
    },
    {
     "name": "stdout",
     "output_type": "stream",
     "text": [
      "processing HON for 20210922 23:59:59 US/Eastern took   3.04 sec\n",
      "processing 20211022 23:59:59 US/Eastern\n"
     ]
    },
    {
     "name": "stderr",
     "output_type": "stream",
     "text": [
      "ERROR -1 502 Couldn't connect to TWS. Confirm that \"Enable ActiveX and Socket EClients\" \n",
      "is enabled and connection port is the same as \"Socket Port\" on the \n",
      "TWS \"Edit->Global Configuration...->API->Settings\" menu. Live Trading ports: \n",
      "TWS: 7496; IB Gateway: 4001. Simulated Trading ports for new installations \n",
      "of version 954.1 or newer:  TWS: 7497; IB Gateway: 4002\n"
     ]
    },
    {
     "name": "stdout",
     "output_type": "stream",
     "text": [
      "processing HON for 20211022 23:59:59 US/Eastern took   3.07 sec\n",
      "processing 20211121 23:59:59 US/Eastern\n"
     ]
    },
    {
     "name": "stderr",
     "output_type": "stream",
     "text": [
      "ERROR -1 502 Couldn't connect to TWS. Confirm that \"Enable ActiveX and Socket EClients\" \n",
      "is enabled and connection port is the same as \"Socket Port\" on the \n",
      "TWS \"Edit->Global Configuration...->API->Settings\" menu. Live Trading ports: \n",
      "TWS: 7496; IB Gateway: 4001. Simulated Trading ports for new installations \n",
      "of version 954.1 or newer:  TWS: 7497; IB Gateway: 4002\n"
     ]
    },
    {
     "name": "stdout",
     "output_type": "stream",
     "text": [
      "processing HON for 20211121 23:59:59 US/Eastern took   3.04 sec\n",
      "processing 20211221 23:59:59 US/Eastern\n"
     ]
    },
    {
     "name": "stderr",
     "output_type": "stream",
     "text": [
      "ERROR -1 502 Couldn't connect to TWS. Confirm that \"Enable ActiveX and Socket EClients\" \n",
      "is enabled and connection port is the same as \"Socket Port\" on the \n",
      "TWS \"Edit->Global Configuration...->API->Settings\" menu. Live Trading ports: \n",
      "TWS: 7496; IB Gateway: 4001. Simulated Trading ports for new installations \n",
      "of version 954.1 or newer:  TWS: 7497; IB Gateway: 4002\n"
     ]
    },
    {
     "name": "stdout",
     "output_type": "stream",
     "text": [
      "processing HON for 20211221 23:59:59 US/Eastern took   3.05 sec\n",
      "processing 20220120 23:59:59 US/Eastern\n"
     ]
    },
    {
     "name": "stderr",
     "output_type": "stream",
     "text": [
      "ERROR -1 502 Couldn't connect to TWS. Confirm that \"Enable ActiveX and Socket EClients\" \n",
      "is enabled and connection port is the same as \"Socket Port\" on the \n",
      "TWS \"Edit->Global Configuration...->API->Settings\" menu. Live Trading ports: \n",
      "TWS: 7496; IB Gateway: 4001. Simulated Trading ports for new installations \n",
      "of version 954.1 or newer:  TWS: 7497; IB Gateway: 4002\n"
     ]
    },
    {
     "name": "stdout",
     "output_type": "stream",
     "text": [
      "processing HON for 20220120 23:59:59 US/Eastern took   3.06 sec\n",
      "processing 20220219 23:59:59 US/Eastern\n"
     ]
    },
    {
     "name": "stderr",
     "output_type": "stream",
     "text": [
      "ERROR -1 502 Couldn't connect to TWS. Confirm that \"Enable ActiveX and Socket EClients\" \n",
      "is enabled and connection port is the same as \"Socket Port\" on the \n",
      "TWS \"Edit->Global Configuration...->API->Settings\" menu. Live Trading ports: \n",
      "TWS: 7496; IB Gateway: 4001. Simulated Trading ports for new installations \n",
      "of version 954.1 or newer:  TWS: 7497; IB Gateway: 4002\n"
     ]
    },
    {
     "name": "stdout",
     "output_type": "stream",
     "text": [
      "processing HON for 20220219 23:59:59 US/Eastern took   3.06 sec\n",
      "processing 20220321 23:59:59 US/Eastern\n"
     ]
    },
    {
     "name": "stderr",
     "output_type": "stream",
     "text": [
      "ERROR -1 502 Couldn't connect to TWS. Confirm that \"Enable ActiveX and Socket EClients\" \n",
      "is enabled and connection port is the same as \"Socket Port\" on the \n",
      "TWS \"Edit->Global Configuration...->API->Settings\" menu. Live Trading ports: \n",
      "TWS: 7496; IB Gateway: 4001. Simulated Trading ports for new installations \n",
      "of version 954.1 or newer:  TWS: 7497; IB Gateway: 4002\n"
     ]
    },
    {
     "name": "stdout",
     "output_type": "stream",
     "text": [
      "processing HON for 20220321 23:59:59 US/Eastern took   3.06 sec\n",
      "processing 20220420 23:59:59 US/Eastern\n"
     ]
    },
    {
     "name": "stderr",
     "output_type": "stream",
     "text": [
      "ERROR -1 502 Couldn't connect to TWS. Confirm that \"Enable ActiveX and Socket EClients\" \n",
      "is enabled and connection port is the same as \"Socket Port\" on the \n",
      "TWS \"Edit->Global Configuration...->API->Settings\" menu. Live Trading ports: \n",
      "TWS: 7496; IB Gateway: 4001. Simulated Trading ports for new installations \n",
      "of version 954.1 or newer:  TWS: 7497; IB Gateway: 4002\n"
     ]
    },
    {
     "name": "stdout",
     "output_type": "stream",
     "text": [
      "processing HON for 20220420 23:59:59 US/Eastern took   3.05 sec\n",
      "processing 20220520 23:59:59 US/Eastern\n"
     ]
    },
    {
     "name": "stderr",
     "output_type": "stream",
     "text": [
      "ERROR -1 502 Couldn't connect to TWS. Confirm that \"Enable ActiveX and Socket EClients\" \n",
      "is enabled and connection port is the same as \"Socket Port\" on the \n",
      "TWS \"Edit->Global Configuration...->API->Settings\" menu. Live Trading ports: \n",
      "TWS: 7496; IB Gateway: 4001. Simulated Trading ports for new installations \n",
      "of version 954.1 or newer:  TWS: 7497; IB Gateway: 4002\n"
     ]
    },
    {
     "name": "stdout",
     "output_type": "stream",
     "text": [
      "processing HON for 20220520 23:59:59 US/Eastern took   3.06 sec\n",
      "processing 20220619 23:59:59 US/Eastern\n"
     ]
    },
    {
     "name": "stderr",
     "output_type": "stream",
     "text": [
      "ERROR -1 502 Couldn't connect to TWS. Confirm that \"Enable ActiveX and Socket EClients\" \n",
      "is enabled and connection port is the same as \"Socket Port\" on the \n",
      "TWS \"Edit->Global Configuration...->API->Settings\" menu. Live Trading ports: \n",
      "TWS: 7496; IB Gateway: 4001. Simulated Trading ports for new installations \n",
      "of version 954.1 or newer:  TWS: 7497; IB Gateway: 4002\n"
     ]
    },
    {
     "name": "stdout",
     "output_type": "stream",
     "text": [
      "processing HON for 20220619 23:59:59 US/Eastern took   3.05 sec\n",
      "processing 20220719 23:59:59 US/Eastern\n"
     ]
    },
    {
     "name": "stderr",
     "output_type": "stream",
     "text": [
      "ERROR -1 502 Couldn't connect to TWS. Confirm that \"Enable ActiveX and Socket EClients\" \n",
      "is enabled and connection port is the same as \"Socket Port\" on the \n",
      "TWS \"Edit->Global Configuration...->API->Settings\" menu. Live Trading ports: \n",
      "TWS: 7496; IB Gateway: 4001. Simulated Trading ports for new installations \n",
      "of version 954.1 or newer:  TWS: 7497; IB Gateway: 4002\n"
     ]
    },
    {
     "name": "stdout",
     "output_type": "stream",
     "text": [
      "processing HON for 20220719 23:59:59 US/Eastern took   3.05 sec\n",
      "processing 20220818 23:59:59 US/Eastern\n"
     ]
    },
    {
     "name": "stderr",
     "output_type": "stream",
     "text": [
      "ERROR -1 502 Couldn't connect to TWS. Confirm that \"Enable ActiveX and Socket EClients\" \n",
      "is enabled and connection port is the same as \"Socket Port\" on the \n",
      "TWS \"Edit->Global Configuration...->API->Settings\" menu. Live Trading ports: \n",
      "TWS: 7496; IB Gateway: 4001. Simulated Trading ports for new installations \n",
      "of version 954.1 or newer:  TWS: 7497; IB Gateway: 4002\n"
     ]
    },
    {
     "name": "stdout",
     "output_type": "stream",
     "text": [
      "processing HON for 20220818 23:59:59 US/Eastern took   3.04 sec\n",
      "processing 20220917 23:59:59 US/Eastern\n"
     ]
    },
    {
     "name": "stderr",
     "output_type": "stream",
     "text": [
      "ERROR -1 502 Couldn't connect to TWS. Confirm that \"Enable ActiveX and Socket EClients\" \n",
      "is enabled and connection port is the same as \"Socket Port\" on the \n",
      "TWS \"Edit->Global Configuration...->API->Settings\" menu. Live Trading ports: \n",
      "TWS: 7496; IB Gateway: 4001. Simulated Trading ports for new installations \n",
      "of version 954.1 or newer:  TWS: 7497; IB Gateway: 4002\n"
     ]
    },
    {
     "name": "stdout",
     "output_type": "stream",
     "text": [
      "processing HON for 20220917 23:59:59 US/Eastern took   3.05 sec\n",
      "processing 20221017 23:59:59 US/Eastern\n"
     ]
    },
    {
     "name": "stderr",
     "output_type": "stream",
     "text": [
      "ERROR -1 502 Couldn't connect to TWS. Confirm that \"Enable ActiveX and Socket EClients\" \n",
      "is enabled and connection port is the same as \"Socket Port\" on the \n",
      "TWS \"Edit->Global Configuration...->API->Settings\" menu. Live Trading ports: \n",
      "TWS: 7496; IB Gateway: 4001. Simulated Trading ports for new installations \n",
      "of version 954.1 or newer:  TWS: 7497; IB Gateway: 4002\n"
     ]
    },
    {
     "name": "stdout",
     "output_type": "stream",
     "text": [
      "processing HON for 20221017 23:59:59 US/Eastern took   3.04 sec\n",
      "processing 20221116 23:59:59 US/Eastern\n"
     ]
    },
    {
     "name": "stderr",
     "output_type": "stream",
     "text": [
      "ERROR -1 502 Couldn't connect to TWS. Confirm that \"Enable ActiveX and Socket EClients\" \n",
      "is enabled and connection port is the same as \"Socket Port\" on the \n",
      "TWS \"Edit->Global Configuration...->API->Settings\" menu. Live Trading ports: \n",
      "TWS: 7496; IB Gateway: 4001. Simulated Trading ports for new installations \n",
      "of version 954.1 or newer:  TWS: 7497; IB Gateway: 4002\n"
     ]
    },
    {
     "name": "stdout",
     "output_type": "stream",
     "text": [
      "processing HON for 20221116 23:59:59 US/Eastern took   3.08 sec\n",
      "processing 20221216 23:59:59 US/Eastern\n"
     ]
    },
    {
     "name": "stderr",
     "output_type": "stream",
     "text": [
      "ERROR -1 502 Couldn't connect to TWS. Confirm that \"Enable ActiveX and Socket EClients\" \n",
      "is enabled and connection port is the same as \"Socket Port\" on the \n",
      "TWS \"Edit->Global Configuration...->API->Settings\" menu. Live Trading ports: \n",
      "TWS: 7496; IB Gateway: 4001. Simulated Trading ports for new installations \n",
      "of version 954.1 or newer:  TWS: 7497; IB Gateway: 4002\n"
     ]
    },
    {
     "name": "stdout",
     "output_type": "stream",
     "text": [
      "processing HON for 20221216 23:59:59 US/Eastern took   3.05 sec\n",
      "processing 20230115 23:59:59 US/Eastern\n"
     ]
    },
    {
     "name": "stderr",
     "output_type": "stream",
     "text": [
      "ERROR -1 502 Couldn't connect to TWS. Confirm that \"Enable ActiveX and Socket EClients\" \n",
      "is enabled and connection port is the same as \"Socket Port\" on the \n",
      "TWS \"Edit->Global Configuration...->API->Settings\" menu. Live Trading ports: \n",
      "TWS: 7496; IB Gateway: 4001. Simulated Trading ports for new installations \n",
      "of version 954.1 or newer:  TWS: 7497; IB Gateway: 4002\n"
     ]
    },
    {
     "name": "stdout",
     "output_type": "stream",
     "text": [
      "processing HON for 20230115 23:59:59 US/Eastern took   3.04 sec\n",
      "processing 20230214 23:59:59 US/Eastern\n"
     ]
    },
    {
     "name": "stderr",
     "output_type": "stream",
     "text": [
      "ERROR -1 502 Couldn't connect to TWS. Confirm that \"Enable ActiveX and Socket EClients\" \n",
      "is enabled and connection port is the same as \"Socket Port\" on the \n",
      "TWS \"Edit->Global Configuration...->API->Settings\" menu. Live Trading ports: \n",
      "TWS: 7496; IB Gateway: 4001. Simulated Trading ports for new installations \n",
      "of version 954.1 or newer:  TWS: 7497; IB Gateway: 4002\n"
     ]
    },
    {
     "name": "stdout",
     "output_type": "stream",
     "text": [
      "processing HON for 20230214 23:59:59 US/Eastern took   3.05 sec\n",
      "processing 20230316 23:59:59 US/Eastern\n"
     ]
    },
    {
     "name": "stderr",
     "output_type": "stream",
     "text": [
      "ERROR -1 502 Couldn't connect to TWS. Confirm that \"Enable ActiveX and Socket EClients\" \n",
      "is enabled and connection port is the same as \"Socket Port\" on the \n",
      "TWS \"Edit->Global Configuration...->API->Settings\" menu. Live Trading ports: \n",
      "TWS: 7496; IB Gateway: 4001. Simulated Trading ports for new installations \n",
      "of version 954.1 or newer:  TWS: 7497; IB Gateway: 4002\n"
     ]
    },
    {
     "name": "stdout",
     "output_type": "stream",
     "text": [
      "processing HON for 20230316 23:59:59 US/Eastern took   3.05 sec\n",
      "Processing IBM\n",
      "processing 20200101 23:59:59 US/Eastern\n"
     ]
    },
    {
     "name": "stderr",
     "output_type": "stream",
     "text": [
      "ERROR -1 502 Couldn't connect to TWS. Confirm that \"Enable ActiveX and Socket EClients\" \n",
      "is enabled and connection port is the same as \"Socket Port\" on the \n",
      "TWS \"Edit->Global Configuration...->API->Settings\" menu. Live Trading ports: \n",
      "TWS: 7496; IB Gateway: 4001. Simulated Trading ports for new installations \n",
      "of version 954.1 or newer:  TWS: 7497; IB Gateway: 4002\n"
     ]
    },
    {
     "name": "stdout",
     "output_type": "stream",
     "text": [
      "processing IBM for 20200101 23:59:59 US/Eastern took   3.06 sec\n",
      "processing 20200131 23:59:59 US/Eastern\n"
     ]
    },
    {
     "name": "stderr",
     "output_type": "stream",
     "text": [
      "ERROR -1 502 Couldn't connect to TWS. Confirm that \"Enable ActiveX and Socket EClients\" \n",
      "is enabled and connection port is the same as \"Socket Port\" on the \n",
      "TWS \"Edit->Global Configuration...->API->Settings\" menu. Live Trading ports: \n",
      "TWS: 7496; IB Gateway: 4001. Simulated Trading ports for new installations \n",
      "of version 954.1 or newer:  TWS: 7497; IB Gateway: 4002\n"
     ]
    },
    {
     "name": "stdout",
     "output_type": "stream",
     "text": [
      "processing IBM for 20200131 23:59:59 US/Eastern took   3.05 sec\n",
      "processing 20200301 23:59:59 US/Eastern\n"
     ]
    },
    {
     "name": "stderr",
     "output_type": "stream",
     "text": [
      "ERROR -1 502 Couldn't connect to TWS. Confirm that \"Enable ActiveX and Socket EClients\" \n",
      "is enabled and connection port is the same as \"Socket Port\" on the \n",
      "TWS \"Edit->Global Configuration...->API->Settings\" menu. Live Trading ports: \n",
      "TWS: 7496; IB Gateway: 4001. Simulated Trading ports for new installations \n",
      "of version 954.1 or newer:  TWS: 7497; IB Gateway: 4002\n"
     ]
    },
    {
     "name": "stdout",
     "output_type": "stream",
     "text": [
      "processing IBM for 20200301 23:59:59 US/Eastern took   3.04 sec\n",
      "processing 20200331 23:59:59 US/Eastern\n"
     ]
    },
    {
     "name": "stderr",
     "output_type": "stream",
     "text": [
      "ERROR -1 502 Couldn't connect to TWS. Confirm that \"Enable ActiveX and Socket EClients\" \n",
      "is enabled and connection port is the same as \"Socket Port\" on the \n",
      "TWS \"Edit->Global Configuration...->API->Settings\" menu. Live Trading ports: \n",
      "TWS: 7496; IB Gateway: 4001. Simulated Trading ports for new installations \n",
      "of version 954.1 or newer:  TWS: 7497; IB Gateway: 4002\n"
     ]
    },
    {
     "name": "stdout",
     "output_type": "stream",
     "text": [
      "processing IBM for 20200331 23:59:59 US/Eastern took   3.05 sec\n",
      "processing 20200430 23:59:59 US/Eastern\n"
     ]
    },
    {
     "name": "stderr",
     "output_type": "stream",
     "text": [
      "ERROR -1 502 Couldn't connect to TWS. Confirm that \"Enable ActiveX and Socket EClients\" \n",
      "is enabled and connection port is the same as \"Socket Port\" on the \n",
      "TWS \"Edit->Global Configuration...->API->Settings\" menu. Live Trading ports: \n",
      "TWS: 7496; IB Gateway: 4001. Simulated Trading ports for new installations \n",
      "of version 954.1 or newer:  TWS: 7497; IB Gateway: 4002\n"
     ]
    },
    {
     "name": "stdout",
     "output_type": "stream",
     "text": [
      "processing IBM for 20200430 23:59:59 US/Eastern took   3.04 sec\n",
      "processing 20200530 23:59:59 US/Eastern\n"
     ]
    },
    {
     "name": "stderr",
     "output_type": "stream",
     "text": [
      "ERROR -1 502 Couldn't connect to TWS. Confirm that \"Enable ActiveX and Socket EClients\" \n",
      "is enabled and connection port is the same as \"Socket Port\" on the \n",
      "TWS \"Edit->Global Configuration...->API->Settings\" menu. Live Trading ports: \n",
      "TWS: 7496; IB Gateway: 4001. Simulated Trading ports for new installations \n",
      "of version 954.1 or newer:  TWS: 7497; IB Gateway: 4002\n"
     ]
    },
    {
     "name": "stdout",
     "output_type": "stream",
     "text": [
      "processing IBM for 20200530 23:59:59 US/Eastern took   3.05 sec\n",
      "processing 20200629 23:59:59 US/Eastern\n"
     ]
    },
    {
     "name": "stderr",
     "output_type": "stream",
     "text": [
      "ERROR -1 502 Couldn't connect to TWS. Confirm that \"Enable ActiveX and Socket EClients\" \n",
      "is enabled and connection port is the same as \"Socket Port\" on the \n",
      "TWS \"Edit->Global Configuration...->API->Settings\" menu. Live Trading ports: \n",
      "TWS: 7496; IB Gateway: 4001. Simulated Trading ports for new installations \n",
      "of version 954.1 or newer:  TWS: 7497; IB Gateway: 4002\n"
     ]
    },
    {
     "name": "stdout",
     "output_type": "stream",
     "text": [
      "processing IBM for 20200629 23:59:59 US/Eastern took   3.05 sec\n",
      "processing 20200729 23:59:59 US/Eastern\n"
     ]
    },
    {
     "name": "stderr",
     "output_type": "stream",
     "text": [
      "ERROR -1 502 Couldn't connect to TWS. Confirm that \"Enable ActiveX and Socket EClients\" \n",
      "is enabled and connection port is the same as \"Socket Port\" on the \n",
      "TWS \"Edit->Global Configuration...->API->Settings\" menu. Live Trading ports: \n",
      "TWS: 7496; IB Gateway: 4001. Simulated Trading ports for new installations \n",
      "of version 954.1 or newer:  TWS: 7497; IB Gateway: 4002\n"
     ]
    },
    {
     "name": "stdout",
     "output_type": "stream",
     "text": [
      "processing IBM for 20200729 23:59:59 US/Eastern took   3.04 sec\n",
      "processing 20200828 23:59:59 US/Eastern\n"
     ]
    },
    {
     "name": "stderr",
     "output_type": "stream",
     "text": [
      "ERROR -1 502 Couldn't connect to TWS. Confirm that \"Enable ActiveX and Socket EClients\" \n",
      "is enabled and connection port is the same as \"Socket Port\" on the \n",
      "TWS \"Edit->Global Configuration...->API->Settings\" menu. Live Trading ports: \n",
      "TWS: 7496; IB Gateway: 4001. Simulated Trading ports for new installations \n",
      "of version 954.1 or newer:  TWS: 7497; IB Gateway: 4002\n"
     ]
    },
    {
     "name": "stdout",
     "output_type": "stream",
     "text": [
      "processing IBM for 20200828 23:59:59 US/Eastern took   3.05 sec\n",
      "processing 20200927 23:59:59 US/Eastern\n"
     ]
    },
    {
     "name": "stderr",
     "output_type": "stream",
     "text": [
      "ERROR -1 502 Couldn't connect to TWS. Confirm that \"Enable ActiveX and Socket EClients\" \n",
      "is enabled and connection port is the same as \"Socket Port\" on the \n",
      "TWS \"Edit->Global Configuration...->API->Settings\" menu. Live Trading ports: \n",
      "TWS: 7496; IB Gateway: 4001. Simulated Trading ports for new installations \n",
      "of version 954.1 or newer:  TWS: 7497; IB Gateway: 4002\n"
     ]
    },
    {
     "name": "stdout",
     "output_type": "stream",
     "text": [
      "processing IBM for 20200927 23:59:59 US/Eastern took   3.07 sec\n",
      "processing 20201027 23:59:59 US/Eastern\n"
     ]
    },
    {
     "name": "stderr",
     "output_type": "stream",
     "text": [
      "ERROR -1 502 Couldn't connect to TWS. Confirm that \"Enable ActiveX and Socket EClients\" \n",
      "is enabled and connection port is the same as \"Socket Port\" on the \n",
      "TWS \"Edit->Global Configuration...->API->Settings\" menu. Live Trading ports: \n",
      "TWS: 7496; IB Gateway: 4001. Simulated Trading ports for new installations \n",
      "of version 954.1 or newer:  TWS: 7497; IB Gateway: 4002\n"
     ]
    },
    {
     "name": "stdout",
     "output_type": "stream",
     "text": [
      "processing IBM for 20201027 23:59:59 US/Eastern took   3.05 sec\n",
      "processing 20201126 23:59:59 US/Eastern\n"
     ]
    },
    {
     "name": "stderr",
     "output_type": "stream",
     "text": [
      "ERROR -1 502 Couldn't connect to TWS. Confirm that \"Enable ActiveX and Socket EClients\" \n",
      "is enabled and connection port is the same as \"Socket Port\" on the \n",
      "TWS \"Edit->Global Configuration...->API->Settings\" menu. Live Trading ports: \n",
      "TWS: 7496; IB Gateway: 4001. Simulated Trading ports for new installations \n",
      "of version 954.1 or newer:  TWS: 7497; IB Gateway: 4002\n"
     ]
    },
    {
     "name": "stdout",
     "output_type": "stream",
     "text": [
      "processing IBM for 20201126 23:59:59 US/Eastern took   3.05 sec\n",
      "processing 20201226 23:59:59 US/Eastern\n"
     ]
    },
    {
     "name": "stderr",
     "output_type": "stream",
     "text": [
      "ERROR -1 502 Couldn't connect to TWS. Confirm that \"Enable ActiveX and Socket EClients\" \n",
      "is enabled and connection port is the same as \"Socket Port\" on the \n",
      "TWS \"Edit->Global Configuration...->API->Settings\" menu. Live Trading ports: \n",
      "TWS: 7496; IB Gateway: 4001. Simulated Trading ports for new installations \n",
      "of version 954.1 or newer:  TWS: 7497; IB Gateway: 4002\n"
     ]
    },
    {
     "name": "stdout",
     "output_type": "stream",
     "text": [
      "processing IBM for 20201226 23:59:59 US/Eastern took   3.04 sec\n",
      "processing 20210125 23:59:59 US/Eastern\n"
     ]
    },
    {
     "name": "stderr",
     "output_type": "stream",
     "text": [
      "ERROR -1 502 Couldn't connect to TWS. Confirm that \"Enable ActiveX and Socket EClients\" \n",
      "is enabled and connection port is the same as \"Socket Port\" on the \n",
      "TWS \"Edit->Global Configuration...->API->Settings\" menu. Live Trading ports: \n",
      "TWS: 7496; IB Gateway: 4001. Simulated Trading ports for new installations \n",
      "of version 954.1 or newer:  TWS: 7497; IB Gateway: 4002\n"
     ]
    },
    {
     "name": "stdout",
     "output_type": "stream",
     "text": [
      "processing IBM for 20210125 23:59:59 US/Eastern took   3.06 sec\n",
      "processing 20210224 23:59:59 US/Eastern\n"
     ]
    },
    {
     "name": "stderr",
     "output_type": "stream",
     "text": [
      "ERROR -1 502 Couldn't connect to TWS. Confirm that \"Enable ActiveX and Socket EClients\" \n",
      "is enabled and connection port is the same as \"Socket Port\" on the \n",
      "TWS \"Edit->Global Configuration...->API->Settings\" menu. Live Trading ports: \n",
      "TWS: 7496; IB Gateway: 4001. Simulated Trading ports for new installations \n",
      "of version 954.1 or newer:  TWS: 7497; IB Gateway: 4002\n"
     ]
    },
    {
     "name": "stdout",
     "output_type": "stream",
     "text": [
      "processing IBM for 20210224 23:59:59 US/Eastern took   3.04 sec\n",
      "processing 20210326 23:59:59 US/Eastern\n"
     ]
    },
    {
     "name": "stderr",
     "output_type": "stream",
     "text": [
      "ERROR -1 502 Couldn't connect to TWS. Confirm that \"Enable ActiveX and Socket EClients\" \n",
      "is enabled and connection port is the same as \"Socket Port\" on the \n",
      "TWS \"Edit->Global Configuration...->API->Settings\" menu. Live Trading ports: \n",
      "TWS: 7496; IB Gateway: 4001. Simulated Trading ports for new installations \n",
      "of version 954.1 or newer:  TWS: 7497; IB Gateway: 4002\n"
     ]
    },
    {
     "name": "stdout",
     "output_type": "stream",
     "text": [
      "processing IBM for 20210326 23:59:59 US/Eastern took   3.04 sec\n",
      "processing 20210425 23:59:59 US/Eastern\n"
     ]
    },
    {
     "name": "stderr",
     "output_type": "stream",
     "text": [
      "ERROR -1 502 Couldn't connect to TWS. Confirm that \"Enable ActiveX and Socket EClients\" \n",
      "is enabled and connection port is the same as \"Socket Port\" on the \n",
      "TWS \"Edit->Global Configuration...->API->Settings\" menu. Live Trading ports: \n",
      "TWS: 7496; IB Gateway: 4001. Simulated Trading ports for new installations \n",
      "of version 954.1 or newer:  TWS: 7497; IB Gateway: 4002\n"
     ]
    },
    {
     "name": "stdout",
     "output_type": "stream",
     "text": [
      "processing IBM for 20210425 23:59:59 US/Eastern took   3.05 sec\n",
      "processing 20210525 23:59:59 US/Eastern\n"
     ]
    },
    {
     "name": "stderr",
     "output_type": "stream",
     "text": [
      "ERROR -1 502 Couldn't connect to TWS. Confirm that \"Enable ActiveX and Socket EClients\" \n",
      "is enabled and connection port is the same as \"Socket Port\" on the \n",
      "TWS \"Edit->Global Configuration...->API->Settings\" menu. Live Trading ports: \n",
      "TWS: 7496; IB Gateway: 4001. Simulated Trading ports for new installations \n",
      "of version 954.1 or newer:  TWS: 7497; IB Gateway: 4002\n"
     ]
    },
    {
     "name": "stdout",
     "output_type": "stream",
     "text": [
      "processing IBM for 20210525 23:59:59 US/Eastern took   3.07 sec\n",
      "processing 20210624 23:59:59 US/Eastern\n"
     ]
    },
    {
     "name": "stderr",
     "output_type": "stream",
     "text": [
      "ERROR -1 502 Couldn't connect to TWS. Confirm that \"Enable ActiveX and Socket EClients\" \n",
      "is enabled and connection port is the same as \"Socket Port\" on the \n",
      "TWS \"Edit->Global Configuration...->API->Settings\" menu. Live Trading ports: \n",
      "TWS: 7496; IB Gateway: 4001. Simulated Trading ports for new installations \n",
      "of version 954.1 or newer:  TWS: 7497; IB Gateway: 4002\n"
     ]
    },
    {
     "name": "stdout",
     "output_type": "stream",
     "text": [
      "processing IBM for 20210624 23:59:59 US/Eastern took   3.05 sec\n",
      "processing 20210724 23:59:59 US/Eastern\n"
     ]
    },
    {
     "name": "stderr",
     "output_type": "stream",
     "text": [
      "ERROR -1 502 Couldn't connect to TWS. Confirm that \"Enable ActiveX and Socket EClients\" \n",
      "is enabled and connection port is the same as \"Socket Port\" on the \n",
      "TWS \"Edit->Global Configuration...->API->Settings\" menu. Live Trading ports: \n",
      "TWS: 7496; IB Gateway: 4001. Simulated Trading ports for new installations \n",
      "of version 954.1 or newer:  TWS: 7497; IB Gateway: 4002\n"
     ]
    },
    {
     "name": "stdout",
     "output_type": "stream",
     "text": [
      "processing IBM for 20210724 23:59:59 US/Eastern took   3.05 sec\n",
      "processing 20210823 23:59:59 US/Eastern\n"
     ]
    },
    {
     "name": "stderr",
     "output_type": "stream",
     "text": [
      "ERROR -1 502 Couldn't connect to TWS. Confirm that \"Enable ActiveX and Socket EClients\" \n",
      "is enabled and connection port is the same as \"Socket Port\" on the \n",
      "TWS \"Edit->Global Configuration...->API->Settings\" menu. Live Trading ports: \n",
      "TWS: 7496; IB Gateway: 4001. Simulated Trading ports for new installations \n",
      "of version 954.1 or newer:  TWS: 7497; IB Gateway: 4002\n"
     ]
    },
    {
     "name": "stdout",
     "output_type": "stream",
     "text": [
      "processing IBM for 20210823 23:59:59 US/Eastern took   3.05 sec\n",
      "processing 20210922 23:59:59 US/Eastern\n"
     ]
    },
    {
     "name": "stderr",
     "output_type": "stream",
     "text": [
      "ERROR -1 502 Couldn't connect to TWS. Confirm that \"Enable ActiveX and Socket EClients\" \n",
      "is enabled and connection port is the same as \"Socket Port\" on the \n",
      "TWS \"Edit->Global Configuration...->API->Settings\" menu. Live Trading ports: \n",
      "TWS: 7496; IB Gateway: 4001. Simulated Trading ports for new installations \n",
      "of version 954.1 or newer:  TWS: 7497; IB Gateway: 4002\n"
     ]
    },
    {
     "name": "stdout",
     "output_type": "stream",
     "text": [
      "processing IBM for 20210922 23:59:59 US/Eastern took   3.05 sec\n",
      "processing 20211022 23:59:59 US/Eastern\n"
     ]
    },
    {
     "name": "stderr",
     "output_type": "stream",
     "text": [
      "ERROR -1 502 Couldn't connect to TWS. Confirm that \"Enable ActiveX and Socket EClients\" \n",
      "is enabled and connection port is the same as \"Socket Port\" on the \n",
      "TWS \"Edit->Global Configuration...->API->Settings\" menu. Live Trading ports: \n",
      "TWS: 7496; IB Gateway: 4001. Simulated Trading ports for new installations \n",
      "of version 954.1 or newer:  TWS: 7497; IB Gateway: 4002\n"
     ]
    },
    {
     "name": "stdout",
     "output_type": "stream",
     "text": [
      "processing IBM for 20211022 23:59:59 US/Eastern took   3.04 sec\n",
      "processing 20211121 23:59:59 US/Eastern\n"
     ]
    },
    {
     "name": "stderr",
     "output_type": "stream",
     "text": [
      "ERROR -1 502 Couldn't connect to TWS. Confirm that \"Enable ActiveX and Socket EClients\" \n",
      "is enabled and connection port is the same as \"Socket Port\" on the \n",
      "TWS \"Edit->Global Configuration...->API->Settings\" menu. Live Trading ports: \n",
      "TWS: 7496; IB Gateway: 4001. Simulated Trading ports for new installations \n",
      "of version 954.1 or newer:  TWS: 7497; IB Gateway: 4002\n"
     ]
    },
    {
     "name": "stdout",
     "output_type": "stream",
     "text": [
      "processing IBM for 20211121 23:59:59 US/Eastern took   3.05 sec\n",
      "processing 20211221 23:59:59 US/Eastern\n"
     ]
    },
    {
     "name": "stderr",
     "output_type": "stream",
     "text": [
      "ERROR -1 502 Couldn't connect to TWS. Confirm that \"Enable ActiveX and Socket EClients\" \n",
      "is enabled and connection port is the same as \"Socket Port\" on the \n",
      "TWS \"Edit->Global Configuration...->API->Settings\" menu. Live Trading ports: \n",
      "TWS: 7496; IB Gateway: 4001. Simulated Trading ports for new installations \n",
      "of version 954.1 or newer:  TWS: 7497; IB Gateway: 4002\n"
     ]
    },
    {
     "name": "stdout",
     "output_type": "stream",
     "text": [
      "processing IBM for 20211221 23:59:59 US/Eastern took   3.03 sec\n",
      "processing 20220120 23:59:59 US/Eastern\n"
     ]
    },
    {
     "name": "stderr",
     "output_type": "stream",
     "text": [
      "ERROR -1 502 Couldn't connect to TWS. Confirm that \"Enable ActiveX and Socket EClients\" \n",
      "is enabled and connection port is the same as \"Socket Port\" on the \n",
      "TWS \"Edit->Global Configuration...->API->Settings\" menu. Live Trading ports: \n",
      "TWS: 7496; IB Gateway: 4001. Simulated Trading ports for new installations \n",
      "of version 954.1 or newer:  TWS: 7497; IB Gateway: 4002\n"
     ]
    },
    {
     "name": "stdout",
     "output_type": "stream",
     "text": [
      "processing IBM for 20220120 23:59:59 US/Eastern took   3.04 sec\n",
      "processing 20220219 23:59:59 US/Eastern\n"
     ]
    },
    {
     "name": "stderr",
     "output_type": "stream",
     "text": [
      "ERROR -1 502 Couldn't connect to TWS. Confirm that \"Enable ActiveX and Socket EClients\" \n",
      "is enabled and connection port is the same as \"Socket Port\" on the \n",
      "TWS \"Edit->Global Configuration...->API->Settings\" menu. Live Trading ports: \n",
      "TWS: 7496; IB Gateway: 4001. Simulated Trading ports for new installations \n",
      "of version 954.1 or newer:  TWS: 7497; IB Gateway: 4002\n"
     ]
    },
    {
     "name": "stdout",
     "output_type": "stream",
     "text": [
      "processing IBM for 20220219 23:59:59 US/Eastern took   3.04 sec\n",
      "processing 20220321 23:59:59 US/Eastern\n"
     ]
    },
    {
     "name": "stderr",
     "output_type": "stream",
     "text": [
      "ERROR -1 502 Couldn't connect to TWS. Confirm that \"Enable ActiveX and Socket EClients\" \n",
      "is enabled and connection port is the same as \"Socket Port\" on the \n",
      "TWS \"Edit->Global Configuration...->API->Settings\" menu. Live Trading ports: \n",
      "TWS: 7496; IB Gateway: 4001. Simulated Trading ports for new installations \n",
      "of version 954.1 or newer:  TWS: 7497; IB Gateway: 4002\n"
     ]
    },
    {
     "name": "stdout",
     "output_type": "stream",
     "text": [
      "processing IBM for 20220321 23:59:59 US/Eastern took   3.05 sec\n",
      "processing 20220420 23:59:59 US/Eastern\n"
     ]
    },
    {
     "name": "stderr",
     "output_type": "stream",
     "text": [
      "ERROR -1 502 Couldn't connect to TWS. Confirm that \"Enable ActiveX and Socket EClients\" \n",
      "is enabled and connection port is the same as \"Socket Port\" on the \n",
      "TWS \"Edit->Global Configuration...->API->Settings\" menu. Live Trading ports: \n",
      "TWS: 7496; IB Gateway: 4001. Simulated Trading ports for new installations \n",
      "of version 954.1 or newer:  TWS: 7497; IB Gateway: 4002\n"
     ]
    },
    {
     "name": "stdout",
     "output_type": "stream",
     "text": [
      "processing IBM for 20220420 23:59:59 US/Eastern took   3.04 sec\n",
      "processing 20220520 23:59:59 US/Eastern\n"
     ]
    },
    {
     "name": "stderr",
     "output_type": "stream",
     "text": [
      "ERROR -1 502 Couldn't connect to TWS. Confirm that \"Enable ActiveX and Socket EClients\" \n",
      "is enabled and connection port is the same as \"Socket Port\" on the \n",
      "TWS \"Edit->Global Configuration...->API->Settings\" menu. Live Trading ports: \n",
      "TWS: 7496; IB Gateway: 4001. Simulated Trading ports for new installations \n",
      "of version 954.1 or newer:  TWS: 7497; IB Gateway: 4002\n"
     ]
    },
    {
     "name": "stdout",
     "output_type": "stream",
     "text": [
      "processing IBM for 20220520 23:59:59 US/Eastern took   3.05 sec\n",
      "processing 20220619 23:59:59 US/Eastern\n"
     ]
    },
    {
     "name": "stderr",
     "output_type": "stream",
     "text": [
      "ERROR -1 502 Couldn't connect to TWS. Confirm that \"Enable ActiveX and Socket EClients\" \n",
      "is enabled and connection port is the same as \"Socket Port\" on the \n",
      "TWS \"Edit->Global Configuration...->API->Settings\" menu. Live Trading ports: \n",
      "TWS: 7496; IB Gateway: 4001. Simulated Trading ports for new installations \n",
      "of version 954.1 or newer:  TWS: 7497; IB Gateway: 4002\n"
     ]
    },
    {
     "name": "stdout",
     "output_type": "stream",
     "text": [
      "processing IBM for 20220619 23:59:59 US/Eastern took   3.06 sec\n",
      "processing 20220719 23:59:59 US/Eastern\n"
     ]
    },
    {
     "name": "stderr",
     "output_type": "stream",
     "text": [
      "ERROR -1 502 Couldn't connect to TWS. Confirm that \"Enable ActiveX and Socket EClients\" \n",
      "is enabled and connection port is the same as \"Socket Port\" on the \n",
      "TWS \"Edit->Global Configuration...->API->Settings\" menu. Live Trading ports: \n",
      "TWS: 7496; IB Gateway: 4001. Simulated Trading ports for new installations \n",
      "of version 954.1 or newer:  TWS: 7497; IB Gateway: 4002\n"
     ]
    },
    {
     "name": "stdout",
     "output_type": "stream",
     "text": [
      "processing IBM for 20220719 23:59:59 US/Eastern took   3.06 sec\n",
      "processing 20220818 23:59:59 US/Eastern\n"
     ]
    },
    {
     "name": "stderr",
     "output_type": "stream",
     "text": [
      "ERROR -1 502 Couldn't connect to TWS. Confirm that \"Enable ActiveX and Socket EClients\" \n",
      "is enabled and connection port is the same as \"Socket Port\" on the \n",
      "TWS \"Edit->Global Configuration...->API->Settings\" menu. Live Trading ports: \n",
      "TWS: 7496; IB Gateway: 4001. Simulated Trading ports for new installations \n",
      "of version 954.1 or newer:  TWS: 7497; IB Gateway: 4002\n"
     ]
    },
    {
     "name": "stdout",
     "output_type": "stream",
     "text": [
      "processing IBM for 20220818 23:59:59 US/Eastern took   3.04 sec\n",
      "processing 20220917 23:59:59 US/Eastern\n"
     ]
    },
    {
     "name": "stderr",
     "output_type": "stream",
     "text": [
      "ERROR -1 502 Couldn't connect to TWS. Confirm that \"Enable ActiveX and Socket EClients\" \n",
      "is enabled and connection port is the same as \"Socket Port\" on the \n",
      "TWS \"Edit->Global Configuration...->API->Settings\" menu. Live Trading ports: \n",
      "TWS: 7496; IB Gateway: 4001. Simulated Trading ports for new installations \n",
      "of version 954.1 or newer:  TWS: 7497; IB Gateway: 4002\n"
     ]
    },
    {
     "name": "stdout",
     "output_type": "stream",
     "text": [
      "processing IBM for 20220917 23:59:59 US/Eastern took   3.05 sec\n",
      "processing 20221017 23:59:59 US/Eastern\n"
     ]
    },
    {
     "name": "stderr",
     "output_type": "stream",
     "text": [
      "ERROR -1 502 Couldn't connect to TWS. Confirm that \"Enable ActiveX and Socket EClients\" \n",
      "is enabled and connection port is the same as \"Socket Port\" on the \n",
      "TWS \"Edit->Global Configuration...->API->Settings\" menu. Live Trading ports: \n",
      "TWS: 7496; IB Gateway: 4001. Simulated Trading ports for new installations \n",
      "of version 954.1 or newer:  TWS: 7497; IB Gateway: 4002\n"
     ]
    },
    {
     "name": "stdout",
     "output_type": "stream",
     "text": [
      "processing IBM for 20221017 23:59:59 US/Eastern took   3.05 sec\n",
      "processing 20221116 23:59:59 US/Eastern\n"
     ]
    },
    {
     "name": "stderr",
     "output_type": "stream",
     "text": [
      "ERROR -1 502 Couldn't connect to TWS. Confirm that \"Enable ActiveX and Socket EClients\" \n",
      "is enabled and connection port is the same as \"Socket Port\" on the \n",
      "TWS \"Edit->Global Configuration...->API->Settings\" menu. Live Trading ports: \n",
      "TWS: 7496; IB Gateway: 4001. Simulated Trading ports for new installations \n",
      "of version 954.1 or newer:  TWS: 7497; IB Gateway: 4002\n"
     ]
    },
    {
     "name": "stdout",
     "output_type": "stream",
     "text": [
      "processing IBM for 20221116 23:59:59 US/Eastern took   3.06 sec\n",
      "processing 20221216 23:59:59 US/Eastern\n"
     ]
    },
    {
     "name": "stderr",
     "output_type": "stream",
     "text": [
      "ERROR -1 502 Couldn't connect to TWS. Confirm that \"Enable ActiveX and Socket EClients\" \n",
      "is enabled and connection port is the same as \"Socket Port\" on the \n",
      "TWS \"Edit->Global Configuration...->API->Settings\" menu. Live Trading ports: \n",
      "TWS: 7496; IB Gateway: 4001. Simulated Trading ports for new installations \n",
      "of version 954.1 or newer:  TWS: 7497; IB Gateway: 4002\n"
     ]
    },
    {
     "name": "stdout",
     "output_type": "stream",
     "text": [
      "processing IBM for 20221216 23:59:59 US/Eastern took   3.03 sec\n",
      "processing 20230115 23:59:59 US/Eastern\n"
     ]
    },
    {
     "name": "stderr",
     "output_type": "stream",
     "text": [
      "ERROR -1 502 Couldn't connect to TWS. Confirm that \"Enable ActiveX and Socket EClients\" \n",
      "is enabled and connection port is the same as \"Socket Port\" on the \n",
      "TWS \"Edit->Global Configuration...->API->Settings\" menu. Live Trading ports: \n",
      "TWS: 7496; IB Gateway: 4001. Simulated Trading ports for new installations \n",
      "of version 954.1 or newer:  TWS: 7497; IB Gateway: 4002\n"
     ]
    },
    {
     "name": "stdout",
     "output_type": "stream",
     "text": [
      "processing IBM for 20230115 23:59:59 US/Eastern took   3.05 sec\n",
      "processing 20230214 23:59:59 US/Eastern\n"
     ]
    },
    {
     "name": "stderr",
     "output_type": "stream",
     "text": [
      "ERROR -1 502 Couldn't connect to TWS. Confirm that \"Enable ActiveX and Socket EClients\" \n",
      "is enabled and connection port is the same as \"Socket Port\" on the \n",
      "TWS \"Edit->Global Configuration...->API->Settings\" menu. Live Trading ports: \n",
      "TWS: 7496; IB Gateway: 4001. Simulated Trading ports for new installations \n",
      "of version 954.1 or newer:  TWS: 7497; IB Gateway: 4002\n"
     ]
    },
    {
     "name": "stdout",
     "output_type": "stream",
     "text": [
      "processing IBM for 20230214 23:59:59 US/Eastern took   3.03 sec\n",
      "processing 20230316 23:59:59 US/Eastern\n"
     ]
    },
    {
     "name": "stderr",
     "output_type": "stream",
     "text": [
      "ERROR -1 502 Couldn't connect to TWS. Confirm that \"Enable ActiveX and Socket EClients\" \n",
      "is enabled and connection port is the same as \"Socket Port\" on the \n",
      "TWS \"Edit->Global Configuration...->API->Settings\" menu. Live Trading ports: \n",
      "TWS: 7496; IB Gateway: 4001. Simulated Trading ports for new installations \n",
      "of version 954.1 or newer:  TWS: 7497; IB Gateway: 4002\n"
     ]
    },
    {
     "name": "stdout",
     "output_type": "stream",
     "text": [
      "processing IBM for 20230316 23:59:59 US/Eastern took   3.05 sec\n",
      "Processing INTC\n",
      "processing 20200101 23:59:59 US/Eastern\n"
     ]
    },
    {
     "name": "stderr",
     "output_type": "stream",
     "text": [
      "ERROR -1 502 Couldn't connect to TWS. Confirm that \"Enable ActiveX and Socket EClients\" \n",
      "is enabled and connection port is the same as \"Socket Port\" on the \n",
      "TWS \"Edit->Global Configuration...->API->Settings\" menu. Live Trading ports: \n",
      "TWS: 7496; IB Gateway: 4001. Simulated Trading ports for new installations \n",
      "of version 954.1 or newer:  TWS: 7497; IB Gateway: 4002\n"
     ]
    },
    {
     "name": "stdout",
     "output_type": "stream",
     "text": [
      "processing INTC for 20200101 23:59:59 US/Eastern took   3.05 sec\n",
      "processing 20200131 23:59:59 US/Eastern\n"
     ]
    },
    {
     "name": "stderr",
     "output_type": "stream",
     "text": [
      "ERROR -1 502 Couldn't connect to TWS. Confirm that \"Enable ActiveX and Socket EClients\" \n",
      "is enabled and connection port is the same as \"Socket Port\" on the \n",
      "TWS \"Edit->Global Configuration...->API->Settings\" menu. Live Trading ports: \n",
      "TWS: 7496; IB Gateway: 4001. Simulated Trading ports for new installations \n",
      "of version 954.1 or newer:  TWS: 7497; IB Gateway: 4002\n"
     ]
    },
    {
     "name": "stdout",
     "output_type": "stream",
     "text": [
      "processing INTC for 20200131 23:59:59 US/Eastern took   3.05 sec\n",
      "processing 20200301 23:59:59 US/Eastern\n"
     ]
    },
    {
     "name": "stderr",
     "output_type": "stream",
     "text": [
      "ERROR -1 502 Couldn't connect to TWS. Confirm that \"Enable ActiveX and Socket EClients\" \n",
      "is enabled and connection port is the same as \"Socket Port\" on the \n",
      "TWS \"Edit->Global Configuration...->API->Settings\" menu. Live Trading ports: \n",
      "TWS: 7496; IB Gateway: 4001. Simulated Trading ports for new installations \n",
      "of version 954.1 or newer:  TWS: 7497; IB Gateway: 4002\n"
     ]
    },
    {
     "name": "stdout",
     "output_type": "stream",
     "text": [
      "processing INTC for 20200301 23:59:59 US/Eastern took   3.04 sec\n",
      "processing 20200331 23:59:59 US/Eastern\n"
     ]
    },
    {
     "name": "stderr",
     "output_type": "stream",
     "text": [
      "ERROR -1 502 Couldn't connect to TWS. Confirm that \"Enable ActiveX and Socket EClients\" \n",
      "is enabled and connection port is the same as \"Socket Port\" on the \n",
      "TWS \"Edit->Global Configuration...->API->Settings\" menu. Live Trading ports: \n",
      "TWS: 7496; IB Gateway: 4001. Simulated Trading ports for new installations \n",
      "of version 954.1 or newer:  TWS: 7497; IB Gateway: 4002\n"
     ]
    },
    {
     "name": "stdout",
     "output_type": "stream",
     "text": [
      "processing INTC for 20200331 23:59:59 US/Eastern took   3.06 sec\n",
      "processing 20200430 23:59:59 US/Eastern\n"
     ]
    },
    {
     "name": "stderr",
     "output_type": "stream",
     "text": [
      "ERROR -1 502 Couldn't connect to TWS. Confirm that \"Enable ActiveX and Socket EClients\" \n",
      "is enabled and connection port is the same as \"Socket Port\" on the \n",
      "TWS \"Edit->Global Configuration...->API->Settings\" menu. Live Trading ports: \n",
      "TWS: 7496; IB Gateway: 4001. Simulated Trading ports for new installations \n",
      "of version 954.1 or newer:  TWS: 7497; IB Gateway: 4002\n"
     ]
    },
    {
     "name": "stdout",
     "output_type": "stream",
     "text": [
      "processing INTC for 20200430 23:59:59 US/Eastern took   3.05 sec\n",
      "processing 20200530 23:59:59 US/Eastern\n"
     ]
    },
    {
     "name": "stderr",
     "output_type": "stream",
     "text": [
      "ERROR -1 502 Couldn't connect to TWS. Confirm that \"Enable ActiveX and Socket EClients\" \n",
      "is enabled and connection port is the same as \"Socket Port\" on the \n",
      "TWS \"Edit->Global Configuration...->API->Settings\" menu. Live Trading ports: \n",
      "TWS: 7496; IB Gateway: 4001. Simulated Trading ports for new installations \n",
      "of version 954.1 or newer:  TWS: 7497; IB Gateway: 4002\n"
     ]
    },
    {
     "name": "stdout",
     "output_type": "stream",
     "text": [
      "processing INTC for 20200530 23:59:59 US/Eastern took   3.06 sec\n",
      "processing 20200629 23:59:59 US/Eastern\n"
     ]
    },
    {
     "name": "stderr",
     "output_type": "stream",
     "text": [
      "ERROR -1 502 Couldn't connect to TWS. Confirm that \"Enable ActiveX and Socket EClients\" \n",
      "is enabled and connection port is the same as \"Socket Port\" on the \n",
      "TWS \"Edit->Global Configuration...->API->Settings\" menu. Live Trading ports: \n",
      "TWS: 7496; IB Gateway: 4001. Simulated Trading ports for new installations \n",
      "of version 954.1 or newer:  TWS: 7497; IB Gateway: 4002\n"
     ]
    },
    {
     "name": "stdout",
     "output_type": "stream",
     "text": [
      "processing INTC for 20200629 23:59:59 US/Eastern took   3.04 sec\n",
      "processing 20200729 23:59:59 US/Eastern\n"
     ]
    },
    {
     "name": "stderr",
     "output_type": "stream",
     "text": [
      "ERROR -1 502 Couldn't connect to TWS. Confirm that \"Enable ActiveX and Socket EClients\" \n",
      "is enabled and connection port is the same as \"Socket Port\" on the \n",
      "TWS \"Edit->Global Configuration...->API->Settings\" menu. Live Trading ports: \n",
      "TWS: 7496; IB Gateway: 4001. Simulated Trading ports for new installations \n",
      "of version 954.1 or newer:  TWS: 7497; IB Gateway: 4002\n"
     ]
    },
    {
     "name": "stdout",
     "output_type": "stream",
     "text": [
      "processing INTC for 20200729 23:59:59 US/Eastern took   3.05 sec\n",
      "processing 20200828 23:59:59 US/Eastern\n"
     ]
    },
    {
     "name": "stderr",
     "output_type": "stream",
     "text": [
      "ERROR -1 502 Couldn't connect to TWS. Confirm that \"Enable ActiveX and Socket EClients\" \n",
      "is enabled and connection port is the same as \"Socket Port\" on the \n",
      "TWS \"Edit->Global Configuration...->API->Settings\" menu. Live Trading ports: \n",
      "TWS: 7496; IB Gateway: 4001. Simulated Trading ports for new installations \n",
      "of version 954.1 or newer:  TWS: 7497; IB Gateway: 4002\n"
     ]
    },
    {
     "name": "stdout",
     "output_type": "stream",
     "text": [
      "processing INTC for 20200828 23:59:59 US/Eastern took   3.05 sec\n",
      "processing 20200927 23:59:59 US/Eastern\n"
     ]
    },
    {
     "name": "stderr",
     "output_type": "stream",
     "text": [
      "ERROR -1 502 Couldn't connect to TWS. Confirm that \"Enable ActiveX and Socket EClients\" \n",
      "is enabled and connection port is the same as \"Socket Port\" on the \n",
      "TWS \"Edit->Global Configuration...->API->Settings\" menu. Live Trading ports: \n",
      "TWS: 7496; IB Gateway: 4001. Simulated Trading ports for new installations \n",
      "of version 954.1 or newer:  TWS: 7497; IB Gateway: 4002\n"
     ]
    },
    {
     "name": "stdout",
     "output_type": "stream",
     "text": [
      "processing INTC for 20200927 23:59:59 US/Eastern took   3.04 sec\n",
      "processing 20201027 23:59:59 US/Eastern\n"
     ]
    },
    {
     "name": "stderr",
     "output_type": "stream",
     "text": [
      "ERROR -1 502 Couldn't connect to TWS. Confirm that \"Enable ActiveX and Socket EClients\" \n",
      "is enabled and connection port is the same as \"Socket Port\" on the \n",
      "TWS \"Edit->Global Configuration...->API->Settings\" menu. Live Trading ports: \n",
      "TWS: 7496; IB Gateway: 4001. Simulated Trading ports for new installations \n",
      "of version 954.1 or newer:  TWS: 7497; IB Gateway: 4002\n"
     ]
    },
    {
     "name": "stdout",
     "output_type": "stream",
     "text": [
      "processing INTC for 20201027 23:59:59 US/Eastern took   3.05 sec\n",
      "processing 20201126 23:59:59 US/Eastern\n"
     ]
    },
    {
     "name": "stderr",
     "output_type": "stream",
     "text": [
      "ERROR -1 502 Couldn't connect to TWS. Confirm that \"Enable ActiveX and Socket EClients\" \n",
      "is enabled and connection port is the same as \"Socket Port\" on the \n",
      "TWS \"Edit->Global Configuration...->API->Settings\" menu. Live Trading ports: \n",
      "TWS: 7496; IB Gateway: 4001. Simulated Trading ports for new installations \n",
      "of version 954.1 or newer:  TWS: 7497; IB Gateway: 4002\n"
     ]
    },
    {
     "name": "stdout",
     "output_type": "stream",
     "text": [
      "processing INTC for 20201126 23:59:59 US/Eastern took   3.04 sec\n",
      "processing 20201226 23:59:59 US/Eastern\n"
     ]
    },
    {
     "name": "stderr",
     "output_type": "stream",
     "text": [
      "ERROR -1 502 Couldn't connect to TWS. Confirm that \"Enable ActiveX and Socket EClients\" \n",
      "is enabled and connection port is the same as \"Socket Port\" on the \n",
      "TWS \"Edit->Global Configuration...->API->Settings\" menu. Live Trading ports: \n",
      "TWS: 7496; IB Gateway: 4001. Simulated Trading ports for new installations \n",
      "of version 954.1 or newer:  TWS: 7497; IB Gateway: 4002\n"
     ]
    },
    {
     "name": "stdout",
     "output_type": "stream",
     "text": [
      "processing INTC for 20201226 23:59:59 US/Eastern took   3.05 sec\n",
      "processing 20210125 23:59:59 US/Eastern\n"
     ]
    },
    {
     "name": "stderr",
     "output_type": "stream",
     "text": [
      "ERROR -1 502 Couldn't connect to TWS. Confirm that \"Enable ActiveX and Socket EClients\" \n",
      "is enabled and connection port is the same as \"Socket Port\" on the \n",
      "TWS \"Edit->Global Configuration...->API->Settings\" menu. Live Trading ports: \n",
      "TWS: 7496; IB Gateway: 4001. Simulated Trading ports for new installations \n",
      "of version 954.1 or newer:  TWS: 7497; IB Gateway: 4002\n"
     ]
    },
    {
     "name": "stdout",
     "output_type": "stream",
     "text": [
      "processing INTC for 20210125 23:59:59 US/Eastern took   3.04 sec\n",
      "processing 20210224 23:59:59 US/Eastern\n"
     ]
    },
    {
     "name": "stderr",
     "output_type": "stream",
     "text": [
      "ERROR -1 502 Couldn't connect to TWS. Confirm that \"Enable ActiveX and Socket EClients\" \n",
      "is enabled and connection port is the same as \"Socket Port\" on the \n",
      "TWS \"Edit->Global Configuration...->API->Settings\" menu. Live Trading ports: \n",
      "TWS: 7496; IB Gateway: 4001. Simulated Trading ports for new installations \n",
      "of version 954.1 or newer:  TWS: 7497; IB Gateway: 4002\n"
     ]
    },
    {
     "name": "stdout",
     "output_type": "stream",
     "text": [
      "processing INTC for 20210224 23:59:59 US/Eastern took   3.04 sec\n",
      "processing 20210326 23:59:59 US/Eastern\n"
     ]
    },
    {
     "name": "stderr",
     "output_type": "stream",
     "text": [
      "ERROR -1 502 Couldn't connect to TWS. Confirm that \"Enable ActiveX and Socket EClients\" \n",
      "is enabled and connection port is the same as \"Socket Port\" on the \n",
      "TWS \"Edit->Global Configuration...->API->Settings\" menu. Live Trading ports: \n",
      "TWS: 7496; IB Gateway: 4001. Simulated Trading ports for new installations \n",
      "of version 954.1 or newer:  TWS: 7497; IB Gateway: 4002\n"
     ]
    },
    {
     "name": "stdout",
     "output_type": "stream",
     "text": [
      "processing INTC for 20210326 23:59:59 US/Eastern took   3.03 sec\n",
      "processing 20210425 23:59:59 US/Eastern\n"
     ]
    },
    {
     "name": "stderr",
     "output_type": "stream",
     "text": [
      "ERROR -1 502 Couldn't connect to TWS. Confirm that \"Enable ActiveX and Socket EClients\" \n",
      "is enabled and connection port is the same as \"Socket Port\" on the \n",
      "TWS \"Edit->Global Configuration...->API->Settings\" menu. Live Trading ports: \n",
      "TWS: 7496; IB Gateway: 4001. Simulated Trading ports for new installations \n",
      "of version 954.1 or newer:  TWS: 7497; IB Gateway: 4002\n"
     ]
    },
    {
     "name": "stdout",
     "output_type": "stream",
     "text": [
      "processing INTC for 20210425 23:59:59 US/Eastern took   3.05 sec\n",
      "processing 20210525 23:59:59 US/Eastern\n"
     ]
    },
    {
     "name": "stderr",
     "output_type": "stream",
     "text": [
      "ERROR -1 502 Couldn't connect to TWS. Confirm that \"Enable ActiveX and Socket EClients\" \n",
      "is enabled and connection port is the same as \"Socket Port\" on the \n",
      "TWS \"Edit->Global Configuration...->API->Settings\" menu. Live Trading ports: \n",
      "TWS: 7496; IB Gateway: 4001. Simulated Trading ports for new installations \n",
      "of version 954.1 or newer:  TWS: 7497; IB Gateway: 4002\n"
     ]
    },
    {
     "name": "stdout",
     "output_type": "stream",
     "text": [
      "processing INTC for 20210525 23:59:59 US/Eastern took   3.04 sec\n",
      "processing 20210624 23:59:59 US/Eastern\n"
     ]
    },
    {
     "name": "stderr",
     "output_type": "stream",
     "text": [
      "ERROR -1 502 Couldn't connect to TWS. Confirm that \"Enable ActiveX and Socket EClients\" \n",
      "is enabled and connection port is the same as \"Socket Port\" on the \n",
      "TWS \"Edit->Global Configuration...->API->Settings\" menu. Live Trading ports: \n",
      "TWS: 7496; IB Gateway: 4001. Simulated Trading ports for new installations \n",
      "of version 954.1 or newer:  TWS: 7497; IB Gateway: 4002\n"
     ]
    },
    {
     "name": "stdout",
     "output_type": "stream",
     "text": [
      "processing INTC for 20210624 23:59:59 US/Eastern took   3.04 sec\n",
      "processing 20210724 23:59:59 US/Eastern\n"
     ]
    },
    {
     "name": "stderr",
     "output_type": "stream",
     "text": [
      "ERROR -1 502 Couldn't connect to TWS. Confirm that \"Enable ActiveX and Socket EClients\" \n",
      "is enabled and connection port is the same as \"Socket Port\" on the \n",
      "TWS \"Edit->Global Configuration...->API->Settings\" menu. Live Trading ports: \n",
      "TWS: 7496; IB Gateway: 4001. Simulated Trading ports for new installations \n",
      "of version 954.1 or newer:  TWS: 7497; IB Gateway: 4002\n"
     ]
    },
    {
     "name": "stdout",
     "output_type": "stream",
     "text": [
      "processing INTC for 20210724 23:59:59 US/Eastern took   3.04 sec\n",
      "processing 20210823 23:59:59 US/Eastern\n"
     ]
    },
    {
     "name": "stderr",
     "output_type": "stream",
     "text": [
      "ERROR -1 502 Couldn't connect to TWS. Confirm that \"Enable ActiveX and Socket EClients\" \n",
      "is enabled and connection port is the same as \"Socket Port\" on the \n",
      "TWS \"Edit->Global Configuration...->API->Settings\" menu. Live Trading ports: \n",
      "TWS: 7496; IB Gateway: 4001. Simulated Trading ports for new installations \n",
      "of version 954.1 or newer:  TWS: 7497; IB Gateway: 4002\n"
     ]
    },
    {
     "name": "stdout",
     "output_type": "stream",
     "text": [
      "processing INTC for 20210823 23:59:59 US/Eastern took   3.03 sec\n",
      "processing 20210922 23:59:59 US/Eastern\n"
     ]
    },
    {
     "name": "stderr",
     "output_type": "stream",
     "text": [
      "ERROR -1 502 Couldn't connect to TWS. Confirm that \"Enable ActiveX and Socket EClients\" \n",
      "is enabled and connection port is the same as \"Socket Port\" on the \n",
      "TWS \"Edit->Global Configuration...->API->Settings\" menu. Live Trading ports: \n",
      "TWS: 7496; IB Gateway: 4001. Simulated Trading ports for new installations \n",
      "of version 954.1 or newer:  TWS: 7497; IB Gateway: 4002\n"
     ]
    },
    {
     "name": "stdout",
     "output_type": "stream",
     "text": [
      "processing INTC for 20210922 23:59:59 US/Eastern took   3.05 sec\n",
      "processing 20211022 23:59:59 US/Eastern\n"
     ]
    },
    {
     "name": "stderr",
     "output_type": "stream",
     "text": [
      "ERROR -1 502 Couldn't connect to TWS. Confirm that \"Enable ActiveX and Socket EClients\" \n",
      "is enabled and connection port is the same as \"Socket Port\" on the \n",
      "TWS \"Edit->Global Configuration...->API->Settings\" menu. Live Trading ports: \n",
      "TWS: 7496; IB Gateway: 4001. Simulated Trading ports for new installations \n",
      "of version 954.1 or newer:  TWS: 7497; IB Gateway: 4002\n"
     ]
    },
    {
     "name": "stdout",
     "output_type": "stream",
     "text": [
      "processing INTC for 20211022 23:59:59 US/Eastern took   3.05 sec\n",
      "processing 20211121 23:59:59 US/Eastern\n"
     ]
    },
    {
     "name": "stderr",
     "output_type": "stream",
     "text": [
      "ERROR -1 502 Couldn't connect to TWS. Confirm that \"Enable ActiveX and Socket EClients\" \n",
      "is enabled and connection port is the same as \"Socket Port\" on the \n",
      "TWS \"Edit->Global Configuration...->API->Settings\" menu. Live Trading ports: \n",
      "TWS: 7496; IB Gateway: 4001. Simulated Trading ports for new installations \n",
      "of version 954.1 or newer:  TWS: 7497; IB Gateway: 4002\n"
     ]
    },
    {
     "name": "stdout",
     "output_type": "stream",
     "text": [
      "processing INTC for 20211121 23:59:59 US/Eastern took   3.06 sec\n",
      "processing 20211221 23:59:59 US/Eastern\n"
     ]
    },
    {
     "name": "stderr",
     "output_type": "stream",
     "text": [
      "ERROR -1 502 Couldn't connect to TWS. Confirm that \"Enable ActiveX and Socket EClients\" \n",
      "is enabled and connection port is the same as \"Socket Port\" on the \n",
      "TWS \"Edit->Global Configuration...->API->Settings\" menu. Live Trading ports: \n",
      "TWS: 7496; IB Gateway: 4001. Simulated Trading ports for new installations \n",
      "of version 954.1 or newer:  TWS: 7497; IB Gateway: 4002\n"
     ]
    },
    {
     "name": "stdout",
     "output_type": "stream",
     "text": [
      "processing INTC for 20211221 23:59:59 US/Eastern took   3.04 sec\n",
      "processing 20220120 23:59:59 US/Eastern\n"
     ]
    },
    {
     "name": "stderr",
     "output_type": "stream",
     "text": [
      "ERROR -1 502 Couldn't connect to TWS. Confirm that \"Enable ActiveX and Socket EClients\" \n",
      "is enabled and connection port is the same as \"Socket Port\" on the \n",
      "TWS \"Edit->Global Configuration...->API->Settings\" menu. Live Trading ports: \n",
      "TWS: 7496; IB Gateway: 4001. Simulated Trading ports for new installations \n",
      "of version 954.1 or newer:  TWS: 7497; IB Gateway: 4002\n"
     ]
    },
    {
     "name": "stdout",
     "output_type": "stream",
     "text": [
      "processing INTC for 20220120 23:59:59 US/Eastern took   3.06 sec\n",
      "processing 20220219 23:59:59 US/Eastern\n"
     ]
    },
    {
     "name": "stderr",
     "output_type": "stream",
     "text": [
      "ERROR -1 502 Couldn't connect to TWS. Confirm that \"Enable ActiveX and Socket EClients\" \n",
      "is enabled and connection port is the same as \"Socket Port\" on the \n",
      "TWS \"Edit->Global Configuration...->API->Settings\" menu. Live Trading ports: \n",
      "TWS: 7496; IB Gateway: 4001. Simulated Trading ports for new installations \n",
      "of version 954.1 or newer:  TWS: 7497; IB Gateway: 4002\n"
     ]
    },
    {
     "name": "stdout",
     "output_type": "stream",
     "text": [
      "processing INTC for 20220219 23:59:59 US/Eastern took   3.05 sec\n",
      "processing 20220321 23:59:59 US/Eastern\n"
     ]
    },
    {
     "name": "stderr",
     "output_type": "stream",
     "text": [
      "ERROR -1 502 Couldn't connect to TWS. Confirm that \"Enable ActiveX and Socket EClients\" \n",
      "is enabled and connection port is the same as \"Socket Port\" on the \n",
      "TWS \"Edit->Global Configuration...->API->Settings\" menu. Live Trading ports: \n",
      "TWS: 7496; IB Gateway: 4001. Simulated Trading ports for new installations \n",
      "of version 954.1 or newer:  TWS: 7497; IB Gateway: 4002\n"
     ]
    },
    {
     "name": "stdout",
     "output_type": "stream",
     "text": [
      "processing INTC for 20220321 23:59:59 US/Eastern took   3.05 sec\n",
      "processing 20220420 23:59:59 US/Eastern\n"
     ]
    },
    {
     "name": "stderr",
     "output_type": "stream",
     "text": [
      "ERROR -1 502 Couldn't connect to TWS. Confirm that \"Enable ActiveX and Socket EClients\" \n",
      "is enabled and connection port is the same as \"Socket Port\" on the \n",
      "TWS \"Edit->Global Configuration...->API->Settings\" menu. Live Trading ports: \n",
      "TWS: 7496; IB Gateway: 4001. Simulated Trading ports for new installations \n",
      "of version 954.1 or newer:  TWS: 7497; IB Gateway: 4002\n"
     ]
    },
    {
     "name": "stdout",
     "output_type": "stream",
     "text": [
      "processing INTC for 20220420 23:59:59 US/Eastern took   3.04 sec\n",
      "processing 20220520 23:59:59 US/Eastern\n"
     ]
    },
    {
     "name": "stderr",
     "output_type": "stream",
     "text": [
      "ERROR -1 502 Couldn't connect to TWS. Confirm that \"Enable ActiveX and Socket EClients\" \n",
      "is enabled and connection port is the same as \"Socket Port\" on the \n",
      "TWS \"Edit->Global Configuration...->API->Settings\" menu. Live Trading ports: \n",
      "TWS: 7496; IB Gateway: 4001. Simulated Trading ports for new installations \n",
      "of version 954.1 or newer:  TWS: 7497; IB Gateway: 4002\n"
     ]
    },
    {
     "name": "stdout",
     "output_type": "stream",
     "text": [
      "processing INTC for 20220520 23:59:59 US/Eastern took   3.05 sec\n",
      "processing 20220619 23:59:59 US/Eastern\n"
     ]
    },
    {
     "name": "stderr",
     "output_type": "stream",
     "text": [
      "ERROR -1 502 Couldn't connect to TWS. Confirm that \"Enable ActiveX and Socket EClients\" \n",
      "is enabled and connection port is the same as \"Socket Port\" on the \n",
      "TWS \"Edit->Global Configuration...->API->Settings\" menu. Live Trading ports: \n",
      "TWS: 7496; IB Gateway: 4001. Simulated Trading ports for new installations \n",
      "of version 954.1 or newer:  TWS: 7497; IB Gateway: 4002\n"
     ]
    },
    {
     "name": "stdout",
     "output_type": "stream",
     "text": [
      "processing INTC for 20220619 23:59:59 US/Eastern took   3.04 sec\n",
      "processing 20220719 23:59:59 US/Eastern\n"
     ]
    },
    {
     "name": "stderr",
     "output_type": "stream",
     "text": [
      "ERROR -1 502 Couldn't connect to TWS. Confirm that \"Enable ActiveX and Socket EClients\" \n",
      "is enabled and connection port is the same as \"Socket Port\" on the \n",
      "TWS \"Edit->Global Configuration...->API->Settings\" menu. Live Trading ports: \n",
      "TWS: 7496; IB Gateway: 4001. Simulated Trading ports for new installations \n",
      "of version 954.1 or newer:  TWS: 7497; IB Gateway: 4002\n"
     ]
    },
    {
     "name": "stdout",
     "output_type": "stream",
     "text": [
      "processing INTC for 20220719 23:59:59 US/Eastern took   3.05 sec\n",
      "processing 20220818 23:59:59 US/Eastern\n"
     ]
    },
    {
     "name": "stderr",
     "output_type": "stream",
     "text": [
      "ERROR -1 502 Couldn't connect to TWS. Confirm that \"Enable ActiveX and Socket EClients\" \n",
      "is enabled and connection port is the same as \"Socket Port\" on the \n",
      "TWS \"Edit->Global Configuration...->API->Settings\" menu. Live Trading ports: \n",
      "TWS: 7496; IB Gateway: 4001. Simulated Trading ports for new installations \n",
      "of version 954.1 or newer:  TWS: 7497; IB Gateway: 4002\n"
     ]
    },
    {
     "name": "stdout",
     "output_type": "stream",
     "text": [
      "processing INTC for 20220818 23:59:59 US/Eastern took   3.06 sec\n",
      "processing 20220917 23:59:59 US/Eastern\n"
     ]
    },
    {
     "name": "stderr",
     "output_type": "stream",
     "text": [
      "ERROR -1 502 Couldn't connect to TWS. Confirm that \"Enable ActiveX and Socket EClients\" \n",
      "is enabled and connection port is the same as \"Socket Port\" on the \n",
      "TWS \"Edit->Global Configuration...->API->Settings\" menu. Live Trading ports: \n",
      "TWS: 7496; IB Gateway: 4001. Simulated Trading ports for new installations \n",
      "of version 954.1 or newer:  TWS: 7497; IB Gateway: 4002\n"
     ]
    },
    {
     "name": "stdout",
     "output_type": "stream",
     "text": [
      "processing INTC for 20220917 23:59:59 US/Eastern took   3.05 sec\n",
      "processing 20221017 23:59:59 US/Eastern\n"
     ]
    },
    {
     "name": "stderr",
     "output_type": "stream",
     "text": [
      "ERROR -1 502 Couldn't connect to TWS. Confirm that \"Enable ActiveX and Socket EClients\" \n",
      "is enabled and connection port is the same as \"Socket Port\" on the \n",
      "TWS \"Edit->Global Configuration...->API->Settings\" menu. Live Trading ports: \n",
      "TWS: 7496; IB Gateway: 4001. Simulated Trading ports for new installations \n",
      "of version 954.1 or newer:  TWS: 7497; IB Gateway: 4002\n"
     ]
    },
    {
     "name": "stdout",
     "output_type": "stream",
     "text": [
      "processing INTC for 20221017 23:59:59 US/Eastern took   3.06 sec\n",
      "processing 20221116 23:59:59 US/Eastern\n"
     ]
    },
    {
     "name": "stderr",
     "output_type": "stream",
     "text": [
      "ERROR -1 502 Couldn't connect to TWS. Confirm that \"Enable ActiveX and Socket EClients\" \n",
      "is enabled and connection port is the same as \"Socket Port\" on the \n",
      "TWS \"Edit->Global Configuration...->API->Settings\" menu. Live Trading ports: \n",
      "TWS: 7496; IB Gateway: 4001. Simulated Trading ports for new installations \n",
      "of version 954.1 or newer:  TWS: 7497; IB Gateway: 4002\n"
     ]
    },
    {
     "name": "stdout",
     "output_type": "stream",
     "text": [
      "processing INTC for 20221116 23:59:59 US/Eastern took   3.04 sec\n",
      "processing 20221216 23:59:59 US/Eastern\n"
     ]
    },
    {
     "name": "stderr",
     "output_type": "stream",
     "text": [
      "ERROR -1 502 Couldn't connect to TWS. Confirm that \"Enable ActiveX and Socket EClients\" \n",
      "is enabled and connection port is the same as \"Socket Port\" on the \n",
      "TWS \"Edit->Global Configuration...->API->Settings\" menu. Live Trading ports: \n",
      "TWS: 7496; IB Gateway: 4001. Simulated Trading ports for new installations \n",
      "of version 954.1 or newer:  TWS: 7497; IB Gateway: 4002\n"
     ]
    },
    {
     "name": "stdout",
     "output_type": "stream",
     "text": [
      "processing INTC for 20221216 23:59:59 US/Eastern took   3.04 sec\n",
      "processing 20230115 23:59:59 US/Eastern\n"
     ]
    },
    {
     "name": "stderr",
     "output_type": "stream",
     "text": [
      "ERROR -1 502 Couldn't connect to TWS. Confirm that \"Enable ActiveX and Socket EClients\" \n",
      "is enabled and connection port is the same as \"Socket Port\" on the \n",
      "TWS \"Edit->Global Configuration...->API->Settings\" menu. Live Trading ports: \n",
      "TWS: 7496; IB Gateway: 4001. Simulated Trading ports for new installations \n",
      "of version 954.1 or newer:  TWS: 7497; IB Gateway: 4002\n"
     ]
    },
    {
     "name": "stdout",
     "output_type": "stream",
     "text": [
      "processing INTC for 20230115 23:59:59 US/Eastern took   3.06 sec\n",
      "processing 20230214 23:59:59 US/Eastern\n"
     ]
    },
    {
     "name": "stderr",
     "output_type": "stream",
     "text": [
      "ERROR -1 502 Couldn't connect to TWS. Confirm that \"Enable ActiveX and Socket EClients\" \n",
      "is enabled and connection port is the same as \"Socket Port\" on the \n",
      "TWS \"Edit->Global Configuration...->API->Settings\" menu. Live Trading ports: \n",
      "TWS: 7496; IB Gateway: 4001. Simulated Trading ports for new installations \n",
      "of version 954.1 or newer:  TWS: 7497; IB Gateway: 4002\n"
     ]
    },
    {
     "name": "stdout",
     "output_type": "stream",
     "text": [
      "processing INTC for 20230214 23:59:59 US/Eastern took   3.06 sec\n",
      "processing 20230316 23:59:59 US/Eastern\n"
     ]
    },
    {
     "name": "stderr",
     "output_type": "stream",
     "text": [
      "ERROR -1 502 Couldn't connect to TWS. Confirm that \"Enable ActiveX and Socket EClients\" \n",
      "is enabled and connection port is the same as \"Socket Port\" on the \n",
      "TWS \"Edit->Global Configuration...->API->Settings\" menu. Live Trading ports: \n",
      "TWS: 7496; IB Gateway: 4001. Simulated Trading ports for new installations \n",
      "of version 954.1 or newer:  TWS: 7497; IB Gateway: 4002\n"
     ]
    },
    {
     "name": "stdout",
     "output_type": "stream",
     "text": [
      "processing INTC for 20230316 23:59:59 US/Eastern took   3.06 sec\n",
      "Processing JNJ\n",
      "processing 20200101 23:59:59 US/Eastern\n"
     ]
    },
    {
     "name": "stderr",
     "output_type": "stream",
     "text": [
      "ERROR -1 502 Couldn't connect to TWS. Confirm that \"Enable ActiveX and Socket EClients\" \n",
      "is enabled and connection port is the same as \"Socket Port\" on the \n",
      "TWS \"Edit->Global Configuration...->API->Settings\" menu. Live Trading ports: \n",
      "TWS: 7496; IB Gateway: 4001. Simulated Trading ports for new installations \n",
      "of version 954.1 or newer:  TWS: 7497; IB Gateway: 4002\n"
     ]
    },
    {
     "name": "stdout",
     "output_type": "stream",
     "text": [
      "processing JNJ for 20200101 23:59:59 US/Eastern took   3.05 sec\n",
      "processing 20200131 23:59:59 US/Eastern\n"
     ]
    },
    {
     "name": "stderr",
     "output_type": "stream",
     "text": [
      "ERROR -1 502 Couldn't connect to TWS. Confirm that \"Enable ActiveX and Socket EClients\" \n",
      "is enabled and connection port is the same as \"Socket Port\" on the \n",
      "TWS \"Edit->Global Configuration...->API->Settings\" menu. Live Trading ports: \n",
      "TWS: 7496; IB Gateway: 4001. Simulated Trading ports for new installations \n",
      "of version 954.1 or newer:  TWS: 7497; IB Gateway: 4002\n"
     ]
    },
    {
     "name": "stdout",
     "output_type": "stream",
     "text": [
      "processing JNJ for 20200131 23:59:59 US/Eastern took   3.06 sec\n",
      "processing 20200301 23:59:59 US/Eastern\n"
     ]
    },
    {
     "name": "stderr",
     "output_type": "stream",
     "text": [
      "ERROR -1 502 Couldn't connect to TWS. Confirm that \"Enable ActiveX and Socket EClients\" \n",
      "is enabled and connection port is the same as \"Socket Port\" on the \n",
      "TWS \"Edit->Global Configuration...->API->Settings\" menu. Live Trading ports: \n",
      "TWS: 7496; IB Gateway: 4001. Simulated Trading ports for new installations \n",
      "of version 954.1 or newer:  TWS: 7497; IB Gateway: 4002\n"
     ]
    },
    {
     "name": "stdout",
     "output_type": "stream",
     "text": [
      "processing JNJ for 20200301 23:59:59 US/Eastern took   3.03 sec\n",
      "processing 20200331 23:59:59 US/Eastern\n"
     ]
    },
    {
     "name": "stderr",
     "output_type": "stream",
     "text": [
      "ERROR -1 502 Couldn't connect to TWS. Confirm that \"Enable ActiveX and Socket EClients\" \n",
      "is enabled and connection port is the same as \"Socket Port\" on the \n",
      "TWS \"Edit->Global Configuration...->API->Settings\" menu. Live Trading ports: \n",
      "TWS: 7496; IB Gateway: 4001. Simulated Trading ports for new installations \n",
      "of version 954.1 or newer:  TWS: 7497; IB Gateway: 4002\n"
     ]
    },
    {
     "name": "stdout",
     "output_type": "stream",
     "text": [
      "processing JNJ for 20200331 23:59:59 US/Eastern took   3.05 sec\n",
      "processing 20200430 23:59:59 US/Eastern\n"
     ]
    },
    {
     "name": "stderr",
     "output_type": "stream",
     "text": [
      "ERROR -1 502 Couldn't connect to TWS. Confirm that \"Enable ActiveX and Socket EClients\" \n",
      "is enabled and connection port is the same as \"Socket Port\" on the \n",
      "TWS \"Edit->Global Configuration...->API->Settings\" menu. Live Trading ports: \n",
      "TWS: 7496; IB Gateway: 4001. Simulated Trading ports for new installations \n",
      "of version 954.1 or newer:  TWS: 7497; IB Gateway: 4002\n"
     ]
    },
    {
     "name": "stdout",
     "output_type": "stream",
     "text": [
      "processing JNJ for 20200430 23:59:59 US/Eastern took   3.04 sec\n",
      "processing 20200530 23:59:59 US/Eastern\n"
     ]
    },
    {
     "name": "stderr",
     "output_type": "stream",
     "text": [
      "ERROR -1 502 Couldn't connect to TWS. Confirm that \"Enable ActiveX and Socket EClients\" \n",
      "is enabled and connection port is the same as \"Socket Port\" on the \n",
      "TWS \"Edit->Global Configuration...->API->Settings\" menu. Live Trading ports: \n",
      "TWS: 7496; IB Gateway: 4001. Simulated Trading ports for new installations \n",
      "of version 954.1 or newer:  TWS: 7497; IB Gateway: 4002\n"
     ]
    },
    {
     "name": "stdout",
     "output_type": "stream",
     "text": [
      "processing JNJ for 20200530 23:59:59 US/Eastern took   3.05 sec\n",
      "processing 20200629 23:59:59 US/Eastern\n"
     ]
    },
    {
     "name": "stderr",
     "output_type": "stream",
     "text": [
      "ERROR -1 502 Couldn't connect to TWS. Confirm that \"Enable ActiveX and Socket EClients\" \n",
      "is enabled and connection port is the same as \"Socket Port\" on the \n",
      "TWS \"Edit->Global Configuration...->API->Settings\" menu. Live Trading ports: \n",
      "TWS: 7496; IB Gateway: 4001. Simulated Trading ports for new installations \n",
      "of version 954.1 or newer:  TWS: 7497; IB Gateway: 4002\n"
     ]
    },
    {
     "name": "stdout",
     "output_type": "stream",
     "text": [
      "processing JNJ for 20200629 23:59:59 US/Eastern took   3.05 sec\n",
      "processing 20200729 23:59:59 US/Eastern\n"
     ]
    },
    {
     "name": "stderr",
     "output_type": "stream",
     "text": [
      "ERROR -1 502 Couldn't connect to TWS. Confirm that \"Enable ActiveX and Socket EClients\" \n",
      "is enabled and connection port is the same as \"Socket Port\" on the \n",
      "TWS \"Edit->Global Configuration...->API->Settings\" menu. Live Trading ports: \n",
      "TWS: 7496; IB Gateway: 4001. Simulated Trading ports for new installations \n",
      "of version 954.1 or newer:  TWS: 7497; IB Gateway: 4002\n"
     ]
    },
    {
     "name": "stdout",
     "output_type": "stream",
     "text": [
      "processing JNJ for 20200729 23:59:59 US/Eastern took   3.05 sec\n",
      "processing 20200828 23:59:59 US/Eastern\n"
     ]
    },
    {
     "name": "stderr",
     "output_type": "stream",
     "text": [
      "ERROR -1 502 Couldn't connect to TWS. Confirm that \"Enable ActiveX and Socket EClients\" \n",
      "is enabled and connection port is the same as \"Socket Port\" on the \n",
      "TWS \"Edit->Global Configuration...->API->Settings\" menu. Live Trading ports: \n",
      "TWS: 7496; IB Gateway: 4001. Simulated Trading ports for new installations \n",
      "of version 954.1 or newer:  TWS: 7497; IB Gateway: 4002\n"
     ]
    },
    {
     "name": "stdout",
     "output_type": "stream",
     "text": [
      "processing JNJ for 20200828 23:59:59 US/Eastern took   3.05 sec\n",
      "processing 20200927 23:59:59 US/Eastern\n"
     ]
    },
    {
     "name": "stderr",
     "output_type": "stream",
     "text": [
      "ERROR -1 502 Couldn't connect to TWS. Confirm that \"Enable ActiveX and Socket EClients\" \n",
      "is enabled and connection port is the same as \"Socket Port\" on the \n",
      "TWS \"Edit->Global Configuration...->API->Settings\" menu. Live Trading ports: \n",
      "TWS: 7496; IB Gateway: 4001. Simulated Trading ports for new installations \n",
      "of version 954.1 or newer:  TWS: 7497; IB Gateway: 4002\n"
     ]
    },
    {
     "name": "stdout",
     "output_type": "stream",
     "text": [
      "processing JNJ for 20200927 23:59:59 US/Eastern took   3.06 sec\n",
      "processing 20201027 23:59:59 US/Eastern\n"
     ]
    },
    {
     "name": "stderr",
     "output_type": "stream",
     "text": [
      "ERROR -1 502 Couldn't connect to TWS. Confirm that \"Enable ActiveX and Socket EClients\" \n",
      "is enabled and connection port is the same as \"Socket Port\" on the \n",
      "TWS \"Edit->Global Configuration...->API->Settings\" menu. Live Trading ports: \n",
      "TWS: 7496; IB Gateway: 4001. Simulated Trading ports for new installations \n",
      "of version 954.1 or newer:  TWS: 7497; IB Gateway: 4002\n"
     ]
    },
    {
     "name": "stdout",
     "output_type": "stream",
     "text": [
      "processing JNJ for 20201027 23:59:59 US/Eastern took   3.05 sec\n",
      "processing 20201126 23:59:59 US/Eastern\n"
     ]
    },
    {
     "name": "stderr",
     "output_type": "stream",
     "text": [
      "ERROR -1 502 Couldn't connect to TWS. Confirm that \"Enable ActiveX and Socket EClients\" \n",
      "is enabled and connection port is the same as \"Socket Port\" on the \n",
      "TWS \"Edit->Global Configuration...->API->Settings\" menu. Live Trading ports: \n",
      "TWS: 7496; IB Gateway: 4001. Simulated Trading ports for new installations \n",
      "of version 954.1 or newer:  TWS: 7497; IB Gateway: 4002\n"
     ]
    },
    {
     "name": "stdout",
     "output_type": "stream",
     "text": [
      "processing JNJ for 20201126 23:59:59 US/Eastern took   3.03 sec\n",
      "processing 20201226 23:59:59 US/Eastern\n"
     ]
    },
    {
     "name": "stderr",
     "output_type": "stream",
     "text": [
      "ERROR -1 502 Couldn't connect to TWS. Confirm that \"Enable ActiveX and Socket EClients\" \n",
      "is enabled and connection port is the same as \"Socket Port\" on the \n",
      "TWS \"Edit->Global Configuration...->API->Settings\" menu. Live Trading ports: \n",
      "TWS: 7496; IB Gateway: 4001. Simulated Trading ports for new installations \n",
      "of version 954.1 or newer:  TWS: 7497; IB Gateway: 4002\n"
     ]
    },
    {
     "name": "stdout",
     "output_type": "stream",
     "text": [
      "processing JNJ for 20201226 23:59:59 US/Eastern took   3.02 sec\n",
      "processing 20210125 23:59:59 US/Eastern\n"
     ]
    },
    {
     "name": "stderr",
     "output_type": "stream",
     "text": [
      "ERROR -1 502 Couldn't connect to TWS. Confirm that \"Enable ActiveX and Socket EClients\" \n",
      "is enabled and connection port is the same as \"Socket Port\" on the \n",
      "TWS \"Edit->Global Configuration...->API->Settings\" menu. Live Trading ports: \n",
      "TWS: 7496; IB Gateway: 4001. Simulated Trading ports for new installations \n",
      "of version 954.1 or newer:  TWS: 7497; IB Gateway: 4002\n"
     ]
    },
    {
     "name": "stdout",
     "output_type": "stream",
     "text": [
      "processing JNJ for 20210125 23:59:59 US/Eastern took   3.04 sec\n",
      "processing 20210224 23:59:59 US/Eastern\n"
     ]
    },
    {
     "name": "stderr",
     "output_type": "stream",
     "text": [
      "ERROR -1 502 Couldn't connect to TWS. Confirm that \"Enable ActiveX and Socket EClients\" \n",
      "is enabled and connection port is the same as \"Socket Port\" on the \n",
      "TWS \"Edit->Global Configuration...->API->Settings\" menu. Live Trading ports: \n",
      "TWS: 7496; IB Gateway: 4001. Simulated Trading ports for new installations \n",
      "of version 954.1 or newer:  TWS: 7497; IB Gateway: 4002\n"
     ]
    },
    {
     "name": "stdout",
     "output_type": "stream",
     "text": [
      "processing JNJ for 20210224 23:59:59 US/Eastern took   3.05 sec\n",
      "processing 20210326 23:59:59 US/Eastern\n"
     ]
    },
    {
     "name": "stderr",
     "output_type": "stream",
     "text": [
      "ERROR -1 502 Couldn't connect to TWS. Confirm that \"Enable ActiveX and Socket EClients\" \n",
      "is enabled and connection port is the same as \"Socket Port\" on the \n",
      "TWS \"Edit->Global Configuration...->API->Settings\" menu. Live Trading ports: \n",
      "TWS: 7496; IB Gateway: 4001. Simulated Trading ports for new installations \n",
      "of version 954.1 or newer:  TWS: 7497; IB Gateway: 4002\n"
     ]
    },
    {
     "name": "stdout",
     "output_type": "stream",
     "text": [
      "processing JNJ for 20210326 23:59:59 US/Eastern took   3.06 sec\n",
      "processing 20210425 23:59:59 US/Eastern\n"
     ]
    },
    {
     "name": "stderr",
     "output_type": "stream",
     "text": [
      "ERROR -1 502 Couldn't connect to TWS. Confirm that \"Enable ActiveX and Socket EClients\" \n",
      "is enabled and connection port is the same as \"Socket Port\" on the \n",
      "TWS \"Edit->Global Configuration...->API->Settings\" menu. Live Trading ports: \n",
      "TWS: 7496; IB Gateway: 4001. Simulated Trading ports for new installations \n",
      "of version 954.1 or newer:  TWS: 7497; IB Gateway: 4002\n"
     ]
    },
    {
     "name": "stdout",
     "output_type": "stream",
     "text": [
      "processing JNJ for 20210425 23:59:59 US/Eastern took   3.04 sec\n",
      "processing 20210525 23:59:59 US/Eastern\n"
     ]
    },
    {
     "name": "stderr",
     "output_type": "stream",
     "text": [
      "ERROR -1 502 Couldn't connect to TWS. Confirm that \"Enable ActiveX and Socket EClients\" \n",
      "is enabled and connection port is the same as \"Socket Port\" on the \n",
      "TWS \"Edit->Global Configuration...->API->Settings\" menu. Live Trading ports: \n",
      "TWS: 7496; IB Gateway: 4001. Simulated Trading ports for new installations \n",
      "of version 954.1 or newer:  TWS: 7497; IB Gateway: 4002\n"
     ]
    },
    {
     "name": "stdout",
     "output_type": "stream",
     "text": [
      "processing JNJ for 20210525 23:59:59 US/Eastern took   3.04 sec\n",
      "processing 20210624 23:59:59 US/Eastern\n"
     ]
    },
    {
     "name": "stderr",
     "output_type": "stream",
     "text": [
      "ERROR -1 502 Couldn't connect to TWS. Confirm that \"Enable ActiveX and Socket EClients\" \n",
      "is enabled and connection port is the same as \"Socket Port\" on the \n",
      "TWS \"Edit->Global Configuration...->API->Settings\" menu. Live Trading ports: \n",
      "TWS: 7496; IB Gateway: 4001. Simulated Trading ports for new installations \n",
      "of version 954.1 or newer:  TWS: 7497; IB Gateway: 4002\n"
     ]
    },
    {
     "name": "stdout",
     "output_type": "stream",
     "text": [
      "processing JNJ for 20210624 23:59:59 US/Eastern took   3.03 sec\n",
      "processing 20210724 23:59:59 US/Eastern\n"
     ]
    },
    {
     "name": "stderr",
     "output_type": "stream",
     "text": [
      "ERROR -1 502 Couldn't connect to TWS. Confirm that \"Enable ActiveX and Socket EClients\" \n",
      "is enabled and connection port is the same as \"Socket Port\" on the \n",
      "TWS \"Edit->Global Configuration...->API->Settings\" menu. Live Trading ports: \n",
      "TWS: 7496; IB Gateway: 4001. Simulated Trading ports for new installations \n",
      "of version 954.1 or newer:  TWS: 7497; IB Gateway: 4002\n"
     ]
    },
    {
     "name": "stdout",
     "output_type": "stream",
     "text": [
      "processing JNJ for 20210724 23:59:59 US/Eastern took   3.06 sec\n",
      "processing 20210823 23:59:59 US/Eastern\n"
     ]
    },
    {
     "name": "stderr",
     "output_type": "stream",
     "text": [
      "ERROR -1 502 Couldn't connect to TWS. Confirm that \"Enable ActiveX and Socket EClients\" \n",
      "is enabled and connection port is the same as \"Socket Port\" on the \n",
      "TWS \"Edit->Global Configuration...->API->Settings\" menu. Live Trading ports: \n",
      "TWS: 7496; IB Gateway: 4001. Simulated Trading ports for new installations \n",
      "of version 954.1 or newer:  TWS: 7497; IB Gateway: 4002\n"
     ]
    },
    {
     "name": "stdout",
     "output_type": "stream",
     "text": [
      "processing JNJ for 20210823 23:59:59 US/Eastern took   3.04 sec\n",
      "processing 20210922 23:59:59 US/Eastern\n"
     ]
    },
    {
     "name": "stderr",
     "output_type": "stream",
     "text": [
      "ERROR -1 502 Couldn't connect to TWS. Confirm that \"Enable ActiveX and Socket EClients\" \n",
      "is enabled and connection port is the same as \"Socket Port\" on the \n",
      "TWS \"Edit->Global Configuration...->API->Settings\" menu. Live Trading ports: \n",
      "TWS: 7496; IB Gateway: 4001. Simulated Trading ports for new installations \n",
      "of version 954.1 or newer:  TWS: 7497; IB Gateway: 4002\n"
     ]
    },
    {
     "name": "stdout",
     "output_type": "stream",
     "text": [
      "processing JNJ for 20210922 23:59:59 US/Eastern took   3.04 sec\n",
      "processing 20211022 23:59:59 US/Eastern\n"
     ]
    },
    {
     "name": "stderr",
     "output_type": "stream",
     "text": [
      "ERROR -1 502 Couldn't connect to TWS. Confirm that \"Enable ActiveX and Socket EClients\" \n",
      "is enabled and connection port is the same as \"Socket Port\" on the \n",
      "TWS \"Edit->Global Configuration...->API->Settings\" menu. Live Trading ports: \n",
      "TWS: 7496; IB Gateway: 4001. Simulated Trading ports for new installations \n",
      "of version 954.1 or newer:  TWS: 7497; IB Gateway: 4002\n"
     ]
    },
    {
     "name": "stdout",
     "output_type": "stream",
     "text": [
      "processing JNJ for 20211022 23:59:59 US/Eastern took   3.04 sec\n",
      "processing 20211121 23:59:59 US/Eastern\n"
     ]
    },
    {
     "name": "stderr",
     "output_type": "stream",
     "text": [
      "ERROR -1 502 Couldn't connect to TWS. Confirm that \"Enable ActiveX and Socket EClients\" \n",
      "is enabled and connection port is the same as \"Socket Port\" on the \n",
      "TWS \"Edit->Global Configuration...->API->Settings\" menu. Live Trading ports: \n",
      "TWS: 7496; IB Gateway: 4001. Simulated Trading ports for new installations \n",
      "of version 954.1 or newer:  TWS: 7497; IB Gateway: 4002\n"
     ]
    },
    {
     "name": "stdout",
     "output_type": "stream",
     "text": [
      "processing JNJ for 20211121 23:59:59 US/Eastern took   3.02 sec\n",
      "processing 20211221 23:59:59 US/Eastern\n"
     ]
    },
    {
     "name": "stderr",
     "output_type": "stream",
     "text": [
      "ERROR -1 502 Couldn't connect to TWS. Confirm that \"Enable ActiveX and Socket EClients\" \n",
      "is enabled and connection port is the same as \"Socket Port\" on the \n",
      "TWS \"Edit->Global Configuration...->API->Settings\" menu. Live Trading ports: \n",
      "TWS: 7496; IB Gateway: 4001. Simulated Trading ports for new installations \n",
      "of version 954.1 or newer:  TWS: 7497; IB Gateway: 4002\n"
     ]
    },
    {
     "name": "stdout",
     "output_type": "stream",
     "text": [
      "processing JNJ for 20211221 23:59:59 US/Eastern took   3.04 sec\n",
      "processing 20220120 23:59:59 US/Eastern\n"
     ]
    },
    {
     "name": "stderr",
     "output_type": "stream",
     "text": [
      "ERROR -1 502 Couldn't connect to TWS. Confirm that \"Enable ActiveX and Socket EClients\" \n",
      "is enabled and connection port is the same as \"Socket Port\" on the \n",
      "TWS \"Edit->Global Configuration...->API->Settings\" menu. Live Trading ports: \n",
      "TWS: 7496; IB Gateway: 4001. Simulated Trading ports for new installations \n",
      "of version 954.1 or newer:  TWS: 7497; IB Gateway: 4002\n"
     ]
    },
    {
     "name": "stdout",
     "output_type": "stream",
     "text": [
      "processing JNJ for 20220120 23:59:59 US/Eastern took   3.04 sec\n",
      "processing 20220219 23:59:59 US/Eastern\n"
     ]
    },
    {
     "name": "stderr",
     "output_type": "stream",
     "text": [
      "ERROR -1 502 Couldn't connect to TWS. Confirm that \"Enable ActiveX and Socket EClients\" \n",
      "is enabled and connection port is the same as \"Socket Port\" on the \n",
      "TWS \"Edit->Global Configuration...->API->Settings\" menu. Live Trading ports: \n",
      "TWS: 7496; IB Gateway: 4001. Simulated Trading ports for new installations \n",
      "of version 954.1 or newer:  TWS: 7497; IB Gateway: 4002\n"
     ]
    },
    {
     "name": "stdout",
     "output_type": "stream",
     "text": [
      "processing JNJ for 20220219 23:59:59 US/Eastern took   3.04 sec\n",
      "processing 20220321 23:59:59 US/Eastern\n"
     ]
    },
    {
     "name": "stderr",
     "output_type": "stream",
     "text": [
      "ERROR -1 502 Couldn't connect to TWS. Confirm that \"Enable ActiveX and Socket EClients\" \n",
      "is enabled and connection port is the same as \"Socket Port\" on the \n",
      "TWS \"Edit->Global Configuration...->API->Settings\" menu. Live Trading ports: \n",
      "TWS: 7496; IB Gateway: 4001. Simulated Trading ports for new installations \n",
      "of version 954.1 or newer:  TWS: 7497; IB Gateway: 4002\n"
     ]
    },
    {
     "name": "stdout",
     "output_type": "stream",
     "text": [
      "processing JNJ for 20220321 23:59:59 US/Eastern took   3.03 sec\n",
      "processing 20220420 23:59:59 US/Eastern\n"
     ]
    },
    {
     "name": "stderr",
     "output_type": "stream",
     "text": [
      "ERROR -1 502 Couldn't connect to TWS. Confirm that \"Enable ActiveX and Socket EClients\" \n",
      "is enabled and connection port is the same as \"Socket Port\" on the \n",
      "TWS \"Edit->Global Configuration...->API->Settings\" menu. Live Trading ports: \n",
      "TWS: 7496; IB Gateway: 4001. Simulated Trading ports for new installations \n",
      "of version 954.1 or newer:  TWS: 7497; IB Gateway: 4002\n"
     ]
    },
    {
     "name": "stdout",
     "output_type": "stream",
     "text": [
      "processing JNJ for 20220420 23:59:59 US/Eastern took   3.04 sec\n",
      "processing 20220520 23:59:59 US/Eastern\n"
     ]
    },
    {
     "name": "stderr",
     "output_type": "stream",
     "text": [
      "ERROR -1 502 Couldn't connect to TWS. Confirm that \"Enable ActiveX and Socket EClients\" \n",
      "is enabled and connection port is the same as \"Socket Port\" on the \n",
      "TWS \"Edit->Global Configuration...->API->Settings\" menu. Live Trading ports: \n",
      "TWS: 7496; IB Gateway: 4001. Simulated Trading ports for new installations \n",
      "of version 954.1 or newer:  TWS: 7497; IB Gateway: 4002\n"
     ]
    },
    {
     "name": "stdout",
     "output_type": "stream",
     "text": [
      "processing JNJ for 20220520 23:59:59 US/Eastern took   3.04 sec\n",
      "processing 20220619 23:59:59 US/Eastern\n"
     ]
    },
    {
     "name": "stderr",
     "output_type": "stream",
     "text": [
      "ERROR -1 502 Couldn't connect to TWS. Confirm that \"Enable ActiveX and Socket EClients\" \n",
      "is enabled and connection port is the same as \"Socket Port\" on the \n",
      "TWS \"Edit->Global Configuration...->API->Settings\" menu. Live Trading ports: \n",
      "TWS: 7496; IB Gateway: 4001. Simulated Trading ports for new installations \n",
      "of version 954.1 or newer:  TWS: 7497; IB Gateway: 4002\n"
     ]
    },
    {
     "name": "stdout",
     "output_type": "stream",
     "text": [
      "processing JNJ for 20220619 23:59:59 US/Eastern took   3.05 sec\n",
      "processing 20220719 23:59:59 US/Eastern\n"
     ]
    },
    {
     "name": "stderr",
     "output_type": "stream",
     "text": [
      "ERROR -1 502 Couldn't connect to TWS. Confirm that \"Enable ActiveX and Socket EClients\" \n",
      "is enabled and connection port is the same as \"Socket Port\" on the \n",
      "TWS \"Edit->Global Configuration...->API->Settings\" menu. Live Trading ports: \n",
      "TWS: 7496; IB Gateway: 4001. Simulated Trading ports for new installations \n",
      "of version 954.1 or newer:  TWS: 7497; IB Gateway: 4002\n"
     ]
    },
    {
     "name": "stdout",
     "output_type": "stream",
     "text": [
      "processing JNJ for 20220719 23:59:59 US/Eastern took   3.05 sec\n",
      "processing 20220818 23:59:59 US/Eastern\n"
     ]
    },
    {
     "name": "stderr",
     "output_type": "stream",
     "text": [
      "ERROR -1 502 Couldn't connect to TWS. Confirm that \"Enable ActiveX and Socket EClients\" \n",
      "is enabled and connection port is the same as \"Socket Port\" on the \n",
      "TWS \"Edit->Global Configuration...->API->Settings\" menu. Live Trading ports: \n",
      "TWS: 7496; IB Gateway: 4001. Simulated Trading ports for new installations \n",
      "of version 954.1 or newer:  TWS: 7497; IB Gateway: 4002\n"
     ]
    },
    {
     "name": "stdout",
     "output_type": "stream",
     "text": [
      "processing JNJ for 20220818 23:59:59 US/Eastern took   3.09 sec\n",
      "processing 20220917 23:59:59 US/Eastern\n"
     ]
    },
    {
     "name": "stderr",
     "output_type": "stream",
     "text": [
      "ERROR -1 502 Couldn't connect to TWS. Confirm that \"Enable ActiveX and Socket EClients\" \n",
      "is enabled and connection port is the same as \"Socket Port\" on the \n",
      "TWS \"Edit->Global Configuration...->API->Settings\" menu. Live Trading ports: \n",
      "TWS: 7496; IB Gateway: 4001. Simulated Trading ports for new installations \n",
      "of version 954.1 or newer:  TWS: 7497; IB Gateway: 4002\n"
     ]
    },
    {
     "name": "stdout",
     "output_type": "stream",
     "text": [
      "processing JNJ for 20220917 23:59:59 US/Eastern took   3.03 sec\n",
      "processing 20221017 23:59:59 US/Eastern\n"
     ]
    },
    {
     "name": "stderr",
     "output_type": "stream",
     "text": [
      "ERROR -1 502 Couldn't connect to TWS. Confirm that \"Enable ActiveX and Socket EClients\" \n",
      "is enabled and connection port is the same as \"Socket Port\" on the \n",
      "TWS \"Edit->Global Configuration...->API->Settings\" menu. Live Trading ports: \n",
      "TWS: 7496; IB Gateway: 4001. Simulated Trading ports for new installations \n",
      "of version 954.1 or newer:  TWS: 7497; IB Gateway: 4002\n"
     ]
    },
    {
     "name": "stdout",
     "output_type": "stream",
     "text": [
      "processing JNJ for 20221017 23:59:59 US/Eastern took   3.06 sec\n",
      "processing 20221116 23:59:59 US/Eastern\n"
     ]
    },
    {
     "name": "stderr",
     "output_type": "stream",
     "text": [
      "ERROR -1 502 Couldn't connect to TWS. Confirm that \"Enable ActiveX and Socket EClients\" \n",
      "is enabled and connection port is the same as \"Socket Port\" on the \n",
      "TWS \"Edit->Global Configuration...->API->Settings\" menu. Live Trading ports: \n",
      "TWS: 7496; IB Gateway: 4001. Simulated Trading ports for new installations \n",
      "of version 954.1 or newer:  TWS: 7497; IB Gateway: 4002\n"
     ]
    },
    {
     "name": "stdout",
     "output_type": "stream",
     "text": [
      "processing JNJ for 20221116 23:59:59 US/Eastern took   3.03 sec\n",
      "processing 20221216 23:59:59 US/Eastern\n"
     ]
    },
    {
     "name": "stderr",
     "output_type": "stream",
     "text": [
      "ERROR -1 502 Couldn't connect to TWS. Confirm that \"Enable ActiveX and Socket EClients\" \n",
      "is enabled and connection port is the same as \"Socket Port\" on the \n",
      "TWS \"Edit->Global Configuration...->API->Settings\" menu. Live Trading ports: \n",
      "TWS: 7496; IB Gateway: 4001. Simulated Trading ports for new installations \n",
      "of version 954.1 or newer:  TWS: 7497; IB Gateway: 4002\n"
     ]
    },
    {
     "name": "stdout",
     "output_type": "stream",
     "text": [
      "processing JNJ for 20221216 23:59:59 US/Eastern took   3.04 sec\n",
      "processing 20230115 23:59:59 US/Eastern\n"
     ]
    },
    {
     "name": "stderr",
     "output_type": "stream",
     "text": [
      "ERROR -1 502 Couldn't connect to TWS. Confirm that \"Enable ActiveX and Socket EClients\" \n",
      "is enabled and connection port is the same as \"Socket Port\" on the \n",
      "TWS \"Edit->Global Configuration...->API->Settings\" menu. Live Trading ports: \n",
      "TWS: 7496; IB Gateway: 4001. Simulated Trading ports for new installations \n",
      "of version 954.1 or newer:  TWS: 7497; IB Gateway: 4002\n"
     ]
    },
    {
     "name": "stdout",
     "output_type": "stream",
     "text": [
      "processing JNJ for 20230115 23:59:59 US/Eastern took   3.06 sec\n",
      "processing 20230214 23:59:59 US/Eastern\n"
     ]
    },
    {
     "name": "stderr",
     "output_type": "stream",
     "text": [
      "ERROR -1 502 Couldn't connect to TWS. Confirm that \"Enable ActiveX and Socket EClients\" \n",
      "is enabled and connection port is the same as \"Socket Port\" on the \n",
      "TWS \"Edit->Global Configuration...->API->Settings\" menu. Live Trading ports: \n",
      "TWS: 7496; IB Gateway: 4001. Simulated Trading ports for new installations \n",
      "of version 954.1 or newer:  TWS: 7497; IB Gateway: 4002\n"
     ]
    },
    {
     "name": "stdout",
     "output_type": "stream",
     "text": [
      "processing JNJ for 20230214 23:59:59 US/Eastern took   3.05 sec\n",
      "processing 20230316 23:59:59 US/Eastern\n"
     ]
    },
    {
     "name": "stderr",
     "output_type": "stream",
     "text": [
      "ERROR -1 502 Couldn't connect to TWS. Confirm that \"Enable ActiveX and Socket EClients\" \n",
      "is enabled and connection port is the same as \"Socket Port\" on the \n",
      "TWS \"Edit->Global Configuration...->API->Settings\" menu. Live Trading ports: \n",
      "TWS: 7496; IB Gateway: 4001. Simulated Trading ports for new installations \n",
      "of version 954.1 or newer:  TWS: 7497; IB Gateway: 4002\n"
     ]
    },
    {
     "name": "stdout",
     "output_type": "stream",
     "text": [
      "processing JNJ for 20230316 23:59:59 US/Eastern took   3.04 sec\n",
      "Processing JPM\n",
      "processing 20200101 23:59:59 US/Eastern\n"
     ]
    },
    {
     "name": "stderr",
     "output_type": "stream",
     "text": [
      "ERROR -1 502 Couldn't connect to TWS. Confirm that \"Enable ActiveX and Socket EClients\" \n",
      "is enabled and connection port is the same as \"Socket Port\" on the \n",
      "TWS \"Edit->Global Configuration...->API->Settings\" menu. Live Trading ports: \n",
      "TWS: 7496; IB Gateway: 4001. Simulated Trading ports for new installations \n",
      "of version 954.1 or newer:  TWS: 7497; IB Gateway: 4002\n"
     ]
    },
    {
     "name": "stdout",
     "output_type": "stream",
     "text": [
      "processing JPM for 20200101 23:59:59 US/Eastern took   3.05 sec\n",
      "processing 20200131 23:59:59 US/Eastern\n"
     ]
    },
    {
     "name": "stderr",
     "output_type": "stream",
     "text": [
      "ERROR -1 502 Couldn't connect to TWS. Confirm that \"Enable ActiveX and Socket EClients\" \n",
      "is enabled and connection port is the same as \"Socket Port\" on the \n",
      "TWS \"Edit->Global Configuration...->API->Settings\" menu. Live Trading ports: \n",
      "TWS: 7496; IB Gateway: 4001. Simulated Trading ports for new installations \n",
      "of version 954.1 or newer:  TWS: 7497; IB Gateway: 4002\n"
     ]
    },
    {
     "name": "stdout",
     "output_type": "stream",
     "text": [
      "processing JPM for 20200131 23:59:59 US/Eastern took   3.05 sec\n",
      "processing 20200301 23:59:59 US/Eastern\n"
     ]
    },
    {
     "name": "stderr",
     "output_type": "stream",
     "text": [
      "ERROR -1 502 Couldn't connect to TWS. Confirm that \"Enable ActiveX and Socket EClients\" \n",
      "is enabled and connection port is the same as \"Socket Port\" on the \n",
      "TWS \"Edit->Global Configuration...->API->Settings\" menu. Live Trading ports: \n",
      "TWS: 7496; IB Gateway: 4001. Simulated Trading ports for new installations \n",
      "of version 954.1 or newer:  TWS: 7497; IB Gateway: 4002\n"
     ]
    },
    {
     "name": "stdout",
     "output_type": "stream",
     "text": [
      "processing JPM for 20200301 23:59:59 US/Eastern took   3.06 sec\n",
      "processing 20200331 23:59:59 US/Eastern\n"
     ]
    },
    {
     "name": "stderr",
     "output_type": "stream",
     "text": [
      "ERROR -1 502 Couldn't connect to TWS. Confirm that \"Enable ActiveX and Socket EClients\" \n",
      "is enabled and connection port is the same as \"Socket Port\" on the \n",
      "TWS \"Edit->Global Configuration...->API->Settings\" menu. Live Trading ports: \n",
      "TWS: 7496; IB Gateway: 4001. Simulated Trading ports for new installations \n",
      "of version 954.1 or newer:  TWS: 7497; IB Gateway: 4002\n"
     ]
    },
    {
     "name": "stdout",
     "output_type": "stream",
     "text": [
      "processing JPM for 20200331 23:59:59 US/Eastern took   3.05 sec\n",
      "processing 20200430 23:59:59 US/Eastern\n"
     ]
    },
    {
     "name": "stderr",
     "output_type": "stream",
     "text": [
      "ERROR -1 502 Couldn't connect to TWS. Confirm that \"Enable ActiveX and Socket EClients\" \n",
      "is enabled and connection port is the same as \"Socket Port\" on the \n",
      "TWS \"Edit->Global Configuration...->API->Settings\" menu. Live Trading ports: \n",
      "TWS: 7496; IB Gateway: 4001. Simulated Trading ports for new installations \n",
      "of version 954.1 or newer:  TWS: 7497; IB Gateway: 4002\n"
     ]
    },
    {
     "name": "stdout",
     "output_type": "stream",
     "text": [
      "processing JPM for 20200430 23:59:59 US/Eastern took   3.05 sec\n",
      "processing 20200530 23:59:59 US/Eastern\n"
     ]
    },
    {
     "name": "stderr",
     "output_type": "stream",
     "text": [
      "ERROR -1 502 Couldn't connect to TWS. Confirm that \"Enable ActiveX and Socket EClients\" \n",
      "is enabled and connection port is the same as \"Socket Port\" on the \n",
      "TWS \"Edit->Global Configuration...->API->Settings\" menu. Live Trading ports: \n",
      "TWS: 7496; IB Gateway: 4001. Simulated Trading ports for new installations \n",
      "of version 954.1 or newer:  TWS: 7497; IB Gateway: 4002\n"
     ]
    },
    {
     "name": "stdout",
     "output_type": "stream",
     "text": [
      "processing JPM for 20200530 23:59:59 US/Eastern took   3.05 sec\n",
      "processing 20200629 23:59:59 US/Eastern\n"
     ]
    },
    {
     "name": "stderr",
     "output_type": "stream",
     "text": [
      "ERROR -1 502 Couldn't connect to TWS. Confirm that \"Enable ActiveX and Socket EClients\" \n",
      "is enabled and connection port is the same as \"Socket Port\" on the \n",
      "TWS \"Edit->Global Configuration...->API->Settings\" menu. Live Trading ports: \n",
      "TWS: 7496; IB Gateway: 4001. Simulated Trading ports for new installations \n",
      "of version 954.1 or newer:  TWS: 7497; IB Gateway: 4002\n"
     ]
    },
    {
     "name": "stdout",
     "output_type": "stream",
     "text": [
      "processing JPM for 20200629 23:59:59 US/Eastern took   3.06 sec\n",
      "processing 20200729 23:59:59 US/Eastern\n"
     ]
    },
    {
     "name": "stderr",
     "output_type": "stream",
     "text": [
      "ERROR -1 502 Couldn't connect to TWS. Confirm that \"Enable ActiveX and Socket EClients\" \n",
      "is enabled and connection port is the same as \"Socket Port\" on the \n",
      "TWS \"Edit->Global Configuration...->API->Settings\" menu. Live Trading ports: \n",
      "TWS: 7496; IB Gateway: 4001. Simulated Trading ports for new installations \n",
      "of version 954.1 or newer:  TWS: 7497; IB Gateway: 4002\n"
     ]
    },
    {
     "name": "stdout",
     "output_type": "stream",
     "text": [
      "processing JPM for 20200729 23:59:59 US/Eastern took   3.07 sec\n",
      "processing 20200828 23:59:59 US/Eastern\n"
     ]
    },
    {
     "name": "stderr",
     "output_type": "stream",
     "text": [
      "ERROR -1 502 Couldn't connect to TWS. Confirm that \"Enable ActiveX and Socket EClients\" \n",
      "is enabled and connection port is the same as \"Socket Port\" on the \n",
      "TWS \"Edit->Global Configuration...->API->Settings\" menu. Live Trading ports: \n",
      "TWS: 7496; IB Gateway: 4001. Simulated Trading ports for new installations \n",
      "of version 954.1 or newer:  TWS: 7497; IB Gateway: 4002\n"
     ]
    },
    {
     "name": "stdout",
     "output_type": "stream",
     "text": [
      "processing JPM for 20200828 23:59:59 US/Eastern took   3.04 sec\n",
      "processing 20200927 23:59:59 US/Eastern\n"
     ]
    },
    {
     "name": "stderr",
     "output_type": "stream",
     "text": [
      "ERROR -1 502 Couldn't connect to TWS. Confirm that \"Enable ActiveX and Socket EClients\" \n",
      "is enabled and connection port is the same as \"Socket Port\" on the \n",
      "TWS \"Edit->Global Configuration...->API->Settings\" menu. Live Trading ports: \n",
      "TWS: 7496; IB Gateway: 4001. Simulated Trading ports for new installations \n",
      "of version 954.1 or newer:  TWS: 7497; IB Gateway: 4002\n"
     ]
    },
    {
     "name": "stdout",
     "output_type": "stream",
     "text": [
      "processing JPM for 20200927 23:59:59 US/Eastern took   3.03 sec\n",
      "processing 20201027 23:59:59 US/Eastern\n"
     ]
    },
    {
     "name": "stderr",
     "output_type": "stream",
     "text": [
      "ERROR -1 502 Couldn't connect to TWS. Confirm that \"Enable ActiveX and Socket EClients\" \n",
      "is enabled and connection port is the same as \"Socket Port\" on the \n",
      "TWS \"Edit->Global Configuration...->API->Settings\" menu. Live Trading ports: \n",
      "TWS: 7496; IB Gateway: 4001. Simulated Trading ports for new installations \n",
      "of version 954.1 or newer:  TWS: 7497; IB Gateway: 4002\n"
     ]
    },
    {
     "name": "stdout",
     "output_type": "stream",
     "text": [
      "processing JPM for 20201027 23:59:59 US/Eastern took   3.04 sec\n",
      "processing 20201126 23:59:59 US/Eastern\n"
     ]
    },
    {
     "name": "stderr",
     "output_type": "stream",
     "text": [
      "ERROR -1 502 Couldn't connect to TWS. Confirm that \"Enable ActiveX and Socket EClients\" \n",
      "is enabled and connection port is the same as \"Socket Port\" on the \n",
      "TWS \"Edit->Global Configuration...->API->Settings\" menu. Live Trading ports: \n",
      "TWS: 7496; IB Gateway: 4001. Simulated Trading ports for new installations \n",
      "of version 954.1 or newer:  TWS: 7497; IB Gateway: 4002\n"
     ]
    },
    {
     "name": "stdout",
     "output_type": "stream",
     "text": [
      "processing JPM for 20201126 23:59:59 US/Eastern took   3.05 sec\n",
      "processing 20201226 23:59:59 US/Eastern\n"
     ]
    },
    {
     "name": "stderr",
     "output_type": "stream",
     "text": [
      "ERROR -1 502 Couldn't connect to TWS. Confirm that \"Enable ActiveX and Socket EClients\" \n",
      "is enabled and connection port is the same as \"Socket Port\" on the \n",
      "TWS \"Edit->Global Configuration...->API->Settings\" menu. Live Trading ports: \n",
      "TWS: 7496; IB Gateway: 4001. Simulated Trading ports for new installations \n",
      "of version 954.1 or newer:  TWS: 7497; IB Gateway: 4002\n"
     ]
    },
    {
     "name": "stdout",
     "output_type": "stream",
     "text": [
      "processing JPM for 20201226 23:59:59 US/Eastern took   3.04 sec\n",
      "processing 20210125 23:59:59 US/Eastern\n"
     ]
    },
    {
     "name": "stderr",
     "output_type": "stream",
     "text": [
      "ERROR -1 502 Couldn't connect to TWS. Confirm that \"Enable ActiveX and Socket EClients\" \n",
      "is enabled and connection port is the same as \"Socket Port\" on the \n",
      "TWS \"Edit->Global Configuration...->API->Settings\" menu. Live Trading ports: \n",
      "TWS: 7496; IB Gateway: 4001. Simulated Trading ports for new installations \n",
      "of version 954.1 or newer:  TWS: 7497; IB Gateway: 4002\n"
     ]
    },
    {
     "name": "stdout",
     "output_type": "stream",
     "text": [
      "processing JPM for 20210125 23:59:59 US/Eastern took   3.05 sec\n",
      "processing 20210224 23:59:59 US/Eastern\n"
     ]
    },
    {
     "name": "stderr",
     "output_type": "stream",
     "text": [
      "ERROR -1 502 Couldn't connect to TWS. Confirm that \"Enable ActiveX and Socket EClients\" \n",
      "is enabled and connection port is the same as \"Socket Port\" on the \n",
      "TWS \"Edit->Global Configuration...->API->Settings\" menu. Live Trading ports: \n",
      "TWS: 7496; IB Gateway: 4001. Simulated Trading ports for new installations \n",
      "of version 954.1 or newer:  TWS: 7497; IB Gateway: 4002\n"
     ]
    },
    {
     "name": "stdout",
     "output_type": "stream",
     "text": [
      "processing JPM for 20210224 23:59:59 US/Eastern took   3.06 sec\n",
      "processing 20210326 23:59:59 US/Eastern\n"
     ]
    },
    {
     "name": "stderr",
     "output_type": "stream",
     "text": [
      "ERROR -1 502 Couldn't connect to TWS. Confirm that \"Enable ActiveX and Socket EClients\" \n",
      "is enabled and connection port is the same as \"Socket Port\" on the \n",
      "TWS \"Edit->Global Configuration...->API->Settings\" menu. Live Trading ports: \n",
      "TWS: 7496; IB Gateway: 4001. Simulated Trading ports for new installations \n",
      "of version 954.1 or newer:  TWS: 7497; IB Gateway: 4002\n"
     ]
    },
    {
     "name": "stdout",
     "output_type": "stream",
     "text": [
      "processing JPM for 20210326 23:59:59 US/Eastern took   3.03 sec\n",
      "processing 20210425 23:59:59 US/Eastern\n"
     ]
    },
    {
     "name": "stderr",
     "output_type": "stream",
     "text": [
      "ERROR -1 502 Couldn't connect to TWS. Confirm that \"Enable ActiveX and Socket EClients\" \n",
      "is enabled and connection port is the same as \"Socket Port\" on the \n",
      "TWS \"Edit->Global Configuration...->API->Settings\" menu. Live Trading ports: \n",
      "TWS: 7496; IB Gateway: 4001. Simulated Trading ports for new installations \n",
      "of version 954.1 or newer:  TWS: 7497; IB Gateway: 4002\n"
     ]
    },
    {
     "name": "stdout",
     "output_type": "stream",
     "text": [
      "processing JPM for 20210425 23:59:59 US/Eastern took   3.05 sec\n",
      "processing 20210525 23:59:59 US/Eastern\n"
     ]
    },
    {
     "name": "stderr",
     "output_type": "stream",
     "text": [
      "ERROR -1 502 Couldn't connect to TWS. Confirm that \"Enable ActiveX and Socket EClients\" \n",
      "is enabled and connection port is the same as \"Socket Port\" on the \n",
      "TWS \"Edit->Global Configuration...->API->Settings\" menu. Live Trading ports: \n",
      "TWS: 7496; IB Gateway: 4001. Simulated Trading ports for new installations \n",
      "of version 954.1 or newer:  TWS: 7497; IB Gateway: 4002\n"
     ]
    },
    {
     "name": "stdout",
     "output_type": "stream",
     "text": [
      "processing JPM for 20210525 23:59:59 US/Eastern took   3.02 sec\n",
      "processing 20210624 23:59:59 US/Eastern\n"
     ]
    },
    {
     "name": "stderr",
     "output_type": "stream",
     "text": [
      "ERROR -1 502 Couldn't connect to TWS. Confirm that \"Enable ActiveX and Socket EClients\" \n",
      "is enabled and connection port is the same as \"Socket Port\" on the \n",
      "TWS \"Edit->Global Configuration...->API->Settings\" menu. Live Trading ports: \n",
      "TWS: 7496; IB Gateway: 4001. Simulated Trading ports for new installations \n",
      "of version 954.1 or newer:  TWS: 7497; IB Gateway: 4002\n"
     ]
    },
    {
     "name": "stdout",
     "output_type": "stream",
     "text": [
      "processing JPM for 20210624 23:59:59 US/Eastern took   3.04 sec\n",
      "processing 20210724 23:59:59 US/Eastern\n"
     ]
    },
    {
     "name": "stderr",
     "output_type": "stream",
     "text": [
      "ERROR -1 502 Couldn't connect to TWS. Confirm that \"Enable ActiveX and Socket EClients\" \n",
      "is enabled and connection port is the same as \"Socket Port\" on the \n",
      "TWS \"Edit->Global Configuration...->API->Settings\" menu. Live Trading ports: \n",
      "TWS: 7496; IB Gateway: 4001. Simulated Trading ports for new installations \n",
      "of version 954.1 or newer:  TWS: 7497; IB Gateway: 4002\n"
     ]
    },
    {
     "name": "stdout",
     "output_type": "stream",
     "text": [
      "processing JPM for 20210724 23:59:59 US/Eastern took   3.06 sec\n",
      "processing 20210823 23:59:59 US/Eastern\n"
     ]
    },
    {
     "name": "stderr",
     "output_type": "stream",
     "text": [
      "ERROR -1 502 Couldn't connect to TWS. Confirm that \"Enable ActiveX and Socket EClients\" \n",
      "is enabled and connection port is the same as \"Socket Port\" on the \n",
      "TWS \"Edit->Global Configuration...->API->Settings\" menu. Live Trading ports: \n",
      "TWS: 7496; IB Gateway: 4001. Simulated Trading ports for new installations \n",
      "of version 954.1 or newer:  TWS: 7497; IB Gateway: 4002\n"
     ]
    },
    {
     "name": "stdout",
     "output_type": "stream",
     "text": [
      "processing JPM for 20210823 23:59:59 US/Eastern took   3.05 sec\n",
      "processing 20210922 23:59:59 US/Eastern\n"
     ]
    },
    {
     "name": "stderr",
     "output_type": "stream",
     "text": [
      "ERROR -1 502 Couldn't connect to TWS. Confirm that \"Enable ActiveX and Socket EClients\" \n",
      "is enabled and connection port is the same as \"Socket Port\" on the \n",
      "TWS \"Edit->Global Configuration...->API->Settings\" menu. Live Trading ports: \n",
      "TWS: 7496; IB Gateway: 4001. Simulated Trading ports for new installations \n",
      "of version 954.1 or newer:  TWS: 7497; IB Gateway: 4002\n"
     ]
    },
    {
     "name": "stdout",
     "output_type": "stream",
     "text": [
      "processing JPM for 20210922 23:59:59 US/Eastern took   3.04 sec\n",
      "processing 20211022 23:59:59 US/Eastern\n"
     ]
    },
    {
     "name": "stderr",
     "output_type": "stream",
     "text": [
      "ERROR -1 502 Couldn't connect to TWS. Confirm that \"Enable ActiveX and Socket EClients\" \n",
      "is enabled and connection port is the same as \"Socket Port\" on the \n",
      "TWS \"Edit->Global Configuration...->API->Settings\" menu. Live Trading ports: \n",
      "TWS: 7496; IB Gateway: 4001. Simulated Trading ports for new installations \n",
      "of version 954.1 or newer:  TWS: 7497; IB Gateway: 4002\n"
     ]
    },
    {
     "name": "stdout",
     "output_type": "stream",
     "text": [
      "processing JPM for 20211022 23:59:59 US/Eastern took   3.06 sec\n",
      "processing 20211121 23:59:59 US/Eastern\n"
     ]
    },
    {
     "name": "stderr",
     "output_type": "stream",
     "text": [
      "ERROR -1 502 Couldn't connect to TWS. Confirm that \"Enable ActiveX and Socket EClients\" \n",
      "is enabled and connection port is the same as \"Socket Port\" on the \n",
      "TWS \"Edit->Global Configuration...->API->Settings\" menu. Live Trading ports: \n",
      "TWS: 7496; IB Gateway: 4001. Simulated Trading ports for new installations \n",
      "of version 954.1 or newer:  TWS: 7497; IB Gateway: 4002\n"
     ]
    },
    {
     "name": "stdout",
     "output_type": "stream",
     "text": [
      "processing JPM for 20211121 23:59:59 US/Eastern took   3.05 sec\n",
      "processing 20211221 23:59:59 US/Eastern\n"
     ]
    },
    {
     "name": "stderr",
     "output_type": "stream",
     "text": [
      "ERROR -1 502 Couldn't connect to TWS. Confirm that \"Enable ActiveX and Socket EClients\" \n",
      "is enabled and connection port is the same as \"Socket Port\" on the \n",
      "TWS \"Edit->Global Configuration...->API->Settings\" menu. Live Trading ports: \n",
      "TWS: 7496; IB Gateway: 4001. Simulated Trading ports for new installations \n",
      "of version 954.1 or newer:  TWS: 7497; IB Gateway: 4002\n"
     ]
    },
    {
     "name": "stdout",
     "output_type": "stream",
     "text": [
      "processing JPM for 20211221 23:59:59 US/Eastern took   3.05 sec\n",
      "processing 20220120 23:59:59 US/Eastern\n"
     ]
    },
    {
     "name": "stderr",
     "output_type": "stream",
     "text": [
      "ERROR -1 502 Couldn't connect to TWS. Confirm that \"Enable ActiveX and Socket EClients\" \n",
      "is enabled and connection port is the same as \"Socket Port\" on the \n",
      "TWS \"Edit->Global Configuration...->API->Settings\" menu. Live Trading ports: \n",
      "TWS: 7496; IB Gateway: 4001. Simulated Trading ports for new installations \n",
      "of version 954.1 or newer:  TWS: 7497; IB Gateway: 4002\n"
     ]
    },
    {
     "name": "stdout",
     "output_type": "stream",
     "text": [
      "processing JPM for 20220120 23:59:59 US/Eastern took   3.06 sec\n",
      "processing 20220219 23:59:59 US/Eastern\n"
     ]
    },
    {
     "name": "stderr",
     "output_type": "stream",
     "text": [
      "ERROR -1 502 Couldn't connect to TWS. Confirm that \"Enable ActiveX and Socket EClients\" \n",
      "is enabled and connection port is the same as \"Socket Port\" on the \n",
      "TWS \"Edit->Global Configuration...->API->Settings\" menu. Live Trading ports: \n",
      "TWS: 7496; IB Gateway: 4001. Simulated Trading ports for new installations \n",
      "of version 954.1 or newer:  TWS: 7497; IB Gateway: 4002\n"
     ]
    },
    {
     "name": "stdout",
     "output_type": "stream",
     "text": [
      "processing JPM for 20220219 23:59:59 US/Eastern took   3.04 sec\n",
      "processing 20220321 23:59:59 US/Eastern\n"
     ]
    },
    {
     "name": "stderr",
     "output_type": "stream",
     "text": [
      "ERROR -1 502 Couldn't connect to TWS. Confirm that \"Enable ActiveX and Socket EClients\" \n",
      "is enabled and connection port is the same as \"Socket Port\" on the \n",
      "TWS \"Edit->Global Configuration...->API->Settings\" menu. Live Trading ports: \n",
      "TWS: 7496; IB Gateway: 4001. Simulated Trading ports for new installations \n",
      "of version 954.1 or newer:  TWS: 7497; IB Gateway: 4002\n"
     ]
    },
    {
     "name": "stdout",
     "output_type": "stream",
     "text": [
      "processing JPM for 20220321 23:59:59 US/Eastern took   3.04 sec\n",
      "processing 20220420 23:59:59 US/Eastern\n"
     ]
    },
    {
     "name": "stderr",
     "output_type": "stream",
     "text": [
      "ERROR -1 502 Couldn't connect to TWS. Confirm that \"Enable ActiveX and Socket EClients\" \n",
      "is enabled and connection port is the same as \"Socket Port\" on the \n",
      "TWS \"Edit->Global Configuration...->API->Settings\" menu. Live Trading ports: \n",
      "TWS: 7496; IB Gateway: 4001. Simulated Trading ports for new installations \n",
      "of version 954.1 or newer:  TWS: 7497; IB Gateway: 4002\n"
     ]
    },
    {
     "name": "stdout",
     "output_type": "stream",
     "text": [
      "processing JPM for 20220420 23:59:59 US/Eastern took   3.05 sec\n",
      "processing 20220520 23:59:59 US/Eastern\n"
     ]
    },
    {
     "name": "stderr",
     "output_type": "stream",
     "text": [
      "ERROR -1 502 Couldn't connect to TWS. Confirm that \"Enable ActiveX and Socket EClients\" \n",
      "is enabled and connection port is the same as \"Socket Port\" on the \n",
      "TWS \"Edit->Global Configuration...->API->Settings\" menu. Live Trading ports: \n",
      "TWS: 7496; IB Gateway: 4001. Simulated Trading ports for new installations \n",
      "of version 954.1 or newer:  TWS: 7497; IB Gateway: 4002\n"
     ]
    },
    {
     "name": "stdout",
     "output_type": "stream",
     "text": [
      "processing JPM for 20220520 23:59:59 US/Eastern took   3.03 sec\n",
      "processing 20220619 23:59:59 US/Eastern\n"
     ]
    },
    {
     "name": "stderr",
     "output_type": "stream",
     "text": [
      "ERROR -1 502 Couldn't connect to TWS. Confirm that \"Enable ActiveX and Socket EClients\" \n",
      "is enabled and connection port is the same as \"Socket Port\" on the \n",
      "TWS \"Edit->Global Configuration...->API->Settings\" menu. Live Trading ports: \n",
      "TWS: 7496; IB Gateway: 4001. Simulated Trading ports for new installations \n",
      "of version 954.1 or newer:  TWS: 7497; IB Gateway: 4002\n"
     ]
    },
    {
     "name": "stdout",
     "output_type": "stream",
     "text": [
      "processing JPM for 20220619 23:59:59 US/Eastern took   3.04 sec\n",
      "processing 20220719 23:59:59 US/Eastern\n"
     ]
    },
    {
     "name": "stderr",
     "output_type": "stream",
     "text": [
      "ERROR -1 502 Couldn't connect to TWS. Confirm that \"Enable ActiveX and Socket EClients\" \n",
      "is enabled and connection port is the same as \"Socket Port\" on the \n",
      "TWS \"Edit->Global Configuration...->API->Settings\" menu. Live Trading ports: \n",
      "TWS: 7496; IB Gateway: 4001. Simulated Trading ports for new installations \n",
      "of version 954.1 or newer:  TWS: 7497; IB Gateway: 4002\n"
     ]
    },
    {
     "name": "stdout",
     "output_type": "stream",
     "text": [
      "processing JPM for 20220719 23:59:59 US/Eastern took   3.05 sec\n",
      "processing 20220818 23:59:59 US/Eastern\n"
     ]
    },
    {
     "name": "stderr",
     "output_type": "stream",
     "text": [
      "ERROR -1 502 Couldn't connect to TWS. Confirm that \"Enable ActiveX and Socket EClients\" \n",
      "is enabled and connection port is the same as \"Socket Port\" on the \n",
      "TWS \"Edit->Global Configuration...->API->Settings\" menu. Live Trading ports: \n",
      "TWS: 7496; IB Gateway: 4001. Simulated Trading ports for new installations \n",
      "of version 954.1 or newer:  TWS: 7497; IB Gateway: 4002\n"
     ]
    },
    {
     "name": "stdout",
     "output_type": "stream",
     "text": [
      "processing JPM for 20220818 23:59:59 US/Eastern took   3.06 sec\n",
      "processing 20220917 23:59:59 US/Eastern\n"
     ]
    },
    {
     "name": "stderr",
     "output_type": "stream",
     "text": [
      "ERROR -1 502 Couldn't connect to TWS. Confirm that \"Enable ActiveX and Socket EClients\" \n",
      "is enabled and connection port is the same as \"Socket Port\" on the \n",
      "TWS \"Edit->Global Configuration...->API->Settings\" menu. Live Trading ports: \n",
      "TWS: 7496; IB Gateway: 4001. Simulated Trading ports for new installations \n",
      "of version 954.1 or newer:  TWS: 7497; IB Gateway: 4002\n"
     ]
    },
    {
     "name": "stdout",
     "output_type": "stream",
     "text": [
      "processing JPM for 20220917 23:59:59 US/Eastern took   3.05 sec\n",
      "processing 20221017 23:59:59 US/Eastern\n"
     ]
    },
    {
     "name": "stderr",
     "output_type": "stream",
     "text": [
      "ERROR -1 502 Couldn't connect to TWS. Confirm that \"Enable ActiveX and Socket EClients\" \n",
      "is enabled and connection port is the same as \"Socket Port\" on the \n",
      "TWS \"Edit->Global Configuration...->API->Settings\" menu. Live Trading ports: \n",
      "TWS: 7496; IB Gateway: 4001. Simulated Trading ports for new installations \n",
      "of version 954.1 or newer:  TWS: 7497; IB Gateway: 4002\n"
     ]
    },
    {
     "name": "stdout",
     "output_type": "stream",
     "text": [
      "processing JPM for 20221017 23:59:59 US/Eastern took   3.03 sec\n",
      "processing 20221116 23:59:59 US/Eastern\n"
     ]
    },
    {
     "name": "stderr",
     "output_type": "stream",
     "text": [
      "ERROR -1 502 Couldn't connect to TWS. Confirm that \"Enable ActiveX and Socket EClients\" \n",
      "is enabled and connection port is the same as \"Socket Port\" on the \n",
      "TWS \"Edit->Global Configuration...->API->Settings\" menu. Live Trading ports: \n",
      "TWS: 7496; IB Gateway: 4001. Simulated Trading ports for new installations \n",
      "of version 954.1 or newer:  TWS: 7497; IB Gateway: 4002\n"
     ]
    },
    {
     "name": "stdout",
     "output_type": "stream",
     "text": [
      "processing JPM for 20221116 23:59:59 US/Eastern took   3.05 sec\n",
      "processing 20221216 23:59:59 US/Eastern\n"
     ]
    },
    {
     "name": "stderr",
     "output_type": "stream",
     "text": [
      "ERROR -1 502 Couldn't connect to TWS. Confirm that \"Enable ActiveX and Socket EClients\" \n",
      "is enabled and connection port is the same as \"Socket Port\" on the \n",
      "TWS \"Edit->Global Configuration...->API->Settings\" menu. Live Trading ports: \n",
      "TWS: 7496; IB Gateway: 4001. Simulated Trading ports for new installations \n",
      "of version 954.1 or newer:  TWS: 7497; IB Gateway: 4002\n"
     ]
    },
    {
     "name": "stdout",
     "output_type": "stream",
     "text": [
      "processing JPM for 20221216 23:59:59 US/Eastern took   3.04 sec\n",
      "processing 20230115 23:59:59 US/Eastern\n"
     ]
    },
    {
     "name": "stderr",
     "output_type": "stream",
     "text": [
      "ERROR -1 502 Couldn't connect to TWS. Confirm that \"Enable ActiveX and Socket EClients\" \n",
      "is enabled and connection port is the same as \"Socket Port\" on the \n",
      "TWS \"Edit->Global Configuration...->API->Settings\" menu. Live Trading ports: \n",
      "TWS: 7496; IB Gateway: 4001. Simulated Trading ports for new installations \n",
      "of version 954.1 or newer:  TWS: 7497; IB Gateway: 4002\n"
     ]
    },
    {
     "name": "stdout",
     "output_type": "stream",
     "text": [
      "processing JPM for 20230115 23:59:59 US/Eastern took   3.05 sec\n",
      "processing 20230214 23:59:59 US/Eastern\n"
     ]
    },
    {
     "name": "stderr",
     "output_type": "stream",
     "text": [
      "ERROR -1 502 Couldn't connect to TWS. Confirm that \"Enable ActiveX and Socket EClients\" \n",
      "is enabled and connection port is the same as \"Socket Port\" on the \n",
      "TWS \"Edit->Global Configuration...->API->Settings\" menu. Live Trading ports: \n",
      "TWS: 7496; IB Gateway: 4001. Simulated Trading ports for new installations \n",
      "of version 954.1 or newer:  TWS: 7497; IB Gateway: 4002\n"
     ]
    },
    {
     "name": "stdout",
     "output_type": "stream",
     "text": [
      "processing JPM for 20230214 23:59:59 US/Eastern took   3.05 sec\n",
      "processing 20230316 23:59:59 US/Eastern\n"
     ]
    },
    {
     "name": "stderr",
     "output_type": "stream",
     "text": [
      "ERROR -1 502 Couldn't connect to TWS. Confirm that \"Enable ActiveX and Socket EClients\" \n",
      "is enabled and connection port is the same as \"Socket Port\" on the \n",
      "TWS \"Edit->Global Configuration...->API->Settings\" menu. Live Trading ports: \n",
      "TWS: 7496; IB Gateway: 4001. Simulated Trading ports for new installations \n",
      "of version 954.1 or newer:  TWS: 7497; IB Gateway: 4002\n"
     ]
    },
    {
     "name": "stdout",
     "output_type": "stream",
     "text": [
      "processing JPM for 20230316 23:59:59 US/Eastern took   3.06 sec\n",
      "Processing KO\n",
      "processing 20200101 23:59:59 US/Eastern\n"
     ]
    },
    {
     "name": "stderr",
     "output_type": "stream",
     "text": [
      "ERROR -1 502 Couldn't connect to TWS. Confirm that \"Enable ActiveX and Socket EClients\" \n",
      "is enabled and connection port is the same as \"Socket Port\" on the \n",
      "TWS \"Edit->Global Configuration...->API->Settings\" menu. Live Trading ports: \n",
      "TWS: 7496; IB Gateway: 4001. Simulated Trading ports for new installations \n",
      "of version 954.1 or newer:  TWS: 7497; IB Gateway: 4002\n"
     ]
    },
    {
     "name": "stdout",
     "output_type": "stream",
     "text": [
      "processing KO for 20200101 23:59:59 US/Eastern took   3.05 sec\n",
      "processing 20200131 23:59:59 US/Eastern\n"
     ]
    },
    {
     "name": "stderr",
     "output_type": "stream",
     "text": [
      "ERROR -1 502 Couldn't connect to TWS. Confirm that \"Enable ActiveX and Socket EClients\" \n",
      "is enabled and connection port is the same as \"Socket Port\" on the \n",
      "TWS \"Edit->Global Configuration...->API->Settings\" menu. Live Trading ports: \n",
      "TWS: 7496; IB Gateway: 4001. Simulated Trading ports for new installations \n",
      "of version 954.1 or newer:  TWS: 7497; IB Gateway: 4002\n"
     ]
    },
    {
     "name": "stdout",
     "output_type": "stream",
     "text": [
      "processing KO for 20200131 23:59:59 US/Eastern took   3.08 sec\n",
      "processing 20200301 23:59:59 US/Eastern\n"
     ]
    },
    {
     "name": "stderr",
     "output_type": "stream",
     "text": [
      "ERROR -1 502 Couldn't connect to TWS. Confirm that \"Enable ActiveX and Socket EClients\" \n",
      "is enabled and connection port is the same as \"Socket Port\" on the \n",
      "TWS \"Edit->Global Configuration...->API->Settings\" menu. Live Trading ports: \n",
      "TWS: 7496; IB Gateway: 4001. Simulated Trading ports for new installations \n",
      "of version 954.1 or newer:  TWS: 7497; IB Gateway: 4002\n"
     ]
    },
    {
     "name": "stdout",
     "output_type": "stream",
     "text": [
      "processing KO for 20200301 23:59:59 US/Eastern took   3.04 sec\n",
      "processing 20200331 23:59:59 US/Eastern\n"
     ]
    },
    {
     "name": "stderr",
     "output_type": "stream",
     "text": [
      "ERROR -1 502 Couldn't connect to TWS. Confirm that \"Enable ActiveX and Socket EClients\" \n",
      "is enabled and connection port is the same as \"Socket Port\" on the \n",
      "TWS \"Edit->Global Configuration...->API->Settings\" menu. Live Trading ports: \n",
      "TWS: 7496; IB Gateway: 4001. Simulated Trading ports for new installations \n",
      "of version 954.1 or newer:  TWS: 7497; IB Gateway: 4002\n"
     ]
    },
    {
     "name": "stdout",
     "output_type": "stream",
     "text": [
      "processing KO for 20200331 23:59:59 US/Eastern took   3.05 sec\n",
      "processing 20200430 23:59:59 US/Eastern\n"
     ]
    },
    {
     "name": "stderr",
     "output_type": "stream",
     "text": [
      "ERROR -1 502 Couldn't connect to TWS. Confirm that \"Enable ActiveX and Socket EClients\" \n",
      "is enabled and connection port is the same as \"Socket Port\" on the \n",
      "TWS \"Edit->Global Configuration...->API->Settings\" menu. Live Trading ports: \n",
      "TWS: 7496; IB Gateway: 4001. Simulated Trading ports for new installations \n",
      "of version 954.1 or newer:  TWS: 7497; IB Gateway: 4002\n"
     ]
    },
    {
     "name": "stdout",
     "output_type": "stream",
     "text": [
      "processing KO for 20200430 23:59:59 US/Eastern took   3.06 sec\n",
      "processing 20200530 23:59:59 US/Eastern\n"
     ]
    },
    {
     "name": "stderr",
     "output_type": "stream",
     "text": [
      "ERROR -1 502 Couldn't connect to TWS. Confirm that \"Enable ActiveX and Socket EClients\" \n",
      "is enabled and connection port is the same as \"Socket Port\" on the \n",
      "TWS \"Edit->Global Configuration...->API->Settings\" menu. Live Trading ports: \n",
      "TWS: 7496; IB Gateway: 4001. Simulated Trading ports for new installations \n",
      "of version 954.1 or newer:  TWS: 7497; IB Gateway: 4002\n"
     ]
    },
    {
     "name": "stdout",
     "output_type": "stream",
     "text": [
      "processing KO for 20200530 23:59:59 US/Eastern took   3.04 sec\n",
      "processing 20200629 23:59:59 US/Eastern\n"
     ]
    },
    {
     "name": "stderr",
     "output_type": "stream",
     "text": [
      "ERROR -1 502 Couldn't connect to TWS. Confirm that \"Enable ActiveX and Socket EClients\" \n",
      "is enabled and connection port is the same as \"Socket Port\" on the \n",
      "TWS \"Edit->Global Configuration...->API->Settings\" menu. Live Trading ports: \n",
      "TWS: 7496; IB Gateway: 4001. Simulated Trading ports for new installations \n",
      "of version 954.1 or newer:  TWS: 7497; IB Gateway: 4002\n"
     ]
    },
    {
     "name": "stdout",
     "output_type": "stream",
     "text": [
      "processing KO for 20200629 23:59:59 US/Eastern took   3.06 sec\n",
      "processing 20200729 23:59:59 US/Eastern\n"
     ]
    },
    {
     "name": "stderr",
     "output_type": "stream",
     "text": [
      "ERROR -1 502 Couldn't connect to TWS. Confirm that \"Enable ActiveX and Socket EClients\" \n",
      "is enabled and connection port is the same as \"Socket Port\" on the \n",
      "TWS \"Edit->Global Configuration...->API->Settings\" menu. Live Trading ports: \n",
      "TWS: 7496; IB Gateway: 4001. Simulated Trading ports for new installations \n",
      "of version 954.1 or newer:  TWS: 7497; IB Gateway: 4002\n"
     ]
    },
    {
     "name": "stdout",
     "output_type": "stream",
     "text": [
      "processing KO for 20200729 23:59:59 US/Eastern took   3.06 sec\n",
      "processing 20200828 23:59:59 US/Eastern\n"
     ]
    },
    {
     "name": "stderr",
     "output_type": "stream",
     "text": [
      "ERROR -1 502 Couldn't connect to TWS. Confirm that \"Enable ActiveX and Socket EClients\" \n",
      "is enabled and connection port is the same as \"Socket Port\" on the \n",
      "TWS \"Edit->Global Configuration...->API->Settings\" menu. Live Trading ports: \n",
      "TWS: 7496; IB Gateway: 4001. Simulated Trading ports for new installations \n",
      "of version 954.1 or newer:  TWS: 7497; IB Gateway: 4002\n"
     ]
    },
    {
     "name": "stdout",
     "output_type": "stream",
     "text": [
      "processing KO for 20200828 23:59:59 US/Eastern took   3.05 sec\n",
      "processing 20200927 23:59:59 US/Eastern\n"
     ]
    },
    {
     "name": "stderr",
     "output_type": "stream",
     "text": [
      "ERROR -1 502 Couldn't connect to TWS. Confirm that \"Enable ActiveX and Socket EClients\" \n",
      "is enabled and connection port is the same as \"Socket Port\" on the \n",
      "TWS \"Edit->Global Configuration...->API->Settings\" menu. Live Trading ports: \n",
      "TWS: 7496; IB Gateway: 4001. Simulated Trading ports for new installations \n",
      "of version 954.1 or newer:  TWS: 7497; IB Gateway: 4002\n"
     ]
    },
    {
     "name": "stdout",
     "output_type": "stream",
     "text": [
      "processing KO for 20200927 23:59:59 US/Eastern took   3.06 sec\n",
      "processing 20201027 23:59:59 US/Eastern\n"
     ]
    },
    {
     "name": "stderr",
     "output_type": "stream",
     "text": [
      "ERROR -1 502 Couldn't connect to TWS. Confirm that \"Enable ActiveX and Socket EClients\" \n",
      "is enabled and connection port is the same as \"Socket Port\" on the \n",
      "TWS \"Edit->Global Configuration...->API->Settings\" menu. Live Trading ports: \n",
      "TWS: 7496; IB Gateway: 4001. Simulated Trading ports for new installations \n",
      "of version 954.1 or newer:  TWS: 7497; IB Gateway: 4002\n"
     ]
    },
    {
     "name": "stdout",
     "output_type": "stream",
     "text": [
      "processing KO for 20201027 23:59:59 US/Eastern took   3.06 sec\n",
      "processing 20201126 23:59:59 US/Eastern\n"
     ]
    },
    {
     "name": "stderr",
     "output_type": "stream",
     "text": [
      "ERROR -1 502 Couldn't connect to TWS. Confirm that \"Enable ActiveX and Socket EClients\" \n",
      "is enabled and connection port is the same as \"Socket Port\" on the \n",
      "TWS \"Edit->Global Configuration...->API->Settings\" menu. Live Trading ports: \n",
      "TWS: 7496; IB Gateway: 4001. Simulated Trading ports for new installations \n",
      "of version 954.1 or newer:  TWS: 7497; IB Gateway: 4002\n"
     ]
    },
    {
     "name": "stdout",
     "output_type": "stream",
     "text": [
      "processing KO for 20201126 23:59:59 US/Eastern took   3.06 sec\n",
      "processing 20201226 23:59:59 US/Eastern\n"
     ]
    },
    {
     "name": "stderr",
     "output_type": "stream",
     "text": [
      "ERROR -1 502 Couldn't connect to TWS. Confirm that \"Enable ActiveX and Socket EClients\" \n",
      "is enabled and connection port is the same as \"Socket Port\" on the \n",
      "TWS \"Edit->Global Configuration...->API->Settings\" menu. Live Trading ports: \n",
      "TWS: 7496; IB Gateway: 4001. Simulated Trading ports for new installations \n",
      "of version 954.1 or newer:  TWS: 7497; IB Gateway: 4002\n"
     ]
    },
    {
     "name": "stdout",
     "output_type": "stream",
     "text": [
      "processing KO for 20201226 23:59:59 US/Eastern took   3.04 sec\n",
      "processing 20210125 23:59:59 US/Eastern\n"
     ]
    },
    {
     "name": "stderr",
     "output_type": "stream",
     "text": [
      "ERROR -1 502 Couldn't connect to TWS. Confirm that \"Enable ActiveX and Socket EClients\" \n",
      "is enabled and connection port is the same as \"Socket Port\" on the \n",
      "TWS \"Edit->Global Configuration...->API->Settings\" menu. Live Trading ports: \n",
      "TWS: 7496; IB Gateway: 4001. Simulated Trading ports for new installations \n",
      "of version 954.1 or newer:  TWS: 7497; IB Gateway: 4002\n"
     ]
    },
    {
     "name": "stdout",
     "output_type": "stream",
     "text": [
      "processing KO for 20210125 23:59:59 US/Eastern took   3.04 sec\n",
      "processing 20210224 23:59:59 US/Eastern\n"
     ]
    },
    {
     "name": "stderr",
     "output_type": "stream",
     "text": [
      "ERROR -1 502 Couldn't connect to TWS. Confirm that \"Enable ActiveX and Socket EClients\" \n",
      "is enabled and connection port is the same as \"Socket Port\" on the \n",
      "TWS \"Edit->Global Configuration...->API->Settings\" menu. Live Trading ports: \n",
      "TWS: 7496; IB Gateway: 4001. Simulated Trading ports for new installations \n",
      "of version 954.1 or newer:  TWS: 7497; IB Gateway: 4002\n"
     ]
    },
    {
     "name": "stdout",
     "output_type": "stream",
     "text": [
      "processing KO for 20210224 23:59:59 US/Eastern took   3.07 sec\n",
      "processing 20210326 23:59:59 US/Eastern\n"
     ]
    },
    {
     "name": "stderr",
     "output_type": "stream",
     "text": [
      "ERROR -1 502 Couldn't connect to TWS. Confirm that \"Enable ActiveX and Socket EClients\" \n",
      "is enabled and connection port is the same as \"Socket Port\" on the \n",
      "TWS \"Edit->Global Configuration...->API->Settings\" menu. Live Trading ports: \n",
      "TWS: 7496; IB Gateway: 4001. Simulated Trading ports for new installations \n",
      "of version 954.1 or newer:  TWS: 7497; IB Gateway: 4002\n"
     ]
    },
    {
     "name": "stdout",
     "output_type": "stream",
     "text": [
      "processing KO for 20210326 23:59:59 US/Eastern took   3.06 sec\n",
      "processing 20210425 23:59:59 US/Eastern\n"
     ]
    },
    {
     "name": "stderr",
     "output_type": "stream",
     "text": [
      "ERROR -1 502 Couldn't connect to TWS. Confirm that \"Enable ActiveX and Socket EClients\" \n",
      "is enabled and connection port is the same as \"Socket Port\" on the \n",
      "TWS \"Edit->Global Configuration...->API->Settings\" menu. Live Trading ports: \n",
      "TWS: 7496; IB Gateway: 4001. Simulated Trading ports for new installations \n",
      "of version 954.1 or newer:  TWS: 7497; IB Gateway: 4002\n"
     ]
    },
    {
     "name": "stdout",
     "output_type": "stream",
     "text": [
      "processing KO for 20210425 23:59:59 US/Eastern took   3.06 sec\n",
      "processing 20210525 23:59:59 US/Eastern\n"
     ]
    },
    {
     "name": "stderr",
     "output_type": "stream",
     "text": [
      "ERROR -1 502 Couldn't connect to TWS. Confirm that \"Enable ActiveX and Socket EClients\" \n",
      "is enabled and connection port is the same as \"Socket Port\" on the \n",
      "TWS \"Edit->Global Configuration...->API->Settings\" menu. Live Trading ports: \n",
      "TWS: 7496; IB Gateway: 4001. Simulated Trading ports for new installations \n",
      "of version 954.1 or newer:  TWS: 7497; IB Gateway: 4002\n"
     ]
    },
    {
     "name": "stdout",
     "output_type": "stream",
     "text": [
      "processing KO for 20210525 23:59:59 US/Eastern took   3.05 sec\n",
      "processing 20210624 23:59:59 US/Eastern\n"
     ]
    },
    {
     "name": "stderr",
     "output_type": "stream",
     "text": [
      "ERROR -1 502 Couldn't connect to TWS. Confirm that \"Enable ActiveX and Socket EClients\" \n",
      "is enabled and connection port is the same as \"Socket Port\" on the \n",
      "TWS \"Edit->Global Configuration...->API->Settings\" menu. Live Trading ports: \n",
      "TWS: 7496; IB Gateway: 4001. Simulated Trading ports for new installations \n",
      "of version 954.1 or newer:  TWS: 7497; IB Gateway: 4002\n"
     ]
    },
    {
     "name": "stdout",
     "output_type": "stream",
     "text": [
      "processing KO for 20210624 23:59:59 US/Eastern took   3.04 sec\n",
      "processing 20210724 23:59:59 US/Eastern\n"
     ]
    },
    {
     "name": "stderr",
     "output_type": "stream",
     "text": [
      "ERROR -1 502 Couldn't connect to TWS. Confirm that \"Enable ActiveX and Socket EClients\" \n",
      "is enabled and connection port is the same as \"Socket Port\" on the \n",
      "TWS \"Edit->Global Configuration...->API->Settings\" menu. Live Trading ports: \n",
      "TWS: 7496; IB Gateway: 4001. Simulated Trading ports for new installations \n",
      "of version 954.1 or newer:  TWS: 7497; IB Gateway: 4002\n"
     ]
    },
    {
     "name": "stdout",
     "output_type": "stream",
     "text": [
      "processing KO for 20210724 23:59:59 US/Eastern took   3.04 sec\n",
      "processing 20210823 23:59:59 US/Eastern\n"
     ]
    },
    {
     "name": "stderr",
     "output_type": "stream",
     "text": [
      "ERROR -1 502 Couldn't connect to TWS. Confirm that \"Enable ActiveX and Socket EClients\" \n",
      "is enabled and connection port is the same as \"Socket Port\" on the \n",
      "TWS \"Edit->Global Configuration...->API->Settings\" menu. Live Trading ports: \n",
      "TWS: 7496; IB Gateway: 4001. Simulated Trading ports for new installations \n",
      "of version 954.1 or newer:  TWS: 7497; IB Gateway: 4002\n"
     ]
    },
    {
     "name": "stdout",
     "output_type": "stream",
     "text": [
      "processing KO for 20210823 23:59:59 US/Eastern took   3.04 sec\n",
      "processing 20210922 23:59:59 US/Eastern\n"
     ]
    },
    {
     "name": "stderr",
     "output_type": "stream",
     "text": [
      "ERROR -1 502 Couldn't connect to TWS. Confirm that \"Enable ActiveX and Socket EClients\" \n",
      "is enabled and connection port is the same as \"Socket Port\" on the \n",
      "TWS \"Edit->Global Configuration...->API->Settings\" menu. Live Trading ports: \n",
      "TWS: 7496; IB Gateway: 4001. Simulated Trading ports for new installations \n",
      "of version 954.1 or newer:  TWS: 7497; IB Gateway: 4002\n"
     ]
    },
    {
     "name": "stdout",
     "output_type": "stream",
     "text": [
      "processing KO for 20210922 23:59:59 US/Eastern took   3.05 sec\n",
      "processing 20211022 23:59:59 US/Eastern\n"
     ]
    },
    {
     "name": "stderr",
     "output_type": "stream",
     "text": [
      "ERROR -1 502 Couldn't connect to TWS. Confirm that \"Enable ActiveX and Socket EClients\" \n",
      "is enabled and connection port is the same as \"Socket Port\" on the \n",
      "TWS \"Edit->Global Configuration...->API->Settings\" menu. Live Trading ports: \n",
      "TWS: 7496; IB Gateway: 4001. Simulated Trading ports for new installations \n",
      "of version 954.1 or newer:  TWS: 7497; IB Gateway: 4002\n"
     ]
    },
    {
     "name": "stdout",
     "output_type": "stream",
     "text": [
      "processing KO for 20211022 23:59:59 US/Eastern took   3.05 sec\n",
      "processing 20211121 23:59:59 US/Eastern\n"
     ]
    },
    {
     "name": "stderr",
     "output_type": "stream",
     "text": [
      "ERROR -1 502 Couldn't connect to TWS. Confirm that \"Enable ActiveX and Socket EClients\" \n",
      "is enabled and connection port is the same as \"Socket Port\" on the \n",
      "TWS \"Edit->Global Configuration...->API->Settings\" menu. Live Trading ports: \n",
      "TWS: 7496; IB Gateway: 4001. Simulated Trading ports for new installations \n",
      "of version 954.1 or newer:  TWS: 7497; IB Gateway: 4002\n"
     ]
    },
    {
     "name": "stdout",
     "output_type": "stream",
     "text": [
      "processing KO for 20211121 23:59:59 US/Eastern took   3.05 sec\n",
      "processing 20211221 23:59:59 US/Eastern\n"
     ]
    },
    {
     "name": "stderr",
     "output_type": "stream",
     "text": [
      "ERROR -1 502 Couldn't connect to TWS. Confirm that \"Enable ActiveX and Socket EClients\" \n",
      "is enabled and connection port is the same as \"Socket Port\" on the \n",
      "TWS \"Edit->Global Configuration...->API->Settings\" menu. Live Trading ports: \n",
      "TWS: 7496; IB Gateway: 4001. Simulated Trading ports for new installations \n",
      "of version 954.1 or newer:  TWS: 7497; IB Gateway: 4002\n"
     ]
    },
    {
     "name": "stdout",
     "output_type": "stream",
     "text": [
      "processing KO for 20211221 23:59:59 US/Eastern took   3.04 sec\n",
      "processing 20220120 23:59:59 US/Eastern\n"
     ]
    },
    {
     "name": "stderr",
     "output_type": "stream",
     "text": [
      "ERROR -1 502 Couldn't connect to TWS. Confirm that \"Enable ActiveX and Socket EClients\" \n",
      "is enabled and connection port is the same as \"Socket Port\" on the \n",
      "TWS \"Edit->Global Configuration...->API->Settings\" menu. Live Trading ports: \n",
      "TWS: 7496; IB Gateway: 4001. Simulated Trading ports for new installations \n",
      "of version 954.1 or newer:  TWS: 7497; IB Gateway: 4002\n"
     ]
    },
    {
     "name": "stdout",
     "output_type": "stream",
     "text": [
      "processing KO for 20220120 23:59:59 US/Eastern took   3.03 sec\n",
      "processing 20220219 23:59:59 US/Eastern\n"
     ]
    },
    {
     "name": "stderr",
     "output_type": "stream",
     "text": [
      "ERROR -1 502 Couldn't connect to TWS. Confirm that \"Enable ActiveX and Socket EClients\" \n",
      "is enabled and connection port is the same as \"Socket Port\" on the \n",
      "TWS \"Edit->Global Configuration...->API->Settings\" menu. Live Trading ports: \n",
      "TWS: 7496; IB Gateway: 4001. Simulated Trading ports for new installations \n",
      "of version 954.1 or newer:  TWS: 7497; IB Gateway: 4002\n"
     ]
    },
    {
     "name": "stdout",
     "output_type": "stream",
     "text": [
      "processing KO for 20220219 23:59:59 US/Eastern took   3.04 sec\n",
      "processing 20220321 23:59:59 US/Eastern\n"
     ]
    },
    {
     "name": "stderr",
     "output_type": "stream",
     "text": [
      "ERROR -1 502 Couldn't connect to TWS. Confirm that \"Enable ActiveX and Socket EClients\" \n",
      "is enabled and connection port is the same as \"Socket Port\" on the \n",
      "TWS \"Edit->Global Configuration...->API->Settings\" menu. Live Trading ports: \n",
      "TWS: 7496; IB Gateway: 4001. Simulated Trading ports for new installations \n",
      "of version 954.1 or newer:  TWS: 7497; IB Gateway: 4002\n"
     ]
    },
    {
     "name": "stdout",
     "output_type": "stream",
     "text": [
      "processing KO for 20220321 23:59:59 US/Eastern took   3.07 sec\n",
      "processing 20220420 23:59:59 US/Eastern\n"
     ]
    },
    {
     "name": "stderr",
     "output_type": "stream",
     "text": [
      "ERROR -1 502 Couldn't connect to TWS. Confirm that \"Enable ActiveX and Socket EClients\" \n",
      "is enabled and connection port is the same as \"Socket Port\" on the \n",
      "TWS \"Edit->Global Configuration...->API->Settings\" menu. Live Trading ports: \n",
      "TWS: 7496; IB Gateway: 4001. Simulated Trading ports for new installations \n",
      "of version 954.1 or newer:  TWS: 7497; IB Gateway: 4002\n"
     ]
    },
    {
     "name": "stdout",
     "output_type": "stream",
     "text": [
      "processing KO for 20220420 23:59:59 US/Eastern took   3.02 sec\n",
      "processing 20220520 23:59:59 US/Eastern\n"
     ]
    },
    {
     "name": "stderr",
     "output_type": "stream",
     "text": [
      "ERROR -1 502 Couldn't connect to TWS. Confirm that \"Enable ActiveX and Socket EClients\" \n",
      "is enabled and connection port is the same as \"Socket Port\" on the \n",
      "TWS \"Edit->Global Configuration...->API->Settings\" menu. Live Trading ports: \n",
      "TWS: 7496; IB Gateway: 4001. Simulated Trading ports for new installations \n",
      "of version 954.1 or newer:  TWS: 7497; IB Gateway: 4002\n"
     ]
    },
    {
     "name": "stdout",
     "output_type": "stream",
     "text": [
      "processing KO for 20220520 23:59:59 US/Eastern took   3.04 sec\n",
      "processing 20220619 23:59:59 US/Eastern\n"
     ]
    },
    {
     "name": "stderr",
     "output_type": "stream",
     "text": [
      "ERROR -1 502 Couldn't connect to TWS. Confirm that \"Enable ActiveX and Socket EClients\" \n",
      "is enabled and connection port is the same as \"Socket Port\" on the \n",
      "TWS \"Edit->Global Configuration...->API->Settings\" menu. Live Trading ports: \n",
      "TWS: 7496; IB Gateway: 4001. Simulated Trading ports for new installations \n",
      "of version 954.1 or newer:  TWS: 7497; IB Gateway: 4002\n"
     ]
    },
    {
     "name": "stdout",
     "output_type": "stream",
     "text": [
      "processing KO for 20220619 23:59:59 US/Eastern took   3.05 sec\n",
      "processing 20220719 23:59:59 US/Eastern\n"
     ]
    },
    {
     "name": "stderr",
     "output_type": "stream",
     "text": [
      "ERROR -1 502 Couldn't connect to TWS. Confirm that \"Enable ActiveX and Socket EClients\" \n",
      "is enabled and connection port is the same as \"Socket Port\" on the \n",
      "TWS \"Edit->Global Configuration...->API->Settings\" menu. Live Trading ports: \n",
      "TWS: 7496; IB Gateway: 4001. Simulated Trading ports for new installations \n",
      "of version 954.1 or newer:  TWS: 7497; IB Gateway: 4002\n"
     ]
    },
    {
     "name": "stdout",
     "output_type": "stream",
     "text": [
      "processing KO for 20220719 23:59:59 US/Eastern took   3.04 sec\n",
      "processing 20220818 23:59:59 US/Eastern\n"
     ]
    },
    {
     "name": "stderr",
     "output_type": "stream",
     "text": [
      "ERROR -1 502 Couldn't connect to TWS. Confirm that \"Enable ActiveX and Socket EClients\" \n",
      "is enabled and connection port is the same as \"Socket Port\" on the \n",
      "TWS \"Edit->Global Configuration...->API->Settings\" menu. Live Trading ports: \n",
      "TWS: 7496; IB Gateway: 4001. Simulated Trading ports for new installations \n",
      "of version 954.1 or newer:  TWS: 7497; IB Gateway: 4002\n"
     ]
    },
    {
     "name": "stdout",
     "output_type": "stream",
     "text": [
      "processing KO for 20220818 23:59:59 US/Eastern took   3.03 sec\n",
      "processing 20220917 23:59:59 US/Eastern\n"
     ]
    },
    {
     "name": "stderr",
     "output_type": "stream",
     "text": [
      "ERROR -1 502 Couldn't connect to TWS. Confirm that \"Enable ActiveX and Socket EClients\" \n",
      "is enabled and connection port is the same as \"Socket Port\" on the \n",
      "TWS \"Edit->Global Configuration...->API->Settings\" menu. Live Trading ports: \n",
      "TWS: 7496; IB Gateway: 4001. Simulated Trading ports for new installations \n",
      "of version 954.1 or newer:  TWS: 7497; IB Gateway: 4002\n"
     ]
    },
    {
     "name": "stdout",
     "output_type": "stream",
     "text": [
      "processing KO for 20220917 23:59:59 US/Eastern took   3.04 sec\n",
      "processing 20221017 23:59:59 US/Eastern\n"
     ]
    },
    {
     "name": "stderr",
     "output_type": "stream",
     "text": [
      "ERROR -1 502 Couldn't connect to TWS. Confirm that \"Enable ActiveX and Socket EClients\" \n",
      "is enabled and connection port is the same as \"Socket Port\" on the \n",
      "TWS \"Edit->Global Configuration...->API->Settings\" menu. Live Trading ports: \n",
      "TWS: 7496; IB Gateway: 4001. Simulated Trading ports for new installations \n",
      "of version 954.1 or newer:  TWS: 7497; IB Gateway: 4002\n"
     ]
    },
    {
     "name": "stdout",
     "output_type": "stream",
     "text": [
      "processing KO for 20221017 23:59:59 US/Eastern took   3.03 sec\n",
      "processing 20221116 23:59:59 US/Eastern\n"
     ]
    },
    {
     "name": "stderr",
     "output_type": "stream",
     "text": [
      "ERROR -1 502 Couldn't connect to TWS. Confirm that \"Enable ActiveX and Socket EClients\" \n",
      "is enabled and connection port is the same as \"Socket Port\" on the \n",
      "TWS \"Edit->Global Configuration...->API->Settings\" menu. Live Trading ports: \n",
      "TWS: 7496; IB Gateway: 4001. Simulated Trading ports for new installations \n",
      "of version 954.1 or newer:  TWS: 7497; IB Gateway: 4002\n"
     ]
    },
    {
     "name": "stdout",
     "output_type": "stream",
     "text": [
      "processing KO for 20221116 23:59:59 US/Eastern took   3.06 sec\n",
      "processing 20221216 23:59:59 US/Eastern\n"
     ]
    },
    {
     "name": "stderr",
     "output_type": "stream",
     "text": [
      "ERROR -1 502 Couldn't connect to TWS. Confirm that \"Enable ActiveX and Socket EClients\" \n",
      "is enabled and connection port is the same as \"Socket Port\" on the \n",
      "TWS \"Edit->Global Configuration...->API->Settings\" menu. Live Trading ports: \n",
      "TWS: 7496; IB Gateway: 4001. Simulated Trading ports for new installations \n",
      "of version 954.1 or newer:  TWS: 7497; IB Gateway: 4002\n"
     ]
    },
    {
     "name": "stdout",
     "output_type": "stream",
     "text": [
      "processing KO for 20221216 23:59:59 US/Eastern took   3.04 sec\n",
      "processing 20230115 23:59:59 US/Eastern\n"
     ]
    },
    {
     "name": "stderr",
     "output_type": "stream",
     "text": [
      "ERROR -1 502 Couldn't connect to TWS. Confirm that \"Enable ActiveX and Socket EClients\" \n",
      "is enabled and connection port is the same as \"Socket Port\" on the \n",
      "TWS \"Edit->Global Configuration...->API->Settings\" menu. Live Trading ports: \n",
      "TWS: 7496; IB Gateway: 4001. Simulated Trading ports for new installations \n",
      "of version 954.1 or newer:  TWS: 7497; IB Gateway: 4002\n"
     ]
    },
    {
     "name": "stdout",
     "output_type": "stream",
     "text": [
      "processing KO for 20230115 23:59:59 US/Eastern took   3.03 sec\n",
      "processing 20230214 23:59:59 US/Eastern\n"
     ]
    },
    {
     "name": "stderr",
     "output_type": "stream",
     "text": [
      "ERROR -1 502 Couldn't connect to TWS. Confirm that \"Enable ActiveX and Socket EClients\" \n",
      "is enabled and connection port is the same as \"Socket Port\" on the \n",
      "TWS \"Edit->Global Configuration...->API->Settings\" menu. Live Trading ports: \n",
      "TWS: 7496; IB Gateway: 4001. Simulated Trading ports for new installations \n",
      "of version 954.1 or newer:  TWS: 7497; IB Gateway: 4002\n"
     ]
    },
    {
     "name": "stdout",
     "output_type": "stream",
     "text": [
      "processing KO for 20230214 23:59:59 US/Eastern took   3.03 sec\n",
      "processing 20230316 23:59:59 US/Eastern\n"
     ]
    },
    {
     "name": "stderr",
     "output_type": "stream",
     "text": [
      "ERROR -1 502 Couldn't connect to TWS. Confirm that \"Enable ActiveX and Socket EClients\" \n",
      "is enabled and connection port is the same as \"Socket Port\" on the \n",
      "TWS \"Edit->Global Configuration...->API->Settings\" menu. Live Trading ports: \n",
      "TWS: 7496; IB Gateway: 4001. Simulated Trading ports for new installations \n",
      "of version 954.1 or newer:  TWS: 7497; IB Gateway: 4002\n"
     ]
    },
    {
     "name": "stdout",
     "output_type": "stream",
     "text": [
      "processing KO for 20230316 23:59:59 US/Eastern took   3.06 sec\n",
      "Processing MCD\n",
      "processing 20200101 23:59:59 US/Eastern\n"
     ]
    },
    {
     "name": "stderr",
     "output_type": "stream",
     "text": [
      "ERROR -1 502 Couldn't connect to TWS. Confirm that \"Enable ActiveX and Socket EClients\" \n",
      "is enabled and connection port is the same as \"Socket Port\" on the \n",
      "TWS \"Edit->Global Configuration...->API->Settings\" menu. Live Trading ports: \n",
      "TWS: 7496; IB Gateway: 4001. Simulated Trading ports for new installations \n",
      "of version 954.1 or newer:  TWS: 7497; IB Gateway: 4002\n"
     ]
    },
    {
     "name": "stdout",
     "output_type": "stream",
     "text": [
      "processing MCD for 20200101 23:59:59 US/Eastern took   3.03 sec\n",
      "processing 20200131 23:59:59 US/Eastern\n"
     ]
    },
    {
     "name": "stderr",
     "output_type": "stream",
     "text": [
      "ERROR -1 502 Couldn't connect to TWS. Confirm that \"Enable ActiveX and Socket EClients\" \n",
      "is enabled and connection port is the same as \"Socket Port\" on the \n",
      "TWS \"Edit->Global Configuration...->API->Settings\" menu. Live Trading ports: \n",
      "TWS: 7496; IB Gateway: 4001. Simulated Trading ports for new installations \n",
      "of version 954.1 or newer:  TWS: 7497; IB Gateway: 4002\n"
     ]
    },
    {
     "name": "stdout",
     "output_type": "stream",
     "text": [
      "processing MCD for 20200131 23:59:59 US/Eastern took   3.04 sec\n",
      "processing 20200301 23:59:59 US/Eastern\n"
     ]
    },
    {
     "name": "stderr",
     "output_type": "stream",
     "text": [
      "ERROR -1 502 Couldn't connect to TWS. Confirm that \"Enable ActiveX and Socket EClients\" \n",
      "is enabled and connection port is the same as \"Socket Port\" on the \n",
      "TWS \"Edit->Global Configuration...->API->Settings\" menu. Live Trading ports: \n",
      "TWS: 7496; IB Gateway: 4001. Simulated Trading ports for new installations \n",
      "of version 954.1 or newer:  TWS: 7497; IB Gateway: 4002\n"
     ]
    },
    {
     "name": "stdout",
     "output_type": "stream",
     "text": [
      "processing MCD for 20200301 23:59:59 US/Eastern took   3.05 sec\n",
      "processing 20200331 23:59:59 US/Eastern\n"
     ]
    },
    {
     "name": "stderr",
     "output_type": "stream",
     "text": [
      "ERROR -1 502 Couldn't connect to TWS. Confirm that \"Enable ActiveX and Socket EClients\" \n",
      "is enabled and connection port is the same as \"Socket Port\" on the \n",
      "TWS \"Edit->Global Configuration...->API->Settings\" menu. Live Trading ports: \n",
      "TWS: 7496; IB Gateway: 4001. Simulated Trading ports for new installations \n",
      "of version 954.1 or newer:  TWS: 7497; IB Gateway: 4002\n"
     ]
    },
    {
     "name": "stdout",
     "output_type": "stream",
     "text": [
      "processing MCD for 20200331 23:59:59 US/Eastern took   3.06 sec\n",
      "processing 20200430 23:59:59 US/Eastern\n"
     ]
    },
    {
     "name": "stderr",
     "output_type": "stream",
     "text": [
      "ERROR -1 502 Couldn't connect to TWS. Confirm that \"Enable ActiveX and Socket EClients\" \n",
      "is enabled and connection port is the same as \"Socket Port\" on the \n",
      "TWS \"Edit->Global Configuration...->API->Settings\" menu. Live Trading ports: \n",
      "TWS: 7496; IB Gateway: 4001. Simulated Trading ports for new installations \n",
      "of version 954.1 or newer:  TWS: 7497; IB Gateway: 4002\n"
     ]
    },
    {
     "name": "stdout",
     "output_type": "stream",
     "text": [
      "processing MCD for 20200430 23:59:59 US/Eastern took   3.05 sec\n",
      "processing 20200530 23:59:59 US/Eastern\n"
     ]
    },
    {
     "name": "stderr",
     "output_type": "stream",
     "text": [
      "ERROR -1 502 Couldn't connect to TWS. Confirm that \"Enable ActiveX and Socket EClients\" \n",
      "is enabled and connection port is the same as \"Socket Port\" on the \n",
      "TWS \"Edit->Global Configuration...->API->Settings\" menu. Live Trading ports: \n",
      "TWS: 7496; IB Gateway: 4001. Simulated Trading ports for new installations \n",
      "of version 954.1 or newer:  TWS: 7497; IB Gateway: 4002\n"
     ]
    },
    {
     "name": "stdout",
     "output_type": "stream",
     "text": [
      "processing MCD for 20200530 23:59:59 US/Eastern took   3.03 sec\n",
      "processing 20200629 23:59:59 US/Eastern\n"
     ]
    },
    {
     "name": "stderr",
     "output_type": "stream",
     "text": [
      "ERROR -1 502 Couldn't connect to TWS. Confirm that \"Enable ActiveX and Socket EClients\" \n",
      "is enabled and connection port is the same as \"Socket Port\" on the \n",
      "TWS \"Edit->Global Configuration...->API->Settings\" menu. Live Trading ports: \n",
      "TWS: 7496; IB Gateway: 4001. Simulated Trading ports for new installations \n",
      "of version 954.1 or newer:  TWS: 7497; IB Gateway: 4002\n"
     ]
    },
    {
     "name": "stdout",
     "output_type": "stream",
     "text": [
      "processing MCD for 20200629 23:59:59 US/Eastern took   3.06 sec\n",
      "processing 20200729 23:59:59 US/Eastern\n"
     ]
    },
    {
     "name": "stderr",
     "output_type": "stream",
     "text": [
      "ERROR -1 502 Couldn't connect to TWS. Confirm that \"Enable ActiveX and Socket EClients\" \n",
      "is enabled and connection port is the same as \"Socket Port\" on the \n",
      "TWS \"Edit->Global Configuration...->API->Settings\" menu. Live Trading ports: \n",
      "TWS: 7496; IB Gateway: 4001. Simulated Trading ports for new installations \n",
      "of version 954.1 or newer:  TWS: 7497; IB Gateway: 4002\n"
     ]
    },
    {
     "name": "stdout",
     "output_type": "stream",
     "text": [
      "processing MCD for 20200729 23:59:59 US/Eastern took   3.04 sec\n",
      "processing 20200828 23:59:59 US/Eastern\n"
     ]
    },
    {
     "name": "stderr",
     "output_type": "stream",
     "text": [
      "ERROR -1 502 Couldn't connect to TWS. Confirm that \"Enable ActiveX and Socket EClients\" \n",
      "is enabled and connection port is the same as \"Socket Port\" on the \n",
      "TWS \"Edit->Global Configuration...->API->Settings\" menu. Live Trading ports: \n",
      "TWS: 7496; IB Gateway: 4001. Simulated Trading ports for new installations \n",
      "of version 954.1 or newer:  TWS: 7497; IB Gateway: 4002\n"
     ]
    },
    {
     "name": "stdout",
     "output_type": "stream",
     "text": [
      "processing MCD for 20200828 23:59:59 US/Eastern took   3.04 sec\n",
      "processing 20200927 23:59:59 US/Eastern\n"
     ]
    },
    {
     "name": "stderr",
     "output_type": "stream",
     "text": [
      "ERROR -1 502 Couldn't connect to TWS. Confirm that \"Enable ActiveX and Socket EClients\" \n",
      "is enabled and connection port is the same as \"Socket Port\" on the \n",
      "TWS \"Edit->Global Configuration...->API->Settings\" menu. Live Trading ports: \n",
      "TWS: 7496; IB Gateway: 4001. Simulated Trading ports for new installations \n",
      "of version 954.1 or newer:  TWS: 7497; IB Gateway: 4002\n"
     ]
    },
    {
     "name": "stdout",
     "output_type": "stream",
     "text": [
      "processing MCD for 20200927 23:59:59 US/Eastern took   3.06 sec\n",
      "processing 20201027 23:59:59 US/Eastern\n"
     ]
    },
    {
     "name": "stderr",
     "output_type": "stream",
     "text": [
      "ERROR -1 502 Couldn't connect to TWS. Confirm that \"Enable ActiveX and Socket EClients\" \n",
      "is enabled and connection port is the same as \"Socket Port\" on the \n",
      "TWS \"Edit->Global Configuration...->API->Settings\" menu. Live Trading ports: \n",
      "TWS: 7496; IB Gateway: 4001. Simulated Trading ports for new installations \n",
      "of version 954.1 or newer:  TWS: 7497; IB Gateway: 4002\n"
     ]
    },
    {
     "name": "stdout",
     "output_type": "stream",
     "text": [
      "processing MCD for 20201027 23:59:59 US/Eastern took   3.04 sec\n",
      "processing 20201126 23:59:59 US/Eastern\n"
     ]
    },
    {
     "name": "stderr",
     "output_type": "stream",
     "text": [
      "ERROR -1 502 Couldn't connect to TWS. Confirm that \"Enable ActiveX and Socket EClients\" \n",
      "is enabled and connection port is the same as \"Socket Port\" on the \n",
      "TWS \"Edit->Global Configuration...->API->Settings\" menu. Live Trading ports: \n",
      "TWS: 7496; IB Gateway: 4001. Simulated Trading ports for new installations \n",
      "of version 954.1 or newer:  TWS: 7497; IB Gateway: 4002\n"
     ]
    },
    {
     "name": "stdout",
     "output_type": "stream",
     "text": [
      "processing MCD for 20201126 23:59:59 US/Eastern took   3.05 sec\n",
      "processing 20201226 23:59:59 US/Eastern\n"
     ]
    },
    {
     "name": "stderr",
     "output_type": "stream",
     "text": [
      "ERROR -1 502 Couldn't connect to TWS. Confirm that \"Enable ActiveX and Socket EClients\" \n",
      "is enabled and connection port is the same as \"Socket Port\" on the \n",
      "TWS \"Edit->Global Configuration...->API->Settings\" menu. Live Trading ports: \n",
      "TWS: 7496; IB Gateway: 4001. Simulated Trading ports for new installations \n",
      "of version 954.1 or newer:  TWS: 7497; IB Gateway: 4002\n"
     ]
    },
    {
     "name": "stdout",
     "output_type": "stream",
     "text": [
      "processing MCD for 20201226 23:59:59 US/Eastern took   3.05 sec\n",
      "processing 20210125 23:59:59 US/Eastern\n"
     ]
    },
    {
     "name": "stderr",
     "output_type": "stream",
     "text": [
      "ERROR -1 502 Couldn't connect to TWS. Confirm that \"Enable ActiveX and Socket EClients\" \n",
      "is enabled and connection port is the same as \"Socket Port\" on the \n",
      "TWS \"Edit->Global Configuration...->API->Settings\" menu. Live Trading ports: \n",
      "TWS: 7496; IB Gateway: 4001. Simulated Trading ports for new installations \n",
      "of version 954.1 or newer:  TWS: 7497; IB Gateway: 4002\n"
     ]
    },
    {
     "name": "stdout",
     "output_type": "stream",
     "text": [
      "processing MCD for 20210125 23:59:59 US/Eastern took   3.02 sec\n",
      "processing 20210224 23:59:59 US/Eastern\n"
     ]
    },
    {
     "name": "stderr",
     "output_type": "stream",
     "text": [
      "ERROR -1 502 Couldn't connect to TWS. Confirm that \"Enable ActiveX and Socket EClients\" \n",
      "is enabled and connection port is the same as \"Socket Port\" on the \n",
      "TWS \"Edit->Global Configuration...->API->Settings\" menu. Live Trading ports: \n",
      "TWS: 7496; IB Gateway: 4001. Simulated Trading ports for new installations \n",
      "of version 954.1 or newer:  TWS: 7497; IB Gateway: 4002\n"
     ]
    },
    {
     "name": "stdout",
     "output_type": "stream",
     "text": [
      "processing MCD for 20210224 23:59:59 US/Eastern took   3.05 sec\n",
      "processing 20210326 23:59:59 US/Eastern\n"
     ]
    },
    {
     "name": "stderr",
     "output_type": "stream",
     "text": [
      "ERROR -1 502 Couldn't connect to TWS. Confirm that \"Enable ActiveX and Socket EClients\" \n",
      "is enabled and connection port is the same as \"Socket Port\" on the \n",
      "TWS \"Edit->Global Configuration...->API->Settings\" menu. Live Trading ports: \n",
      "TWS: 7496; IB Gateway: 4001. Simulated Trading ports for new installations \n",
      "of version 954.1 or newer:  TWS: 7497; IB Gateway: 4002\n"
     ]
    },
    {
     "name": "stdout",
     "output_type": "stream",
     "text": [
      "processing MCD for 20210326 23:59:59 US/Eastern took   3.05 sec\n",
      "processing 20210425 23:59:59 US/Eastern\n"
     ]
    },
    {
     "name": "stderr",
     "output_type": "stream",
     "text": [
      "ERROR -1 502 Couldn't connect to TWS. Confirm that \"Enable ActiveX and Socket EClients\" \n",
      "is enabled and connection port is the same as \"Socket Port\" on the \n",
      "TWS \"Edit->Global Configuration...->API->Settings\" menu. Live Trading ports: \n",
      "TWS: 7496; IB Gateway: 4001. Simulated Trading ports for new installations \n",
      "of version 954.1 or newer:  TWS: 7497; IB Gateway: 4002\n"
     ]
    },
    {
     "name": "stdout",
     "output_type": "stream",
     "text": [
      "processing MCD for 20210425 23:59:59 US/Eastern took   3.07 sec\n",
      "processing 20210525 23:59:59 US/Eastern\n"
     ]
    },
    {
     "name": "stderr",
     "output_type": "stream",
     "text": [
      "ERROR -1 502 Couldn't connect to TWS. Confirm that \"Enable ActiveX and Socket EClients\" \n",
      "is enabled and connection port is the same as \"Socket Port\" on the \n",
      "TWS \"Edit->Global Configuration...->API->Settings\" menu. Live Trading ports: \n",
      "TWS: 7496; IB Gateway: 4001. Simulated Trading ports for new installations \n",
      "of version 954.1 or newer:  TWS: 7497; IB Gateway: 4002\n"
     ]
    },
    {
     "name": "stdout",
     "output_type": "stream",
     "text": [
      "processing MCD for 20210525 23:59:59 US/Eastern took   3.02 sec\n",
      "processing 20210624 23:59:59 US/Eastern\n"
     ]
    },
    {
     "name": "stderr",
     "output_type": "stream",
     "text": [
      "ERROR -1 502 Couldn't connect to TWS. Confirm that \"Enable ActiveX and Socket EClients\" \n",
      "is enabled and connection port is the same as \"Socket Port\" on the \n",
      "TWS \"Edit->Global Configuration...->API->Settings\" menu. Live Trading ports: \n",
      "TWS: 7496; IB Gateway: 4001. Simulated Trading ports for new installations \n",
      "of version 954.1 or newer:  TWS: 7497; IB Gateway: 4002\n"
     ]
    },
    {
     "name": "stdout",
     "output_type": "stream",
     "text": [
      "processing MCD for 20210624 23:59:59 US/Eastern took   3.04 sec\n",
      "processing 20210724 23:59:59 US/Eastern\n"
     ]
    },
    {
     "name": "stderr",
     "output_type": "stream",
     "text": [
      "ERROR -1 502 Couldn't connect to TWS. Confirm that \"Enable ActiveX and Socket EClients\" \n",
      "is enabled and connection port is the same as \"Socket Port\" on the \n",
      "TWS \"Edit->Global Configuration...->API->Settings\" menu. Live Trading ports: \n",
      "TWS: 7496; IB Gateway: 4001. Simulated Trading ports for new installations \n",
      "of version 954.1 or newer:  TWS: 7497; IB Gateway: 4002\n"
     ]
    },
    {
     "name": "stdout",
     "output_type": "stream",
     "text": [
      "processing MCD for 20210724 23:59:59 US/Eastern took   3.05 sec\n",
      "processing 20210823 23:59:59 US/Eastern\n"
     ]
    },
    {
     "name": "stderr",
     "output_type": "stream",
     "text": [
      "ERROR -1 502 Couldn't connect to TWS. Confirm that \"Enable ActiveX and Socket EClients\" \n",
      "is enabled and connection port is the same as \"Socket Port\" on the \n",
      "TWS \"Edit->Global Configuration...->API->Settings\" menu. Live Trading ports: \n",
      "TWS: 7496; IB Gateway: 4001. Simulated Trading ports for new installations \n",
      "of version 954.1 or newer:  TWS: 7497; IB Gateway: 4002\n"
     ]
    },
    {
     "name": "stdout",
     "output_type": "stream",
     "text": [
      "processing MCD for 20210823 23:59:59 US/Eastern took   3.05 sec\n",
      "processing 20210922 23:59:59 US/Eastern\n"
     ]
    },
    {
     "name": "stderr",
     "output_type": "stream",
     "text": [
      "ERROR -1 502 Couldn't connect to TWS. Confirm that \"Enable ActiveX and Socket EClients\" \n",
      "is enabled and connection port is the same as \"Socket Port\" on the \n",
      "TWS \"Edit->Global Configuration...->API->Settings\" menu. Live Trading ports: \n",
      "TWS: 7496; IB Gateway: 4001. Simulated Trading ports for new installations \n",
      "of version 954.1 or newer:  TWS: 7497; IB Gateway: 4002\n"
     ]
    },
    {
     "name": "stdout",
     "output_type": "stream",
     "text": [
      "processing MCD for 20210922 23:59:59 US/Eastern took   3.02 sec\n",
      "processing 20211022 23:59:59 US/Eastern\n"
     ]
    },
    {
     "name": "stderr",
     "output_type": "stream",
     "text": [
      "ERROR -1 502 Couldn't connect to TWS. Confirm that \"Enable ActiveX and Socket EClients\" \n",
      "is enabled and connection port is the same as \"Socket Port\" on the \n",
      "TWS \"Edit->Global Configuration...->API->Settings\" menu. Live Trading ports: \n",
      "TWS: 7496; IB Gateway: 4001. Simulated Trading ports for new installations \n",
      "of version 954.1 or newer:  TWS: 7497; IB Gateway: 4002\n"
     ]
    },
    {
     "name": "stdout",
     "output_type": "stream",
     "text": [
      "processing MCD for 20211022 23:59:59 US/Eastern took   3.09 sec\n",
      "processing 20211121 23:59:59 US/Eastern\n"
     ]
    },
    {
     "name": "stderr",
     "output_type": "stream",
     "text": [
      "ERROR -1 502 Couldn't connect to TWS. Confirm that \"Enable ActiveX and Socket EClients\" \n",
      "is enabled and connection port is the same as \"Socket Port\" on the \n",
      "TWS \"Edit->Global Configuration...->API->Settings\" menu. Live Trading ports: \n",
      "TWS: 7496; IB Gateway: 4001. Simulated Trading ports for new installations \n",
      "of version 954.1 or newer:  TWS: 7497; IB Gateway: 4002\n"
     ]
    },
    {
     "name": "stdout",
     "output_type": "stream",
     "text": [
      "processing MCD for 20211121 23:59:59 US/Eastern took   3.03 sec\n",
      "processing 20211221 23:59:59 US/Eastern\n"
     ]
    },
    {
     "name": "stderr",
     "output_type": "stream",
     "text": [
      "ERROR -1 502 Couldn't connect to TWS. Confirm that \"Enable ActiveX and Socket EClients\" \n",
      "is enabled and connection port is the same as \"Socket Port\" on the \n",
      "TWS \"Edit->Global Configuration...->API->Settings\" menu. Live Trading ports: \n",
      "TWS: 7496; IB Gateway: 4001. Simulated Trading ports for new installations \n",
      "of version 954.1 or newer:  TWS: 7497; IB Gateway: 4002\n"
     ]
    },
    {
     "name": "stdout",
     "output_type": "stream",
     "text": [
      "processing MCD for 20211221 23:59:59 US/Eastern took   3.05 sec\n",
      "processing 20220120 23:59:59 US/Eastern\n"
     ]
    },
    {
     "name": "stderr",
     "output_type": "stream",
     "text": [
      "ERROR -1 502 Couldn't connect to TWS. Confirm that \"Enable ActiveX and Socket EClients\" \n",
      "is enabled and connection port is the same as \"Socket Port\" on the \n",
      "TWS \"Edit->Global Configuration...->API->Settings\" menu. Live Trading ports: \n",
      "TWS: 7496; IB Gateway: 4001. Simulated Trading ports for new installations \n",
      "of version 954.1 or newer:  TWS: 7497; IB Gateway: 4002\n"
     ]
    },
    {
     "name": "stdout",
     "output_type": "stream",
     "text": [
      "processing MCD for 20220120 23:59:59 US/Eastern took   3.04 sec\n",
      "processing 20220219 23:59:59 US/Eastern\n"
     ]
    },
    {
     "name": "stderr",
     "output_type": "stream",
     "text": [
      "ERROR -1 502 Couldn't connect to TWS. Confirm that \"Enable ActiveX and Socket EClients\" \n",
      "is enabled and connection port is the same as \"Socket Port\" on the \n",
      "TWS \"Edit->Global Configuration...->API->Settings\" menu. Live Trading ports: \n",
      "TWS: 7496; IB Gateway: 4001. Simulated Trading ports for new installations \n",
      "of version 954.1 or newer:  TWS: 7497; IB Gateway: 4002\n"
     ]
    },
    {
     "name": "stdout",
     "output_type": "stream",
     "text": [
      "processing MCD for 20220219 23:59:59 US/Eastern took   3.05 sec\n",
      "processing 20220321 23:59:59 US/Eastern\n"
     ]
    },
    {
     "name": "stderr",
     "output_type": "stream",
     "text": [
      "ERROR -1 502 Couldn't connect to TWS. Confirm that \"Enable ActiveX and Socket EClients\" \n",
      "is enabled and connection port is the same as \"Socket Port\" on the \n",
      "TWS \"Edit->Global Configuration...->API->Settings\" menu. Live Trading ports: \n",
      "TWS: 7496; IB Gateway: 4001. Simulated Trading ports for new installations \n",
      "of version 954.1 or newer:  TWS: 7497; IB Gateway: 4002\n"
     ]
    },
    {
     "name": "stdout",
     "output_type": "stream",
     "text": [
      "processing MCD for 20220321 23:59:59 US/Eastern took   3.05 sec\n",
      "processing 20220420 23:59:59 US/Eastern\n"
     ]
    },
    {
     "name": "stderr",
     "output_type": "stream",
     "text": [
      "ERROR -1 502 Couldn't connect to TWS. Confirm that \"Enable ActiveX and Socket EClients\" \n",
      "is enabled and connection port is the same as \"Socket Port\" on the \n",
      "TWS \"Edit->Global Configuration...->API->Settings\" menu. Live Trading ports: \n",
      "TWS: 7496; IB Gateway: 4001. Simulated Trading ports for new installations \n",
      "of version 954.1 or newer:  TWS: 7497; IB Gateway: 4002\n"
     ]
    },
    {
     "name": "stdout",
     "output_type": "stream",
     "text": [
      "processing MCD for 20220420 23:59:59 US/Eastern took   3.07 sec\n",
      "processing 20220520 23:59:59 US/Eastern\n"
     ]
    },
    {
     "name": "stderr",
     "output_type": "stream",
     "text": [
      "ERROR -1 502 Couldn't connect to TWS. Confirm that \"Enable ActiveX and Socket EClients\" \n",
      "is enabled and connection port is the same as \"Socket Port\" on the \n",
      "TWS \"Edit->Global Configuration...->API->Settings\" menu. Live Trading ports: \n",
      "TWS: 7496; IB Gateway: 4001. Simulated Trading ports for new installations \n",
      "of version 954.1 or newer:  TWS: 7497; IB Gateway: 4002\n"
     ]
    },
    {
     "name": "stdout",
     "output_type": "stream",
     "text": [
      "processing MCD for 20220520 23:59:59 US/Eastern took   3.04 sec\n",
      "processing 20220619 23:59:59 US/Eastern\n"
     ]
    },
    {
     "name": "stderr",
     "output_type": "stream",
     "text": [
      "ERROR -1 502 Couldn't connect to TWS. Confirm that \"Enable ActiveX and Socket EClients\" \n",
      "is enabled and connection port is the same as \"Socket Port\" on the \n",
      "TWS \"Edit->Global Configuration...->API->Settings\" menu. Live Trading ports: \n",
      "TWS: 7496; IB Gateway: 4001. Simulated Trading ports for new installations \n",
      "of version 954.1 or newer:  TWS: 7497; IB Gateway: 4002\n"
     ]
    },
    {
     "name": "stdout",
     "output_type": "stream",
     "text": [
      "processing MCD for 20220619 23:59:59 US/Eastern took   3.03 sec\n",
      "processing 20220719 23:59:59 US/Eastern\n"
     ]
    },
    {
     "name": "stderr",
     "output_type": "stream",
     "text": [
      "ERROR -1 502 Couldn't connect to TWS. Confirm that \"Enable ActiveX and Socket EClients\" \n",
      "is enabled and connection port is the same as \"Socket Port\" on the \n",
      "TWS \"Edit->Global Configuration...->API->Settings\" menu. Live Trading ports: \n",
      "TWS: 7496; IB Gateway: 4001. Simulated Trading ports for new installations \n",
      "of version 954.1 or newer:  TWS: 7497; IB Gateway: 4002\n"
     ]
    },
    {
     "name": "stdout",
     "output_type": "stream",
     "text": [
      "processing MCD for 20220719 23:59:59 US/Eastern took   3.02 sec\n",
      "processing 20220818 23:59:59 US/Eastern\n"
     ]
    },
    {
     "name": "stderr",
     "output_type": "stream",
     "text": [
      "ERROR -1 502 Couldn't connect to TWS. Confirm that \"Enable ActiveX and Socket EClients\" \n",
      "is enabled and connection port is the same as \"Socket Port\" on the \n",
      "TWS \"Edit->Global Configuration...->API->Settings\" menu. Live Trading ports: \n",
      "TWS: 7496; IB Gateway: 4001. Simulated Trading ports for new installations \n",
      "of version 954.1 or newer:  TWS: 7497; IB Gateway: 4002\n"
     ]
    },
    {
     "name": "stdout",
     "output_type": "stream",
     "text": [
      "processing MCD for 20220818 23:59:59 US/Eastern took   3.04 sec\n",
      "processing 20220917 23:59:59 US/Eastern\n"
     ]
    },
    {
     "name": "stderr",
     "output_type": "stream",
     "text": [
      "ERROR -1 502 Couldn't connect to TWS. Confirm that \"Enable ActiveX and Socket EClients\" \n",
      "is enabled and connection port is the same as \"Socket Port\" on the \n",
      "TWS \"Edit->Global Configuration...->API->Settings\" menu. Live Trading ports: \n",
      "TWS: 7496; IB Gateway: 4001. Simulated Trading ports for new installations \n",
      "of version 954.1 or newer:  TWS: 7497; IB Gateway: 4002\n"
     ]
    },
    {
     "name": "stdout",
     "output_type": "stream",
     "text": [
      "processing MCD for 20220917 23:59:59 US/Eastern took   3.05 sec\n",
      "processing 20221017 23:59:59 US/Eastern\n"
     ]
    },
    {
     "name": "stderr",
     "output_type": "stream",
     "text": [
      "ERROR -1 502 Couldn't connect to TWS. Confirm that \"Enable ActiveX and Socket EClients\" \n",
      "is enabled and connection port is the same as \"Socket Port\" on the \n",
      "TWS \"Edit->Global Configuration...->API->Settings\" menu. Live Trading ports: \n",
      "TWS: 7496; IB Gateway: 4001. Simulated Trading ports for new installations \n",
      "of version 954.1 or newer:  TWS: 7497; IB Gateway: 4002\n"
     ]
    },
    {
     "name": "stdout",
     "output_type": "stream",
     "text": [
      "processing MCD for 20221017 23:59:59 US/Eastern took   3.05 sec\n",
      "processing 20221116 23:59:59 US/Eastern\n"
     ]
    },
    {
     "name": "stderr",
     "output_type": "stream",
     "text": [
      "ERROR -1 502 Couldn't connect to TWS. Confirm that \"Enable ActiveX and Socket EClients\" \n",
      "is enabled and connection port is the same as \"Socket Port\" on the \n",
      "TWS \"Edit->Global Configuration...->API->Settings\" menu. Live Trading ports: \n",
      "TWS: 7496; IB Gateway: 4001. Simulated Trading ports for new installations \n",
      "of version 954.1 or newer:  TWS: 7497; IB Gateway: 4002\n"
     ]
    },
    {
     "name": "stdout",
     "output_type": "stream",
     "text": [
      "processing MCD for 20221116 23:59:59 US/Eastern took   3.03 sec\n",
      "processing 20221216 23:59:59 US/Eastern\n"
     ]
    },
    {
     "name": "stderr",
     "output_type": "stream",
     "text": [
      "ERROR -1 502 Couldn't connect to TWS. Confirm that \"Enable ActiveX and Socket EClients\" \n",
      "is enabled and connection port is the same as \"Socket Port\" on the \n",
      "TWS \"Edit->Global Configuration...->API->Settings\" menu. Live Trading ports: \n",
      "TWS: 7496; IB Gateway: 4001. Simulated Trading ports for new installations \n",
      "of version 954.1 or newer:  TWS: 7497; IB Gateway: 4002\n"
     ]
    },
    {
     "name": "stdout",
     "output_type": "stream",
     "text": [
      "processing MCD for 20221216 23:59:59 US/Eastern took   3.04 sec\n",
      "processing 20230115 23:59:59 US/Eastern\n"
     ]
    },
    {
     "name": "stderr",
     "output_type": "stream",
     "text": [
      "ERROR -1 502 Couldn't connect to TWS. Confirm that \"Enable ActiveX and Socket EClients\" \n",
      "is enabled and connection port is the same as \"Socket Port\" on the \n",
      "TWS \"Edit->Global Configuration...->API->Settings\" menu. Live Trading ports: \n",
      "TWS: 7496; IB Gateway: 4001. Simulated Trading ports for new installations \n",
      "of version 954.1 or newer:  TWS: 7497; IB Gateway: 4002\n"
     ]
    },
    {
     "name": "stdout",
     "output_type": "stream",
     "text": [
      "processing MCD for 20230115 23:59:59 US/Eastern took   3.04 sec\n",
      "processing 20230214 23:59:59 US/Eastern\n"
     ]
    },
    {
     "name": "stderr",
     "output_type": "stream",
     "text": [
      "ERROR -1 502 Couldn't connect to TWS. Confirm that \"Enable ActiveX and Socket EClients\" \n",
      "is enabled and connection port is the same as \"Socket Port\" on the \n",
      "TWS \"Edit->Global Configuration...->API->Settings\" menu. Live Trading ports: \n",
      "TWS: 7496; IB Gateway: 4001. Simulated Trading ports for new installations \n",
      "of version 954.1 or newer:  TWS: 7497; IB Gateway: 4002\n"
     ]
    },
    {
     "name": "stdout",
     "output_type": "stream",
     "text": [
      "processing MCD for 20230214 23:59:59 US/Eastern took   3.06 sec\n",
      "processing 20230316 23:59:59 US/Eastern\n"
     ]
    },
    {
     "name": "stderr",
     "output_type": "stream",
     "text": [
      "ERROR -1 502 Couldn't connect to TWS. Confirm that \"Enable ActiveX and Socket EClients\" \n",
      "is enabled and connection port is the same as \"Socket Port\" on the \n",
      "TWS \"Edit->Global Configuration...->API->Settings\" menu. Live Trading ports: \n",
      "TWS: 7496; IB Gateway: 4001. Simulated Trading ports for new installations \n",
      "of version 954.1 or newer:  TWS: 7497; IB Gateway: 4002\n"
     ]
    },
    {
     "name": "stdout",
     "output_type": "stream",
     "text": [
      "processing MCD for 20230316 23:59:59 US/Eastern took   3.04 sec\n",
      "Processing MMM\n",
      "processing 20200101 23:59:59 US/Eastern\n"
     ]
    },
    {
     "name": "stderr",
     "output_type": "stream",
     "text": [
      "ERROR -1 502 Couldn't connect to TWS. Confirm that \"Enable ActiveX and Socket EClients\" \n",
      "is enabled and connection port is the same as \"Socket Port\" on the \n",
      "TWS \"Edit->Global Configuration...->API->Settings\" menu. Live Trading ports: \n",
      "TWS: 7496; IB Gateway: 4001. Simulated Trading ports for new installations \n",
      "of version 954.1 or newer:  TWS: 7497; IB Gateway: 4002\n"
     ]
    },
    {
     "name": "stdout",
     "output_type": "stream",
     "text": [
      "processing MMM for 20200101 23:59:59 US/Eastern took   3.03 sec\n",
      "processing 20200131 23:59:59 US/Eastern\n"
     ]
    },
    {
     "name": "stderr",
     "output_type": "stream",
     "text": [
      "ERROR -1 502 Couldn't connect to TWS. Confirm that \"Enable ActiveX and Socket EClients\" \n",
      "is enabled and connection port is the same as \"Socket Port\" on the \n",
      "TWS \"Edit->Global Configuration...->API->Settings\" menu. Live Trading ports: \n",
      "TWS: 7496; IB Gateway: 4001. Simulated Trading ports for new installations \n",
      "of version 954.1 or newer:  TWS: 7497; IB Gateway: 4002\n"
     ]
    },
    {
     "name": "stdout",
     "output_type": "stream",
     "text": [
      "processing MMM for 20200131 23:59:59 US/Eastern took   3.05 sec\n",
      "processing 20200301 23:59:59 US/Eastern\n"
     ]
    },
    {
     "name": "stderr",
     "output_type": "stream",
     "text": [
      "ERROR -1 502 Couldn't connect to TWS. Confirm that \"Enable ActiveX and Socket EClients\" \n",
      "is enabled and connection port is the same as \"Socket Port\" on the \n",
      "TWS \"Edit->Global Configuration...->API->Settings\" menu. Live Trading ports: \n",
      "TWS: 7496; IB Gateway: 4001. Simulated Trading ports for new installations \n",
      "of version 954.1 or newer:  TWS: 7497; IB Gateway: 4002\n"
     ]
    },
    {
     "name": "stdout",
     "output_type": "stream",
     "text": [
      "processing MMM for 20200301 23:59:59 US/Eastern took   3.04 sec\n",
      "processing 20200331 23:59:59 US/Eastern\n"
     ]
    },
    {
     "name": "stderr",
     "output_type": "stream",
     "text": [
      "ERROR -1 502 Couldn't connect to TWS. Confirm that \"Enable ActiveX and Socket EClients\" \n",
      "is enabled and connection port is the same as \"Socket Port\" on the \n",
      "TWS \"Edit->Global Configuration...->API->Settings\" menu. Live Trading ports: \n",
      "TWS: 7496; IB Gateway: 4001. Simulated Trading ports for new installations \n",
      "of version 954.1 or newer:  TWS: 7497; IB Gateway: 4002\n"
     ]
    },
    {
     "name": "stdout",
     "output_type": "stream",
     "text": [
      "processing MMM for 20200331 23:59:59 US/Eastern took   3.04 sec\n",
      "processing 20200430 23:59:59 US/Eastern\n"
     ]
    },
    {
     "name": "stderr",
     "output_type": "stream",
     "text": [
      "ERROR -1 502 Couldn't connect to TWS. Confirm that \"Enable ActiveX and Socket EClients\" \n",
      "is enabled and connection port is the same as \"Socket Port\" on the \n",
      "TWS \"Edit->Global Configuration...->API->Settings\" menu. Live Trading ports: \n",
      "TWS: 7496; IB Gateway: 4001. Simulated Trading ports for new installations \n",
      "of version 954.1 or newer:  TWS: 7497; IB Gateway: 4002\n"
     ]
    },
    {
     "name": "stdout",
     "output_type": "stream",
     "text": [
      "processing MMM for 20200430 23:59:59 US/Eastern took   3.04 sec\n",
      "processing 20200530 23:59:59 US/Eastern\n"
     ]
    },
    {
     "name": "stderr",
     "output_type": "stream",
     "text": [
      "ERROR -1 502 Couldn't connect to TWS. Confirm that \"Enable ActiveX and Socket EClients\" \n",
      "is enabled and connection port is the same as \"Socket Port\" on the \n",
      "TWS \"Edit->Global Configuration...->API->Settings\" menu. Live Trading ports: \n",
      "TWS: 7496; IB Gateway: 4001. Simulated Trading ports for new installations \n",
      "of version 954.1 or newer:  TWS: 7497; IB Gateway: 4002\n"
     ]
    },
    {
     "name": "stdout",
     "output_type": "stream",
     "text": [
      "processing MMM for 20200530 23:59:59 US/Eastern took   3.04 sec\n",
      "processing 20200629 23:59:59 US/Eastern\n"
     ]
    },
    {
     "name": "stderr",
     "output_type": "stream",
     "text": [
      "ERROR -1 502 Couldn't connect to TWS. Confirm that \"Enable ActiveX and Socket EClients\" \n",
      "is enabled and connection port is the same as \"Socket Port\" on the \n",
      "TWS \"Edit->Global Configuration...->API->Settings\" menu. Live Trading ports: \n",
      "TWS: 7496; IB Gateway: 4001. Simulated Trading ports for new installations \n",
      "of version 954.1 or newer:  TWS: 7497; IB Gateway: 4002\n"
     ]
    },
    {
     "name": "stdout",
     "output_type": "stream",
     "text": [
      "processing MMM for 20200629 23:59:59 US/Eastern took   3.02 sec\n",
      "processing 20200729 23:59:59 US/Eastern\n"
     ]
    },
    {
     "name": "stderr",
     "output_type": "stream",
     "text": [
      "ERROR -1 502 Couldn't connect to TWS. Confirm that \"Enable ActiveX and Socket EClients\" \n",
      "is enabled and connection port is the same as \"Socket Port\" on the \n",
      "TWS \"Edit->Global Configuration...->API->Settings\" menu. Live Trading ports: \n",
      "TWS: 7496; IB Gateway: 4001. Simulated Trading ports for new installations \n",
      "of version 954.1 or newer:  TWS: 7497; IB Gateway: 4002\n"
     ]
    },
    {
     "name": "stdout",
     "output_type": "stream",
     "text": [
      "processing MMM for 20200729 23:59:59 US/Eastern took   3.07 sec\n",
      "processing 20200828 23:59:59 US/Eastern\n"
     ]
    },
    {
     "name": "stderr",
     "output_type": "stream",
     "text": [
      "ERROR -1 502 Couldn't connect to TWS. Confirm that \"Enable ActiveX and Socket EClients\" \n",
      "is enabled and connection port is the same as \"Socket Port\" on the \n",
      "TWS \"Edit->Global Configuration...->API->Settings\" menu. Live Trading ports: \n",
      "TWS: 7496; IB Gateway: 4001. Simulated Trading ports for new installations \n",
      "of version 954.1 or newer:  TWS: 7497; IB Gateway: 4002\n"
     ]
    },
    {
     "name": "stdout",
     "output_type": "stream",
     "text": [
      "processing MMM for 20200828 23:59:59 US/Eastern took   3.04 sec\n",
      "processing 20200927 23:59:59 US/Eastern\n"
     ]
    },
    {
     "name": "stderr",
     "output_type": "stream",
     "text": [
      "ERROR -1 502 Couldn't connect to TWS. Confirm that \"Enable ActiveX and Socket EClients\" \n",
      "is enabled and connection port is the same as \"Socket Port\" on the \n",
      "TWS \"Edit->Global Configuration...->API->Settings\" menu. Live Trading ports: \n",
      "TWS: 7496; IB Gateway: 4001. Simulated Trading ports for new installations \n",
      "of version 954.1 or newer:  TWS: 7497; IB Gateway: 4002\n"
     ]
    },
    {
     "name": "stdout",
     "output_type": "stream",
     "text": [
      "processing MMM for 20200927 23:59:59 US/Eastern took   3.05 sec\n",
      "processing 20201027 23:59:59 US/Eastern\n"
     ]
    },
    {
     "name": "stderr",
     "output_type": "stream",
     "text": [
      "ERROR -1 502 Couldn't connect to TWS. Confirm that \"Enable ActiveX and Socket EClients\" \n",
      "is enabled and connection port is the same as \"Socket Port\" on the \n",
      "TWS \"Edit->Global Configuration...->API->Settings\" menu. Live Trading ports: \n",
      "TWS: 7496; IB Gateway: 4001. Simulated Trading ports for new installations \n",
      "of version 954.1 or newer:  TWS: 7497; IB Gateway: 4002\n"
     ]
    },
    {
     "name": "stdout",
     "output_type": "stream",
     "text": [
      "processing MMM for 20201027 23:59:59 US/Eastern took   3.05 sec\n",
      "processing 20201126 23:59:59 US/Eastern\n"
     ]
    },
    {
     "name": "stderr",
     "output_type": "stream",
     "text": [
      "ERROR -1 502 Couldn't connect to TWS. Confirm that \"Enable ActiveX and Socket EClients\" \n",
      "is enabled and connection port is the same as \"Socket Port\" on the \n",
      "TWS \"Edit->Global Configuration...->API->Settings\" menu. Live Trading ports: \n",
      "TWS: 7496; IB Gateway: 4001. Simulated Trading ports for new installations \n",
      "of version 954.1 or newer:  TWS: 7497; IB Gateway: 4002\n"
     ]
    },
    {
     "name": "stdout",
     "output_type": "stream",
     "text": [
      "processing MMM for 20201126 23:59:59 US/Eastern took   3.03 sec\n",
      "processing 20201226 23:59:59 US/Eastern\n"
     ]
    },
    {
     "name": "stderr",
     "output_type": "stream",
     "text": [
      "ERROR -1 502 Couldn't connect to TWS. Confirm that \"Enable ActiveX and Socket EClients\" \n",
      "is enabled and connection port is the same as \"Socket Port\" on the \n",
      "TWS \"Edit->Global Configuration...->API->Settings\" menu. Live Trading ports: \n",
      "TWS: 7496; IB Gateway: 4001. Simulated Trading ports for new installations \n",
      "of version 954.1 or newer:  TWS: 7497; IB Gateway: 4002\n"
     ]
    },
    {
     "name": "stdout",
     "output_type": "stream",
     "text": [
      "processing MMM for 20201226 23:59:59 US/Eastern took   3.05 sec\n",
      "processing 20210125 23:59:59 US/Eastern\n"
     ]
    },
    {
     "name": "stderr",
     "output_type": "stream",
     "text": [
      "ERROR -1 502 Couldn't connect to TWS. Confirm that \"Enable ActiveX and Socket EClients\" \n",
      "is enabled and connection port is the same as \"Socket Port\" on the \n",
      "TWS \"Edit->Global Configuration...->API->Settings\" menu. Live Trading ports: \n",
      "TWS: 7496; IB Gateway: 4001. Simulated Trading ports for new installations \n",
      "of version 954.1 or newer:  TWS: 7497; IB Gateway: 4002\n"
     ]
    },
    {
     "name": "stdout",
     "output_type": "stream",
     "text": [
      "processing MMM for 20210125 23:59:59 US/Eastern took   3.02 sec\n",
      "processing 20210224 23:59:59 US/Eastern\n"
     ]
    },
    {
     "name": "stderr",
     "output_type": "stream",
     "text": [
      "ERROR -1 502 Couldn't connect to TWS. Confirm that \"Enable ActiveX and Socket EClients\" \n",
      "is enabled and connection port is the same as \"Socket Port\" on the \n",
      "TWS \"Edit->Global Configuration...->API->Settings\" menu. Live Trading ports: \n",
      "TWS: 7496; IB Gateway: 4001. Simulated Trading ports for new installations \n",
      "of version 954.1 or newer:  TWS: 7497; IB Gateway: 4002\n"
     ]
    },
    {
     "name": "stdout",
     "output_type": "stream",
     "text": [
      "processing MMM for 20210224 23:59:59 US/Eastern took   3.05 sec\n",
      "processing 20210326 23:59:59 US/Eastern\n"
     ]
    },
    {
     "name": "stderr",
     "output_type": "stream",
     "text": [
      "ERROR -1 502 Couldn't connect to TWS. Confirm that \"Enable ActiveX and Socket EClients\" \n",
      "is enabled and connection port is the same as \"Socket Port\" on the \n",
      "TWS \"Edit->Global Configuration...->API->Settings\" menu. Live Trading ports: \n",
      "TWS: 7496; IB Gateway: 4001. Simulated Trading ports for new installations \n",
      "of version 954.1 or newer:  TWS: 7497; IB Gateway: 4002\n"
     ]
    },
    {
     "name": "stdout",
     "output_type": "stream",
     "text": [
      "processing MMM for 20210326 23:59:59 US/Eastern took   3.04 sec\n",
      "processing 20210425 23:59:59 US/Eastern\n"
     ]
    },
    {
     "name": "stderr",
     "output_type": "stream",
     "text": [
      "ERROR -1 502 Couldn't connect to TWS. Confirm that \"Enable ActiveX and Socket EClients\" \n",
      "is enabled and connection port is the same as \"Socket Port\" on the \n",
      "TWS \"Edit->Global Configuration...->API->Settings\" menu. Live Trading ports: \n",
      "TWS: 7496; IB Gateway: 4001. Simulated Trading ports for new installations \n",
      "of version 954.1 or newer:  TWS: 7497; IB Gateway: 4002\n"
     ]
    },
    {
     "name": "stdout",
     "output_type": "stream",
     "text": [
      "processing MMM for 20210425 23:59:59 US/Eastern took   3.04 sec\n",
      "processing 20210525 23:59:59 US/Eastern\n"
     ]
    },
    {
     "name": "stderr",
     "output_type": "stream",
     "text": [
      "ERROR -1 502 Couldn't connect to TWS. Confirm that \"Enable ActiveX and Socket EClients\" \n",
      "is enabled and connection port is the same as \"Socket Port\" on the \n",
      "TWS \"Edit->Global Configuration...->API->Settings\" menu. Live Trading ports: \n",
      "TWS: 7496; IB Gateway: 4001. Simulated Trading ports for new installations \n",
      "of version 954.1 or newer:  TWS: 7497; IB Gateway: 4002\n"
     ]
    },
    {
     "name": "stdout",
     "output_type": "stream",
     "text": [
      "processing MMM for 20210525 23:59:59 US/Eastern took   3.04 sec\n",
      "processing 20210624 23:59:59 US/Eastern\n"
     ]
    },
    {
     "name": "stderr",
     "output_type": "stream",
     "text": [
      "ERROR -1 502 Couldn't connect to TWS. Confirm that \"Enable ActiveX and Socket EClients\" \n",
      "is enabled and connection port is the same as \"Socket Port\" on the \n",
      "TWS \"Edit->Global Configuration...->API->Settings\" menu. Live Trading ports: \n",
      "TWS: 7496; IB Gateway: 4001. Simulated Trading ports for new installations \n",
      "of version 954.1 or newer:  TWS: 7497; IB Gateway: 4002\n"
     ]
    },
    {
     "name": "stdout",
     "output_type": "stream",
     "text": [
      "processing MMM for 20210624 23:59:59 US/Eastern took   3.05 sec\n",
      "processing 20210724 23:59:59 US/Eastern\n"
     ]
    },
    {
     "name": "stderr",
     "output_type": "stream",
     "text": [
      "ERROR -1 502 Couldn't connect to TWS. Confirm that \"Enable ActiveX and Socket EClients\" \n",
      "is enabled and connection port is the same as \"Socket Port\" on the \n",
      "TWS \"Edit->Global Configuration...->API->Settings\" menu. Live Trading ports: \n",
      "TWS: 7496; IB Gateway: 4001. Simulated Trading ports for new installations \n",
      "of version 954.1 or newer:  TWS: 7497; IB Gateway: 4002\n"
     ]
    },
    {
     "name": "stdout",
     "output_type": "stream",
     "text": [
      "processing MMM for 20210724 23:59:59 US/Eastern took   3.05 sec\n",
      "processing 20210823 23:59:59 US/Eastern\n"
     ]
    },
    {
     "name": "stderr",
     "output_type": "stream",
     "text": [
      "ERROR -1 502 Couldn't connect to TWS. Confirm that \"Enable ActiveX and Socket EClients\" \n",
      "is enabled and connection port is the same as \"Socket Port\" on the \n",
      "TWS \"Edit->Global Configuration...->API->Settings\" menu. Live Trading ports: \n",
      "TWS: 7496; IB Gateway: 4001. Simulated Trading ports for new installations \n",
      "of version 954.1 or newer:  TWS: 7497; IB Gateway: 4002\n"
     ]
    },
    {
     "name": "stdout",
     "output_type": "stream",
     "text": [
      "processing MMM for 20210823 23:59:59 US/Eastern took   3.05 sec\n",
      "processing 20210922 23:59:59 US/Eastern\n"
     ]
    },
    {
     "name": "stderr",
     "output_type": "stream",
     "text": [
      "ERROR -1 502 Couldn't connect to TWS. Confirm that \"Enable ActiveX and Socket EClients\" \n",
      "is enabled and connection port is the same as \"Socket Port\" on the \n",
      "TWS \"Edit->Global Configuration...->API->Settings\" menu. Live Trading ports: \n",
      "TWS: 7496; IB Gateway: 4001. Simulated Trading ports for new installations \n",
      "of version 954.1 or newer:  TWS: 7497; IB Gateway: 4002\n"
     ]
    },
    {
     "name": "stdout",
     "output_type": "stream",
     "text": [
      "processing MMM for 20210922 23:59:59 US/Eastern took   3.08 sec\n",
      "processing 20211022 23:59:59 US/Eastern\n"
     ]
    },
    {
     "name": "stderr",
     "output_type": "stream",
     "text": [
      "ERROR -1 502 Couldn't connect to TWS. Confirm that \"Enable ActiveX and Socket EClients\" \n",
      "is enabled and connection port is the same as \"Socket Port\" on the \n",
      "TWS \"Edit->Global Configuration...->API->Settings\" menu. Live Trading ports: \n",
      "TWS: 7496; IB Gateway: 4001. Simulated Trading ports for new installations \n",
      "of version 954.1 or newer:  TWS: 7497; IB Gateway: 4002\n"
     ]
    },
    {
     "name": "stdout",
     "output_type": "stream",
     "text": [
      "processing MMM for 20211022 23:59:59 US/Eastern took   3.04 sec\n",
      "processing 20211121 23:59:59 US/Eastern\n"
     ]
    },
    {
     "name": "stderr",
     "output_type": "stream",
     "text": [
      "ERROR -1 502 Couldn't connect to TWS. Confirm that \"Enable ActiveX and Socket EClients\" \n",
      "is enabled and connection port is the same as \"Socket Port\" on the \n",
      "TWS \"Edit->Global Configuration...->API->Settings\" menu. Live Trading ports: \n",
      "TWS: 7496; IB Gateway: 4001. Simulated Trading ports for new installations \n",
      "of version 954.1 or newer:  TWS: 7497; IB Gateway: 4002\n"
     ]
    },
    {
     "name": "stdout",
     "output_type": "stream",
     "text": [
      "processing MMM for 20211121 23:59:59 US/Eastern took   3.04 sec\n",
      "processing 20211221 23:59:59 US/Eastern\n"
     ]
    },
    {
     "name": "stderr",
     "output_type": "stream",
     "text": [
      "ERROR -1 502 Couldn't connect to TWS. Confirm that \"Enable ActiveX and Socket EClients\" \n",
      "is enabled and connection port is the same as \"Socket Port\" on the \n",
      "TWS \"Edit->Global Configuration...->API->Settings\" menu. Live Trading ports: \n",
      "TWS: 7496; IB Gateway: 4001. Simulated Trading ports for new installations \n",
      "of version 954.1 or newer:  TWS: 7497; IB Gateway: 4002\n"
     ]
    },
    {
     "name": "stdout",
     "output_type": "stream",
     "text": [
      "processing MMM for 20211221 23:59:59 US/Eastern took   3.04 sec\n",
      "processing 20220120 23:59:59 US/Eastern\n"
     ]
    },
    {
     "name": "stderr",
     "output_type": "stream",
     "text": [
      "ERROR -1 502 Couldn't connect to TWS. Confirm that \"Enable ActiveX and Socket EClients\" \n",
      "is enabled and connection port is the same as \"Socket Port\" on the \n",
      "TWS \"Edit->Global Configuration...->API->Settings\" menu. Live Trading ports: \n",
      "TWS: 7496; IB Gateway: 4001. Simulated Trading ports for new installations \n",
      "of version 954.1 or newer:  TWS: 7497; IB Gateway: 4002\n"
     ]
    },
    {
     "name": "stdout",
     "output_type": "stream",
     "text": [
      "processing MMM for 20220120 23:59:59 US/Eastern took   3.03 sec\n",
      "processing 20220219 23:59:59 US/Eastern\n"
     ]
    },
    {
     "name": "stderr",
     "output_type": "stream",
     "text": [
      "ERROR -1 502 Couldn't connect to TWS. Confirm that \"Enable ActiveX and Socket EClients\" \n",
      "is enabled and connection port is the same as \"Socket Port\" on the \n",
      "TWS \"Edit->Global Configuration...->API->Settings\" menu. Live Trading ports: \n",
      "TWS: 7496; IB Gateway: 4001. Simulated Trading ports for new installations \n",
      "of version 954.1 or newer:  TWS: 7497; IB Gateway: 4002\n"
     ]
    },
    {
     "name": "stdout",
     "output_type": "stream",
     "text": [
      "processing MMM for 20220219 23:59:59 US/Eastern took   3.07 sec\n",
      "processing 20220321 23:59:59 US/Eastern\n"
     ]
    },
    {
     "name": "stderr",
     "output_type": "stream",
     "text": [
      "ERROR -1 502 Couldn't connect to TWS. Confirm that \"Enable ActiveX and Socket EClients\" \n",
      "is enabled and connection port is the same as \"Socket Port\" on the \n",
      "TWS \"Edit->Global Configuration...->API->Settings\" menu. Live Trading ports: \n",
      "TWS: 7496; IB Gateway: 4001. Simulated Trading ports for new installations \n",
      "of version 954.1 or newer:  TWS: 7497; IB Gateway: 4002\n"
     ]
    },
    {
     "name": "stdout",
     "output_type": "stream",
     "text": [
      "processing MMM for 20220321 23:59:59 US/Eastern took   3.03 sec\n",
      "processing 20220420 23:59:59 US/Eastern\n"
     ]
    },
    {
     "name": "stderr",
     "output_type": "stream",
     "text": [
      "ERROR -1 502 Couldn't connect to TWS. Confirm that \"Enable ActiveX and Socket EClients\" \n",
      "is enabled and connection port is the same as \"Socket Port\" on the \n",
      "TWS \"Edit->Global Configuration...->API->Settings\" menu. Live Trading ports: \n",
      "TWS: 7496; IB Gateway: 4001. Simulated Trading ports for new installations \n",
      "of version 954.1 or newer:  TWS: 7497; IB Gateway: 4002\n"
     ]
    },
    {
     "name": "stdout",
     "output_type": "stream",
     "text": [
      "processing MMM for 20220420 23:59:59 US/Eastern took   3.03 sec\n",
      "processing 20220520 23:59:59 US/Eastern\n"
     ]
    },
    {
     "name": "stderr",
     "output_type": "stream",
     "text": [
      "ERROR -1 502 Couldn't connect to TWS. Confirm that \"Enable ActiveX and Socket EClients\" \n",
      "is enabled and connection port is the same as \"Socket Port\" on the \n",
      "TWS \"Edit->Global Configuration...->API->Settings\" menu. Live Trading ports: \n",
      "TWS: 7496; IB Gateway: 4001. Simulated Trading ports for new installations \n",
      "of version 954.1 or newer:  TWS: 7497; IB Gateway: 4002\n"
     ]
    },
    {
     "name": "stdout",
     "output_type": "stream",
     "text": [
      "processing MMM for 20220520 23:59:59 US/Eastern took   3.05 sec\n",
      "processing 20220619 23:59:59 US/Eastern\n"
     ]
    },
    {
     "name": "stderr",
     "output_type": "stream",
     "text": [
      "ERROR -1 502 Couldn't connect to TWS. Confirm that \"Enable ActiveX and Socket EClients\" \n",
      "is enabled and connection port is the same as \"Socket Port\" on the \n",
      "TWS \"Edit->Global Configuration...->API->Settings\" menu. Live Trading ports: \n",
      "TWS: 7496; IB Gateway: 4001. Simulated Trading ports for new installations \n",
      "of version 954.1 or newer:  TWS: 7497; IB Gateway: 4002\n"
     ]
    },
    {
     "name": "stdout",
     "output_type": "stream",
     "text": [
      "processing MMM for 20220619 23:59:59 US/Eastern took   3.04 sec\n",
      "processing 20220719 23:59:59 US/Eastern\n"
     ]
    },
    {
     "name": "stderr",
     "output_type": "stream",
     "text": [
      "ERROR -1 502 Couldn't connect to TWS. Confirm that \"Enable ActiveX and Socket EClients\" \n",
      "is enabled and connection port is the same as \"Socket Port\" on the \n",
      "TWS \"Edit->Global Configuration...->API->Settings\" menu. Live Trading ports: \n",
      "TWS: 7496; IB Gateway: 4001. Simulated Trading ports for new installations \n",
      "of version 954.1 or newer:  TWS: 7497; IB Gateway: 4002\n"
     ]
    },
    {
     "name": "stdout",
     "output_type": "stream",
     "text": [
      "processing MMM for 20220719 23:59:59 US/Eastern took   3.03 sec\n",
      "processing 20220818 23:59:59 US/Eastern\n"
     ]
    },
    {
     "name": "stderr",
     "output_type": "stream",
     "text": [
      "ERROR -1 502 Couldn't connect to TWS. Confirm that \"Enable ActiveX and Socket EClients\" \n",
      "is enabled and connection port is the same as \"Socket Port\" on the \n",
      "TWS \"Edit->Global Configuration...->API->Settings\" menu. Live Trading ports: \n",
      "TWS: 7496; IB Gateway: 4001. Simulated Trading ports for new installations \n",
      "of version 954.1 or newer:  TWS: 7497; IB Gateway: 4002\n"
     ]
    },
    {
     "name": "stdout",
     "output_type": "stream",
     "text": [
      "processing MMM for 20220818 23:59:59 US/Eastern took   3.06 sec\n",
      "processing 20220917 23:59:59 US/Eastern\n"
     ]
    },
    {
     "name": "stderr",
     "output_type": "stream",
     "text": [
      "ERROR -1 502 Couldn't connect to TWS. Confirm that \"Enable ActiveX and Socket EClients\" \n",
      "is enabled and connection port is the same as \"Socket Port\" on the \n",
      "TWS \"Edit->Global Configuration...->API->Settings\" menu. Live Trading ports: \n",
      "TWS: 7496; IB Gateway: 4001. Simulated Trading ports for new installations \n",
      "of version 954.1 or newer:  TWS: 7497; IB Gateway: 4002\n"
     ]
    },
    {
     "name": "stdout",
     "output_type": "stream",
     "text": [
      "processing MMM for 20220917 23:59:59 US/Eastern took   3.04 sec\n",
      "processing 20221017 23:59:59 US/Eastern\n"
     ]
    },
    {
     "name": "stderr",
     "output_type": "stream",
     "text": [
      "ERROR -1 502 Couldn't connect to TWS. Confirm that \"Enable ActiveX and Socket EClients\" \n",
      "is enabled and connection port is the same as \"Socket Port\" on the \n",
      "TWS \"Edit->Global Configuration...->API->Settings\" menu. Live Trading ports: \n",
      "TWS: 7496; IB Gateway: 4001. Simulated Trading ports for new installations \n",
      "of version 954.1 or newer:  TWS: 7497; IB Gateway: 4002\n"
     ]
    },
    {
     "name": "stdout",
     "output_type": "stream",
     "text": [
      "processing MMM for 20221017 23:59:59 US/Eastern took   3.09 sec\n",
      "processing 20221116 23:59:59 US/Eastern\n"
     ]
    },
    {
     "name": "stderr",
     "output_type": "stream",
     "text": [
      "ERROR -1 502 Couldn't connect to TWS. Confirm that \"Enable ActiveX and Socket EClients\" \n",
      "is enabled and connection port is the same as \"Socket Port\" on the \n",
      "TWS \"Edit->Global Configuration...->API->Settings\" menu. Live Trading ports: \n",
      "TWS: 7496; IB Gateway: 4001. Simulated Trading ports for new installations \n",
      "of version 954.1 or newer:  TWS: 7497; IB Gateway: 4002\n"
     ]
    },
    {
     "name": "stdout",
     "output_type": "stream",
     "text": [
      "processing MMM for 20221116 23:59:59 US/Eastern took   3.04 sec\n",
      "processing 20221216 23:59:59 US/Eastern\n"
     ]
    },
    {
     "name": "stderr",
     "output_type": "stream",
     "text": [
      "ERROR -1 502 Couldn't connect to TWS. Confirm that \"Enable ActiveX and Socket EClients\" \n",
      "is enabled and connection port is the same as \"Socket Port\" on the \n",
      "TWS \"Edit->Global Configuration...->API->Settings\" menu. Live Trading ports: \n",
      "TWS: 7496; IB Gateway: 4001. Simulated Trading ports for new installations \n",
      "of version 954.1 or newer:  TWS: 7497; IB Gateway: 4002\n"
     ]
    },
    {
     "name": "stdout",
     "output_type": "stream",
     "text": [
      "processing MMM for 20221216 23:59:59 US/Eastern took   3.06 sec\n",
      "processing 20230115 23:59:59 US/Eastern\n"
     ]
    },
    {
     "name": "stderr",
     "output_type": "stream",
     "text": [
      "ERROR -1 502 Couldn't connect to TWS. Confirm that \"Enable ActiveX and Socket EClients\" \n",
      "is enabled and connection port is the same as \"Socket Port\" on the \n",
      "TWS \"Edit->Global Configuration...->API->Settings\" menu. Live Trading ports: \n",
      "TWS: 7496; IB Gateway: 4001. Simulated Trading ports for new installations \n",
      "of version 954.1 or newer:  TWS: 7497; IB Gateway: 4002\n"
     ]
    },
    {
     "name": "stdout",
     "output_type": "stream",
     "text": [
      "processing MMM for 20230115 23:59:59 US/Eastern took   3.04 sec\n",
      "processing 20230214 23:59:59 US/Eastern\n"
     ]
    },
    {
     "name": "stderr",
     "output_type": "stream",
     "text": [
      "ERROR -1 502 Couldn't connect to TWS. Confirm that \"Enable ActiveX and Socket EClients\" \n",
      "is enabled and connection port is the same as \"Socket Port\" on the \n",
      "TWS \"Edit->Global Configuration...->API->Settings\" menu. Live Trading ports: \n",
      "TWS: 7496; IB Gateway: 4001. Simulated Trading ports for new installations \n",
      "of version 954.1 or newer:  TWS: 7497; IB Gateway: 4002\n"
     ]
    },
    {
     "name": "stdout",
     "output_type": "stream",
     "text": [
      "processing MMM for 20230214 23:59:59 US/Eastern took   3.03 sec\n",
      "processing 20230316 23:59:59 US/Eastern\n"
     ]
    },
    {
     "name": "stderr",
     "output_type": "stream",
     "text": [
      "ERROR -1 502 Couldn't connect to TWS. Confirm that \"Enable ActiveX and Socket EClients\" \n",
      "is enabled and connection port is the same as \"Socket Port\" on the \n",
      "TWS \"Edit->Global Configuration...->API->Settings\" menu. Live Trading ports: \n",
      "TWS: 7496; IB Gateway: 4001. Simulated Trading ports for new installations \n",
      "of version 954.1 or newer:  TWS: 7497; IB Gateway: 4002\n"
     ]
    },
    {
     "name": "stdout",
     "output_type": "stream",
     "text": [
      "processing MMM for 20230316 23:59:59 US/Eastern took   3.03 sec\n",
      "Processing MRK\n",
      "processing 20200101 23:59:59 US/Eastern\n"
     ]
    },
    {
     "name": "stderr",
     "output_type": "stream",
     "text": [
      "ERROR -1 502 Couldn't connect to TWS. Confirm that \"Enable ActiveX and Socket EClients\" \n",
      "is enabled and connection port is the same as \"Socket Port\" on the \n",
      "TWS \"Edit->Global Configuration...->API->Settings\" menu. Live Trading ports: \n",
      "TWS: 7496; IB Gateway: 4001. Simulated Trading ports for new installations \n",
      "of version 954.1 or newer:  TWS: 7497; IB Gateway: 4002\n"
     ]
    },
    {
     "name": "stdout",
     "output_type": "stream",
     "text": [
      "processing MRK for 20200101 23:59:59 US/Eastern took   3.05 sec\n",
      "processing 20200131 23:59:59 US/Eastern\n"
     ]
    },
    {
     "name": "stderr",
     "output_type": "stream",
     "text": [
      "ERROR -1 502 Couldn't connect to TWS. Confirm that \"Enable ActiveX and Socket EClients\" \n",
      "is enabled and connection port is the same as \"Socket Port\" on the \n",
      "TWS \"Edit->Global Configuration...->API->Settings\" menu. Live Trading ports: \n",
      "TWS: 7496; IB Gateway: 4001. Simulated Trading ports for new installations \n",
      "of version 954.1 or newer:  TWS: 7497; IB Gateway: 4002\n"
     ]
    },
    {
     "name": "stdout",
     "output_type": "stream",
     "text": [
      "processing MRK for 20200131 23:59:59 US/Eastern took   3.04 sec\n",
      "processing 20200301 23:59:59 US/Eastern\n"
     ]
    },
    {
     "name": "stderr",
     "output_type": "stream",
     "text": [
      "ERROR -1 502 Couldn't connect to TWS. Confirm that \"Enable ActiveX and Socket EClients\" \n",
      "is enabled and connection port is the same as \"Socket Port\" on the \n",
      "TWS \"Edit->Global Configuration...->API->Settings\" menu. Live Trading ports: \n",
      "TWS: 7496; IB Gateway: 4001. Simulated Trading ports for new installations \n",
      "of version 954.1 or newer:  TWS: 7497; IB Gateway: 4002\n"
     ]
    },
    {
     "name": "stdout",
     "output_type": "stream",
     "text": [
      "processing MRK for 20200301 23:59:59 US/Eastern took   3.05 sec\n",
      "processing 20200331 23:59:59 US/Eastern\n"
     ]
    },
    {
     "name": "stderr",
     "output_type": "stream",
     "text": [
      "ERROR -1 502 Couldn't connect to TWS. Confirm that \"Enable ActiveX and Socket EClients\" \n",
      "is enabled and connection port is the same as \"Socket Port\" on the \n",
      "TWS \"Edit->Global Configuration...->API->Settings\" menu. Live Trading ports: \n",
      "TWS: 7496; IB Gateway: 4001. Simulated Trading ports for new installations \n",
      "of version 954.1 or newer:  TWS: 7497; IB Gateway: 4002\n"
     ]
    },
    {
     "name": "stdout",
     "output_type": "stream",
     "text": [
      "processing MRK for 20200331 23:59:59 US/Eastern took   3.05 sec\n",
      "processing 20200430 23:59:59 US/Eastern\n"
     ]
    },
    {
     "name": "stderr",
     "output_type": "stream",
     "text": [
      "ERROR -1 502 Couldn't connect to TWS. Confirm that \"Enable ActiveX and Socket EClients\" \n",
      "is enabled and connection port is the same as \"Socket Port\" on the \n",
      "TWS \"Edit->Global Configuration...->API->Settings\" menu. Live Trading ports: \n",
      "TWS: 7496; IB Gateway: 4001. Simulated Trading ports for new installations \n",
      "of version 954.1 or newer:  TWS: 7497; IB Gateway: 4002\n"
     ]
    },
    {
     "name": "stdout",
     "output_type": "stream",
     "text": [
      "processing MRK for 20200430 23:59:59 US/Eastern took   3.05 sec\n",
      "processing 20200530 23:59:59 US/Eastern\n"
     ]
    },
    {
     "name": "stderr",
     "output_type": "stream",
     "text": [
      "ERROR -1 502 Couldn't connect to TWS. Confirm that \"Enable ActiveX and Socket EClients\" \n",
      "is enabled and connection port is the same as \"Socket Port\" on the \n",
      "TWS \"Edit->Global Configuration...->API->Settings\" menu. Live Trading ports: \n",
      "TWS: 7496; IB Gateway: 4001. Simulated Trading ports for new installations \n",
      "of version 954.1 or newer:  TWS: 7497; IB Gateway: 4002\n"
     ]
    },
    {
     "name": "stdout",
     "output_type": "stream",
     "text": [
      "processing MRK for 20200530 23:59:59 US/Eastern took   3.06 sec\n",
      "processing 20200629 23:59:59 US/Eastern\n"
     ]
    },
    {
     "name": "stderr",
     "output_type": "stream",
     "text": [
      "ERROR -1 502 Couldn't connect to TWS. Confirm that \"Enable ActiveX and Socket EClients\" \n",
      "is enabled and connection port is the same as \"Socket Port\" on the \n",
      "TWS \"Edit->Global Configuration...->API->Settings\" menu. Live Trading ports: \n",
      "TWS: 7496; IB Gateway: 4001. Simulated Trading ports for new installations \n",
      "of version 954.1 or newer:  TWS: 7497; IB Gateway: 4002\n"
     ]
    },
    {
     "name": "stdout",
     "output_type": "stream",
     "text": [
      "processing MRK for 20200629 23:59:59 US/Eastern took   3.05 sec\n",
      "processing 20200729 23:59:59 US/Eastern\n"
     ]
    },
    {
     "name": "stderr",
     "output_type": "stream",
     "text": [
      "ERROR -1 502 Couldn't connect to TWS. Confirm that \"Enable ActiveX and Socket EClients\" \n",
      "is enabled and connection port is the same as \"Socket Port\" on the \n",
      "TWS \"Edit->Global Configuration...->API->Settings\" menu. Live Trading ports: \n",
      "TWS: 7496; IB Gateway: 4001. Simulated Trading ports for new installations \n",
      "of version 954.1 or newer:  TWS: 7497; IB Gateway: 4002\n"
     ]
    },
    {
     "name": "stdout",
     "output_type": "stream",
     "text": [
      "processing MRK for 20200729 23:59:59 US/Eastern took   3.04 sec\n",
      "processing 20200828 23:59:59 US/Eastern\n"
     ]
    },
    {
     "name": "stderr",
     "output_type": "stream",
     "text": [
      "ERROR -1 502 Couldn't connect to TWS. Confirm that \"Enable ActiveX and Socket EClients\" \n",
      "is enabled and connection port is the same as \"Socket Port\" on the \n",
      "TWS \"Edit->Global Configuration...->API->Settings\" menu. Live Trading ports: \n",
      "TWS: 7496; IB Gateway: 4001. Simulated Trading ports for new installations \n",
      "of version 954.1 or newer:  TWS: 7497; IB Gateway: 4002\n"
     ]
    },
    {
     "name": "stdout",
     "output_type": "stream",
     "text": [
      "processing MRK for 20200828 23:59:59 US/Eastern took   3.04 sec\n",
      "processing 20200927 23:59:59 US/Eastern\n"
     ]
    },
    {
     "name": "stderr",
     "output_type": "stream",
     "text": [
      "ERROR -1 502 Couldn't connect to TWS. Confirm that \"Enable ActiveX and Socket EClients\" \n",
      "is enabled and connection port is the same as \"Socket Port\" on the \n",
      "TWS \"Edit->Global Configuration...->API->Settings\" menu. Live Trading ports: \n",
      "TWS: 7496; IB Gateway: 4001. Simulated Trading ports for new installations \n",
      "of version 954.1 or newer:  TWS: 7497; IB Gateway: 4002\n"
     ]
    },
    {
     "name": "stdout",
     "output_type": "stream",
     "text": [
      "processing MRK for 20200927 23:59:59 US/Eastern took   3.06 sec\n",
      "processing 20201027 23:59:59 US/Eastern\n"
     ]
    },
    {
     "name": "stderr",
     "output_type": "stream",
     "text": [
      "ERROR -1 502 Couldn't connect to TWS. Confirm that \"Enable ActiveX and Socket EClients\" \n",
      "is enabled and connection port is the same as \"Socket Port\" on the \n",
      "TWS \"Edit->Global Configuration...->API->Settings\" menu. Live Trading ports: \n",
      "TWS: 7496; IB Gateway: 4001. Simulated Trading ports for new installations \n",
      "of version 954.1 or newer:  TWS: 7497; IB Gateway: 4002\n"
     ]
    },
    {
     "name": "stdout",
     "output_type": "stream",
     "text": [
      "processing MRK for 20201027 23:59:59 US/Eastern took   3.04 sec\n",
      "processing 20201126 23:59:59 US/Eastern\n"
     ]
    },
    {
     "name": "stderr",
     "output_type": "stream",
     "text": [
      "ERROR -1 502 Couldn't connect to TWS. Confirm that \"Enable ActiveX and Socket EClients\" \n",
      "is enabled and connection port is the same as \"Socket Port\" on the \n",
      "TWS \"Edit->Global Configuration...->API->Settings\" menu. Live Trading ports: \n",
      "TWS: 7496; IB Gateway: 4001. Simulated Trading ports for new installations \n",
      "of version 954.1 or newer:  TWS: 7497; IB Gateway: 4002\n"
     ]
    },
    {
     "name": "stdout",
     "output_type": "stream",
     "text": [
      "processing MRK for 20201126 23:59:59 US/Eastern took   3.05 sec\n",
      "processing 20201226 23:59:59 US/Eastern\n"
     ]
    },
    {
     "name": "stderr",
     "output_type": "stream",
     "text": [
      "ERROR -1 502 Couldn't connect to TWS. Confirm that \"Enable ActiveX and Socket EClients\" \n",
      "is enabled and connection port is the same as \"Socket Port\" on the \n",
      "TWS \"Edit->Global Configuration...->API->Settings\" menu. Live Trading ports: \n",
      "TWS: 7496; IB Gateway: 4001. Simulated Trading ports for new installations \n",
      "of version 954.1 or newer:  TWS: 7497; IB Gateway: 4002\n"
     ]
    },
    {
     "name": "stdout",
     "output_type": "stream",
     "text": [
      "processing MRK for 20201226 23:59:59 US/Eastern took   3.05 sec\n",
      "processing 20210125 23:59:59 US/Eastern\n"
     ]
    },
    {
     "name": "stderr",
     "output_type": "stream",
     "text": [
      "ERROR -1 502 Couldn't connect to TWS. Confirm that \"Enable ActiveX and Socket EClients\" \n",
      "is enabled and connection port is the same as \"Socket Port\" on the \n",
      "TWS \"Edit->Global Configuration...->API->Settings\" menu. Live Trading ports: \n",
      "TWS: 7496; IB Gateway: 4001. Simulated Trading ports for new installations \n",
      "of version 954.1 or newer:  TWS: 7497; IB Gateway: 4002\n"
     ]
    },
    {
     "name": "stdout",
     "output_type": "stream",
     "text": [
      "processing MRK for 20210125 23:59:59 US/Eastern took   3.06 sec\n",
      "processing 20210224 23:59:59 US/Eastern\n"
     ]
    },
    {
     "name": "stderr",
     "output_type": "stream",
     "text": [
      "ERROR -1 502 Couldn't connect to TWS. Confirm that \"Enable ActiveX and Socket EClients\" \n",
      "is enabled and connection port is the same as \"Socket Port\" on the \n",
      "TWS \"Edit->Global Configuration...->API->Settings\" menu. Live Trading ports: \n",
      "TWS: 7496; IB Gateway: 4001. Simulated Trading ports for new installations \n",
      "of version 954.1 or newer:  TWS: 7497; IB Gateway: 4002\n"
     ]
    },
    {
     "name": "stdout",
     "output_type": "stream",
     "text": [
      "processing MRK for 20210224 23:59:59 US/Eastern took   3.04 sec\n",
      "processing 20210326 23:59:59 US/Eastern\n"
     ]
    },
    {
     "name": "stderr",
     "output_type": "stream",
     "text": [
      "ERROR -1 502 Couldn't connect to TWS. Confirm that \"Enable ActiveX and Socket EClients\" \n",
      "is enabled and connection port is the same as \"Socket Port\" on the \n",
      "TWS \"Edit->Global Configuration...->API->Settings\" menu. Live Trading ports: \n",
      "TWS: 7496; IB Gateway: 4001. Simulated Trading ports for new installations \n",
      "of version 954.1 or newer:  TWS: 7497; IB Gateway: 4002\n"
     ]
    },
    {
     "name": "stdout",
     "output_type": "stream",
     "text": [
      "processing MRK for 20210326 23:59:59 US/Eastern took   3.06 sec\n",
      "processing 20210425 23:59:59 US/Eastern\n"
     ]
    },
    {
     "name": "stderr",
     "output_type": "stream",
     "text": [
      "ERROR -1 502 Couldn't connect to TWS. Confirm that \"Enable ActiveX and Socket EClients\" \n",
      "is enabled and connection port is the same as \"Socket Port\" on the \n",
      "TWS \"Edit->Global Configuration...->API->Settings\" menu. Live Trading ports: \n",
      "TWS: 7496; IB Gateway: 4001. Simulated Trading ports for new installations \n",
      "of version 954.1 or newer:  TWS: 7497; IB Gateway: 4002\n"
     ]
    },
    {
     "name": "stdout",
     "output_type": "stream",
     "text": [
      "processing MRK for 20210425 23:59:59 US/Eastern took   3.04 sec\n",
      "processing 20210525 23:59:59 US/Eastern\n"
     ]
    },
    {
     "name": "stderr",
     "output_type": "stream",
     "text": [
      "ERROR -1 502 Couldn't connect to TWS. Confirm that \"Enable ActiveX and Socket EClients\" \n",
      "is enabled and connection port is the same as \"Socket Port\" on the \n",
      "TWS \"Edit->Global Configuration...->API->Settings\" menu. Live Trading ports: \n",
      "TWS: 7496; IB Gateway: 4001. Simulated Trading ports for new installations \n",
      "of version 954.1 or newer:  TWS: 7497; IB Gateway: 4002\n"
     ]
    },
    {
     "name": "stdout",
     "output_type": "stream",
     "text": [
      "processing MRK for 20210525 23:59:59 US/Eastern took   3.04 sec\n",
      "processing 20210624 23:59:59 US/Eastern\n"
     ]
    },
    {
     "name": "stderr",
     "output_type": "stream",
     "text": [
      "ERROR -1 502 Couldn't connect to TWS. Confirm that \"Enable ActiveX and Socket EClients\" \n",
      "is enabled and connection port is the same as \"Socket Port\" on the \n",
      "TWS \"Edit->Global Configuration...->API->Settings\" menu. Live Trading ports: \n",
      "TWS: 7496; IB Gateway: 4001. Simulated Trading ports for new installations \n",
      "of version 954.1 or newer:  TWS: 7497; IB Gateway: 4002\n"
     ]
    },
    {
     "name": "stdout",
     "output_type": "stream",
     "text": [
      "processing MRK for 20210624 23:59:59 US/Eastern took   3.05 sec\n",
      "processing 20210724 23:59:59 US/Eastern\n"
     ]
    },
    {
     "name": "stderr",
     "output_type": "stream",
     "text": [
      "ERROR -1 502 Couldn't connect to TWS. Confirm that \"Enable ActiveX and Socket EClients\" \n",
      "is enabled and connection port is the same as \"Socket Port\" on the \n",
      "TWS \"Edit->Global Configuration...->API->Settings\" menu. Live Trading ports: \n",
      "TWS: 7496; IB Gateway: 4001. Simulated Trading ports for new installations \n",
      "of version 954.1 or newer:  TWS: 7497; IB Gateway: 4002\n"
     ]
    },
    {
     "name": "stdout",
     "output_type": "stream",
     "text": [
      "processing MRK for 20210724 23:59:59 US/Eastern took   3.04 sec\n",
      "processing 20210823 23:59:59 US/Eastern\n"
     ]
    },
    {
     "name": "stderr",
     "output_type": "stream",
     "text": [
      "ERROR -1 502 Couldn't connect to TWS. Confirm that \"Enable ActiveX and Socket EClients\" \n",
      "is enabled and connection port is the same as \"Socket Port\" on the \n",
      "TWS \"Edit->Global Configuration...->API->Settings\" menu. Live Trading ports: \n",
      "TWS: 7496; IB Gateway: 4001. Simulated Trading ports for new installations \n",
      "of version 954.1 or newer:  TWS: 7497; IB Gateway: 4002\n"
     ]
    },
    {
     "name": "stdout",
     "output_type": "stream",
     "text": [
      "processing MRK for 20210823 23:59:59 US/Eastern took   3.03 sec\n",
      "processing 20210922 23:59:59 US/Eastern\n"
     ]
    },
    {
     "name": "stderr",
     "output_type": "stream",
     "text": [
      "ERROR -1 502 Couldn't connect to TWS. Confirm that \"Enable ActiveX and Socket EClients\" \n",
      "is enabled and connection port is the same as \"Socket Port\" on the \n",
      "TWS \"Edit->Global Configuration...->API->Settings\" menu. Live Trading ports: \n",
      "TWS: 7496; IB Gateway: 4001. Simulated Trading ports for new installations \n",
      "of version 954.1 or newer:  TWS: 7497; IB Gateway: 4002\n"
     ]
    },
    {
     "name": "stdout",
     "output_type": "stream",
     "text": [
      "processing MRK for 20210922 23:59:59 US/Eastern took   3.04 sec\n",
      "processing 20211022 23:59:59 US/Eastern\n"
     ]
    },
    {
     "name": "stderr",
     "output_type": "stream",
     "text": [
      "ERROR -1 502 Couldn't connect to TWS. Confirm that \"Enable ActiveX and Socket EClients\" \n",
      "is enabled and connection port is the same as \"Socket Port\" on the \n",
      "TWS \"Edit->Global Configuration...->API->Settings\" menu. Live Trading ports: \n",
      "TWS: 7496; IB Gateway: 4001. Simulated Trading ports for new installations \n",
      "of version 954.1 or newer:  TWS: 7497; IB Gateway: 4002\n"
     ]
    },
    {
     "name": "stdout",
     "output_type": "stream",
     "text": [
      "processing MRK for 20211022 23:59:59 US/Eastern took   3.04 sec\n",
      "processing 20211121 23:59:59 US/Eastern\n"
     ]
    },
    {
     "name": "stderr",
     "output_type": "stream",
     "text": [
      "ERROR -1 502 Couldn't connect to TWS. Confirm that \"Enable ActiveX and Socket EClients\" \n",
      "is enabled and connection port is the same as \"Socket Port\" on the \n",
      "TWS \"Edit->Global Configuration...->API->Settings\" menu. Live Trading ports: \n",
      "TWS: 7496; IB Gateway: 4001. Simulated Trading ports for new installations \n",
      "of version 954.1 or newer:  TWS: 7497; IB Gateway: 4002\n"
     ]
    },
    {
     "name": "stdout",
     "output_type": "stream",
     "text": [
      "processing MRK for 20211121 23:59:59 US/Eastern took   3.05 sec\n",
      "processing 20211221 23:59:59 US/Eastern\n"
     ]
    },
    {
     "name": "stderr",
     "output_type": "stream",
     "text": [
      "ERROR -1 502 Couldn't connect to TWS. Confirm that \"Enable ActiveX and Socket EClients\" \n",
      "is enabled and connection port is the same as \"Socket Port\" on the \n",
      "TWS \"Edit->Global Configuration...->API->Settings\" menu. Live Trading ports: \n",
      "TWS: 7496; IB Gateway: 4001. Simulated Trading ports for new installations \n",
      "of version 954.1 or newer:  TWS: 7497; IB Gateway: 4002\n"
     ]
    },
    {
     "name": "stdout",
     "output_type": "stream",
     "text": [
      "processing MRK for 20211221 23:59:59 US/Eastern took   3.05 sec\n",
      "processing 20220120 23:59:59 US/Eastern\n"
     ]
    },
    {
     "name": "stderr",
     "output_type": "stream",
     "text": [
      "ERROR -1 502 Couldn't connect to TWS. Confirm that \"Enable ActiveX and Socket EClients\" \n",
      "is enabled and connection port is the same as \"Socket Port\" on the \n",
      "TWS \"Edit->Global Configuration...->API->Settings\" menu. Live Trading ports: \n",
      "TWS: 7496; IB Gateway: 4001. Simulated Trading ports for new installations \n",
      "of version 954.1 or newer:  TWS: 7497; IB Gateway: 4002\n"
     ]
    },
    {
     "name": "stdout",
     "output_type": "stream",
     "text": [
      "processing MRK for 20220120 23:59:59 US/Eastern took   3.04 sec\n",
      "processing 20220219 23:59:59 US/Eastern\n"
     ]
    },
    {
     "name": "stderr",
     "output_type": "stream",
     "text": [
      "ERROR -1 502 Couldn't connect to TWS. Confirm that \"Enable ActiveX and Socket EClients\" \n",
      "is enabled and connection port is the same as \"Socket Port\" on the \n",
      "TWS \"Edit->Global Configuration...->API->Settings\" menu. Live Trading ports: \n",
      "TWS: 7496; IB Gateway: 4001. Simulated Trading ports for new installations \n",
      "of version 954.1 or newer:  TWS: 7497; IB Gateway: 4002\n"
     ]
    },
    {
     "name": "stdout",
     "output_type": "stream",
     "text": [
      "processing MRK for 20220219 23:59:59 US/Eastern took   3.06 sec\n",
      "processing 20220321 23:59:59 US/Eastern\n"
     ]
    },
    {
     "name": "stderr",
     "output_type": "stream",
     "text": [
      "ERROR -1 502 Couldn't connect to TWS. Confirm that \"Enable ActiveX and Socket EClients\" \n",
      "is enabled and connection port is the same as \"Socket Port\" on the \n",
      "TWS \"Edit->Global Configuration...->API->Settings\" menu. Live Trading ports: \n",
      "TWS: 7496; IB Gateway: 4001. Simulated Trading ports for new installations \n",
      "of version 954.1 or newer:  TWS: 7497; IB Gateway: 4002\n"
     ]
    },
    {
     "name": "stdout",
     "output_type": "stream",
     "text": [
      "processing MRK for 20220321 23:59:59 US/Eastern took   3.04 sec\n",
      "processing 20220420 23:59:59 US/Eastern\n"
     ]
    },
    {
     "name": "stderr",
     "output_type": "stream",
     "text": [
      "ERROR -1 502 Couldn't connect to TWS. Confirm that \"Enable ActiveX and Socket EClients\" \n",
      "is enabled and connection port is the same as \"Socket Port\" on the \n",
      "TWS \"Edit->Global Configuration...->API->Settings\" menu. Live Trading ports: \n",
      "TWS: 7496; IB Gateway: 4001. Simulated Trading ports for new installations \n",
      "of version 954.1 or newer:  TWS: 7497; IB Gateway: 4002\n"
     ]
    },
    {
     "name": "stdout",
     "output_type": "stream",
     "text": [
      "processing MRK for 20220420 23:59:59 US/Eastern took   3.04 sec\n",
      "processing 20220520 23:59:59 US/Eastern\n"
     ]
    },
    {
     "name": "stderr",
     "output_type": "stream",
     "text": [
      "ERROR -1 502 Couldn't connect to TWS. Confirm that \"Enable ActiveX and Socket EClients\" \n",
      "is enabled and connection port is the same as \"Socket Port\" on the \n",
      "TWS \"Edit->Global Configuration...->API->Settings\" menu. Live Trading ports: \n",
      "TWS: 7496; IB Gateway: 4001. Simulated Trading ports for new installations \n",
      "of version 954.1 or newer:  TWS: 7497; IB Gateway: 4002\n"
     ]
    },
    {
     "name": "stdout",
     "output_type": "stream",
     "text": [
      "processing MRK for 20220520 23:59:59 US/Eastern took   3.02 sec\n",
      "processing 20220619 23:59:59 US/Eastern\n"
     ]
    },
    {
     "name": "stderr",
     "output_type": "stream",
     "text": [
      "ERROR -1 502 Couldn't connect to TWS. Confirm that \"Enable ActiveX and Socket EClients\" \n",
      "is enabled and connection port is the same as \"Socket Port\" on the \n",
      "TWS \"Edit->Global Configuration...->API->Settings\" menu. Live Trading ports: \n",
      "TWS: 7496; IB Gateway: 4001. Simulated Trading ports for new installations \n",
      "of version 954.1 or newer:  TWS: 7497; IB Gateway: 4002\n"
     ]
    },
    {
     "name": "stdout",
     "output_type": "stream",
     "text": [
      "processing MRK for 20220619 23:59:59 US/Eastern took   3.04 sec\n",
      "processing 20220719 23:59:59 US/Eastern\n"
     ]
    },
    {
     "name": "stderr",
     "output_type": "stream",
     "text": [
      "ERROR -1 502 Couldn't connect to TWS. Confirm that \"Enable ActiveX and Socket EClients\" \n",
      "is enabled and connection port is the same as \"Socket Port\" on the \n",
      "TWS \"Edit->Global Configuration...->API->Settings\" menu. Live Trading ports: \n",
      "TWS: 7496; IB Gateway: 4001. Simulated Trading ports for new installations \n",
      "of version 954.1 or newer:  TWS: 7497; IB Gateway: 4002\n"
     ]
    },
    {
     "name": "stdout",
     "output_type": "stream",
     "text": [
      "processing MRK for 20220719 23:59:59 US/Eastern took   3.05 sec\n",
      "processing 20220818 23:59:59 US/Eastern\n"
     ]
    },
    {
     "name": "stderr",
     "output_type": "stream",
     "text": [
      "ERROR -1 502 Couldn't connect to TWS. Confirm that \"Enable ActiveX and Socket EClients\" \n",
      "is enabled and connection port is the same as \"Socket Port\" on the \n",
      "TWS \"Edit->Global Configuration...->API->Settings\" menu. Live Trading ports: \n",
      "TWS: 7496; IB Gateway: 4001. Simulated Trading ports for new installations \n",
      "of version 954.1 or newer:  TWS: 7497; IB Gateway: 4002\n"
     ]
    },
    {
     "name": "stdout",
     "output_type": "stream",
     "text": [
      "processing MRK for 20220818 23:59:59 US/Eastern took   3.04 sec\n",
      "processing 20220917 23:59:59 US/Eastern\n"
     ]
    },
    {
     "name": "stderr",
     "output_type": "stream",
     "text": [
      "ERROR -1 502 Couldn't connect to TWS. Confirm that \"Enable ActiveX and Socket EClients\" \n",
      "is enabled and connection port is the same as \"Socket Port\" on the \n",
      "TWS \"Edit->Global Configuration...->API->Settings\" menu. Live Trading ports: \n",
      "TWS: 7496; IB Gateway: 4001. Simulated Trading ports for new installations \n",
      "of version 954.1 or newer:  TWS: 7497; IB Gateway: 4002\n"
     ]
    },
    {
     "name": "stdout",
     "output_type": "stream",
     "text": [
      "processing MRK for 20220917 23:59:59 US/Eastern took   3.05 sec\n",
      "processing 20221017 23:59:59 US/Eastern\n"
     ]
    },
    {
     "name": "stderr",
     "output_type": "stream",
     "text": [
      "ERROR -1 502 Couldn't connect to TWS. Confirm that \"Enable ActiveX and Socket EClients\" \n",
      "is enabled and connection port is the same as \"Socket Port\" on the \n",
      "TWS \"Edit->Global Configuration...->API->Settings\" menu. Live Trading ports: \n",
      "TWS: 7496; IB Gateway: 4001. Simulated Trading ports for new installations \n",
      "of version 954.1 or newer:  TWS: 7497; IB Gateway: 4002\n"
     ]
    },
    {
     "name": "stdout",
     "output_type": "stream",
     "text": [
      "processing MRK for 20221017 23:59:59 US/Eastern took   3.04 sec\n",
      "processing 20221116 23:59:59 US/Eastern\n"
     ]
    },
    {
     "name": "stderr",
     "output_type": "stream",
     "text": [
      "ERROR -1 502 Couldn't connect to TWS. Confirm that \"Enable ActiveX and Socket EClients\" \n",
      "is enabled and connection port is the same as \"Socket Port\" on the \n",
      "TWS \"Edit->Global Configuration...->API->Settings\" menu. Live Trading ports: \n",
      "TWS: 7496; IB Gateway: 4001. Simulated Trading ports for new installations \n",
      "of version 954.1 or newer:  TWS: 7497; IB Gateway: 4002\n"
     ]
    },
    {
     "name": "stdout",
     "output_type": "stream",
     "text": [
      "processing MRK for 20221116 23:59:59 US/Eastern took   3.05 sec\n",
      "processing 20221216 23:59:59 US/Eastern\n"
     ]
    },
    {
     "name": "stderr",
     "output_type": "stream",
     "text": [
      "ERROR -1 502 Couldn't connect to TWS. Confirm that \"Enable ActiveX and Socket EClients\" \n",
      "is enabled and connection port is the same as \"Socket Port\" on the \n",
      "TWS \"Edit->Global Configuration...->API->Settings\" menu. Live Trading ports: \n",
      "TWS: 7496; IB Gateway: 4001. Simulated Trading ports for new installations \n",
      "of version 954.1 or newer:  TWS: 7497; IB Gateway: 4002\n"
     ]
    },
    {
     "name": "stdout",
     "output_type": "stream",
     "text": [
      "processing MRK for 20221216 23:59:59 US/Eastern took   3.05 sec\n",
      "processing 20230115 23:59:59 US/Eastern\n"
     ]
    },
    {
     "name": "stderr",
     "output_type": "stream",
     "text": [
      "ERROR -1 502 Couldn't connect to TWS. Confirm that \"Enable ActiveX and Socket EClients\" \n",
      "is enabled and connection port is the same as \"Socket Port\" on the \n",
      "TWS \"Edit->Global Configuration...->API->Settings\" menu. Live Trading ports: \n",
      "TWS: 7496; IB Gateway: 4001. Simulated Trading ports for new installations \n",
      "of version 954.1 or newer:  TWS: 7497; IB Gateway: 4002\n"
     ]
    },
    {
     "name": "stdout",
     "output_type": "stream",
     "text": [
      "processing MRK for 20230115 23:59:59 US/Eastern took   3.03 sec\n",
      "processing 20230214 23:59:59 US/Eastern\n"
     ]
    },
    {
     "name": "stderr",
     "output_type": "stream",
     "text": [
      "ERROR -1 502 Couldn't connect to TWS. Confirm that \"Enable ActiveX and Socket EClients\" \n",
      "is enabled and connection port is the same as \"Socket Port\" on the \n",
      "TWS \"Edit->Global Configuration...->API->Settings\" menu. Live Trading ports: \n",
      "TWS: 7496; IB Gateway: 4001. Simulated Trading ports for new installations \n",
      "of version 954.1 or newer:  TWS: 7497; IB Gateway: 4002\n"
     ]
    },
    {
     "name": "stdout",
     "output_type": "stream",
     "text": [
      "processing MRK for 20230214 23:59:59 US/Eastern took   3.05 sec\n",
      "processing 20230316 23:59:59 US/Eastern\n"
     ]
    },
    {
     "name": "stderr",
     "output_type": "stream",
     "text": [
      "ERROR -1 502 Couldn't connect to TWS. Confirm that \"Enable ActiveX and Socket EClients\" \n",
      "is enabled and connection port is the same as \"Socket Port\" on the \n",
      "TWS \"Edit->Global Configuration...->API->Settings\" menu. Live Trading ports: \n",
      "TWS: 7496; IB Gateway: 4001. Simulated Trading ports for new installations \n",
      "of version 954.1 or newer:  TWS: 7497; IB Gateway: 4002\n"
     ]
    },
    {
     "name": "stdout",
     "output_type": "stream",
     "text": [
      "processing MRK for 20230316 23:59:59 US/Eastern took   3.04 sec\n",
      "Processing MSFT\n",
      "processing 20200101 23:59:59 US/Eastern\n"
     ]
    },
    {
     "name": "stderr",
     "output_type": "stream",
     "text": [
      "ERROR -1 502 Couldn't connect to TWS. Confirm that \"Enable ActiveX and Socket EClients\" \n",
      "is enabled and connection port is the same as \"Socket Port\" on the \n",
      "TWS \"Edit->Global Configuration...->API->Settings\" menu. Live Trading ports: \n",
      "TWS: 7496; IB Gateway: 4001. Simulated Trading ports for new installations \n",
      "of version 954.1 or newer:  TWS: 7497; IB Gateway: 4002\n"
     ]
    },
    {
     "name": "stdout",
     "output_type": "stream",
     "text": [
      "processing MSFT for 20200101 23:59:59 US/Eastern took   3.07 sec\n",
      "processing 20200131 23:59:59 US/Eastern\n"
     ]
    },
    {
     "name": "stderr",
     "output_type": "stream",
     "text": [
      "ERROR -1 502 Couldn't connect to TWS. Confirm that \"Enable ActiveX and Socket EClients\" \n",
      "is enabled and connection port is the same as \"Socket Port\" on the \n",
      "TWS \"Edit->Global Configuration...->API->Settings\" menu. Live Trading ports: \n",
      "TWS: 7496; IB Gateway: 4001. Simulated Trading ports for new installations \n",
      "of version 954.1 or newer:  TWS: 7497; IB Gateway: 4002\n"
     ]
    },
    {
     "name": "stdout",
     "output_type": "stream",
     "text": [
      "processing MSFT for 20200131 23:59:59 US/Eastern took   3.04 sec\n",
      "processing 20200301 23:59:59 US/Eastern\n"
     ]
    },
    {
     "name": "stderr",
     "output_type": "stream",
     "text": [
      "ERROR -1 502 Couldn't connect to TWS. Confirm that \"Enable ActiveX and Socket EClients\" \n",
      "is enabled and connection port is the same as \"Socket Port\" on the \n",
      "TWS \"Edit->Global Configuration...->API->Settings\" menu. Live Trading ports: \n",
      "TWS: 7496; IB Gateway: 4001. Simulated Trading ports for new installations \n",
      "of version 954.1 or newer:  TWS: 7497; IB Gateway: 4002\n"
     ]
    },
    {
     "name": "stdout",
     "output_type": "stream",
     "text": [
      "processing MSFT for 20200301 23:59:59 US/Eastern took   3.04 sec\n",
      "processing 20200331 23:59:59 US/Eastern\n"
     ]
    },
    {
     "name": "stderr",
     "output_type": "stream",
     "text": [
      "ERROR -1 502 Couldn't connect to TWS. Confirm that \"Enable ActiveX and Socket EClients\" \n",
      "is enabled and connection port is the same as \"Socket Port\" on the \n",
      "TWS \"Edit->Global Configuration...->API->Settings\" menu. Live Trading ports: \n",
      "TWS: 7496; IB Gateway: 4001. Simulated Trading ports for new installations \n",
      "of version 954.1 or newer:  TWS: 7497; IB Gateway: 4002\n"
     ]
    },
    {
     "name": "stdout",
     "output_type": "stream",
     "text": [
      "processing MSFT for 20200331 23:59:59 US/Eastern took   3.04 sec\n",
      "processing 20200430 23:59:59 US/Eastern\n"
     ]
    },
    {
     "name": "stderr",
     "output_type": "stream",
     "text": [
      "ERROR -1 502 Couldn't connect to TWS. Confirm that \"Enable ActiveX and Socket EClients\" \n",
      "is enabled and connection port is the same as \"Socket Port\" on the \n",
      "TWS \"Edit->Global Configuration...->API->Settings\" menu. Live Trading ports: \n",
      "TWS: 7496; IB Gateway: 4001. Simulated Trading ports for new installations \n",
      "of version 954.1 or newer:  TWS: 7497; IB Gateway: 4002\n"
     ]
    },
    {
     "name": "stdout",
     "output_type": "stream",
     "text": [
      "processing MSFT for 20200430 23:59:59 US/Eastern took   3.04 sec\n",
      "processing 20200530 23:59:59 US/Eastern\n"
     ]
    },
    {
     "name": "stderr",
     "output_type": "stream",
     "text": [
      "ERROR -1 502 Couldn't connect to TWS. Confirm that \"Enable ActiveX and Socket EClients\" \n",
      "is enabled and connection port is the same as \"Socket Port\" on the \n",
      "TWS \"Edit->Global Configuration...->API->Settings\" menu. Live Trading ports: \n",
      "TWS: 7496; IB Gateway: 4001. Simulated Trading ports for new installations \n",
      "of version 954.1 or newer:  TWS: 7497; IB Gateway: 4002\n"
     ]
    },
    {
     "name": "stdout",
     "output_type": "stream",
     "text": [
      "processing MSFT for 20200530 23:59:59 US/Eastern took   3.07 sec\n",
      "processing 20200629 23:59:59 US/Eastern\n"
     ]
    },
    {
     "name": "stderr",
     "output_type": "stream",
     "text": [
      "ERROR -1 502 Couldn't connect to TWS. Confirm that \"Enable ActiveX and Socket EClients\" \n",
      "is enabled and connection port is the same as \"Socket Port\" on the \n",
      "TWS \"Edit->Global Configuration...->API->Settings\" menu. Live Trading ports: \n",
      "TWS: 7496; IB Gateway: 4001. Simulated Trading ports for new installations \n",
      "of version 954.1 or newer:  TWS: 7497; IB Gateway: 4002\n"
     ]
    },
    {
     "name": "stdout",
     "output_type": "stream",
     "text": [
      "processing MSFT for 20200629 23:59:59 US/Eastern took   3.06 sec\n",
      "processing 20200729 23:59:59 US/Eastern\n"
     ]
    },
    {
     "name": "stderr",
     "output_type": "stream",
     "text": [
      "ERROR -1 502 Couldn't connect to TWS. Confirm that \"Enable ActiveX and Socket EClients\" \n",
      "is enabled and connection port is the same as \"Socket Port\" on the \n",
      "TWS \"Edit->Global Configuration...->API->Settings\" menu. Live Trading ports: \n",
      "TWS: 7496; IB Gateway: 4001. Simulated Trading ports for new installations \n",
      "of version 954.1 or newer:  TWS: 7497; IB Gateway: 4002\n"
     ]
    },
    {
     "name": "stdout",
     "output_type": "stream",
     "text": [
      "processing MSFT for 20200729 23:59:59 US/Eastern took   3.05 sec\n",
      "processing 20200828 23:59:59 US/Eastern\n"
     ]
    },
    {
     "name": "stderr",
     "output_type": "stream",
     "text": [
      "ERROR -1 502 Couldn't connect to TWS. Confirm that \"Enable ActiveX and Socket EClients\" \n",
      "is enabled and connection port is the same as \"Socket Port\" on the \n",
      "TWS \"Edit->Global Configuration...->API->Settings\" menu. Live Trading ports: \n",
      "TWS: 7496; IB Gateway: 4001. Simulated Trading ports for new installations \n",
      "of version 954.1 or newer:  TWS: 7497; IB Gateway: 4002\n"
     ]
    },
    {
     "name": "stdout",
     "output_type": "stream",
     "text": [
      "processing MSFT for 20200828 23:59:59 US/Eastern took   3.05 sec\n",
      "processing 20200927 23:59:59 US/Eastern\n"
     ]
    },
    {
     "name": "stderr",
     "output_type": "stream",
     "text": [
      "ERROR -1 502 Couldn't connect to TWS. Confirm that \"Enable ActiveX and Socket EClients\" \n",
      "is enabled and connection port is the same as \"Socket Port\" on the \n",
      "TWS \"Edit->Global Configuration...->API->Settings\" menu. Live Trading ports: \n",
      "TWS: 7496; IB Gateway: 4001. Simulated Trading ports for new installations \n",
      "of version 954.1 or newer:  TWS: 7497; IB Gateway: 4002\n"
     ]
    },
    {
     "name": "stdout",
     "output_type": "stream",
     "text": [
      "processing MSFT for 20200927 23:59:59 US/Eastern took   3.05 sec\n",
      "processing 20201027 23:59:59 US/Eastern\n"
     ]
    },
    {
     "name": "stderr",
     "output_type": "stream",
     "text": [
      "ERROR -1 502 Couldn't connect to TWS. Confirm that \"Enable ActiveX and Socket EClients\" \n",
      "is enabled and connection port is the same as \"Socket Port\" on the \n",
      "TWS \"Edit->Global Configuration...->API->Settings\" menu. Live Trading ports: \n",
      "TWS: 7496; IB Gateway: 4001. Simulated Trading ports for new installations \n",
      "of version 954.1 or newer:  TWS: 7497; IB Gateway: 4002\n"
     ]
    },
    {
     "name": "stdout",
     "output_type": "stream",
     "text": [
      "processing MSFT for 20201027 23:59:59 US/Eastern took   3.04 sec\n",
      "processing 20201126 23:59:59 US/Eastern\n"
     ]
    },
    {
     "name": "stderr",
     "output_type": "stream",
     "text": [
      "ERROR -1 502 Couldn't connect to TWS. Confirm that \"Enable ActiveX and Socket EClients\" \n",
      "is enabled and connection port is the same as \"Socket Port\" on the \n",
      "TWS \"Edit->Global Configuration...->API->Settings\" menu. Live Trading ports: \n",
      "TWS: 7496; IB Gateway: 4001. Simulated Trading ports for new installations \n",
      "of version 954.1 or newer:  TWS: 7497; IB Gateway: 4002\n"
     ]
    },
    {
     "name": "stdout",
     "output_type": "stream",
     "text": [
      "processing MSFT for 20201126 23:59:59 US/Eastern took   3.05 sec\n",
      "processing 20201226 23:59:59 US/Eastern\n"
     ]
    },
    {
     "name": "stderr",
     "output_type": "stream",
     "text": [
      "ERROR -1 502 Couldn't connect to TWS. Confirm that \"Enable ActiveX and Socket EClients\" \n",
      "is enabled and connection port is the same as \"Socket Port\" on the \n",
      "TWS \"Edit->Global Configuration...->API->Settings\" menu. Live Trading ports: \n",
      "TWS: 7496; IB Gateway: 4001. Simulated Trading ports for new installations \n",
      "of version 954.1 or newer:  TWS: 7497; IB Gateway: 4002\n"
     ]
    },
    {
     "name": "stdout",
     "output_type": "stream",
     "text": [
      "processing MSFT for 20201226 23:59:59 US/Eastern took   3.05 sec\n",
      "processing 20210125 23:59:59 US/Eastern\n"
     ]
    },
    {
     "name": "stderr",
     "output_type": "stream",
     "text": [
      "ERROR -1 502 Couldn't connect to TWS. Confirm that \"Enable ActiveX and Socket EClients\" \n",
      "is enabled and connection port is the same as \"Socket Port\" on the \n",
      "TWS \"Edit->Global Configuration...->API->Settings\" menu. Live Trading ports: \n",
      "TWS: 7496; IB Gateway: 4001. Simulated Trading ports for new installations \n",
      "of version 954.1 or newer:  TWS: 7497; IB Gateway: 4002\n"
     ]
    },
    {
     "name": "stdout",
     "output_type": "stream",
     "text": [
      "processing MSFT for 20210125 23:59:59 US/Eastern took   3.04 sec\n",
      "processing 20210224 23:59:59 US/Eastern\n"
     ]
    },
    {
     "name": "stderr",
     "output_type": "stream",
     "text": [
      "ERROR -1 502 Couldn't connect to TWS. Confirm that \"Enable ActiveX and Socket EClients\" \n",
      "is enabled and connection port is the same as \"Socket Port\" on the \n",
      "TWS \"Edit->Global Configuration...->API->Settings\" menu. Live Trading ports: \n",
      "TWS: 7496; IB Gateway: 4001. Simulated Trading ports for new installations \n",
      "of version 954.1 or newer:  TWS: 7497; IB Gateway: 4002\n"
     ]
    },
    {
     "name": "stdout",
     "output_type": "stream",
     "text": [
      "processing MSFT for 20210224 23:59:59 US/Eastern took   3.04 sec\n",
      "processing 20210326 23:59:59 US/Eastern\n"
     ]
    },
    {
     "name": "stderr",
     "output_type": "stream",
     "text": [
      "ERROR -1 502 Couldn't connect to TWS. Confirm that \"Enable ActiveX and Socket EClients\" \n",
      "is enabled and connection port is the same as \"Socket Port\" on the \n",
      "TWS \"Edit->Global Configuration...->API->Settings\" menu. Live Trading ports: \n",
      "TWS: 7496; IB Gateway: 4001. Simulated Trading ports for new installations \n",
      "of version 954.1 or newer:  TWS: 7497; IB Gateway: 4002\n"
     ]
    },
    {
     "name": "stdout",
     "output_type": "stream",
     "text": [
      "processing MSFT for 20210326 23:59:59 US/Eastern took   3.04 sec\n",
      "processing 20210425 23:59:59 US/Eastern\n"
     ]
    },
    {
     "name": "stderr",
     "output_type": "stream",
     "text": [
      "ERROR -1 502 Couldn't connect to TWS. Confirm that \"Enable ActiveX and Socket EClients\" \n",
      "is enabled and connection port is the same as \"Socket Port\" on the \n",
      "TWS \"Edit->Global Configuration...->API->Settings\" menu. Live Trading ports: \n",
      "TWS: 7496; IB Gateway: 4001. Simulated Trading ports for new installations \n",
      "of version 954.1 or newer:  TWS: 7497; IB Gateway: 4002\n"
     ]
    },
    {
     "name": "stdout",
     "output_type": "stream",
     "text": [
      "processing MSFT for 20210425 23:59:59 US/Eastern took   3.04 sec\n",
      "processing 20210525 23:59:59 US/Eastern\n"
     ]
    },
    {
     "name": "stderr",
     "output_type": "stream",
     "text": [
      "ERROR -1 502 Couldn't connect to TWS. Confirm that \"Enable ActiveX and Socket EClients\" \n",
      "is enabled and connection port is the same as \"Socket Port\" on the \n",
      "TWS \"Edit->Global Configuration...->API->Settings\" menu. Live Trading ports: \n",
      "TWS: 7496; IB Gateway: 4001. Simulated Trading ports for new installations \n",
      "of version 954.1 or newer:  TWS: 7497; IB Gateway: 4002\n"
     ]
    },
    {
     "name": "stdout",
     "output_type": "stream",
     "text": [
      "processing MSFT for 20210525 23:59:59 US/Eastern took   3.07 sec\n",
      "processing 20210624 23:59:59 US/Eastern\n"
     ]
    },
    {
     "name": "stderr",
     "output_type": "stream",
     "text": [
      "ERROR -1 502 Couldn't connect to TWS. Confirm that \"Enable ActiveX and Socket EClients\" \n",
      "is enabled and connection port is the same as \"Socket Port\" on the \n",
      "TWS \"Edit->Global Configuration...->API->Settings\" menu. Live Trading ports: \n",
      "TWS: 7496; IB Gateway: 4001. Simulated Trading ports for new installations \n",
      "of version 954.1 or newer:  TWS: 7497; IB Gateway: 4002\n"
     ]
    },
    {
     "name": "stdout",
     "output_type": "stream",
     "text": [
      "processing MSFT for 20210624 23:59:59 US/Eastern took   3.05 sec\n",
      "processing 20210724 23:59:59 US/Eastern\n"
     ]
    },
    {
     "name": "stderr",
     "output_type": "stream",
     "text": [
      "ERROR -1 502 Couldn't connect to TWS. Confirm that \"Enable ActiveX and Socket EClients\" \n",
      "is enabled and connection port is the same as \"Socket Port\" on the \n",
      "TWS \"Edit->Global Configuration...->API->Settings\" menu. Live Trading ports: \n",
      "TWS: 7496; IB Gateway: 4001. Simulated Trading ports for new installations \n",
      "of version 954.1 or newer:  TWS: 7497; IB Gateway: 4002\n"
     ]
    },
    {
     "name": "stdout",
     "output_type": "stream",
     "text": [
      "processing MSFT for 20210724 23:59:59 US/Eastern took   3.05 sec\n",
      "processing 20210823 23:59:59 US/Eastern\n"
     ]
    },
    {
     "name": "stderr",
     "output_type": "stream",
     "text": [
      "ERROR -1 502 Couldn't connect to TWS. Confirm that \"Enable ActiveX and Socket EClients\" \n",
      "is enabled and connection port is the same as \"Socket Port\" on the \n",
      "TWS \"Edit->Global Configuration...->API->Settings\" menu. Live Trading ports: \n",
      "TWS: 7496; IB Gateway: 4001. Simulated Trading ports for new installations \n",
      "of version 954.1 or newer:  TWS: 7497; IB Gateway: 4002\n"
     ]
    },
    {
     "name": "stdout",
     "output_type": "stream",
     "text": [
      "processing MSFT for 20210823 23:59:59 US/Eastern took   3.04 sec\n",
      "processing 20210922 23:59:59 US/Eastern\n"
     ]
    },
    {
     "name": "stderr",
     "output_type": "stream",
     "text": [
      "ERROR -1 502 Couldn't connect to TWS. Confirm that \"Enable ActiveX and Socket EClients\" \n",
      "is enabled and connection port is the same as \"Socket Port\" on the \n",
      "TWS \"Edit->Global Configuration...->API->Settings\" menu. Live Trading ports: \n",
      "TWS: 7496; IB Gateway: 4001. Simulated Trading ports for new installations \n",
      "of version 954.1 or newer:  TWS: 7497; IB Gateway: 4002\n"
     ]
    },
    {
     "name": "stdout",
     "output_type": "stream",
     "text": [
      "processing MSFT for 20210922 23:59:59 US/Eastern took   3.04 sec\n",
      "processing 20211022 23:59:59 US/Eastern\n"
     ]
    },
    {
     "name": "stderr",
     "output_type": "stream",
     "text": [
      "ERROR -1 502 Couldn't connect to TWS. Confirm that \"Enable ActiveX and Socket EClients\" \n",
      "is enabled and connection port is the same as \"Socket Port\" on the \n",
      "TWS \"Edit->Global Configuration...->API->Settings\" menu. Live Trading ports: \n",
      "TWS: 7496; IB Gateway: 4001. Simulated Trading ports for new installations \n",
      "of version 954.1 or newer:  TWS: 7497; IB Gateway: 4002\n"
     ]
    },
    {
     "name": "stdout",
     "output_type": "stream",
     "text": [
      "processing MSFT for 20211022 23:59:59 US/Eastern took   3.07 sec\n",
      "processing 20211121 23:59:59 US/Eastern\n"
     ]
    },
    {
     "name": "stderr",
     "output_type": "stream",
     "text": [
      "ERROR -1 502 Couldn't connect to TWS. Confirm that \"Enable ActiveX and Socket EClients\" \n",
      "is enabled and connection port is the same as \"Socket Port\" on the \n",
      "TWS \"Edit->Global Configuration...->API->Settings\" menu. Live Trading ports: \n",
      "TWS: 7496; IB Gateway: 4001. Simulated Trading ports for new installations \n",
      "of version 954.1 or newer:  TWS: 7497; IB Gateway: 4002\n"
     ]
    },
    {
     "name": "stdout",
     "output_type": "stream",
     "text": [
      "processing MSFT for 20211121 23:59:59 US/Eastern took   3.05 sec\n",
      "processing 20211221 23:59:59 US/Eastern\n"
     ]
    },
    {
     "name": "stderr",
     "output_type": "stream",
     "text": [
      "ERROR -1 502 Couldn't connect to TWS. Confirm that \"Enable ActiveX and Socket EClients\" \n",
      "is enabled and connection port is the same as \"Socket Port\" on the \n",
      "TWS \"Edit->Global Configuration...->API->Settings\" menu. Live Trading ports: \n",
      "TWS: 7496; IB Gateway: 4001. Simulated Trading ports for new installations \n",
      "of version 954.1 or newer:  TWS: 7497; IB Gateway: 4002\n"
     ]
    },
    {
     "name": "stdout",
     "output_type": "stream",
     "text": [
      "processing MSFT for 20211221 23:59:59 US/Eastern took   3.04 sec\n",
      "processing 20220120 23:59:59 US/Eastern\n"
     ]
    },
    {
     "name": "stderr",
     "output_type": "stream",
     "text": [
      "ERROR -1 502 Couldn't connect to TWS. Confirm that \"Enable ActiveX and Socket EClients\" \n",
      "is enabled and connection port is the same as \"Socket Port\" on the \n",
      "TWS \"Edit->Global Configuration...->API->Settings\" menu. Live Trading ports: \n",
      "TWS: 7496; IB Gateway: 4001. Simulated Trading ports for new installations \n",
      "of version 954.1 or newer:  TWS: 7497; IB Gateway: 4002\n"
     ]
    },
    {
     "name": "stdout",
     "output_type": "stream",
     "text": [
      "processing MSFT for 20220120 23:59:59 US/Eastern took   3.07 sec\n",
      "processing 20220219 23:59:59 US/Eastern\n"
     ]
    },
    {
     "name": "stderr",
     "output_type": "stream",
     "text": [
      "ERROR -1 502 Couldn't connect to TWS. Confirm that \"Enable ActiveX and Socket EClients\" \n",
      "is enabled and connection port is the same as \"Socket Port\" on the \n",
      "TWS \"Edit->Global Configuration...->API->Settings\" menu. Live Trading ports: \n",
      "TWS: 7496; IB Gateway: 4001. Simulated Trading ports for new installations \n",
      "of version 954.1 or newer:  TWS: 7497; IB Gateway: 4002\n"
     ]
    },
    {
     "name": "stdout",
     "output_type": "stream",
     "text": [
      "processing MSFT for 20220219 23:59:59 US/Eastern took   3.03 sec\n",
      "processing 20220321 23:59:59 US/Eastern\n"
     ]
    },
    {
     "name": "stderr",
     "output_type": "stream",
     "text": [
      "ERROR -1 502 Couldn't connect to TWS. Confirm that \"Enable ActiveX and Socket EClients\" \n",
      "is enabled and connection port is the same as \"Socket Port\" on the \n",
      "TWS \"Edit->Global Configuration...->API->Settings\" menu. Live Trading ports: \n",
      "TWS: 7496; IB Gateway: 4001. Simulated Trading ports for new installations \n",
      "of version 954.1 or newer:  TWS: 7497; IB Gateway: 4002\n"
     ]
    },
    {
     "name": "stdout",
     "output_type": "stream",
     "text": [
      "processing MSFT for 20220321 23:59:59 US/Eastern took   3.06 sec\n",
      "processing 20220420 23:59:59 US/Eastern\n"
     ]
    },
    {
     "name": "stderr",
     "output_type": "stream",
     "text": [
      "ERROR -1 502 Couldn't connect to TWS. Confirm that \"Enable ActiveX and Socket EClients\" \n",
      "is enabled and connection port is the same as \"Socket Port\" on the \n",
      "TWS \"Edit->Global Configuration...->API->Settings\" menu. Live Trading ports: \n",
      "TWS: 7496; IB Gateway: 4001. Simulated Trading ports for new installations \n",
      "of version 954.1 or newer:  TWS: 7497; IB Gateway: 4002\n"
     ]
    },
    {
     "name": "stdout",
     "output_type": "stream",
     "text": [
      "processing MSFT for 20220420 23:59:59 US/Eastern took   3.06 sec\n",
      "processing 20220520 23:59:59 US/Eastern\n"
     ]
    },
    {
     "name": "stderr",
     "output_type": "stream",
     "text": [
      "ERROR -1 502 Couldn't connect to TWS. Confirm that \"Enable ActiveX and Socket EClients\" \n",
      "is enabled and connection port is the same as \"Socket Port\" on the \n",
      "TWS \"Edit->Global Configuration...->API->Settings\" menu. Live Trading ports: \n",
      "TWS: 7496; IB Gateway: 4001. Simulated Trading ports for new installations \n",
      "of version 954.1 or newer:  TWS: 7497; IB Gateway: 4002\n"
     ]
    },
    {
     "name": "stdout",
     "output_type": "stream",
     "text": [
      "processing MSFT for 20220520 23:59:59 US/Eastern took   3.05 sec\n",
      "processing 20220619 23:59:59 US/Eastern\n"
     ]
    },
    {
     "name": "stderr",
     "output_type": "stream",
     "text": [
      "ERROR -1 502 Couldn't connect to TWS. Confirm that \"Enable ActiveX and Socket EClients\" \n",
      "is enabled and connection port is the same as \"Socket Port\" on the \n",
      "TWS \"Edit->Global Configuration...->API->Settings\" menu. Live Trading ports: \n",
      "TWS: 7496; IB Gateway: 4001. Simulated Trading ports for new installations \n",
      "of version 954.1 or newer:  TWS: 7497; IB Gateway: 4002\n"
     ]
    },
    {
     "name": "stdout",
     "output_type": "stream",
     "text": [
      "processing MSFT for 20220619 23:59:59 US/Eastern took   3.06 sec\n",
      "processing 20220719 23:59:59 US/Eastern\n"
     ]
    },
    {
     "name": "stderr",
     "output_type": "stream",
     "text": [
      "ERROR -1 502 Couldn't connect to TWS. Confirm that \"Enable ActiveX and Socket EClients\" \n",
      "is enabled and connection port is the same as \"Socket Port\" on the \n",
      "TWS \"Edit->Global Configuration...->API->Settings\" menu. Live Trading ports: \n",
      "TWS: 7496; IB Gateway: 4001. Simulated Trading ports for new installations \n",
      "of version 954.1 or newer:  TWS: 7497; IB Gateway: 4002\n"
     ]
    },
    {
     "name": "stdout",
     "output_type": "stream",
     "text": [
      "processing MSFT for 20220719 23:59:59 US/Eastern took   3.04 sec\n",
      "processing 20220818 23:59:59 US/Eastern\n"
     ]
    },
    {
     "name": "stderr",
     "output_type": "stream",
     "text": [
      "ERROR -1 502 Couldn't connect to TWS. Confirm that \"Enable ActiveX and Socket EClients\" \n",
      "is enabled and connection port is the same as \"Socket Port\" on the \n",
      "TWS \"Edit->Global Configuration...->API->Settings\" menu. Live Trading ports: \n",
      "TWS: 7496; IB Gateway: 4001. Simulated Trading ports for new installations \n",
      "of version 954.1 or newer:  TWS: 7497; IB Gateway: 4002\n"
     ]
    },
    {
     "name": "stdout",
     "output_type": "stream",
     "text": [
      "processing MSFT for 20220818 23:59:59 US/Eastern took   3.04 sec\n",
      "processing 20220917 23:59:59 US/Eastern\n"
     ]
    },
    {
     "name": "stderr",
     "output_type": "stream",
     "text": [
      "ERROR -1 502 Couldn't connect to TWS. Confirm that \"Enable ActiveX and Socket EClients\" \n",
      "is enabled and connection port is the same as \"Socket Port\" on the \n",
      "TWS \"Edit->Global Configuration...->API->Settings\" menu. Live Trading ports: \n",
      "TWS: 7496; IB Gateway: 4001. Simulated Trading ports for new installations \n",
      "of version 954.1 or newer:  TWS: 7497; IB Gateway: 4002\n"
     ]
    },
    {
     "name": "stdout",
     "output_type": "stream",
     "text": [
      "processing MSFT for 20220917 23:59:59 US/Eastern took   3.04 sec\n",
      "processing 20221017 23:59:59 US/Eastern\n"
     ]
    },
    {
     "name": "stderr",
     "output_type": "stream",
     "text": [
      "ERROR -1 502 Couldn't connect to TWS. Confirm that \"Enable ActiveX and Socket EClients\" \n",
      "is enabled and connection port is the same as \"Socket Port\" on the \n",
      "TWS \"Edit->Global Configuration...->API->Settings\" menu. Live Trading ports: \n",
      "TWS: 7496; IB Gateway: 4001. Simulated Trading ports for new installations \n",
      "of version 954.1 or newer:  TWS: 7497; IB Gateway: 4002\n"
     ]
    },
    {
     "name": "stdout",
     "output_type": "stream",
     "text": [
      "processing MSFT for 20221017 23:59:59 US/Eastern took   3.05 sec\n",
      "processing 20221116 23:59:59 US/Eastern\n"
     ]
    },
    {
     "name": "stderr",
     "output_type": "stream",
     "text": [
      "ERROR -1 502 Couldn't connect to TWS. Confirm that \"Enable ActiveX and Socket EClients\" \n",
      "is enabled and connection port is the same as \"Socket Port\" on the \n",
      "TWS \"Edit->Global Configuration...->API->Settings\" menu. Live Trading ports: \n",
      "TWS: 7496; IB Gateway: 4001. Simulated Trading ports for new installations \n",
      "of version 954.1 or newer:  TWS: 7497; IB Gateway: 4002\n"
     ]
    },
    {
     "name": "stdout",
     "output_type": "stream",
     "text": [
      "processing MSFT for 20221116 23:59:59 US/Eastern took   3.06 sec\n",
      "processing 20221216 23:59:59 US/Eastern\n"
     ]
    },
    {
     "name": "stderr",
     "output_type": "stream",
     "text": [
      "ERROR -1 502 Couldn't connect to TWS. Confirm that \"Enable ActiveX and Socket EClients\" \n",
      "is enabled and connection port is the same as \"Socket Port\" on the \n",
      "TWS \"Edit->Global Configuration...->API->Settings\" menu. Live Trading ports: \n",
      "TWS: 7496; IB Gateway: 4001. Simulated Trading ports for new installations \n",
      "of version 954.1 or newer:  TWS: 7497; IB Gateway: 4002\n"
     ]
    },
    {
     "name": "stdout",
     "output_type": "stream",
     "text": [
      "processing MSFT for 20221216 23:59:59 US/Eastern took   3.06 sec\n",
      "processing 20230115 23:59:59 US/Eastern\n"
     ]
    },
    {
     "name": "stderr",
     "output_type": "stream",
     "text": [
      "ERROR -1 502 Couldn't connect to TWS. Confirm that \"Enable ActiveX and Socket EClients\" \n",
      "is enabled and connection port is the same as \"Socket Port\" on the \n",
      "TWS \"Edit->Global Configuration...->API->Settings\" menu. Live Trading ports: \n",
      "TWS: 7496; IB Gateway: 4001. Simulated Trading ports for new installations \n",
      "of version 954.1 or newer:  TWS: 7497; IB Gateway: 4002\n"
     ]
    },
    {
     "name": "stdout",
     "output_type": "stream",
     "text": [
      "processing MSFT for 20230115 23:59:59 US/Eastern took   3.06 sec\n",
      "processing 20230214 23:59:59 US/Eastern\n"
     ]
    },
    {
     "name": "stderr",
     "output_type": "stream",
     "text": [
      "ERROR -1 502 Couldn't connect to TWS. Confirm that \"Enable ActiveX and Socket EClients\" \n",
      "is enabled and connection port is the same as \"Socket Port\" on the \n",
      "TWS \"Edit->Global Configuration...->API->Settings\" menu. Live Trading ports: \n",
      "TWS: 7496; IB Gateway: 4001. Simulated Trading ports for new installations \n",
      "of version 954.1 or newer:  TWS: 7497; IB Gateway: 4002\n"
     ]
    },
    {
     "name": "stdout",
     "output_type": "stream",
     "text": [
      "processing MSFT for 20230214 23:59:59 US/Eastern took   3.03 sec\n",
      "processing 20230316 23:59:59 US/Eastern\n"
     ]
    },
    {
     "name": "stderr",
     "output_type": "stream",
     "text": [
      "ERROR -1 502 Couldn't connect to TWS. Confirm that \"Enable ActiveX and Socket EClients\" \n",
      "is enabled and connection port is the same as \"Socket Port\" on the \n",
      "TWS \"Edit->Global Configuration...->API->Settings\" menu. Live Trading ports: \n",
      "TWS: 7496; IB Gateway: 4001. Simulated Trading ports for new installations \n",
      "of version 954.1 or newer:  TWS: 7497; IB Gateway: 4002\n"
     ]
    },
    {
     "name": "stdout",
     "output_type": "stream",
     "text": [
      "processing MSFT for 20230316 23:59:59 US/Eastern took   3.05 sec\n",
      "Processing NKE\n",
      "processing 20200101 23:59:59 US/Eastern\n"
     ]
    },
    {
     "name": "stderr",
     "output_type": "stream",
     "text": [
      "ERROR -1 502 Couldn't connect to TWS. Confirm that \"Enable ActiveX and Socket EClients\" \n",
      "is enabled and connection port is the same as \"Socket Port\" on the \n",
      "TWS \"Edit->Global Configuration...->API->Settings\" menu. Live Trading ports: \n",
      "TWS: 7496; IB Gateway: 4001. Simulated Trading ports for new installations \n",
      "of version 954.1 or newer:  TWS: 7497; IB Gateway: 4002\n"
     ]
    },
    {
     "name": "stdout",
     "output_type": "stream",
     "text": [
      "processing NKE for 20200101 23:59:59 US/Eastern took   3.05 sec\n",
      "processing 20200131 23:59:59 US/Eastern\n"
     ]
    },
    {
     "name": "stderr",
     "output_type": "stream",
     "text": [
      "ERROR -1 502 Couldn't connect to TWS. Confirm that \"Enable ActiveX and Socket EClients\" \n",
      "is enabled and connection port is the same as \"Socket Port\" on the \n",
      "TWS \"Edit->Global Configuration...->API->Settings\" menu. Live Trading ports: \n",
      "TWS: 7496; IB Gateway: 4001. Simulated Trading ports for new installations \n",
      "of version 954.1 or newer:  TWS: 7497; IB Gateway: 4002\n"
     ]
    },
    {
     "name": "stdout",
     "output_type": "stream",
     "text": [
      "processing NKE for 20200131 23:59:59 US/Eastern took   3.06 sec\n",
      "processing 20200301 23:59:59 US/Eastern\n"
     ]
    },
    {
     "name": "stderr",
     "output_type": "stream",
     "text": [
      "ERROR -1 502 Couldn't connect to TWS. Confirm that \"Enable ActiveX and Socket EClients\" \n",
      "is enabled and connection port is the same as \"Socket Port\" on the \n",
      "TWS \"Edit->Global Configuration...->API->Settings\" menu. Live Trading ports: \n",
      "TWS: 7496; IB Gateway: 4001. Simulated Trading ports for new installations \n",
      "of version 954.1 or newer:  TWS: 7497; IB Gateway: 4002\n"
     ]
    },
    {
     "name": "stdout",
     "output_type": "stream",
     "text": [
      "processing NKE for 20200301 23:59:59 US/Eastern took   3.06 sec\n",
      "processing 20200331 23:59:59 US/Eastern\n"
     ]
    },
    {
     "name": "stderr",
     "output_type": "stream",
     "text": [
      "ERROR -1 502 Couldn't connect to TWS. Confirm that \"Enable ActiveX and Socket EClients\" \n",
      "is enabled and connection port is the same as \"Socket Port\" on the \n",
      "TWS \"Edit->Global Configuration...->API->Settings\" menu. Live Trading ports: \n",
      "TWS: 7496; IB Gateway: 4001. Simulated Trading ports for new installations \n",
      "of version 954.1 or newer:  TWS: 7497; IB Gateway: 4002\n"
     ]
    },
    {
     "name": "stdout",
     "output_type": "stream",
     "text": [
      "processing NKE for 20200331 23:59:59 US/Eastern took   3.06 sec\n",
      "processing 20200430 23:59:59 US/Eastern\n"
     ]
    },
    {
     "name": "stderr",
     "output_type": "stream",
     "text": [
      "ERROR -1 502 Couldn't connect to TWS. Confirm that \"Enable ActiveX and Socket EClients\" \n",
      "is enabled and connection port is the same as \"Socket Port\" on the \n",
      "TWS \"Edit->Global Configuration...->API->Settings\" menu. Live Trading ports: \n",
      "TWS: 7496; IB Gateway: 4001. Simulated Trading ports for new installations \n",
      "of version 954.1 or newer:  TWS: 7497; IB Gateway: 4002\n"
     ]
    },
    {
     "name": "stdout",
     "output_type": "stream",
     "text": [
      "processing NKE for 20200430 23:59:59 US/Eastern took   3.05 sec\n",
      "processing 20200530 23:59:59 US/Eastern\n"
     ]
    },
    {
     "name": "stderr",
     "output_type": "stream",
     "text": [
      "ERROR -1 502 Couldn't connect to TWS. Confirm that \"Enable ActiveX and Socket EClients\" \n",
      "is enabled and connection port is the same as \"Socket Port\" on the \n",
      "TWS \"Edit->Global Configuration...->API->Settings\" menu. Live Trading ports: \n",
      "TWS: 7496; IB Gateway: 4001. Simulated Trading ports for new installations \n",
      "of version 954.1 or newer:  TWS: 7497; IB Gateway: 4002\n"
     ]
    },
    {
     "name": "stdout",
     "output_type": "stream",
     "text": [
      "processing NKE for 20200530 23:59:59 US/Eastern took   3.04 sec\n",
      "processing 20200629 23:59:59 US/Eastern\n"
     ]
    },
    {
     "name": "stderr",
     "output_type": "stream",
     "text": [
      "ERROR -1 502 Couldn't connect to TWS. Confirm that \"Enable ActiveX and Socket EClients\" \n",
      "is enabled and connection port is the same as \"Socket Port\" on the \n",
      "TWS \"Edit->Global Configuration...->API->Settings\" menu. Live Trading ports: \n",
      "TWS: 7496; IB Gateway: 4001. Simulated Trading ports for new installations \n",
      "of version 954.1 or newer:  TWS: 7497; IB Gateway: 4002\n"
     ]
    },
    {
     "name": "stdout",
     "output_type": "stream",
     "text": [
      "processing NKE for 20200629 23:59:59 US/Eastern took   3.05 sec\n",
      "processing 20200729 23:59:59 US/Eastern\n"
     ]
    },
    {
     "name": "stderr",
     "output_type": "stream",
     "text": [
      "ERROR -1 502 Couldn't connect to TWS. Confirm that \"Enable ActiveX and Socket EClients\" \n",
      "is enabled and connection port is the same as \"Socket Port\" on the \n",
      "TWS \"Edit->Global Configuration...->API->Settings\" menu. Live Trading ports: \n",
      "TWS: 7496; IB Gateway: 4001. Simulated Trading ports for new installations \n",
      "of version 954.1 or newer:  TWS: 7497; IB Gateway: 4002\n"
     ]
    },
    {
     "name": "stdout",
     "output_type": "stream",
     "text": [
      "processing NKE for 20200729 23:59:59 US/Eastern took   3.02 sec\n",
      "processing 20200828 23:59:59 US/Eastern\n"
     ]
    },
    {
     "name": "stderr",
     "output_type": "stream",
     "text": [
      "ERROR -1 502 Couldn't connect to TWS. Confirm that \"Enable ActiveX and Socket EClients\" \n",
      "is enabled and connection port is the same as \"Socket Port\" on the \n",
      "TWS \"Edit->Global Configuration...->API->Settings\" menu. Live Trading ports: \n",
      "TWS: 7496; IB Gateway: 4001. Simulated Trading ports for new installations \n",
      "of version 954.1 or newer:  TWS: 7497; IB Gateway: 4002\n"
     ]
    },
    {
     "name": "stdout",
     "output_type": "stream",
     "text": [
      "processing NKE for 20200828 23:59:59 US/Eastern took   3.05 sec\n",
      "processing 20200927 23:59:59 US/Eastern\n"
     ]
    },
    {
     "name": "stderr",
     "output_type": "stream",
     "text": [
      "ERROR -1 502 Couldn't connect to TWS. Confirm that \"Enable ActiveX and Socket EClients\" \n",
      "is enabled and connection port is the same as \"Socket Port\" on the \n",
      "TWS \"Edit->Global Configuration...->API->Settings\" menu. Live Trading ports: \n",
      "TWS: 7496; IB Gateway: 4001. Simulated Trading ports for new installations \n",
      "of version 954.1 or newer:  TWS: 7497; IB Gateway: 4002\n"
     ]
    },
    {
     "name": "stdout",
     "output_type": "stream",
     "text": [
      "processing NKE for 20200927 23:59:59 US/Eastern took   3.06 sec\n",
      "processing 20201027 23:59:59 US/Eastern\n"
     ]
    },
    {
     "name": "stderr",
     "output_type": "stream",
     "text": [
      "ERROR -1 502 Couldn't connect to TWS. Confirm that \"Enable ActiveX and Socket EClients\" \n",
      "is enabled and connection port is the same as \"Socket Port\" on the \n",
      "TWS \"Edit->Global Configuration...->API->Settings\" menu. Live Trading ports: \n",
      "TWS: 7496; IB Gateway: 4001. Simulated Trading ports for new installations \n",
      "of version 954.1 or newer:  TWS: 7497; IB Gateway: 4002\n"
     ]
    },
    {
     "name": "stdout",
     "output_type": "stream",
     "text": [
      "processing NKE for 20201027 23:59:59 US/Eastern took   3.04 sec\n",
      "processing 20201126 23:59:59 US/Eastern\n"
     ]
    },
    {
     "name": "stderr",
     "output_type": "stream",
     "text": [
      "ERROR -1 502 Couldn't connect to TWS. Confirm that \"Enable ActiveX and Socket EClients\" \n",
      "is enabled and connection port is the same as \"Socket Port\" on the \n",
      "TWS \"Edit->Global Configuration...->API->Settings\" menu. Live Trading ports: \n",
      "TWS: 7496; IB Gateway: 4001. Simulated Trading ports for new installations \n",
      "of version 954.1 or newer:  TWS: 7497; IB Gateway: 4002\n"
     ]
    },
    {
     "name": "stdout",
     "output_type": "stream",
     "text": [
      "processing NKE for 20201126 23:59:59 US/Eastern took   3.05 sec\n",
      "processing 20201226 23:59:59 US/Eastern\n"
     ]
    },
    {
     "name": "stderr",
     "output_type": "stream",
     "text": [
      "ERROR -1 502 Couldn't connect to TWS. Confirm that \"Enable ActiveX and Socket EClients\" \n",
      "is enabled and connection port is the same as \"Socket Port\" on the \n",
      "TWS \"Edit->Global Configuration...->API->Settings\" menu. Live Trading ports: \n",
      "TWS: 7496; IB Gateway: 4001. Simulated Trading ports for new installations \n",
      "of version 954.1 or newer:  TWS: 7497; IB Gateway: 4002\n"
     ]
    },
    {
     "name": "stdout",
     "output_type": "stream",
     "text": [
      "processing NKE for 20201226 23:59:59 US/Eastern took   3.04 sec\n",
      "processing 20210125 23:59:59 US/Eastern\n"
     ]
    },
    {
     "name": "stderr",
     "output_type": "stream",
     "text": [
      "ERROR -1 502 Couldn't connect to TWS. Confirm that \"Enable ActiveX and Socket EClients\" \n",
      "is enabled and connection port is the same as \"Socket Port\" on the \n",
      "TWS \"Edit->Global Configuration...->API->Settings\" menu. Live Trading ports: \n",
      "TWS: 7496; IB Gateway: 4001. Simulated Trading ports for new installations \n",
      "of version 954.1 or newer:  TWS: 7497; IB Gateway: 4002\n"
     ]
    },
    {
     "name": "stdout",
     "output_type": "stream",
     "text": [
      "processing NKE for 20210125 23:59:59 US/Eastern took   3.05 sec\n",
      "processing 20210224 23:59:59 US/Eastern\n"
     ]
    },
    {
     "name": "stderr",
     "output_type": "stream",
     "text": [
      "ERROR -1 502 Couldn't connect to TWS. Confirm that \"Enable ActiveX and Socket EClients\" \n",
      "is enabled and connection port is the same as \"Socket Port\" on the \n",
      "TWS \"Edit->Global Configuration...->API->Settings\" menu. Live Trading ports: \n",
      "TWS: 7496; IB Gateway: 4001. Simulated Trading ports for new installations \n",
      "of version 954.1 or newer:  TWS: 7497; IB Gateway: 4002\n"
     ]
    },
    {
     "name": "stdout",
     "output_type": "stream",
     "text": [
      "processing NKE for 20210224 23:59:59 US/Eastern took   3.06 sec\n",
      "processing 20210326 23:59:59 US/Eastern\n"
     ]
    },
    {
     "name": "stderr",
     "output_type": "stream",
     "text": [
      "ERROR -1 502 Couldn't connect to TWS. Confirm that \"Enable ActiveX and Socket EClients\" \n",
      "is enabled and connection port is the same as \"Socket Port\" on the \n",
      "TWS \"Edit->Global Configuration...->API->Settings\" menu. Live Trading ports: \n",
      "TWS: 7496; IB Gateway: 4001. Simulated Trading ports for new installations \n",
      "of version 954.1 or newer:  TWS: 7497; IB Gateway: 4002\n"
     ]
    },
    {
     "name": "stdout",
     "output_type": "stream",
     "text": [
      "processing NKE for 20210326 23:59:59 US/Eastern took   3.04 sec\n",
      "processing 20210425 23:59:59 US/Eastern\n"
     ]
    },
    {
     "name": "stderr",
     "output_type": "stream",
     "text": [
      "ERROR -1 502 Couldn't connect to TWS. Confirm that \"Enable ActiveX and Socket EClients\" \n",
      "is enabled and connection port is the same as \"Socket Port\" on the \n",
      "TWS \"Edit->Global Configuration...->API->Settings\" menu. Live Trading ports: \n",
      "TWS: 7496; IB Gateway: 4001. Simulated Trading ports for new installations \n",
      "of version 954.1 or newer:  TWS: 7497; IB Gateway: 4002\n"
     ]
    },
    {
     "name": "stdout",
     "output_type": "stream",
     "text": [
      "processing NKE for 20210425 23:59:59 US/Eastern took   3.06 sec\n",
      "processing 20210525 23:59:59 US/Eastern\n"
     ]
    },
    {
     "name": "stderr",
     "output_type": "stream",
     "text": [
      "ERROR -1 502 Couldn't connect to TWS. Confirm that \"Enable ActiveX and Socket EClients\" \n",
      "is enabled and connection port is the same as \"Socket Port\" on the \n",
      "TWS \"Edit->Global Configuration...->API->Settings\" menu. Live Trading ports: \n",
      "TWS: 7496; IB Gateway: 4001. Simulated Trading ports for new installations \n",
      "of version 954.1 or newer:  TWS: 7497; IB Gateway: 4002\n"
     ]
    },
    {
     "name": "stdout",
     "output_type": "stream",
     "text": [
      "processing NKE for 20210525 23:59:59 US/Eastern took   3.04 sec\n",
      "processing 20210624 23:59:59 US/Eastern\n"
     ]
    },
    {
     "name": "stderr",
     "output_type": "stream",
     "text": [
      "ERROR -1 502 Couldn't connect to TWS. Confirm that \"Enable ActiveX and Socket EClients\" \n",
      "is enabled and connection port is the same as \"Socket Port\" on the \n",
      "TWS \"Edit->Global Configuration...->API->Settings\" menu. Live Trading ports: \n",
      "TWS: 7496; IB Gateway: 4001. Simulated Trading ports for new installations \n",
      "of version 954.1 or newer:  TWS: 7497; IB Gateway: 4002\n"
     ]
    },
    {
     "name": "stdout",
     "output_type": "stream",
     "text": [
      "processing NKE for 20210624 23:59:59 US/Eastern took   3.04 sec\n",
      "processing 20210724 23:59:59 US/Eastern\n"
     ]
    },
    {
     "name": "stderr",
     "output_type": "stream",
     "text": [
      "ERROR -1 502 Couldn't connect to TWS. Confirm that \"Enable ActiveX and Socket EClients\" \n",
      "is enabled and connection port is the same as \"Socket Port\" on the \n",
      "TWS \"Edit->Global Configuration...->API->Settings\" menu. Live Trading ports: \n",
      "TWS: 7496; IB Gateway: 4001. Simulated Trading ports for new installations \n",
      "of version 954.1 or newer:  TWS: 7497; IB Gateway: 4002\n"
     ]
    },
    {
     "name": "stdout",
     "output_type": "stream",
     "text": [
      "processing NKE for 20210724 23:59:59 US/Eastern took   3.03 sec\n",
      "processing 20210823 23:59:59 US/Eastern\n"
     ]
    },
    {
     "name": "stderr",
     "output_type": "stream",
     "text": [
      "ERROR -1 502 Couldn't connect to TWS. Confirm that \"Enable ActiveX and Socket EClients\" \n",
      "is enabled and connection port is the same as \"Socket Port\" on the \n",
      "TWS \"Edit->Global Configuration...->API->Settings\" menu. Live Trading ports: \n",
      "TWS: 7496; IB Gateway: 4001. Simulated Trading ports for new installations \n",
      "of version 954.1 or newer:  TWS: 7497; IB Gateway: 4002\n"
     ]
    },
    {
     "name": "stdout",
     "output_type": "stream",
     "text": [
      "processing NKE for 20210823 23:59:59 US/Eastern took   3.05 sec\n",
      "processing 20210922 23:59:59 US/Eastern\n"
     ]
    },
    {
     "name": "stderr",
     "output_type": "stream",
     "text": [
      "ERROR -1 502 Couldn't connect to TWS. Confirm that \"Enable ActiveX and Socket EClients\" \n",
      "is enabled and connection port is the same as \"Socket Port\" on the \n",
      "TWS \"Edit->Global Configuration...->API->Settings\" menu. Live Trading ports: \n",
      "TWS: 7496; IB Gateway: 4001. Simulated Trading ports for new installations \n",
      "of version 954.1 or newer:  TWS: 7497; IB Gateway: 4002\n"
     ]
    },
    {
     "name": "stdout",
     "output_type": "stream",
     "text": [
      "processing NKE for 20210922 23:59:59 US/Eastern took   3.07 sec\n",
      "processing 20211022 23:59:59 US/Eastern\n"
     ]
    },
    {
     "name": "stderr",
     "output_type": "stream",
     "text": [
      "ERROR -1 502 Couldn't connect to TWS. Confirm that \"Enable ActiveX and Socket EClients\" \n",
      "is enabled and connection port is the same as \"Socket Port\" on the \n",
      "TWS \"Edit->Global Configuration...->API->Settings\" menu. Live Trading ports: \n",
      "TWS: 7496; IB Gateway: 4001. Simulated Trading ports for new installations \n",
      "of version 954.1 or newer:  TWS: 7497; IB Gateway: 4002\n"
     ]
    },
    {
     "name": "stdout",
     "output_type": "stream",
     "text": [
      "processing NKE for 20211022 23:59:59 US/Eastern took   3.05 sec\n",
      "processing 20211121 23:59:59 US/Eastern\n"
     ]
    },
    {
     "name": "stderr",
     "output_type": "stream",
     "text": [
      "ERROR -1 502 Couldn't connect to TWS. Confirm that \"Enable ActiveX and Socket EClients\" \n",
      "is enabled and connection port is the same as \"Socket Port\" on the \n",
      "TWS \"Edit->Global Configuration...->API->Settings\" menu. Live Trading ports: \n",
      "TWS: 7496; IB Gateway: 4001. Simulated Trading ports for new installations \n",
      "of version 954.1 or newer:  TWS: 7497; IB Gateway: 4002\n"
     ]
    },
    {
     "name": "stdout",
     "output_type": "stream",
     "text": [
      "processing NKE for 20211121 23:59:59 US/Eastern took   3.06 sec\n",
      "processing 20211221 23:59:59 US/Eastern\n"
     ]
    },
    {
     "name": "stderr",
     "output_type": "stream",
     "text": [
      "ERROR -1 502 Couldn't connect to TWS. Confirm that \"Enable ActiveX and Socket EClients\" \n",
      "is enabled and connection port is the same as \"Socket Port\" on the \n",
      "TWS \"Edit->Global Configuration...->API->Settings\" menu. Live Trading ports: \n",
      "TWS: 7496; IB Gateway: 4001. Simulated Trading ports for new installations \n",
      "of version 954.1 or newer:  TWS: 7497; IB Gateway: 4002\n"
     ]
    },
    {
     "name": "stdout",
     "output_type": "stream",
     "text": [
      "processing NKE for 20211221 23:59:59 US/Eastern took   3.06 sec\n",
      "processing 20220120 23:59:59 US/Eastern\n"
     ]
    },
    {
     "name": "stderr",
     "output_type": "stream",
     "text": [
      "ERROR -1 502 Couldn't connect to TWS. Confirm that \"Enable ActiveX and Socket EClients\" \n",
      "is enabled and connection port is the same as \"Socket Port\" on the \n",
      "TWS \"Edit->Global Configuration...->API->Settings\" menu. Live Trading ports: \n",
      "TWS: 7496; IB Gateway: 4001. Simulated Trading ports for new installations \n",
      "of version 954.1 or newer:  TWS: 7497; IB Gateway: 4002\n"
     ]
    },
    {
     "name": "stdout",
     "output_type": "stream",
     "text": [
      "processing NKE for 20220120 23:59:59 US/Eastern took   3.06 sec\n",
      "processing 20220219 23:59:59 US/Eastern\n"
     ]
    },
    {
     "name": "stderr",
     "output_type": "stream",
     "text": [
      "ERROR -1 502 Couldn't connect to TWS. Confirm that \"Enable ActiveX and Socket EClients\" \n",
      "is enabled and connection port is the same as \"Socket Port\" on the \n",
      "TWS \"Edit->Global Configuration...->API->Settings\" menu. Live Trading ports: \n",
      "TWS: 7496; IB Gateway: 4001. Simulated Trading ports for new installations \n",
      "of version 954.1 or newer:  TWS: 7497; IB Gateway: 4002\n"
     ]
    },
    {
     "name": "stdout",
     "output_type": "stream",
     "text": [
      "processing NKE for 20220219 23:59:59 US/Eastern took   3.06 sec\n",
      "processing 20220321 23:59:59 US/Eastern\n"
     ]
    },
    {
     "name": "stderr",
     "output_type": "stream",
     "text": [
      "ERROR -1 502 Couldn't connect to TWS. Confirm that \"Enable ActiveX and Socket EClients\" \n",
      "is enabled and connection port is the same as \"Socket Port\" on the \n",
      "TWS \"Edit->Global Configuration...->API->Settings\" menu. Live Trading ports: \n",
      "TWS: 7496; IB Gateway: 4001. Simulated Trading ports for new installations \n",
      "of version 954.1 or newer:  TWS: 7497; IB Gateway: 4002\n"
     ]
    },
    {
     "name": "stdout",
     "output_type": "stream",
     "text": [
      "processing NKE for 20220321 23:59:59 US/Eastern took   3.04 sec\n",
      "processing 20220420 23:59:59 US/Eastern\n"
     ]
    },
    {
     "name": "stderr",
     "output_type": "stream",
     "text": [
      "ERROR -1 502 Couldn't connect to TWS. Confirm that \"Enable ActiveX and Socket EClients\" \n",
      "is enabled and connection port is the same as \"Socket Port\" on the \n",
      "TWS \"Edit->Global Configuration...->API->Settings\" menu. Live Trading ports: \n",
      "TWS: 7496; IB Gateway: 4001. Simulated Trading ports for new installations \n",
      "of version 954.1 or newer:  TWS: 7497; IB Gateway: 4002\n"
     ]
    },
    {
     "name": "stdout",
     "output_type": "stream",
     "text": [
      "processing NKE for 20220420 23:59:59 US/Eastern took   3.07 sec\n",
      "processing 20220520 23:59:59 US/Eastern\n"
     ]
    },
    {
     "name": "stderr",
     "output_type": "stream",
     "text": [
      "ERROR -1 502 Couldn't connect to TWS. Confirm that \"Enable ActiveX and Socket EClients\" \n",
      "is enabled and connection port is the same as \"Socket Port\" on the \n",
      "TWS \"Edit->Global Configuration...->API->Settings\" menu. Live Trading ports: \n",
      "TWS: 7496; IB Gateway: 4001. Simulated Trading ports for new installations \n",
      "of version 954.1 or newer:  TWS: 7497; IB Gateway: 4002\n"
     ]
    },
    {
     "name": "stdout",
     "output_type": "stream",
     "text": [
      "processing NKE for 20220520 23:59:59 US/Eastern took   3.04 sec\n",
      "processing 20220619 23:59:59 US/Eastern\n"
     ]
    },
    {
     "name": "stderr",
     "output_type": "stream",
     "text": [
      "ERROR -1 502 Couldn't connect to TWS. Confirm that \"Enable ActiveX and Socket EClients\" \n",
      "is enabled and connection port is the same as \"Socket Port\" on the \n",
      "TWS \"Edit->Global Configuration...->API->Settings\" menu. Live Trading ports: \n",
      "TWS: 7496; IB Gateway: 4001. Simulated Trading ports for new installations \n",
      "of version 954.1 or newer:  TWS: 7497; IB Gateway: 4002\n"
     ]
    },
    {
     "name": "stdout",
     "output_type": "stream",
     "text": [
      "processing NKE for 20220619 23:59:59 US/Eastern took   3.04 sec\n",
      "processing 20220719 23:59:59 US/Eastern\n"
     ]
    },
    {
     "name": "stderr",
     "output_type": "stream",
     "text": [
      "ERROR -1 502 Couldn't connect to TWS. Confirm that \"Enable ActiveX and Socket EClients\" \n",
      "is enabled and connection port is the same as \"Socket Port\" on the \n",
      "TWS \"Edit->Global Configuration...->API->Settings\" menu. Live Trading ports: \n",
      "TWS: 7496; IB Gateway: 4001. Simulated Trading ports for new installations \n",
      "of version 954.1 or newer:  TWS: 7497; IB Gateway: 4002\n"
     ]
    },
    {
     "name": "stdout",
     "output_type": "stream",
     "text": [
      "processing NKE for 20220719 23:59:59 US/Eastern took   3.06 sec\n",
      "processing 20220818 23:59:59 US/Eastern\n"
     ]
    },
    {
     "name": "stderr",
     "output_type": "stream",
     "text": [
      "ERROR -1 502 Couldn't connect to TWS. Confirm that \"Enable ActiveX and Socket EClients\" \n",
      "is enabled and connection port is the same as \"Socket Port\" on the \n",
      "TWS \"Edit->Global Configuration...->API->Settings\" menu. Live Trading ports: \n",
      "TWS: 7496; IB Gateway: 4001. Simulated Trading ports for new installations \n",
      "of version 954.1 or newer:  TWS: 7497; IB Gateway: 4002\n"
     ]
    },
    {
     "name": "stdout",
     "output_type": "stream",
     "text": [
      "processing NKE for 20220818 23:59:59 US/Eastern took   3.04 sec\n",
      "processing 20220917 23:59:59 US/Eastern\n"
     ]
    },
    {
     "name": "stderr",
     "output_type": "stream",
     "text": [
      "ERROR -1 502 Couldn't connect to TWS. Confirm that \"Enable ActiveX and Socket EClients\" \n",
      "is enabled and connection port is the same as \"Socket Port\" on the \n",
      "TWS \"Edit->Global Configuration...->API->Settings\" menu. Live Trading ports: \n",
      "TWS: 7496; IB Gateway: 4001. Simulated Trading ports for new installations \n",
      "of version 954.1 or newer:  TWS: 7497; IB Gateway: 4002\n"
     ]
    },
    {
     "name": "stdout",
     "output_type": "stream",
     "text": [
      "processing NKE for 20220917 23:59:59 US/Eastern took   3.04 sec\n",
      "processing 20221017 23:59:59 US/Eastern\n"
     ]
    },
    {
     "name": "stderr",
     "output_type": "stream",
     "text": [
      "ERROR -1 502 Couldn't connect to TWS. Confirm that \"Enable ActiveX and Socket EClients\" \n",
      "is enabled and connection port is the same as \"Socket Port\" on the \n",
      "TWS \"Edit->Global Configuration...->API->Settings\" menu. Live Trading ports: \n",
      "TWS: 7496; IB Gateway: 4001. Simulated Trading ports for new installations \n",
      "of version 954.1 or newer:  TWS: 7497; IB Gateway: 4002\n"
     ]
    },
    {
     "name": "stdout",
     "output_type": "stream",
     "text": [
      "processing NKE for 20221017 23:59:59 US/Eastern took   3.05 sec\n",
      "processing 20221116 23:59:59 US/Eastern\n"
     ]
    },
    {
     "name": "stderr",
     "output_type": "stream",
     "text": [
      "ERROR -1 502 Couldn't connect to TWS. Confirm that \"Enable ActiveX and Socket EClients\" \n",
      "is enabled and connection port is the same as \"Socket Port\" on the \n",
      "TWS \"Edit->Global Configuration...->API->Settings\" menu. Live Trading ports: \n",
      "TWS: 7496; IB Gateway: 4001. Simulated Trading ports for new installations \n",
      "of version 954.1 or newer:  TWS: 7497; IB Gateway: 4002\n"
     ]
    },
    {
     "name": "stdout",
     "output_type": "stream",
     "text": [
      "processing NKE for 20221116 23:59:59 US/Eastern took   3.04 sec\n",
      "processing 20221216 23:59:59 US/Eastern\n"
     ]
    },
    {
     "name": "stderr",
     "output_type": "stream",
     "text": [
      "ERROR -1 502 Couldn't connect to TWS. Confirm that \"Enable ActiveX and Socket EClients\" \n",
      "is enabled and connection port is the same as \"Socket Port\" on the \n",
      "TWS \"Edit->Global Configuration...->API->Settings\" menu. Live Trading ports: \n",
      "TWS: 7496; IB Gateway: 4001. Simulated Trading ports for new installations \n",
      "of version 954.1 or newer:  TWS: 7497; IB Gateway: 4002\n"
     ]
    },
    {
     "name": "stdout",
     "output_type": "stream",
     "text": [
      "processing NKE for 20221216 23:59:59 US/Eastern took   3.05 sec\n",
      "processing 20230115 23:59:59 US/Eastern\n"
     ]
    },
    {
     "name": "stderr",
     "output_type": "stream",
     "text": [
      "ERROR -1 502 Couldn't connect to TWS. Confirm that \"Enable ActiveX and Socket EClients\" \n",
      "is enabled and connection port is the same as \"Socket Port\" on the \n",
      "TWS \"Edit->Global Configuration...->API->Settings\" menu. Live Trading ports: \n",
      "TWS: 7496; IB Gateway: 4001. Simulated Trading ports for new installations \n",
      "of version 954.1 or newer:  TWS: 7497; IB Gateway: 4002\n"
     ]
    },
    {
     "name": "stdout",
     "output_type": "stream",
     "text": [
      "processing NKE for 20230115 23:59:59 US/Eastern took   3.03 sec\n",
      "processing 20230214 23:59:59 US/Eastern\n"
     ]
    },
    {
     "name": "stderr",
     "output_type": "stream",
     "text": [
      "ERROR -1 502 Couldn't connect to TWS. Confirm that \"Enable ActiveX and Socket EClients\" \n",
      "is enabled and connection port is the same as \"Socket Port\" on the \n",
      "TWS \"Edit->Global Configuration...->API->Settings\" menu. Live Trading ports: \n",
      "TWS: 7496; IB Gateway: 4001. Simulated Trading ports for new installations \n",
      "of version 954.1 or newer:  TWS: 7497; IB Gateway: 4002\n"
     ]
    },
    {
     "name": "stdout",
     "output_type": "stream",
     "text": [
      "processing NKE for 20230214 23:59:59 US/Eastern took   3.05 sec\n",
      "processing 20230316 23:59:59 US/Eastern\n"
     ]
    },
    {
     "name": "stderr",
     "output_type": "stream",
     "text": [
      "ERROR -1 502 Couldn't connect to TWS. Confirm that \"Enable ActiveX and Socket EClients\" \n",
      "is enabled and connection port is the same as \"Socket Port\" on the \n",
      "TWS \"Edit->Global Configuration...->API->Settings\" menu. Live Trading ports: \n",
      "TWS: 7496; IB Gateway: 4001. Simulated Trading ports for new installations \n",
      "of version 954.1 or newer:  TWS: 7497; IB Gateway: 4002\n"
     ]
    },
    {
     "name": "stdout",
     "output_type": "stream",
     "text": [
      "processing NKE for 20230316 23:59:59 US/Eastern took   3.03 sec\n",
      "Processing PG\n",
      "processing 20200101 23:59:59 US/Eastern\n"
     ]
    },
    {
     "name": "stderr",
     "output_type": "stream",
     "text": [
      "ERROR -1 502 Couldn't connect to TWS. Confirm that \"Enable ActiveX and Socket EClients\" \n",
      "is enabled and connection port is the same as \"Socket Port\" on the \n",
      "TWS \"Edit->Global Configuration...->API->Settings\" menu. Live Trading ports: \n",
      "TWS: 7496; IB Gateway: 4001. Simulated Trading ports for new installations \n",
      "of version 954.1 or newer:  TWS: 7497; IB Gateway: 4002\n"
     ]
    },
    {
     "name": "stdout",
     "output_type": "stream",
     "text": [
      "processing PG for 20200101 23:59:59 US/Eastern took   3.06 sec\n",
      "processing 20200131 23:59:59 US/Eastern\n"
     ]
    },
    {
     "name": "stderr",
     "output_type": "stream",
     "text": [
      "ERROR -1 502 Couldn't connect to TWS. Confirm that \"Enable ActiveX and Socket EClients\" \n",
      "is enabled and connection port is the same as \"Socket Port\" on the \n",
      "TWS \"Edit->Global Configuration...->API->Settings\" menu. Live Trading ports: \n",
      "TWS: 7496; IB Gateway: 4001. Simulated Trading ports for new installations \n",
      "of version 954.1 or newer:  TWS: 7497; IB Gateway: 4002\n"
     ]
    },
    {
     "name": "stdout",
     "output_type": "stream",
     "text": [
      "processing PG for 20200131 23:59:59 US/Eastern took   3.03 sec\n",
      "processing 20200301 23:59:59 US/Eastern\n"
     ]
    },
    {
     "name": "stderr",
     "output_type": "stream",
     "text": [
      "ERROR -1 502 Couldn't connect to TWS. Confirm that \"Enable ActiveX and Socket EClients\" \n",
      "is enabled and connection port is the same as \"Socket Port\" on the \n",
      "TWS \"Edit->Global Configuration...->API->Settings\" menu. Live Trading ports: \n",
      "TWS: 7496; IB Gateway: 4001. Simulated Trading ports for new installations \n",
      "of version 954.1 or newer:  TWS: 7497; IB Gateway: 4002\n"
     ]
    },
    {
     "name": "stdout",
     "output_type": "stream",
     "text": [
      "processing PG for 20200301 23:59:59 US/Eastern took   3.04 sec\n",
      "processing 20200331 23:59:59 US/Eastern\n"
     ]
    },
    {
     "name": "stderr",
     "output_type": "stream",
     "text": [
      "ERROR -1 502 Couldn't connect to TWS. Confirm that \"Enable ActiveX and Socket EClients\" \n",
      "is enabled and connection port is the same as \"Socket Port\" on the \n",
      "TWS \"Edit->Global Configuration...->API->Settings\" menu. Live Trading ports: \n",
      "TWS: 7496; IB Gateway: 4001. Simulated Trading ports for new installations \n",
      "of version 954.1 or newer:  TWS: 7497; IB Gateway: 4002\n"
     ]
    },
    {
     "name": "stdout",
     "output_type": "stream",
     "text": [
      "processing PG for 20200331 23:59:59 US/Eastern took   3.05 sec\n",
      "processing 20200430 23:59:59 US/Eastern\n"
     ]
    },
    {
     "name": "stderr",
     "output_type": "stream",
     "text": [
      "ERROR -1 502 Couldn't connect to TWS. Confirm that \"Enable ActiveX and Socket EClients\" \n",
      "is enabled and connection port is the same as \"Socket Port\" on the \n",
      "TWS \"Edit->Global Configuration...->API->Settings\" menu. Live Trading ports: \n",
      "TWS: 7496; IB Gateway: 4001. Simulated Trading ports for new installations \n",
      "of version 954.1 or newer:  TWS: 7497; IB Gateway: 4002\n"
     ]
    },
    {
     "name": "stdout",
     "output_type": "stream",
     "text": [
      "processing PG for 20200430 23:59:59 US/Eastern took   3.03 sec\n",
      "processing 20200530 23:59:59 US/Eastern\n"
     ]
    },
    {
     "name": "stderr",
     "output_type": "stream",
     "text": [
      "ERROR -1 502 Couldn't connect to TWS. Confirm that \"Enable ActiveX and Socket EClients\" \n",
      "is enabled and connection port is the same as \"Socket Port\" on the \n",
      "TWS \"Edit->Global Configuration...->API->Settings\" menu. Live Trading ports: \n",
      "TWS: 7496; IB Gateway: 4001. Simulated Trading ports for new installations \n",
      "of version 954.1 or newer:  TWS: 7497; IB Gateway: 4002\n"
     ]
    },
    {
     "name": "stdout",
     "output_type": "stream",
     "text": [
      "processing PG for 20200530 23:59:59 US/Eastern took   3.06 sec\n",
      "processing 20200629 23:59:59 US/Eastern\n"
     ]
    },
    {
     "name": "stderr",
     "output_type": "stream",
     "text": [
      "ERROR -1 502 Couldn't connect to TWS. Confirm that \"Enable ActiveX and Socket EClients\" \n",
      "is enabled and connection port is the same as \"Socket Port\" on the \n",
      "TWS \"Edit->Global Configuration...->API->Settings\" menu. Live Trading ports: \n",
      "TWS: 7496; IB Gateway: 4001. Simulated Trading ports for new installations \n",
      "of version 954.1 or newer:  TWS: 7497; IB Gateway: 4002\n"
     ]
    },
    {
     "name": "stdout",
     "output_type": "stream",
     "text": [
      "processing PG for 20200629 23:59:59 US/Eastern took   3.05 sec\n",
      "processing 20200729 23:59:59 US/Eastern\n"
     ]
    },
    {
     "name": "stderr",
     "output_type": "stream",
     "text": [
      "ERROR -1 502 Couldn't connect to TWS. Confirm that \"Enable ActiveX and Socket EClients\" \n",
      "is enabled and connection port is the same as \"Socket Port\" on the \n",
      "TWS \"Edit->Global Configuration...->API->Settings\" menu. Live Trading ports: \n",
      "TWS: 7496; IB Gateway: 4001. Simulated Trading ports for new installations \n",
      "of version 954.1 or newer:  TWS: 7497; IB Gateway: 4002\n"
     ]
    },
    {
     "name": "stdout",
     "output_type": "stream",
     "text": [
      "processing PG for 20200729 23:59:59 US/Eastern took   3.06 sec\n",
      "processing 20200828 23:59:59 US/Eastern\n"
     ]
    },
    {
     "name": "stderr",
     "output_type": "stream",
     "text": [
      "ERROR -1 502 Couldn't connect to TWS. Confirm that \"Enable ActiveX and Socket EClients\" \n",
      "is enabled and connection port is the same as \"Socket Port\" on the \n",
      "TWS \"Edit->Global Configuration...->API->Settings\" menu. Live Trading ports: \n",
      "TWS: 7496; IB Gateway: 4001. Simulated Trading ports for new installations \n",
      "of version 954.1 or newer:  TWS: 7497; IB Gateway: 4002\n"
     ]
    },
    {
     "name": "stdout",
     "output_type": "stream",
     "text": [
      "processing PG for 20200828 23:59:59 US/Eastern took   3.04 sec\n",
      "processing 20200927 23:59:59 US/Eastern\n"
     ]
    },
    {
     "name": "stderr",
     "output_type": "stream",
     "text": [
      "ERROR -1 502 Couldn't connect to TWS. Confirm that \"Enable ActiveX and Socket EClients\" \n",
      "is enabled and connection port is the same as \"Socket Port\" on the \n",
      "TWS \"Edit->Global Configuration...->API->Settings\" menu. Live Trading ports: \n",
      "TWS: 7496; IB Gateway: 4001. Simulated Trading ports for new installations \n",
      "of version 954.1 or newer:  TWS: 7497; IB Gateway: 4002\n"
     ]
    },
    {
     "name": "stdout",
     "output_type": "stream",
     "text": [
      "processing PG for 20200927 23:59:59 US/Eastern took   3.05 sec\n",
      "processing 20201027 23:59:59 US/Eastern\n"
     ]
    },
    {
     "name": "stderr",
     "output_type": "stream",
     "text": [
      "ERROR -1 502 Couldn't connect to TWS. Confirm that \"Enable ActiveX and Socket EClients\" \n",
      "is enabled and connection port is the same as \"Socket Port\" on the \n",
      "TWS \"Edit->Global Configuration...->API->Settings\" menu. Live Trading ports: \n",
      "TWS: 7496; IB Gateway: 4001. Simulated Trading ports for new installations \n",
      "of version 954.1 or newer:  TWS: 7497; IB Gateway: 4002\n"
     ]
    },
    {
     "name": "stdout",
     "output_type": "stream",
     "text": [
      "processing PG for 20201027 23:59:59 US/Eastern took   3.05 sec\n",
      "processing 20201126 23:59:59 US/Eastern\n"
     ]
    },
    {
     "name": "stderr",
     "output_type": "stream",
     "text": [
      "ERROR -1 502 Couldn't connect to TWS. Confirm that \"Enable ActiveX and Socket EClients\" \n",
      "is enabled and connection port is the same as \"Socket Port\" on the \n",
      "TWS \"Edit->Global Configuration...->API->Settings\" menu. Live Trading ports: \n",
      "TWS: 7496; IB Gateway: 4001. Simulated Trading ports for new installations \n",
      "of version 954.1 or newer:  TWS: 7497; IB Gateway: 4002\n"
     ]
    },
    {
     "name": "stdout",
     "output_type": "stream",
     "text": [
      "processing PG for 20201126 23:59:59 US/Eastern took   3.05 sec\n",
      "processing 20201226 23:59:59 US/Eastern\n"
     ]
    },
    {
     "name": "stderr",
     "output_type": "stream",
     "text": [
      "ERROR -1 502 Couldn't connect to TWS. Confirm that \"Enable ActiveX and Socket EClients\" \n",
      "is enabled and connection port is the same as \"Socket Port\" on the \n",
      "TWS \"Edit->Global Configuration...->API->Settings\" menu. Live Trading ports: \n",
      "TWS: 7496; IB Gateway: 4001. Simulated Trading ports for new installations \n",
      "of version 954.1 or newer:  TWS: 7497; IB Gateway: 4002\n"
     ]
    },
    {
     "name": "stdout",
     "output_type": "stream",
     "text": [
      "processing PG for 20201226 23:59:59 US/Eastern took   3.05 sec\n",
      "processing 20210125 23:59:59 US/Eastern\n"
     ]
    },
    {
     "name": "stderr",
     "output_type": "stream",
     "text": [
      "ERROR -1 502 Couldn't connect to TWS. Confirm that \"Enable ActiveX and Socket EClients\" \n",
      "is enabled and connection port is the same as \"Socket Port\" on the \n",
      "TWS \"Edit->Global Configuration...->API->Settings\" menu. Live Trading ports: \n",
      "TWS: 7496; IB Gateway: 4001. Simulated Trading ports for new installations \n",
      "of version 954.1 or newer:  TWS: 7497; IB Gateway: 4002\n"
     ]
    },
    {
     "name": "stdout",
     "output_type": "stream",
     "text": [
      "processing PG for 20210125 23:59:59 US/Eastern took   3.05 sec\n",
      "processing 20210224 23:59:59 US/Eastern\n"
     ]
    },
    {
     "name": "stderr",
     "output_type": "stream",
     "text": [
      "ERROR -1 502 Couldn't connect to TWS. Confirm that \"Enable ActiveX and Socket EClients\" \n",
      "is enabled and connection port is the same as \"Socket Port\" on the \n",
      "TWS \"Edit->Global Configuration...->API->Settings\" menu. Live Trading ports: \n",
      "TWS: 7496; IB Gateway: 4001. Simulated Trading ports for new installations \n",
      "of version 954.1 or newer:  TWS: 7497; IB Gateway: 4002\n"
     ]
    },
    {
     "name": "stdout",
     "output_type": "stream",
     "text": [
      "processing PG for 20210224 23:59:59 US/Eastern took   3.04 sec\n",
      "processing 20210326 23:59:59 US/Eastern\n"
     ]
    },
    {
     "name": "stderr",
     "output_type": "stream",
     "text": [
      "ERROR -1 502 Couldn't connect to TWS. Confirm that \"Enable ActiveX and Socket EClients\" \n",
      "is enabled and connection port is the same as \"Socket Port\" on the \n",
      "TWS \"Edit->Global Configuration...->API->Settings\" menu. Live Trading ports: \n",
      "TWS: 7496; IB Gateway: 4001. Simulated Trading ports for new installations \n",
      "of version 954.1 or newer:  TWS: 7497; IB Gateway: 4002\n"
     ]
    },
    {
     "name": "stdout",
     "output_type": "stream",
     "text": [
      "processing PG for 20210326 23:59:59 US/Eastern took   3.05 sec\n",
      "processing 20210425 23:59:59 US/Eastern\n"
     ]
    },
    {
     "name": "stderr",
     "output_type": "stream",
     "text": [
      "ERROR -1 502 Couldn't connect to TWS. Confirm that \"Enable ActiveX and Socket EClients\" \n",
      "is enabled and connection port is the same as \"Socket Port\" on the \n",
      "TWS \"Edit->Global Configuration...->API->Settings\" menu. Live Trading ports: \n",
      "TWS: 7496; IB Gateway: 4001. Simulated Trading ports for new installations \n",
      "of version 954.1 or newer:  TWS: 7497; IB Gateway: 4002\n"
     ]
    },
    {
     "name": "stdout",
     "output_type": "stream",
     "text": [
      "processing PG for 20210425 23:59:59 US/Eastern took   3.05 sec\n",
      "processing 20210525 23:59:59 US/Eastern\n"
     ]
    },
    {
     "name": "stderr",
     "output_type": "stream",
     "text": [
      "ERROR -1 502 Couldn't connect to TWS. Confirm that \"Enable ActiveX and Socket EClients\" \n",
      "is enabled and connection port is the same as \"Socket Port\" on the \n",
      "TWS \"Edit->Global Configuration...->API->Settings\" menu. Live Trading ports: \n",
      "TWS: 7496; IB Gateway: 4001. Simulated Trading ports for new installations \n",
      "of version 954.1 or newer:  TWS: 7497; IB Gateway: 4002\n"
     ]
    },
    {
     "name": "stdout",
     "output_type": "stream",
     "text": [
      "processing PG for 20210525 23:59:59 US/Eastern took   3.07 sec\n",
      "processing 20210624 23:59:59 US/Eastern\n"
     ]
    },
    {
     "name": "stderr",
     "output_type": "stream",
     "text": [
      "ERROR -1 502 Couldn't connect to TWS. Confirm that \"Enable ActiveX and Socket EClients\" \n",
      "is enabled and connection port is the same as \"Socket Port\" on the \n",
      "TWS \"Edit->Global Configuration...->API->Settings\" menu. Live Trading ports: \n",
      "TWS: 7496; IB Gateway: 4001. Simulated Trading ports for new installations \n",
      "of version 954.1 or newer:  TWS: 7497; IB Gateway: 4002\n"
     ]
    },
    {
     "name": "stdout",
     "output_type": "stream",
     "text": [
      "processing PG for 20210624 23:59:59 US/Eastern took   3.04 sec\n",
      "processing 20210724 23:59:59 US/Eastern\n"
     ]
    },
    {
     "name": "stderr",
     "output_type": "stream",
     "text": [
      "ERROR -1 502 Couldn't connect to TWS. Confirm that \"Enable ActiveX and Socket EClients\" \n",
      "is enabled and connection port is the same as \"Socket Port\" on the \n",
      "TWS \"Edit->Global Configuration...->API->Settings\" menu. Live Trading ports: \n",
      "TWS: 7496; IB Gateway: 4001. Simulated Trading ports for new installations \n",
      "of version 954.1 or newer:  TWS: 7497; IB Gateway: 4002\n"
     ]
    },
    {
     "name": "stdout",
     "output_type": "stream",
     "text": [
      "processing PG for 20210724 23:59:59 US/Eastern took   3.05 sec\n",
      "processing 20210823 23:59:59 US/Eastern\n"
     ]
    },
    {
     "name": "stderr",
     "output_type": "stream",
     "text": [
      "ERROR -1 502 Couldn't connect to TWS. Confirm that \"Enable ActiveX and Socket EClients\" \n",
      "is enabled and connection port is the same as \"Socket Port\" on the \n",
      "TWS \"Edit->Global Configuration...->API->Settings\" menu. Live Trading ports: \n",
      "TWS: 7496; IB Gateway: 4001. Simulated Trading ports for new installations \n",
      "of version 954.1 or newer:  TWS: 7497; IB Gateway: 4002\n"
     ]
    },
    {
     "name": "stdout",
     "output_type": "stream",
     "text": [
      "processing PG for 20210823 23:59:59 US/Eastern took   3.06 sec\n",
      "processing 20210922 23:59:59 US/Eastern\n"
     ]
    },
    {
     "name": "stderr",
     "output_type": "stream",
     "text": [
      "ERROR -1 502 Couldn't connect to TWS. Confirm that \"Enable ActiveX and Socket EClients\" \n",
      "is enabled and connection port is the same as \"Socket Port\" on the \n",
      "TWS \"Edit->Global Configuration...->API->Settings\" menu. Live Trading ports: \n",
      "TWS: 7496; IB Gateway: 4001. Simulated Trading ports for new installations \n",
      "of version 954.1 or newer:  TWS: 7497; IB Gateway: 4002\n"
     ]
    },
    {
     "name": "stdout",
     "output_type": "stream",
     "text": [
      "processing PG for 20210922 23:59:59 US/Eastern took   3.04 sec\n",
      "processing 20211022 23:59:59 US/Eastern\n"
     ]
    },
    {
     "name": "stderr",
     "output_type": "stream",
     "text": [
      "ERROR -1 502 Couldn't connect to TWS. Confirm that \"Enable ActiveX and Socket EClients\" \n",
      "is enabled and connection port is the same as \"Socket Port\" on the \n",
      "TWS \"Edit->Global Configuration...->API->Settings\" menu. Live Trading ports: \n",
      "TWS: 7496; IB Gateway: 4001. Simulated Trading ports for new installations \n",
      "of version 954.1 or newer:  TWS: 7497; IB Gateway: 4002\n"
     ]
    },
    {
     "name": "stdout",
     "output_type": "stream",
     "text": [
      "processing PG for 20211022 23:59:59 US/Eastern took   3.04 sec\n",
      "processing 20211121 23:59:59 US/Eastern\n"
     ]
    },
    {
     "name": "stderr",
     "output_type": "stream",
     "text": [
      "ERROR -1 502 Couldn't connect to TWS. Confirm that \"Enable ActiveX and Socket EClients\" \n",
      "is enabled and connection port is the same as \"Socket Port\" on the \n",
      "TWS \"Edit->Global Configuration...->API->Settings\" menu. Live Trading ports: \n",
      "TWS: 7496; IB Gateway: 4001. Simulated Trading ports for new installations \n",
      "of version 954.1 or newer:  TWS: 7497; IB Gateway: 4002\n"
     ]
    },
    {
     "name": "stdout",
     "output_type": "stream",
     "text": [
      "processing PG for 20211121 23:59:59 US/Eastern took   3.06 sec\n",
      "processing 20211221 23:59:59 US/Eastern\n"
     ]
    },
    {
     "name": "stderr",
     "output_type": "stream",
     "text": [
      "ERROR -1 502 Couldn't connect to TWS. Confirm that \"Enable ActiveX and Socket EClients\" \n",
      "is enabled and connection port is the same as \"Socket Port\" on the \n",
      "TWS \"Edit->Global Configuration...->API->Settings\" menu. Live Trading ports: \n",
      "TWS: 7496; IB Gateway: 4001. Simulated Trading ports for new installations \n",
      "of version 954.1 or newer:  TWS: 7497; IB Gateway: 4002\n"
     ]
    },
    {
     "name": "stdout",
     "output_type": "stream",
     "text": [
      "processing PG for 20211221 23:59:59 US/Eastern took   3.07 sec\n",
      "processing 20220120 23:59:59 US/Eastern\n"
     ]
    },
    {
     "name": "stderr",
     "output_type": "stream",
     "text": [
      "ERROR -1 502 Couldn't connect to TWS. Confirm that \"Enable ActiveX and Socket EClients\" \n",
      "is enabled and connection port is the same as \"Socket Port\" on the \n",
      "TWS \"Edit->Global Configuration...->API->Settings\" menu. Live Trading ports: \n",
      "TWS: 7496; IB Gateway: 4001. Simulated Trading ports for new installations \n",
      "of version 954.1 or newer:  TWS: 7497; IB Gateway: 4002\n"
     ]
    },
    {
     "name": "stdout",
     "output_type": "stream",
     "text": [
      "processing PG for 20220120 23:59:59 US/Eastern took   3.04 sec\n",
      "processing 20220219 23:59:59 US/Eastern\n"
     ]
    },
    {
     "name": "stderr",
     "output_type": "stream",
     "text": [
      "ERROR -1 502 Couldn't connect to TWS. Confirm that \"Enable ActiveX and Socket EClients\" \n",
      "is enabled and connection port is the same as \"Socket Port\" on the \n",
      "TWS \"Edit->Global Configuration...->API->Settings\" menu. Live Trading ports: \n",
      "TWS: 7496; IB Gateway: 4001. Simulated Trading ports for new installations \n",
      "of version 954.1 or newer:  TWS: 7497; IB Gateway: 4002\n"
     ]
    },
    {
     "name": "stdout",
     "output_type": "stream",
     "text": [
      "processing PG for 20220219 23:59:59 US/Eastern took   3.06 sec\n",
      "processing 20220321 23:59:59 US/Eastern\n"
     ]
    },
    {
     "name": "stderr",
     "output_type": "stream",
     "text": [
      "ERROR -1 502 Couldn't connect to TWS. Confirm that \"Enable ActiveX and Socket EClients\" \n",
      "is enabled and connection port is the same as \"Socket Port\" on the \n",
      "TWS \"Edit->Global Configuration...->API->Settings\" menu. Live Trading ports: \n",
      "TWS: 7496; IB Gateway: 4001. Simulated Trading ports for new installations \n",
      "of version 954.1 or newer:  TWS: 7497; IB Gateway: 4002\n"
     ]
    },
    {
     "name": "stdout",
     "output_type": "stream",
     "text": [
      "processing PG for 20220321 23:59:59 US/Eastern took   3.07 sec\n",
      "processing 20220420 23:59:59 US/Eastern\n"
     ]
    },
    {
     "name": "stderr",
     "output_type": "stream",
     "text": [
      "ERROR -1 502 Couldn't connect to TWS. Confirm that \"Enable ActiveX and Socket EClients\" \n",
      "is enabled and connection port is the same as \"Socket Port\" on the \n",
      "TWS \"Edit->Global Configuration...->API->Settings\" menu. Live Trading ports: \n",
      "TWS: 7496; IB Gateway: 4001. Simulated Trading ports for new installations \n",
      "of version 954.1 or newer:  TWS: 7497; IB Gateway: 4002\n"
     ]
    },
    {
     "name": "stdout",
     "output_type": "stream",
     "text": [
      "processing PG for 20220420 23:59:59 US/Eastern took   3.05 sec\n",
      "processing 20220520 23:59:59 US/Eastern\n"
     ]
    },
    {
     "name": "stderr",
     "output_type": "stream",
     "text": [
      "ERROR -1 502 Couldn't connect to TWS. Confirm that \"Enable ActiveX and Socket EClients\" \n",
      "is enabled and connection port is the same as \"Socket Port\" on the \n",
      "TWS \"Edit->Global Configuration...->API->Settings\" menu. Live Trading ports: \n",
      "TWS: 7496; IB Gateway: 4001. Simulated Trading ports for new installations \n",
      "of version 954.1 or newer:  TWS: 7497; IB Gateway: 4002\n"
     ]
    },
    {
     "name": "stdout",
     "output_type": "stream",
     "text": [
      "processing PG for 20220520 23:59:59 US/Eastern took   3.04 sec\n",
      "processing 20220619 23:59:59 US/Eastern\n"
     ]
    },
    {
     "name": "stderr",
     "output_type": "stream",
     "text": [
      "ERROR -1 502 Couldn't connect to TWS. Confirm that \"Enable ActiveX and Socket EClients\" \n",
      "is enabled and connection port is the same as \"Socket Port\" on the \n",
      "TWS \"Edit->Global Configuration...->API->Settings\" menu. Live Trading ports: \n",
      "TWS: 7496; IB Gateway: 4001. Simulated Trading ports for new installations \n",
      "of version 954.1 or newer:  TWS: 7497; IB Gateway: 4002\n"
     ]
    },
    {
     "name": "stdout",
     "output_type": "stream",
     "text": [
      "processing PG for 20220619 23:59:59 US/Eastern took   3.05 sec\n",
      "processing 20220719 23:59:59 US/Eastern\n"
     ]
    },
    {
     "name": "stderr",
     "output_type": "stream",
     "text": [
      "ERROR -1 502 Couldn't connect to TWS. Confirm that \"Enable ActiveX and Socket EClients\" \n",
      "is enabled and connection port is the same as \"Socket Port\" on the \n",
      "TWS \"Edit->Global Configuration...->API->Settings\" menu. Live Trading ports: \n",
      "TWS: 7496; IB Gateway: 4001. Simulated Trading ports for new installations \n",
      "of version 954.1 or newer:  TWS: 7497; IB Gateway: 4002\n"
     ]
    },
    {
     "name": "stdout",
     "output_type": "stream",
     "text": [
      "processing PG for 20220719 23:59:59 US/Eastern took   3.05 sec\n",
      "processing 20220818 23:59:59 US/Eastern\n"
     ]
    },
    {
     "name": "stderr",
     "output_type": "stream",
     "text": [
      "ERROR -1 502 Couldn't connect to TWS. Confirm that \"Enable ActiveX and Socket EClients\" \n",
      "is enabled and connection port is the same as \"Socket Port\" on the \n",
      "TWS \"Edit->Global Configuration...->API->Settings\" menu. Live Trading ports: \n",
      "TWS: 7496; IB Gateway: 4001. Simulated Trading ports for new installations \n",
      "of version 954.1 or newer:  TWS: 7497; IB Gateway: 4002\n"
     ]
    },
    {
     "name": "stdout",
     "output_type": "stream",
     "text": [
      "processing PG for 20220818 23:59:59 US/Eastern took   3.04 sec\n",
      "processing 20220917 23:59:59 US/Eastern\n"
     ]
    },
    {
     "name": "stderr",
     "output_type": "stream",
     "text": [
      "ERROR -1 502 Couldn't connect to TWS. Confirm that \"Enable ActiveX and Socket EClients\" \n",
      "is enabled and connection port is the same as \"Socket Port\" on the \n",
      "TWS \"Edit->Global Configuration...->API->Settings\" menu. Live Trading ports: \n",
      "TWS: 7496; IB Gateway: 4001. Simulated Trading ports for new installations \n",
      "of version 954.1 or newer:  TWS: 7497; IB Gateway: 4002\n"
     ]
    },
    {
     "name": "stdout",
     "output_type": "stream",
     "text": [
      "processing PG for 20220917 23:59:59 US/Eastern took   3.05 sec\n",
      "processing 20221017 23:59:59 US/Eastern\n"
     ]
    },
    {
     "name": "stderr",
     "output_type": "stream",
     "text": [
      "ERROR -1 502 Couldn't connect to TWS. Confirm that \"Enable ActiveX and Socket EClients\" \n",
      "is enabled and connection port is the same as \"Socket Port\" on the \n",
      "TWS \"Edit->Global Configuration...->API->Settings\" menu. Live Trading ports: \n",
      "TWS: 7496; IB Gateway: 4001. Simulated Trading ports for new installations \n",
      "of version 954.1 or newer:  TWS: 7497; IB Gateway: 4002\n"
     ]
    },
    {
     "name": "stdout",
     "output_type": "stream",
     "text": [
      "processing PG for 20221017 23:59:59 US/Eastern took   3.04 sec\n",
      "processing 20221116 23:59:59 US/Eastern\n"
     ]
    },
    {
     "name": "stderr",
     "output_type": "stream",
     "text": [
      "ERROR -1 502 Couldn't connect to TWS. Confirm that \"Enable ActiveX and Socket EClients\" \n",
      "is enabled and connection port is the same as \"Socket Port\" on the \n",
      "TWS \"Edit->Global Configuration...->API->Settings\" menu. Live Trading ports: \n",
      "TWS: 7496; IB Gateway: 4001. Simulated Trading ports for new installations \n",
      "of version 954.1 or newer:  TWS: 7497; IB Gateway: 4002\n"
     ]
    },
    {
     "name": "stdout",
     "output_type": "stream",
     "text": [
      "processing PG for 20221116 23:59:59 US/Eastern took   3.05 sec\n",
      "processing 20221216 23:59:59 US/Eastern\n"
     ]
    },
    {
     "name": "stderr",
     "output_type": "stream",
     "text": [
      "ERROR -1 502 Couldn't connect to TWS. Confirm that \"Enable ActiveX and Socket EClients\" \n",
      "is enabled and connection port is the same as \"Socket Port\" on the \n",
      "TWS \"Edit->Global Configuration...->API->Settings\" menu. Live Trading ports: \n",
      "TWS: 7496; IB Gateway: 4001. Simulated Trading ports for new installations \n",
      "of version 954.1 or newer:  TWS: 7497; IB Gateway: 4002\n"
     ]
    },
    {
     "name": "stdout",
     "output_type": "stream",
     "text": [
      "processing PG for 20221216 23:59:59 US/Eastern took   3.04 sec\n",
      "processing 20230115 23:59:59 US/Eastern\n"
     ]
    },
    {
     "name": "stderr",
     "output_type": "stream",
     "text": [
      "ERROR -1 502 Couldn't connect to TWS. Confirm that \"Enable ActiveX and Socket EClients\" \n",
      "is enabled and connection port is the same as \"Socket Port\" on the \n",
      "TWS \"Edit->Global Configuration...->API->Settings\" menu. Live Trading ports: \n",
      "TWS: 7496; IB Gateway: 4001. Simulated Trading ports for new installations \n",
      "of version 954.1 or newer:  TWS: 7497; IB Gateway: 4002\n"
     ]
    },
    {
     "name": "stdout",
     "output_type": "stream",
     "text": [
      "processing PG for 20230115 23:59:59 US/Eastern took   3.06 sec\n",
      "processing 20230214 23:59:59 US/Eastern\n"
     ]
    },
    {
     "name": "stderr",
     "output_type": "stream",
     "text": [
      "ERROR -1 502 Couldn't connect to TWS. Confirm that \"Enable ActiveX and Socket EClients\" \n",
      "is enabled and connection port is the same as \"Socket Port\" on the \n",
      "TWS \"Edit->Global Configuration...->API->Settings\" menu. Live Trading ports: \n",
      "TWS: 7496; IB Gateway: 4001. Simulated Trading ports for new installations \n",
      "of version 954.1 or newer:  TWS: 7497; IB Gateway: 4002\n"
     ]
    },
    {
     "name": "stdout",
     "output_type": "stream",
     "text": [
      "processing PG for 20230214 23:59:59 US/Eastern took   3.06 sec\n",
      "processing 20230316 23:59:59 US/Eastern\n"
     ]
    },
    {
     "name": "stderr",
     "output_type": "stream",
     "text": [
      "ERROR -1 502 Couldn't connect to TWS. Confirm that \"Enable ActiveX and Socket EClients\" \n",
      "is enabled and connection port is the same as \"Socket Port\" on the \n",
      "TWS \"Edit->Global Configuration...->API->Settings\" menu. Live Trading ports: \n",
      "TWS: 7496; IB Gateway: 4001. Simulated Trading ports for new installations \n",
      "of version 954.1 or newer:  TWS: 7497; IB Gateway: 4002\n"
     ]
    },
    {
     "name": "stdout",
     "output_type": "stream",
     "text": [
      "processing PG for 20230316 23:59:59 US/Eastern took   3.06 sec\n",
      "Processing TRV\n",
      "processing 20200101 23:59:59 US/Eastern\n"
     ]
    },
    {
     "name": "stderr",
     "output_type": "stream",
     "text": [
      "ERROR -1 502 Couldn't connect to TWS. Confirm that \"Enable ActiveX and Socket EClients\" \n",
      "is enabled and connection port is the same as \"Socket Port\" on the \n",
      "TWS \"Edit->Global Configuration...->API->Settings\" menu. Live Trading ports: \n",
      "TWS: 7496; IB Gateway: 4001. Simulated Trading ports for new installations \n",
      "of version 954.1 or newer:  TWS: 7497; IB Gateway: 4002\n"
     ]
    },
    {
     "name": "stdout",
     "output_type": "stream",
     "text": [
      "processing TRV for 20200101 23:59:59 US/Eastern took   3.04 sec\n",
      "processing 20200131 23:59:59 US/Eastern\n"
     ]
    },
    {
     "name": "stderr",
     "output_type": "stream",
     "text": [
      "ERROR -1 502 Couldn't connect to TWS. Confirm that \"Enable ActiveX and Socket EClients\" \n",
      "is enabled and connection port is the same as \"Socket Port\" on the \n",
      "TWS \"Edit->Global Configuration...->API->Settings\" menu. Live Trading ports: \n",
      "TWS: 7496; IB Gateway: 4001. Simulated Trading ports for new installations \n",
      "of version 954.1 or newer:  TWS: 7497; IB Gateway: 4002\n"
     ]
    },
    {
     "name": "stdout",
     "output_type": "stream",
     "text": [
      "processing TRV for 20200131 23:59:59 US/Eastern took   3.07 sec\n",
      "processing 20200301 23:59:59 US/Eastern\n"
     ]
    },
    {
     "name": "stderr",
     "output_type": "stream",
     "text": [
      "ERROR -1 502 Couldn't connect to TWS. Confirm that \"Enable ActiveX and Socket EClients\" \n",
      "is enabled and connection port is the same as \"Socket Port\" on the \n",
      "TWS \"Edit->Global Configuration...->API->Settings\" menu. Live Trading ports: \n",
      "TWS: 7496; IB Gateway: 4001. Simulated Trading ports for new installations \n",
      "of version 954.1 or newer:  TWS: 7497; IB Gateway: 4002\n"
     ]
    },
    {
     "name": "stdout",
     "output_type": "stream",
     "text": [
      "processing TRV for 20200301 23:59:59 US/Eastern took   3.04 sec\n",
      "processing 20200331 23:59:59 US/Eastern\n"
     ]
    },
    {
     "name": "stderr",
     "output_type": "stream",
     "text": [
      "ERROR -1 502 Couldn't connect to TWS. Confirm that \"Enable ActiveX and Socket EClients\" \n",
      "is enabled and connection port is the same as \"Socket Port\" on the \n",
      "TWS \"Edit->Global Configuration...->API->Settings\" menu. Live Trading ports: \n",
      "TWS: 7496; IB Gateway: 4001. Simulated Trading ports for new installations \n",
      "of version 954.1 or newer:  TWS: 7497; IB Gateway: 4002\n"
     ]
    },
    {
     "name": "stdout",
     "output_type": "stream",
     "text": [
      "processing TRV for 20200331 23:59:59 US/Eastern took   3.05 sec\n",
      "processing 20200430 23:59:59 US/Eastern\n"
     ]
    },
    {
     "name": "stderr",
     "output_type": "stream",
     "text": [
      "ERROR -1 502 Couldn't connect to TWS. Confirm that \"Enable ActiveX and Socket EClients\" \n",
      "is enabled and connection port is the same as \"Socket Port\" on the \n",
      "TWS \"Edit->Global Configuration...->API->Settings\" menu. Live Trading ports: \n",
      "TWS: 7496; IB Gateway: 4001. Simulated Trading ports for new installations \n",
      "of version 954.1 or newer:  TWS: 7497; IB Gateway: 4002\n"
     ]
    },
    {
     "name": "stdout",
     "output_type": "stream",
     "text": [
      "processing TRV for 20200430 23:59:59 US/Eastern took   3.04 sec\n",
      "processing 20200530 23:59:59 US/Eastern\n"
     ]
    },
    {
     "name": "stderr",
     "output_type": "stream",
     "text": [
      "ERROR -1 502 Couldn't connect to TWS. Confirm that \"Enable ActiveX and Socket EClients\" \n",
      "is enabled and connection port is the same as \"Socket Port\" on the \n",
      "TWS \"Edit->Global Configuration...->API->Settings\" menu. Live Trading ports: \n",
      "TWS: 7496; IB Gateway: 4001. Simulated Trading ports for new installations \n",
      "of version 954.1 or newer:  TWS: 7497; IB Gateway: 4002\n"
     ]
    },
    {
     "name": "stdout",
     "output_type": "stream",
     "text": [
      "processing TRV for 20200530 23:59:59 US/Eastern took   3.05 sec\n",
      "processing 20200629 23:59:59 US/Eastern\n"
     ]
    },
    {
     "name": "stderr",
     "output_type": "stream",
     "text": [
      "ERROR -1 502 Couldn't connect to TWS. Confirm that \"Enable ActiveX and Socket EClients\" \n",
      "is enabled and connection port is the same as \"Socket Port\" on the \n",
      "TWS \"Edit->Global Configuration...->API->Settings\" menu. Live Trading ports: \n",
      "TWS: 7496; IB Gateway: 4001. Simulated Trading ports for new installations \n",
      "of version 954.1 or newer:  TWS: 7497; IB Gateway: 4002\n"
     ]
    },
    {
     "name": "stdout",
     "output_type": "stream",
     "text": [
      "processing TRV for 20200629 23:59:59 US/Eastern took   3.07 sec\n",
      "processing 20200729 23:59:59 US/Eastern\n"
     ]
    },
    {
     "name": "stderr",
     "output_type": "stream",
     "text": [
      "ERROR -1 502 Couldn't connect to TWS. Confirm that \"Enable ActiveX and Socket EClients\" \n",
      "is enabled and connection port is the same as \"Socket Port\" on the \n",
      "TWS \"Edit->Global Configuration...->API->Settings\" menu. Live Trading ports: \n",
      "TWS: 7496; IB Gateway: 4001. Simulated Trading ports for new installations \n",
      "of version 954.1 or newer:  TWS: 7497; IB Gateway: 4002\n"
     ]
    },
    {
     "name": "stdout",
     "output_type": "stream",
     "text": [
      "processing TRV for 20200729 23:59:59 US/Eastern took   3.06 sec\n",
      "processing 20200828 23:59:59 US/Eastern\n"
     ]
    },
    {
     "name": "stderr",
     "output_type": "stream",
     "text": [
      "ERROR -1 502 Couldn't connect to TWS. Confirm that \"Enable ActiveX and Socket EClients\" \n",
      "is enabled and connection port is the same as \"Socket Port\" on the \n",
      "TWS \"Edit->Global Configuration...->API->Settings\" menu. Live Trading ports: \n",
      "TWS: 7496; IB Gateway: 4001. Simulated Trading ports for new installations \n",
      "of version 954.1 or newer:  TWS: 7497; IB Gateway: 4002\n"
     ]
    },
    {
     "name": "stdout",
     "output_type": "stream",
     "text": [
      "processing TRV for 20200828 23:59:59 US/Eastern took   3.06 sec\n",
      "processing 20200927 23:59:59 US/Eastern\n"
     ]
    },
    {
     "name": "stderr",
     "output_type": "stream",
     "text": [
      "ERROR -1 502 Couldn't connect to TWS. Confirm that \"Enable ActiveX and Socket EClients\" \n",
      "is enabled and connection port is the same as \"Socket Port\" on the \n",
      "TWS \"Edit->Global Configuration...->API->Settings\" menu. Live Trading ports: \n",
      "TWS: 7496; IB Gateway: 4001. Simulated Trading ports for new installations \n",
      "of version 954.1 or newer:  TWS: 7497; IB Gateway: 4002\n"
     ]
    },
    {
     "name": "stdout",
     "output_type": "stream",
     "text": [
      "processing TRV for 20200927 23:59:59 US/Eastern took   3.03 sec\n",
      "processing 20201027 23:59:59 US/Eastern\n"
     ]
    },
    {
     "name": "stderr",
     "output_type": "stream",
     "text": [
      "ERROR -1 502 Couldn't connect to TWS. Confirm that \"Enable ActiveX and Socket EClients\" \n",
      "is enabled and connection port is the same as \"Socket Port\" on the \n",
      "TWS \"Edit->Global Configuration...->API->Settings\" menu. Live Trading ports: \n",
      "TWS: 7496; IB Gateway: 4001. Simulated Trading ports for new installations \n",
      "of version 954.1 or newer:  TWS: 7497; IB Gateway: 4002\n"
     ]
    },
    {
     "name": "stdout",
     "output_type": "stream",
     "text": [
      "processing TRV for 20201027 23:59:59 US/Eastern took   3.05 sec\n",
      "processing 20201126 23:59:59 US/Eastern\n"
     ]
    },
    {
     "name": "stderr",
     "output_type": "stream",
     "text": [
      "ERROR -1 502 Couldn't connect to TWS. Confirm that \"Enable ActiveX and Socket EClients\" \n",
      "is enabled and connection port is the same as \"Socket Port\" on the \n",
      "TWS \"Edit->Global Configuration...->API->Settings\" menu. Live Trading ports: \n",
      "TWS: 7496; IB Gateway: 4001. Simulated Trading ports for new installations \n",
      "of version 954.1 or newer:  TWS: 7497; IB Gateway: 4002\n"
     ]
    },
    {
     "name": "stdout",
     "output_type": "stream",
     "text": [
      "processing TRV for 20201126 23:59:59 US/Eastern took   3.05 sec\n",
      "processing 20201226 23:59:59 US/Eastern\n"
     ]
    },
    {
     "name": "stderr",
     "output_type": "stream",
     "text": [
      "ERROR -1 502 Couldn't connect to TWS. Confirm that \"Enable ActiveX and Socket EClients\" \n",
      "is enabled and connection port is the same as \"Socket Port\" on the \n",
      "TWS \"Edit->Global Configuration...->API->Settings\" menu. Live Trading ports: \n",
      "TWS: 7496; IB Gateway: 4001. Simulated Trading ports for new installations \n",
      "of version 954.1 or newer:  TWS: 7497; IB Gateway: 4002\n"
     ]
    },
    {
     "name": "stdout",
     "output_type": "stream",
     "text": [
      "processing TRV for 20201226 23:59:59 US/Eastern took   3.04 sec\n",
      "processing 20210125 23:59:59 US/Eastern\n"
     ]
    },
    {
     "name": "stderr",
     "output_type": "stream",
     "text": [
      "ERROR -1 502 Couldn't connect to TWS. Confirm that \"Enable ActiveX and Socket EClients\" \n",
      "is enabled and connection port is the same as \"Socket Port\" on the \n",
      "TWS \"Edit->Global Configuration...->API->Settings\" menu. Live Trading ports: \n",
      "TWS: 7496; IB Gateway: 4001. Simulated Trading ports for new installations \n",
      "of version 954.1 or newer:  TWS: 7497; IB Gateway: 4002\n"
     ]
    },
    {
     "name": "stdout",
     "output_type": "stream",
     "text": [
      "processing TRV for 20210125 23:59:59 US/Eastern took   3.04 sec\n",
      "processing 20210224 23:59:59 US/Eastern\n"
     ]
    },
    {
     "name": "stderr",
     "output_type": "stream",
     "text": [
      "ERROR -1 502 Couldn't connect to TWS. Confirm that \"Enable ActiveX and Socket EClients\" \n",
      "is enabled and connection port is the same as \"Socket Port\" on the \n",
      "TWS \"Edit->Global Configuration...->API->Settings\" menu. Live Trading ports: \n",
      "TWS: 7496; IB Gateway: 4001. Simulated Trading ports for new installations \n",
      "of version 954.1 or newer:  TWS: 7497; IB Gateway: 4002\n"
     ]
    },
    {
     "name": "stdout",
     "output_type": "stream",
     "text": [
      "processing TRV for 20210224 23:59:59 US/Eastern took   3.06 sec\n",
      "processing 20210326 23:59:59 US/Eastern\n"
     ]
    },
    {
     "name": "stderr",
     "output_type": "stream",
     "text": [
      "ERROR -1 502 Couldn't connect to TWS. Confirm that \"Enable ActiveX and Socket EClients\" \n",
      "is enabled and connection port is the same as \"Socket Port\" on the \n",
      "TWS \"Edit->Global Configuration...->API->Settings\" menu. Live Trading ports: \n",
      "TWS: 7496; IB Gateway: 4001. Simulated Trading ports for new installations \n",
      "of version 954.1 or newer:  TWS: 7497; IB Gateway: 4002\n"
     ]
    },
    {
     "name": "stdout",
     "output_type": "stream",
     "text": [
      "processing TRV for 20210326 23:59:59 US/Eastern took   3.05 sec\n",
      "processing 20210425 23:59:59 US/Eastern\n"
     ]
    },
    {
     "name": "stderr",
     "output_type": "stream",
     "text": [
      "ERROR -1 502 Couldn't connect to TWS. Confirm that \"Enable ActiveX and Socket EClients\" \n",
      "is enabled and connection port is the same as \"Socket Port\" on the \n",
      "TWS \"Edit->Global Configuration...->API->Settings\" menu. Live Trading ports: \n",
      "TWS: 7496; IB Gateway: 4001. Simulated Trading ports for new installations \n",
      "of version 954.1 or newer:  TWS: 7497; IB Gateway: 4002\n"
     ]
    },
    {
     "name": "stdout",
     "output_type": "stream",
     "text": [
      "processing TRV for 20210425 23:59:59 US/Eastern took   3.05 sec\n",
      "processing 20210525 23:59:59 US/Eastern\n"
     ]
    },
    {
     "name": "stderr",
     "output_type": "stream",
     "text": [
      "ERROR -1 502 Couldn't connect to TWS. Confirm that \"Enable ActiveX and Socket EClients\" \n",
      "is enabled and connection port is the same as \"Socket Port\" on the \n",
      "TWS \"Edit->Global Configuration...->API->Settings\" menu. Live Trading ports: \n",
      "TWS: 7496; IB Gateway: 4001. Simulated Trading ports for new installations \n",
      "of version 954.1 or newer:  TWS: 7497; IB Gateway: 4002\n"
     ]
    },
    {
     "name": "stdout",
     "output_type": "stream",
     "text": [
      "processing TRV for 20210525 23:59:59 US/Eastern took   3.04 sec\n",
      "processing 20210624 23:59:59 US/Eastern\n"
     ]
    },
    {
     "name": "stderr",
     "output_type": "stream",
     "text": [
      "ERROR -1 502 Couldn't connect to TWS. Confirm that \"Enable ActiveX and Socket EClients\" \n",
      "is enabled and connection port is the same as \"Socket Port\" on the \n",
      "TWS \"Edit->Global Configuration...->API->Settings\" menu. Live Trading ports: \n",
      "TWS: 7496; IB Gateway: 4001. Simulated Trading ports for new installations \n",
      "of version 954.1 or newer:  TWS: 7497; IB Gateway: 4002\n"
     ]
    },
    {
     "name": "stdout",
     "output_type": "stream",
     "text": [
      "processing TRV for 20210624 23:59:59 US/Eastern took   3.06 sec\n",
      "processing 20210724 23:59:59 US/Eastern\n"
     ]
    },
    {
     "name": "stderr",
     "output_type": "stream",
     "text": [
      "ERROR -1 502 Couldn't connect to TWS. Confirm that \"Enable ActiveX and Socket EClients\" \n",
      "is enabled and connection port is the same as \"Socket Port\" on the \n",
      "TWS \"Edit->Global Configuration...->API->Settings\" menu. Live Trading ports: \n",
      "TWS: 7496; IB Gateway: 4001. Simulated Trading ports for new installations \n",
      "of version 954.1 or newer:  TWS: 7497; IB Gateway: 4002\n"
     ]
    },
    {
     "name": "stdout",
     "output_type": "stream",
     "text": [
      "processing TRV for 20210724 23:59:59 US/Eastern took   3.06 sec\n",
      "processing 20210823 23:59:59 US/Eastern\n"
     ]
    },
    {
     "name": "stderr",
     "output_type": "stream",
     "text": [
      "ERROR -1 502 Couldn't connect to TWS. Confirm that \"Enable ActiveX and Socket EClients\" \n",
      "is enabled and connection port is the same as \"Socket Port\" on the \n",
      "TWS \"Edit->Global Configuration...->API->Settings\" menu. Live Trading ports: \n",
      "TWS: 7496; IB Gateway: 4001. Simulated Trading ports for new installations \n",
      "of version 954.1 or newer:  TWS: 7497; IB Gateway: 4002\n"
     ]
    },
    {
     "name": "stdout",
     "output_type": "stream",
     "text": [
      "processing TRV for 20210823 23:59:59 US/Eastern took   3.07 sec\n",
      "processing 20210922 23:59:59 US/Eastern\n"
     ]
    },
    {
     "name": "stderr",
     "output_type": "stream",
     "text": [
      "ERROR -1 502 Couldn't connect to TWS. Confirm that \"Enable ActiveX and Socket EClients\" \n",
      "is enabled and connection port is the same as \"Socket Port\" on the \n",
      "TWS \"Edit->Global Configuration...->API->Settings\" menu. Live Trading ports: \n",
      "TWS: 7496; IB Gateway: 4001. Simulated Trading ports for new installations \n",
      "of version 954.1 or newer:  TWS: 7497; IB Gateway: 4002\n"
     ]
    },
    {
     "name": "stdout",
     "output_type": "stream",
     "text": [
      "processing TRV for 20210922 23:59:59 US/Eastern took   3.04 sec\n",
      "processing 20211022 23:59:59 US/Eastern\n"
     ]
    },
    {
     "name": "stderr",
     "output_type": "stream",
     "text": [
      "ERROR -1 502 Couldn't connect to TWS. Confirm that \"Enable ActiveX and Socket EClients\" \n",
      "is enabled and connection port is the same as \"Socket Port\" on the \n",
      "TWS \"Edit->Global Configuration...->API->Settings\" menu. Live Trading ports: \n",
      "TWS: 7496; IB Gateway: 4001. Simulated Trading ports for new installations \n",
      "of version 954.1 or newer:  TWS: 7497; IB Gateway: 4002\n"
     ]
    },
    {
     "name": "stdout",
     "output_type": "stream",
     "text": [
      "processing TRV for 20211022 23:59:59 US/Eastern took   3.07 sec\n",
      "processing 20211121 23:59:59 US/Eastern\n"
     ]
    },
    {
     "name": "stderr",
     "output_type": "stream",
     "text": [
      "ERROR -1 502 Couldn't connect to TWS. Confirm that \"Enable ActiveX and Socket EClients\" \n",
      "is enabled and connection port is the same as \"Socket Port\" on the \n",
      "TWS \"Edit->Global Configuration...->API->Settings\" menu. Live Trading ports: \n",
      "TWS: 7496; IB Gateway: 4001. Simulated Trading ports for new installations \n",
      "of version 954.1 or newer:  TWS: 7497; IB Gateway: 4002\n"
     ]
    },
    {
     "name": "stdout",
     "output_type": "stream",
     "text": [
      "processing TRV for 20211121 23:59:59 US/Eastern took   3.04 sec\n",
      "processing 20211221 23:59:59 US/Eastern\n"
     ]
    },
    {
     "name": "stderr",
     "output_type": "stream",
     "text": [
      "ERROR -1 502 Couldn't connect to TWS. Confirm that \"Enable ActiveX and Socket EClients\" \n",
      "is enabled and connection port is the same as \"Socket Port\" on the \n",
      "TWS \"Edit->Global Configuration...->API->Settings\" menu. Live Trading ports: \n",
      "TWS: 7496; IB Gateway: 4001. Simulated Trading ports for new installations \n",
      "of version 954.1 or newer:  TWS: 7497; IB Gateway: 4002\n"
     ]
    },
    {
     "name": "stdout",
     "output_type": "stream",
     "text": [
      "processing TRV for 20211221 23:59:59 US/Eastern took   3.06 sec\n",
      "processing 20220120 23:59:59 US/Eastern\n"
     ]
    },
    {
     "name": "stderr",
     "output_type": "stream",
     "text": [
      "ERROR -1 502 Couldn't connect to TWS. Confirm that \"Enable ActiveX and Socket EClients\" \n",
      "is enabled and connection port is the same as \"Socket Port\" on the \n",
      "TWS \"Edit->Global Configuration...->API->Settings\" menu. Live Trading ports: \n",
      "TWS: 7496; IB Gateway: 4001. Simulated Trading ports for new installations \n",
      "of version 954.1 or newer:  TWS: 7497; IB Gateway: 4002\n"
     ]
    },
    {
     "name": "stdout",
     "output_type": "stream",
     "text": [
      "processing TRV for 20220120 23:59:59 US/Eastern took   3.04 sec\n",
      "processing 20220219 23:59:59 US/Eastern\n"
     ]
    },
    {
     "name": "stderr",
     "output_type": "stream",
     "text": [
      "ERROR -1 502 Couldn't connect to TWS. Confirm that \"Enable ActiveX and Socket EClients\" \n",
      "is enabled and connection port is the same as \"Socket Port\" on the \n",
      "TWS \"Edit->Global Configuration...->API->Settings\" menu. Live Trading ports: \n",
      "TWS: 7496; IB Gateway: 4001. Simulated Trading ports for new installations \n",
      "of version 954.1 or newer:  TWS: 7497; IB Gateway: 4002\n"
     ]
    },
    {
     "name": "stdout",
     "output_type": "stream",
     "text": [
      "processing TRV for 20220219 23:59:59 US/Eastern took   3.08 sec\n",
      "processing 20220321 23:59:59 US/Eastern\n"
     ]
    },
    {
     "name": "stderr",
     "output_type": "stream",
     "text": [
      "ERROR -1 502 Couldn't connect to TWS. Confirm that \"Enable ActiveX and Socket EClients\" \n",
      "is enabled and connection port is the same as \"Socket Port\" on the \n",
      "TWS \"Edit->Global Configuration...->API->Settings\" menu. Live Trading ports: \n",
      "TWS: 7496; IB Gateway: 4001. Simulated Trading ports for new installations \n",
      "of version 954.1 or newer:  TWS: 7497; IB Gateway: 4002\n"
     ]
    },
    {
     "name": "stdout",
     "output_type": "stream",
     "text": [
      "processing TRV for 20220321 23:59:59 US/Eastern took   3.04 sec\n",
      "processing 20220420 23:59:59 US/Eastern\n"
     ]
    },
    {
     "name": "stderr",
     "output_type": "stream",
     "text": [
      "ERROR -1 502 Couldn't connect to TWS. Confirm that \"Enable ActiveX and Socket EClients\" \n",
      "is enabled and connection port is the same as \"Socket Port\" on the \n",
      "TWS \"Edit->Global Configuration...->API->Settings\" menu. Live Trading ports: \n",
      "TWS: 7496; IB Gateway: 4001. Simulated Trading ports for new installations \n",
      "of version 954.1 or newer:  TWS: 7497; IB Gateway: 4002\n"
     ]
    },
    {
     "name": "stdout",
     "output_type": "stream",
     "text": [
      "processing TRV for 20220420 23:59:59 US/Eastern took   3.06 sec\n",
      "processing 20220520 23:59:59 US/Eastern\n"
     ]
    },
    {
     "name": "stderr",
     "output_type": "stream",
     "text": [
      "ERROR -1 502 Couldn't connect to TWS. Confirm that \"Enable ActiveX and Socket EClients\" \n",
      "is enabled and connection port is the same as \"Socket Port\" on the \n",
      "TWS \"Edit->Global Configuration...->API->Settings\" menu. Live Trading ports: \n",
      "TWS: 7496; IB Gateway: 4001. Simulated Trading ports for new installations \n",
      "of version 954.1 or newer:  TWS: 7497; IB Gateway: 4002\n"
     ]
    },
    {
     "name": "stdout",
     "output_type": "stream",
     "text": [
      "processing TRV for 20220520 23:59:59 US/Eastern took   3.06 sec\n",
      "processing 20220619 23:59:59 US/Eastern\n"
     ]
    },
    {
     "name": "stderr",
     "output_type": "stream",
     "text": [
      "ERROR -1 502 Couldn't connect to TWS. Confirm that \"Enable ActiveX and Socket EClients\" \n",
      "is enabled and connection port is the same as \"Socket Port\" on the \n",
      "TWS \"Edit->Global Configuration...->API->Settings\" menu. Live Trading ports: \n",
      "TWS: 7496; IB Gateway: 4001. Simulated Trading ports for new installations \n",
      "of version 954.1 or newer:  TWS: 7497; IB Gateway: 4002\n"
     ]
    },
    {
     "name": "stdout",
     "output_type": "stream",
     "text": [
      "processing TRV for 20220619 23:59:59 US/Eastern took   3.05 sec\n",
      "processing 20220719 23:59:59 US/Eastern\n"
     ]
    },
    {
     "name": "stderr",
     "output_type": "stream",
     "text": [
      "ERROR -1 502 Couldn't connect to TWS. Confirm that \"Enable ActiveX and Socket EClients\" \n",
      "is enabled and connection port is the same as \"Socket Port\" on the \n",
      "TWS \"Edit->Global Configuration...->API->Settings\" menu. Live Trading ports: \n",
      "TWS: 7496; IB Gateway: 4001. Simulated Trading ports for new installations \n",
      "of version 954.1 or newer:  TWS: 7497; IB Gateway: 4002\n"
     ]
    },
    {
     "name": "stdout",
     "output_type": "stream",
     "text": [
      "processing TRV for 20220719 23:59:59 US/Eastern took   3.04 sec\n",
      "processing 20220818 23:59:59 US/Eastern\n"
     ]
    },
    {
     "name": "stderr",
     "output_type": "stream",
     "text": [
      "ERROR -1 502 Couldn't connect to TWS. Confirm that \"Enable ActiveX and Socket EClients\" \n",
      "is enabled and connection port is the same as \"Socket Port\" on the \n",
      "TWS \"Edit->Global Configuration...->API->Settings\" menu. Live Trading ports: \n",
      "TWS: 7496; IB Gateway: 4001. Simulated Trading ports for new installations \n",
      "of version 954.1 or newer:  TWS: 7497; IB Gateway: 4002\n"
     ]
    },
    {
     "name": "stdout",
     "output_type": "stream",
     "text": [
      "processing TRV for 20220818 23:59:59 US/Eastern took   3.08 sec\n",
      "processing 20220917 23:59:59 US/Eastern\n"
     ]
    },
    {
     "name": "stderr",
     "output_type": "stream",
     "text": [
      "ERROR -1 502 Couldn't connect to TWS. Confirm that \"Enable ActiveX and Socket EClients\" \n",
      "is enabled and connection port is the same as \"Socket Port\" on the \n",
      "TWS \"Edit->Global Configuration...->API->Settings\" menu. Live Trading ports: \n",
      "TWS: 7496; IB Gateway: 4001. Simulated Trading ports for new installations \n",
      "of version 954.1 or newer:  TWS: 7497; IB Gateway: 4002\n"
     ]
    },
    {
     "name": "stdout",
     "output_type": "stream",
     "text": [
      "processing TRV for 20220917 23:59:59 US/Eastern took   3.04 sec\n",
      "processing 20221017 23:59:59 US/Eastern\n"
     ]
    },
    {
     "name": "stderr",
     "output_type": "stream",
     "text": [
      "ERROR -1 502 Couldn't connect to TWS. Confirm that \"Enable ActiveX and Socket EClients\" \n",
      "is enabled and connection port is the same as \"Socket Port\" on the \n",
      "TWS \"Edit->Global Configuration...->API->Settings\" menu. Live Trading ports: \n",
      "TWS: 7496; IB Gateway: 4001. Simulated Trading ports for new installations \n",
      "of version 954.1 or newer:  TWS: 7497; IB Gateway: 4002\n"
     ]
    },
    {
     "name": "stdout",
     "output_type": "stream",
     "text": [
      "processing TRV for 20221017 23:59:59 US/Eastern took   3.05 sec\n",
      "processing 20221116 23:59:59 US/Eastern\n"
     ]
    },
    {
     "name": "stderr",
     "output_type": "stream",
     "text": [
      "ERROR -1 502 Couldn't connect to TWS. Confirm that \"Enable ActiveX and Socket EClients\" \n",
      "is enabled and connection port is the same as \"Socket Port\" on the \n",
      "TWS \"Edit->Global Configuration...->API->Settings\" menu. Live Trading ports: \n",
      "TWS: 7496; IB Gateway: 4001. Simulated Trading ports for new installations \n",
      "of version 954.1 or newer:  TWS: 7497; IB Gateway: 4002\n"
     ]
    },
    {
     "name": "stdout",
     "output_type": "stream",
     "text": [
      "processing TRV for 20221116 23:59:59 US/Eastern took   3.07 sec\n",
      "processing 20221216 23:59:59 US/Eastern\n"
     ]
    },
    {
     "name": "stderr",
     "output_type": "stream",
     "text": [
      "ERROR -1 502 Couldn't connect to TWS. Confirm that \"Enable ActiveX and Socket EClients\" \n",
      "is enabled and connection port is the same as \"Socket Port\" on the \n",
      "TWS \"Edit->Global Configuration...->API->Settings\" menu. Live Trading ports: \n",
      "TWS: 7496; IB Gateway: 4001. Simulated Trading ports for new installations \n",
      "of version 954.1 or newer:  TWS: 7497; IB Gateway: 4002\n"
     ]
    },
    {
     "name": "stdout",
     "output_type": "stream",
     "text": [
      "processing TRV for 20221216 23:59:59 US/Eastern took   3.03 sec\n",
      "processing 20230115 23:59:59 US/Eastern\n"
     ]
    },
    {
     "name": "stderr",
     "output_type": "stream",
     "text": [
      "ERROR -1 502 Couldn't connect to TWS. Confirm that \"Enable ActiveX and Socket EClients\" \n",
      "is enabled and connection port is the same as \"Socket Port\" on the \n",
      "TWS \"Edit->Global Configuration...->API->Settings\" menu. Live Trading ports: \n",
      "TWS: 7496; IB Gateway: 4001. Simulated Trading ports for new installations \n",
      "of version 954.1 or newer:  TWS: 7497; IB Gateway: 4002\n"
     ]
    },
    {
     "name": "stdout",
     "output_type": "stream",
     "text": [
      "processing TRV for 20230115 23:59:59 US/Eastern took   3.05 sec\n",
      "processing 20230214 23:59:59 US/Eastern\n"
     ]
    },
    {
     "name": "stderr",
     "output_type": "stream",
     "text": [
      "ERROR -1 502 Couldn't connect to TWS. Confirm that \"Enable ActiveX and Socket EClients\" \n",
      "is enabled and connection port is the same as \"Socket Port\" on the \n",
      "TWS \"Edit->Global Configuration...->API->Settings\" menu. Live Trading ports: \n",
      "TWS: 7496; IB Gateway: 4001. Simulated Trading ports for new installations \n",
      "of version 954.1 or newer:  TWS: 7497; IB Gateway: 4002\n"
     ]
    },
    {
     "name": "stdout",
     "output_type": "stream",
     "text": [
      "processing TRV for 20230214 23:59:59 US/Eastern took   3.06 sec\n",
      "processing 20230316 23:59:59 US/Eastern\n"
     ]
    },
    {
     "name": "stderr",
     "output_type": "stream",
     "text": [
      "ERROR -1 502 Couldn't connect to TWS. Confirm that \"Enable ActiveX and Socket EClients\" \n",
      "is enabled and connection port is the same as \"Socket Port\" on the \n",
      "TWS \"Edit->Global Configuration...->API->Settings\" menu. Live Trading ports: \n",
      "TWS: 7496; IB Gateway: 4001. Simulated Trading ports for new installations \n",
      "of version 954.1 or newer:  TWS: 7497; IB Gateway: 4002\n"
     ]
    },
    {
     "name": "stdout",
     "output_type": "stream",
     "text": [
      "processing TRV for 20230316 23:59:59 US/Eastern took   3.08 sec\n",
      "Processing UNH\n",
      "processing 20200101 23:59:59 US/Eastern\n"
     ]
    },
    {
     "name": "stderr",
     "output_type": "stream",
     "text": [
      "ERROR -1 502 Couldn't connect to TWS. Confirm that \"Enable ActiveX and Socket EClients\" \n",
      "is enabled and connection port is the same as \"Socket Port\" on the \n",
      "TWS \"Edit->Global Configuration...->API->Settings\" menu. Live Trading ports: \n",
      "TWS: 7496; IB Gateway: 4001. Simulated Trading ports for new installations \n",
      "of version 954.1 or newer:  TWS: 7497; IB Gateway: 4002\n"
     ]
    },
    {
     "name": "stdout",
     "output_type": "stream",
     "text": [
      "processing UNH for 20200101 23:59:59 US/Eastern took   3.06 sec\n",
      "processing 20200131 23:59:59 US/Eastern\n"
     ]
    },
    {
     "name": "stderr",
     "output_type": "stream",
     "text": [
      "ERROR -1 502 Couldn't connect to TWS. Confirm that \"Enable ActiveX and Socket EClients\" \n",
      "is enabled and connection port is the same as \"Socket Port\" on the \n",
      "TWS \"Edit->Global Configuration...->API->Settings\" menu. Live Trading ports: \n",
      "TWS: 7496; IB Gateway: 4001. Simulated Trading ports for new installations \n",
      "of version 954.1 or newer:  TWS: 7497; IB Gateway: 4002\n"
     ]
    },
    {
     "name": "stdout",
     "output_type": "stream",
     "text": [
      "processing UNH for 20200131 23:59:59 US/Eastern took   3.08 sec\n",
      "processing 20200301 23:59:59 US/Eastern\n"
     ]
    },
    {
     "name": "stderr",
     "output_type": "stream",
     "text": [
      "ERROR -1 502 Couldn't connect to TWS. Confirm that \"Enable ActiveX and Socket EClients\" \n",
      "is enabled and connection port is the same as \"Socket Port\" on the \n",
      "TWS \"Edit->Global Configuration...->API->Settings\" menu. Live Trading ports: \n",
      "TWS: 7496; IB Gateway: 4001. Simulated Trading ports for new installations \n",
      "of version 954.1 or newer:  TWS: 7497; IB Gateway: 4002\n"
     ]
    },
    {
     "name": "stdout",
     "output_type": "stream",
     "text": [
      "processing UNH for 20200301 23:59:59 US/Eastern took   3.06 sec\n",
      "processing 20200331 23:59:59 US/Eastern\n"
     ]
    },
    {
     "name": "stderr",
     "output_type": "stream",
     "text": [
      "ERROR -1 502 Couldn't connect to TWS. Confirm that \"Enable ActiveX and Socket EClients\" \n",
      "is enabled and connection port is the same as \"Socket Port\" on the \n",
      "TWS \"Edit->Global Configuration...->API->Settings\" menu. Live Trading ports: \n",
      "TWS: 7496; IB Gateway: 4001. Simulated Trading ports for new installations \n",
      "of version 954.1 or newer:  TWS: 7497; IB Gateway: 4002\n"
     ]
    },
    {
     "name": "stdout",
     "output_type": "stream",
     "text": [
      "processing UNH for 20200331 23:59:59 US/Eastern took   3.06 sec\n",
      "processing 20200430 23:59:59 US/Eastern\n"
     ]
    },
    {
     "name": "stderr",
     "output_type": "stream",
     "text": [
      "ERROR -1 502 Couldn't connect to TWS. Confirm that \"Enable ActiveX and Socket EClients\" \n",
      "is enabled and connection port is the same as \"Socket Port\" on the \n",
      "TWS \"Edit->Global Configuration...->API->Settings\" menu. Live Trading ports: \n",
      "TWS: 7496; IB Gateway: 4001. Simulated Trading ports for new installations \n",
      "of version 954.1 or newer:  TWS: 7497; IB Gateway: 4002\n"
     ]
    },
    {
     "name": "stdout",
     "output_type": "stream",
     "text": [
      "processing UNH for 20200430 23:59:59 US/Eastern took   3.05 sec\n",
      "processing 20200530 23:59:59 US/Eastern\n"
     ]
    },
    {
     "name": "stderr",
     "output_type": "stream",
     "text": [
      "ERROR -1 502 Couldn't connect to TWS. Confirm that \"Enable ActiveX and Socket EClients\" \n",
      "is enabled and connection port is the same as \"Socket Port\" on the \n",
      "TWS \"Edit->Global Configuration...->API->Settings\" menu. Live Trading ports: \n",
      "TWS: 7496; IB Gateway: 4001. Simulated Trading ports for new installations \n",
      "of version 954.1 or newer:  TWS: 7497; IB Gateway: 4002\n"
     ]
    },
    {
     "name": "stdout",
     "output_type": "stream",
     "text": [
      "processing UNH for 20200530 23:59:59 US/Eastern took   3.05 sec\n",
      "processing 20200629 23:59:59 US/Eastern\n"
     ]
    },
    {
     "name": "stderr",
     "output_type": "stream",
     "text": [
      "ERROR -1 502 Couldn't connect to TWS. Confirm that \"Enable ActiveX and Socket EClients\" \n",
      "is enabled and connection port is the same as \"Socket Port\" on the \n",
      "TWS \"Edit->Global Configuration...->API->Settings\" menu. Live Trading ports: \n",
      "TWS: 7496; IB Gateway: 4001. Simulated Trading ports for new installations \n",
      "of version 954.1 or newer:  TWS: 7497; IB Gateway: 4002\n"
     ]
    },
    {
     "name": "stdout",
     "output_type": "stream",
     "text": [
      "processing UNH for 20200629 23:59:59 US/Eastern took   3.05 sec\n",
      "processing 20200729 23:59:59 US/Eastern\n"
     ]
    },
    {
     "name": "stderr",
     "output_type": "stream",
     "text": [
      "ERROR -1 502 Couldn't connect to TWS. Confirm that \"Enable ActiveX and Socket EClients\" \n",
      "is enabled and connection port is the same as \"Socket Port\" on the \n",
      "TWS \"Edit->Global Configuration...->API->Settings\" menu. Live Trading ports: \n",
      "TWS: 7496; IB Gateway: 4001. Simulated Trading ports for new installations \n",
      "of version 954.1 or newer:  TWS: 7497; IB Gateway: 4002\n"
     ]
    },
    {
     "name": "stdout",
     "output_type": "stream",
     "text": [
      "processing UNH for 20200729 23:59:59 US/Eastern took   3.04 sec\n",
      "processing 20200828 23:59:59 US/Eastern\n"
     ]
    },
    {
     "name": "stderr",
     "output_type": "stream",
     "text": [
      "ERROR -1 502 Couldn't connect to TWS. Confirm that \"Enable ActiveX and Socket EClients\" \n",
      "is enabled and connection port is the same as \"Socket Port\" on the \n",
      "TWS \"Edit->Global Configuration...->API->Settings\" menu. Live Trading ports: \n",
      "TWS: 7496; IB Gateway: 4001. Simulated Trading ports for new installations \n",
      "of version 954.1 or newer:  TWS: 7497; IB Gateway: 4002\n"
     ]
    },
    {
     "name": "stdout",
     "output_type": "stream",
     "text": [
      "processing UNH for 20200828 23:59:59 US/Eastern took   3.03 sec\n",
      "processing 20200927 23:59:59 US/Eastern\n"
     ]
    },
    {
     "name": "stderr",
     "output_type": "stream",
     "text": [
      "ERROR -1 502 Couldn't connect to TWS. Confirm that \"Enable ActiveX and Socket EClients\" \n",
      "is enabled and connection port is the same as \"Socket Port\" on the \n",
      "TWS \"Edit->Global Configuration...->API->Settings\" menu. Live Trading ports: \n",
      "TWS: 7496; IB Gateway: 4001. Simulated Trading ports for new installations \n",
      "of version 954.1 or newer:  TWS: 7497; IB Gateway: 4002\n"
     ]
    },
    {
     "name": "stdout",
     "output_type": "stream",
     "text": [
      "processing UNH for 20200927 23:59:59 US/Eastern took   3.08 sec\n",
      "processing 20201027 23:59:59 US/Eastern\n"
     ]
    },
    {
     "name": "stderr",
     "output_type": "stream",
     "text": [
      "ERROR -1 502 Couldn't connect to TWS. Confirm that \"Enable ActiveX and Socket EClients\" \n",
      "is enabled and connection port is the same as \"Socket Port\" on the \n",
      "TWS \"Edit->Global Configuration...->API->Settings\" menu. Live Trading ports: \n",
      "TWS: 7496; IB Gateway: 4001. Simulated Trading ports for new installations \n",
      "of version 954.1 or newer:  TWS: 7497; IB Gateway: 4002\n"
     ]
    },
    {
     "name": "stdout",
     "output_type": "stream",
     "text": [
      "processing UNH for 20201027 23:59:59 US/Eastern took   3.04 sec\n",
      "processing 20201126 23:59:59 US/Eastern\n"
     ]
    },
    {
     "name": "stderr",
     "output_type": "stream",
     "text": [
      "ERROR -1 502 Couldn't connect to TWS. Confirm that \"Enable ActiveX and Socket EClients\" \n",
      "is enabled and connection port is the same as \"Socket Port\" on the \n",
      "TWS \"Edit->Global Configuration...->API->Settings\" menu. Live Trading ports: \n",
      "TWS: 7496; IB Gateway: 4001. Simulated Trading ports for new installations \n",
      "of version 954.1 or newer:  TWS: 7497; IB Gateway: 4002\n"
     ]
    },
    {
     "name": "stdout",
     "output_type": "stream",
     "text": [
      "processing UNH for 20201126 23:59:59 US/Eastern took   3.04 sec\n",
      "processing 20201226 23:59:59 US/Eastern\n"
     ]
    },
    {
     "name": "stderr",
     "output_type": "stream",
     "text": [
      "ERROR -1 502 Couldn't connect to TWS. Confirm that \"Enable ActiveX and Socket EClients\" \n",
      "is enabled and connection port is the same as \"Socket Port\" on the \n",
      "TWS \"Edit->Global Configuration...->API->Settings\" menu. Live Trading ports: \n",
      "TWS: 7496; IB Gateway: 4001. Simulated Trading ports for new installations \n",
      "of version 954.1 or newer:  TWS: 7497; IB Gateway: 4002\n"
     ]
    },
    {
     "name": "stdout",
     "output_type": "stream",
     "text": [
      "processing UNH for 20201226 23:59:59 US/Eastern took   3.05 sec\n",
      "processing 20210125 23:59:59 US/Eastern\n"
     ]
    },
    {
     "name": "stderr",
     "output_type": "stream",
     "text": [
      "ERROR -1 502 Couldn't connect to TWS. Confirm that \"Enable ActiveX and Socket EClients\" \n",
      "is enabled and connection port is the same as \"Socket Port\" on the \n",
      "TWS \"Edit->Global Configuration...->API->Settings\" menu. Live Trading ports: \n",
      "TWS: 7496; IB Gateway: 4001. Simulated Trading ports for new installations \n",
      "of version 954.1 or newer:  TWS: 7497; IB Gateway: 4002\n"
     ]
    },
    {
     "name": "stdout",
     "output_type": "stream",
     "text": [
      "processing UNH for 20210125 23:59:59 US/Eastern took   3.04 sec\n",
      "processing 20210224 23:59:59 US/Eastern\n"
     ]
    },
    {
     "name": "stderr",
     "output_type": "stream",
     "text": [
      "ERROR -1 502 Couldn't connect to TWS. Confirm that \"Enable ActiveX and Socket EClients\" \n",
      "is enabled and connection port is the same as \"Socket Port\" on the \n",
      "TWS \"Edit->Global Configuration...->API->Settings\" menu. Live Trading ports: \n",
      "TWS: 7496; IB Gateway: 4001. Simulated Trading ports for new installations \n",
      "of version 954.1 or newer:  TWS: 7497; IB Gateway: 4002\n"
     ]
    },
    {
     "name": "stdout",
     "output_type": "stream",
     "text": [
      "processing UNH for 20210224 23:59:59 US/Eastern took   3.05 sec\n",
      "processing 20210326 23:59:59 US/Eastern\n"
     ]
    },
    {
     "name": "stderr",
     "output_type": "stream",
     "text": [
      "ERROR -1 502 Couldn't connect to TWS. Confirm that \"Enable ActiveX and Socket EClients\" \n",
      "is enabled and connection port is the same as \"Socket Port\" on the \n",
      "TWS \"Edit->Global Configuration...->API->Settings\" menu. Live Trading ports: \n",
      "TWS: 7496; IB Gateway: 4001. Simulated Trading ports for new installations \n",
      "of version 954.1 or newer:  TWS: 7497; IB Gateway: 4002\n"
     ]
    },
    {
     "name": "stdout",
     "output_type": "stream",
     "text": [
      "processing UNH for 20210326 23:59:59 US/Eastern took   3.05 sec\n",
      "processing 20210425 23:59:59 US/Eastern\n"
     ]
    },
    {
     "name": "stderr",
     "output_type": "stream",
     "text": [
      "ERROR -1 502 Couldn't connect to TWS. Confirm that \"Enable ActiveX and Socket EClients\" \n",
      "is enabled and connection port is the same as \"Socket Port\" on the \n",
      "TWS \"Edit->Global Configuration...->API->Settings\" menu. Live Trading ports: \n",
      "TWS: 7496; IB Gateway: 4001. Simulated Trading ports for new installations \n",
      "of version 954.1 or newer:  TWS: 7497; IB Gateway: 4002\n"
     ]
    },
    {
     "name": "stdout",
     "output_type": "stream",
     "text": [
      "processing UNH for 20210425 23:59:59 US/Eastern took   3.04 sec\n",
      "processing 20210525 23:59:59 US/Eastern\n"
     ]
    },
    {
     "name": "stderr",
     "output_type": "stream",
     "text": [
      "ERROR -1 502 Couldn't connect to TWS. Confirm that \"Enable ActiveX and Socket EClients\" \n",
      "is enabled and connection port is the same as \"Socket Port\" on the \n",
      "TWS \"Edit->Global Configuration...->API->Settings\" menu. Live Trading ports: \n",
      "TWS: 7496; IB Gateway: 4001. Simulated Trading ports for new installations \n",
      "of version 954.1 or newer:  TWS: 7497; IB Gateway: 4002\n"
     ]
    },
    {
     "name": "stdout",
     "output_type": "stream",
     "text": [
      "processing UNH for 20210525 23:59:59 US/Eastern took   3.03 sec\n",
      "processing 20210624 23:59:59 US/Eastern\n"
     ]
    },
    {
     "name": "stderr",
     "output_type": "stream",
     "text": [
      "ERROR -1 502 Couldn't connect to TWS. Confirm that \"Enable ActiveX and Socket EClients\" \n",
      "is enabled and connection port is the same as \"Socket Port\" on the \n",
      "TWS \"Edit->Global Configuration...->API->Settings\" menu. Live Trading ports: \n",
      "TWS: 7496; IB Gateway: 4001. Simulated Trading ports for new installations \n",
      "of version 954.1 or newer:  TWS: 7497; IB Gateway: 4002\n"
     ]
    },
    {
     "name": "stdout",
     "output_type": "stream",
     "text": [
      "processing UNH for 20210624 23:59:59 US/Eastern took   3.05 sec\n",
      "processing 20210724 23:59:59 US/Eastern\n"
     ]
    },
    {
     "name": "stderr",
     "output_type": "stream",
     "text": [
      "ERROR -1 502 Couldn't connect to TWS. Confirm that \"Enable ActiveX and Socket EClients\" \n",
      "is enabled and connection port is the same as \"Socket Port\" on the \n",
      "TWS \"Edit->Global Configuration...->API->Settings\" menu. Live Trading ports: \n",
      "TWS: 7496; IB Gateway: 4001. Simulated Trading ports for new installations \n",
      "of version 954.1 or newer:  TWS: 7497; IB Gateway: 4002\n"
     ]
    },
    {
     "name": "stdout",
     "output_type": "stream",
     "text": [
      "processing UNH for 20210724 23:59:59 US/Eastern took   3.05 sec\n",
      "processing 20210823 23:59:59 US/Eastern\n"
     ]
    },
    {
     "name": "stderr",
     "output_type": "stream",
     "text": [
      "ERROR -1 502 Couldn't connect to TWS. Confirm that \"Enable ActiveX and Socket EClients\" \n",
      "is enabled and connection port is the same as \"Socket Port\" on the \n",
      "TWS \"Edit->Global Configuration...->API->Settings\" menu. Live Trading ports: \n",
      "TWS: 7496; IB Gateway: 4001. Simulated Trading ports for new installations \n",
      "of version 954.1 or newer:  TWS: 7497; IB Gateway: 4002\n"
     ]
    },
    {
     "name": "stdout",
     "output_type": "stream",
     "text": [
      "processing UNH for 20210823 23:59:59 US/Eastern took   3.08 sec\n",
      "processing 20210922 23:59:59 US/Eastern\n"
     ]
    },
    {
     "name": "stderr",
     "output_type": "stream",
     "text": [
      "ERROR -1 502 Couldn't connect to TWS. Confirm that \"Enable ActiveX and Socket EClients\" \n",
      "is enabled and connection port is the same as \"Socket Port\" on the \n",
      "TWS \"Edit->Global Configuration...->API->Settings\" menu. Live Trading ports: \n",
      "TWS: 7496; IB Gateway: 4001. Simulated Trading ports for new installations \n",
      "of version 954.1 or newer:  TWS: 7497; IB Gateway: 4002\n"
     ]
    },
    {
     "name": "stdout",
     "output_type": "stream",
     "text": [
      "processing UNH for 20210922 23:59:59 US/Eastern took   3.05 sec\n",
      "processing 20211022 23:59:59 US/Eastern\n"
     ]
    },
    {
     "name": "stderr",
     "output_type": "stream",
     "text": [
      "ERROR -1 502 Couldn't connect to TWS. Confirm that \"Enable ActiveX and Socket EClients\" \n",
      "is enabled and connection port is the same as \"Socket Port\" on the \n",
      "TWS \"Edit->Global Configuration...->API->Settings\" menu. Live Trading ports: \n",
      "TWS: 7496; IB Gateway: 4001. Simulated Trading ports for new installations \n",
      "of version 954.1 or newer:  TWS: 7497; IB Gateway: 4002\n"
     ]
    },
    {
     "name": "stdout",
     "output_type": "stream",
     "text": [
      "processing UNH for 20211022 23:59:59 US/Eastern took   3.06 sec\n",
      "processing 20211121 23:59:59 US/Eastern\n"
     ]
    },
    {
     "name": "stderr",
     "output_type": "stream",
     "text": [
      "ERROR -1 502 Couldn't connect to TWS. Confirm that \"Enable ActiveX and Socket EClients\" \n",
      "is enabled and connection port is the same as \"Socket Port\" on the \n",
      "TWS \"Edit->Global Configuration...->API->Settings\" menu. Live Trading ports: \n",
      "TWS: 7496; IB Gateway: 4001. Simulated Trading ports for new installations \n",
      "of version 954.1 or newer:  TWS: 7497; IB Gateway: 4002\n"
     ]
    },
    {
     "name": "stdout",
     "output_type": "stream",
     "text": [
      "processing UNH for 20211121 23:59:59 US/Eastern took   3.04 sec\n",
      "processing 20211221 23:59:59 US/Eastern\n"
     ]
    },
    {
     "name": "stderr",
     "output_type": "stream",
     "text": [
      "ERROR -1 502 Couldn't connect to TWS. Confirm that \"Enable ActiveX and Socket EClients\" \n",
      "is enabled and connection port is the same as \"Socket Port\" on the \n",
      "TWS \"Edit->Global Configuration...->API->Settings\" menu. Live Trading ports: \n",
      "TWS: 7496; IB Gateway: 4001. Simulated Trading ports for new installations \n",
      "of version 954.1 or newer:  TWS: 7497; IB Gateway: 4002\n"
     ]
    },
    {
     "name": "stdout",
     "output_type": "stream",
     "text": [
      "processing UNH for 20211221 23:59:59 US/Eastern took   3.06 sec\n",
      "processing 20220120 23:59:59 US/Eastern\n"
     ]
    },
    {
     "name": "stderr",
     "output_type": "stream",
     "text": [
      "ERROR -1 502 Couldn't connect to TWS. Confirm that \"Enable ActiveX and Socket EClients\" \n",
      "is enabled and connection port is the same as \"Socket Port\" on the \n",
      "TWS \"Edit->Global Configuration...->API->Settings\" menu. Live Trading ports: \n",
      "TWS: 7496; IB Gateway: 4001. Simulated Trading ports for new installations \n",
      "of version 954.1 or newer:  TWS: 7497; IB Gateway: 4002\n"
     ]
    },
    {
     "name": "stdout",
     "output_type": "stream",
     "text": [
      "processing UNH for 20220120 23:59:59 US/Eastern took   3.04 sec\n",
      "processing 20220219 23:59:59 US/Eastern\n"
     ]
    },
    {
     "name": "stderr",
     "output_type": "stream",
     "text": [
      "ERROR -1 502 Couldn't connect to TWS. Confirm that \"Enable ActiveX and Socket EClients\" \n",
      "is enabled and connection port is the same as \"Socket Port\" on the \n",
      "TWS \"Edit->Global Configuration...->API->Settings\" menu. Live Trading ports: \n",
      "TWS: 7496; IB Gateway: 4001. Simulated Trading ports for new installations \n",
      "of version 954.1 or newer:  TWS: 7497; IB Gateway: 4002\n"
     ]
    },
    {
     "name": "stdout",
     "output_type": "stream",
     "text": [
      "processing UNH for 20220219 23:59:59 US/Eastern took   3.08 sec\n",
      "processing 20220321 23:59:59 US/Eastern\n"
     ]
    },
    {
     "name": "stderr",
     "output_type": "stream",
     "text": [
      "ERROR -1 502 Couldn't connect to TWS. Confirm that \"Enable ActiveX and Socket EClients\" \n",
      "is enabled and connection port is the same as \"Socket Port\" on the \n",
      "TWS \"Edit->Global Configuration...->API->Settings\" menu. Live Trading ports: \n",
      "TWS: 7496; IB Gateway: 4001. Simulated Trading ports for new installations \n",
      "of version 954.1 or newer:  TWS: 7497; IB Gateway: 4002\n"
     ]
    },
    {
     "name": "stdout",
     "output_type": "stream",
     "text": [
      "processing UNH for 20220321 23:59:59 US/Eastern took   3.05 sec\n",
      "processing 20220420 23:59:59 US/Eastern\n"
     ]
    },
    {
     "name": "stderr",
     "output_type": "stream",
     "text": [
      "ERROR -1 502 Couldn't connect to TWS. Confirm that \"Enable ActiveX and Socket EClients\" \n",
      "is enabled and connection port is the same as \"Socket Port\" on the \n",
      "TWS \"Edit->Global Configuration...->API->Settings\" menu. Live Trading ports: \n",
      "TWS: 7496; IB Gateway: 4001. Simulated Trading ports for new installations \n",
      "of version 954.1 or newer:  TWS: 7497; IB Gateway: 4002\n"
     ]
    },
    {
     "name": "stdout",
     "output_type": "stream",
     "text": [
      "processing UNH for 20220420 23:59:59 US/Eastern took   3.05 sec\n",
      "processing 20220520 23:59:59 US/Eastern\n"
     ]
    },
    {
     "name": "stderr",
     "output_type": "stream",
     "text": [
      "ERROR -1 502 Couldn't connect to TWS. Confirm that \"Enable ActiveX and Socket EClients\" \n",
      "is enabled and connection port is the same as \"Socket Port\" on the \n",
      "TWS \"Edit->Global Configuration...->API->Settings\" menu. Live Trading ports: \n",
      "TWS: 7496; IB Gateway: 4001. Simulated Trading ports for new installations \n",
      "of version 954.1 or newer:  TWS: 7497; IB Gateway: 4002\n"
     ]
    },
    {
     "name": "stdout",
     "output_type": "stream",
     "text": [
      "processing UNH for 20220520 23:59:59 US/Eastern took   3.03 sec\n",
      "processing 20220619 23:59:59 US/Eastern\n"
     ]
    },
    {
     "name": "stderr",
     "output_type": "stream",
     "text": [
      "ERROR -1 502 Couldn't connect to TWS. Confirm that \"Enable ActiveX and Socket EClients\" \n",
      "is enabled and connection port is the same as \"Socket Port\" on the \n",
      "TWS \"Edit->Global Configuration...->API->Settings\" menu. Live Trading ports: \n",
      "TWS: 7496; IB Gateway: 4001. Simulated Trading ports for new installations \n",
      "of version 954.1 or newer:  TWS: 7497; IB Gateway: 4002\n"
     ]
    },
    {
     "name": "stdout",
     "output_type": "stream",
     "text": [
      "processing UNH for 20220619 23:59:59 US/Eastern took   3.05 sec\n",
      "processing 20220719 23:59:59 US/Eastern\n"
     ]
    },
    {
     "name": "stderr",
     "output_type": "stream",
     "text": [
      "ERROR -1 502 Couldn't connect to TWS. Confirm that \"Enable ActiveX and Socket EClients\" \n",
      "is enabled and connection port is the same as \"Socket Port\" on the \n",
      "TWS \"Edit->Global Configuration...->API->Settings\" menu. Live Trading ports: \n",
      "TWS: 7496; IB Gateway: 4001. Simulated Trading ports for new installations \n",
      "of version 954.1 or newer:  TWS: 7497; IB Gateway: 4002\n"
     ]
    },
    {
     "name": "stdout",
     "output_type": "stream",
     "text": [
      "processing UNH for 20220719 23:59:59 US/Eastern took   3.04 sec\n",
      "processing 20220818 23:59:59 US/Eastern\n"
     ]
    },
    {
     "name": "stderr",
     "output_type": "stream",
     "text": [
      "ERROR -1 502 Couldn't connect to TWS. Confirm that \"Enable ActiveX and Socket EClients\" \n",
      "is enabled and connection port is the same as \"Socket Port\" on the \n",
      "TWS \"Edit->Global Configuration...->API->Settings\" menu. Live Trading ports: \n",
      "TWS: 7496; IB Gateway: 4001. Simulated Trading ports for new installations \n",
      "of version 954.1 or newer:  TWS: 7497; IB Gateway: 4002\n"
     ]
    },
    {
     "name": "stdout",
     "output_type": "stream",
     "text": [
      "processing UNH for 20220818 23:59:59 US/Eastern took   3.06 sec\n",
      "processing 20220917 23:59:59 US/Eastern\n"
     ]
    },
    {
     "name": "stderr",
     "output_type": "stream",
     "text": [
      "ERROR -1 502 Couldn't connect to TWS. Confirm that \"Enable ActiveX and Socket EClients\" \n",
      "is enabled and connection port is the same as \"Socket Port\" on the \n",
      "TWS \"Edit->Global Configuration...->API->Settings\" menu. Live Trading ports: \n",
      "TWS: 7496; IB Gateway: 4001. Simulated Trading ports for new installations \n",
      "of version 954.1 or newer:  TWS: 7497; IB Gateway: 4002\n"
     ]
    },
    {
     "name": "stdout",
     "output_type": "stream",
     "text": [
      "processing UNH for 20220917 23:59:59 US/Eastern took   3.03 sec\n",
      "processing 20221017 23:59:59 US/Eastern\n"
     ]
    },
    {
     "name": "stderr",
     "output_type": "stream",
     "text": [
      "ERROR -1 502 Couldn't connect to TWS. Confirm that \"Enable ActiveX and Socket EClients\" \n",
      "is enabled and connection port is the same as \"Socket Port\" on the \n",
      "TWS \"Edit->Global Configuration...->API->Settings\" menu. Live Trading ports: \n",
      "TWS: 7496; IB Gateway: 4001. Simulated Trading ports for new installations \n",
      "of version 954.1 or newer:  TWS: 7497; IB Gateway: 4002\n"
     ]
    },
    {
     "name": "stdout",
     "output_type": "stream",
     "text": [
      "processing UNH for 20221017 23:59:59 US/Eastern took   3.05 sec\n",
      "processing 20221116 23:59:59 US/Eastern\n"
     ]
    },
    {
     "name": "stderr",
     "output_type": "stream",
     "text": [
      "ERROR -1 502 Couldn't connect to TWS. Confirm that \"Enable ActiveX and Socket EClients\" \n",
      "is enabled and connection port is the same as \"Socket Port\" on the \n",
      "TWS \"Edit->Global Configuration...->API->Settings\" menu. Live Trading ports: \n",
      "TWS: 7496; IB Gateway: 4001. Simulated Trading ports for new installations \n",
      "of version 954.1 or newer:  TWS: 7497; IB Gateway: 4002\n"
     ]
    },
    {
     "name": "stdout",
     "output_type": "stream",
     "text": [
      "processing UNH for 20221116 23:59:59 US/Eastern took   3.06 sec\n",
      "processing 20221216 23:59:59 US/Eastern\n"
     ]
    },
    {
     "name": "stderr",
     "output_type": "stream",
     "text": [
      "ERROR -1 502 Couldn't connect to TWS. Confirm that \"Enable ActiveX and Socket EClients\" \n",
      "is enabled and connection port is the same as \"Socket Port\" on the \n",
      "TWS \"Edit->Global Configuration...->API->Settings\" menu. Live Trading ports: \n",
      "TWS: 7496; IB Gateway: 4001. Simulated Trading ports for new installations \n",
      "of version 954.1 or newer:  TWS: 7497; IB Gateway: 4002\n"
     ]
    },
    {
     "name": "stdout",
     "output_type": "stream",
     "text": [
      "processing UNH for 20221216 23:59:59 US/Eastern took   3.05 sec\n",
      "processing 20230115 23:59:59 US/Eastern\n"
     ]
    },
    {
     "name": "stderr",
     "output_type": "stream",
     "text": [
      "ERROR -1 502 Couldn't connect to TWS. Confirm that \"Enable ActiveX and Socket EClients\" \n",
      "is enabled and connection port is the same as \"Socket Port\" on the \n",
      "TWS \"Edit->Global Configuration...->API->Settings\" menu. Live Trading ports: \n",
      "TWS: 7496; IB Gateway: 4001. Simulated Trading ports for new installations \n",
      "of version 954.1 or newer:  TWS: 7497; IB Gateway: 4002\n"
     ]
    },
    {
     "name": "stdout",
     "output_type": "stream",
     "text": [
      "processing UNH for 20230115 23:59:59 US/Eastern took   3.03 sec\n",
      "processing 20230214 23:59:59 US/Eastern\n"
     ]
    },
    {
     "name": "stderr",
     "output_type": "stream",
     "text": [
      "ERROR -1 502 Couldn't connect to TWS. Confirm that \"Enable ActiveX and Socket EClients\" \n",
      "is enabled and connection port is the same as \"Socket Port\" on the \n",
      "TWS \"Edit->Global Configuration...->API->Settings\" menu. Live Trading ports: \n",
      "TWS: 7496; IB Gateway: 4001. Simulated Trading ports for new installations \n",
      "of version 954.1 or newer:  TWS: 7497; IB Gateway: 4002\n"
     ]
    },
    {
     "name": "stdout",
     "output_type": "stream",
     "text": [
      "processing UNH for 20230214 23:59:59 US/Eastern took   3.05 sec\n",
      "processing 20230316 23:59:59 US/Eastern\n"
     ]
    },
    {
     "name": "stderr",
     "output_type": "stream",
     "text": [
      "ERROR -1 502 Couldn't connect to TWS. Confirm that \"Enable ActiveX and Socket EClients\" \n",
      "is enabled and connection port is the same as \"Socket Port\" on the \n",
      "TWS \"Edit->Global Configuration...->API->Settings\" menu. Live Trading ports: \n",
      "TWS: 7496; IB Gateway: 4001. Simulated Trading ports for new installations \n",
      "of version 954.1 or newer:  TWS: 7497; IB Gateway: 4002\n"
     ]
    },
    {
     "name": "stdout",
     "output_type": "stream",
     "text": [
      "processing UNH for 20230316 23:59:59 US/Eastern took   3.04 sec\n",
      "Processing V\n",
      "processing 20200101 23:59:59 US/Eastern\n"
     ]
    },
    {
     "name": "stderr",
     "output_type": "stream",
     "text": [
      "ERROR -1 502 Couldn't connect to TWS. Confirm that \"Enable ActiveX and Socket EClients\" \n",
      "is enabled and connection port is the same as \"Socket Port\" on the \n",
      "TWS \"Edit->Global Configuration...->API->Settings\" menu. Live Trading ports: \n",
      "TWS: 7496; IB Gateway: 4001. Simulated Trading ports for new installations \n",
      "of version 954.1 or newer:  TWS: 7497; IB Gateway: 4002\n"
     ]
    },
    {
     "name": "stdout",
     "output_type": "stream",
     "text": [
      "processing V for 20200101 23:59:59 US/Eastern took   3.07 sec\n",
      "processing 20200131 23:59:59 US/Eastern\n"
     ]
    },
    {
     "name": "stderr",
     "output_type": "stream",
     "text": [
      "ERROR -1 502 Couldn't connect to TWS. Confirm that \"Enable ActiveX and Socket EClients\" \n",
      "is enabled and connection port is the same as \"Socket Port\" on the \n",
      "TWS \"Edit->Global Configuration...->API->Settings\" menu. Live Trading ports: \n",
      "TWS: 7496; IB Gateway: 4001. Simulated Trading ports for new installations \n",
      "of version 954.1 or newer:  TWS: 7497; IB Gateway: 4002\n"
     ]
    },
    {
     "name": "stdout",
     "output_type": "stream",
     "text": [
      "processing V for 20200131 23:59:59 US/Eastern took   3.05 sec\n",
      "processing 20200301 23:59:59 US/Eastern\n"
     ]
    },
    {
     "name": "stderr",
     "output_type": "stream",
     "text": [
      "ERROR -1 502 Couldn't connect to TWS. Confirm that \"Enable ActiveX and Socket EClients\" \n",
      "is enabled and connection port is the same as \"Socket Port\" on the \n",
      "TWS \"Edit->Global Configuration...->API->Settings\" menu. Live Trading ports: \n",
      "TWS: 7496; IB Gateway: 4001. Simulated Trading ports for new installations \n",
      "of version 954.1 or newer:  TWS: 7497; IB Gateway: 4002\n"
     ]
    },
    {
     "name": "stdout",
     "output_type": "stream",
     "text": [
      "processing V for 20200301 23:59:59 US/Eastern took   3.06 sec\n",
      "processing 20200331 23:59:59 US/Eastern\n"
     ]
    },
    {
     "name": "stderr",
     "output_type": "stream",
     "text": [
      "ERROR -1 502 Couldn't connect to TWS. Confirm that \"Enable ActiveX and Socket EClients\" \n",
      "is enabled and connection port is the same as \"Socket Port\" on the \n",
      "TWS \"Edit->Global Configuration...->API->Settings\" menu. Live Trading ports: \n",
      "TWS: 7496; IB Gateway: 4001. Simulated Trading ports for new installations \n",
      "of version 954.1 or newer:  TWS: 7497; IB Gateway: 4002\n"
     ]
    },
    {
     "name": "stdout",
     "output_type": "stream",
     "text": [
      "processing V for 20200331 23:59:59 US/Eastern took   3.06 sec\n",
      "processing 20200430 23:59:59 US/Eastern\n"
     ]
    },
    {
     "name": "stderr",
     "output_type": "stream",
     "text": [
      "ERROR -1 502 Couldn't connect to TWS. Confirm that \"Enable ActiveX and Socket EClients\" \n",
      "is enabled and connection port is the same as \"Socket Port\" on the \n",
      "TWS \"Edit->Global Configuration...->API->Settings\" menu. Live Trading ports: \n",
      "TWS: 7496; IB Gateway: 4001. Simulated Trading ports for new installations \n",
      "of version 954.1 or newer:  TWS: 7497; IB Gateway: 4002\n"
     ]
    },
    {
     "name": "stdout",
     "output_type": "stream",
     "text": [
      "processing V for 20200430 23:59:59 US/Eastern took   3.05 sec\n",
      "processing 20200530 23:59:59 US/Eastern\n"
     ]
    },
    {
     "name": "stderr",
     "output_type": "stream",
     "text": [
      "ERROR -1 502 Couldn't connect to TWS. Confirm that \"Enable ActiveX and Socket EClients\" \n",
      "is enabled and connection port is the same as \"Socket Port\" on the \n",
      "TWS \"Edit->Global Configuration...->API->Settings\" menu. Live Trading ports: \n",
      "TWS: 7496; IB Gateway: 4001. Simulated Trading ports for new installations \n",
      "of version 954.1 or newer:  TWS: 7497; IB Gateway: 4002\n"
     ]
    },
    {
     "name": "stdout",
     "output_type": "stream",
     "text": [
      "processing V for 20200530 23:59:59 US/Eastern took   3.05 sec\n",
      "processing 20200629 23:59:59 US/Eastern\n"
     ]
    },
    {
     "name": "stderr",
     "output_type": "stream",
     "text": [
      "ERROR -1 502 Couldn't connect to TWS. Confirm that \"Enable ActiveX and Socket EClients\" \n",
      "is enabled and connection port is the same as \"Socket Port\" on the \n",
      "TWS \"Edit->Global Configuration...->API->Settings\" menu. Live Trading ports: \n",
      "TWS: 7496; IB Gateway: 4001. Simulated Trading ports for new installations \n",
      "of version 954.1 or newer:  TWS: 7497; IB Gateway: 4002\n"
     ]
    },
    {
     "name": "stdout",
     "output_type": "stream",
     "text": [
      "processing V for 20200629 23:59:59 US/Eastern took   3.04 sec\n",
      "processing 20200729 23:59:59 US/Eastern\n"
     ]
    },
    {
     "name": "stderr",
     "output_type": "stream",
     "text": [
      "ERROR -1 502 Couldn't connect to TWS. Confirm that \"Enable ActiveX and Socket EClients\" \n",
      "is enabled and connection port is the same as \"Socket Port\" on the \n",
      "TWS \"Edit->Global Configuration...->API->Settings\" menu. Live Trading ports: \n",
      "TWS: 7496; IB Gateway: 4001. Simulated Trading ports for new installations \n",
      "of version 954.1 or newer:  TWS: 7497; IB Gateway: 4002\n"
     ]
    },
    {
     "name": "stdout",
     "output_type": "stream",
     "text": [
      "processing V for 20200729 23:59:59 US/Eastern took   3.06 sec\n",
      "processing 20200828 23:59:59 US/Eastern\n"
     ]
    },
    {
     "name": "stderr",
     "output_type": "stream",
     "text": [
      "ERROR -1 502 Couldn't connect to TWS. Confirm that \"Enable ActiveX and Socket EClients\" \n",
      "is enabled and connection port is the same as \"Socket Port\" on the \n",
      "TWS \"Edit->Global Configuration...->API->Settings\" menu. Live Trading ports: \n",
      "TWS: 7496; IB Gateway: 4001. Simulated Trading ports for new installations \n",
      "of version 954.1 or newer:  TWS: 7497; IB Gateway: 4002\n"
     ]
    },
    {
     "name": "stdout",
     "output_type": "stream",
     "text": [
      "processing V for 20200828 23:59:59 US/Eastern took   3.04 sec\n",
      "processing 20200927 23:59:59 US/Eastern\n"
     ]
    },
    {
     "name": "stderr",
     "output_type": "stream",
     "text": [
      "ERROR -1 502 Couldn't connect to TWS. Confirm that \"Enable ActiveX and Socket EClients\" \n",
      "is enabled and connection port is the same as \"Socket Port\" on the \n",
      "TWS \"Edit->Global Configuration...->API->Settings\" menu. Live Trading ports: \n",
      "TWS: 7496; IB Gateway: 4001. Simulated Trading ports for new installations \n",
      "of version 954.1 or newer:  TWS: 7497; IB Gateway: 4002\n"
     ]
    },
    {
     "name": "stdout",
     "output_type": "stream",
     "text": [
      "processing V for 20200927 23:59:59 US/Eastern took   3.05 sec\n",
      "processing 20201027 23:59:59 US/Eastern\n"
     ]
    },
    {
     "name": "stderr",
     "output_type": "stream",
     "text": [
      "ERROR -1 502 Couldn't connect to TWS. Confirm that \"Enable ActiveX and Socket EClients\" \n",
      "is enabled and connection port is the same as \"Socket Port\" on the \n",
      "TWS \"Edit->Global Configuration...->API->Settings\" menu. Live Trading ports: \n",
      "TWS: 7496; IB Gateway: 4001. Simulated Trading ports for new installations \n",
      "of version 954.1 or newer:  TWS: 7497; IB Gateway: 4002\n"
     ]
    },
    {
     "name": "stdout",
     "output_type": "stream",
     "text": [
      "processing V for 20201027 23:59:59 US/Eastern took   3.04 sec\n",
      "processing 20201126 23:59:59 US/Eastern\n"
     ]
    },
    {
     "name": "stderr",
     "output_type": "stream",
     "text": [
      "ERROR -1 502 Couldn't connect to TWS. Confirm that \"Enable ActiveX and Socket EClients\" \n",
      "is enabled and connection port is the same as \"Socket Port\" on the \n",
      "TWS \"Edit->Global Configuration...->API->Settings\" menu. Live Trading ports: \n",
      "TWS: 7496; IB Gateway: 4001. Simulated Trading ports for new installations \n",
      "of version 954.1 or newer:  TWS: 7497; IB Gateway: 4002\n"
     ]
    },
    {
     "name": "stdout",
     "output_type": "stream",
     "text": [
      "processing V for 20201126 23:59:59 US/Eastern took   3.05 sec\n",
      "processing 20201226 23:59:59 US/Eastern\n"
     ]
    },
    {
     "name": "stderr",
     "output_type": "stream",
     "text": [
      "ERROR -1 502 Couldn't connect to TWS. Confirm that \"Enable ActiveX and Socket EClients\" \n",
      "is enabled and connection port is the same as \"Socket Port\" on the \n",
      "TWS \"Edit->Global Configuration...->API->Settings\" menu. Live Trading ports: \n",
      "TWS: 7496; IB Gateway: 4001. Simulated Trading ports for new installations \n",
      "of version 954.1 or newer:  TWS: 7497; IB Gateway: 4002\n"
     ]
    },
    {
     "name": "stdout",
     "output_type": "stream",
     "text": [
      "processing V for 20201226 23:59:59 US/Eastern took   3.05 sec\n",
      "processing 20210125 23:59:59 US/Eastern\n"
     ]
    },
    {
     "name": "stderr",
     "output_type": "stream",
     "text": [
      "ERROR -1 502 Couldn't connect to TWS. Confirm that \"Enable ActiveX and Socket EClients\" \n",
      "is enabled and connection port is the same as \"Socket Port\" on the \n",
      "TWS \"Edit->Global Configuration...->API->Settings\" menu. Live Trading ports: \n",
      "TWS: 7496; IB Gateway: 4001. Simulated Trading ports for new installations \n",
      "of version 954.1 or newer:  TWS: 7497; IB Gateway: 4002\n"
     ]
    },
    {
     "name": "stdout",
     "output_type": "stream",
     "text": [
      "processing V for 20210125 23:59:59 US/Eastern took   3.06 sec\n",
      "processing 20210224 23:59:59 US/Eastern\n"
     ]
    },
    {
     "name": "stderr",
     "output_type": "stream",
     "text": [
      "ERROR -1 502 Couldn't connect to TWS. Confirm that \"Enable ActiveX and Socket EClients\" \n",
      "is enabled and connection port is the same as \"Socket Port\" on the \n",
      "TWS \"Edit->Global Configuration...->API->Settings\" menu. Live Trading ports: \n",
      "TWS: 7496; IB Gateway: 4001. Simulated Trading ports for new installations \n",
      "of version 954.1 or newer:  TWS: 7497; IB Gateway: 4002\n"
     ]
    },
    {
     "name": "stdout",
     "output_type": "stream",
     "text": [
      "processing V for 20210224 23:59:59 US/Eastern took   3.06 sec\n",
      "processing 20210326 23:59:59 US/Eastern\n"
     ]
    },
    {
     "name": "stderr",
     "output_type": "stream",
     "text": [
      "ERROR -1 502 Couldn't connect to TWS. Confirm that \"Enable ActiveX and Socket EClients\" \n",
      "is enabled and connection port is the same as \"Socket Port\" on the \n",
      "TWS \"Edit->Global Configuration...->API->Settings\" menu. Live Trading ports: \n",
      "TWS: 7496; IB Gateway: 4001. Simulated Trading ports for new installations \n",
      "of version 954.1 or newer:  TWS: 7497; IB Gateway: 4002\n"
     ]
    },
    {
     "name": "stdout",
     "output_type": "stream",
     "text": [
      "processing V for 20210326 23:59:59 US/Eastern took   3.06 sec\n",
      "processing 20210425 23:59:59 US/Eastern\n"
     ]
    },
    {
     "name": "stderr",
     "output_type": "stream",
     "text": [
      "ERROR -1 502 Couldn't connect to TWS. Confirm that \"Enable ActiveX and Socket EClients\" \n",
      "is enabled and connection port is the same as \"Socket Port\" on the \n",
      "TWS \"Edit->Global Configuration...->API->Settings\" menu. Live Trading ports: \n",
      "TWS: 7496; IB Gateway: 4001. Simulated Trading ports for new installations \n",
      "of version 954.1 or newer:  TWS: 7497; IB Gateway: 4002\n"
     ]
    },
    {
     "name": "stdout",
     "output_type": "stream",
     "text": [
      "processing V for 20210425 23:59:59 US/Eastern took   3.06 sec\n",
      "processing 20210525 23:59:59 US/Eastern\n"
     ]
    },
    {
     "name": "stderr",
     "output_type": "stream",
     "text": [
      "ERROR -1 502 Couldn't connect to TWS. Confirm that \"Enable ActiveX and Socket EClients\" \n",
      "is enabled and connection port is the same as \"Socket Port\" on the \n",
      "TWS \"Edit->Global Configuration...->API->Settings\" menu. Live Trading ports: \n",
      "TWS: 7496; IB Gateway: 4001. Simulated Trading ports for new installations \n",
      "of version 954.1 or newer:  TWS: 7497; IB Gateway: 4002\n"
     ]
    },
    {
     "name": "stdout",
     "output_type": "stream",
     "text": [
      "processing V for 20210525 23:59:59 US/Eastern took   3.06 sec\n",
      "processing 20210624 23:59:59 US/Eastern\n"
     ]
    },
    {
     "name": "stderr",
     "output_type": "stream",
     "text": [
      "ERROR -1 502 Couldn't connect to TWS. Confirm that \"Enable ActiveX and Socket EClients\" \n",
      "is enabled and connection port is the same as \"Socket Port\" on the \n",
      "TWS \"Edit->Global Configuration...->API->Settings\" menu. Live Trading ports: \n",
      "TWS: 7496; IB Gateway: 4001. Simulated Trading ports for new installations \n",
      "of version 954.1 or newer:  TWS: 7497; IB Gateway: 4002\n"
     ]
    },
    {
     "name": "stdout",
     "output_type": "stream",
     "text": [
      "processing V for 20210624 23:59:59 US/Eastern took   3.05 sec\n",
      "processing 20210724 23:59:59 US/Eastern\n"
     ]
    },
    {
     "name": "stderr",
     "output_type": "stream",
     "text": [
      "ERROR -1 502 Couldn't connect to TWS. Confirm that \"Enable ActiveX and Socket EClients\" \n",
      "is enabled and connection port is the same as \"Socket Port\" on the \n",
      "TWS \"Edit->Global Configuration...->API->Settings\" menu. Live Trading ports: \n",
      "TWS: 7496; IB Gateway: 4001. Simulated Trading ports for new installations \n",
      "of version 954.1 or newer:  TWS: 7497; IB Gateway: 4002\n"
     ]
    },
    {
     "name": "stdout",
     "output_type": "stream",
     "text": [
      "processing V for 20210724 23:59:59 US/Eastern took   3.08 sec\n",
      "processing 20210823 23:59:59 US/Eastern\n"
     ]
    },
    {
     "name": "stderr",
     "output_type": "stream",
     "text": [
      "ERROR -1 502 Couldn't connect to TWS. Confirm that \"Enable ActiveX and Socket EClients\" \n",
      "is enabled and connection port is the same as \"Socket Port\" on the \n",
      "TWS \"Edit->Global Configuration...->API->Settings\" menu. Live Trading ports: \n",
      "TWS: 7496; IB Gateway: 4001. Simulated Trading ports for new installations \n",
      "of version 954.1 or newer:  TWS: 7497; IB Gateway: 4002\n"
     ]
    },
    {
     "name": "stdout",
     "output_type": "stream",
     "text": [
      "processing V for 20210823 23:59:59 US/Eastern took   3.07 sec\n",
      "processing 20210922 23:59:59 US/Eastern\n"
     ]
    },
    {
     "name": "stderr",
     "output_type": "stream",
     "text": [
      "ERROR -1 502 Couldn't connect to TWS. Confirm that \"Enable ActiveX and Socket EClients\" \n",
      "is enabled and connection port is the same as \"Socket Port\" on the \n",
      "TWS \"Edit->Global Configuration...->API->Settings\" menu. Live Trading ports: \n",
      "TWS: 7496; IB Gateway: 4001. Simulated Trading ports for new installations \n",
      "of version 954.1 or newer:  TWS: 7497; IB Gateway: 4002\n"
     ]
    },
    {
     "name": "stdout",
     "output_type": "stream",
     "text": [
      "processing V for 20210922 23:59:59 US/Eastern took   3.07 sec\n",
      "processing 20211022 23:59:59 US/Eastern\n"
     ]
    },
    {
     "name": "stderr",
     "output_type": "stream",
     "text": [
      "ERROR -1 502 Couldn't connect to TWS. Confirm that \"Enable ActiveX and Socket EClients\" \n",
      "is enabled and connection port is the same as \"Socket Port\" on the \n",
      "TWS \"Edit->Global Configuration...->API->Settings\" menu. Live Trading ports: \n",
      "TWS: 7496; IB Gateway: 4001. Simulated Trading ports for new installations \n",
      "of version 954.1 or newer:  TWS: 7497; IB Gateway: 4002\n"
     ]
    },
    {
     "name": "stdout",
     "output_type": "stream",
     "text": [
      "processing V for 20211022 23:59:59 US/Eastern took   3.07 sec\n",
      "processing 20211121 23:59:59 US/Eastern\n"
     ]
    },
    {
     "name": "stderr",
     "output_type": "stream",
     "text": [
      "ERROR -1 502 Couldn't connect to TWS. Confirm that \"Enable ActiveX and Socket EClients\" \n",
      "is enabled and connection port is the same as \"Socket Port\" on the \n",
      "TWS \"Edit->Global Configuration...->API->Settings\" menu. Live Trading ports: \n",
      "TWS: 7496; IB Gateway: 4001. Simulated Trading ports for new installations \n",
      "of version 954.1 or newer:  TWS: 7497; IB Gateway: 4002\n"
     ]
    },
    {
     "name": "stdout",
     "output_type": "stream",
     "text": [
      "processing V for 20211121 23:59:59 US/Eastern took   3.05 sec\n",
      "processing 20211221 23:59:59 US/Eastern\n"
     ]
    },
    {
     "name": "stderr",
     "output_type": "stream",
     "text": [
      "ERROR -1 502 Couldn't connect to TWS. Confirm that \"Enable ActiveX and Socket EClients\" \n",
      "is enabled and connection port is the same as \"Socket Port\" on the \n",
      "TWS \"Edit->Global Configuration...->API->Settings\" menu. Live Trading ports: \n",
      "TWS: 7496; IB Gateway: 4001. Simulated Trading ports for new installations \n",
      "of version 954.1 or newer:  TWS: 7497; IB Gateway: 4002\n"
     ]
    },
    {
     "name": "stdout",
     "output_type": "stream",
     "text": [
      "processing V for 20211221 23:59:59 US/Eastern took   3.07 sec\n",
      "processing 20220120 23:59:59 US/Eastern\n"
     ]
    },
    {
     "name": "stderr",
     "output_type": "stream",
     "text": [
      "ERROR -1 502 Couldn't connect to TWS. Confirm that \"Enable ActiveX and Socket EClients\" \n",
      "is enabled and connection port is the same as \"Socket Port\" on the \n",
      "TWS \"Edit->Global Configuration...->API->Settings\" menu. Live Trading ports: \n",
      "TWS: 7496; IB Gateway: 4001. Simulated Trading ports for new installations \n",
      "of version 954.1 or newer:  TWS: 7497; IB Gateway: 4002\n"
     ]
    },
    {
     "name": "stdout",
     "output_type": "stream",
     "text": [
      "processing V for 20220120 23:59:59 US/Eastern took   3.04 sec\n",
      "processing 20220219 23:59:59 US/Eastern\n"
     ]
    },
    {
     "name": "stderr",
     "output_type": "stream",
     "text": [
      "ERROR -1 502 Couldn't connect to TWS. Confirm that \"Enable ActiveX and Socket EClients\" \n",
      "is enabled and connection port is the same as \"Socket Port\" on the \n",
      "TWS \"Edit->Global Configuration...->API->Settings\" menu. Live Trading ports: \n",
      "TWS: 7496; IB Gateway: 4001. Simulated Trading ports for new installations \n",
      "of version 954.1 or newer:  TWS: 7497; IB Gateway: 4002\n"
     ]
    },
    {
     "name": "stdout",
     "output_type": "stream",
     "text": [
      "processing V for 20220219 23:59:59 US/Eastern took   3.04 sec\n",
      "processing 20220321 23:59:59 US/Eastern\n"
     ]
    },
    {
     "name": "stderr",
     "output_type": "stream",
     "text": [
      "ERROR -1 502 Couldn't connect to TWS. Confirm that \"Enable ActiveX and Socket EClients\" \n",
      "is enabled and connection port is the same as \"Socket Port\" on the \n",
      "TWS \"Edit->Global Configuration...->API->Settings\" menu. Live Trading ports: \n",
      "TWS: 7496; IB Gateway: 4001. Simulated Trading ports for new installations \n",
      "of version 954.1 or newer:  TWS: 7497; IB Gateway: 4002\n"
     ]
    },
    {
     "name": "stdout",
     "output_type": "stream",
     "text": [
      "processing V for 20220321 23:59:59 US/Eastern took   3.05 sec\n",
      "processing 20220420 23:59:59 US/Eastern\n"
     ]
    },
    {
     "name": "stderr",
     "output_type": "stream",
     "text": [
      "ERROR -1 502 Couldn't connect to TWS. Confirm that \"Enable ActiveX and Socket EClients\" \n",
      "is enabled and connection port is the same as \"Socket Port\" on the \n",
      "TWS \"Edit->Global Configuration...->API->Settings\" menu. Live Trading ports: \n",
      "TWS: 7496; IB Gateway: 4001. Simulated Trading ports for new installations \n",
      "of version 954.1 or newer:  TWS: 7497; IB Gateway: 4002\n"
     ]
    },
    {
     "name": "stdout",
     "output_type": "stream",
     "text": [
      "processing V for 20220420 23:59:59 US/Eastern took   3.05 sec\n",
      "processing 20220520 23:59:59 US/Eastern\n"
     ]
    },
    {
     "name": "stderr",
     "output_type": "stream",
     "text": [
      "ERROR -1 502 Couldn't connect to TWS. Confirm that \"Enable ActiveX and Socket EClients\" \n",
      "is enabled and connection port is the same as \"Socket Port\" on the \n",
      "TWS \"Edit->Global Configuration...->API->Settings\" menu. Live Trading ports: \n",
      "TWS: 7496; IB Gateway: 4001. Simulated Trading ports for new installations \n",
      "of version 954.1 or newer:  TWS: 7497; IB Gateway: 4002\n"
     ]
    },
    {
     "name": "stdout",
     "output_type": "stream",
     "text": [
      "processing V for 20220520 23:59:59 US/Eastern took   3.07 sec\n",
      "processing 20220619 23:59:59 US/Eastern\n"
     ]
    },
    {
     "name": "stderr",
     "output_type": "stream",
     "text": [
      "ERROR -1 502 Couldn't connect to TWS. Confirm that \"Enable ActiveX and Socket EClients\" \n",
      "is enabled and connection port is the same as \"Socket Port\" on the \n",
      "TWS \"Edit->Global Configuration...->API->Settings\" menu. Live Trading ports: \n",
      "TWS: 7496; IB Gateway: 4001. Simulated Trading ports for new installations \n",
      "of version 954.1 or newer:  TWS: 7497; IB Gateway: 4002\n"
     ]
    },
    {
     "name": "stdout",
     "output_type": "stream",
     "text": [
      "processing V for 20220619 23:59:59 US/Eastern took   3.05 sec\n",
      "processing 20220719 23:59:59 US/Eastern\n"
     ]
    },
    {
     "name": "stderr",
     "output_type": "stream",
     "text": [
      "ERROR -1 502 Couldn't connect to TWS. Confirm that \"Enable ActiveX and Socket EClients\" \n",
      "is enabled and connection port is the same as \"Socket Port\" on the \n",
      "TWS \"Edit->Global Configuration...->API->Settings\" menu. Live Trading ports: \n",
      "TWS: 7496; IB Gateway: 4001. Simulated Trading ports for new installations \n",
      "of version 954.1 or newer:  TWS: 7497; IB Gateway: 4002\n"
     ]
    },
    {
     "name": "stdout",
     "output_type": "stream",
     "text": [
      "processing V for 20220719 23:59:59 US/Eastern took   3.06 sec\n",
      "processing 20220818 23:59:59 US/Eastern\n"
     ]
    },
    {
     "name": "stderr",
     "output_type": "stream",
     "text": [
      "ERROR -1 502 Couldn't connect to TWS. Confirm that \"Enable ActiveX and Socket EClients\" \n",
      "is enabled and connection port is the same as \"Socket Port\" on the \n",
      "TWS \"Edit->Global Configuration...->API->Settings\" menu. Live Trading ports: \n",
      "TWS: 7496; IB Gateway: 4001. Simulated Trading ports for new installations \n",
      "of version 954.1 or newer:  TWS: 7497; IB Gateway: 4002\n"
     ]
    },
    {
     "name": "stdout",
     "output_type": "stream",
     "text": [
      "processing V for 20220818 23:59:59 US/Eastern took   3.05 sec\n",
      "processing 20220917 23:59:59 US/Eastern\n"
     ]
    },
    {
     "name": "stderr",
     "output_type": "stream",
     "text": [
      "ERROR -1 502 Couldn't connect to TWS. Confirm that \"Enable ActiveX and Socket EClients\" \n",
      "is enabled and connection port is the same as \"Socket Port\" on the \n",
      "TWS \"Edit->Global Configuration...->API->Settings\" menu. Live Trading ports: \n",
      "TWS: 7496; IB Gateway: 4001. Simulated Trading ports for new installations \n",
      "of version 954.1 or newer:  TWS: 7497; IB Gateway: 4002\n"
     ]
    },
    {
     "name": "stdout",
     "output_type": "stream",
     "text": [
      "processing V for 20220917 23:59:59 US/Eastern took   3.04 sec\n",
      "processing 20221017 23:59:59 US/Eastern\n"
     ]
    },
    {
     "name": "stderr",
     "output_type": "stream",
     "text": [
      "ERROR -1 502 Couldn't connect to TWS. Confirm that \"Enable ActiveX and Socket EClients\" \n",
      "is enabled and connection port is the same as \"Socket Port\" on the \n",
      "TWS \"Edit->Global Configuration...->API->Settings\" menu. Live Trading ports: \n",
      "TWS: 7496; IB Gateway: 4001. Simulated Trading ports for new installations \n",
      "of version 954.1 or newer:  TWS: 7497; IB Gateway: 4002\n"
     ]
    },
    {
     "name": "stdout",
     "output_type": "stream",
     "text": [
      "processing V for 20221017 23:59:59 US/Eastern took   3.05 sec\n",
      "processing 20221116 23:59:59 US/Eastern\n"
     ]
    },
    {
     "name": "stderr",
     "output_type": "stream",
     "text": [
      "ERROR -1 502 Couldn't connect to TWS. Confirm that \"Enable ActiveX and Socket EClients\" \n",
      "is enabled and connection port is the same as \"Socket Port\" on the \n",
      "TWS \"Edit->Global Configuration...->API->Settings\" menu. Live Trading ports: \n",
      "TWS: 7496; IB Gateway: 4001. Simulated Trading ports for new installations \n",
      "of version 954.1 or newer:  TWS: 7497; IB Gateway: 4002\n"
     ]
    },
    {
     "name": "stdout",
     "output_type": "stream",
     "text": [
      "processing V for 20221116 23:59:59 US/Eastern took   3.05 sec\n",
      "processing 20221216 23:59:59 US/Eastern\n"
     ]
    },
    {
     "name": "stderr",
     "output_type": "stream",
     "text": [
      "ERROR -1 502 Couldn't connect to TWS. Confirm that \"Enable ActiveX and Socket EClients\" \n",
      "is enabled and connection port is the same as \"Socket Port\" on the \n",
      "TWS \"Edit->Global Configuration...->API->Settings\" menu. Live Trading ports: \n",
      "TWS: 7496; IB Gateway: 4001. Simulated Trading ports for new installations \n",
      "of version 954.1 or newer:  TWS: 7497; IB Gateway: 4002\n"
     ]
    },
    {
     "name": "stdout",
     "output_type": "stream",
     "text": [
      "processing V for 20221216 23:59:59 US/Eastern took   3.04 sec\n",
      "processing 20230115 23:59:59 US/Eastern\n"
     ]
    },
    {
     "name": "stderr",
     "output_type": "stream",
     "text": [
      "ERROR -1 502 Couldn't connect to TWS. Confirm that \"Enable ActiveX and Socket EClients\" \n",
      "is enabled and connection port is the same as \"Socket Port\" on the \n",
      "TWS \"Edit->Global Configuration...->API->Settings\" menu. Live Trading ports: \n",
      "TWS: 7496; IB Gateway: 4001. Simulated Trading ports for new installations \n",
      "of version 954.1 or newer:  TWS: 7497; IB Gateway: 4002\n"
     ]
    },
    {
     "name": "stdout",
     "output_type": "stream",
     "text": [
      "processing V for 20230115 23:59:59 US/Eastern took   3.05 sec\n",
      "processing 20230214 23:59:59 US/Eastern\n"
     ]
    },
    {
     "name": "stderr",
     "output_type": "stream",
     "text": [
      "ERROR -1 502 Couldn't connect to TWS. Confirm that \"Enable ActiveX and Socket EClients\" \n",
      "is enabled and connection port is the same as \"Socket Port\" on the \n",
      "TWS \"Edit->Global Configuration...->API->Settings\" menu. Live Trading ports: \n",
      "TWS: 7496; IB Gateway: 4001. Simulated Trading ports for new installations \n",
      "of version 954.1 or newer:  TWS: 7497; IB Gateway: 4002\n"
     ]
    },
    {
     "name": "stdout",
     "output_type": "stream",
     "text": [
      "processing V for 20230214 23:59:59 US/Eastern took   3.04 sec\n",
      "processing 20230316 23:59:59 US/Eastern\n"
     ]
    },
    {
     "name": "stderr",
     "output_type": "stream",
     "text": [
      "ERROR -1 502 Couldn't connect to TWS. Confirm that \"Enable ActiveX and Socket EClients\" \n",
      "is enabled and connection port is the same as \"Socket Port\" on the \n",
      "TWS \"Edit->Global Configuration...->API->Settings\" menu. Live Trading ports: \n",
      "TWS: 7496; IB Gateway: 4001. Simulated Trading ports for new installations \n",
      "of version 954.1 or newer:  TWS: 7497; IB Gateway: 4002\n"
     ]
    },
    {
     "name": "stdout",
     "output_type": "stream",
     "text": [
      "processing V for 20230316 23:59:59 US/Eastern took   3.04 sec\n",
      "Processing VZ\n",
      "processing 20200101 23:59:59 US/Eastern\n"
     ]
    },
    {
     "name": "stderr",
     "output_type": "stream",
     "text": [
      "ERROR -1 502 Couldn't connect to TWS. Confirm that \"Enable ActiveX and Socket EClients\" \n",
      "is enabled and connection port is the same as \"Socket Port\" on the \n",
      "TWS \"Edit->Global Configuration...->API->Settings\" menu. Live Trading ports: \n",
      "TWS: 7496; IB Gateway: 4001. Simulated Trading ports for new installations \n",
      "of version 954.1 or newer:  TWS: 7497; IB Gateway: 4002\n"
     ]
    },
    {
     "name": "stdout",
     "output_type": "stream",
     "text": [
      "processing VZ for 20200101 23:59:59 US/Eastern took   3.04 sec\n",
      "processing 20200131 23:59:59 US/Eastern\n"
     ]
    },
    {
     "name": "stderr",
     "output_type": "stream",
     "text": [
      "ERROR -1 502 Couldn't connect to TWS. Confirm that \"Enable ActiveX and Socket EClients\" \n",
      "is enabled and connection port is the same as \"Socket Port\" on the \n",
      "TWS \"Edit->Global Configuration...->API->Settings\" menu. Live Trading ports: \n",
      "TWS: 7496; IB Gateway: 4001. Simulated Trading ports for new installations \n",
      "of version 954.1 or newer:  TWS: 7497; IB Gateway: 4002\n"
     ]
    },
    {
     "name": "stdout",
     "output_type": "stream",
     "text": [
      "processing VZ for 20200131 23:59:59 US/Eastern took   3.04 sec\n",
      "processing 20200301 23:59:59 US/Eastern\n"
     ]
    },
    {
     "name": "stderr",
     "output_type": "stream",
     "text": [
      "ERROR -1 502 Couldn't connect to TWS. Confirm that \"Enable ActiveX and Socket EClients\" \n",
      "is enabled and connection port is the same as \"Socket Port\" on the \n",
      "TWS \"Edit->Global Configuration...->API->Settings\" menu. Live Trading ports: \n",
      "TWS: 7496; IB Gateway: 4001. Simulated Trading ports for new installations \n",
      "of version 954.1 or newer:  TWS: 7497; IB Gateway: 4002\n"
     ]
    },
    {
     "name": "stdout",
     "output_type": "stream",
     "text": [
      "processing VZ for 20200301 23:59:59 US/Eastern took   3.06 sec\n",
      "processing 20200331 23:59:59 US/Eastern\n"
     ]
    },
    {
     "name": "stderr",
     "output_type": "stream",
     "text": [
      "ERROR -1 502 Couldn't connect to TWS. Confirm that \"Enable ActiveX and Socket EClients\" \n",
      "is enabled and connection port is the same as \"Socket Port\" on the \n",
      "TWS \"Edit->Global Configuration...->API->Settings\" menu. Live Trading ports: \n",
      "TWS: 7496; IB Gateway: 4001. Simulated Trading ports for new installations \n",
      "of version 954.1 or newer:  TWS: 7497; IB Gateway: 4002\n"
     ]
    },
    {
     "name": "stdout",
     "output_type": "stream",
     "text": [
      "processing VZ for 20200331 23:59:59 US/Eastern took   3.05 sec\n",
      "processing 20200430 23:59:59 US/Eastern\n"
     ]
    },
    {
     "name": "stderr",
     "output_type": "stream",
     "text": [
      "ERROR -1 502 Couldn't connect to TWS. Confirm that \"Enable ActiveX and Socket EClients\" \n",
      "is enabled and connection port is the same as \"Socket Port\" on the \n",
      "TWS \"Edit->Global Configuration...->API->Settings\" menu. Live Trading ports: \n",
      "TWS: 7496; IB Gateway: 4001. Simulated Trading ports for new installations \n",
      "of version 954.1 or newer:  TWS: 7497; IB Gateway: 4002\n"
     ]
    },
    {
     "name": "stdout",
     "output_type": "stream",
     "text": [
      "processing VZ for 20200430 23:59:59 US/Eastern took   3.05 sec\n",
      "processing 20200530 23:59:59 US/Eastern\n"
     ]
    },
    {
     "name": "stderr",
     "output_type": "stream",
     "text": [
      "ERROR -1 502 Couldn't connect to TWS. Confirm that \"Enable ActiveX and Socket EClients\" \n",
      "is enabled and connection port is the same as \"Socket Port\" on the \n",
      "TWS \"Edit->Global Configuration...->API->Settings\" menu. Live Trading ports: \n",
      "TWS: 7496; IB Gateway: 4001. Simulated Trading ports for new installations \n",
      "of version 954.1 or newer:  TWS: 7497; IB Gateway: 4002\n"
     ]
    },
    {
     "name": "stdout",
     "output_type": "stream",
     "text": [
      "processing VZ for 20200530 23:59:59 US/Eastern took   3.05 sec\n",
      "processing 20200629 23:59:59 US/Eastern\n"
     ]
    },
    {
     "name": "stderr",
     "output_type": "stream",
     "text": [
      "ERROR -1 502 Couldn't connect to TWS. Confirm that \"Enable ActiveX and Socket EClients\" \n",
      "is enabled and connection port is the same as \"Socket Port\" on the \n",
      "TWS \"Edit->Global Configuration...->API->Settings\" menu. Live Trading ports: \n",
      "TWS: 7496; IB Gateway: 4001. Simulated Trading ports for new installations \n",
      "of version 954.1 or newer:  TWS: 7497; IB Gateway: 4002\n"
     ]
    },
    {
     "name": "stdout",
     "output_type": "stream",
     "text": [
      "processing VZ for 20200629 23:59:59 US/Eastern took   3.04 sec\n",
      "processing 20200729 23:59:59 US/Eastern\n"
     ]
    },
    {
     "name": "stderr",
     "output_type": "stream",
     "text": [
      "ERROR -1 502 Couldn't connect to TWS. Confirm that \"Enable ActiveX and Socket EClients\" \n",
      "is enabled and connection port is the same as \"Socket Port\" on the \n",
      "TWS \"Edit->Global Configuration...->API->Settings\" menu. Live Trading ports: \n",
      "TWS: 7496; IB Gateway: 4001. Simulated Trading ports for new installations \n",
      "of version 954.1 or newer:  TWS: 7497; IB Gateway: 4002\n"
     ]
    },
    {
     "name": "stdout",
     "output_type": "stream",
     "text": [
      "processing VZ for 20200729 23:59:59 US/Eastern took   3.06 sec\n",
      "processing 20200828 23:59:59 US/Eastern\n"
     ]
    },
    {
     "name": "stderr",
     "output_type": "stream",
     "text": [
      "ERROR -1 502 Couldn't connect to TWS. Confirm that \"Enable ActiveX and Socket EClients\" \n",
      "is enabled and connection port is the same as \"Socket Port\" on the \n",
      "TWS \"Edit->Global Configuration...->API->Settings\" menu. Live Trading ports: \n",
      "TWS: 7496; IB Gateway: 4001. Simulated Trading ports for new installations \n",
      "of version 954.1 or newer:  TWS: 7497; IB Gateway: 4002\n"
     ]
    },
    {
     "name": "stdout",
     "output_type": "stream",
     "text": [
      "processing VZ for 20200828 23:59:59 US/Eastern took   3.05 sec\n",
      "processing 20200927 23:59:59 US/Eastern\n"
     ]
    },
    {
     "name": "stderr",
     "output_type": "stream",
     "text": [
      "ERROR -1 502 Couldn't connect to TWS. Confirm that \"Enable ActiveX and Socket EClients\" \n",
      "is enabled and connection port is the same as \"Socket Port\" on the \n",
      "TWS \"Edit->Global Configuration...->API->Settings\" menu. Live Trading ports: \n",
      "TWS: 7496; IB Gateway: 4001. Simulated Trading ports for new installations \n",
      "of version 954.1 or newer:  TWS: 7497; IB Gateway: 4002\n"
     ]
    },
    {
     "name": "stdout",
     "output_type": "stream",
     "text": [
      "processing VZ for 20200927 23:59:59 US/Eastern took   3.06 sec\n",
      "processing 20201027 23:59:59 US/Eastern\n"
     ]
    },
    {
     "name": "stderr",
     "output_type": "stream",
     "text": [
      "ERROR -1 502 Couldn't connect to TWS. Confirm that \"Enable ActiveX and Socket EClients\" \n",
      "is enabled and connection port is the same as \"Socket Port\" on the \n",
      "TWS \"Edit->Global Configuration...->API->Settings\" menu. Live Trading ports: \n",
      "TWS: 7496; IB Gateway: 4001. Simulated Trading ports for new installations \n",
      "of version 954.1 or newer:  TWS: 7497; IB Gateway: 4002\n"
     ]
    },
    {
     "name": "stdout",
     "output_type": "stream",
     "text": [
      "processing VZ for 20201027 23:59:59 US/Eastern took   3.03 sec\n",
      "processing 20201126 23:59:59 US/Eastern\n"
     ]
    },
    {
     "name": "stderr",
     "output_type": "stream",
     "text": [
      "ERROR -1 502 Couldn't connect to TWS. Confirm that \"Enable ActiveX and Socket EClients\" \n",
      "is enabled and connection port is the same as \"Socket Port\" on the \n",
      "TWS \"Edit->Global Configuration...->API->Settings\" menu. Live Trading ports: \n",
      "TWS: 7496; IB Gateway: 4001. Simulated Trading ports for new installations \n",
      "of version 954.1 or newer:  TWS: 7497; IB Gateway: 4002\n"
     ]
    },
    {
     "name": "stdout",
     "output_type": "stream",
     "text": [
      "processing VZ for 20201126 23:59:59 US/Eastern took   3.05 sec\n",
      "processing 20201226 23:59:59 US/Eastern\n"
     ]
    },
    {
     "name": "stderr",
     "output_type": "stream",
     "text": [
      "ERROR -1 502 Couldn't connect to TWS. Confirm that \"Enable ActiveX and Socket EClients\" \n",
      "is enabled and connection port is the same as \"Socket Port\" on the \n",
      "TWS \"Edit->Global Configuration...->API->Settings\" menu. Live Trading ports: \n",
      "TWS: 7496; IB Gateway: 4001. Simulated Trading ports for new installations \n",
      "of version 954.1 or newer:  TWS: 7497; IB Gateway: 4002\n"
     ]
    },
    {
     "name": "stdout",
     "output_type": "stream",
     "text": [
      "processing VZ for 20201226 23:59:59 US/Eastern took   3.04 sec\n",
      "processing 20210125 23:59:59 US/Eastern\n"
     ]
    },
    {
     "name": "stderr",
     "output_type": "stream",
     "text": [
      "ERROR -1 502 Couldn't connect to TWS. Confirm that \"Enable ActiveX and Socket EClients\" \n",
      "is enabled and connection port is the same as \"Socket Port\" on the \n",
      "TWS \"Edit->Global Configuration...->API->Settings\" menu. Live Trading ports: \n",
      "TWS: 7496; IB Gateway: 4001. Simulated Trading ports for new installations \n",
      "of version 954.1 or newer:  TWS: 7497; IB Gateway: 4002\n"
     ]
    },
    {
     "name": "stdout",
     "output_type": "stream",
     "text": [
      "processing VZ for 20210125 23:59:59 US/Eastern took   3.04 sec\n",
      "processing 20210224 23:59:59 US/Eastern\n"
     ]
    },
    {
     "name": "stderr",
     "output_type": "stream",
     "text": [
      "ERROR -1 502 Couldn't connect to TWS. Confirm that \"Enable ActiveX and Socket EClients\" \n",
      "is enabled and connection port is the same as \"Socket Port\" on the \n",
      "TWS \"Edit->Global Configuration...->API->Settings\" menu. Live Trading ports: \n",
      "TWS: 7496; IB Gateway: 4001. Simulated Trading ports for new installations \n",
      "of version 954.1 or newer:  TWS: 7497; IB Gateway: 4002\n"
     ]
    },
    {
     "name": "stdout",
     "output_type": "stream",
     "text": [
      "processing VZ for 20210224 23:59:59 US/Eastern took   3.06 sec\n",
      "processing 20210326 23:59:59 US/Eastern\n"
     ]
    },
    {
     "name": "stderr",
     "output_type": "stream",
     "text": [
      "ERROR -1 502 Couldn't connect to TWS. Confirm that \"Enable ActiveX and Socket EClients\" \n",
      "is enabled and connection port is the same as \"Socket Port\" on the \n",
      "TWS \"Edit->Global Configuration...->API->Settings\" menu. Live Trading ports: \n",
      "TWS: 7496; IB Gateway: 4001. Simulated Trading ports for new installations \n",
      "of version 954.1 or newer:  TWS: 7497; IB Gateway: 4002\n"
     ]
    },
    {
     "name": "stdout",
     "output_type": "stream",
     "text": [
      "processing VZ for 20210326 23:59:59 US/Eastern took   3.04 sec\n",
      "processing 20210425 23:59:59 US/Eastern\n"
     ]
    },
    {
     "name": "stderr",
     "output_type": "stream",
     "text": [
      "ERROR -1 502 Couldn't connect to TWS. Confirm that \"Enable ActiveX and Socket EClients\" \n",
      "is enabled and connection port is the same as \"Socket Port\" on the \n",
      "TWS \"Edit->Global Configuration...->API->Settings\" menu. Live Trading ports: \n",
      "TWS: 7496; IB Gateway: 4001. Simulated Trading ports for new installations \n",
      "of version 954.1 or newer:  TWS: 7497; IB Gateway: 4002\n"
     ]
    },
    {
     "name": "stdout",
     "output_type": "stream",
     "text": [
      "processing VZ for 20210425 23:59:59 US/Eastern took   3.04 sec\n",
      "processing 20210525 23:59:59 US/Eastern\n"
     ]
    },
    {
     "name": "stderr",
     "output_type": "stream",
     "text": [
      "ERROR -1 502 Couldn't connect to TWS. Confirm that \"Enable ActiveX and Socket EClients\" \n",
      "is enabled and connection port is the same as \"Socket Port\" on the \n",
      "TWS \"Edit->Global Configuration...->API->Settings\" menu. Live Trading ports: \n",
      "TWS: 7496; IB Gateway: 4001. Simulated Trading ports for new installations \n",
      "of version 954.1 or newer:  TWS: 7497; IB Gateway: 4002\n"
     ]
    },
    {
     "name": "stdout",
     "output_type": "stream",
     "text": [
      "processing VZ for 20210525 23:59:59 US/Eastern took   3.04 sec\n",
      "processing 20210624 23:59:59 US/Eastern\n"
     ]
    },
    {
     "name": "stderr",
     "output_type": "stream",
     "text": [
      "ERROR -1 502 Couldn't connect to TWS. Confirm that \"Enable ActiveX and Socket EClients\" \n",
      "is enabled and connection port is the same as \"Socket Port\" on the \n",
      "TWS \"Edit->Global Configuration...->API->Settings\" menu. Live Trading ports: \n",
      "TWS: 7496; IB Gateway: 4001. Simulated Trading ports for new installations \n",
      "of version 954.1 or newer:  TWS: 7497; IB Gateway: 4002\n"
     ]
    },
    {
     "name": "stdout",
     "output_type": "stream",
     "text": [
      "processing VZ for 20210624 23:59:59 US/Eastern took   3.07 sec\n",
      "processing 20210724 23:59:59 US/Eastern\n"
     ]
    },
    {
     "name": "stderr",
     "output_type": "stream",
     "text": [
      "ERROR -1 502 Couldn't connect to TWS. Confirm that \"Enable ActiveX and Socket EClients\" \n",
      "is enabled and connection port is the same as \"Socket Port\" on the \n",
      "TWS \"Edit->Global Configuration...->API->Settings\" menu. Live Trading ports: \n",
      "TWS: 7496; IB Gateway: 4001. Simulated Trading ports for new installations \n",
      "of version 954.1 or newer:  TWS: 7497; IB Gateway: 4002\n"
     ]
    },
    {
     "name": "stdout",
     "output_type": "stream",
     "text": [
      "processing VZ for 20210724 23:59:59 US/Eastern took   3.07 sec\n",
      "processing 20210823 23:59:59 US/Eastern\n"
     ]
    },
    {
     "name": "stderr",
     "output_type": "stream",
     "text": [
      "ERROR -1 502 Couldn't connect to TWS. Confirm that \"Enable ActiveX and Socket EClients\" \n",
      "is enabled and connection port is the same as \"Socket Port\" on the \n",
      "TWS \"Edit->Global Configuration...->API->Settings\" menu. Live Trading ports: \n",
      "TWS: 7496; IB Gateway: 4001. Simulated Trading ports for new installations \n",
      "of version 954.1 or newer:  TWS: 7497; IB Gateway: 4002\n"
     ]
    },
    {
     "name": "stdout",
     "output_type": "stream",
     "text": [
      "processing VZ for 20210823 23:59:59 US/Eastern took   3.05 sec\n",
      "processing 20210922 23:59:59 US/Eastern\n"
     ]
    },
    {
     "name": "stderr",
     "output_type": "stream",
     "text": [
      "ERROR -1 502 Couldn't connect to TWS. Confirm that \"Enable ActiveX and Socket EClients\" \n",
      "is enabled and connection port is the same as \"Socket Port\" on the \n",
      "TWS \"Edit->Global Configuration...->API->Settings\" menu. Live Trading ports: \n",
      "TWS: 7496; IB Gateway: 4001. Simulated Trading ports for new installations \n",
      "of version 954.1 or newer:  TWS: 7497; IB Gateway: 4002\n"
     ]
    },
    {
     "name": "stdout",
     "output_type": "stream",
     "text": [
      "processing VZ for 20210922 23:59:59 US/Eastern took   3.04 sec\n",
      "processing 20211022 23:59:59 US/Eastern\n"
     ]
    },
    {
     "name": "stderr",
     "output_type": "stream",
     "text": [
      "ERROR -1 502 Couldn't connect to TWS. Confirm that \"Enable ActiveX and Socket EClients\" \n",
      "is enabled and connection port is the same as \"Socket Port\" on the \n",
      "TWS \"Edit->Global Configuration...->API->Settings\" menu. Live Trading ports: \n",
      "TWS: 7496; IB Gateway: 4001. Simulated Trading ports for new installations \n",
      "of version 954.1 or newer:  TWS: 7497; IB Gateway: 4002\n"
     ]
    },
    {
     "name": "stdout",
     "output_type": "stream",
     "text": [
      "processing VZ for 20211022 23:59:59 US/Eastern took   3.05 sec\n",
      "processing 20211121 23:59:59 US/Eastern\n"
     ]
    },
    {
     "name": "stderr",
     "output_type": "stream",
     "text": [
      "ERROR -1 502 Couldn't connect to TWS. Confirm that \"Enable ActiveX and Socket EClients\" \n",
      "is enabled and connection port is the same as \"Socket Port\" on the \n",
      "TWS \"Edit->Global Configuration...->API->Settings\" menu. Live Trading ports: \n",
      "TWS: 7496; IB Gateway: 4001. Simulated Trading ports for new installations \n",
      "of version 954.1 or newer:  TWS: 7497; IB Gateway: 4002\n"
     ]
    },
    {
     "name": "stdout",
     "output_type": "stream",
     "text": [
      "processing VZ for 20211121 23:59:59 US/Eastern took   3.04 sec\n",
      "processing 20211221 23:59:59 US/Eastern\n"
     ]
    },
    {
     "name": "stderr",
     "output_type": "stream",
     "text": [
      "ERROR -1 502 Couldn't connect to TWS. Confirm that \"Enable ActiveX and Socket EClients\" \n",
      "is enabled and connection port is the same as \"Socket Port\" on the \n",
      "TWS \"Edit->Global Configuration...->API->Settings\" menu. Live Trading ports: \n",
      "TWS: 7496; IB Gateway: 4001. Simulated Trading ports for new installations \n",
      "of version 954.1 or newer:  TWS: 7497; IB Gateway: 4002\n"
     ]
    },
    {
     "name": "stdout",
     "output_type": "stream",
     "text": [
      "processing VZ for 20211221 23:59:59 US/Eastern took   3.06 sec\n",
      "processing 20220120 23:59:59 US/Eastern\n"
     ]
    },
    {
     "name": "stderr",
     "output_type": "stream",
     "text": [
      "ERROR -1 502 Couldn't connect to TWS. Confirm that \"Enable ActiveX and Socket EClients\" \n",
      "is enabled and connection port is the same as \"Socket Port\" on the \n",
      "TWS \"Edit->Global Configuration...->API->Settings\" menu. Live Trading ports: \n",
      "TWS: 7496; IB Gateway: 4001. Simulated Trading ports for new installations \n",
      "of version 954.1 or newer:  TWS: 7497; IB Gateway: 4002\n"
     ]
    },
    {
     "name": "stdout",
     "output_type": "stream",
     "text": [
      "processing VZ for 20220120 23:59:59 US/Eastern took   3.05 sec\n",
      "processing 20220219 23:59:59 US/Eastern\n"
     ]
    },
    {
     "name": "stderr",
     "output_type": "stream",
     "text": [
      "ERROR -1 502 Couldn't connect to TWS. Confirm that \"Enable ActiveX and Socket EClients\" \n",
      "is enabled and connection port is the same as \"Socket Port\" on the \n",
      "TWS \"Edit->Global Configuration...->API->Settings\" menu. Live Trading ports: \n",
      "TWS: 7496; IB Gateway: 4001. Simulated Trading ports for new installations \n",
      "of version 954.1 or newer:  TWS: 7497; IB Gateway: 4002\n"
     ]
    },
    {
     "name": "stdout",
     "output_type": "stream",
     "text": [
      "processing VZ for 20220219 23:59:59 US/Eastern took   3.04 sec\n",
      "processing 20220321 23:59:59 US/Eastern\n"
     ]
    },
    {
     "name": "stderr",
     "output_type": "stream",
     "text": [
      "ERROR -1 502 Couldn't connect to TWS. Confirm that \"Enable ActiveX and Socket EClients\" \n",
      "is enabled and connection port is the same as \"Socket Port\" on the \n",
      "TWS \"Edit->Global Configuration...->API->Settings\" menu. Live Trading ports: \n",
      "TWS: 7496; IB Gateway: 4001. Simulated Trading ports for new installations \n",
      "of version 954.1 or newer:  TWS: 7497; IB Gateway: 4002\n"
     ]
    },
    {
     "name": "stdout",
     "output_type": "stream",
     "text": [
      "processing VZ for 20220321 23:59:59 US/Eastern took   3.07 sec\n",
      "processing 20220420 23:59:59 US/Eastern\n"
     ]
    },
    {
     "name": "stderr",
     "output_type": "stream",
     "text": [
      "ERROR -1 502 Couldn't connect to TWS. Confirm that \"Enable ActiveX and Socket EClients\" \n",
      "is enabled and connection port is the same as \"Socket Port\" on the \n",
      "TWS \"Edit->Global Configuration...->API->Settings\" menu. Live Trading ports: \n",
      "TWS: 7496; IB Gateway: 4001. Simulated Trading ports for new installations \n",
      "of version 954.1 or newer:  TWS: 7497; IB Gateway: 4002\n"
     ]
    },
    {
     "name": "stdout",
     "output_type": "stream",
     "text": [
      "processing VZ for 20220420 23:59:59 US/Eastern took   3.04 sec\n",
      "processing 20220520 23:59:59 US/Eastern\n"
     ]
    },
    {
     "name": "stderr",
     "output_type": "stream",
     "text": [
      "ERROR -1 502 Couldn't connect to TWS. Confirm that \"Enable ActiveX and Socket EClients\" \n",
      "is enabled and connection port is the same as \"Socket Port\" on the \n",
      "TWS \"Edit->Global Configuration...->API->Settings\" menu. Live Trading ports: \n",
      "TWS: 7496; IB Gateway: 4001. Simulated Trading ports for new installations \n",
      "of version 954.1 or newer:  TWS: 7497; IB Gateway: 4002\n"
     ]
    },
    {
     "name": "stdout",
     "output_type": "stream",
     "text": [
      "processing VZ for 20220520 23:59:59 US/Eastern took   3.05 sec\n",
      "processing 20220619 23:59:59 US/Eastern\n"
     ]
    },
    {
     "name": "stderr",
     "output_type": "stream",
     "text": [
      "ERROR -1 502 Couldn't connect to TWS. Confirm that \"Enable ActiveX and Socket EClients\" \n",
      "is enabled and connection port is the same as \"Socket Port\" on the \n",
      "TWS \"Edit->Global Configuration...->API->Settings\" menu. Live Trading ports: \n",
      "TWS: 7496; IB Gateway: 4001. Simulated Trading ports for new installations \n",
      "of version 954.1 or newer:  TWS: 7497; IB Gateway: 4002\n"
     ]
    },
    {
     "name": "stdout",
     "output_type": "stream",
     "text": [
      "processing VZ for 20220619 23:59:59 US/Eastern took   3.06 sec\n",
      "processing 20220719 23:59:59 US/Eastern\n"
     ]
    },
    {
     "name": "stderr",
     "output_type": "stream",
     "text": [
      "ERROR -1 502 Couldn't connect to TWS. Confirm that \"Enable ActiveX and Socket EClients\" \n",
      "is enabled and connection port is the same as \"Socket Port\" on the \n",
      "TWS \"Edit->Global Configuration...->API->Settings\" menu. Live Trading ports: \n",
      "TWS: 7496; IB Gateway: 4001. Simulated Trading ports for new installations \n",
      "of version 954.1 or newer:  TWS: 7497; IB Gateway: 4002\n"
     ]
    },
    {
     "name": "stdout",
     "output_type": "stream",
     "text": [
      "processing VZ for 20220719 23:59:59 US/Eastern took   3.04 sec\n",
      "processing 20220818 23:59:59 US/Eastern\n"
     ]
    },
    {
     "name": "stderr",
     "output_type": "stream",
     "text": [
      "ERROR -1 502 Couldn't connect to TWS. Confirm that \"Enable ActiveX and Socket EClients\" \n",
      "is enabled and connection port is the same as \"Socket Port\" on the \n",
      "TWS \"Edit->Global Configuration...->API->Settings\" menu. Live Trading ports: \n",
      "TWS: 7496; IB Gateway: 4001. Simulated Trading ports for new installations \n",
      "of version 954.1 or newer:  TWS: 7497; IB Gateway: 4002\n"
     ]
    },
    {
     "name": "stdout",
     "output_type": "stream",
     "text": [
      "processing VZ for 20220818 23:59:59 US/Eastern took   3.04 sec\n",
      "processing 20220917 23:59:59 US/Eastern\n"
     ]
    },
    {
     "name": "stderr",
     "output_type": "stream",
     "text": [
      "ERROR -1 502 Couldn't connect to TWS. Confirm that \"Enable ActiveX and Socket EClients\" \n",
      "is enabled and connection port is the same as \"Socket Port\" on the \n",
      "TWS \"Edit->Global Configuration...->API->Settings\" menu. Live Trading ports: \n",
      "TWS: 7496; IB Gateway: 4001. Simulated Trading ports for new installations \n",
      "of version 954.1 or newer:  TWS: 7497; IB Gateway: 4002\n"
     ]
    },
    {
     "name": "stdout",
     "output_type": "stream",
     "text": [
      "processing VZ for 20220917 23:59:59 US/Eastern took   3.05 sec\n",
      "processing 20221017 23:59:59 US/Eastern\n"
     ]
    },
    {
     "name": "stderr",
     "output_type": "stream",
     "text": [
      "ERROR -1 502 Couldn't connect to TWS. Confirm that \"Enable ActiveX and Socket EClients\" \n",
      "is enabled and connection port is the same as \"Socket Port\" on the \n",
      "TWS \"Edit->Global Configuration...->API->Settings\" menu. Live Trading ports: \n",
      "TWS: 7496; IB Gateway: 4001. Simulated Trading ports for new installations \n",
      "of version 954.1 or newer:  TWS: 7497; IB Gateway: 4002\n"
     ]
    },
    {
     "name": "stdout",
     "output_type": "stream",
     "text": [
      "processing VZ for 20221017 23:59:59 US/Eastern took   3.05 sec\n",
      "processing 20221116 23:59:59 US/Eastern\n"
     ]
    },
    {
     "name": "stderr",
     "output_type": "stream",
     "text": [
      "ERROR -1 502 Couldn't connect to TWS. Confirm that \"Enable ActiveX and Socket EClients\" \n",
      "is enabled and connection port is the same as \"Socket Port\" on the \n",
      "TWS \"Edit->Global Configuration...->API->Settings\" menu. Live Trading ports: \n",
      "TWS: 7496; IB Gateway: 4001. Simulated Trading ports for new installations \n",
      "of version 954.1 or newer:  TWS: 7497; IB Gateway: 4002\n"
     ]
    },
    {
     "name": "stdout",
     "output_type": "stream",
     "text": [
      "processing VZ for 20221116 23:59:59 US/Eastern took   3.05 sec\n",
      "processing 20221216 23:59:59 US/Eastern\n"
     ]
    },
    {
     "name": "stderr",
     "output_type": "stream",
     "text": [
      "ERROR -1 502 Couldn't connect to TWS. Confirm that \"Enable ActiveX and Socket EClients\" \n",
      "is enabled and connection port is the same as \"Socket Port\" on the \n",
      "TWS \"Edit->Global Configuration...->API->Settings\" menu. Live Trading ports: \n",
      "TWS: 7496; IB Gateway: 4001. Simulated Trading ports for new installations \n",
      "of version 954.1 or newer:  TWS: 7497; IB Gateway: 4002\n"
     ]
    },
    {
     "name": "stdout",
     "output_type": "stream",
     "text": [
      "processing VZ for 20221216 23:59:59 US/Eastern took   3.03 sec\n",
      "processing 20230115 23:59:59 US/Eastern\n"
     ]
    },
    {
     "name": "stderr",
     "output_type": "stream",
     "text": [
      "ERROR -1 502 Couldn't connect to TWS. Confirm that \"Enable ActiveX and Socket EClients\" \n",
      "is enabled and connection port is the same as \"Socket Port\" on the \n",
      "TWS \"Edit->Global Configuration...->API->Settings\" menu. Live Trading ports: \n",
      "TWS: 7496; IB Gateway: 4001. Simulated Trading ports for new installations \n",
      "of version 954.1 or newer:  TWS: 7497; IB Gateway: 4002\n"
     ]
    },
    {
     "name": "stdout",
     "output_type": "stream",
     "text": [
      "processing VZ for 20230115 23:59:59 US/Eastern took   3.07 sec\n",
      "processing 20230214 23:59:59 US/Eastern\n"
     ]
    },
    {
     "name": "stderr",
     "output_type": "stream",
     "text": [
      "ERROR -1 502 Couldn't connect to TWS. Confirm that \"Enable ActiveX and Socket EClients\" \n",
      "is enabled and connection port is the same as \"Socket Port\" on the \n",
      "TWS \"Edit->Global Configuration...->API->Settings\" menu. Live Trading ports: \n",
      "TWS: 7496; IB Gateway: 4001. Simulated Trading ports for new installations \n",
      "of version 954.1 or newer:  TWS: 7497; IB Gateway: 4002\n"
     ]
    },
    {
     "name": "stdout",
     "output_type": "stream",
     "text": [
      "processing VZ for 20230214 23:59:59 US/Eastern took   3.05 sec\n",
      "processing 20230316 23:59:59 US/Eastern\n"
     ]
    },
    {
     "name": "stderr",
     "output_type": "stream",
     "text": [
      "ERROR -1 502 Couldn't connect to TWS. Confirm that \"Enable ActiveX and Socket EClients\" \n",
      "is enabled and connection port is the same as \"Socket Port\" on the \n",
      "TWS \"Edit->Global Configuration...->API->Settings\" menu. Live Trading ports: \n",
      "TWS: 7496; IB Gateway: 4001. Simulated Trading ports for new installations \n",
      "of version 954.1 or newer:  TWS: 7497; IB Gateway: 4002\n"
     ]
    },
    {
     "name": "stdout",
     "output_type": "stream",
     "text": [
      "processing VZ for 20230316 23:59:59 US/Eastern took   3.06 sec\n",
      "Processing WBA\n",
      "processing 20200101 23:59:59 US/Eastern\n"
     ]
    },
    {
     "name": "stderr",
     "output_type": "stream",
     "text": [
      "ERROR -1 502 Couldn't connect to TWS. Confirm that \"Enable ActiveX and Socket EClients\" \n",
      "is enabled and connection port is the same as \"Socket Port\" on the \n",
      "TWS \"Edit->Global Configuration...->API->Settings\" menu. Live Trading ports: \n",
      "TWS: 7496; IB Gateway: 4001. Simulated Trading ports for new installations \n",
      "of version 954.1 or newer:  TWS: 7497; IB Gateway: 4002\n"
     ]
    },
    {
     "name": "stdout",
     "output_type": "stream",
     "text": [
      "processing WBA for 20200101 23:59:59 US/Eastern took   3.06 sec\n",
      "processing 20200131 23:59:59 US/Eastern\n"
     ]
    },
    {
     "name": "stderr",
     "output_type": "stream",
     "text": [
      "ERROR -1 502 Couldn't connect to TWS. Confirm that \"Enable ActiveX and Socket EClients\" \n",
      "is enabled and connection port is the same as \"Socket Port\" on the \n",
      "TWS \"Edit->Global Configuration...->API->Settings\" menu. Live Trading ports: \n",
      "TWS: 7496; IB Gateway: 4001. Simulated Trading ports for new installations \n",
      "of version 954.1 or newer:  TWS: 7497; IB Gateway: 4002\n"
     ]
    },
    {
     "name": "stdout",
     "output_type": "stream",
     "text": [
      "processing WBA for 20200131 23:59:59 US/Eastern took   3.04 sec\n",
      "processing 20200301 23:59:59 US/Eastern\n"
     ]
    },
    {
     "name": "stderr",
     "output_type": "stream",
     "text": [
      "ERROR -1 502 Couldn't connect to TWS. Confirm that \"Enable ActiveX and Socket EClients\" \n",
      "is enabled and connection port is the same as \"Socket Port\" on the \n",
      "TWS \"Edit->Global Configuration...->API->Settings\" menu. Live Trading ports: \n",
      "TWS: 7496; IB Gateway: 4001. Simulated Trading ports for new installations \n",
      "of version 954.1 or newer:  TWS: 7497; IB Gateway: 4002\n"
     ]
    },
    {
     "name": "stdout",
     "output_type": "stream",
     "text": [
      "processing WBA for 20200301 23:59:59 US/Eastern took   3.05 sec\n",
      "processing 20200331 23:59:59 US/Eastern\n"
     ]
    },
    {
     "name": "stderr",
     "output_type": "stream",
     "text": [
      "ERROR -1 502 Couldn't connect to TWS. Confirm that \"Enable ActiveX and Socket EClients\" \n",
      "is enabled and connection port is the same as \"Socket Port\" on the \n",
      "TWS \"Edit->Global Configuration...->API->Settings\" menu. Live Trading ports: \n",
      "TWS: 7496; IB Gateway: 4001. Simulated Trading ports for new installations \n",
      "of version 954.1 or newer:  TWS: 7497; IB Gateway: 4002\n"
     ]
    },
    {
     "name": "stdout",
     "output_type": "stream",
     "text": [
      "processing WBA for 20200331 23:59:59 US/Eastern took   3.05 sec\n",
      "processing 20200430 23:59:59 US/Eastern\n"
     ]
    },
    {
     "name": "stderr",
     "output_type": "stream",
     "text": [
      "ERROR -1 502 Couldn't connect to TWS. Confirm that \"Enable ActiveX and Socket EClients\" \n",
      "is enabled and connection port is the same as \"Socket Port\" on the \n",
      "TWS \"Edit->Global Configuration...->API->Settings\" menu. Live Trading ports: \n",
      "TWS: 7496; IB Gateway: 4001. Simulated Trading ports for new installations \n",
      "of version 954.1 or newer:  TWS: 7497; IB Gateway: 4002\n"
     ]
    },
    {
     "name": "stdout",
     "output_type": "stream",
     "text": [
      "processing WBA for 20200430 23:59:59 US/Eastern took   3.04 sec\n",
      "processing 20200530 23:59:59 US/Eastern\n"
     ]
    },
    {
     "name": "stderr",
     "output_type": "stream",
     "text": [
      "ERROR -1 502 Couldn't connect to TWS. Confirm that \"Enable ActiveX and Socket EClients\" \n",
      "is enabled and connection port is the same as \"Socket Port\" on the \n",
      "TWS \"Edit->Global Configuration...->API->Settings\" menu. Live Trading ports: \n",
      "TWS: 7496; IB Gateway: 4001. Simulated Trading ports for new installations \n",
      "of version 954.1 or newer:  TWS: 7497; IB Gateway: 4002\n"
     ]
    },
    {
     "name": "stdout",
     "output_type": "stream",
     "text": [
      "processing WBA for 20200530 23:59:59 US/Eastern took   3.05 sec\n",
      "processing 20200629 23:59:59 US/Eastern\n"
     ]
    },
    {
     "name": "stderr",
     "output_type": "stream",
     "text": [
      "ERROR -1 502 Couldn't connect to TWS. Confirm that \"Enable ActiveX and Socket EClients\" \n",
      "is enabled and connection port is the same as \"Socket Port\" on the \n",
      "TWS \"Edit->Global Configuration...->API->Settings\" menu. Live Trading ports: \n",
      "TWS: 7496; IB Gateway: 4001. Simulated Trading ports for new installations \n",
      "of version 954.1 or newer:  TWS: 7497; IB Gateway: 4002\n"
     ]
    },
    {
     "name": "stdout",
     "output_type": "stream",
     "text": [
      "processing WBA for 20200629 23:59:59 US/Eastern took   3.07 sec\n",
      "processing 20200729 23:59:59 US/Eastern\n"
     ]
    },
    {
     "name": "stderr",
     "output_type": "stream",
     "text": [
      "ERROR -1 502 Couldn't connect to TWS. Confirm that \"Enable ActiveX and Socket EClients\" \n",
      "is enabled and connection port is the same as \"Socket Port\" on the \n",
      "TWS \"Edit->Global Configuration...->API->Settings\" menu. Live Trading ports: \n",
      "TWS: 7496; IB Gateway: 4001. Simulated Trading ports for new installations \n",
      "of version 954.1 or newer:  TWS: 7497; IB Gateway: 4002\n"
     ]
    },
    {
     "name": "stdout",
     "output_type": "stream",
     "text": [
      "processing WBA for 20200729 23:59:59 US/Eastern took   3.05 sec\n",
      "processing 20200828 23:59:59 US/Eastern\n"
     ]
    },
    {
     "name": "stderr",
     "output_type": "stream",
     "text": [
      "ERROR -1 502 Couldn't connect to TWS. Confirm that \"Enable ActiveX and Socket EClients\" \n",
      "is enabled and connection port is the same as \"Socket Port\" on the \n",
      "TWS \"Edit->Global Configuration...->API->Settings\" menu. Live Trading ports: \n",
      "TWS: 7496; IB Gateway: 4001. Simulated Trading ports for new installations \n",
      "of version 954.1 or newer:  TWS: 7497; IB Gateway: 4002\n"
     ]
    },
    {
     "name": "stdout",
     "output_type": "stream",
     "text": [
      "processing WBA for 20200828 23:59:59 US/Eastern took   3.05 sec\n",
      "processing 20200927 23:59:59 US/Eastern\n"
     ]
    },
    {
     "name": "stderr",
     "output_type": "stream",
     "text": [
      "ERROR -1 502 Couldn't connect to TWS. Confirm that \"Enable ActiveX and Socket EClients\" \n",
      "is enabled and connection port is the same as \"Socket Port\" on the \n",
      "TWS \"Edit->Global Configuration...->API->Settings\" menu. Live Trading ports: \n",
      "TWS: 7496; IB Gateway: 4001. Simulated Trading ports for new installations \n",
      "of version 954.1 or newer:  TWS: 7497; IB Gateway: 4002\n"
     ]
    },
    {
     "name": "stdout",
     "output_type": "stream",
     "text": [
      "processing WBA for 20200927 23:59:59 US/Eastern took   3.04 sec\n",
      "processing 20201027 23:59:59 US/Eastern\n"
     ]
    },
    {
     "name": "stderr",
     "output_type": "stream",
     "text": [
      "ERROR -1 502 Couldn't connect to TWS. Confirm that \"Enable ActiveX and Socket EClients\" \n",
      "is enabled and connection port is the same as \"Socket Port\" on the \n",
      "TWS \"Edit->Global Configuration...->API->Settings\" menu. Live Trading ports: \n",
      "TWS: 7496; IB Gateway: 4001. Simulated Trading ports for new installations \n",
      "of version 954.1 or newer:  TWS: 7497; IB Gateway: 4002\n"
     ]
    },
    {
     "name": "stdout",
     "output_type": "stream",
     "text": [
      "processing WBA for 20201027 23:59:59 US/Eastern took   3.04 sec\n",
      "processing 20201126 23:59:59 US/Eastern\n"
     ]
    },
    {
     "name": "stderr",
     "output_type": "stream",
     "text": [
      "ERROR -1 502 Couldn't connect to TWS. Confirm that \"Enable ActiveX and Socket EClients\" \n",
      "is enabled and connection port is the same as \"Socket Port\" on the \n",
      "TWS \"Edit->Global Configuration...->API->Settings\" menu. Live Trading ports: \n",
      "TWS: 7496; IB Gateway: 4001. Simulated Trading ports for new installations \n",
      "of version 954.1 or newer:  TWS: 7497; IB Gateway: 4002\n"
     ]
    },
    {
     "name": "stdout",
     "output_type": "stream",
     "text": [
      "processing WBA for 20201126 23:59:59 US/Eastern took   3.05 sec\n",
      "processing 20201226 23:59:59 US/Eastern\n"
     ]
    },
    {
     "name": "stderr",
     "output_type": "stream",
     "text": [
      "ERROR -1 502 Couldn't connect to TWS. Confirm that \"Enable ActiveX and Socket EClients\" \n",
      "is enabled and connection port is the same as \"Socket Port\" on the \n",
      "TWS \"Edit->Global Configuration...->API->Settings\" menu. Live Trading ports: \n",
      "TWS: 7496; IB Gateway: 4001. Simulated Trading ports for new installations \n",
      "of version 954.1 or newer:  TWS: 7497; IB Gateway: 4002\n"
     ]
    },
    {
     "name": "stdout",
     "output_type": "stream",
     "text": [
      "processing WBA for 20201226 23:59:59 US/Eastern took   3.05 sec\n",
      "processing 20210125 23:59:59 US/Eastern\n"
     ]
    },
    {
     "name": "stderr",
     "output_type": "stream",
     "text": [
      "ERROR -1 502 Couldn't connect to TWS. Confirm that \"Enable ActiveX and Socket EClients\" \n",
      "is enabled and connection port is the same as \"Socket Port\" on the \n",
      "TWS \"Edit->Global Configuration...->API->Settings\" menu. Live Trading ports: \n",
      "TWS: 7496; IB Gateway: 4001. Simulated Trading ports for new installations \n",
      "of version 954.1 or newer:  TWS: 7497; IB Gateway: 4002\n"
     ]
    },
    {
     "name": "stdout",
     "output_type": "stream",
     "text": [
      "processing WBA for 20210125 23:59:59 US/Eastern took   3.05 sec\n",
      "processing 20210224 23:59:59 US/Eastern\n"
     ]
    },
    {
     "name": "stderr",
     "output_type": "stream",
     "text": [
      "ERROR -1 502 Couldn't connect to TWS. Confirm that \"Enable ActiveX and Socket EClients\" \n",
      "is enabled and connection port is the same as \"Socket Port\" on the \n",
      "TWS \"Edit->Global Configuration...->API->Settings\" menu. Live Trading ports: \n",
      "TWS: 7496; IB Gateway: 4001. Simulated Trading ports for new installations \n",
      "of version 954.1 or newer:  TWS: 7497; IB Gateway: 4002\n"
     ]
    },
    {
     "name": "stdout",
     "output_type": "stream",
     "text": [
      "processing WBA for 20210224 23:59:59 US/Eastern took   3.06 sec\n",
      "processing 20210326 23:59:59 US/Eastern\n"
     ]
    },
    {
     "name": "stderr",
     "output_type": "stream",
     "text": [
      "ERROR -1 502 Couldn't connect to TWS. Confirm that \"Enable ActiveX and Socket EClients\" \n",
      "is enabled and connection port is the same as \"Socket Port\" on the \n",
      "TWS \"Edit->Global Configuration...->API->Settings\" menu. Live Trading ports: \n",
      "TWS: 7496; IB Gateway: 4001. Simulated Trading ports for new installations \n",
      "of version 954.1 or newer:  TWS: 7497; IB Gateway: 4002\n"
     ]
    },
    {
     "name": "stdout",
     "output_type": "stream",
     "text": [
      "processing WBA for 20210326 23:59:59 US/Eastern took   3.05 sec\n",
      "processing 20210425 23:59:59 US/Eastern\n"
     ]
    },
    {
     "name": "stderr",
     "output_type": "stream",
     "text": [
      "ERROR -1 502 Couldn't connect to TWS. Confirm that \"Enable ActiveX and Socket EClients\" \n",
      "is enabled and connection port is the same as \"Socket Port\" on the \n",
      "TWS \"Edit->Global Configuration...->API->Settings\" menu. Live Trading ports: \n",
      "TWS: 7496; IB Gateway: 4001. Simulated Trading ports for new installations \n",
      "of version 954.1 or newer:  TWS: 7497; IB Gateway: 4002\n"
     ]
    },
    {
     "name": "stdout",
     "output_type": "stream",
     "text": [
      "processing WBA for 20210425 23:59:59 US/Eastern took   3.05 sec\n",
      "processing 20210525 23:59:59 US/Eastern\n"
     ]
    },
    {
     "name": "stderr",
     "output_type": "stream",
     "text": [
      "ERROR -1 502 Couldn't connect to TWS. Confirm that \"Enable ActiveX and Socket EClients\" \n",
      "is enabled and connection port is the same as \"Socket Port\" on the \n",
      "TWS \"Edit->Global Configuration...->API->Settings\" menu. Live Trading ports: \n",
      "TWS: 7496; IB Gateway: 4001. Simulated Trading ports for new installations \n",
      "of version 954.1 or newer:  TWS: 7497; IB Gateway: 4002\n"
     ]
    },
    {
     "name": "stdout",
     "output_type": "stream",
     "text": [
      "processing WBA for 20210525 23:59:59 US/Eastern took   3.04 sec\n",
      "processing 20210624 23:59:59 US/Eastern\n"
     ]
    },
    {
     "name": "stderr",
     "output_type": "stream",
     "text": [
      "ERROR -1 502 Couldn't connect to TWS. Confirm that \"Enable ActiveX and Socket EClients\" \n",
      "is enabled and connection port is the same as \"Socket Port\" on the \n",
      "TWS \"Edit->Global Configuration...->API->Settings\" menu. Live Trading ports: \n",
      "TWS: 7496; IB Gateway: 4001. Simulated Trading ports for new installations \n",
      "of version 954.1 or newer:  TWS: 7497; IB Gateway: 4002\n"
     ]
    },
    {
     "name": "stdout",
     "output_type": "stream",
     "text": [
      "processing WBA for 20210624 23:59:59 US/Eastern took   3.04 sec\n",
      "processing 20210724 23:59:59 US/Eastern\n"
     ]
    },
    {
     "name": "stderr",
     "output_type": "stream",
     "text": [
      "ERROR -1 502 Couldn't connect to TWS. Confirm that \"Enable ActiveX and Socket EClients\" \n",
      "is enabled and connection port is the same as \"Socket Port\" on the \n",
      "TWS \"Edit->Global Configuration...->API->Settings\" menu. Live Trading ports: \n",
      "TWS: 7496; IB Gateway: 4001. Simulated Trading ports for new installations \n",
      "of version 954.1 or newer:  TWS: 7497; IB Gateway: 4002\n"
     ]
    },
    {
     "name": "stdout",
     "output_type": "stream",
     "text": [
      "processing WBA for 20210724 23:59:59 US/Eastern took   3.05 sec\n",
      "processing 20210823 23:59:59 US/Eastern\n"
     ]
    },
    {
     "name": "stderr",
     "output_type": "stream",
     "text": [
      "ERROR -1 502 Couldn't connect to TWS. Confirm that \"Enable ActiveX and Socket EClients\" \n",
      "is enabled and connection port is the same as \"Socket Port\" on the \n",
      "TWS \"Edit->Global Configuration...->API->Settings\" menu. Live Trading ports: \n",
      "TWS: 7496; IB Gateway: 4001. Simulated Trading ports for new installations \n",
      "of version 954.1 or newer:  TWS: 7497; IB Gateway: 4002\n"
     ]
    },
    {
     "name": "stdout",
     "output_type": "stream",
     "text": [
      "processing WBA for 20210823 23:59:59 US/Eastern took   3.05 sec\n",
      "processing 20210922 23:59:59 US/Eastern\n"
     ]
    },
    {
     "name": "stderr",
     "output_type": "stream",
     "text": [
      "ERROR -1 502 Couldn't connect to TWS. Confirm that \"Enable ActiveX and Socket EClients\" \n",
      "is enabled and connection port is the same as \"Socket Port\" on the \n",
      "TWS \"Edit->Global Configuration...->API->Settings\" menu. Live Trading ports: \n",
      "TWS: 7496; IB Gateway: 4001. Simulated Trading ports for new installations \n",
      "of version 954.1 or newer:  TWS: 7497; IB Gateway: 4002\n"
     ]
    },
    {
     "name": "stdout",
     "output_type": "stream",
     "text": [
      "processing WBA for 20210922 23:59:59 US/Eastern took   3.05 sec\n",
      "processing 20211022 23:59:59 US/Eastern\n"
     ]
    },
    {
     "name": "stderr",
     "output_type": "stream",
     "text": [
      "ERROR -1 502 Couldn't connect to TWS. Confirm that \"Enable ActiveX and Socket EClients\" \n",
      "is enabled and connection port is the same as \"Socket Port\" on the \n",
      "TWS \"Edit->Global Configuration...->API->Settings\" menu. Live Trading ports: \n",
      "TWS: 7496; IB Gateway: 4001. Simulated Trading ports for new installations \n",
      "of version 954.1 or newer:  TWS: 7497; IB Gateway: 4002\n"
     ]
    },
    {
     "name": "stdout",
     "output_type": "stream",
     "text": [
      "processing WBA for 20211022 23:59:59 US/Eastern took   3.03 sec\n",
      "processing 20211121 23:59:59 US/Eastern\n"
     ]
    },
    {
     "name": "stderr",
     "output_type": "stream",
     "text": [
      "ERROR -1 502 Couldn't connect to TWS. Confirm that \"Enable ActiveX and Socket EClients\" \n",
      "is enabled and connection port is the same as \"Socket Port\" on the \n",
      "TWS \"Edit->Global Configuration...->API->Settings\" menu. Live Trading ports: \n",
      "TWS: 7496; IB Gateway: 4001. Simulated Trading ports for new installations \n",
      "of version 954.1 or newer:  TWS: 7497; IB Gateway: 4002\n"
     ]
    },
    {
     "name": "stdout",
     "output_type": "stream",
     "text": [
      "processing WBA for 20211121 23:59:59 US/Eastern took   3.05 sec\n",
      "processing 20211221 23:59:59 US/Eastern\n"
     ]
    },
    {
     "name": "stderr",
     "output_type": "stream",
     "text": [
      "ERROR -1 502 Couldn't connect to TWS. Confirm that \"Enable ActiveX and Socket EClients\" \n",
      "is enabled and connection port is the same as \"Socket Port\" on the \n",
      "TWS \"Edit->Global Configuration...->API->Settings\" menu. Live Trading ports: \n",
      "TWS: 7496; IB Gateway: 4001. Simulated Trading ports for new installations \n",
      "of version 954.1 or newer:  TWS: 7497; IB Gateway: 4002\n"
     ]
    },
    {
     "name": "stdout",
     "output_type": "stream",
     "text": [
      "processing WBA for 20211221 23:59:59 US/Eastern took   3.04 sec\n",
      "processing 20220120 23:59:59 US/Eastern\n"
     ]
    },
    {
     "name": "stderr",
     "output_type": "stream",
     "text": [
      "ERROR -1 502 Couldn't connect to TWS. Confirm that \"Enable ActiveX and Socket EClients\" \n",
      "is enabled and connection port is the same as \"Socket Port\" on the \n",
      "TWS \"Edit->Global Configuration...->API->Settings\" menu. Live Trading ports: \n",
      "TWS: 7496; IB Gateway: 4001. Simulated Trading ports for new installations \n",
      "of version 954.1 or newer:  TWS: 7497; IB Gateway: 4002\n"
     ]
    },
    {
     "name": "stdout",
     "output_type": "stream",
     "text": [
      "processing WBA for 20220120 23:59:59 US/Eastern took   3.04 sec\n",
      "processing 20220219 23:59:59 US/Eastern\n"
     ]
    },
    {
     "name": "stderr",
     "output_type": "stream",
     "text": [
      "ERROR -1 502 Couldn't connect to TWS. Confirm that \"Enable ActiveX and Socket EClients\" \n",
      "is enabled and connection port is the same as \"Socket Port\" on the \n",
      "TWS \"Edit->Global Configuration...->API->Settings\" menu. Live Trading ports: \n",
      "TWS: 7496; IB Gateway: 4001. Simulated Trading ports for new installations \n",
      "of version 954.1 or newer:  TWS: 7497; IB Gateway: 4002\n"
     ]
    },
    {
     "name": "stdout",
     "output_type": "stream",
     "text": [
      "processing WBA for 20220219 23:59:59 US/Eastern took   3.04 sec\n",
      "processing 20220321 23:59:59 US/Eastern\n"
     ]
    },
    {
     "name": "stderr",
     "output_type": "stream",
     "text": [
      "ERROR -1 502 Couldn't connect to TWS. Confirm that \"Enable ActiveX and Socket EClients\" \n",
      "is enabled and connection port is the same as \"Socket Port\" on the \n",
      "TWS \"Edit->Global Configuration...->API->Settings\" menu. Live Trading ports: \n",
      "TWS: 7496; IB Gateway: 4001. Simulated Trading ports for new installations \n",
      "of version 954.1 or newer:  TWS: 7497; IB Gateway: 4002\n"
     ]
    },
    {
     "name": "stdout",
     "output_type": "stream",
     "text": [
      "processing WBA for 20220321 23:59:59 US/Eastern took   3.06 sec\n",
      "processing 20220420 23:59:59 US/Eastern\n"
     ]
    },
    {
     "name": "stderr",
     "output_type": "stream",
     "text": [
      "ERROR -1 502 Couldn't connect to TWS. Confirm that \"Enable ActiveX and Socket EClients\" \n",
      "is enabled and connection port is the same as \"Socket Port\" on the \n",
      "TWS \"Edit->Global Configuration...->API->Settings\" menu. Live Trading ports: \n",
      "TWS: 7496; IB Gateway: 4001. Simulated Trading ports for new installations \n",
      "of version 954.1 or newer:  TWS: 7497; IB Gateway: 4002\n"
     ]
    },
    {
     "name": "stdout",
     "output_type": "stream",
     "text": [
      "processing WBA for 20220420 23:59:59 US/Eastern took   3.04 sec\n",
      "processing 20220520 23:59:59 US/Eastern\n"
     ]
    },
    {
     "name": "stderr",
     "output_type": "stream",
     "text": [
      "ERROR -1 502 Couldn't connect to TWS. Confirm that \"Enable ActiveX and Socket EClients\" \n",
      "is enabled and connection port is the same as \"Socket Port\" on the \n",
      "TWS \"Edit->Global Configuration...->API->Settings\" menu. Live Trading ports: \n",
      "TWS: 7496; IB Gateway: 4001. Simulated Trading ports for new installations \n",
      "of version 954.1 or newer:  TWS: 7497; IB Gateway: 4002\n"
     ]
    },
    {
     "name": "stdout",
     "output_type": "stream",
     "text": [
      "processing WBA for 20220520 23:59:59 US/Eastern took   3.06 sec\n",
      "processing 20220619 23:59:59 US/Eastern\n"
     ]
    },
    {
     "name": "stderr",
     "output_type": "stream",
     "text": [
      "ERROR -1 502 Couldn't connect to TWS. Confirm that \"Enable ActiveX and Socket EClients\" \n",
      "is enabled and connection port is the same as \"Socket Port\" on the \n",
      "TWS \"Edit->Global Configuration...->API->Settings\" menu. Live Trading ports: \n",
      "TWS: 7496; IB Gateway: 4001. Simulated Trading ports for new installations \n",
      "of version 954.1 or newer:  TWS: 7497; IB Gateway: 4002\n"
     ]
    },
    {
     "name": "stdout",
     "output_type": "stream",
     "text": [
      "processing WBA for 20220619 23:59:59 US/Eastern took   3.05 sec\n",
      "processing 20220719 23:59:59 US/Eastern\n"
     ]
    },
    {
     "name": "stderr",
     "output_type": "stream",
     "text": [
      "ERROR -1 502 Couldn't connect to TWS. Confirm that \"Enable ActiveX and Socket EClients\" \n",
      "is enabled and connection port is the same as \"Socket Port\" on the \n",
      "TWS \"Edit->Global Configuration...->API->Settings\" menu. Live Trading ports: \n",
      "TWS: 7496; IB Gateway: 4001. Simulated Trading ports for new installations \n",
      "of version 954.1 or newer:  TWS: 7497; IB Gateway: 4002\n"
     ]
    },
    {
     "name": "stdout",
     "output_type": "stream",
     "text": [
      "processing WBA for 20220719 23:59:59 US/Eastern took   3.06 sec\n",
      "processing 20220818 23:59:59 US/Eastern\n"
     ]
    },
    {
     "name": "stderr",
     "output_type": "stream",
     "text": [
      "ERROR -1 502 Couldn't connect to TWS. Confirm that \"Enable ActiveX and Socket EClients\" \n",
      "is enabled and connection port is the same as \"Socket Port\" on the \n",
      "TWS \"Edit->Global Configuration...->API->Settings\" menu. Live Trading ports: \n",
      "TWS: 7496; IB Gateway: 4001. Simulated Trading ports for new installations \n",
      "of version 954.1 or newer:  TWS: 7497; IB Gateway: 4002\n"
     ]
    },
    {
     "name": "stdout",
     "output_type": "stream",
     "text": [
      "processing WBA for 20220818 23:59:59 US/Eastern took   3.05 sec\n",
      "processing 20220917 23:59:59 US/Eastern\n"
     ]
    },
    {
     "name": "stderr",
     "output_type": "stream",
     "text": [
      "ERROR -1 502 Couldn't connect to TWS. Confirm that \"Enable ActiveX and Socket EClients\" \n",
      "is enabled and connection port is the same as \"Socket Port\" on the \n",
      "TWS \"Edit->Global Configuration...->API->Settings\" menu. Live Trading ports: \n",
      "TWS: 7496; IB Gateway: 4001. Simulated Trading ports for new installations \n",
      "of version 954.1 or newer:  TWS: 7497; IB Gateway: 4002\n"
     ]
    },
    {
     "name": "stdout",
     "output_type": "stream",
     "text": [
      "processing WBA for 20220917 23:59:59 US/Eastern took   3.05 sec\n",
      "processing 20221017 23:59:59 US/Eastern\n"
     ]
    },
    {
     "name": "stderr",
     "output_type": "stream",
     "text": [
      "ERROR -1 502 Couldn't connect to TWS. Confirm that \"Enable ActiveX and Socket EClients\" \n",
      "is enabled and connection port is the same as \"Socket Port\" on the \n",
      "TWS \"Edit->Global Configuration...->API->Settings\" menu. Live Trading ports: \n",
      "TWS: 7496; IB Gateway: 4001. Simulated Trading ports for new installations \n",
      "of version 954.1 or newer:  TWS: 7497; IB Gateway: 4002\n"
     ]
    },
    {
     "name": "stdout",
     "output_type": "stream",
     "text": [
      "processing WBA for 20221017 23:59:59 US/Eastern took   3.08 sec\n",
      "processing 20221116 23:59:59 US/Eastern\n"
     ]
    },
    {
     "name": "stderr",
     "output_type": "stream",
     "text": [
      "ERROR -1 502 Couldn't connect to TWS. Confirm that \"Enable ActiveX and Socket EClients\" \n",
      "is enabled and connection port is the same as \"Socket Port\" on the \n",
      "TWS \"Edit->Global Configuration...->API->Settings\" menu. Live Trading ports: \n",
      "TWS: 7496; IB Gateway: 4001. Simulated Trading ports for new installations \n",
      "of version 954.1 or newer:  TWS: 7497; IB Gateway: 4002\n"
     ]
    },
    {
     "name": "stdout",
     "output_type": "stream",
     "text": [
      "processing WBA for 20221116 23:59:59 US/Eastern took   3.04 sec\n",
      "processing 20221216 23:59:59 US/Eastern\n"
     ]
    },
    {
     "name": "stderr",
     "output_type": "stream",
     "text": [
      "ERROR -1 502 Couldn't connect to TWS. Confirm that \"Enable ActiveX and Socket EClients\" \n",
      "is enabled and connection port is the same as \"Socket Port\" on the \n",
      "TWS \"Edit->Global Configuration...->API->Settings\" menu. Live Trading ports: \n",
      "TWS: 7496; IB Gateway: 4001. Simulated Trading ports for new installations \n",
      "of version 954.1 or newer:  TWS: 7497; IB Gateway: 4002\n"
     ]
    },
    {
     "name": "stdout",
     "output_type": "stream",
     "text": [
      "processing WBA for 20221216 23:59:59 US/Eastern took   3.04 sec\n",
      "processing 20230115 23:59:59 US/Eastern\n"
     ]
    },
    {
     "name": "stderr",
     "output_type": "stream",
     "text": [
      "ERROR -1 502 Couldn't connect to TWS. Confirm that \"Enable ActiveX and Socket EClients\" \n",
      "is enabled and connection port is the same as \"Socket Port\" on the \n",
      "TWS \"Edit->Global Configuration...->API->Settings\" menu. Live Trading ports: \n",
      "TWS: 7496; IB Gateway: 4001. Simulated Trading ports for new installations \n",
      "of version 954.1 or newer:  TWS: 7497; IB Gateway: 4002\n"
     ]
    },
    {
     "name": "stdout",
     "output_type": "stream",
     "text": [
      "processing WBA for 20230115 23:59:59 US/Eastern took   3.05 sec\n",
      "processing 20230214 23:59:59 US/Eastern\n"
     ]
    },
    {
     "name": "stderr",
     "output_type": "stream",
     "text": [
      "ERROR -1 502 Couldn't connect to TWS. Confirm that \"Enable ActiveX and Socket EClients\" \n",
      "is enabled and connection port is the same as \"Socket Port\" on the \n",
      "TWS \"Edit->Global Configuration...->API->Settings\" menu. Live Trading ports: \n",
      "TWS: 7496; IB Gateway: 4001. Simulated Trading ports for new installations \n",
      "of version 954.1 or newer:  TWS: 7497; IB Gateway: 4002\n"
     ]
    },
    {
     "name": "stdout",
     "output_type": "stream",
     "text": [
      "processing WBA for 20230214 23:59:59 US/Eastern took   3.05 sec\n",
      "processing 20230316 23:59:59 US/Eastern\n"
     ]
    },
    {
     "name": "stderr",
     "output_type": "stream",
     "text": [
      "ERROR -1 502 Couldn't connect to TWS. Confirm that \"Enable ActiveX and Socket EClients\" \n",
      "is enabled and connection port is the same as \"Socket Port\" on the \n",
      "TWS \"Edit->Global Configuration...->API->Settings\" menu. Live Trading ports: \n",
      "TWS: 7496; IB Gateway: 4001. Simulated Trading ports for new installations \n",
      "of version 954.1 or newer:  TWS: 7497; IB Gateway: 4002\n"
     ]
    },
    {
     "name": "stdout",
     "output_type": "stream",
     "text": [
      "processing WBA for 20230316 23:59:59 US/Eastern took   3.06 sec\n",
      "Processing WMT\n",
      "processing 20200101 23:59:59 US/Eastern\n"
     ]
    },
    {
     "name": "stderr",
     "output_type": "stream",
     "text": [
      "ERROR -1 502 Couldn't connect to TWS. Confirm that \"Enable ActiveX and Socket EClients\" \n",
      "is enabled and connection port is the same as \"Socket Port\" on the \n",
      "TWS \"Edit->Global Configuration...->API->Settings\" menu. Live Trading ports: \n",
      "TWS: 7496; IB Gateway: 4001. Simulated Trading ports for new installations \n",
      "of version 954.1 or newer:  TWS: 7497; IB Gateway: 4002\n"
     ]
    },
    {
     "name": "stdout",
     "output_type": "stream",
     "text": [
      "processing WMT for 20200101 23:59:59 US/Eastern took   3.05 sec\n",
      "processing 20200131 23:59:59 US/Eastern\n"
     ]
    },
    {
     "name": "stderr",
     "output_type": "stream",
     "text": [
      "ERROR -1 502 Couldn't connect to TWS. Confirm that \"Enable ActiveX and Socket EClients\" \n",
      "is enabled and connection port is the same as \"Socket Port\" on the \n",
      "TWS \"Edit->Global Configuration...->API->Settings\" menu. Live Trading ports: \n",
      "TWS: 7496; IB Gateway: 4001. Simulated Trading ports for new installations \n",
      "of version 954.1 or newer:  TWS: 7497; IB Gateway: 4002\n"
     ]
    },
    {
     "name": "stdout",
     "output_type": "stream",
     "text": [
      "processing WMT for 20200131 23:59:59 US/Eastern took   3.04 sec\n",
      "processing 20200301 23:59:59 US/Eastern\n"
     ]
    },
    {
     "name": "stderr",
     "output_type": "stream",
     "text": [
      "ERROR -1 502 Couldn't connect to TWS. Confirm that \"Enable ActiveX and Socket EClients\" \n",
      "is enabled and connection port is the same as \"Socket Port\" on the \n",
      "TWS \"Edit->Global Configuration...->API->Settings\" menu. Live Trading ports: \n",
      "TWS: 7496; IB Gateway: 4001. Simulated Trading ports for new installations \n",
      "of version 954.1 or newer:  TWS: 7497; IB Gateway: 4002\n"
     ]
    },
    {
     "name": "stdout",
     "output_type": "stream",
     "text": [
      "processing WMT for 20200301 23:59:59 US/Eastern took   3.06 sec\n",
      "processing 20200331 23:59:59 US/Eastern\n"
     ]
    },
    {
     "name": "stderr",
     "output_type": "stream",
     "text": [
      "ERROR -1 502 Couldn't connect to TWS. Confirm that \"Enable ActiveX and Socket EClients\" \n",
      "is enabled and connection port is the same as \"Socket Port\" on the \n",
      "TWS \"Edit->Global Configuration...->API->Settings\" menu. Live Trading ports: \n",
      "TWS: 7496; IB Gateway: 4001. Simulated Trading ports for new installations \n",
      "of version 954.1 or newer:  TWS: 7497; IB Gateway: 4002\n"
     ]
    },
    {
     "name": "stdout",
     "output_type": "stream",
     "text": [
      "processing WMT for 20200331 23:59:59 US/Eastern took   3.09 sec\n",
      "processing 20200430 23:59:59 US/Eastern\n"
     ]
    },
    {
     "name": "stderr",
     "output_type": "stream",
     "text": [
      "ERROR -1 502 Couldn't connect to TWS. Confirm that \"Enable ActiveX and Socket EClients\" \n",
      "is enabled and connection port is the same as \"Socket Port\" on the \n",
      "TWS \"Edit->Global Configuration...->API->Settings\" menu. Live Trading ports: \n",
      "TWS: 7496; IB Gateway: 4001. Simulated Trading ports for new installations \n",
      "of version 954.1 or newer:  TWS: 7497; IB Gateway: 4002\n"
     ]
    },
    {
     "name": "stdout",
     "output_type": "stream",
     "text": [
      "processing WMT for 20200430 23:59:59 US/Eastern took   3.05 sec\n",
      "processing 20200530 23:59:59 US/Eastern\n"
     ]
    },
    {
     "name": "stderr",
     "output_type": "stream",
     "text": [
      "ERROR -1 502 Couldn't connect to TWS. Confirm that \"Enable ActiveX and Socket EClients\" \n",
      "is enabled and connection port is the same as \"Socket Port\" on the \n",
      "TWS \"Edit->Global Configuration...->API->Settings\" menu. Live Trading ports: \n",
      "TWS: 7496; IB Gateway: 4001. Simulated Trading ports for new installations \n",
      "of version 954.1 or newer:  TWS: 7497; IB Gateway: 4002\n"
     ]
    },
    {
     "name": "stdout",
     "output_type": "stream",
     "text": [
      "processing WMT for 20200530 23:59:59 US/Eastern took   3.05 sec\n",
      "processing 20200629 23:59:59 US/Eastern\n"
     ]
    },
    {
     "name": "stderr",
     "output_type": "stream",
     "text": [
      "ERROR -1 502 Couldn't connect to TWS. Confirm that \"Enable ActiveX and Socket EClients\" \n",
      "is enabled and connection port is the same as \"Socket Port\" on the \n",
      "TWS \"Edit->Global Configuration...->API->Settings\" menu. Live Trading ports: \n",
      "TWS: 7496; IB Gateway: 4001. Simulated Trading ports for new installations \n",
      "of version 954.1 or newer:  TWS: 7497; IB Gateway: 4002\n"
     ]
    },
    {
     "name": "stdout",
     "output_type": "stream",
     "text": [
      "processing WMT for 20200629 23:59:59 US/Eastern took   3.06 sec\n",
      "processing 20200729 23:59:59 US/Eastern\n"
     ]
    },
    {
     "name": "stderr",
     "output_type": "stream",
     "text": [
      "ERROR -1 502 Couldn't connect to TWS. Confirm that \"Enable ActiveX and Socket EClients\" \n",
      "is enabled and connection port is the same as \"Socket Port\" on the \n",
      "TWS \"Edit->Global Configuration...->API->Settings\" menu. Live Trading ports: \n",
      "TWS: 7496; IB Gateway: 4001. Simulated Trading ports for new installations \n",
      "of version 954.1 or newer:  TWS: 7497; IB Gateway: 4002\n"
     ]
    },
    {
     "name": "stdout",
     "output_type": "stream",
     "text": [
      "processing WMT for 20200729 23:59:59 US/Eastern took   3.05 sec\n",
      "processing 20200828 23:59:59 US/Eastern\n"
     ]
    },
    {
     "name": "stderr",
     "output_type": "stream",
     "text": [
      "ERROR -1 502 Couldn't connect to TWS. Confirm that \"Enable ActiveX and Socket EClients\" \n",
      "is enabled and connection port is the same as \"Socket Port\" on the \n",
      "TWS \"Edit->Global Configuration...->API->Settings\" menu. Live Trading ports: \n",
      "TWS: 7496; IB Gateway: 4001. Simulated Trading ports for new installations \n",
      "of version 954.1 or newer:  TWS: 7497; IB Gateway: 4002\n"
     ]
    },
    {
     "name": "stdout",
     "output_type": "stream",
     "text": [
      "processing WMT for 20200828 23:59:59 US/Eastern took   3.05 sec\n",
      "processing 20200927 23:59:59 US/Eastern\n"
     ]
    },
    {
     "name": "stderr",
     "output_type": "stream",
     "text": [
      "ERROR -1 502 Couldn't connect to TWS. Confirm that \"Enable ActiveX and Socket EClients\" \n",
      "is enabled and connection port is the same as \"Socket Port\" on the \n",
      "TWS \"Edit->Global Configuration...->API->Settings\" menu. Live Trading ports: \n",
      "TWS: 7496; IB Gateway: 4001. Simulated Trading ports for new installations \n",
      "of version 954.1 or newer:  TWS: 7497; IB Gateway: 4002\n"
     ]
    },
    {
     "name": "stdout",
     "output_type": "stream",
     "text": [
      "processing WMT for 20200927 23:59:59 US/Eastern took   3.04 sec\n",
      "processing 20201027 23:59:59 US/Eastern\n"
     ]
    },
    {
     "name": "stderr",
     "output_type": "stream",
     "text": [
      "ERROR -1 502 Couldn't connect to TWS. Confirm that \"Enable ActiveX and Socket EClients\" \n",
      "is enabled and connection port is the same as \"Socket Port\" on the \n",
      "TWS \"Edit->Global Configuration...->API->Settings\" menu. Live Trading ports: \n",
      "TWS: 7496; IB Gateway: 4001. Simulated Trading ports for new installations \n",
      "of version 954.1 or newer:  TWS: 7497; IB Gateway: 4002\n"
     ]
    },
    {
     "name": "stdout",
     "output_type": "stream",
     "text": [
      "processing WMT for 20201027 23:59:59 US/Eastern took   3.03 sec\n",
      "processing 20201126 23:59:59 US/Eastern\n"
     ]
    },
    {
     "name": "stderr",
     "output_type": "stream",
     "text": [
      "ERROR -1 502 Couldn't connect to TWS. Confirm that \"Enable ActiveX and Socket EClients\" \n",
      "is enabled and connection port is the same as \"Socket Port\" on the \n",
      "TWS \"Edit->Global Configuration...->API->Settings\" menu. Live Trading ports: \n",
      "TWS: 7496; IB Gateway: 4001. Simulated Trading ports for new installations \n",
      "of version 954.1 or newer:  TWS: 7497; IB Gateway: 4002\n"
     ]
    },
    {
     "name": "stdout",
     "output_type": "stream",
     "text": [
      "processing WMT for 20201126 23:59:59 US/Eastern took   3.03 sec\n",
      "processing 20201226 23:59:59 US/Eastern\n"
     ]
    },
    {
     "name": "stderr",
     "output_type": "stream",
     "text": [
      "ERROR -1 502 Couldn't connect to TWS. Confirm that \"Enable ActiveX and Socket EClients\" \n",
      "is enabled and connection port is the same as \"Socket Port\" on the \n",
      "TWS \"Edit->Global Configuration...->API->Settings\" menu. Live Trading ports: \n",
      "TWS: 7496; IB Gateway: 4001. Simulated Trading ports for new installations \n",
      "of version 954.1 or newer:  TWS: 7497; IB Gateway: 4002\n"
     ]
    },
    {
     "name": "stdout",
     "output_type": "stream",
     "text": [
      "processing WMT for 20201226 23:59:59 US/Eastern took   3.04 sec\n",
      "processing 20210125 23:59:59 US/Eastern\n"
     ]
    },
    {
     "name": "stderr",
     "output_type": "stream",
     "text": [
      "ERROR -1 502 Couldn't connect to TWS. Confirm that \"Enable ActiveX and Socket EClients\" \n",
      "is enabled and connection port is the same as \"Socket Port\" on the \n",
      "TWS \"Edit->Global Configuration...->API->Settings\" menu. Live Trading ports: \n",
      "TWS: 7496; IB Gateway: 4001. Simulated Trading ports for new installations \n",
      "of version 954.1 or newer:  TWS: 7497; IB Gateway: 4002\n"
     ]
    },
    {
     "name": "stdout",
     "output_type": "stream",
     "text": [
      "processing WMT for 20210125 23:59:59 US/Eastern took   3.04 sec\n",
      "processing 20210224 23:59:59 US/Eastern\n"
     ]
    },
    {
     "name": "stderr",
     "output_type": "stream",
     "text": [
      "ERROR -1 502 Couldn't connect to TWS. Confirm that \"Enable ActiveX and Socket EClients\" \n",
      "is enabled and connection port is the same as \"Socket Port\" on the \n",
      "TWS \"Edit->Global Configuration...->API->Settings\" menu. Live Trading ports: \n",
      "TWS: 7496; IB Gateway: 4001. Simulated Trading ports for new installations \n",
      "of version 954.1 or newer:  TWS: 7497; IB Gateway: 4002\n"
     ]
    },
    {
     "name": "stdout",
     "output_type": "stream",
     "text": [
      "processing WMT for 20210224 23:59:59 US/Eastern took   3.05 sec\n",
      "processing 20210326 23:59:59 US/Eastern\n"
     ]
    },
    {
     "name": "stderr",
     "output_type": "stream",
     "text": [
      "ERROR -1 502 Couldn't connect to TWS. Confirm that \"Enable ActiveX and Socket EClients\" \n",
      "is enabled and connection port is the same as \"Socket Port\" on the \n",
      "TWS \"Edit->Global Configuration...->API->Settings\" menu. Live Trading ports: \n",
      "TWS: 7496; IB Gateway: 4001. Simulated Trading ports for new installations \n",
      "of version 954.1 or newer:  TWS: 7497; IB Gateway: 4002\n"
     ]
    },
    {
     "name": "stdout",
     "output_type": "stream",
     "text": [
      "processing WMT for 20210326 23:59:59 US/Eastern took   3.04 sec\n",
      "processing 20210425 23:59:59 US/Eastern\n"
     ]
    },
    {
     "name": "stderr",
     "output_type": "stream",
     "text": [
      "ERROR -1 502 Couldn't connect to TWS. Confirm that \"Enable ActiveX and Socket EClients\" \n",
      "is enabled and connection port is the same as \"Socket Port\" on the \n",
      "TWS \"Edit->Global Configuration...->API->Settings\" menu. Live Trading ports: \n",
      "TWS: 7496; IB Gateway: 4001. Simulated Trading ports for new installations \n",
      "of version 954.1 or newer:  TWS: 7497; IB Gateway: 4002\n"
     ]
    },
    {
     "name": "stdout",
     "output_type": "stream",
     "text": [
      "processing WMT for 20210425 23:59:59 US/Eastern took   3.04 sec\n",
      "processing 20210525 23:59:59 US/Eastern\n"
     ]
    },
    {
     "name": "stderr",
     "output_type": "stream",
     "text": [
      "ERROR -1 502 Couldn't connect to TWS. Confirm that \"Enable ActiveX and Socket EClients\" \n",
      "is enabled and connection port is the same as \"Socket Port\" on the \n",
      "TWS \"Edit->Global Configuration...->API->Settings\" menu. Live Trading ports: \n",
      "TWS: 7496; IB Gateway: 4001. Simulated Trading ports for new installations \n",
      "of version 954.1 or newer:  TWS: 7497; IB Gateway: 4002\n"
     ]
    },
    {
     "name": "stdout",
     "output_type": "stream",
     "text": [
      "processing WMT for 20210525 23:59:59 US/Eastern took   3.03 sec\n",
      "processing 20210624 23:59:59 US/Eastern\n"
     ]
    },
    {
     "name": "stderr",
     "output_type": "stream",
     "text": [
      "ERROR -1 502 Couldn't connect to TWS. Confirm that \"Enable ActiveX and Socket EClients\" \n",
      "is enabled and connection port is the same as \"Socket Port\" on the \n",
      "TWS \"Edit->Global Configuration...->API->Settings\" menu. Live Trading ports: \n",
      "TWS: 7496; IB Gateway: 4001. Simulated Trading ports for new installations \n",
      "of version 954.1 or newer:  TWS: 7497; IB Gateway: 4002\n"
     ]
    },
    {
     "name": "stdout",
     "output_type": "stream",
     "text": [
      "processing WMT for 20210624 23:59:59 US/Eastern took   3.06 sec\n",
      "processing 20210724 23:59:59 US/Eastern\n"
     ]
    },
    {
     "name": "stderr",
     "output_type": "stream",
     "text": [
      "ERROR -1 502 Couldn't connect to TWS. Confirm that \"Enable ActiveX and Socket EClients\" \n",
      "is enabled and connection port is the same as \"Socket Port\" on the \n",
      "TWS \"Edit->Global Configuration...->API->Settings\" menu. Live Trading ports: \n",
      "TWS: 7496; IB Gateway: 4001. Simulated Trading ports for new installations \n",
      "of version 954.1 or newer:  TWS: 7497; IB Gateway: 4002\n"
     ]
    },
    {
     "name": "stdout",
     "output_type": "stream",
     "text": [
      "processing WMT for 20210724 23:59:59 US/Eastern took   3.04 sec\n",
      "processing 20210823 23:59:59 US/Eastern\n"
     ]
    },
    {
     "name": "stderr",
     "output_type": "stream",
     "text": [
      "ERROR -1 502 Couldn't connect to TWS. Confirm that \"Enable ActiveX and Socket EClients\" \n",
      "is enabled and connection port is the same as \"Socket Port\" on the \n",
      "TWS \"Edit->Global Configuration...->API->Settings\" menu. Live Trading ports: \n",
      "TWS: 7496; IB Gateway: 4001. Simulated Trading ports for new installations \n",
      "of version 954.1 or newer:  TWS: 7497; IB Gateway: 4002\n"
     ]
    },
    {
     "name": "stdout",
     "output_type": "stream",
     "text": [
      "processing WMT for 20210823 23:59:59 US/Eastern took   3.06 sec\n",
      "processing 20210922 23:59:59 US/Eastern\n"
     ]
    },
    {
     "name": "stderr",
     "output_type": "stream",
     "text": [
      "ERROR -1 502 Couldn't connect to TWS. Confirm that \"Enable ActiveX and Socket EClients\" \n",
      "is enabled and connection port is the same as \"Socket Port\" on the \n",
      "TWS \"Edit->Global Configuration...->API->Settings\" menu. Live Trading ports: \n",
      "TWS: 7496; IB Gateway: 4001. Simulated Trading ports for new installations \n",
      "of version 954.1 or newer:  TWS: 7497; IB Gateway: 4002\n"
     ]
    },
    {
     "name": "stdout",
     "output_type": "stream",
     "text": [
      "processing WMT for 20210922 23:59:59 US/Eastern took   3.07 sec\n",
      "processing 20211022 23:59:59 US/Eastern\n"
     ]
    },
    {
     "name": "stderr",
     "output_type": "stream",
     "text": [
      "ERROR -1 502 Couldn't connect to TWS. Confirm that \"Enable ActiveX and Socket EClients\" \n",
      "is enabled and connection port is the same as \"Socket Port\" on the \n",
      "TWS \"Edit->Global Configuration...->API->Settings\" menu. Live Trading ports: \n",
      "TWS: 7496; IB Gateway: 4001. Simulated Trading ports for new installations \n",
      "of version 954.1 or newer:  TWS: 7497; IB Gateway: 4002\n"
     ]
    },
    {
     "name": "stdout",
     "output_type": "stream",
     "text": [
      "processing WMT for 20211022 23:59:59 US/Eastern took   3.07 sec\n",
      "processing 20211121 23:59:59 US/Eastern\n"
     ]
    },
    {
     "name": "stderr",
     "output_type": "stream",
     "text": [
      "ERROR -1 502 Couldn't connect to TWS. Confirm that \"Enable ActiveX and Socket EClients\" \n",
      "is enabled and connection port is the same as \"Socket Port\" on the \n",
      "TWS \"Edit->Global Configuration...->API->Settings\" menu. Live Trading ports: \n",
      "TWS: 7496; IB Gateway: 4001. Simulated Trading ports for new installations \n",
      "of version 954.1 or newer:  TWS: 7497; IB Gateway: 4002\n"
     ]
    },
    {
     "name": "stdout",
     "output_type": "stream",
     "text": [
      "processing WMT for 20211121 23:59:59 US/Eastern took   3.06 sec\n",
      "processing 20211221 23:59:59 US/Eastern\n"
     ]
    },
    {
     "name": "stderr",
     "output_type": "stream",
     "text": [
      "ERROR -1 502 Couldn't connect to TWS. Confirm that \"Enable ActiveX and Socket EClients\" \n",
      "is enabled and connection port is the same as \"Socket Port\" on the \n",
      "TWS \"Edit->Global Configuration...->API->Settings\" menu. Live Trading ports: \n",
      "TWS: 7496; IB Gateway: 4001. Simulated Trading ports for new installations \n",
      "of version 954.1 or newer:  TWS: 7497; IB Gateway: 4002\n"
     ]
    },
    {
     "name": "stdout",
     "output_type": "stream",
     "text": [
      "processing WMT for 20211221 23:59:59 US/Eastern took   3.04 sec\n",
      "processing 20220120 23:59:59 US/Eastern\n"
     ]
    },
    {
     "name": "stderr",
     "output_type": "stream",
     "text": [
      "ERROR -1 502 Couldn't connect to TWS. Confirm that \"Enable ActiveX and Socket EClients\" \n",
      "is enabled and connection port is the same as \"Socket Port\" on the \n",
      "TWS \"Edit->Global Configuration...->API->Settings\" menu. Live Trading ports: \n",
      "TWS: 7496; IB Gateway: 4001. Simulated Trading ports for new installations \n",
      "of version 954.1 or newer:  TWS: 7497; IB Gateway: 4002\n"
     ]
    },
    {
     "name": "stdout",
     "output_type": "stream",
     "text": [
      "processing WMT for 20220120 23:59:59 US/Eastern took   3.06 sec\n",
      "processing 20220219 23:59:59 US/Eastern\n"
     ]
    },
    {
     "name": "stderr",
     "output_type": "stream",
     "text": [
      "ERROR -1 502 Couldn't connect to TWS. Confirm that \"Enable ActiveX and Socket EClients\" \n",
      "is enabled and connection port is the same as \"Socket Port\" on the \n",
      "TWS \"Edit->Global Configuration...->API->Settings\" menu. Live Trading ports: \n",
      "TWS: 7496; IB Gateway: 4001. Simulated Trading ports for new installations \n",
      "of version 954.1 or newer:  TWS: 7497; IB Gateway: 4002\n"
     ]
    },
    {
     "name": "stdout",
     "output_type": "stream",
     "text": [
      "processing WMT for 20220219 23:59:59 US/Eastern took   3.04 sec\n",
      "processing 20220321 23:59:59 US/Eastern\n"
     ]
    },
    {
     "name": "stderr",
     "output_type": "stream",
     "text": [
      "ERROR -1 502 Couldn't connect to TWS. Confirm that \"Enable ActiveX and Socket EClients\" \n",
      "is enabled and connection port is the same as \"Socket Port\" on the \n",
      "TWS \"Edit->Global Configuration...->API->Settings\" menu. Live Trading ports: \n",
      "TWS: 7496; IB Gateway: 4001. Simulated Trading ports for new installations \n",
      "of version 954.1 or newer:  TWS: 7497; IB Gateway: 4002\n"
     ]
    },
    {
     "name": "stdout",
     "output_type": "stream",
     "text": [
      "processing WMT for 20220321 23:59:59 US/Eastern took   3.05 sec\n",
      "processing 20220420 23:59:59 US/Eastern\n"
     ]
    },
    {
     "name": "stderr",
     "output_type": "stream",
     "text": [
      "ERROR -1 502 Couldn't connect to TWS. Confirm that \"Enable ActiveX and Socket EClients\" \n",
      "is enabled and connection port is the same as \"Socket Port\" on the \n",
      "TWS \"Edit->Global Configuration...->API->Settings\" menu. Live Trading ports: \n",
      "TWS: 7496; IB Gateway: 4001. Simulated Trading ports for new installations \n",
      "of version 954.1 or newer:  TWS: 7497; IB Gateway: 4002\n"
     ]
    },
    {
     "name": "stdout",
     "output_type": "stream",
     "text": [
      "processing WMT for 20220420 23:59:59 US/Eastern took   3.04 sec\n",
      "processing 20220520 23:59:59 US/Eastern\n"
     ]
    },
    {
     "name": "stderr",
     "output_type": "stream",
     "text": [
      "ERROR -1 502 Couldn't connect to TWS. Confirm that \"Enable ActiveX and Socket EClients\" \n",
      "is enabled and connection port is the same as \"Socket Port\" on the \n",
      "TWS \"Edit->Global Configuration...->API->Settings\" menu. Live Trading ports: \n",
      "TWS: 7496; IB Gateway: 4001. Simulated Trading ports for new installations \n",
      "of version 954.1 or newer:  TWS: 7497; IB Gateway: 4002\n"
     ]
    },
    {
     "name": "stdout",
     "output_type": "stream",
     "text": [
      "processing WMT for 20220520 23:59:59 US/Eastern took   3.04 sec\n",
      "processing 20220619 23:59:59 US/Eastern\n"
     ]
    },
    {
     "name": "stderr",
     "output_type": "stream",
     "text": [
      "ERROR -1 502 Couldn't connect to TWS. Confirm that \"Enable ActiveX and Socket EClients\" \n",
      "is enabled and connection port is the same as \"Socket Port\" on the \n",
      "TWS \"Edit->Global Configuration...->API->Settings\" menu. Live Trading ports: \n",
      "TWS: 7496; IB Gateway: 4001. Simulated Trading ports for new installations \n",
      "of version 954.1 or newer:  TWS: 7497; IB Gateway: 4002\n"
     ]
    },
    {
     "name": "stdout",
     "output_type": "stream",
     "text": [
      "processing WMT for 20220619 23:59:59 US/Eastern took   3.04 sec\n",
      "processing 20220719 23:59:59 US/Eastern\n"
     ]
    },
    {
     "name": "stderr",
     "output_type": "stream",
     "text": [
      "ERROR -1 502 Couldn't connect to TWS. Confirm that \"Enable ActiveX and Socket EClients\" \n",
      "is enabled and connection port is the same as \"Socket Port\" on the \n",
      "TWS \"Edit->Global Configuration...->API->Settings\" menu. Live Trading ports: \n",
      "TWS: 7496; IB Gateway: 4001. Simulated Trading ports for new installations \n",
      "of version 954.1 or newer:  TWS: 7497; IB Gateway: 4002\n"
     ]
    },
    {
     "name": "stdout",
     "output_type": "stream",
     "text": [
      "processing WMT for 20220719 23:59:59 US/Eastern took   3.06 sec\n",
      "processing 20220818 23:59:59 US/Eastern\n"
     ]
    },
    {
     "name": "stderr",
     "output_type": "stream",
     "text": [
      "ERROR -1 502 Couldn't connect to TWS. Confirm that \"Enable ActiveX and Socket EClients\" \n",
      "is enabled and connection port is the same as \"Socket Port\" on the \n",
      "TWS \"Edit->Global Configuration...->API->Settings\" menu. Live Trading ports: \n",
      "TWS: 7496; IB Gateway: 4001. Simulated Trading ports for new installations \n",
      "of version 954.1 or newer:  TWS: 7497; IB Gateway: 4002\n"
     ]
    },
    {
     "name": "stdout",
     "output_type": "stream",
     "text": [
      "processing WMT for 20220818 23:59:59 US/Eastern took   3.04 sec\n",
      "processing 20220917 23:59:59 US/Eastern\n"
     ]
    },
    {
     "name": "stderr",
     "output_type": "stream",
     "text": [
      "ERROR -1 502 Couldn't connect to TWS. Confirm that \"Enable ActiveX and Socket EClients\" \n",
      "is enabled and connection port is the same as \"Socket Port\" on the \n",
      "TWS \"Edit->Global Configuration...->API->Settings\" menu. Live Trading ports: \n",
      "TWS: 7496; IB Gateway: 4001. Simulated Trading ports for new installations \n",
      "of version 954.1 or newer:  TWS: 7497; IB Gateway: 4002\n"
     ]
    },
    {
     "name": "stdout",
     "output_type": "stream",
     "text": [
      "processing WMT for 20220917 23:59:59 US/Eastern took   3.03 sec\n",
      "processing 20221017 23:59:59 US/Eastern\n"
     ]
    },
    {
     "name": "stderr",
     "output_type": "stream",
     "text": [
      "ERROR -1 502 Couldn't connect to TWS. Confirm that \"Enable ActiveX and Socket EClients\" \n",
      "is enabled and connection port is the same as \"Socket Port\" on the \n",
      "TWS \"Edit->Global Configuration...->API->Settings\" menu. Live Trading ports: \n",
      "TWS: 7496; IB Gateway: 4001. Simulated Trading ports for new installations \n",
      "of version 954.1 or newer:  TWS: 7497; IB Gateway: 4002\n"
     ]
    },
    {
     "name": "stdout",
     "output_type": "stream",
     "text": [
      "processing WMT for 20221017 23:59:59 US/Eastern took   3.04 sec\n",
      "processing 20221116 23:59:59 US/Eastern\n"
     ]
    },
    {
     "name": "stderr",
     "output_type": "stream",
     "text": [
      "ERROR -1 502 Couldn't connect to TWS. Confirm that \"Enable ActiveX and Socket EClients\" \n",
      "is enabled and connection port is the same as \"Socket Port\" on the \n",
      "TWS \"Edit->Global Configuration...->API->Settings\" menu. Live Trading ports: \n",
      "TWS: 7496; IB Gateway: 4001. Simulated Trading ports for new installations \n",
      "of version 954.1 or newer:  TWS: 7497; IB Gateway: 4002\n"
     ]
    },
    {
     "name": "stdout",
     "output_type": "stream",
     "text": [
      "processing WMT for 20221116 23:59:59 US/Eastern took   3.05 sec\n",
      "processing 20221216 23:59:59 US/Eastern\n"
     ]
    },
    {
     "name": "stderr",
     "output_type": "stream",
     "text": [
      "ERROR -1 502 Couldn't connect to TWS. Confirm that \"Enable ActiveX and Socket EClients\" \n",
      "is enabled and connection port is the same as \"Socket Port\" on the \n",
      "TWS \"Edit->Global Configuration...->API->Settings\" menu. Live Trading ports: \n",
      "TWS: 7496; IB Gateway: 4001. Simulated Trading ports for new installations \n",
      "of version 954.1 or newer:  TWS: 7497; IB Gateway: 4002\n"
     ]
    },
    {
     "name": "stdout",
     "output_type": "stream",
     "text": [
      "processing WMT for 20221216 23:59:59 US/Eastern took   3.05 sec\n",
      "processing 20230115 23:59:59 US/Eastern\n"
     ]
    },
    {
     "name": "stderr",
     "output_type": "stream",
     "text": [
      "ERROR -1 502 Couldn't connect to TWS. Confirm that \"Enable ActiveX and Socket EClients\" \n",
      "is enabled and connection port is the same as \"Socket Port\" on the \n",
      "TWS \"Edit->Global Configuration...->API->Settings\" menu. Live Trading ports: \n",
      "TWS: 7496; IB Gateway: 4001. Simulated Trading ports for new installations \n",
      "of version 954.1 or newer:  TWS: 7497; IB Gateway: 4002\n"
     ]
    },
    {
     "name": "stdout",
     "output_type": "stream",
     "text": [
      "processing WMT for 20230115 23:59:59 US/Eastern took   3.06 sec\n",
      "processing 20230214 23:59:59 US/Eastern\n"
     ]
    },
    {
     "name": "stderr",
     "output_type": "stream",
     "text": [
      "ERROR -1 502 Couldn't connect to TWS. Confirm that \"Enable ActiveX and Socket EClients\" \n",
      "is enabled and connection port is the same as \"Socket Port\" on the \n",
      "TWS \"Edit->Global Configuration...->API->Settings\" menu. Live Trading ports: \n",
      "TWS: 7496; IB Gateway: 4001. Simulated Trading ports for new installations \n",
      "of version 954.1 or newer:  TWS: 7497; IB Gateway: 4002\n"
     ]
    },
    {
     "name": "stdout",
     "output_type": "stream",
     "text": [
      "processing WMT for 20230214 23:59:59 US/Eastern took   3.06 sec\n",
      "processing 20230316 23:59:59 US/Eastern\n"
     ]
    },
    {
     "name": "stderr",
     "output_type": "stream",
     "text": [
      "ERROR -1 502 Couldn't connect to TWS. Confirm that \"Enable ActiveX and Socket EClients\" \n",
      "is enabled and connection port is the same as \"Socket Port\" on the \n",
      "TWS \"Edit->Global Configuration...->API->Settings\" menu. Live Trading ports: \n",
      "TWS: 7496; IB Gateway: 4001. Simulated Trading ports for new installations \n",
      "of version 954.1 or newer:  TWS: 7497; IB Gateway: 4002\n"
     ]
    },
    {
     "name": "stdout",
     "output_type": "stream",
     "text": [
      "processing WMT for 20230316 23:59:59 US/Eastern took   3.04 sec\n"
     ]
    }
   ],
   "source": [
    "durationStr = \"30 D\"\n",
    "barSizeSetting = \"1 min\"\n",
    "whatToShow = \"TRADES\"\n",
    "\n",
    "bdays = pd.bdate_range(start=\"2020-01-01\", end=\"2023-04-10\", freq=durationStr)\n",
    "\n",
    "for stock in dow:\n",
    "    print(f\"Processing {stock}\")\n",
    "    stock_df = pd.DataFrame()\n",
    "    for bday in bdays:\n",
    "        start_time = time.time()\n",
    "\n",
    "        endDateTime = (str(bday.replace(hour=23, minute=59, second=59)) + \" US/Eastern\").replace(\"-\",\"\")\n",
    "\n",
    "        print(f\"processing {endDateTime}\")\n",
    "\n",
    "        dloader = HistoricalBarDataLoader()\n",
    "\n",
    "        dloader.fetch(\n",
    "            stock, endDateTime, \"30 D\", barSizeSetting, whatToShow, useRTH=0\n",
    "        )\n",
    "\n",
    "        df = dloader.bars_to_df()\n",
    "\n",
    "        if stock_df.empty:\n",
    "            stock_df = df\n",
    "        else:\n",
    "            stock_df = pd.concat([stock_df, df])\n",
    "\n",
    "        stock_df.to_csv(f\"data/dow/trade_1_min_bars/{stock}.csv\", index=False)\n",
    "\n",
    "        end_time = time.time()\n",
    "        print(f\"processing {stock} for {endDateTime} took {end_time - start_time : 6.2f} sec\")\n",
    "\n",
    "    stock_df.to_csv(f\"data/dow/trade_1_min_bars/{stock}.csv\", index=False)"
   ]
  },
  {
   "attachments": {},
   "cell_type": "markdown",
   "metadata": {},
   "source": [
    "## Download SP500 data since Jan 2010"
   ]
  },
  {
   "cell_type": "code",
   "execution_count": null,
   "metadata": {},
   "outputs": [],
   "source": [
    "durationStr = \"30 D\"\n",
    "barSizeSetting = \"1 min\"\n",
    "whatToShow = \"TRADES\"\n",
    "\n",
    "bdays = pd.bdate_range(start=\"2010-01-01\", end=\"2023-04-10\", freq=durationStr)\n",
    "\n",
    "for stock in sp500:\n",
    "    print(f\"Processing {stock}\")\n",
    "    stock_df = pd.DataFrame()\n",
    "    for bday in bdays:\n",
    "        start_time = time.time()\n",
    "\n",
    "        endDateTime = (str(bday.replace(hour=23, minute=59, second=59)) + \" US/Eastern\").replace(\"-\",\"\")\n",
    "\n",
    "        print(f\"processing {endDateTime}\")\n",
    "\n",
    "        dloader = HistoricalBarDataLoader()\n",
    "\n",
    "        dloader.fetch(\n",
    "            stock, endDateTime, \"30 D\", barSizeSetting, whatToShow, useRTH=0\n",
    "        )\n",
    "\n",
    "        df = dloader.bars_to_df()\n",
    "\n",
    "        if stock_df.empty:\n",
    "            stock_df = df\n",
    "        else:\n",
    "            stock_df = pd.concat([stock_df, df])\n",
    "\n",
    "        stock_df.to_csv(f\"data/sp500/trade_1_min_bars/{stock}.csv\", index=False)\n",
    "\n",
    "        end_time = time.time()\n",
    "        print(f\"processing {stock} for {endDateTime} took {end_time - start_time : 6.2f} sec\")\n",
    "\n",
    "    stock_df.to_csv(f\"data/sp500/trade_1_min_bars/{stock}.csv\", index=False)"
   ]
  }
 ],
 "metadata": {
  "kernelspec": {
   "display_name": "ib",
   "language": "python",
   "name": "python3"
  },
  "language_info": {
   "codemirror_mode": {
    "name": "ipython",
    "version": 3
   },
   "file_extension": ".py",
   "mimetype": "text/x-python",
   "name": "python",
   "nbconvert_exporter": "python",
   "pygments_lexer": "ipython3",
   "version": "3.9.13"
  },
  "orig_nbformat": 4
 },
 "nbformat": 4,
 "nbformat_minor": 2
}
